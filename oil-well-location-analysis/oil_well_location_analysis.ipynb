{
 "cells": [
  {
   "cell_type": "markdown",
   "metadata": {},
   "source": [
    "# Oil well development locational analysis"
   ]
  },
  {
   "cell_type": "markdown",
   "metadata": {},
   "source": [
    "OilyGiant mining company is building a new oil well development. There are 3 possible regions to where the development can be established. Each region has different characteristics and volume of oil reserves that help determine its suitability for a new well development. The question is, which region is most suitable and will bring in the most profit based on this criteria? The modeling analysis and profit calculations in this report detail which regions are profitable, which ones are not, and provides recommendations for which location OilyGiant should consider for a new oil well development."
   ]
  },
  {
   "cell_type": "markdown",
   "metadata": {},
   "source": [
    "## Initialization"
   ]
  },
  {
   "cell_type": "code",
   "execution_count": 16,
   "metadata": {},
   "outputs": [],
   "source": [
    "# Load all libraries and modules\n",
    "import pandas as pd\n",
    "import numpy as np\n",
    "from sklearn.model_selection import train_test_split\n",
    "from sklearn.linear_model import LinearRegression\n",
    "from sklearn.model_selection import cross_val_score\n",
    "from sklearn.metrics import mean_squared_error\n",
    "import matplotlib.pyplot as plt\n",
    "import seaborn as sns\n",
    "import plotly.graph_objects as go"
   ]
  },
  {
   "cell_type": "markdown",
   "metadata": {},
   "source": [
    "## Load data"
   ]
  },
  {
   "cell_type": "code",
   "execution_count": 17,
   "metadata": {},
   "outputs": [],
   "source": [
    "# Load data into three pandas DataFrames\n",
    "data_0_url = 'https://raw.githubusercontent.com/rmodesitt/data-projects-TripleTen/refs/heads/main/oil-well-location-analysis/geo_data_0.csv'\n",
    "data_1_url = 'https://raw.githubusercontent.com/rmodesitt/data-projects-TripleTen/refs/heads/main/oil-well-location-analysis/geo_data_1.csv'\n",
    "data_2_url = 'https://raw.githubusercontent.com/rmodesitt/data-projects-TripleTen/refs/heads/main/oil-well-location-analysis/geo_data_2.csv'\n",
    "data_0 = pd.read_csv(data_0_url)\n",
    "data_1 = pd.read_csv(data_1_url)\n",
    "data_2 = pd.read_csv(data_2_url)"
   ]
  },
  {
   "cell_type": "markdown",
   "metadata": {},
   "source": [
    "## Data overview\n",
    "\n",
    "The bulleted list below provides brief descriptions of the data provided in the three imported csv files. Each csv file, denoted <b>data_0</b>, <b>data_1</b>, and <b>data_2</b>, represents information about the region and its potential for a new oil well development. Each record represents one oil well in the region. <b><mark>f0</mark></b>, <b><mark>f1</mark></b>, and <b><mark>f2</mark></b> represent different characteristics of the well and <b><mark>product</mark></b> represents the volume of oil reserves (per thousand barrels).\n",
    "\n",
    "- <b><mark>id</mark></b> - unique oil well identifier\n",
    "- <b><mark>f0</mark></b>, <b><mark>f1</mark></b>, <b><mark>f2</mark></b> - three features of points (their specific meaning is unimportant, but the features themselves are significant)\n",
    "- <b><mark>product</mark></b> - volume of reserves in the oil well (thousand barrels)\n",
    "\n",
    "Below is a more thorough dive into the data. A general summary of the DataFrame and some extended analysis on certain columns adds more insight in what data the model will be working with."
   ]
  },
  {
   "cell_type": "markdown",
   "metadata": {},
   "source": [
    "### General summary\n",
    "\n",
    "For each dataset, there is a total of 5 columns with a total of 100,000 records - that is, there is information on 100,000 different oil wells within each region. 4 fields are of a float data type and 1 is an object data type. There are also no missing values for any of the records. Some general observations about the columns include:\n",
    "\n",
    "- <b><mark>id</mark></b> - is nonessential data from a modeling perspective. It doesn't provide any information about the oil well and only serves as a unique identifier\n",
    "- <b><mark>f0</mark></b>, <b><mark>f1</mark></b>, and <b><mark>f2</mark></b> - Even though the meaning behind these columns is largely unknown, just by looking at a few of the records it seems that negative values correlate to a lower volume of oil reserves, whereas higher, positive values correlate to a higher volume of oil reserves. These columns represent the <b>features</b> of the model\n",
    "- <b><mark>product</mark></b> - this represents the <b>target</b>. The model will try to predict the volume of oil reserves each well contains"
   ]
  },
  {
   "cell_type": "code",
   "execution_count": 18,
   "metadata": {},
   "outputs": [
    {
     "name": "stdout",
     "output_type": "stream",
     "text": [
      "<class 'pandas.core.frame.DataFrame'>\n",
      "RangeIndex: 100000 entries, 0 to 99999\n",
      "Data columns (total 5 columns):\n",
      " #   Column   Non-Null Count   Dtype  \n",
      "---  ------   --------------   -----  \n",
      " 0   id       100000 non-null  object \n",
      " 1   f0       100000 non-null  float64\n",
      " 2   f1       100000 non-null  float64\n",
      " 3   f2       100000 non-null  float64\n",
      " 4   product  100000 non-null  float64\n",
      "dtypes: float64(4), object(1)\n",
      "memory usage: 3.8+ MB\n"
     ]
    },
    {
     "data": {
      "text/html": [
       "<div>\n",
       "<style scoped>\n",
       "    .dataframe tbody tr th:only-of-type {\n",
       "        vertical-align: middle;\n",
       "    }\n",
       "\n",
       "    .dataframe tbody tr th {\n",
       "        vertical-align: top;\n",
       "    }\n",
       "\n",
       "    .dataframe thead th {\n",
       "        text-align: right;\n",
       "    }\n",
       "</style>\n",
       "<table border=\"1\" class=\"dataframe\">\n",
       "  <thead>\n",
       "    <tr style=\"text-align: right;\">\n",
       "      <th></th>\n",
       "      <th>id</th>\n",
       "      <th>f0</th>\n",
       "      <th>f1</th>\n",
       "      <th>f2</th>\n",
       "      <th>product</th>\n",
       "    </tr>\n",
       "  </thead>\n",
       "  <tbody>\n",
       "    <tr>\n",
       "      <th>0</th>\n",
       "      <td>txEyH</td>\n",
       "      <td>0.705745</td>\n",
       "      <td>-0.497823</td>\n",
       "      <td>1.221170</td>\n",
       "      <td>105.280062</td>\n",
       "    </tr>\n",
       "    <tr>\n",
       "      <th>1</th>\n",
       "      <td>2acmU</td>\n",
       "      <td>1.334711</td>\n",
       "      <td>-0.340164</td>\n",
       "      <td>4.365080</td>\n",
       "      <td>73.037750</td>\n",
       "    </tr>\n",
       "    <tr>\n",
       "      <th>2</th>\n",
       "      <td>409Wp</td>\n",
       "      <td>1.022732</td>\n",
       "      <td>0.151990</td>\n",
       "      <td>1.419926</td>\n",
       "      <td>85.265647</td>\n",
       "    </tr>\n",
       "    <tr>\n",
       "      <th>3</th>\n",
       "      <td>iJLyR</td>\n",
       "      <td>-0.032172</td>\n",
       "      <td>0.139033</td>\n",
       "      <td>2.978566</td>\n",
       "      <td>168.620776</td>\n",
       "    </tr>\n",
       "    <tr>\n",
       "      <th>4</th>\n",
       "      <td>Xdl7t</td>\n",
       "      <td>1.988431</td>\n",
       "      <td>0.155413</td>\n",
       "      <td>4.751769</td>\n",
       "      <td>154.036647</td>\n",
       "    </tr>\n",
       "  </tbody>\n",
       "</table>\n",
       "</div>"
      ],
      "text/plain": [
       "      id        f0        f1        f2     product\n",
       "0  txEyH  0.705745 -0.497823  1.221170  105.280062\n",
       "1  2acmU  1.334711 -0.340164  4.365080   73.037750\n",
       "2  409Wp  1.022732  0.151990  1.419926   85.265647\n",
       "3  iJLyR -0.032172  0.139033  2.978566  168.620776\n",
       "4  Xdl7t  1.988431  0.155413  4.751769  154.036647"
      ]
     },
     "metadata": {},
     "output_type": "display_data"
    }
   ],
   "source": [
    "# Generate summary of region 0\n",
    "data_0.info()\n",
    "display(data_0.head())"
   ]
  },
  {
   "cell_type": "code",
   "execution_count": 19,
   "metadata": {},
   "outputs": [
    {
     "name": "stdout",
     "output_type": "stream",
     "text": [
      "<class 'pandas.core.frame.DataFrame'>\n",
      "RangeIndex: 100000 entries, 0 to 99999\n",
      "Data columns (total 5 columns):\n",
      " #   Column   Non-Null Count   Dtype  \n",
      "---  ------   --------------   -----  \n",
      " 0   id       100000 non-null  object \n",
      " 1   f0       100000 non-null  float64\n",
      " 2   f1       100000 non-null  float64\n",
      " 3   f2       100000 non-null  float64\n",
      " 4   product  100000 non-null  float64\n",
      "dtypes: float64(4), object(1)\n",
      "memory usage: 3.8+ MB\n"
     ]
    },
    {
     "data": {
      "text/html": [
       "<div>\n",
       "<style scoped>\n",
       "    .dataframe tbody tr th:only-of-type {\n",
       "        vertical-align: middle;\n",
       "    }\n",
       "\n",
       "    .dataframe tbody tr th {\n",
       "        vertical-align: top;\n",
       "    }\n",
       "\n",
       "    .dataframe thead th {\n",
       "        text-align: right;\n",
       "    }\n",
       "</style>\n",
       "<table border=\"1\" class=\"dataframe\">\n",
       "  <thead>\n",
       "    <tr style=\"text-align: right;\">\n",
       "      <th></th>\n",
       "      <th>id</th>\n",
       "      <th>f0</th>\n",
       "      <th>f1</th>\n",
       "      <th>f2</th>\n",
       "      <th>product</th>\n",
       "    </tr>\n",
       "  </thead>\n",
       "  <tbody>\n",
       "    <tr>\n",
       "      <th>0</th>\n",
       "      <td>kBEdx</td>\n",
       "      <td>-15.001348</td>\n",
       "      <td>-8.276000</td>\n",
       "      <td>-0.005876</td>\n",
       "      <td>3.179103</td>\n",
       "    </tr>\n",
       "    <tr>\n",
       "      <th>1</th>\n",
       "      <td>62mP7</td>\n",
       "      <td>14.272088</td>\n",
       "      <td>-3.475083</td>\n",
       "      <td>0.999183</td>\n",
       "      <td>26.953261</td>\n",
       "    </tr>\n",
       "    <tr>\n",
       "      <th>2</th>\n",
       "      <td>vyE1P</td>\n",
       "      <td>6.263187</td>\n",
       "      <td>-5.948386</td>\n",
       "      <td>5.001160</td>\n",
       "      <td>134.766305</td>\n",
       "    </tr>\n",
       "    <tr>\n",
       "      <th>3</th>\n",
       "      <td>KcrkZ</td>\n",
       "      <td>-13.081196</td>\n",
       "      <td>-11.506057</td>\n",
       "      <td>4.999415</td>\n",
       "      <td>137.945408</td>\n",
       "    </tr>\n",
       "    <tr>\n",
       "      <th>4</th>\n",
       "      <td>AHL4O</td>\n",
       "      <td>12.702195</td>\n",
       "      <td>-8.147433</td>\n",
       "      <td>5.004363</td>\n",
       "      <td>134.766305</td>\n",
       "    </tr>\n",
       "  </tbody>\n",
       "</table>\n",
       "</div>"
      ],
      "text/plain": [
       "      id         f0         f1        f2     product\n",
       "0  kBEdx -15.001348  -8.276000 -0.005876    3.179103\n",
       "1  62mP7  14.272088  -3.475083  0.999183   26.953261\n",
       "2  vyE1P   6.263187  -5.948386  5.001160  134.766305\n",
       "3  KcrkZ -13.081196 -11.506057  4.999415  137.945408\n",
       "4  AHL4O  12.702195  -8.147433  5.004363  134.766305"
      ]
     },
     "metadata": {},
     "output_type": "display_data"
    }
   ],
   "source": [
    "# Generate summary of region 1\n",
    "data_1.info()\n",
    "display(data_1.head())"
   ]
  },
  {
   "cell_type": "code",
   "execution_count": 20,
   "metadata": {},
   "outputs": [
    {
     "name": "stdout",
     "output_type": "stream",
     "text": [
      "<class 'pandas.core.frame.DataFrame'>\n",
      "RangeIndex: 100000 entries, 0 to 99999\n",
      "Data columns (total 5 columns):\n",
      " #   Column   Non-Null Count   Dtype  \n",
      "---  ------   --------------   -----  \n",
      " 0   id       100000 non-null  object \n",
      " 1   f0       100000 non-null  float64\n",
      " 2   f1       100000 non-null  float64\n",
      " 3   f2       100000 non-null  float64\n",
      " 4   product  100000 non-null  float64\n",
      "dtypes: float64(4), object(1)\n",
      "memory usage: 3.8+ MB\n"
     ]
    },
    {
     "data": {
      "text/html": [
       "<div>\n",
       "<style scoped>\n",
       "    .dataframe tbody tr th:only-of-type {\n",
       "        vertical-align: middle;\n",
       "    }\n",
       "\n",
       "    .dataframe tbody tr th {\n",
       "        vertical-align: top;\n",
       "    }\n",
       "\n",
       "    .dataframe thead th {\n",
       "        text-align: right;\n",
       "    }\n",
       "</style>\n",
       "<table border=\"1\" class=\"dataframe\">\n",
       "  <thead>\n",
       "    <tr style=\"text-align: right;\">\n",
       "      <th></th>\n",
       "      <th>id</th>\n",
       "      <th>f0</th>\n",
       "      <th>f1</th>\n",
       "      <th>f2</th>\n",
       "      <th>product</th>\n",
       "    </tr>\n",
       "  </thead>\n",
       "  <tbody>\n",
       "    <tr>\n",
       "      <th>0</th>\n",
       "      <td>fwXo0</td>\n",
       "      <td>-1.146987</td>\n",
       "      <td>0.963328</td>\n",
       "      <td>-0.828965</td>\n",
       "      <td>27.758673</td>\n",
       "    </tr>\n",
       "    <tr>\n",
       "      <th>1</th>\n",
       "      <td>WJtFt</td>\n",
       "      <td>0.262778</td>\n",
       "      <td>0.269839</td>\n",
       "      <td>-2.530187</td>\n",
       "      <td>56.069697</td>\n",
       "    </tr>\n",
       "    <tr>\n",
       "      <th>2</th>\n",
       "      <td>ovLUW</td>\n",
       "      <td>0.194587</td>\n",
       "      <td>0.289035</td>\n",
       "      <td>-5.586433</td>\n",
       "      <td>62.871910</td>\n",
       "    </tr>\n",
       "    <tr>\n",
       "      <th>3</th>\n",
       "      <td>q6cA6</td>\n",
       "      <td>2.236060</td>\n",
       "      <td>-0.553760</td>\n",
       "      <td>0.930038</td>\n",
       "      <td>114.572842</td>\n",
       "    </tr>\n",
       "    <tr>\n",
       "      <th>4</th>\n",
       "      <td>WPMUX</td>\n",
       "      <td>-0.515993</td>\n",
       "      <td>1.716266</td>\n",
       "      <td>5.899011</td>\n",
       "      <td>149.600746</td>\n",
       "    </tr>\n",
       "  </tbody>\n",
       "</table>\n",
       "</div>"
      ],
      "text/plain": [
       "      id        f0        f1        f2     product\n",
       "0  fwXo0 -1.146987  0.963328 -0.828965   27.758673\n",
       "1  WJtFt  0.262778  0.269839 -2.530187   56.069697\n",
       "2  ovLUW  0.194587  0.289035 -5.586433   62.871910\n",
       "3  q6cA6  2.236060 -0.553760  0.930038  114.572842\n",
       "4  WPMUX -0.515993  1.716266  5.899011  149.600746"
      ]
     },
     "metadata": {},
     "output_type": "display_data"
    }
   ],
   "source": [
    "# Generate summary of region 2\n",
    "data_2.info()\n",
    "display(data_2.head())"
   ]
  },
  {
   "cell_type": "markdown",
   "metadata": {},
   "source": [
    "### Extended analysis\n",
    "\n",
    "Additional analysis was performed on certain fields to get a better understanding on some of the data specifics. First, value ranges were gathered for the <b><mark>f0</mark></b>, <b><mark>f1</mark></b>, and <b><mark>f2</mark></b> fields. Here are some observations.\n",
    "\n",
    "- <b><mark>f0</mark></b>\n",
    "    - <b>data_0</b> has a small value range hovering around 0, spanning from -1 to 2\n",
    "    - <b>data_1</b> has a large value range, spanning from -31 to 29\n",
    "    - <b>data_2</b> has an intermediate value range, bigger than <b>data_0</b>, spanning from -8 to 7\n",
    "- <b><mark>f1</mark></b>\n",
    "    - <b>data_0</b> has a small value range hovering around 0, similar to the <b><mark>f0</mark></b>, spanning from -1 to 1\n",
    "    - <b>data_1</b> has a large value range, similar to the <b><mark>f0</mark></b>, spanning from -26 to 18\n",
    "    - <b>data_2</b> has an intermediate value range, similar to the <b><mark>f0</mark></b>, spanning from -7 to 7\n",
    "- <b><mark>f2</mark></b>\n",
    "    - <b>data_0</b> has a larger value range than we have seen with the other features, spanning from -12 to 16\n",
    "    - <b>data_1</b> has a small value range, spanning from 0 to 5\n",
    "    - <b>data_2</b> has a larger value range than we have seen with the other features, spanning from -12 to 16\n",
    "    \n",
    "It still difficult to deduce what the features actually mean, but this information does provide good insight into what values might negatively or positively impact the region's ability to support an oil well development. Larger value ranges with more negative values are most likely going to have a negative impact on the region's suitability, and the inverse is true for value ranges with less or no negative values.\n",
    "    \n",
    "Value ranges and total sums were also gathered for the </b></mark>product</mark></b> field.\n",
    "\n",
    "- <b>data_0</b> had a range of 0 to 185, and sum of 9,250,000\n",
    "- <b>data_1</b> had a range of 0 to 138, and sum of 6,882,500\n",
    "- <b>data_2</b> had a range of 0 to 190, and sum of 9,500,000\n",
    "\n",
    "At first glance, the <b>data_1</b> region seems like it would not be a suitable location for a oil well development due to it's high range of negative values for the <b><mark>f0</mark></b>, <b><mark>f1</mark></b>, and <b><mark>f2</mark></b> fields, and the lesser amount of oil reserves in the region. But we don't need to rely on first glances! Predictive modeling and analysis is going to bring light to this assumption. On to building a machine learning model!\n"
   ]
  },
  {
   "cell_type": "code",
   "execution_count": 21,
   "metadata": {},
   "outputs": [
    {
     "name": "stdout",
     "output_type": "stream",
     "text": [
      "f0 value range\n",
      "\n",
      "DATA_0\n",
      "-1.408605306026996 - 2.362330810854224\n",
      "\n",
      "DATA_1\n",
      "-31.609576019167687 - 29.42175461390372\n",
      "\n",
      "DATA_2\n",
      "-8.760003624213763 - 7.23826247979405\n"
     ]
    },
    {
     "data": {
      "image/png": "[encoded data removed]",
      "text/plain": [
       "<Figure size 640x480 with 1 Axes>"
      ]
     },
     "metadata": {},
     "output_type": "display_data"
    }
   ],
   "source": [
    "# Retrieve the range of f0 values for each region\n",
    "print('f0 value range')\n",
    "print()\n",
    "print('DATA_0')\n",
    "data_0_f0_min = data_0['f0'].min()\n",
    "data_0_f0_max = data_0['f0'].max()\n",
    "print(data_0_f0_min, '-', data_0_f0_max)\n",
    "print()\n",
    "print('DATA_1')\n",
    "data_1_f0_min = data_1['f0'].min()\n",
    "data_1_f0_max = data_1['f0'].max()\n",
    "print(data_1_f0_min, '-', data_1_f0_max)\n",
    "print()\n",
    "print('DATA_2')\n",
    "data_2_f0_min = data_2['f0'].min()\n",
    "data_2_f0_max = data_2['f0'].max()\n",
    "print(data_2_f0_min, '-', data_2_f0_max)\n",
    "\n",
    "# Plot histogram\n",
    "data_0_f0 = data_0['f0']\n",
    "data_1_f0 = data_1['f0']\n",
    "data_2_f0 = data_2['f0']\n",
    "\n",
    "plt.hist(data_0_f0, histtype='stepfilled', bins=5, color='cyan', edgecolor=None, alpha=0.5)\n",
    "plt.hist(data_1_f0, bins=30, histtype='stepfilled', color='purple', edgecolor=None, alpha=0.5)\n",
    "plt.hist(data_2_f0, bins=30, histtype='stepfilled', color='orange', edgecolor=None, alpha=0.5)\n",
    "plt.xlabel('F0 values', fontweight='bold')\n",
    "plt.ylabel('Frequency')\n",
    "plt.title(\"'F0' value range histogram\", fontweight='bold')\n",
    "plt.legend(['Region 1', 'Region 2', 'Region 3'], facecolor='white', framealpha=1.0)\n",
    "plt.show()"
   ]
  },
  {
   "cell_type": "code",
   "execution_count": 22,
   "metadata": {},
   "outputs": [
    {
     "name": "stdout",
     "output_type": "stream",
     "text": [
      "f1 value range\n",
      "\n",
      "DATA_0\n",
      "-0.8482184970082173 - 1.343769333804496\n",
      "\n",
      "DATA_1\n",
      "-26.358598008345872 - 18.73406263373076\n",
      "\n",
      "DATA_2\n",
      "-7.084019760867246 - 7.844801270084258\n"
     ]
    },
    {
     "data": {
      "image/png": "[encoded data removed]",
      "text/plain": [
       "<Figure size 640x480 with 1 Axes>"
      ]
     },
     "metadata": {},
     "output_type": "display_data"
    }
   ],
   "source": [
    "# Retrieve the range of f1 values for each region\n",
    "print('f1 value range')\n",
    "print()\n",
    "print('DATA_0')\n",
    "data_0_f1_min = data_0['f1'].min()\n",
    "data_0_f1_max = data_0['f1'].max()\n",
    "print(data_0_f1_min, '-', data_0_f1_max)\n",
    "print()\n",
    "print('DATA_1')\n",
    "data_1_f1_min = data_1['f1'].min()\n",
    "data_1_f1_max = data_1['f1'].max()\n",
    "print(data_1_f1_min, '-', data_1_f1_max)\n",
    "print()\n",
    "print('DATA_2')\n",
    "data_2_f1_min = data_2['f1'].min()\n",
    "data_2_f1_max = data_2['f1'].max()\n",
    "print(data_2_f1_min, '-', data_2_f1_max)\n",
    "\n",
    "# Plot histogram\n",
    "data_0_f1 = data_0['f1']\n",
    "data_1_f1 = data_1['f1']\n",
    "data_2_f1 = data_2['f1']\n",
    "\n",
    "plt.hist(data_0_f1, histtype='stepfilled', bins=5, color='cyan', edgecolor=None, alpha=0.5)\n",
    "plt.hist(data_1_f1, bins=30, histtype='stepfilled', color='purple', edgecolor=None, alpha=0.5)\n",
    "plt.hist(data_2_f1, bins=30, histtype='stepfilled', color='orange', edgecolor=None, alpha=0.5)\n",
    "plt.xlabel('F1 values', fontweight='bold')\n",
    "plt.ylabel('Frequency')\n",
    "plt.title(\"'F1' value range histogram\", fontweight='bold')\n",
    "plt.legend(['Region 1', 'Region 2', 'Region 3'], facecolor='white', framealpha=1.0)\n",
    "plt.show()"
   ]
  },
  {
   "cell_type": "code",
   "execution_count": 23,
   "metadata": {},
   "outputs": [
    {
     "name": "stdout",
     "output_type": "stream",
     "text": [
      "f2 value range\n",
      "\n",
      "DATA_0\n",
      "-12.08832811806336 - 16.003790007695365\n",
      "\n",
      "DATA_1\n",
      "-0.0181440867134202 - 5.019720555223062\n",
      "\n",
      "DATA_2\n",
      "-11.97033454147699 - 16.73940205869952\n"
     ]
    },
    {
     "data": {
      "image/png": "[encoded data removed]",
      "text/plain": [
       "<Figure size 640x480 with 1 Axes>"
      ]
     },
     "metadata": {},
     "output_type": "display_data"
    }
   ],
   "source": [
    "# Retrieve the range of f2 values for each region\n",
    "print('f2 value range')\n",
    "print()\n",
    "print('DATA_0')\n",
    "data_0_f2_min = data_0['f2'].min()\n",
    "data_0_f2_max = data_0['f2'].max()\n",
    "print(data_0_f2_min, '-', data_0_f2_max)\n",
    "print()\n",
    "print('DATA_1')\n",
    "data_1_f2_min = data_1['f2'].min()\n",
    "data_1_f2_max = data_1['f2'].max()\n",
    "print(data_1_f2_min, '-', data_1_f2_max)\n",
    "print()\n",
    "print('DATA_2')\n",
    "data_2_f2_min = data_2['f2'].min()\n",
    "data_2_f2_max = data_2['f2'].max()\n",
    "print(data_2_f2_min, '-', data_2_f2_max)\n",
    "\n",
    "# Plot histogram\n",
    "data_0_f2 = data_0['f2']\n",
    "data_1_f2 = data_1['f2']\n",
    "data_2_f2 = data_2['f2']\n",
    "\n",
    "plt.hist(data_0_f2, histtype='stepfilled', bins=30, color='cyan', edgecolor=None, alpha=0.5)\n",
    "plt.hist(data_1_f2, bins=5, histtype='stepfilled', color='purple', edgecolor=None, alpha=0.5)\n",
    "plt.hist(data_2_f2, bins=30, histtype='stepfilled', color='orange', edgecolor=None, alpha=0.5)\n",
    "plt.xlabel('F2 values', fontweight='bold')\n",
    "plt.ylabel('Frequency')\n",
    "plt.title(\"'F2' value range histogram\", fontweight='bold')\n",
    "plt.legend(['Region 1', 'Region 2', 'Region 3'], facecolor='white', framealpha=1.0)\n",
    "plt.show()"
   ]
  },
  {
   "cell_type": "code",
   "execution_count": 24,
   "metadata": {},
   "outputs": [
    {
     "name": "stdout",
     "output_type": "stream",
     "text": [
      "product value range\n",
      "\n",
      "DATA_0\n",
      "0.0 - 185.3643474222929\n",
      "\n",
      "DATA_1\n",
      "0.0 - 137.94540774090564\n",
      "\n",
      "DATA_2\n",
      "0.0 - 190.0298383433513\n"
     ]
    }
   ],
   "source": [
    "# Retrieve the range of values for product for each region\n",
    "print('product value range')\n",
    "print()\n",
    "print('DATA_0')\n",
    "print(data_0['product'].min(), '-', data_0['product'].max())\n",
    "print()\n",
    "print('DATA_1')\n",
    "print(data_1['product'].min(), '-', data_1['product'].max())\n",
    "print()\n",
    "print('DATA_2')\n",
    "print(data_2['product'].min(), '-', data_2['product'].max())"
   ]
  },
  {
   "cell_type": "code",
   "execution_count": 25,
   "metadata": {},
   "outputs": [
    {
     "name": "stdout",
     "output_type": "stream",
     "text": [
      "product value range\n",
      "\n",
      "DATA_0\n",
      "0.0 - 185.3643474222929\n",
      "\n",
      "DATA_1\n",
      "0.0 - 137.94540774090564\n",
      "\n",
      "DATA_2\n",
      "0.0 - 190.0298383433513\n"
     ]
    },
    {
     "data": {
      "image/png": "[encoded data removed]",
      "text/plain": [
       "<Figure size 640x480 with 1 Axes>"
      ]
     },
     "metadata": {},
     "output_type": "display_data"
    }
   ],
   "source": [
    "# Retrieve the range of f2 values for each region\n",
    "print('product value range')\n",
    "print()\n",
    "print('DATA_0')\n",
    "data_0_product_min = data_0['product'].min()\n",
    "data_0_product_max = data_0['product'].max()\n",
    "print(data_0_product_min, '-', data_0_product_max)\n",
    "print()\n",
    "print('DATA_1')\n",
    "data_1_product_min = data_1['product'].min()\n",
    "data_1_product_max = data_1['product'].max()\n",
    "print(data_1_product_min, '-', data_1_product_max)\n",
    "print()\n",
    "print('DATA_2')\n",
    "data_2_product_min = data_2['product'].min()\n",
    "data_2_product_max = data_2['product'].max()\n",
    "print(data_2_product_min, '-', data_2_product_max)\n",
    "\n",
    "# Plot histogram\n",
    "data_0_product = data_0['product']\n",
    "data_1_product = data_1['product']\n",
    "data_2_product = data_2['product']\n",
    "\n",
    "plt.hist(data_0_product, histtype='stepfilled', bins=30, color='cyan', edgecolor=None, alpha=0.5, zorder=1)\n",
    "plt.hist(data_1_product, bins=30, histtype='stepfilled', color='purple', edgecolor=None, alpha=0.5, zorder=1)\n",
    "plt.hist(data_2_product, bins=30, histtype='stepfilled', color='orange', edgecolor=None, alpha=0.5, zorder=1)\n",
    "plt.xlabel('Product values', fontweight='bold')\n",
    "plt.ylabel('Frequency')\n",
    "plt.title(\"'Product' value range histogram\", fontweight='bold')\n",
    "plt.legend(['Region 1', 'Region 2', 'Region 3'], facecolor='white', framealpha=1.0)\n",
    "plt.show()"
   ]
  },
  {
   "cell_type": "code",
   "execution_count": 26,
   "metadata": {},
   "outputs": [
    {
     "name": "stdout",
     "output_type": "stream",
     "text": [
      "product value range\n",
      "\n",
      "DATA_0\n",
      "9250000.0\n",
      "\n",
      "DATA_1\n",
      "6882500.0\n",
      "\n",
      "DATA_2\n",
      "9500000.0\n"
     ]
    },
    {
     "data": {
      "image/png": "[encoded data removed]",
      "text/plain": [
       "<Figure size 640x480 with 1 Axes>"
      ]
     },
     "metadata": {},
     "output_type": "display_data"
    }
   ],
   "source": [
    "# Get the sum of product for each region\n",
    "print('product value range')\n",
    "print()\n",
    "print('DATA_0')\n",
    "data_0_product_sum = round(data_0['product'].sum(), 2)\n",
    "print(data_0_product_sum)\n",
    "print()\n",
    "print('DATA_1')\n",
    "data_1_product_sum = round(data_1['product'].sum(), 2)\n",
    "print(data_1_product_sum)\n",
    "print()\n",
    "print('DATA_2')\n",
    "data_2_product_sum = round(data_2['product'].sum(), 2)\n",
    "print(data_2_product_sum) \n",
    "\n",
    "# Show the plot\n",
    "product_sums = [data_0_product_sum, data_1_product_sum, data_2_product_sum]\n",
    "product_sums_series = pd.Series(product_sums)\n",
    "product_sums_series = product_sums_series.rename(index={0: 'Region 1', 1: 'Region 2', 2: 'Region 3'})\n",
    "\n",
    "plt.title(\"'Product' totals\", fontweight='bold')\n",
    "product_sums_series.plot(kind='bar')\n",
    "plt.xticks(rotation=45)\n",
    "plt.show()"
   ]
  },
  {
   "cell_type": "markdown",
   "metadata": {},
   "source": [
    "## Data preparation\n",
    "\n",
    "All data types for the fields are correct. The meaning of the <b><mark>f0</mark></b>, <b><mark>f1</mark></b>, and <b><mark>f2</mark></b> fields are largely unknown at this point, so changing the type to integer and removing the leading decimal information does not make sense. Also, the <b><mark>product</mark></b> field has revenue and profit implications to it. The amount of oil reserves has a correlation to how much money the region can product. So, even though the amount of money lost or gained could not be substantial if the type was changed to integer, but it is hard to say. It is a safer to leave the data type as is.\n",
    "\n",
    "There were no duplicate rows in the any of the three datasets, but there were duplicate ids in the <b><mark>id</mark></b> column. The amount of duplicates is not substantial compared to the amount of records in the dataset itself, but it is confusing that there is different information on the same exact well. So, it was decided to replace the <b><mark>f0</mark></b>, <b><mark>f1</mark></b>, <b><mark>f2</mark></b>, and <b><mark>product</mark></b> values of the duplicates with the mean of the duplicate records. For example, for the duplicate id <b>74z30</b>, the means of all 4 columns replaced the current values in the dataset. Then the one of the duplicate records was removed.\n",
    "\n",
    "Lastly, it was determined that the <b><mark>id</mark></b> column was not going to be useful in predicting the volume of oil reserves in each region because the column doesn't provide any useful information. It is just a unique identifier of each well. This column has been removed from each dataset so it wouldn't be a part of the features in the models."
   ]
  },
  {
   "cell_type": "markdown",
   "metadata": {},
   "source": [
    "### Duplicate values"
   ]
  },
  {
   "cell_type": "code",
   "execution_count": 27,
   "metadata": {},
   "outputs": [
    {
     "name": "stdout",
     "output_type": "stream",
     "text": [
      "0\n",
      "0\n",
      "0\n"
     ]
    }
   ],
   "source": [
    "# Duplicate rows\n",
    "print(data_0.duplicated().sum())\n",
    "print(data_1.duplicated().sum())\n",
    "print(data_2.duplicated().sum())"
   ]
  },
  {
   "cell_type": "code",
   "execution_count": 28,
   "metadata": {},
   "outputs": [
    {
     "name": "stdout",
     "output_type": "stream",
     "text": [
      "Number of region 1 duplicate records: 20\n"
     ]
    },
    {
     "data": {
      "text/html": [
       "<div>\n",
       "<style scoped>\n",
       "    .dataframe tbody tr th:only-of-type {\n",
       "        vertical-align: middle;\n",
       "    }\n",
       "\n",
       "    .dataframe tbody tr th {\n",
       "        vertical-align: top;\n",
       "    }\n",
       "\n",
       "    .dataframe thead th {\n",
       "        text-align: right;\n",
       "    }\n",
       "</style>\n",
       "<table border=\"1\" class=\"dataframe\">\n",
       "  <thead>\n",
       "    <tr style=\"text-align: right;\">\n",
       "      <th></th>\n",
       "      <th>id</th>\n",
       "      <th>f0</th>\n",
       "      <th>f1</th>\n",
       "      <th>f2</th>\n",
       "      <th>product</th>\n",
       "    </tr>\n",
       "  </thead>\n",
       "  <tbody>\n",
       "    <tr>\n",
       "      <th>66136</th>\n",
       "      <td>74z30</td>\n",
       "      <td>1.084962</td>\n",
       "      <td>-0.312358</td>\n",
       "      <td>6.990771</td>\n",
       "      <td>127.643327</td>\n",
       "    </tr>\n",
       "    <tr>\n",
       "      <th>64022</th>\n",
       "      <td>74z30</td>\n",
       "      <td>0.741456</td>\n",
       "      <td>0.459229</td>\n",
       "      <td>5.153109</td>\n",
       "      <td>140.771492</td>\n",
       "    </tr>\n",
       "    <tr>\n",
       "      <th>51970</th>\n",
       "      <td>A5aEY</td>\n",
       "      <td>-0.180335</td>\n",
       "      <td>0.935548</td>\n",
       "      <td>-2.094773</td>\n",
       "      <td>33.020205</td>\n",
       "    </tr>\n",
       "    <tr>\n",
       "      <th>3389</th>\n",
       "      <td>A5aEY</td>\n",
       "      <td>-0.039949</td>\n",
       "      <td>0.156872</td>\n",
       "      <td>0.209861</td>\n",
       "      <td>89.249364</td>\n",
       "    </tr>\n",
       "    <tr>\n",
       "      <th>69163</th>\n",
       "      <td>AGS9W</td>\n",
       "      <td>-0.933795</td>\n",
       "      <td>0.116194</td>\n",
       "      <td>-3.655896</td>\n",
       "      <td>19.230453</td>\n",
       "    </tr>\n",
       "    <tr>\n",
       "      <th>42529</th>\n",
       "      <td>AGS9W</td>\n",
       "      <td>1.454747</td>\n",
       "      <td>-0.479651</td>\n",
       "      <td>0.683380</td>\n",
       "      <td>126.370504</td>\n",
       "    </tr>\n",
       "    <tr>\n",
       "      <th>931</th>\n",
       "      <td>HZww2</td>\n",
       "      <td>0.755284</td>\n",
       "      <td>0.368511</td>\n",
       "      <td>1.863211</td>\n",
       "      <td>30.681774</td>\n",
       "    </tr>\n",
       "    <tr>\n",
       "      <th>7530</th>\n",
       "      <td>HZww2</td>\n",
       "      <td>1.061194</td>\n",
       "      <td>-0.373969</td>\n",
       "      <td>10.430210</td>\n",
       "      <td>158.828695</td>\n",
       "    </tr>\n",
       "    <tr>\n",
       "      <th>63593</th>\n",
       "      <td>QcMuo</td>\n",
       "      <td>0.635635</td>\n",
       "      <td>-0.473422</td>\n",
       "      <td>0.862670</td>\n",
       "      <td>64.578675</td>\n",
       "    </tr>\n",
       "    <tr>\n",
       "      <th>1949</th>\n",
       "      <td>QcMuo</td>\n",
       "      <td>0.506563</td>\n",
       "      <td>-0.323775</td>\n",
       "      <td>-2.215583</td>\n",
       "      <td>75.496502</td>\n",
       "    </tr>\n",
       "    <tr>\n",
       "      <th>75715</th>\n",
       "      <td>Tdehs</td>\n",
       "      <td>0.112079</td>\n",
       "      <td>0.430296</td>\n",
       "      <td>3.218993</td>\n",
       "      <td>60.964018</td>\n",
       "    </tr>\n",
       "    <tr>\n",
       "      <th>21426</th>\n",
       "      <td>Tdehs</td>\n",
       "      <td>0.829407</td>\n",
       "      <td>0.298807</td>\n",
       "      <td>-0.049563</td>\n",
       "      <td>96.035308</td>\n",
       "    </tr>\n",
       "    <tr>\n",
       "      <th>92341</th>\n",
       "      <td>TtcGQ</td>\n",
       "      <td>0.110711</td>\n",
       "      <td>1.022689</td>\n",
       "      <td>0.911381</td>\n",
       "      <td>101.318008</td>\n",
       "    </tr>\n",
       "    <tr>\n",
       "      <th>60140</th>\n",
       "      <td>TtcGQ</td>\n",
       "      <td>0.569276</td>\n",
       "      <td>-0.104876</td>\n",
       "      <td>6.440215</td>\n",
       "      <td>85.350186</td>\n",
       "    </tr>\n",
       "    <tr>\n",
       "      <th>89582</th>\n",
       "      <td>bsk9y</td>\n",
       "      <td>0.398908</td>\n",
       "      <td>-0.400253</td>\n",
       "      <td>10.122376</td>\n",
       "      <td>163.433078</td>\n",
       "    </tr>\n",
       "    <tr>\n",
       "      <th>97785</th>\n",
       "      <td>bsk9y</td>\n",
       "      <td>0.378429</td>\n",
       "      <td>0.005837</td>\n",
       "      <td>0.160827</td>\n",
       "      <td>160.637302</td>\n",
       "    </tr>\n",
       "    <tr>\n",
       "      <th>41724</th>\n",
       "      <td>bxg6G</td>\n",
       "      <td>-0.823752</td>\n",
       "      <td>0.546319</td>\n",
       "      <td>3.630479</td>\n",
       "      <td>93.007798</td>\n",
       "    </tr>\n",
       "    <tr>\n",
       "      <th>1364</th>\n",
       "      <td>bxg6G</td>\n",
       "      <td>0.411645</td>\n",
       "      <td>0.856830</td>\n",
       "      <td>-3.653440</td>\n",
       "      <td>73.604260</td>\n",
       "    </tr>\n",
       "    <tr>\n",
       "      <th>16633</th>\n",
       "      <td>fiKDv</td>\n",
       "      <td>0.157341</td>\n",
       "      <td>1.028359</td>\n",
       "      <td>5.585586</td>\n",
       "      <td>95.817889</td>\n",
       "    </tr>\n",
       "    <tr>\n",
       "      <th>90815</th>\n",
       "      <td>fiKDv</td>\n",
       "      <td>0.049883</td>\n",
       "      <td>0.841313</td>\n",
       "      <td>6.394613</td>\n",
       "      <td>137.346586</td>\n",
       "    </tr>\n",
       "  </tbody>\n",
       "</table>\n",
       "</div>"
      ],
      "text/plain": [
       "          id        f0        f1         f2     product\n",
       "66136  74z30  1.084962 -0.312358   6.990771  127.643327\n",
       "64022  74z30  0.741456  0.459229   5.153109  140.771492\n",
       "51970  A5aEY -0.180335  0.935548  -2.094773   33.020205\n",
       "3389   A5aEY -0.039949  0.156872   0.209861   89.249364\n",
       "69163  AGS9W -0.933795  0.116194  -3.655896   19.230453\n",
       "42529  AGS9W  1.454747 -0.479651   0.683380  126.370504\n",
       "931    HZww2  0.755284  0.368511   1.863211   30.681774\n",
       "7530   HZww2  1.061194 -0.373969  10.430210  158.828695\n",
       "63593  QcMuo  0.635635 -0.473422   0.862670   64.578675\n",
       "1949   QcMuo  0.506563 -0.323775  -2.215583   75.496502\n",
       "75715  Tdehs  0.112079  0.430296   3.218993   60.964018\n",
       "21426  Tdehs  0.829407  0.298807  -0.049563   96.035308\n",
       "92341  TtcGQ  0.110711  1.022689   0.911381  101.318008\n",
       "60140  TtcGQ  0.569276 -0.104876   6.440215   85.350186\n",
       "89582  bsk9y  0.398908 -0.400253  10.122376  163.433078\n",
       "97785  bsk9y  0.378429  0.005837   0.160827  160.637302\n",
       "41724  bxg6G -0.823752  0.546319   3.630479   93.007798\n",
       "1364   bxg6G  0.411645  0.856830  -3.653440   73.604260\n",
       "16633  fiKDv  0.157341  1.028359   5.585586   95.817889\n",
       "90815  fiKDv  0.049883  0.841313   6.394613  137.346586"
      ]
     },
     "metadata": {},
     "output_type": "display_data"
    }
   ],
   "source": [
    "# Region 1 duplicate ids\n",
    "data_0_dup_ids = data_0[data_0.duplicated(subset=['id'], keep=False)]\n",
    "data_0_dup_ids = data_0_dup_ids.sort_values('id')\n",
    "print('Number of region 1 duplicate records:', data_0_dup_ids.count()['id'])\n",
    "display(data_0_dup_ids)"
   ]
  },
  {
   "cell_type": "code",
   "execution_count": 29,
   "metadata": {},
   "outputs": [
    {
     "name": "stdout",
     "output_type": "stream",
     "text": [
      "Number of region 2 duplicate records: 8\n"
     ]
    },
    {
     "data": {
      "text/html": [
       "<div>\n",
       "<style scoped>\n",
       "    .dataframe tbody tr th:only-of-type {\n",
       "        vertical-align: middle;\n",
       "    }\n",
       "\n",
       "    .dataframe tbody tr th {\n",
       "        vertical-align: top;\n",
       "    }\n",
       "\n",
       "    .dataframe thead th {\n",
       "        text-align: right;\n",
       "    }\n",
       "</style>\n",
       "<table border=\"1\" class=\"dataframe\">\n",
       "  <thead>\n",
       "    <tr style=\"text-align: right;\">\n",
       "      <th></th>\n",
       "      <th>id</th>\n",
       "      <th>f0</th>\n",
       "      <th>f1</th>\n",
       "      <th>f2</th>\n",
       "      <th>product</th>\n",
       "    </tr>\n",
       "  </thead>\n",
       "  <tbody>\n",
       "    <tr>\n",
       "      <th>5849</th>\n",
       "      <td>5ltQ6</td>\n",
       "      <td>-3.435401</td>\n",
       "      <td>-12.296043</td>\n",
       "      <td>1.999796</td>\n",
       "      <td>57.085625</td>\n",
       "    </tr>\n",
       "    <tr>\n",
       "      <th>84461</th>\n",
       "      <td>5ltQ6</td>\n",
       "      <td>18.213839</td>\n",
       "      <td>2.191999</td>\n",
       "      <td>3.993869</td>\n",
       "      <td>107.813044</td>\n",
       "    </tr>\n",
       "    <tr>\n",
       "      <th>1305</th>\n",
       "      <td>LHZR0</td>\n",
       "      <td>11.170835</td>\n",
       "      <td>-1.945066</td>\n",
       "      <td>3.002872</td>\n",
       "      <td>80.859783</td>\n",
       "    </tr>\n",
       "    <tr>\n",
       "      <th>41906</th>\n",
       "      <td>LHZR0</td>\n",
       "      <td>-8.989672</td>\n",
       "      <td>-4.286607</td>\n",
       "      <td>2.009139</td>\n",
       "      <td>57.085625</td>\n",
       "    </tr>\n",
       "    <tr>\n",
       "      <th>2721</th>\n",
       "      <td>bfPNe</td>\n",
       "      <td>-9.494442</td>\n",
       "      <td>-5.463692</td>\n",
       "      <td>4.006042</td>\n",
       "      <td>110.992147</td>\n",
       "    </tr>\n",
       "    <tr>\n",
       "      <th>82178</th>\n",
       "      <td>bfPNe</td>\n",
       "      <td>-6.202799</td>\n",
       "      <td>-4.820045</td>\n",
       "      <td>2.995107</td>\n",
       "      <td>84.038886</td>\n",
       "    </tr>\n",
       "    <tr>\n",
       "      <th>47591</th>\n",
       "      <td>wt4Uk</td>\n",
       "      <td>-9.091098</td>\n",
       "      <td>-8.109279</td>\n",
       "      <td>-0.002314</td>\n",
       "      <td>3.179103</td>\n",
       "    </tr>\n",
       "    <tr>\n",
       "      <th>82873</th>\n",
       "      <td>wt4Uk</td>\n",
       "      <td>10.259972</td>\n",
       "      <td>-9.376355</td>\n",
       "      <td>4.994297</td>\n",
       "      <td>134.766305</td>\n",
       "    </tr>\n",
       "  </tbody>\n",
       "</table>\n",
       "</div>"
      ],
      "text/plain": [
       "          id         f0         f1        f2     product\n",
       "5849   5ltQ6  -3.435401 -12.296043  1.999796   57.085625\n",
       "84461  5ltQ6  18.213839   2.191999  3.993869  107.813044\n",
       "1305   LHZR0  11.170835  -1.945066  3.002872   80.859783\n",
       "41906  LHZR0  -8.989672  -4.286607  2.009139   57.085625\n",
       "2721   bfPNe  -9.494442  -5.463692  4.006042  110.992147\n",
       "82178  bfPNe  -6.202799  -4.820045  2.995107   84.038886\n",
       "47591  wt4Uk  -9.091098  -8.109279 -0.002314    3.179103\n",
       "82873  wt4Uk  10.259972  -9.376355  4.994297  134.766305"
      ]
     },
     "metadata": {},
     "output_type": "display_data"
    }
   ],
   "source": [
    "# Region 2 duplicate ids\n",
    "data_1_dup_ids = data_1[data_1.duplicated(subset=['id'], keep=False)]\n",
    "data_1_dup_ids = data_1_dup_ids.sort_values('id')\n",
    "print('Number of region 2 duplicate records:', data_1_dup_ids.count()['id'])\n",
    "display(data_1_dup_ids)"
   ]
  },
  {
   "cell_type": "code",
   "execution_count": 30,
   "metadata": {},
   "outputs": [
    {
     "name": "stdout",
     "output_type": "stream",
     "text": [
      "Number of region 3 duplicate records: 8\n"
     ]
    },
    {
     "data": {
      "text/html": [
       "<div>\n",
       "<style scoped>\n",
       "    .dataframe tbody tr th:only-of-type {\n",
       "        vertical-align: middle;\n",
       "    }\n",
       "\n",
       "    .dataframe tbody tr th {\n",
       "        vertical-align: top;\n",
       "    }\n",
       "\n",
       "    .dataframe thead th {\n",
       "        text-align: right;\n",
       "    }\n",
       "</style>\n",
       "<table border=\"1\" class=\"dataframe\">\n",
       "  <thead>\n",
       "    <tr style=\"text-align: right;\">\n",
       "      <th></th>\n",
       "      <th>id</th>\n",
       "      <th>f0</th>\n",
       "      <th>f1</th>\n",
       "      <th>f2</th>\n",
       "      <th>product</th>\n",
       "    </tr>\n",
       "  </thead>\n",
       "  <tbody>\n",
       "    <tr>\n",
       "      <th>45404</th>\n",
       "      <td>KUPhW</td>\n",
       "      <td>0.231846</td>\n",
       "      <td>-1.698941</td>\n",
       "      <td>4.990775</td>\n",
       "      <td>11.716299</td>\n",
       "    </tr>\n",
       "    <tr>\n",
       "      <th>55967</th>\n",
       "      <td>KUPhW</td>\n",
       "      <td>1.211150</td>\n",
       "      <td>3.176408</td>\n",
       "      <td>5.543540</td>\n",
       "      <td>132.831802</td>\n",
       "    </tr>\n",
       "    <tr>\n",
       "      <th>11449</th>\n",
       "      <td>VF7Jo</td>\n",
       "      <td>2.122656</td>\n",
       "      <td>-0.858275</td>\n",
       "      <td>5.746001</td>\n",
       "      <td>181.716817</td>\n",
       "    </tr>\n",
       "    <tr>\n",
       "      <th>49564</th>\n",
       "      <td>VF7Jo</td>\n",
       "      <td>-0.883115</td>\n",
       "      <td>0.560537</td>\n",
       "      <td>0.723601</td>\n",
       "      <td>136.233420</td>\n",
       "    </tr>\n",
       "    <tr>\n",
       "      <th>44378</th>\n",
       "      <td>Vcm5J</td>\n",
       "      <td>-1.229484</td>\n",
       "      <td>-2.439204</td>\n",
       "      <td>1.222909</td>\n",
       "      <td>137.968290</td>\n",
       "    </tr>\n",
       "    <tr>\n",
       "      <th>95090</th>\n",
       "      <td>Vcm5J</td>\n",
       "      <td>2.587702</td>\n",
       "      <td>1.986875</td>\n",
       "      <td>2.482245</td>\n",
       "      <td>92.327572</td>\n",
       "    </tr>\n",
       "    <tr>\n",
       "      <th>28039</th>\n",
       "      <td>xCHr8</td>\n",
       "      <td>1.633027</td>\n",
       "      <td>0.368135</td>\n",
       "      <td>-2.378367</td>\n",
       "      <td>6.120525</td>\n",
       "    </tr>\n",
       "    <tr>\n",
       "      <th>43233</th>\n",
       "      <td>xCHr8</td>\n",
       "      <td>-0.847066</td>\n",
       "      <td>2.101796</td>\n",
       "      <td>5.597130</td>\n",
       "      <td>184.388641</td>\n",
       "    </tr>\n",
       "  </tbody>\n",
       "</table>\n",
       "</div>"
      ],
      "text/plain": [
       "          id        f0        f1        f2     product\n",
       "45404  KUPhW  0.231846 -1.698941  4.990775   11.716299\n",
       "55967  KUPhW  1.211150  3.176408  5.543540  132.831802\n",
       "11449  VF7Jo  2.122656 -0.858275  5.746001  181.716817\n",
       "49564  VF7Jo -0.883115  0.560537  0.723601  136.233420\n",
       "44378  Vcm5J -1.229484 -2.439204  1.222909  137.968290\n",
       "95090  Vcm5J  2.587702  1.986875  2.482245   92.327572\n",
       "28039  xCHr8  1.633027  0.368135 -2.378367    6.120525\n",
       "43233  xCHr8 -0.847066  2.101796  5.597130  184.388641"
      ]
     },
     "metadata": {},
     "output_type": "display_data"
    }
   ],
   "source": [
    "# Region 3 duplicate ids\n",
    "data_2_dup_ids = data_2[data_2.duplicated(subset=['id'], keep=False)]\n",
    "data_2_dup_ids = data_2_dup_ids.sort_values('id')\n",
    "print('Number of region 3 duplicate records:', data_2_dup_ids.count()['id'])\n",
    "display(data_2_dup_ids)"
   ]
  },
  {
   "cell_type": "code",
   "execution_count": 31,
   "metadata": {},
   "outputs": [],
   "source": [
    "# Find and replace values of columns with mean values\n",
    "data_0[['product', 'f0', 'f1', 'f2']] = data_0.groupby('id')[['product', 'f0', 'f1', 'f2']].transform('mean')\n",
    "data_1[['product', 'f0', 'f1', 'f2']] = data_1.groupby('id')[['product', 'f0', 'f1', 'f2']].transform('mean')\n",
    "data_2[['product', 'f0', 'f1', 'f2']] = data_2.groupby('id')[['product', 'f0', 'f1', 'f2']].transform('mean')"
   ]
  },
  {
   "cell_type": "code",
   "execution_count": 32,
   "metadata": {},
   "outputs": [
    {
     "name": "stdout",
     "output_type": "stream",
     "text": [
      "Empty DataFrame\n",
      "Columns: [id, f0, f1, f2, product]\n",
      "Index: []\n",
      "Empty DataFrame\n",
      "Columns: [id, f0, f1, f2, product]\n",
      "Index: []\n",
      "Empty DataFrame\n",
      "Columns: [id, f0, f1, f2, product]\n",
      "Index: []\n"
     ]
    }
   ],
   "source": [
    "# Drop duplicates\n",
    "data_0 = data_0.drop_duplicates(subset='id')\n",
    "data_1 = data_1.drop_duplicates(subset='id')\n",
    "data_2 = data_2.drop_duplicates(subset='id')\n",
    "print(data_0[data_0.duplicated(subset='id')])\n",
    "print(data_1[data_1.duplicated(subset='id')])\n",
    "print(data_2[data_2.duplicated(subset='id')])"
   ]
  },
  {
   "cell_type": "code",
   "execution_count": 33,
   "metadata": {},
   "outputs": [
    {
     "name": "stdout",
     "output_type": "stream",
     "text": [
      "(99990, 5)\n",
      "(99996, 5)\n",
      "(99996, 5)\n"
     ]
    }
   ],
   "source": [
    "# Retrieve new shapes of DataFrames\n",
    "print(data_0.shape)\n",
    "print(data_1.shape)\n",
    "print(data_2.shape)"
   ]
  },
  {
   "cell_type": "markdown",
   "metadata": {},
   "source": [
    "### Column engineering"
   ]
  },
  {
   "cell_type": "code",
   "execution_count": 34,
   "metadata": {},
   "outputs": [
    {
     "data": {
      "text/html": [
       "<div>\n",
       "<style scoped>\n",
       "    .dataframe tbody tr th:only-of-type {\n",
       "        vertical-align: middle;\n",
       "    }\n",
       "\n",
       "    .dataframe tbody tr th {\n",
       "        vertical-align: top;\n",
       "    }\n",
       "\n",
       "    .dataframe thead th {\n",
       "        text-align: right;\n",
       "    }\n",
       "</style>\n",
       "<table border=\"1\" class=\"dataframe\">\n",
       "  <thead>\n",
       "    <tr style=\"text-align: right;\">\n",
       "      <th></th>\n",
       "      <th>f0</th>\n",
       "      <th>f1</th>\n",
       "      <th>f2</th>\n",
       "      <th>product</th>\n",
       "    </tr>\n",
       "  </thead>\n",
       "  <tbody>\n",
       "    <tr>\n",
       "      <th>0</th>\n",
       "      <td>0.705745</td>\n",
       "      <td>-0.497823</td>\n",
       "      <td>1.221170</td>\n",
       "      <td>105.280062</td>\n",
       "    </tr>\n",
       "    <tr>\n",
       "      <th>1</th>\n",
       "      <td>1.334711</td>\n",
       "      <td>-0.340164</td>\n",
       "      <td>4.365080</td>\n",
       "      <td>73.037750</td>\n",
       "    </tr>\n",
       "    <tr>\n",
       "      <th>2</th>\n",
       "      <td>1.022732</td>\n",
       "      <td>0.151990</td>\n",
       "      <td>1.419926</td>\n",
       "      <td>85.265647</td>\n",
       "    </tr>\n",
       "    <tr>\n",
       "      <th>3</th>\n",
       "      <td>-0.032172</td>\n",
       "      <td>0.139033</td>\n",
       "      <td>2.978566</td>\n",
       "      <td>168.620776</td>\n",
       "    </tr>\n",
       "    <tr>\n",
       "      <th>4</th>\n",
       "      <td>1.988431</td>\n",
       "      <td>0.155413</td>\n",
       "      <td>4.751769</td>\n",
       "      <td>154.036647</td>\n",
       "    </tr>\n",
       "  </tbody>\n",
       "</table>\n",
       "</div>"
      ],
      "text/plain": [
       "         f0        f1        f2     product\n",
       "0  0.705745 -0.497823  1.221170  105.280062\n",
       "1  1.334711 -0.340164  4.365080   73.037750\n",
       "2  1.022732  0.151990  1.419926   85.265647\n",
       "3 -0.032172  0.139033  2.978566  168.620776\n",
       "4  1.988431  0.155413  4.751769  154.036647"
      ]
     },
     "metadata": {},
     "output_type": "display_data"
    }
   ],
   "source": [
    "data_0 = data_0.drop('id', axis=1)\n",
    "display(data_0.head())"
   ]
  },
  {
   "cell_type": "code",
   "execution_count": 35,
   "metadata": {},
   "outputs": [
    {
     "data": {
      "text/html": [
       "<div>\n",
       "<style scoped>\n",
       "    .dataframe tbody tr th:only-of-type {\n",
       "        vertical-align: middle;\n",
       "    }\n",
       "\n",
       "    .dataframe tbody tr th {\n",
       "        vertical-align: top;\n",
       "    }\n",
       "\n",
       "    .dataframe thead th {\n",
       "        text-align: right;\n",
       "    }\n",
       "</style>\n",
       "<table border=\"1\" class=\"dataframe\">\n",
       "  <thead>\n",
       "    <tr style=\"text-align: right;\">\n",
       "      <th></th>\n",
       "      <th>f0</th>\n",
       "      <th>f1</th>\n",
       "      <th>f2</th>\n",
       "      <th>product</th>\n",
       "    </tr>\n",
       "  </thead>\n",
       "  <tbody>\n",
       "    <tr>\n",
       "      <th>0</th>\n",
       "      <td>-15.001348</td>\n",
       "      <td>-8.276000</td>\n",
       "      <td>-0.005876</td>\n",
       "      <td>3.179103</td>\n",
       "    </tr>\n",
       "    <tr>\n",
       "      <th>1</th>\n",
       "      <td>14.272088</td>\n",
       "      <td>-3.475083</td>\n",
       "      <td>0.999183</td>\n",
       "      <td>26.953261</td>\n",
       "    </tr>\n",
       "    <tr>\n",
       "      <th>2</th>\n",
       "      <td>6.263187</td>\n",
       "      <td>-5.948386</td>\n",
       "      <td>5.001160</td>\n",
       "      <td>134.766305</td>\n",
       "    </tr>\n",
       "    <tr>\n",
       "      <th>3</th>\n",
       "      <td>-13.081196</td>\n",
       "      <td>-11.506057</td>\n",
       "      <td>4.999415</td>\n",
       "      <td>137.945408</td>\n",
       "    </tr>\n",
       "    <tr>\n",
       "      <th>4</th>\n",
       "      <td>12.702195</td>\n",
       "      <td>-8.147433</td>\n",
       "      <td>5.004363</td>\n",
       "      <td>134.766305</td>\n",
       "    </tr>\n",
       "  </tbody>\n",
       "</table>\n",
       "</div>"
      ],
      "text/plain": [
       "          f0         f1        f2     product\n",
       "0 -15.001348  -8.276000 -0.005876    3.179103\n",
       "1  14.272088  -3.475083  0.999183   26.953261\n",
       "2   6.263187  -5.948386  5.001160  134.766305\n",
       "3 -13.081196 -11.506057  4.999415  137.945408\n",
       "4  12.702195  -8.147433  5.004363  134.766305"
      ]
     },
     "metadata": {},
     "output_type": "display_data"
    }
   ],
   "source": [
    "data_1 = data_1.drop('id', axis=1)\n",
    "display(data_1.head())"
   ]
  },
  {
   "cell_type": "code",
   "execution_count": 36,
   "metadata": {},
   "outputs": [
    {
     "data": {
      "text/html": [
       "<div>\n",
       "<style scoped>\n",
       "    .dataframe tbody tr th:only-of-type {\n",
       "        vertical-align: middle;\n",
       "    }\n",
       "\n",
       "    .dataframe tbody tr th {\n",
       "        vertical-align: top;\n",
       "    }\n",
       "\n",
       "    .dataframe thead th {\n",
       "        text-align: right;\n",
       "    }\n",
       "</style>\n",
       "<table border=\"1\" class=\"dataframe\">\n",
       "  <thead>\n",
       "    <tr style=\"text-align: right;\">\n",
       "      <th></th>\n",
       "      <th>f0</th>\n",
       "      <th>f1</th>\n",
       "      <th>f2</th>\n",
       "      <th>product</th>\n",
       "    </tr>\n",
       "  </thead>\n",
       "  <tbody>\n",
       "    <tr>\n",
       "      <th>0</th>\n",
       "      <td>-1.146987</td>\n",
       "      <td>0.963328</td>\n",
       "      <td>-0.828965</td>\n",
       "      <td>27.758673</td>\n",
       "    </tr>\n",
       "    <tr>\n",
       "      <th>1</th>\n",
       "      <td>0.262778</td>\n",
       "      <td>0.269839</td>\n",
       "      <td>-2.530187</td>\n",
       "      <td>56.069697</td>\n",
       "    </tr>\n",
       "    <tr>\n",
       "      <th>2</th>\n",
       "      <td>0.194587</td>\n",
       "      <td>0.289035</td>\n",
       "      <td>-5.586433</td>\n",
       "      <td>62.871910</td>\n",
       "    </tr>\n",
       "    <tr>\n",
       "      <th>3</th>\n",
       "      <td>2.236060</td>\n",
       "      <td>-0.553760</td>\n",
       "      <td>0.930038</td>\n",
       "      <td>114.572842</td>\n",
       "    </tr>\n",
       "    <tr>\n",
       "      <th>4</th>\n",
       "      <td>-0.515993</td>\n",
       "      <td>1.716266</td>\n",
       "      <td>5.899011</td>\n",
       "      <td>149.600746</td>\n",
       "    </tr>\n",
       "  </tbody>\n",
       "</table>\n",
       "</div>"
      ],
      "text/plain": [
       "         f0        f1        f2     product\n",
       "0 -1.146987  0.963328 -0.828965   27.758673\n",
       "1  0.262778  0.269839 -2.530187   56.069697\n",
       "2  0.194587  0.289035 -5.586433   62.871910\n",
       "3  2.236060 -0.553760  0.930038  114.572842\n",
       "4 -0.515993  1.716266  5.899011  149.600746"
      ]
     },
     "metadata": {},
     "output_type": "display_data"
    }
   ],
   "source": [
    "data_2 = data_2.drop('id', axis=1)\n",
    "display(data_2.head())"
   ]
  },
  {
   "cell_type": "markdown",
   "metadata": {},
   "source": [
    "## Model preparation"
   ]
  },
  {
   "cell_type": "markdown",
   "metadata": {},
   "source": [
    "### Training and validation datasets"
   ]
  },
  {
   "cell_type": "code",
   "execution_count": 37,
   "metadata": {},
   "outputs": [],
   "source": [
    "# Split data into training and validation datasets for DATA_0\n",
    "data_0_train, data_0_valid = train_test_split(data_0, test_size=0.25, random_state=123)\n",
    "\n",
    "# Split data into training and validation datasets for DATA_1\n",
    "data_1_train, data_1_valid = train_test_split(data_1, test_size=0.25, random_state=123)\n",
    "\n",
    "# Split data into training and validation datasets for DATA_2\n",
    "data_2_train, data_2_valid = train_test_split(data_2, test_size=0.25, random_state=123)"
   ]
  },
  {
   "cell_type": "markdown",
   "metadata": {},
   "source": [
    "### Features and target\n",
    "\n",
    "The finalized list of features include the <b><mark>f0</mark></b>, <b><mark>f1</mark></b>, and <b><mark>f2</mark></b> fields. <b><mark>id</mark></b> was removed because it does not contain any useful information for predictive modeling. <b><mark>product</mark></b> is the target the models will try to predict. The goal is to build a model that will successfully predict the volume of oil reserves for each well based on <b><mark>f0</mark></b>, <b><mark>f1</mark></b>, and <b><mark>f2</mark></b>."
   ]
  },
  {
   "cell_type": "code",
   "execution_count": 38,
   "metadata": {},
   "outputs": [],
   "source": [
    "# Define features and target variables for DATA_0\n",
    "# TRAINING\n",
    "data_0_train_features = data_0_train.drop('product', axis=1)\n",
    "data_0_train_target = data_0_train['product']\n",
    "\n",
    "# VALIDATION\n",
    "data_0_valid_features = data_0_valid.drop('product', axis=1)\n",
    "data_0_valid_target = data_0_valid['product']"
   ]
  },
  {
   "cell_type": "code",
   "execution_count": 39,
   "metadata": {},
   "outputs": [],
   "source": [
    "# Define features and target variables for DATA_1\n",
    "# TRAINING\n",
    "data_1_train_features = data_1_train.drop('product', axis=1)\n",
    "data_1_train_target = data_1_train['product']\n",
    "\n",
    "# VALIDATION\n",
    "data_1_valid_features = data_1_valid.drop('product', axis=1)\n",
    "data_1_valid_target = data_1_valid['product']"
   ]
  },
  {
   "cell_type": "code",
   "execution_count": 40,
   "metadata": {},
   "outputs": [],
   "source": [
    "# Define features and target variables for DATA_2\n",
    "#TRAINING\n",
    "data_2_train_features = data_2_train.drop('product', axis=1)\n",
    "data_2_train_target = data_2_train['product']\n",
    "\n",
    "# VALIDATION\n",
    "data_2_valid_features = data_2_valid.drop('product', axis=1)\n",
    "data_2_valid_target = data_2_valid['product']"
   ]
  },
  {
   "cell_type": "markdown",
   "metadata": {},
   "source": [
    "## Model analysis\n",
    "\n",
    "Each region, ie region 1, region 2, and region 3, are represented by the DataFrame names <b>data_0</b>, <b>data_1</b>, and <b>data_2</b> respectively, and as shown above, were split into training and validation datasets, and features and targets using the same nomenclature. For each region, a linear regression model was created to gather predictions forecasting the volume of oil reserves for each well. The  The Root Mean Squared Error (RMSE) was obtained to assess the performance of the model. Also, the average of oil reserves of all wells within the region was calculated."
   ]
  },
  {
   "cell_type": "markdown",
   "metadata": {},
   "source": [
    "### Region 1 (data_0)\n",
    "\n",
    "To check the model quality, a k-fold cross validation was implemented. The model score was <b>37.73</b>. Not very good. Even before gathering predictions, the model doesn't do a great job with just the training data itself, data that it has already seen.\n",
    "\n",
    "After the model was trained and predictions were gathered, here was the RMSE and average oil reserves per well.\n",
    "\n",
    "- RMSE: <b>37.596</b>\n",
    "- Average reserves per well: <b>92.681</b>\n",
    "\n",
    "The high RMSE implies there are significant mistakes and fewer accurate forecasts. The model is not doing a good job at predicting values close to the correct answers. The plot of the linear regresion below shows the distribution and trends of the predicted values vs actual values. The most accurate regression will be a straight diagonal, but the model here is more of a slant, again implying that there are some inaccuracies."
   ]
  },
  {
   "cell_type": "code",
   "execution_count": 41,
   "metadata": {},
   "outputs": [
    {
     "name": "stdout",
     "output_type": "stream",
     "text": [
      "Average model evaluation score: 37.7257343482076\n"
     ]
    }
   ],
   "source": [
    "# Intialize linear regression model\n",
    "model_data_0 = LinearRegression()\n",
    "\n",
    "# Cross-validate model\n",
    "data_0_scores = cross_val_score(model_data_0, data_0_train_features, data_0_train_target, scoring= 'neg_root_mean_squared_error', cv=5)\n",
    "data_0_final_score = abs(sum(data_0_scores) / len(data_0_scores))\n",
    "print('Average model evaluation score:', data_0_final_score)"
   ]
  },
  {
   "cell_type": "code",
   "execution_count": 43,
   "metadata": {},
   "outputs": [
    {
     "name": "stdout",
     "output_type": "stream",
     "text": [
      "\n",
      "Root mean squared error: 37.59533596100552\n",
      "Average volume of oil reserves per well (in thousand barrels): 92.68087123363215\n",
      "\n",
      "\n",
      "Correct answers snip-it:\n",
      "\n",
      "79861     87.254662\n",
      "89546     52.105159\n",
      "56756     28.822988\n",
      "99544    114.402733\n",
      "59246     81.595046\n",
      "Name: product, dtype: float64\n",
      "\n",
      "Predicted answers snip-it\n",
      "\n",
      "[[111.11372326]\n",
      " [107.11743205]\n",
      " [120.45429483]\n",
      " [130.34523718]\n",
      " [114.59132905]]\n"
     ]
    }
   ],
   "source": [
    "# Run model against validation dataset\n",
    "model_data_0.fit(data_0_train_features, data_0_train_target)\n",
    "\n",
    "# Get predictions and retrieve RMSE and average volume of oil reserves\n",
    "data_0_preds = model_data_0.predict(data_0_valid_features)\n",
    "data_0_RMSE = abs(mean_squared_error(data_0_valid_target, data_0_preds)**0.5)\n",
    "data_0_avg_resvs = sum(data_0_preds) / len(data_0_preds)\n",
    "print()\n",
    "print('Root mean squared error:', data_0_RMSE)\n",
    "print('Average volume of oil reserves per well (in thousand barrels):', data_0_avg_resvs)\n",
    "print()\n",
    "print()\n",
    "print('Correct answers snip-it:')\n",
    "print()\n",
    "print(data_0_valid_target.head())\n",
    "print()\n",
    "print('Predicted answers snip-it')\n",
    "print()\n",
    "print(np.vstack(data_0_preds[:5]))"
   ]
  },
  {
   "cell_type": "code",
   "execution_count": 44,
   "metadata": {},
   "outputs": [
    {
     "data": {
      "image/png": "[encoded data removed]",
      "text/plain": [
       "<Figure size 640x480 with 1 Axes>"
      ]
     },
     "metadata": {},
     "output_type": "display_data"
    }
   ],
   "source": [
    "# Plot the answers, predictions, and regression line\n",
    "plt.scatter(data_0_valid_target, data_0_preds)\n",
    "plt.xlabel('Actual values', fontsize=12)\n",
    "plt.ylabel('Predicted values', fontsize=12)\n",
    "plt.title('Linear regression', fontweight='bold')\n",
    "ax = plt.gca()\n",
    "ax.set_facecolor(\"white\")\n",
    "data_0_valid_target_array = np.array(data_0_valid_target)\n",
    "data_0_preds_array = np.array(data_0_preds)\n",
    "b1, b0 = np.polyfit(data_0_valid_target_array, data_0_preds_array, 1)\n",
    "plt.plot(data_0_valid_target_array, b1*data_0_valid_target_array + b0, color='red', linewidth=2)\n",
    "plt.show()"
   ]
  },
  {
   "cell_type": "markdown",
   "metadata": {},
   "source": [
    "### Region 2 (data_1)\n",
    "\n",
    "A k-fold cross validation was also implemented for region 2. The model score was <b>0.89</b>! Amazing! Almost too amazing. The model performed so well, that this could lead to questions around the data itself, where it came from, how it was gathered, etc.\n",
    "\n",
    "After the model was trained and predictions were gathered, here was the RMSE and average oil reserves per well.\n",
    "\n",
    "- RMSE: <b>0.895</b>\n",
    "- Average reserves per well: <b>69.280</b>\n",
    "\n",
    "The low RMSE implies that the predicted values are very close to the the actual values from the dataset. The model is doing a great job at forcasting. The plot of the linear regression below shows the distribution and trends of the predicted values vs actual values. The regression line is a perfect diagonal and the points are right next to / on top of each other, implying that the model is very accurate in making predictions. Lastly, the average reserves per well for region 2 are substanially lower than region 1. This might not be important right now, but it is something to note for profit calculations later in the report."
   ]
  },
  {
   "cell_type": "code",
   "execution_count": 45,
   "metadata": {},
   "outputs": [
    {
     "name": "stdout",
     "output_type": "stream",
     "text": [
      "Average model evaluation score: 0.8890979339621566\n"
     ]
    }
   ],
   "source": [
    "# Intialize linear regression model\n",
    "model_data_1 = LinearRegression()\n",
    "\n",
    "# Cross-validate model\n",
    "data_1_scores = cross_val_score(model_data_1, data_1_train_features, data_1_train_target, cv=5, scoring='neg_root_mean_squared_error')\n",
    "data_1_final_score = abs(sum(data_1_scores) / len(data_1_scores))\n",
    "print('Average model evaluation score:', data_1_final_score)"
   ]
  },
  {
   "cell_type": "code",
   "execution_count": 46,
   "metadata": {},
   "outputs": [
    {
     "name": "stdout",
     "output_type": "stream",
     "text": [
      "\n",
      "Root mean squared error: 0.8944722104395623\n",
      "Average volume of oil reserves per well (in thousand barrels): 69.31319932042442\n",
      "\n",
      "\n",
      "Correct answers snip-it:\n",
      "\n",
      "42084    57.085625\n",
      "72732    30.132364\n",
      "71151    84.038886\n",
      "50170    26.953261\n",
      "36734    53.906522\n",
      "Name: product, dtype: float64\n",
      "\n",
      "Predicted answers snip-it:\n",
      "\n",
      "[[56.09675448]\n",
      " [30.17954897]\n",
      " [82.55082549]\n",
      " [28.2435595 ]\n",
      " [54.47788181]]\n"
     ]
    }
   ],
   "source": [
    "# Run model against validation dataset\n",
    "model_data_1.fit(data_1_train_features, data_1_train_target)\n",
    "\n",
    "# Get predictions and retrieve RMSE and average volume of oil reserves\n",
    "data_1_preds = model_data_1.predict(data_1_valid_features)\n",
    "data_1_RMSE = mean_squared_error(data_1_valid_target, data_1_preds)**0.5\n",
    "data_1_avg_resvs = sum(data_1_preds) / len(data_1_preds)\n",
    "print()\n",
    "print('Root mean squared error:', data_1_RMSE)\n",
    "print('Average volume of oil reserves per well (in thousand barrels):', data_1_avg_resvs)\n",
    "print()\n",
    "print()\n",
    "print('Correct answers snip-it:')\n",
    "print()\n",
    "print(data_1_valid_target.head())\n",
    "print()\n",
    "print('Predicted answers snip-it:')\n",
    "print()\n",
    "print(np.vstack(data_1_preds[:5]))"
   ]
  },
  {
   "cell_type": "code",
   "execution_count": 47,
   "metadata": {},
   "outputs": [
    {
     "data": {
      "image/png": "[encoded data removed]",
      "text/plain": [
       "<Figure size 640x480 with 1 Axes>"
      ]
     },
     "metadata": {},
     "output_type": "display_data"
    }
   ],
   "source": [
    "# Plot the answers, predictions, and regression line\n",
    "plt.figure(facecolor='white')\n",
    "plt.scatter(data_1_valid_target, data_1_preds)\n",
    "plt.xlabel('Actual values', fontsize=12)\n",
    "plt.ylabel('Predicted values', fontsize=12)\n",
    "plt.title('Linear regression', fontweight='bold')\n",
    "ax = plt.gca()\n",
    "ax.set_facecolor(\"white\")\n",
    "data_1_valid_target_array = np.array(data_1_valid_target)\n",
    "data_1_preds_array = np.array(data_1_preds)\n",
    "b1, b0 = np.polyfit(data_1_valid_target_array, data_1_preds_array, 1)\n",
    "plt.plot(data_1_valid_target_array, b1*data_1_valid_target_array + b0, color='red', linewidth=2)\n",
    "plt.show()"
   ]
  },
  {
   "cell_type": "markdown",
   "metadata": {},
   "source": [
    "### Region 3 (data_2)\n",
    "\n",
    "A k-fold cross validation was also implemented for region 2. The model score was <b>-40.06</b>. Not very good and similar to region 1s model score.\n",
    "\n",
    "After the model was trained and predictions were gathered, here was the RMSE and average oil reserves per well.\n",
    "\n",
    "- RMSE: <b>40.04</b>\n",
    "- Average reserves per well: <b>94.94</b>\n",
    "\n",
    "The high RMSE implies there are significant mistakes and fewer accurate forecasts. As with region 1, thw model is not doing a good job at predicting values close to the correct answers. Also, the plot of the linear regression line is a slant, implying that there are some inaccuracies.\n",
    "\n",
    "Moreover, region 1 and region 3 yielded very similar results. Their model scores, RMSE, and average reserves per well were nearly identical. Could this mean that their profit margins will be similar as well?"
   ]
  },
  {
   "cell_type": "code",
   "execution_count": 48,
   "metadata": {},
   "outputs": [
    {
     "name": "stdout",
     "output_type": "stream",
     "text": [
      "Average model evaluation score: 40.05784623446602\n"
     ]
    }
   ],
   "source": [
    "# Intialize linear regression model\n",
    "model_data_2 = LinearRegression()\n",
    "\n",
    "# Cross-validate model\n",
    "data_2_scores = cross_val_score(model_data_2, data_2_train_features, data_2_train_target, cv=5, scoring='neg_root_mean_squared_error')\n",
    "data_2_final_score = abs(sum(data_2_scores) / len(data_2_scores))\n",
    "print('Average model evaluation score:', data_2_final_score)"
   ]
  },
  {
   "cell_type": "code",
   "execution_count": 49,
   "metadata": {},
   "outputs": [
    {
     "name": "stdout",
     "output_type": "stream",
     "text": [
      "\n",
      "Root mean squared error: 40.04173023103197\n",
      "Average volume of oil reserves per well (in thousand barrels): 94.93843921318874\n",
      "\n",
      "\n",
      "Correct answers snip-it:\n",
      "\n",
      "42083    147.451978\n",
      "72734    149.352596\n",
      "71153    166.026693\n",
      "50171    122.374648\n",
      "36734    159.328488\n",
      "Name: product, dtype: float64\n",
      "\n",
      "Predicted answers snip-it:\n",
      "\n",
      "[[ 94.05934612]\n",
      " [ 69.27173523]\n",
      " [111.5019359 ]\n",
      " [130.40760367]\n",
      " [ 89.83487353]]\n"
     ]
    }
   ],
   "source": [
    "# Run model against validation dataset\n",
    "model_data_2.fit(data_2_train_features, data_2_train_target)\n",
    "\n",
    "# Get predictions and retrieve RMSE and average volume of oil reserves\n",
    "data_2_preds = model_data_2.predict(data_2_valid_features)\n",
    "data_2_RMSE = mean_squared_error(data_2_valid_target, data_2_preds)**0.5\n",
    "data_2_avg_resvs = sum(data_2_preds) / len(data_2_preds)\n",
    "print()\n",
    "print('Root mean squared error:', data_2_RMSE)\n",
    "print('Average volume of oil reserves per well (in thousand barrels):', data_2_avg_resvs)\n",
    "print()\n",
    "print()\n",
    "print('Correct answers snip-it:')\n",
    "print()\n",
    "print(data_2_valid_target.head())\n",
    "print()\n",
    "print('Predicted answers snip-it:')\n",
    "print()\n",
    "print(np.vstack(data_2_preds[:5]))"
   ]
  },
  {
   "cell_type": "code",
   "execution_count": 50,
   "metadata": {},
   "outputs": [
    {
     "data": {
      "image/png": "[encoded data removed]",
      "text/plain": [
       "<Figure size 640x480 with 1 Axes>"
      ]
     },
     "metadata": {},
     "output_type": "display_data"
    }
   ],
   "source": [
    "# Plot the answers, predictions, and regression line\n",
    "plt.figure(facecolor='white')\n",
    "plt.scatter(data_2_valid_target, data_2_preds)\n",
    "plt.xlabel('Actual values', fontsize=12)\n",
    "plt.ylabel('Predicted values', fontsize=12)\n",
    "plt.title('Linear regression', fontweight='bold')\n",
    "ax = plt.gca()\n",
    "ax.set_facecolor(\"white\")\n",
    "data_2_valid_target_array = np.array(data_2_valid_target)\n",
    "data_2_preds_array = np.array(data_2_preds)\n",
    "b1, b0 = np.polyfit(data_2_valid_target_array, data_2_preds_array, 1)\n",
    "plt.plot(data_2_valid_target_array, b1*data_2_valid_target_array + b0, color='red', linewidth=2)\n",
    "plt.show()"
   ]
  },
  {
   "cell_type": "markdown",
   "metadata": {},
   "source": [
    "## Profit analysis\n",
    "\n",
    "Given the oil reserve predictions from the models, which region will the provide the highest profit margin? Are any of the regions profitable? First, a comparison of the oil reserve averages for each region is carried out. Then profit calculations are performed to identify the mean profit, 95% confidence interval, and loss potential for each region. This analysis determines which region, if any, is best to a new oil well development."
   ]
  },
  {
   "cell_type": "markdown",
   "metadata": {},
   "source": [
    "### Oil reserves comparison\n",
    "\n",
    "The average oil reserves per well for each region were gathered. Region 1 and region 3 have about the same averages, while region 2 has substantially less, having approximately 25 thousand barrels less per well. It it natural to think that more volume of oil reserves will mean more profit. But this is just an assumption. The profitability of each region will be determined later in the report.\n",
    "\n",
    "- Region 1: <b>92.50</b>\n",
    "- Region 2: <b>68.82</b>\n",
    "- Region 3: <b>95.00</b>\n",
    "\n",
    "An important statistic in assessing the probability of any investment is the break even point, that is, what is the oil reserves that needs to be generated from a well to prevent any losses. The break even point is <b><font color='red'>111.11</font></b>. This is much higher than the averages of all three regions. This again assumes that the profitability of all the regions is in question, and there might not be any profitability. But it is possible that even with low averages, since OilyGiant is only selecting the top 200 wells, there could be certain wells with a lot of reserves that could even out wells with lower averages."
   ]
  },
  {
   "cell_type": "code",
   "execution_count": 51,
   "metadata": {},
   "outputs": [
    {
     "name": "stdout",
     "output_type": "stream",
     "text": [
      "Region 1 average oil reserves per well: 92.49958303117246\n",
      "Region 2 average oil reserves per well: 68.824573880372\n",
      "Region 3 average oil reserves per well: 94.99938345850404\n",
      "\n",
      "Volume of oil reserves (in thousand barrels) needed to reach project budget: 22222.22\n",
      "Volume of oil reserves per well needed to prevent a net loss: 111.11\n"
     ]
    }
   ],
   "source": [
    "# Retrieve average oil reserves (from answers) for each region \n",
    "print('Region 1 average oil reserves per well:', data_0['product'].mean())\n",
    "print('Region 2 average oil reserves per well:', data_1['product'].mean())\n",
    "print('Region 3 average oil reserves per well:', data_2['product'].mean())\n",
    "print()\n",
    "\n",
    "# Calculate volume of oil reserves sufficient for developing a new well without losses\n",
    "PROJECT_BUDGET = 100000000\n",
    "NUMBER_OF_WELLS = 200\n",
    "REVENUE_PER_RESERVE = 4500\n",
    "\n",
    "volume_reserves_needed = round(PROJECT_BUDGET / REVENUE_PER_RESERVE, 2)\n",
    "print('Volume of oil reserves (in thousand barrels) needed to reach project budget:', volume_reserves_needed)\n",
    "break_even_point = round(volume_reserves_needed / NUMBER_OF_WELLS, 2)\n",
    "print('Volume of oil reserves per well needed to prevent a net loss:', break_even_point)"
   ]
  },
  {
   "cell_type": "markdown",
   "metadata": {},
   "source": [
    "#### Region 1 (data_0)\n",
    "\n",
    "A bit more analysis is performed on the counts of profitable wells versus non-profitable wells based on the break even point of <b>111.11</b>. Wells above 111.11 are profitable and wells below 111.11 are not profitable. The top 20 wells in terms of oil reserves is also gathered and displayed.\n",
    "\n",
    "- Profitable wells: <b>36,580</b>\n",
    "- Non-profitable wells: <b>63,410</b>\n",
    "- Profitable wells %: <b>36.58%</b>\n"
   ]
  },
  {
   "cell_type": "code",
   "execution_count": 52,
   "metadata": {},
   "outputs": [
    {
     "name": "stdout",
     "output_type": "stream",
     "text": [
      "\n",
      "Number of profitable wells: 36580\n",
      "Number of non-profitable wells: 63410\n",
      "Profitable well %: 36.58 %\n"
     ]
    },
    {
     "data": {
      "image/png": "[encoded data removed]",
      "text/plain": [
       "<Figure size 640x480 with 1 Axes>"
      ]
     },
     "metadata": {},
     "output_type": "display_data"
    },
    {
     "data": {
      "text/plain": [
       "8826     185.364347\n",
       "99818    185.362690\n",
       "94175    185.355615\n",
       "1925     185.354980\n",
       "45291    185.352015\n",
       "28690    185.344675\n",
       "45259    185.338370\n",
       "22823    185.337352\n",
       "98975    185.330529\n",
       "93314    185.317346\n",
       "66714    185.315412\n",
       "21041    185.314475\n",
       "89688    185.304563\n",
       "31006    185.299685\n",
       "80036    185.297021\n",
       "37250    185.293551\n",
       "77717    185.289402\n",
       "6726     185.267516\n",
       "83963    185.264218\n",
       "98529    185.261773\n",
       "Name: product, dtype: float64"
      ]
     },
     "metadata": {},
     "output_type": "display_data"
    }
   ],
   "source": [
    "# Count of net gain wells\n",
    "data_0_profit_wells = len(data_0[data_0['product'] > 111.11])\n",
    "data_0_no_profit_wells = len(data_0[data_0['product'] <= 111.11])\n",
    "print()\n",
    "print('Number of profitable wells:', data_0_profit_wells)\n",
    "print('Number of non-profitable wells:', data_0_no_profit_wells)\n",
    "print('Profitable well %:', round(data_0_profit_wells / (data_0_profit_wells + data_0_no_profit_wells) * 100, 2), '%')\n",
    "\n",
    "# Plot bar chart of profitable vs non-profitable wells\n",
    "wells_profit_counts = pd.Series([data_0_profit_wells, data_0_no_profit_wells])\n",
    "wells_profit_counts = wells_profit_counts.rename(index={0: 'Profitable', 1: 'Non-profitable'}) \n",
    "\n",
    "plt.title('Profitable vs non-profitable oil wells', fontweight='bold')\n",
    "wells_profit_counts.plot(kind='bar')\n",
    "plt.xticks(rotation=45)\n",
    "plt.show()\n",
    "\n",
    "# Top 20 oil reserves\n",
    "data_0_sort = data_0.sort_values('product', ascending=False)\n",
    "display(data_0_sort['product'].head(20))\n",
    "\n",
    "#data_0_preds_sort = np.sort(data_0_preds)[::-1]\n",
    "#print('Top 20 oil reserve amounts (in thousand barrels)')\n",
    "#display(data_0_preds_sort[:20])"
   ]
  },
  {
   "cell_type": "markdown",
   "metadata": {},
   "source": [
    "#### Region 2 (data_1)\n",
    "\n",
    "Below are the counts of profitable wells vs non-profitable wells for region 2. An interesting observation about the top 20 wells in terms of oil reserves is that they all are <b>137</b>. This supports what was seen in the model score and linear regression line. It looks like their are many data points that are very similar, which would make predicting future values much more accurate.\n",
    "\n",
    "- Profitable wells: <b>16,536</b>\n",
    "- Non-profitable wells: <b>83,460</b>\n",
    "- Profitable wells %: <b>16.54%</b>"
   ]
  },
  {
   "cell_type": "code",
   "execution_count": 53,
   "metadata": {},
   "outputs": [
    {
     "name": "stdout",
     "output_type": "stream",
     "text": [
      "\n",
      "Number of profitable wells: 16536\n",
      "Number of non-profitable wells: 83460\n",
      "Profitable well %: 16.54 %\n"
     ]
    },
    {
     "data": {
      "image/png": "[encoded data removed]",
      "text/plain": [
       "<Figure size 640x480 with 1 Axes>"
      ]
     },
     "metadata": {},
     "output_type": "display_data"
    },
    {
     "data": {
      "text/plain": [
       "88097    137.945408\n",
       "30951    137.945408\n",
       "5796     137.945408\n",
       "30954    137.945408\n",
       "69169    137.945408\n",
       "81193    137.945408\n",
       "89963    137.945408\n",
       "41011    137.945408\n",
       "34238    137.945408\n",
       "95318    137.945408\n",
       "55913    137.945408\n",
       "76400    137.945408\n",
       "13870    137.945408\n",
       "44736    137.945408\n",
       "55910    137.945408\n",
       "41008    137.945408\n",
       "5780     137.945408\n",
       "30938    137.945408\n",
       "21941    137.945408\n",
       "34239    137.945408\n",
       "Name: product, dtype: float64"
      ]
     },
     "metadata": {},
     "output_type": "display_data"
    }
   ],
   "source": [
    "# Count of net gain wells\n",
    "data_1_profit_wells = len(data_1[data_1['product'] > 111.11])\n",
    "data_1_no_profit_wells = len(data_1[data_1['product'] <= 111.11])\n",
    "print()\n",
    "print('Number of profitable wells:', data_1_profit_wells)\n",
    "print('Number of non-profitable wells:', data_1_no_profit_wells)\n",
    "print('Profitable well %:', round(data_1_profit_wells / (data_1_profit_wells + data_1_no_profit_wells) * 100, 2), '%')\n",
    "\n",
    "# Plot bar chart of profitable vs non-profitable wells\n",
    "wells_profit_counts = pd.Series([data_1_profit_wells, data_1_no_profit_wells])\n",
    "wells_profit_counts = wells_profit_counts.rename(index={0: 'Profitable', 1: 'Non-profitable'}) \n",
    "\n",
    "plt.title('Profitable vs non-profitable oil wells', fontweight='bold')\n",
    "wells_profit_counts.plot(kind='bar')\n",
    "plt.xticks(rotation=45)\n",
    "plt.show()\n",
    "\n",
    "# Top 20 oil reserves\n",
    "data_1_sort = data_1.sort_values('product', ascending=False)\n",
    "display(data_1_sort['product'].head(20))\n",
    "\n",
    "#data_1_preds_sort = np.sort(data_1_preds)[::-1]\n",
    "#print('Top 20 oil reserve amounts (in thousand barrels)')\n",
    "#display(data_1_preds_sort[:20])"
   ]
  },
  {
   "cell_type": "markdown",
   "metadata": {},
   "source": [
    "#### Region 3 (data_2)\n",
    "\n",
    "Below are the counts of profitable wells vs non-profitable wells for region 3. Very similar to region 1.\n",
    "\n",
    "- Profitable wells: <b>38,175</b>\n",
    "- Non-profitable wells: <b>67,821</b>\n",
    "- Profitable wells %: <b>38.18%</b>"
   ]
  },
  {
   "cell_type": "code",
   "execution_count": 54,
   "metadata": {},
   "outputs": [
    {
     "name": "stdout",
     "output_type": "stream",
     "text": [
      "\n",
      "Number of profitable wells: 38175\n",
      "Number of non-profitable wells: 61821\n",
      "Profitable well %: 38.18 %\n"
     ]
    },
    {
     "data": {
      "image/png": "[encoded data removed]",
      "text/plain": [
       "<Figure size 640x480 with 1 Axes>"
      ]
     },
     "metadata": {},
     "output_type": "display_data"
    },
    {
     "data": {
      "text/plain": [
       "79705    190.029838\n",
       "93444    190.013589\n",
       "35099    190.011722\n",
       "21943    190.010982\n",
       "37870    190.010029\n",
       "59130    189.996462\n",
       "8698     189.988191\n",
       "38595    189.986781\n",
       "80200    189.985532\n",
       "58481    189.981304\n",
       "2914     189.979704\n",
       "91513    189.978186\n",
       "14464    189.976606\n",
       "915      189.973633\n",
       "72141    189.968677\n",
       "99073    189.967197\n",
       "83472    189.966835\n",
       "3927     189.952654\n",
       "92373    189.949834\n",
       "49615    189.948611\n",
       "Name: product, dtype: float64"
      ]
     },
     "metadata": {},
     "output_type": "display_data"
    }
   ],
   "source": [
    "# Count of net gain wells\n",
    "data_2_profit_wells = len(data_2[data_2['product'] > 111.11])\n",
    "data_2_no_profit_wells = len(data_2[data_2['product'] <= 111.11])\n",
    "print()\n",
    "print('Number of profitable wells:', data_2_profit_wells)\n",
    "print('Number of non-profitable wells:', data_2_no_profit_wells)\n",
    "print('Profitable well %:', round(data_2_profit_wells / (data_2_profit_wells + data_2_no_profit_wells) * 100, 2), '%')\n",
    "\n",
    "# Plot bar chart of profitable vs non-profitable wells\n",
    "wells_profit_counts = pd.Series([data_2_profit_wells, data_2_no_profit_wells])\n",
    "wells_profit_counts = wells_profit_counts.rename(index={0: 'Profitable', 1: 'Non-profitable'}) \n",
    "\n",
    "plt.title('Profitable vs non-profitable oil wells', fontweight='bold')\n",
    "wells_profit_counts.plot(kind='bar')\n",
    "plt.xticks(rotation=45)\n",
    "plt.show()\n",
    "\n",
    "# Top 20 oil reserves\n",
    "data_2_sort = data_2.sort_values('product', ascending=False)\n",
    "display(data_2_sort['product'].head(20))\n",
    "\n",
    "#data_2_preds_sort = np.sort(data_2_preds)[::-1]\n",
    "#print('Top 20 oil reserve amounts (in thousand barrels)')\n",
    "#display(data_2_preds_sort[:20])"
   ]
  },
  {
   "cell_type": "markdown",
   "metadata": {},
   "source": [
    "### Profit calculations\n",
    "\n",
    "So far, none of the regions seem to be like good areas for a new oil development. Based on the oil reserve per well averages, the break even point, and percentage of profitable wells, it is hypothesized that none of the regions will be profitable. Let's be certain and calculate the profit margin.\n",
    "\n",
    "First a function was created for the calculating profit. The top 200 wells from the target dataset were selected based on the top 200 wells from the predictions of the model. The oil reserves from the top 200 were summed, then multiplied by the revenue per reserve ($\\$4,500$), and then substracted from the total project budget ($\\$100,000,000$). This provides the net profit of the region.\n",
    "\n",
    "Further profit and risk analysis was also carried out using the bootstrapping technique. 1000 subsamples from the validation dataset were created, with a subsample size of 500. The mean profit of the subsamples, 95% confidence interval, and loss potential were gathered for each region after bootstrapping was implemented."
   ]
  },
  {
   "cell_type": "code",
   "execution_count": 55,
   "metadata": {},
   "outputs": [],
   "source": [
    "# Create function for calculating profit\n",
    "def profit(answers, predictions, count):\n",
    "    top_preds = predictions.iloc[::1].sort_values(ascending=False)[:count]\n",
    "    final_profit = answers.iloc[top_preds.index]\n",
    "    return final_profit.sum() * REVENUE_PER_RESERVE - PROJECT_BUDGET"
   ]
  },
  {
   "cell_type": "markdown",
   "metadata": {},
   "source": [
    "#### Region 1 (data_0)\n",
    "\n",
    "Here is the profit margin statistics and loss potential for region 1. Based on the profit calcutions and bootstrapping technique, building a oil development in region 1 would produce a positive profit, with a loss potential of <b>6.3%</b>. There is also a 95% confidence that the profit margin would be between <b>-1</b> to <b>9 million</b>.\n",
    "\n",
    "- Net profit: $<b>32,547,566.83</b>\n",
    "\n",
    "Bootstrapping\n",
    "\n",
    "- Mean profit: $<b>3,987,025.18</b>\n",
    "- Confidence interval: <b>(-1,001,530, 9,168,468.42)</b>\n",
    "- Loss potential: <b>6.3%</b>"
   ]
  },
  {
   "cell_type": "code",
   "execution_count": 56,
   "metadata": {},
   "outputs": [
    {
     "name": "stdout",
     "output_type": "stream",
     "text": [
      "Net profit: $ 32,547,566.83\n"
     ]
    }
   ],
   "source": [
    "# Top 200 wells based on oil reserves\n",
    "# Reset target index and convert predictions to a Series\n",
    "data_0_valid_target = data_0_valid_target.reset_index(drop=True)\n",
    "data_0_preds = pd.Series(data_0_preds, index=data_0_valid_target.index)\n",
    "\n",
    "# Calculate net profit\n",
    "print('Net profit: $', f\"{round(profit(data_0_valid_target, data_0_preds, 200), 2):,}\")"
   ]
  },
  {
   "cell_type": "code",
   "execution_count": 57,
   "metadata": {},
   "outputs": [
    {
     "name": "stdout",
     "output_type": "stream",
     "text": [
      "\u001b[4mRegion 1\u001b[0m\n",
      "Mean profit: $ 3,987,025.18\n",
      "Confidence interval:  (-1001530.03, 9168468.42)\n",
      "Loss potential:  6.3 %\n"
     ]
    }
   ],
   "source": [
    "# Find average profit, 95% confidence interval and risk of losses using the Bootstrap technique\n",
    "\n",
    "BOOTSTRAP_SIZE = 1000\n",
    "SAMPLE_SIZE = 500\n",
    "\n",
    "state = np.random.RandomState(12345)\n",
    "\n",
    "profit_values = []\n",
    "for i in range(BOOTSTRAP_SIZE):\n",
    "    data_0_valid_target_sample = data_0_valid_target.sample(n=SAMPLE_SIZE, replace=True, random_state=state)\n",
    "    data_0_preds_sample = data_0_preds.iloc[data_0_valid_target_sample.index]\n",
    "    profit_values.append(profit(data_0_valid_target, data_0_preds_sample, 200))\n",
    "    \n",
    "profit_values = pd.Series(profit_values)\n",
    "\n",
    "avg_profit = round(profit_values.mean(), 2)\n",
    "conf_interval = (round(profit_values.quantile(0.025), 2), round(profit_values.quantile(0.975), 2))\n",
    "loss_prob = (profit_values < 0).mean()\n",
    "\n",
    "print('\\033[4mRegion 1\\033[0m')\n",
    "print('Mean profit: $', f\"{avg_profit:,}\")\n",
    "print('Confidence interval: ', conf_interval)\n",
    "print('Loss potential: ', loss_prob * 100, '%')"
   ]
  },
  {
   "cell_type": "markdown",
   "metadata": {},
   "source": [
    "#### Region 2 (data_1)\n",
    "\n",
    "Here is the profit margin statistics and loss potential for region 2. Based on the profit calcutions and bootstrapping technique, building a oil development in region 2 would also produce a simliar profit margin, but there is a 0.6% chance of loss potential. Also, there is also a 95% confidence that the profit margin would be between <b>1</b> to <b>9 million</b>. This means that it is very confident that region 2 will not experience any losses.\n",
    "\n",
    "- Net profit: $<b>24,150,866.97</b>\n",
    "\n",
    "Bootstrapping\n",
    "\n",
    "- Mean profit: $<b>4,856,222.77</b>\n",
    "- Confidence interval: <b>(1,081,213.20, 8,752,225.32)</b>\n",
    "- Loss potential: <b>0.6%</b>"
   ]
  },
  {
   "cell_type": "code",
   "execution_count": 58,
   "metadata": {},
   "outputs": [
    {
     "name": "stdout",
     "output_type": "stream",
     "text": [
      "Net profit: $ 24,150,866.97\n"
     ]
    }
   ],
   "source": [
    "# Top 200 wells based on oil reserves\n",
    "# Reset target index and convert predictions to a Series\n",
    "data_1_valid_target = data_1_valid_target.reset_index(drop=True)\n",
    "data_1_preds = pd.Series(data_1_preds, index=data_1_valid_target.index)\n",
    "\n",
    "# Calculate net profit\n",
    "print('Net profit: $', f\"{round(profit(data_1_valid_target, data_1_preds, 200), 2):,}\")"
   ]
  },
  {
   "cell_type": "code",
   "execution_count": 59,
   "metadata": {},
   "outputs": [
    {
     "name": "stdout",
     "output_type": "stream",
     "text": [
      "\u001b[4mRegion 2\u001b[0m\n",
      "Mean profit: $ 4,856,222.77\n",
      "Confidence interval:  (1081213.2, 8752225.32)\n",
      "Loss potential:  0.6 %\n"
     ]
    }
   ],
   "source": [
    "# Find average profit, 95% confidence interval and risk of losses using the Bootstrap technique\n",
    "\n",
    "profit_values = []\n",
    "for i in range(BOOTSTRAP_SIZE):\n",
    "    data_1_valid_target_sample = data_1_valid_target.sample(n=SAMPLE_SIZE, replace=True, random_state=state)\n",
    "    data_1_preds_sample = data_1_preds.iloc[data_1_valid_target_sample.index]\n",
    "    profit_values.append(profit(data_1_valid_target, data_1_preds_sample, 200))\n",
    "    \n",
    "profit_values = pd.Series(profit_values)\n",
    "\n",
    "avg_profit = round(profit_values.mean(), 2)\n",
    "conf_interval = (round(profit_values.quantile(0.025), 2), round(profit_values.quantile(0.975), 2))\n",
    "loss_prob = (profit_values < 0).mean()\n",
    "\n",
    "print('\\033[4mRegion 2\\033[0m')\n",
    "print('Mean profit: $', f\"{avg_profit:,}\")\n",
    "print('Confidence interval: ', conf_interval)\n",
    "print('Loss potential: ', loss_prob * 100, '%')"
   ]
  },
  {
   "cell_type": "code",
   "execution_count": 89,
   "metadata": {},
   "outputs": [
    {
     "name": "stdout",
     "output_type": "stream",
     "text": [
      "\u001b[4mRegion 0\u001b[0m\n",
      "Mean profit: $ 4,373,201.32\n",
      "Confidence interval:  (-959049.46, 9593343.77)\n",
      "Loss potential: 6.10%\n",
      "\n",
      "\n",
      "\n",
      "\u001b[4mRegion 1\u001b[0m\n",
      "Mean profit: $ 5,488,440.85\n",
      "Confidence interval:  (1659220.7, 9628994.17)\n",
      "Loss potential: 0.30%\n",
      "\n",
      "\n",
      "\n",
      "\u001b[4mRegion 2\u001b[0m\n",
      "Mean profit: $ 3,606,670.17\n",
      "Confidence interval:  (-1858560.85, 9120928.22)\n",
      "Loss potential: 9.90%\n",
      "\n",
      "\n",
      "\n"
     ]
    }
   ],
   "source": [
    "# Reviewer's code 3\n",
    "\n",
    "def calculate_profit(target, predictions):\n",
    "    \n",
    "    predictions_sorted = predictions.sort_values(ascending=False)\n",
    "    selected_points = target[predictions_sorted.index][:200]\n",
    "    product = selected_points.sum()\n",
    "    revenue = product * 4500\n",
    "    return revenue - 1e8\n",
    "\n",
    "def bootstrapping(target, pred):\n",
    "    \n",
    "    target = target.reset_index(drop=True)\n",
    "    pred = pred.reset_index(drop=True)\n",
    "\n",
    "    profit_values = []\n",
    "    \n",
    "    for i in range(BOOTSTRAP_SIZE):\n",
    "        sampled_target = target.sample(n=500, replace=True, random_state=state)\n",
    "        sampled_preds = pred[sampled_target.index]\n",
    "        profit_values.append(calculate_profit(sampled_target, sampled_preds))\n",
    "\n",
    "    profit_values = pd.Series(profit_values)\n",
    "\n",
    "    avg_profit = round(profit_values.mean(), 2)\n",
    "    conf_interval = (round(profit_values.quantile(0.025), 2), round(profit_values.quantile(0.975), 2))\n",
    "    loss_prob = (profit_values < 0).mean()\n",
    "\n",
    "    \n",
    "    print('Mean profit: $', f\"{avg_profit:,}\")\n",
    "    print('Confidence interval: ', conf_interval)\n",
    "    print(f'Loss potential: {loss_prob*100:.2f}%')\n",
    "\n",
    "    \n",
    "    \n",
    "for region, (target, pred) in enumerate(zip([data_0_valid_target, data_1_valid_target, data_2_valid_target], \n",
    "                                  [data_0_preds, data_1_preds, data_2_preds])):\n",
    "    \n",
    "    print('\\033[4mRegion {}\\033[0m'.format(region))\n",
    "    bootstrapping(target, pred)\n",
    "    print(\"\\n\\n\")"
   ]
  },
  {
   "cell_type": "markdown",
   "metadata": {},
   "source": [
    "#### Region 3 (data_2)\n",
    "\n",
    "Here is the profit margin statistics and loss potential for region 3. Based on the profit calcutions and bootstrapping technique, building a oil development in region 3 would produce a similar profit as well, but there is a loss potential of <b>9.7%</b>. There is also a 95% confidence that the profit margin would be between <b>-1.5</b> to <b>8</b> million.\n",
    "\n",
    "- Net profit: $<b>22,375,523.15</b>\n",
    "\n",
    "Bootstrapping\n",
    "\n",
    "- Mean profit: $<b>3,433,359.07</b>\n",
    "- Confidence interval: <b>(-1,513,126.22, 8,253,967.94)</b>\n",
    "- Loss potential: <b>9.7%</b>"
   ]
  },
  {
   "cell_type": "code",
   "execution_count": 60,
   "metadata": {},
   "outputs": [
    {
     "name": "stdout",
     "output_type": "stream",
     "text": [
      "Net profit: $ 22,375,523.15\n"
     ]
    }
   ],
   "source": [
    "# Top 200 wells based on oil reserves\n",
    "# Reset target index and convert predictions to a Series\n",
    "data_2_valid_target = data_2_valid_target.reset_index(drop=True)\n",
    "data_2_preds = pd.Series(data_2_preds, index=data_2_valid_target.index)\n",
    "\n",
    "# Calculate net profit\n",
    "print('Net profit: $', f\"{round(profit(data_2_valid_target, data_2_preds, 200), 2):,}\")"
   ]
  },
  {
   "cell_type": "code",
   "execution_count": 61,
   "metadata": {},
   "outputs": [
    {
     "name": "stdout",
     "output_type": "stream",
     "text": [
      "\u001b[4mRegion 3\u001b[0m\n",
      "Mean profit: $ 3,492,373.63\n",
      "Confidence interval:  (-1941595.64, 8425977.07)\n",
      "Loss potential:  10.100000000000001 %\n"
     ]
    }
   ],
   "source": [
    "# Find average profit, 95% confidence interval and risk of losses using the Bootstrap technique\n",
    "\n",
    "profit_values = []\n",
    "for i in range(BOOTSTRAP_SIZE):\n",
    "    data_2_valid_target_sample = data_2_valid_target.sample(n=SAMPLE_SIZE, replace=True, random_state=state)\n",
    "    data_2_preds_sample = data_2_preds.iloc[data_2_valid_target_sample.index]\n",
    "    profit_values.append(profit(data_2_valid_target, data_2_preds_sample, 200))\n",
    "    \n",
    "profit_values = pd.Series(profit_values)\n",
    "\n",
    "avg_profit = round(profit_values.mean(), 2)\n",
    "conf_interval = (round(profit_values.quantile(0.025), 2), round(profit_values.quantile(0.975), 2))\n",
    "loss_prob = (profit_values < 0).mean()\n",
    "\n",
    "print('\\033[4mRegion 3\\033[0m')\n",
    "print('Mean profit: $', f\"{avg_profit:,}\")\n",
    "print('Confidence interval: ', conf_interval)\n",
    "print('Loss potential: ', loss_prob * 100, '%')"
   ]
  },
  {
   "cell_type": "markdown",
   "metadata": {},
   "source": [
    "# Conclusion\n",
    "\n",
    "Which region is most suitable and will yield the most profit for a new oil development? What factors will determine the best region? Here is a quick review of what was demonstrated for each region that helped determine the conclusion.\n",
    "\n",
    "- A machine learning model was created to predict the oil reserves in each region\n",
    "- RMSE (root squared mean error) was calculated to determine the the model performance\n",
    "- Oil reserve averages and the break-even point were gathered and compared to see which regions had the most reserves and what reserves were needed to prevent a loss\n",
    "- Bootstrapping and certain calculations were performed (based on the predicted oil reserve values) to identify the mean profit, 95% confidence interval, and loss potential\n",
    "\n",
    "In conclusion, it is expected that all regions would produce a similar profit margin - approximately <b>3 million</b> dollars. However, there is no risk in building an oil development in region 2 because the loss potential is <b>0.6%</b>. This loss potential is better than the 2.5% threshold, and it is much better than the loss potentials of regions 1 and 3, which are <b>6.3</b> and <b>9.7</b> respectively. Therefore, it is recommended that OilyGiant build a new oil development in region 2. It is a great investment because according to the analysis outlined in this report, it is a guarantee that a positive profit margin will be attained."
   ]
  }
 ],
 "metadata": {
  "ExecuteTimeLog": [
   {
    "duration": 309,
    "start_time": "2025-01-27T18:15:30.067Z"
   },
   {
    "duration": 468,
    "start_time": "2025-01-27T18:15:41.154Z"
   },
   {
    "duration": 3,
    "start_time": "2025-01-27T18:16:33.892Z"
   },
   {
    "duration": 100,
    "start_time": "2025-01-27T18:17:29.620Z"
   },
   {
    "duration": 6,
    "start_time": "2025-01-27T18:17:40.435Z"
   },
   {
    "duration": 267,
    "start_time": "2025-01-27T18:18:28.661Z"
   },
   {
    "duration": 8,
    "start_time": "2025-01-27T18:18:36.767Z"
   },
   {
    "duration": 7,
    "start_time": "2025-01-27T18:19:32.618Z"
   },
   {
    "duration": 3,
    "start_time": "2025-01-27T18:20:01.740Z"
   },
   {
    "duration": 12,
    "start_time": "2025-01-27T18:20:07.139Z"
   },
   {
    "duration": 5,
    "start_time": "2025-01-27T18:20:12.837Z"
   },
   {
    "duration": 13,
    "start_time": "2025-01-27T18:20:13.437Z"
   },
   {
    "duration": 4,
    "start_time": "2025-01-27T18:21:06.575Z"
   },
   {
    "duration": 24,
    "start_time": "2025-01-27T18:22:16.267Z"
   },
   {
    "duration": 31,
    "start_time": "2025-01-27T18:22:38.207Z"
   },
   {
    "duration": 225,
    "start_time": "2025-01-27T18:23:11.204Z"
   },
   {
    "duration": 18,
    "start_time": "2025-01-27T18:23:19.026Z"
   },
   {
    "duration": 6,
    "start_time": "2025-01-27T18:23:50.625Z"
   },
   {
    "duration": 17,
    "start_time": "2025-01-27T18:24:08.693Z"
   },
   {
    "duration": 17,
    "start_time": "2025-01-27T18:24:35.320Z"
   },
   {
    "duration": 4,
    "start_time": "2025-01-27T18:24:54.574Z"
   },
   {
    "duration": 22,
    "start_time": "2025-01-27T18:24:58.122Z"
   },
   {
    "duration": 17,
    "start_time": "2025-01-27T18:25:04.833Z"
   },
   {
    "duration": 13,
    "start_time": "2025-01-27T18:40:47.772Z"
   },
   {
    "duration": 13,
    "start_time": "2025-01-27T18:41:13.255Z"
   },
   {
    "duration": 13,
    "start_time": "2025-01-27T18:41:14.660Z"
   },
   {
    "duration": 3,
    "start_time": "2025-01-27T18:41:27.132Z"
   },
   {
    "duration": 13,
    "start_time": "2025-01-27T18:42:27.260Z"
   },
   {
    "duration": 15,
    "start_time": "2025-01-27T18:42:30.290Z"
   },
   {
    "duration": 15,
    "start_time": "2025-01-27T18:42:31.641Z"
   },
   {
    "duration": 30,
    "start_time": "2025-01-27T19:26:03.599Z"
   },
   {
    "duration": 18,
    "start_time": "2025-01-27T19:26:04.150Z"
   },
   {
    "duration": 446,
    "start_time": "2025-01-27T19:30:13.805Z"
   },
   {
    "duration": 4,
    "start_time": "2025-01-27T19:30:52.750Z"
   },
   {
    "duration": 46,
    "start_time": "2025-01-27T19:30:57.892Z"
   },
   {
    "duration": 22,
    "start_time": "2025-01-27T19:31:23.170Z"
   },
   {
    "duration": 58,
    "start_time": "2025-01-27T19:31:25.148Z"
   },
   {
    "duration": 6,
    "start_time": "2025-01-27T19:45:59.366Z"
   },
   {
    "duration": 6,
    "start_time": "2025-01-27T19:47:37.911Z"
   },
   {
    "duration": 6,
    "start_time": "2025-01-27T19:47:46.774Z"
   },
   {
    "duration": 12,
    "start_time": "2025-01-27T19:49:19.439Z"
   },
   {
    "duration": 10,
    "start_time": "2025-01-27T19:49:36.352Z"
   },
   {
    "duration": 6,
    "start_time": "2025-01-27T20:02:18.926Z"
   },
   {
    "duration": 149,
    "start_time": "2025-01-27T20:03:03.274Z"
   },
   {
    "duration": 12,
    "start_time": "2025-01-27T20:03:11.545Z"
   },
   {
    "duration": 791,
    "start_time": "2025-01-27T20:03:27.046Z"
   },
   {
    "duration": 222,
    "start_time": "2025-01-27T20:03:27.842Z"
   },
   {
    "duration": 15,
    "start_time": "2025-01-27T20:03:28.066Z"
   },
   {
    "duration": 12,
    "start_time": "2025-01-27T20:03:28.083Z"
   },
   {
    "duration": 29,
    "start_time": "2025-01-27T20:03:28.097Z"
   },
   {
    "duration": 5,
    "start_time": "2025-01-27T20:03:28.128Z"
   },
   {
    "duration": 3,
    "start_time": "2025-01-27T20:03:28.134Z"
   },
   {
    "duration": 2,
    "start_time": "2025-01-27T20:03:28.139Z"
   },
   {
    "duration": 3,
    "start_time": "2025-01-27T20:03:28.143Z"
   },
   {
    "duration": 3,
    "start_time": "2025-01-27T20:03:28.148Z"
   },
   {
    "duration": 33,
    "start_time": "2025-01-27T20:03:28.152Z"
   },
   {
    "duration": 49,
    "start_time": "2025-01-27T20:03:28.187Z"
   },
   {
    "duration": 10,
    "start_time": "2025-01-27T20:03:28.238Z"
   },
   {
    "duration": 7,
    "start_time": "2025-01-27T20:03:28.251Z"
   },
   {
    "duration": 4,
    "start_time": "2025-01-27T20:03:28.260Z"
   },
   {
    "duration": 3,
    "start_time": "2025-01-27T20:03:28.266Z"
   },
   {
    "duration": 28,
    "start_time": "2025-01-27T20:07:40.462Z"
   },
   {
    "duration": 28,
    "start_time": "2025-01-27T20:07:48.048Z"
   },
   {
    "duration": 25,
    "start_time": "2025-01-27T20:08:02.826Z"
   },
   {
    "duration": 215,
    "start_time": "2025-01-27T20:10:29.594Z"
   },
   {
    "duration": 29,
    "start_time": "2025-01-27T20:11:22.687Z"
   },
   {
    "duration": 786,
    "start_time": "2025-01-27T20:11:30.538Z"
   },
   {
    "duration": 222,
    "start_time": "2025-01-27T20:11:31.326Z"
   },
   {
    "duration": 15,
    "start_time": "2025-01-27T20:11:31.549Z"
   },
   {
    "duration": 12,
    "start_time": "2025-01-27T20:11:31.566Z"
   },
   {
    "duration": 12,
    "start_time": "2025-01-27T20:11:31.582Z"
   },
   {
    "duration": 2,
    "start_time": "2025-01-27T20:11:31.596Z"
   },
   {
    "duration": 3,
    "start_time": "2025-01-27T20:11:31.624Z"
   },
   {
    "duration": 2,
    "start_time": "2025-01-27T20:11:31.629Z"
   },
   {
    "duration": 4,
    "start_time": "2025-01-27T20:11:31.632Z"
   },
   {
    "duration": 3,
    "start_time": "2025-01-27T20:11:31.638Z"
   },
   {
    "duration": 33,
    "start_time": "2025-01-27T20:11:31.643Z"
   },
   {
    "duration": 50,
    "start_time": "2025-01-27T20:11:31.678Z"
   },
   {
    "duration": 238,
    "start_time": "2025-01-27T20:11:31.730Z"
   },
   {
    "duration": 0,
    "start_time": "2025-01-27T20:11:31.970Z"
   },
   {
    "duration": 0,
    "start_time": "2025-01-27T20:11:31.971Z"
   },
   {
    "duration": 0,
    "start_time": "2025-01-27T20:11:31.972Z"
   },
   {
    "duration": 19,
    "start_time": "2025-01-27T20:12:45.781Z"
   },
   {
    "duration": 9,
    "start_time": "2025-01-27T20:13:33.644Z"
   },
   {
    "duration": 31,
    "start_time": "2025-01-27T20:14:00.611Z"
   },
   {
    "duration": 10,
    "start_time": "2025-01-27T20:15:17.711Z"
   },
   {
    "duration": 9,
    "start_time": "2025-01-27T20:16:11.737Z"
   },
   {
    "duration": 5,
    "start_time": "2025-01-27T20:33:50.843Z"
   },
   {
    "duration": 365,
    "start_time": "2025-01-27T20:33:54.360Z"
   },
   {
    "duration": 13,
    "start_time": "2025-01-27T20:34:12.724Z"
   },
   {
    "duration": 33,
    "start_time": "2025-01-27T20:34:18.655Z"
   },
   {
    "duration": 31,
    "start_time": "2025-01-27T20:34:36.308Z"
   },
   {
    "duration": 29,
    "start_time": "2025-01-27T20:41:23.547Z"
   },
   {
    "duration": 4,
    "start_time": "2025-01-27T21:01:57.460Z"
   },
   {
    "duration": 4,
    "start_time": "2025-01-27T21:02:17.023Z"
   },
   {
    "duration": 5,
    "start_time": "2025-01-27T21:02:40.639Z"
   },
   {
    "duration": 6,
    "start_time": "2025-01-27T21:02:58.762Z"
   },
   {
    "duration": 6,
    "start_time": "2025-01-27T21:03:04.927Z"
   },
   {
    "duration": 7,
    "start_time": "2025-01-27T21:03:42.602Z"
   },
   {
    "duration": 8,
    "start_time": "2025-01-27T21:03:48.152Z"
   },
   {
    "duration": 10,
    "start_time": "2025-01-27T21:05:50.931Z"
   },
   {
    "duration": 12,
    "start_time": "2025-01-27T21:06:04.067Z"
   },
   {
    "duration": 6,
    "start_time": "2025-01-27T21:07:47.384Z"
   },
   {
    "duration": 6,
    "start_time": "2025-01-27T21:08:53.295Z"
   },
   {
    "duration": 734,
    "start_time": "2025-01-28T17:43:05.106Z"
   },
   {
    "duration": 292,
    "start_time": "2025-01-28T17:43:05.842Z"
   },
   {
    "duration": 13,
    "start_time": "2025-01-28T17:43:06.137Z"
   },
   {
    "duration": 12,
    "start_time": "2025-01-28T17:43:06.153Z"
   },
   {
    "duration": 14,
    "start_time": "2025-01-28T17:43:06.166Z"
   },
   {
    "duration": 12,
    "start_time": "2025-01-28T17:43:06.181Z"
   },
   {
    "duration": 6,
    "start_time": "2025-01-28T17:43:06.194Z"
   },
   {
    "duration": 4,
    "start_time": "2025-01-28T17:43:06.202Z"
   },
   {
    "duration": 32,
    "start_time": "2025-01-28T17:43:06.232Z"
   },
   {
    "duration": 17,
    "start_time": "2025-01-28T17:43:06.267Z"
   },
   {
    "duration": 10,
    "start_time": "2025-01-28T17:43:06.286Z"
   },
   {
    "duration": 2,
    "start_time": "2025-01-28T17:43:06.298Z"
   },
   {
    "duration": 31,
    "start_time": "2025-01-28T17:43:06.302Z"
   },
   {
    "duration": 3,
    "start_time": "2025-01-28T17:43:06.334Z"
   },
   {
    "duration": 36,
    "start_time": "2025-01-28T18:15:12.459Z"
   },
   {
    "duration": 19,
    "start_time": "2025-01-28T18:15:33.929Z"
   },
   {
    "duration": 33,
    "start_time": "2025-01-28T18:15:55.103Z"
   },
   {
    "duration": 19,
    "start_time": "2025-01-28T18:15:55.885Z"
   },
   {
    "duration": 8,
    "start_time": "2025-01-28T18:17:29.711Z"
   },
   {
    "duration": 8,
    "start_time": "2025-01-28T18:17:32.663Z"
   },
   {
    "duration": 8,
    "start_time": "2025-01-28T18:17:34.790Z"
   },
   {
    "duration": 914,
    "start_time": "2025-01-28T18:17:46.136Z"
   },
   {
    "duration": 770,
    "start_time": "2025-01-28T18:17:59.063Z"
   },
   {
    "duration": 217,
    "start_time": "2025-01-28T18:17:59.836Z"
   },
   {
    "duration": 15,
    "start_time": "2025-01-28T18:18:00.055Z"
   },
   {
    "duration": 12,
    "start_time": "2025-01-28T18:18:00.072Z"
   },
   {
    "duration": 13,
    "start_time": "2025-01-28T18:18:00.087Z"
   },
   {
    "duration": 32,
    "start_time": "2025-01-28T18:18:00.101Z"
   },
   {
    "duration": 6,
    "start_time": "2025-01-28T18:18:00.135Z"
   },
   {
    "duration": 3,
    "start_time": "2025-01-28T18:18:00.143Z"
   },
   {
    "duration": 32,
    "start_time": "2025-01-28T18:18:00.148Z"
   },
   {
    "duration": 18,
    "start_time": "2025-01-28T18:18:00.182Z"
   },
   {
    "duration": 10,
    "start_time": "2025-01-28T18:18:00.231Z"
   },
   {
    "duration": 2,
    "start_time": "2025-01-28T18:18:00.243Z"
   },
   {
    "duration": 3,
    "start_time": "2025-01-28T18:18:00.247Z"
   },
   {
    "duration": 3,
    "start_time": "2025-01-28T18:18:00.253Z"
   },
   {
    "duration": 32,
    "start_time": "2025-01-28T18:18:00.257Z"
   },
   {
    "duration": 45,
    "start_time": "2025-01-28T18:18:00.291Z"
   },
   {
    "duration": 36,
    "start_time": "2025-01-28T18:18:00.339Z"
   },
   {
    "duration": 21,
    "start_time": "2025-01-28T18:18:00.377Z"
   },
   {
    "duration": 37,
    "start_time": "2025-01-28T18:18:00.401Z"
   },
   {
    "duration": 12,
    "start_time": "2025-01-28T18:18:00.440Z"
   },
   {
    "duration": 12,
    "start_time": "2025-01-28T18:18:00.454Z"
   },
   {
    "duration": 751,
    "start_time": "2025-01-28T18:18:37.291Z"
   },
   {
    "duration": 227,
    "start_time": "2025-01-28T18:18:38.045Z"
   },
   {
    "duration": 15,
    "start_time": "2025-01-28T18:18:38.273Z"
   },
   {
    "duration": 12,
    "start_time": "2025-01-28T18:18:38.290Z"
   },
   {
    "duration": 28,
    "start_time": "2025-01-28T18:18:38.304Z"
   },
   {
    "duration": 11,
    "start_time": "2025-01-28T18:18:38.334Z"
   },
   {
    "duration": 6,
    "start_time": "2025-01-28T18:18:38.346Z"
   },
   {
    "duration": 4,
    "start_time": "2025-01-28T18:18:38.354Z"
   },
   {
    "duration": 32,
    "start_time": "2025-01-28T18:18:38.360Z"
   },
   {
    "duration": 49,
    "start_time": "2025-01-28T18:18:38.395Z"
   },
   {
    "duration": 10,
    "start_time": "2025-01-28T18:18:38.445Z"
   },
   {
    "duration": 2,
    "start_time": "2025-01-28T18:18:38.457Z"
   },
   {
    "duration": 2,
    "start_time": "2025-01-28T18:18:38.462Z"
   },
   {
    "duration": 4,
    "start_time": "2025-01-28T18:18:38.465Z"
   },
   {
    "duration": 30,
    "start_time": "2025-01-28T18:18:38.471Z"
   },
   {
    "duration": 47,
    "start_time": "2025-01-28T18:18:38.502Z"
   },
   {
    "duration": 33,
    "start_time": "2025-01-28T18:18:38.551Z"
   },
   {
    "duration": 22,
    "start_time": "2025-01-28T18:18:38.586Z"
   },
   {
    "duration": 11,
    "start_time": "2025-01-28T18:18:38.632Z"
   },
   {
    "duration": 10,
    "start_time": "2025-01-28T18:18:38.645Z"
   },
   {
    "duration": 9,
    "start_time": "2025-01-28T18:18:38.656Z"
   },
   {
    "duration": 12,
    "start_time": "2025-01-28T18:18:48.657Z"
   },
   {
    "duration": 20,
    "start_time": "2025-01-28T18:34:33.214Z"
   },
   {
    "duration": 5,
    "start_time": "2025-01-28T18:44:00.477Z"
   },
   {
    "duration": 5,
    "start_time": "2025-01-28T18:44:01.122Z"
   },
   {
    "duration": 6,
    "start_time": "2025-01-28T18:44:05.234Z"
   },
   {
    "duration": 16,
    "start_time": "2025-01-28T19:11:05.665Z"
   },
   {
    "duration": 2,
    "start_time": "2025-01-28T19:12:28.169Z"
   },
   {
    "duration": 10,
    "start_time": "2025-01-28T19:15:23.928Z"
   },
   {
    "duration": 3,
    "start_time": "2025-01-28T19:16:02.344Z"
   },
   {
    "duration": 38,
    "start_time": "2025-01-28T19:18:37.474Z"
   },
   {
    "duration": 109,
    "start_time": "2025-01-28T19:18:44.622Z"
   },
   {
    "duration": 79,
    "start_time": "2025-01-28T19:18:52.076Z"
   },
   {
    "duration": 798,
    "start_time": "2025-01-28T19:19:02.043Z"
   },
   {
    "duration": 217,
    "start_time": "2025-01-28T19:19:02.844Z"
   },
   {
    "duration": 15,
    "start_time": "2025-01-28T19:19:03.063Z"
   },
   {
    "duration": 13,
    "start_time": "2025-01-28T19:19:03.080Z"
   },
   {
    "duration": 11,
    "start_time": "2025-01-28T19:19:03.096Z"
   },
   {
    "duration": 31,
    "start_time": "2025-01-28T19:19:03.109Z"
   },
   {
    "duration": 5,
    "start_time": "2025-01-28T19:19:03.142Z"
   },
   {
    "duration": 5,
    "start_time": "2025-01-28T19:19:03.149Z"
   },
   {
    "duration": 35,
    "start_time": "2025-01-28T19:19:03.155Z"
   },
   {
    "duration": 53,
    "start_time": "2025-01-28T19:19:03.193Z"
   },
   {
    "duration": 14,
    "start_time": "2025-01-28T19:19:03.248Z"
   },
   {
    "duration": 2,
    "start_time": "2025-01-28T19:19:03.264Z"
   },
   {
    "duration": 2,
    "start_time": "2025-01-28T19:19:03.269Z"
   },
   {
    "duration": 2,
    "start_time": "2025-01-28T19:19:03.276Z"
   },
   {
    "duration": 57,
    "start_time": "2025-01-28T19:19:03.279Z"
   },
   {
    "duration": 20,
    "start_time": "2025-01-28T19:19:03.338Z"
   },
   {
    "duration": 32,
    "start_time": "2025-01-28T19:19:03.361Z"
   },
   {
    "duration": 43,
    "start_time": "2025-01-28T19:19:03.395Z"
   },
   {
    "duration": 10,
    "start_time": "2025-01-28T19:19:03.440Z"
   },
   {
    "duration": 10,
    "start_time": "2025-01-28T19:19:03.452Z"
   },
   {
    "duration": 9,
    "start_time": "2025-01-28T19:19:03.466Z"
   },
   {
    "duration": 19,
    "start_time": "2025-01-28T19:19:03.476Z"
   },
   {
    "duration": 4,
    "start_time": "2025-01-28T19:19:03.497Z"
   },
   {
    "duration": 6,
    "start_time": "2025-01-28T19:19:03.531Z"
   },
   {
    "duration": 6,
    "start_time": "2025-01-28T19:19:03.538Z"
   },
   {
    "duration": 200,
    "start_time": "2025-01-28T19:19:03.545Z"
   },
   {
    "duration": 89,
    "start_time": "2025-01-28T19:19:03.747Z"
   },
   {
    "duration": 333,
    "start_time": "2025-01-28T19:23:07.171Z"
   },
   {
    "duration": 11,
    "start_time": "2025-01-28T19:23:25.365Z"
   },
   {
    "duration": 25,
    "start_time": "2025-01-28T19:23:54.542Z"
   },
   {
    "duration": 24,
    "start_time": "2025-01-28T19:24:02.244Z"
   },
   {
    "duration": 10,
    "start_time": "2025-01-28T19:24:14.682Z"
   },
   {
    "duration": 9,
    "start_time": "2025-01-28T19:24:21.916Z"
   },
   {
    "duration": 9,
    "start_time": "2025-01-28T19:24:51.448Z"
   },
   {
    "duration": 10,
    "start_time": "2025-01-28T19:25:50.308Z"
   },
   {
    "duration": 15,
    "start_time": "2025-01-28T19:29:33.006Z"
   },
   {
    "duration": 11,
    "start_time": "2025-01-28T19:29:52.279Z"
   },
   {
    "duration": 10,
    "start_time": "2025-01-28T19:30:05.054Z"
   },
   {
    "duration": 11,
    "start_time": "2025-01-28T19:30:13.912Z"
   },
   {
    "duration": 18,
    "start_time": "2025-01-28T19:35:54.197Z"
   },
   {
    "duration": 13,
    "start_time": "2025-01-28T19:36:27.167Z"
   },
   {
    "duration": 734,
    "start_time": "2025-01-28T19:37:06.213Z"
   },
   {
    "duration": 226,
    "start_time": "2025-01-28T19:37:06.949Z"
   },
   {
    "duration": 17,
    "start_time": "2025-01-28T19:37:07.176Z"
   },
   {
    "duration": 13,
    "start_time": "2025-01-28T19:37:07.195Z"
   },
   {
    "duration": 27,
    "start_time": "2025-01-28T19:37:07.211Z"
   },
   {
    "duration": 9,
    "start_time": "2025-01-28T19:37:07.240Z"
   },
   {
    "duration": 5,
    "start_time": "2025-01-28T19:37:07.252Z"
   },
   {
    "duration": 3,
    "start_time": "2025-01-28T19:37:07.259Z"
   },
   {
    "duration": 31,
    "start_time": "2025-01-28T19:37:07.265Z"
   },
   {
    "duration": 50,
    "start_time": "2025-01-28T19:37:07.298Z"
   },
   {
    "duration": 12,
    "start_time": "2025-01-28T19:37:07.350Z"
   },
   {
    "duration": 2,
    "start_time": "2025-01-28T19:37:07.363Z"
   },
   {
    "duration": 2,
    "start_time": "2025-01-28T19:37:07.367Z"
   },
   {
    "duration": 3,
    "start_time": "2025-01-28T19:37:07.372Z"
   },
   {
    "duration": 60,
    "start_time": "2025-01-28T19:37:07.376Z"
   },
   {
    "duration": 24,
    "start_time": "2025-01-28T19:37:07.438Z"
   },
   {
    "duration": 36,
    "start_time": "2025-01-28T19:37:07.464Z"
   },
   {
    "duration": 37,
    "start_time": "2025-01-28T19:37:07.502Z"
   },
   {
    "duration": 9,
    "start_time": "2025-01-28T19:37:07.541Z"
   },
   {
    "duration": 9,
    "start_time": "2025-01-28T19:37:07.552Z"
   },
   {
    "duration": 11,
    "start_time": "2025-01-28T19:37:07.563Z"
   },
   {
    "duration": 22,
    "start_time": "2025-01-28T19:37:07.576Z"
   },
   {
    "duration": 35,
    "start_time": "2025-01-28T19:37:07.600Z"
   },
   {
    "duration": 6,
    "start_time": "2025-01-28T19:37:07.636Z"
   },
   {
    "duration": 7,
    "start_time": "2025-01-28T19:37:07.643Z"
   },
   {
    "duration": 209,
    "start_time": "2025-01-28T19:37:07.652Z"
   },
   {
    "duration": 81,
    "start_time": "2025-01-28T19:37:07.863Z"
   },
   {
    "duration": 13,
    "start_time": "2025-01-28T19:37:11.535Z"
   },
   {
    "duration": 12,
    "start_time": "2025-01-28T19:37:15.772Z"
   },
   {
    "duration": 20,
    "start_time": "2025-01-28T19:37:40.446Z"
   },
   {
    "duration": 4,
    "start_time": "2025-01-28T19:38:22.074Z"
   },
   {
    "duration": 15,
    "start_time": "2025-01-28T19:38:24.393Z"
   },
   {
    "duration": 14,
    "start_time": "2025-01-28T19:38:31.458Z"
   },
   {
    "duration": 15,
    "start_time": "2025-01-28T19:38:43.203Z"
   },
   {
    "duration": 13,
    "start_time": "2025-01-28T19:39:26.310Z"
   },
   {
    "duration": 166,
    "start_time": "2025-01-28T19:40:27.874Z"
   },
   {
    "duration": 16,
    "start_time": "2025-01-28T19:42:14.086Z"
   },
   {
    "duration": 184,
    "start_time": "2025-01-28T19:43:20.550Z"
   },
   {
    "duration": 15,
    "start_time": "2025-01-28T19:44:00.601Z"
   },
   {
    "duration": 742,
    "start_time": "2025-01-28T19:49:17.020Z"
   },
   {
    "duration": 232,
    "start_time": "2025-01-28T19:49:17.765Z"
   },
   {
    "duration": 15,
    "start_time": "2025-01-28T19:49:17.999Z"
   },
   {
    "duration": 27,
    "start_time": "2025-01-28T19:49:18.016Z"
   },
   {
    "duration": 14,
    "start_time": "2025-01-28T19:49:18.047Z"
   },
   {
    "duration": 10,
    "start_time": "2025-01-28T19:49:18.062Z"
   },
   {
    "duration": 6,
    "start_time": "2025-01-28T19:49:18.073Z"
   },
   {
    "duration": 4,
    "start_time": "2025-01-28T19:49:18.081Z"
   },
   {
    "duration": 63,
    "start_time": "2025-01-28T19:49:18.086Z"
   },
   {
    "duration": 22,
    "start_time": "2025-01-28T19:49:18.151Z"
   },
   {
    "duration": 11,
    "start_time": "2025-01-28T19:49:18.177Z"
   },
   {
    "duration": 2,
    "start_time": "2025-01-28T19:49:18.190Z"
   },
   {
    "duration": 3,
    "start_time": "2025-01-28T19:49:18.193Z"
   },
   {
    "duration": 31,
    "start_time": "2025-01-28T19:49:18.200Z"
   },
   {
    "duration": 32,
    "start_time": "2025-01-28T19:49:18.233Z"
   },
   {
    "duration": 21,
    "start_time": "2025-01-28T19:49:18.267Z"
   },
   {
    "duration": 51,
    "start_time": "2025-01-28T19:49:18.290Z"
   },
   {
    "duration": 23,
    "start_time": "2025-01-28T19:49:18.343Z"
   },
   {
    "duration": 10,
    "start_time": "2025-01-28T19:49:18.368Z"
   },
   {
    "duration": 10,
    "start_time": "2025-01-28T19:49:18.380Z"
   },
   {
    "duration": 10,
    "start_time": "2025-01-28T19:49:18.391Z"
   },
   {
    "duration": 20,
    "start_time": "2025-01-28T19:49:18.434Z"
   },
   {
    "duration": 5,
    "start_time": "2025-01-28T19:49:18.456Z"
   },
   {
    "duration": 5,
    "start_time": "2025-01-28T19:49:18.462Z"
   },
   {
    "duration": 5,
    "start_time": "2025-01-28T19:49:18.469Z"
   },
   {
    "duration": 169,
    "start_time": "2025-01-28T19:49:18.477Z"
   },
   {
    "duration": 90,
    "start_time": "2025-01-28T19:49:18.647Z"
   },
   {
    "duration": 211,
    "start_time": "2025-01-28T19:49:18.738Z"
   },
   {
    "duration": 89,
    "start_time": "2025-01-28T19:49:18.951Z"
   },
   {
    "duration": 210,
    "start_time": "2025-01-28T19:49:19.042Z"
   },
   {
    "duration": 88,
    "start_time": "2025-01-28T19:49:19.254Z"
   },
   {
    "duration": 7,
    "start_time": "2025-01-28T19:50:12.485Z"
   },
   {
    "duration": 7,
    "start_time": "2025-01-28T19:53:06.615Z"
   },
   {
    "duration": 7,
    "start_time": "2025-01-28T19:53:11.226Z"
   },
   {
    "duration": 1932,
    "start_time": "2025-01-28T19:58:01.217Z"
   },
   {
    "duration": 280,
    "start_time": "2025-01-28T20:07:29.680Z"
   },
   {
    "duration": 139,
    "start_time": "2025-01-28T20:07:48.763Z"
   },
   {
    "duration": 129,
    "start_time": "2025-01-28T20:07:56.281Z"
   },
   {
    "duration": 420,
    "start_time": "2025-01-28T20:08:10.695Z"
   },
   {
    "duration": 132,
    "start_time": "2025-01-28T20:08:23.541Z"
   },
   {
    "duration": 129,
    "start_time": "2025-01-28T20:08:36.455Z"
   },
   {
    "duration": 128,
    "start_time": "2025-01-28T20:08:40.425Z"
   },
   {
    "duration": 350,
    "start_time": "2025-01-28T20:10:32.549Z"
   },
   {
    "duration": 129,
    "start_time": "2025-01-28T20:10:42.512Z"
   },
   {
    "duration": 132,
    "start_time": "2025-01-28T20:11:17.485Z"
   },
   {
    "duration": 152,
    "start_time": "2025-01-28T20:11:43.104Z"
   },
   {
    "duration": 139,
    "start_time": "2025-01-28T20:12:19.404Z"
   },
   {
    "duration": 147,
    "start_time": "2025-01-28T20:12:26.254Z"
   },
   {
    "duration": 173,
    "start_time": "2025-01-28T20:12:32.831Z"
   },
   {
    "duration": 545,
    "start_time": "2025-01-28T20:15:46.927Z"
   },
   {
    "duration": 166,
    "start_time": "2025-01-28T20:17:06.889Z"
   },
   {
    "duration": 18,
    "start_time": "2025-01-28T20:18:28.956Z"
   },
   {
    "duration": 13,
    "start_time": "2025-01-28T20:18:33.228Z"
   },
   {
    "duration": 171,
    "start_time": "2025-01-28T20:20:08.848Z"
   },
   {
    "duration": 13,
    "start_time": "2025-01-28T20:21:28.781Z"
   },
   {
    "duration": 2,
    "start_time": "2025-01-28T20:22:34.819Z"
   },
   {
    "duration": 13,
    "start_time": "2025-01-28T20:22:44.882Z"
   },
   {
    "duration": 118,
    "start_time": "2025-01-28T20:26:55.294Z"
   },
   {
    "duration": 46,
    "start_time": "2025-01-28T20:28:10.985Z"
   },
   {
    "duration": 45,
    "start_time": "2025-01-28T20:28:38.557Z"
   },
   {
    "duration": 60,
    "start_time": "2025-01-28T20:34:32.343Z"
   },
   {
    "duration": 43,
    "start_time": "2025-01-28T20:37:54.732Z"
   },
   {
    "duration": 987,
    "start_time": "2025-01-28T20:38:04.527Z"
   },
   {
    "duration": 224,
    "start_time": "2025-01-28T20:38:05.516Z"
   },
   {
    "duration": 15,
    "start_time": "2025-01-28T20:38:05.741Z"
   },
   {
    "duration": 13,
    "start_time": "2025-01-28T20:38:05.757Z"
   },
   {
    "duration": 13,
    "start_time": "2025-01-28T20:38:05.772Z"
   },
   {
    "duration": 9,
    "start_time": "2025-01-28T20:38:05.787Z"
   },
   {
    "duration": 5,
    "start_time": "2025-01-28T20:38:05.797Z"
   },
   {
    "duration": 29,
    "start_time": "2025-01-28T20:38:05.804Z"
   },
   {
    "duration": 33,
    "start_time": "2025-01-28T20:38:05.835Z"
   },
   {
    "duration": 29,
    "start_time": "2025-01-28T20:38:05.870Z"
   },
   {
    "duration": 34,
    "start_time": "2025-01-28T20:38:05.901Z"
   },
   {
    "duration": 3,
    "start_time": "2025-01-28T20:38:05.937Z"
   },
   {
    "duration": 2,
    "start_time": "2025-01-28T20:38:05.942Z"
   },
   {
    "duration": 4,
    "start_time": "2025-01-28T20:38:05.948Z"
   },
   {
    "duration": 32,
    "start_time": "2025-01-28T20:38:05.953Z"
   },
   {
    "duration": 49,
    "start_time": "2025-01-28T20:38:05.986Z"
   },
   {
    "duration": 35,
    "start_time": "2025-01-28T20:38:06.037Z"
   },
   {
    "duration": 20,
    "start_time": "2025-01-28T20:38:06.073Z"
   },
   {
    "duration": 11,
    "start_time": "2025-01-28T20:38:06.095Z"
   },
   {
    "duration": 10,
    "start_time": "2025-01-28T20:38:06.130Z"
   },
   {
    "duration": 10,
    "start_time": "2025-01-28T20:38:06.142Z"
   },
   {
    "duration": 19,
    "start_time": "2025-01-28T20:38:06.155Z"
   },
   {
    "duration": 5,
    "start_time": "2025-01-28T20:38:06.176Z"
   },
   {
    "duration": 6,
    "start_time": "2025-01-28T20:38:06.182Z"
   },
   {
    "duration": 6,
    "start_time": "2025-01-28T20:38:06.189Z"
   },
   {
    "duration": 236,
    "start_time": "2025-01-28T20:38:06.196Z"
   },
   {
    "duration": 16,
    "start_time": "2025-01-28T20:38:06.434Z"
   },
   {
    "duration": 280,
    "start_time": "2025-01-28T20:38:06.451Z"
   },
   {
    "duration": 201,
    "start_time": "2025-01-28T20:38:06.733Z"
   },
   {
    "duration": 17,
    "start_time": "2025-01-28T20:38:06.935Z"
   },
   {
    "duration": 463,
    "start_time": "2025-01-28T20:38:06.954Z"
   },
   {
    "duration": 0,
    "start_time": "2025-01-28T20:38:07.419Z"
   },
   {
    "duration": 0,
    "start_time": "2025-01-28T20:38:07.421Z"
   },
   {
    "duration": 0,
    "start_time": "2025-01-28T20:38:07.422Z"
   },
   {
    "duration": 164,
    "start_time": "2025-01-28T20:43:33.117Z"
   },
   {
    "duration": 14,
    "start_time": "2025-01-28T20:45:18.466Z"
   },
   {
    "duration": 684,
    "start_time": "2025-01-28T20:47:42.426Z"
   },
   {
    "duration": 171,
    "start_time": "2025-01-28T20:47:54.412Z"
   },
   {
    "duration": 164,
    "start_time": "2025-01-28T20:48:55.690Z"
   },
   {
    "duration": 158,
    "start_time": "2025-01-28T20:48:59.013Z"
   },
   {
    "duration": 176,
    "start_time": "2025-01-28T20:51:40.701Z"
   },
   {
    "duration": 167,
    "start_time": "2025-01-28T20:51:45.372Z"
   },
   {
    "duration": 165,
    "start_time": "2025-01-28T20:51:50.537Z"
   },
   {
    "duration": 163,
    "start_time": "2025-01-28T20:53:07.358Z"
   },
   {
    "duration": 167,
    "start_time": "2025-01-28T20:53:21.367Z"
   },
   {
    "duration": 256,
    "start_time": "2025-01-28T20:53:55.946Z"
   },
   {
    "duration": 244,
    "start_time": "2025-01-28T20:53:59.670Z"
   },
   {
    "duration": 168,
    "start_time": "2025-01-28T20:54:03.547Z"
   },
   {
    "duration": 262,
    "start_time": "2025-01-28T20:54:20.693Z"
   },
   {
    "duration": 246,
    "start_time": "2025-01-28T20:54:45.766Z"
   },
   {
    "duration": 1001,
    "start_time": "2025-01-28T20:54:51.187Z"
   },
   {
    "duration": 220,
    "start_time": "2025-01-28T20:54:52.190Z"
   },
   {
    "duration": 19,
    "start_time": "2025-01-28T20:54:52.412Z"
   },
   {
    "duration": 12,
    "start_time": "2025-01-28T20:54:52.433Z"
   },
   {
    "duration": 12,
    "start_time": "2025-01-28T20:54:52.448Z"
   },
   {
    "duration": 9,
    "start_time": "2025-01-28T20:54:52.462Z"
   },
   {
    "duration": 5,
    "start_time": "2025-01-28T20:54:52.473Z"
   },
   {
    "duration": 5,
    "start_time": "2025-01-28T20:54:52.479Z"
   },
   {
    "duration": 64,
    "start_time": "2025-01-28T20:54:52.485Z"
   },
   {
    "duration": 25,
    "start_time": "2025-01-28T20:54:52.551Z"
   },
   {
    "duration": 12,
    "start_time": "2025-01-28T20:54:52.578Z"
   },
   {
    "duration": 2,
    "start_time": "2025-01-28T20:54:52.592Z"
   },
   {
    "duration": 3,
    "start_time": "2025-01-28T20:54:52.595Z"
   },
   {
    "duration": 2,
    "start_time": "2025-01-28T20:54:52.631Z"
   },
   {
    "duration": 30,
    "start_time": "2025-01-28T20:54:52.634Z"
   },
   {
    "duration": 21,
    "start_time": "2025-01-28T20:54:52.666Z"
   },
   {
    "duration": 53,
    "start_time": "2025-01-28T20:54:52.688Z"
   },
   {
    "duration": 22,
    "start_time": "2025-01-28T20:54:52.743Z"
   },
   {
    "duration": 11,
    "start_time": "2025-01-28T20:54:52.768Z"
   },
   {
    "duration": 11,
    "start_time": "2025-01-28T20:54:52.780Z"
   },
   {
    "duration": 39,
    "start_time": "2025-01-28T20:54:52.793Z"
   },
   {
    "duration": 21,
    "start_time": "2025-01-28T20:54:52.834Z"
   },
   {
    "duration": 6,
    "start_time": "2025-01-28T20:54:52.856Z"
   },
   {
    "duration": 5,
    "start_time": "2025-01-28T20:54:52.863Z"
   },
   {
    "duration": 7,
    "start_time": "2025-01-28T20:54:52.870Z"
   },
   {
    "duration": 170,
    "start_time": "2025-01-28T20:54:52.879Z"
   },
   {
    "duration": 96,
    "start_time": "2025-01-28T20:54:53.051Z"
   },
   {
    "duration": 275,
    "start_time": "2025-01-28T20:54:53.149Z"
   },
   {
    "duration": 207,
    "start_time": "2025-01-28T20:54:53.425Z"
   },
   {
    "duration": 18,
    "start_time": "2025-01-28T20:54:53.635Z"
   },
   {
    "duration": 393,
    "start_time": "2025-01-28T20:54:53.655Z"
   },
   {
    "duration": 735,
    "start_time": "2025-01-28T20:54:54.050Z"
   },
   {
    "duration": 0,
    "start_time": "2025-01-28T20:54:54.787Z"
   },
   {
    "duration": 0,
    "start_time": "2025-01-28T20:54:54.790Z"
   },
   {
    "duration": 165,
    "start_time": "2025-01-28T20:55:36.735Z"
   },
   {
    "duration": 166,
    "start_time": "2025-01-28T20:56:34.899Z"
   },
   {
    "duration": 169,
    "start_time": "2025-01-28T20:56:44.143Z"
   },
   {
    "duration": 1436,
    "start_time": "2025-01-28T20:58:56.871Z"
   },
   {
    "duration": 1350,
    "start_time": "2025-01-28T20:59:07.605Z"
   },
   {
    "duration": 1167,
    "start_time": "2025-01-28T20:59:16.359Z"
   },
   {
    "duration": 1062,
    "start_time": "2025-01-28T20:59:22.280Z"
   },
   {
    "duration": 172,
    "start_time": "2025-01-28T20:59:50.567Z"
   },
   {
    "duration": 172,
    "start_time": "2025-01-28T20:59:55.255Z"
   },
   {
    "duration": 175,
    "start_time": "2025-01-28T21:01:32.876Z"
   },
   {
    "duration": 174,
    "start_time": "2025-01-28T21:03:50.025Z"
   },
   {
    "duration": 179,
    "start_time": "2025-01-28T21:04:35.333Z"
   },
   {
    "duration": 18,
    "start_time": "2025-01-28T21:05:12.319Z"
   },
   {
    "duration": 178,
    "start_time": "2025-01-28T21:05:24.856Z"
   },
   {
    "duration": 16,
    "start_time": "2025-01-28T21:05:26.395Z"
   },
   {
    "duration": 188,
    "start_time": "2025-01-28T21:05:28.825Z"
   },
   {
    "duration": 13,
    "start_time": "2025-01-28T21:11:33.183Z"
   },
   {
    "duration": 12,
    "start_time": "2025-01-28T21:11:38.958Z"
   },
   {
    "duration": 12,
    "start_time": "2025-01-28T21:11:43.123Z"
   },
   {
    "duration": 52,
    "start_time": "2025-01-28T21:14:08.871Z"
   },
   {
    "duration": 1027,
    "start_time": "2025-01-28T21:14:39.949Z"
   },
   {
    "duration": 227,
    "start_time": "2025-01-28T21:14:40.978Z"
   },
   {
    "duration": 20,
    "start_time": "2025-01-28T21:14:41.207Z"
   },
   {
    "duration": 14,
    "start_time": "2025-01-28T21:14:41.232Z"
   },
   {
    "duration": 14,
    "start_time": "2025-01-28T21:14:41.249Z"
   },
   {
    "duration": 10,
    "start_time": "2025-01-28T21:14:41.265Z"
   },
   {
    "duration": 5,
    "start_time": "2025-01-28T21:14:41.277Z"
   },
   {
    "duration": 4,
    "start_time": "2025-01-28T21:14:41.284Z"
   },
   {
    "duration": 66,
    "start_time": "2025-01-28T21:14:41.290Z"
   },
   {
    "duration": 22,
    "start_time": "2025-01-28T21:14:41.359Z"
   },
   {
    "duration": 15,
    "start_time": "2025-01-28T21:14:41.384Z"
   },
   {
    "duration": 3,
    "start_time": "2025-01-28T21:14:41.400Z"
   },
   {
    "duration": 3,
    "start_time": "2025-01-28T21:14:41.432Z"
   },
   {
    "duration": 2,
    "start_time": "2025-01-28T21:14:41.440Z"
   },
   {
    "duration": 32,
    "start_time": "2025-01-28T21:14:41.444Z"
   },
   {
    "duration": 20,
    "start_time": "2025-01-28T21:14:41.477Z"
   },
   {
    "duration": 59,
    "start_time": "2025-01-28T21:14:41.499Z"
   },
   {
    "duration": 23,
    "start_time": "2025-01-28T21:14:41.560Z"
   },
   {
    "duration": 11,
    "start_time": "2025-01-28T21:14:41.585Z"
   },
   {
    "duration": 10,
    "start_time": "2025-01-28T21:14:41.597Z"
   },
   {
    "duration": 31,
    "start_time": "2025-01-28T21:14:41.608Z"
   },
   {
    "duration": 23,
    "start_time": "2025-01-28T21:14:41.641Z"
   },
   {
    "duration": 6,
    "start_time": "2025-01-28T21:14:41.666Z"
   },
   {
    "duration": 6,
    "start_time": "2025-01-28T21:14:41.674Z"
   },
   {
    "duration": 6,
    "start_time": "2025-01-28T21:14:41.682Z"
   },
   {
    "duration": 324,
    "start_time": "2025-01-28T21:14:41.690Z"
   },
   {
    "duration": 0,
    "start_time": "2025-01-28T21:14:42.016Z"
   },
   {
    "duration": 0,
    "start_time": "2025-01-28T21:14:42.017Z"
   },
   {
    "duration": 0,
    "start_time": "2025-01-28T21:14:42.019Z"
   },
   {
    "duration": 0,
    "start_time": "2025-01-28T21:14:42.020Z"
   },
   {
    "duration": 0,
    "start_time": "2025-01-28T21:14:42.022Z"
   },
   {
    "duration": 0,
    "start_time": "2025-01-28T21:14:42.023Z"
   },
   {
    "duration": 0,
    "start_time": "2025-01-28T21:14:42.031Z"
   },
   {
    "duration": 0,
    "start_time": "2025-01-28T21:14:42.032Z"
   },
   {
    "duration": 0,
    "start_time": "2025-01-28T21:14:42.034Z"
   },
   {
    "duration": 57,
    "start_time": "2025-01-28T21:15:17.197Z"
   },
   {
    "duration": 62,
    "start_time": "2025-01-28T21:15:22.093Z"
   },
   {
    "duration": 969,
    "start_time": "2025-01-28T21:15:30.015Z"
   },
   {
    "duration": 221,
    "start_time": "2025-01-28T21:15:30.986Z"
   },
   {
    "duration": 23,
    "start_time": "2025-01-28T21:15:31.209Z"
   },
   {
    "duration": 15,
    "start_time": "2025-01-28T21:15:31.235Z"
   },
   {
    "duration": 15,
    "start_time": "2025-01-28T21:15:31.252Z"
   },
   {
    "duration": 10,
    "start_time": "2025-01-28T21:15:31.269Z"
   },
   {
    "duration": 6,
    "start_time": "2025-01-28T21:15:31.281Z"
   },
   {
    "duration": 4,
    "start_time": "2025-01-28T21:15:31.288Z"
   },
   {
    "duration": 68,
    "start_time": "2025-01-28T21:15:31.294Z"
   },
   {
    "duration": 23,
    "start_time": "2025-01-28T21:15:31.364Z"
   },
   {
    "duration": 16,
    "start_time": "2025-01-28T21:15:31.390Z"
   },
   {
    "duration": 24,
    "start_time": "2025-01-28T21:15:31.408Z"
   },
   {
    "duration": 3,
    "start_time": "2025-01-28T21:15:31.434Z"
   },
   {
    "duration": 2,
    "start_time": "2025-01-28T21:15:31.441Z"
   },
   {
    "duration": 31,
    "start_time": "2025-01-28T21:15:31.445Z"
   },
   {
    "duration": 21,
    "start_time": "2025-01-28T21:15:31.478Z"
   },
   {
    "duration": 31,
    "start_time": "2025-01-28T21:15:31.531Z"
   },
   {
    "duration": 23,
    "start_time": "2025-01-28T21:15:31.563Z"
   },
   {
    "duration": 10,
    "start_time": "2025-01-28T21:15:31.587Z"
   },
   {
    "duration": 35,
    "start_time": "2025-01-28T21:15:31.599Z"
   },
   {
    "duration": 10,
    "start_time": "2025-01-28T21:15:31.637Z"
   },
   {
    "duration": 18,
    "start_time": "2025-01-28T21:15:31.649Z"
   },
   {
    "duration": 6,
    "start_time": "2025-01-28T21:15:31.669Z"
   },
   {
    "duration": 6,
    "start_time": "2025-01-28T21:15:31.676Z"
   },
   {
    "duration": 6,
    "start_time": "2025-01-28T21:15:31.683Z"
   },
   {
    "duration": 244,
    "start_time": "2025-01-28T21:15:31.690Z"
   },
   {
    "duration": 17,
    "start_time": "2025-01-28T21:15:31.936Z"
   },
   {
    "duration": 319,
    "start_time": "2025-01-28T21:15:31.955Z"
   },
   {
    "duration": 170,
    "start_time": "2025-01-28T21:15:32.276Z"
   },
   {
    "duration": 91,
    "start_time": "2025-01-28T21:15:32.449Z"
   },
   {
    "duration": 271,
    "start_time": "2025-01-28T21:15:32.544Z"
   },
   {
    "duration": 217,
    "start_time": "2025-01-28T21:15:32.816Z"
   },
   {
    "duration": 97,
    "start_time": "2025-01-28T21:15:33.037Z"
   },
   {
    "duration": 245,
    "start_time": "2025-01-28T21:15:33.139Z"
   },
   {
    "duration": 154,
    "start_time": "2025-01-28T21:15:33.386Z"
   },
   {
    "duration": 2,
    "start_time": "2025-01-28T21:15:47.317Z"
   },
   {
    "duration": 2,
    "start_time": "2025-01-28T21:15:50.857Z"
   },
   {
    "duration": 191,
    "start_time": "2025-01-28T21:16:57.648Z"
   },
   {
    "duration": 169,
    "start_time": "2025-01-28T21:17:56.542Z"
   },
   {
    "duration": 210,
    "start_time": "2025-01-28T21:18:01.336Z"
   },
   {
    "duration": 279,
    "start_time": "2025-01-28T21:18:05.495Z"
   },
   {
    "duration": 996,
    "start_time": "2025-01-28T21:18:14.176Z"
   },
   {
    "duration": 226,
    "start_time": "2025-01-28T21:18:15.174Z"
   },
   {
    "duration": 18,
    "start_time": "2025-01-28T21:18:15.402Z"
   },
   {
    "duration": 15,
    "start_time": "2025-01-28T21:18:15.431Z"
   },
   {
    "duration": 16,
    "start_time": "2025-01-28T21:18:15.447Z"
   },
   {
    "duration": 11,
    "start_time": "2025-01-28T21:18:15.464Z"
   },
   {
    "duration": 6,
    "start_time": "2025-01-28T21:18:15.477Z"
   },
   {
    "duration": 4,
    "start_time": "2025-01-28T21:18:15.485Z"
   },
   {
    "duration": 66,
    "start_time": "2025-01-28T21:18:15.490Z"
   },
   {
    "duration": 23,
    "start_time": "2025-01-28T21:18:15.559Z"
   },
   {
    "duration": 12,
    "start_time": "2025-01-28T21:18:15.583Z"
   },
   {
    "duration": 2,
    "start_time": "2025-01-28T21:18:15.597Z"
   },
   {
    "duration": 8,
    "start_time": "2025-01-28T21:18:15.600Z"
   },
   {
    "duration": 5,
    "start_time": "2025-01-28T21:18:15.632Z"
   },
   {
    "duration": 31,
    "start_time": "2025-01-28T21:18:15.639Z"
   },
   {
    "duration": 20,
    "start_time": "2025-01-28T21:18:15.672Z"
   },
   {
    "duration": 51,
    "start_time": "2025-01-28T21:18:15.694Z"
   },
   {
    "duration": 20,
    "start_time": "2025-01-28T21:18:15.747Z"
   },
   {
    "duration": 11,
    "start_time": "2025-01-28T21:18:15.769Z"
   },
   {
    "duration": 9,
    "start_time": "2025-01-28T21:18:15.781Z"
   },
   {
    "duration": 39,
    "start_time": "2025-01-28T21:18:15.792Z"
   },
   {
    "duration": 23,
    "start_time": "2025-01-28T21:18:15.833Z"
   },
   {
    "duration": 6,
    "start_time": "2025-01-28T21:18:15.858Z"
   },
   {
    "duration": 5,
    "start_time": "2025-01-28T21:18:15.866Z"
   },
   {
    "duration": 5,
    "start_time": "2025-01-28T21:18:15.873Z"
   },
   {
    "duration": 166,
    "start_time": "2025-01-28T21:18:15.880Z"
   },
   {
    "duration": 90,
    "start_time": "2025-01-28T21:18:16.048Z"
   },
   {
    "duration": 274,
    "start_time": "2025-01-28T21:18:16.143Z"
   },
   {
    "duration": 213,
    "start_time": "2025-01-28T21:18:16.419Z"
   },
   {
    "duration": 17,
    "start_time": "2025-01-28T21:18:16.634Z"
   },
   {
    "duration": 379,
    "start_time": "2025-01-28T21:18:16.653Z"
   },
   {
    "duration": 200,
    "start_time": "2025-01-28T21:18:17.034Z"
   },
   {
    "duration": 17,
    "start_time": "2025-01-28T21:18:17.236Z"
   },
   {
    "duration": 317,
    "start_time": "2025-01-28T21:18:17.254Z"
   },
   {
    "duration": 2,
    "start_time": "2025-01-28T21:18:17.573Z"
   },
   {
    "duration": 261,
    "start_time": "2025-01-28T21:18:30.217Z"
   },
   {
    "duration": 254,
    "start_time": "2025-01-28T21:18:54.640Z"
   },
   {
    "duration": 175,
    "start_time": "2025-01-28T21:19:01.761Z"
   },
   {
    "duration": 1030,
    "start_time": "2025-01-28T21:19:11.351Z"
   },
   {
    "duration": 228,
    "start_time": "2025-01-28T21:19:12.383Z"
   },
   {
    "duration": 22,
    "start_time": "2025-01-28T21:19:12.613Z"
   },
   {
    "duration": 15,
    "start_time": "2025-01-28T21:19:12.638Z"
   },
   {
    "duration": 17,
    "start_time": "2025-01-28T21:19:12.655Z"
   },
   {
    "duration": 11,
    "start_time": "2025-01-28T21:19:12.674Z"
   },
   {
    "duration": 5,
    "start_time": "2025-01-28T21:19:12.689Z"
   },
   {
    "duration": 34,
    "start_time": "2025-01-28T21:19:12.696Z"
   },
   {
    "duration": 34,
    "start_time": "2025-01-28T21:19:12.732Z"
   },
   {
    "duration": 22,
    "start_time": "2025-01-28T21:19:12.768Z"
   },
   {
    "duration": 13,
    "start_time": "2025-01-28T21:19:12.792Z"
   },
   {
    "duration": 26,
    "start_time": "2025-01-28T21:19:12.806Z"
   },
   {
    "duration": 3,
    "start_time": "2025-01-28T21:19:12.833Z"
   },
   {
    "duration": 2,
    "start_time": "2025-01-28T21:19:12.839Z"
   },
   {
    "duration": 29,
    "start_time": "2025-01-28T21:19:12.843Z"
   },
   {
    "duration": 21,
    "start_time": "2025-01-28T21:19:12.874Z"
   },
   {
    "duration": 59,
    "start_time": "2025-01-28T21:19:12.897Z"
   },
   {
    "duration": 22,
    "start_time": "2025-01-28T21:19:12.959Z"
   },
   {
    "duration": 10,
    "start_time": "2025-01-28T21:19:12.984Z"
   },
   {
    "duration": 10,
    "start_time": "2025-01-28T21:19:12.996Z"
   },
   {
    "duration": 10,
    "start_time": "2025-01-28T21:19:13.032Z"
   },
   {
    "duration": 19,
    "start_time": "2025-01-28T21:19:13.044Z"
   },
   {
    "duration": 5,
    "start_time": "2025-01-28T21:19:13.065Z"
   },
   {
    "duration": 6,
    "start_time": "2025-01-28T21:19:13.071Z"
   },
   {
    "duration": 6,
    "start_time": "2025-01-28T21:19:13.079Z"
   },
   {
    "duration": 168,
    "start_time": "2025-01-28T21:19:13.087Z"
   },
   {
    "duration": 89,
    "start_time": "2025-01-28T21:19:13.256Z"
   },
   {
    "duration": 295,
    "start_time": "2025-01-28T21:19:13.347Z"
   },
   {
    "duration": 192,
    "start_time": "2025-01-28T21:19:13.645Z"
   },
   {
    "duration": 93,
    "start_time": "2025-01-28T21:19:13.839Z"
   },
   {
    "duration": 240,
    "start_time": "2025-01-28T21:19:13.934Z"
   },
   {
    "duration": 174,
    "start_time": "2025-01-28T21:19:14.176Z"
   },
   {
    "duration": 92,
    "start_time": "2025-01-28T21:19:14.353Z"
   },
   {
    "duration": 289,
    "start_time": "2025-01-28T21:19:14.447Z"
   },
   {
    "duration": 2,
    "start_time": "2025-01-28T21:19:14.738Z"
   },
   {
    "duration": 177,
    "start_time": "2025-01-28T21:19:22.468Z"
   },
   {
    "duration": 179,
    "start_time": "2025-01-28T21:19:56.809Z"
   },
   {
    "duration": 268,
    "start_time": "2025-01-28T21:20:03.701Z"
   },
   {
    "duration": 266,
    "start_time": "2025-01-28T21:20:16.450Z"
   },
   {
    "duration": 259,
    "start_time": "2025-01-28T21:20:26.231Z"
   },
   {
    "duration": 251,
    "start_time": "2025-01-28T21:20:29.239Z"
   },
   {
    "duration": 183,
    "start_time": "2025-01-28T21:20:40.038Z"
   },
   {
    "duration": 1021,
    "start_time": "2025-01-28T21:20:44.674Z"
   },
   {
    "duration": 223,
    "start_time": "2025-01-28T21:20:45.697Z"
   },
   {
    "duration": 20,
    "start_time": "2025-01-28T21:20:45.923Z"
   },
   {
    "duration": 15,
    "start_time": "2025-01-28T21:20:45.945Z"
   },
   {
    "duration": 16,
    "start_time": "2025-01-28T21:20:45.962Z"
   },
   {
    "duration": 10,
    "start_time": "2025-01-28T21:20:45.980Z"
   },
   {
    "duration": 6,
    "start_time": "2025-01-28T21:20:45.991Z"
   },
   {
    "duration": 6,
    "start_time": "2025-01-28T21:20:46.030Z"
   },
   {
    "duration": 33,
    "start_time": "2025-01-28T21:20:46.037Z"
   },
   {
    "duration": 21,
    "start_time": "2025-01-28T21:20:46.073Z"
   },
   {
    "duration": 36,
    "start_time": "2025-01-28T21:20:46.096Z"
   },
   {
    "duration": 3,
    "start_time": "2025-01-28T21:20:46.133Z"
   },
   {
    "duration": 3,
    "start_time": "2025-01-28T21:20:46.137Z"
   },
   {
    "duration": 2,
    "start_time": "2025-01-28T21:20:46.144Z"
   },
   {
    "duration": 31,
    "start_time": "2025-01-28T21:20:46.148Z"
   },
   {
    "duration": 50,
    "start_time": "2025-01-28T21:20:46.181Z"
   },
   {
    "duration": 33,
    "start_time": "2025-01-28T21:20:46.233Z"
   },
   {
    "duration": 23,
    "start_time": "2025-01-28T21:20:46.268Z"
   },
   {
    "duration": 10,
    "start_time": "2025-01-28T21:20:46.293Z"
   },
   {
    "duration": 31,
    "start_time": "2025-01-28T21:20:46.304Z"
   },
   {
    "duration": 10,
    "start_time": "2025-01-28T21:20:46.337Z"
   },
   {
    "duration": 20,
    "start_time": "2025-01-28T21:20:46.349Z"
   },
   {
    "duration": 5,
    "start_time": "2025-01-28T21:20:46.371Z"
   },
   {
    "duration": 6,
    "start_time": "2025-01-28T21:20:46.377Z"
   },
   {
    "duration": 6,
    "start_time": "2025-01-28T21:20:46.384Z"
   },
   {
    "duration": 243,
    "start_time": "2025-01-28T21:20:46.391Z"
   },
   {
    "duration": 16,
    "start_time": "2025-01-28T21:20:46.636Z"
   },
   {
    "duration": 312,
    "start_time": "2025-01-28T21:20:46.654Z"
   },
   {
    "duration": 178,
    "start_time": "2025-01-28T21:20:46.968Z"
   },
   {
    "duration": 89,
    "start_time": "2025-01-28T21:20:47.148Z"
   },
   {
    "duration": 263,
    "start_time": "2025-01-28T21:20:47.238Z"
   },
   {
    "duration": 153,
    "start_time": "2025-01-28T21:20:47.504Z"
   },
   {
    "duration": 25,
    "start_time": "2025-01-28T21:20:47.737Z"
   },
   {
    "duration": 263,
    "start_time": "2025-01-28T21:20:47.839Z"
   },
   {
    "duration": 3,
    "start_time": "2025-01-28T21:20:48.104Z"
   },
   {
    "duration": 267,
    "start_time": "2025-01-28T21:21:07.786Z"
   },
   {
    "duration": 178,
    "start_time": "2025-01-28T21:21:17.946Z"
   },
   {
    "duration": 179,
    "start_time": "2025-01-28T21:21:19.995Z"
   },
   {
    "duration": 178,
    "start_time": "2025-01-28T21:21:24.437Z"
   },
   {
    "duration": 180,
    "start_time": "2025-01-28T21:21:28.709Z"
   },
   {
    "duration": 177,
    "start_time": "2025-01-28T21:21:34.003Z"
   },
   {
    "duration": 192,
    "start_time": "2025-01-28T21:21:36.422Z"
   },
   {
    "duration": 242,
    "start_time": "2025-01-28T21:21:40.580Z"
   },
   {
    "duration": 174,
    "start_time": "2025-01-28T21:22:52.482Z"
   },
   {
    "duration": 185,
    "start_time": "2025-01-28T21:23:01.924Z"
   },
   {
    "duration": 183,
    "start_time": "2025-01-28T21:23:07.922Z"
   },
   {
    "duration": 182,
    "start_time": "2025-01-28T21:23:15.178Z"
   },
   {
    "duration": 176,
    "start_time": "2025-01-28T21:23:44.079Z"
   },
   {
    "duration": 180,
    "start_time": "2025-01-28T21:24:51.557Z"
   },
   {
    "duration": 180,
    "start_time": "2025-01-28T21:25:00.694Z"
   },
   {
    "duration": 178,
    "start_time": "2025-01-28T21:25:05.796Z"
   },
   {
    "duration": 196,
    "start_time": "2025-01-28T21:25:51.260Z"
   },
   {
    "duration": 177,
    "start_time": "2025-01-28T21:26:00.294Z"
   },
   {
    "duration": 26,
    "start_time": "2025-01-28T22:15:28.526Z"
   },
   {
    "duration": 1014,
    "start_time": "2025-01-28T22:15:38.174Z"
   },
   {
    "duration": 228,
    "start_time": "2025-01-28T22:15:39.190Z"
   },
   {
    "duration": 19,
    "start_time": "2025-01-28T22:15:39.420Z"
   },
   {
    "duration": 15,
    "start_time": "2025-01-28T22:15:39.442Z"
   },
   {
    "duration": 16,
    "start_time": "2025-01-28T22:15:39.458Z"
   },
   {
    "duration": 10,
    "start_time": "2025-01-28T22:15:39.476Z"
   },
   {
    "duration": 5,
    "start_time": "2025-01-28T22:15:39.488Z"
   },
   {
    "duration": 37,
    "start_time": "2025-01-28T22:15:39.495Z"
   },
   {
    "duration": 32,
    "start_time": "2025-01-28T22:15:39.534Z"
   },
   {
    "duration": 21,
    "start_time": "2025-01-28T22:15:39.570Z"
   },
   {
    "duration": 13,
    "start_time": "2025-01-28T22:15:39.593Z"
   },
   {
    "duration": 2,
    "start_time": "2025-01-28T22:15:39.631Z"
   },
   {
    "duration": 3,
    "start_time": "2025-01-28T22:15:39.635Z"
   },
   {
    "duration": 4,
    "start_time": "2025-01-28T22:15:39.639Z"
   },
   {
    "duration": 31,
    "start_time": "2025-01-28T22:15:39.645Z"
   },
   {
    "duration": 21,
    "start_time": "2025-01-28T22:15:39.678Z"
   },
   {
    "duration": 61,
    "start_time": "2025-01-28T22:15:39.701Z"
   },
   {
    "duration": 23,
    "start_time": "2025-01-28T22:15:39.764Z"
   },
   {
    "duration": 11,
    "start_time": "2025-01-28T22:15:39.789Z"
   },
   {
    "duration": 32,
    "start_time": "2025-01-28T22:15:39.801Z"
   },
   {
    "duration": 11,
    "start_time": "2025-01-28T22:15:39.834Z"
   },
   {
    "duration": 21,
    "start_time": "2025-01-28T22:15:39.847Z"
   },
   {
    "duration": 5,
    "start_time": "2025-01-28T22:15:39.870Z"
   },
   {
    "duration": 6,
    "start_time": "2025-01-28T22:15:39.877Z"
   },
   {
    "duration": 5,
    "start_time": "2025-01-28T22:15:39.885Z"
   },
   {
    "duration": 240,
    "start_time": "2025-01-28T22:15:39.892Z"
   },
   {
    "duration": 17,
    "start_time": "2025-01-28T22:15:40.134Z"
   },
   {
    "duration": 314,
    "start_time": "2025-01-28T22:15:40.155Z"
   },
   {
    "duration": 168,
    "start_time": "2025-01-28T22:15:40.471Z"
   },
   {
    "duration": 93,
    "start_time": "2025-01-28T22:15:40.642Z"
   },
   {
    "duration": 251,
    "start_time": "2025-01-28T22:15:40.737Z"
   },
   {
    "duration": 159,
    "start_time": "2025-01-28T22:15:40.990Z"
   },
   {
    "duration": 93,
    "start_time": "2025-01-28T22:15:41.151Z"
   },
   {
    "duration": 300,
    "start_time": "2025-01-28T22:15:41.245Z"
   },
   {
    "duration": 3,
    "start_time": "2025-01-28T22:15:41.548Z"
   },
   {
    "duration": 2800,
    "start_time": "2025-01-29T00:10:53.173Z"
   },
   {
    "duration": 305,
    "start_time": "2025-01-29T00:10:55.975Z"
   },
   {
    "duration": 21,
    "start_time": "2025-01-29T00:10:56.281Z"
   },
   {
    "duration": 29,
    "start_time": "2025-01-29T00:10:56.303Z"
   },
   {
    "duration": 15,
    "start_time": "2025-01-29T00:10:56.336Z"
   },
   {
    "duration": 10,
    "start_time": "2025-01-29T00:10:56.354Z"
   },
   {
    "duration": 5,
    "start_time": "2025-01-29T00:10:56.367Z"
   },
   {
    "duration": 5,
    "start_time": "2025-01-29T00:10:56.373Z"
   },
   {
    "duration": 62,
    "start_time": "2025-01-29T00:10:56.379Z"
   },
   {
    "duration": 29,
    "start_time": "2025-01-29T00:10:56.443Z"
   },
   {
    "duration": 14,
    "start_time": "2025-01-29T00:10:56.474Z"
   },
   {
    "duration": 42,
    "start_time": "2025-01-29T00:10:56.490Z"
   },
   {
    "duration": 2,
    "start_time": "2025-01-29T00:10:56.534Z"
   },
   {
    "duration": 2,
    "start_time": "2025-01-29T00:10:56.540Z"
   },
   {
    "duration": 29,
    "start_time": "2025-01-29T00:10:56.544Z"
   },
   {
    "duration": 22,
    "start_time": "2025-01-29T00:10:56.575Z"
   },
   {
    "duration": 59,
    "start_time": "2025-01-29T00:10:56.599Z"
   },
   {
    "duration": 21,
    "start_time": "2025-01-29T00:10:56.660Z"
   },
   {
    "duration": 10,
    "start_time": "2025-01-29T00:10:56.683Z"
   },
   {
    "duration": 10,
    "start_time": "2025-01-29T00:10:56.694Z"
   },
   {
    "duration": 10,
    "start_time": "2025-01-29T00:10:56.731Z"
   },
   {
    "duration": 19,
    "start_time": "2025-01-29T00:10:56.743Z"
   },
   {
    "duration": 6,
    "start_time": "2025-01-29T00:10:56.764Z"
   },
   {
    "duration": 5,
    "start_time": "2025-01-29T00:10:56.772Z"
   },
   {
    "duration": 5,
    "start_time": "2025-01-29T00:10:56.780Z"
   },
   {
    "duration": 255,
    "start_time": "2025-01-29T00:10:56.787Z"
   },
   {
    "duration": 93,
    "start_time": "2025-01-29T00:10:57.044Z"
   },
   {
    "duration": 275,
    "start_time": "2025-01-29T00:10:57.139Z"
   },
   {
    "duration": 221,
    "start_time": "2025-01-29T00:10:57.416Z"
   },
   {
    "duration": 94,
    "start_time": "2025-01-29T00:10:57.639Z"
   },
   {
    "duration": 236,
    "start_time": "2025-01-29T00:10:57.735Z"
   },
   {
    "duration": 170,
    "start_time": "2025-01-29T00:10:57.973Z"
   },
   {
    "duration": 92,
    "start_time": "2025-01-29T00:10:58.145Z"
   },
   {
    "duration": 262,
    "start_time": "2025-01-29T00:10:58.239Z"
   },
   {
    "duration": 3,
    "start_time": "2025-01-29T00:10:58.503Z"
   },
   {
    "duration": 1053,
    "start_time": "2025-01-29T00:19:59.032Z"
   },
   {
    "duration": 227,
    "start_time": "2025-01-29T00:20:00.087Z"
   },
   {
    "duration": 22,
    "start_time": "2025-01-29T00:20:00.316Z"
   },
   {
    "duration": 15,
    "start_time": "2025-01-29T00:20:00.340Z"
   },
   {
    "duration": 14,
    "start_time": "2025-01-29T00:20:00.358Z"
   },
   {
    "duration": 11,
    "start_time": "2025-01-29T00:20:00.374Z"
   },
   {
    "duration": 5,
    "start_time": "2025-01-29T00:20:00.387Z"
   },
   {
    "duration": 4,
    "start_time": "2025-01-29T00:20:00.394Z"
   },
   {
    "duration": 70,
    "start_time": "2025-01-29T00:20:00.400Z"
   },
   {
    "duration": 23,
    "start_time": "2025-01-29T00:20:00.473Z"
   },
   {
    "duration": 12,
    "start_time": "2025-01-29T00:20:00.499Z"
   },
   {
    "duration": 3,
    "start_time": "2025-01-29T00:20:00.531Z"
   },
   {
    "duration": 3,
    "start_time": "2025-01-29T00:20:00.535Z"
   },
   {
    "duration": 2,
    "start_time": "2025-01-29T00:20:00.542Z"
   },
   {
    "duration": 28,
    "start_time": "2025-01-29T00:20:00.546Z"
   },
   {
    "duration": 22,
    "start_time": "2025-01-29T00:20:00.576Z"
   },
   {
    "duration": 60,
    "start_time": "2025-01-29T00:20:00.600Z"
   },
   {
    "duration": 21,
    "start_time": "2025-01-29T00:20:00.662Z"
   },
   {
    "duration": 10,
    "start_time": "2025-01-29T00:20:00.685Z"
   },
   {
    "duration": 10,
    "start_time": "2025-01-29T00:20:00.696Z"
   },
   {
    "duration": 11,
    "start_time": "2025-01-29T00:20:00.731Z"
   },
   {
    "duration": 19,
    "start_time": "2025-01-29T00:20:00.744Z"
   },
   {
    "duration": 6,
    "start_time": "2025-01-29T00:20:00.765Z"
   },
   {
    "duration": 8,
    "start_time": "2025-01-29T00:20:00.772Z"
   },
   {
    "duration": 5,
    "start_time": "2025-01-29T00:20:00.781Z"
   },
   {
    "duration": 243,
    "start_time": "2025-01-29T00:20:00.789Z"
   },
   {
    "duration": 17,
    "start_time": "2025-01-29T00:20:01.034Z"
   },
   {
    "duration": 318,
    "start_time": "2025-01-29T00:20:01.053Z"
   },
   {
    "duration": 174,
    "start_time": "2025-01-29T00:20:01.373Z"
   },
   {
    "duration": 90,
    "start_time": "2025-01-29T00:20:01.549Z"
   },
   {
    "duration": 265,
    "start_time": "2025-01-29T00:20:01.643Z"
   },
   {
    "duration": 139,
    "start_time": "2025-01-29T00:20:01.910Z"
   },
   {
    "duration": 94,
    "start_time": "2025-01-29T00:20:02.051Z"
   },
   {
    "duration": 280,
    "start_time": "2025-01-29T00:20:02.147Z"
   },
   {
    "duration": 2,
    "start_time": "2025-01-29T00:20:02.431Z"
   },
   {
    "duration": 217,
    "start_time": "2025-01-29T00:20:56.073Z"
   },
   {
    "duration": 201,
    "start_time": "2025-01-29T00:21:08.275Z"
   },
   {
    "duration": 186,
    "start_time": "2025-01-29T00:21:21.609Z"
   },
   {
    "duration": 295,
    "start_time": "2025-01-29T00:21:37.738Z"
   },
   {
    "duration": 188,
    "start_time": "2025-01-29T00:22:03.961Z"
   },
   {
    "duration": 180,
    "start_time": "2025-01-29T00:22:09.845Z"
   },
   {
    "duration": 245,
    "start_time": "2025-01-29T00:22:40.838Z"
   },
   {
    "duration": 177,
    "start_time": "2025-01-29T00:22:53.790Z"
   },
   {
    "duration": 193,
    "start_time": "2025-01-29T00:23:04.639Z"
   },
   {
    "duration": 183,
    "start_time": "2025-01-29T00:23:10.950Z"
   },
   {
    "duration": 176,
    "start_time": "2025-01-29T00:23:19.573Z"
   },
   {
    "duration": 3237,
    "start_time": "2025-01-29T17:13:49.515Z"
   },
   {
    "duration": 406,
    "start_time": "2025-01-29T17:13:52.754Z"
   },
   {
    "duration": 23,
    "start_time": "2025-01-29T17:13:53.162Z"
   },
   {
    "duration": 31,
    "start_time": "2025-01-29T17:13:53.191Z"
   },
   {
    "duration": 16,
    "start_time": "2025-01-29T17:13:53.224Z"
   },
   {
    "duration": 10,
    "start_time": "2025-01-29T17:13:53.243Z"
   },
   {
    "duration": 6,
    "start_time": "2025-01-29T17:13:53.255Z"
   },
   {
    "duration": 4,
    "start_time": "2025-01-29T17:13:53.263Z"
   },
   {
    "duration": 76,
    "start_time": "2025-01-29T17:13:53.269Z"
   },
   {
    "duration": 22,
    "start_time": "2025-01-29T17:13:53.348Z"
   },
   {
    "duration": 33,
    "start_time": "2025-01-29T17:13:53.372Z"
   },
   {
    "duration": 3,
    "start_time": "2025-01-29T17:13:53.415Z"
   },
   {
    "duration": 2,
    "start_time": "2025-01-29T17:13:53.420Z"
   },
   {
    "duration": 3,
    "start_time": "2025-01-29T17:13:53.424Z"
   },
   {
    "duration": 29,
    "start_time": "2025-01-29T17:13:53.429Z"
   },
   {
    "duration": 20,
    "start_time": "2025-01-29T17:13:53.460Z"
   },
   {
    "duration": 52,
    "start_time": "2025-01-29T17:13:53.491Z"
   },
   {
    "duration": 22,
    "start_time": "2025-01-29T17:13:53.545Z"
   },
   {
    "duration": 26,
    "start_time": "2025-01-29T17:13:53.569Z"
   },
   {
    "duration": 13,
    "start_time": "2025-01-29T17:13:53.611Z"
   },
   {
    "duration": 11,
    "start_time": "2025-01-29T17:13:53.625Z"
   },
   {
    "duration": 21,
    "start_time": "2025-01-29T17:13:53.638Z"
   },
   {
    "duration": 6,
    "start_time": "2025-01-29T17:13:53.661Z"
   },
   {
    "duration": 25,
    "start_time": "2025-01-29T17:13:53.669Z"
   },
   {
    "duration": 16,
    "start_time": "2025-01-29T17:13:53.706Z"
   },
   {
    "duration": 309,
    "start_time": "2025-01-29T17:13:53.724Z"
   },
   {
    "duration": 92,
    "start_time": "2025-01-29T17:13:54.037Z"
   },
   {
    "duration": 309,
    "start_time": "2025-01-29T17:13:54.135Z"
   },
   {
    "duration": 183,
    "start_time": "2025-01-29T17:13:54.446Z"
   },
   {
    "duration": 82,
    "start_time": "2025-01-29T17:13:54.631Z"
   },
   {
    "duration": 278,
    "start_time": "2025-01-29T17:13:54.715Z"
   },
   {
    "duration": 202,
    "start_time": "2025-01-29T17:13:54.995Z"
   },
   {
    "duration": 83,
    "start_time": "2025-01-29T17:13:55.207Z"
   },
   {
    "duration": 268,
    "start_time": "2025-01-29T17:13:55.298Z"
   },
   {
    "duration": 3,
    "start_time": "2025-01-29T17:13:55.568Z"
   },
   {
    "duration": 351,
    "start_time": "2025-01-29T17:13:55.573Z"
   },
   {
    "duration": 0,
    "start_time": "2025-01-29T17:13:55.926Z"
   },
   {
    "duration": 11,
    "start_time": "2025-01-29T17:14:34.482Z"
   },
   {
    "duration": 2,
    "start_time": "2025-01-29T17:14:38.764Z"
   },
   {
    "duration": 7,
    "start_time": "2025-01-29T17:14:51.586Z"
   },
   {
    "duration": 4,
    "start_time": "2025-01-29T17:22:16.507Z"
   },
   {
    "duration": 4,
    "start_time": "2025-01-29T17:23:58.456Z"
   },
   {
    "duration": 17,
    "start_time": "2025-01-29T17:24:06.028Z"
   },
   {
    "duration": 16,
    "start_time": "2025-01-29T17:24:19.956Z"
   },
   {
    "duration": 5,
    "start_time": "2025-01-29T17:25:05.863Z"
   },
   {
    "duration": 10,
    "start_time": "2025-01-29T17:25:13.703Z"
   },
   {
    "duration": 4,
    "start_time": "2025-01-29T17:25:28.032Z"
   },
   {
    "duration": 4,
    "start_time": "2025-01-29T17:25:30.347Z"
   },
   {
    "duration": 3,
    "start_time": "2025-01-29T17:25:33.778Z"
   },
   {
    "duration": 5,
    "start_time": "2025-01-29T17:25:37.867Z"
   },
   {
    "duration": 4,
    "start_time": "2025-01-29T17:25:43.365Z"
   },
   {
    "duration": 4,
    "start_time": "2025-01-29T17:25:53.748Z"
   },
   {
    "duration": 42,
    "start_time": "2025-01-29T17:26:46.974Z"
   },
   {
    "duration": 3,
    "start_time": "2025-01-29T17:27:02.136Z"
   },
   {
    "duration": 13,
    "start_time": "2025-01-29T17:27:26.858Z"
   },
   {
    "duration": 5,
    "start_time": "2025-01-29T17:28:10.474Z"
   },
   {
    "duration": 38,
    "start_time": "2025-01-29T17:29:01.076Z"
   },
   {
    "duration": 5,
    "start_time": "2025-01-29T17:29:33.578Z"
   },
   {
    "duration": 29,
    "start_time": "2025-01-29T17:30:13.492Z"
   },
   {
    "duration": 14,
    "start_time": "2025-01-29T17:32:19.918Z"
   },
   {
    "duration": 4,
    "start_time": "2025-01-29T17:32:40.127Z"
   },
   {
    "duration": 15,
    "start_time": "2025-01-29T17:33:30.464Z"
   },
   {
    "duration": 5,
    "start_time": "2025-01-29T17:33:55.487Z"
   },
   {
    "duration": 6,
    "start_time": "2025-01-29T17:34:59.717Z"
   },
   {
    "duration": 5,
    "start_time": "2025-01-29T17:37:40.280Z"
   },
   {
    "duration": 4,
    "start_time": "2025-01-29T17:39:33.286Z"
   },
   {
    "duration": 7,
    "start_time": "2025-01-29T17:40:54.337Z"
   },
   {
    "duration": 7,
    "start_time": "2025-01-29T17:43:08.861Z"
   },
   {
    "duration": 4,
    "start_time": "2025-01-29T17:44:20.548Z"
   },
   {
    "duration": 189,
    "start_time": "2025-01-29T18:09:52.035Z"
   },
   {
    "duration": 1154,
    "start_time": "2025-01-29T18:47:14.383Z"
   },
   {
    "duration": 233,
    "start_time": "2025-01-29T18:47:15.540Z"
   },
   {
    "duration": 20,
    "start_time": "2025-01-29T18:47:15.774Z"
   },
   {
    "duration": 16,
    "start_time": "2025-01-29T18:47:15.795Z"
   },
   {
    "duration": 16,
    "start_time": "2025-01-29T18:47:15.814Z"
   },
   {
    "duration": 12,
    "start_time": "2025-01-29T18:47:15.832Z"
   },
   {
    "duration": 6,
    "start_time": "2025-01-29T18:47:15.846Z"
   },
   {
    "duration": 4,
    "start_time": "2025-01-29T18:47:15.888Z"
   },
   {
    "duration": 34,
    "start_time": "2025-01-29T18:47:15.894Z"
   },
   {
    "duration": 24,
    "start_time": "2025-01-29T18:47:15.930Z"
   },
   {
    "duration": 42,
    "start_time": "2025-01-29T18:47:15.956Z"
   },
   {
    "duration": 2,
    "start_time": "2025-01-29T18:47:16.000Z"
   },
   {
    "duration": 3,
    "start_time": "2025-01-29T18:47:16.004Z"
   },
   {
    "duration": 2,
    "start_time": "2025-01-29T18:47:16.012Z"
   },
   {
    "duration": 32,
    "start_time": "2025-01-29T18:47:16.016Z"
   },
   {
    "duration": 53,
    "start_time": "2025-01-29T18:47:16.050Z"
   },
   {
    "duration": 34,
    "start_time": "2025-01-29T18:47:16.105Z"
   },
   {
    "duration": 46,
    "start_time": "2025-01-29T18:47:16.141Z"
   },
   {
    "duration": 10,
    "start_time": "2025-01-29T18:47:16.190Z"
   },
   {
    "duration": 12,
    "start_time": "2025-01-29T18:47:16.202Z"
   },
   {
    "duration": 12,
    "start_time": "2025-01-29T18:47:16.216Z"
   },
   {
    "duration": 27,
    "start_time": "2025-01-29T18:47:16.231Z"
   },
   {
    "duration": 6,
    "start_time": "2025-01-29T18:47:16.287Z"
   },
   {
    "duration": 6,
    "start_time": "2025-01-29T18:47:16.295Z"
   },
   {
    "duration": 6,
    "start_time": "2025-01-29T18:47:16.303Z"
   },
   {
    "duration": 286,
    "start_time": "2025-01-29T18:47:16.311Z"
   },
   {
    "duration": 95,
    "start_time": "2025-01-29T18:47:16.599Z"
   },
   {
    "duration": 274,
    "start_time": "2025-01-29T18:47:16.698Z"
   },
   {
    "duration": 132,
    "start_time": "2025-01-29T18:47:16.975Z"
   },
   {
    "duration": 82,
    "start_time": "2025-01-29T18:47:17.110Z"
   },
   {
    "duration": 261,
    "start_time": "2025-01-29T18:47:17.195Z"
   },
   {
    "duration": 138,
    "start_time": "2025-01-29T18:47:17.459Z"
   },
   {
    "duration": 88,
    "start_time": "2025-01-29T18:47:17.599Z"
   },
   {
    "duration": 243,
    "start_time": "2025-01-29T18:47:17.689Z"
   },
   {
    "duration": 3,
    "start_time": "2025-01-29T18:47:17.936Z"
   },
   {
    "duration": 7,
    "start_time": "2025-01-29T18:47:17.943Z"
   },
   {
    "duration": 8,
    "start_time": "2025-01-29T18:47:17.952Z"
   },
   {
    "duration": 31,
    "start_time": "2025-01-29T18:47:17.962Z"
   },
   {
    "duration": 6,
    "start_time": "2025-01-29T18:47:17.995Z"
   },
   {
    "duration": 0,
    "start_time": "2025-01-29T18:47:18.003Z"
   },
   {
    "duration": 0,
    "start_time": "2025-01-29T18:47:18.004Z"
   },
   {
    "duration": 0,
    "start_time": "2025-01-29T18:47:18.006Z"
   },
   {
    "duration": 0,
    "start_time": "2025-01-29T18:47:18.007Z"
   },
   {
    "duration": 2698,
    "start_time": "2025-01-29T19:09:11.889Z"
   },
   {
    "duration": 289,
    "start_time": "2025-01-29T19:09:14.589Z"
   },
   {
    "duration": 18,
    "start_time": "2025-01-29T19:09:14.880Z"
   },
   {
    "duration": 25,
    "start_time": "2025-01-29T19:09:14.900Z"
   },
   {
    "duration": 15,
    "start_time": "2025-01-29T19:09:14.927Z"
   },
   {
    "duration": 10,
    "start_time": "2025-01-29T19:09:14.943Z"
   },
   {
    "duration": 5,
    "start_time": "2025-01-29T19:09:14.955Z"
   },
   {
    "duration": 5,
    "start_time": "2025-01-29T19:09:14.962Z"
   },
   {
    "duration": 64,
    "start_time": "2025-01-29T19:09:14.969Z"
   },
   {
    "duration": 21,
    "start_time": "2025-01-29T19:09:15.035Z"
   },
   {
    "duration": 13,
    "start_time": "2025-01-29T19:09:15.057Z"
   },
   {
    "duration": 2,
    "start_time": "2025-01-29T19:09:15.072Z"
   },
   {
    "duration": 3,
    "start_time": "2025-01-29T19:09:15.075Z"
   },
   {
    "duration": 2,
    "start_time": "2025-01-29T19:09:15.083Z"
   },
   {
    "duration": 62,
    "start_time": "2025-01-29T19:09:15.086Z"
   },
   {
    "duration": 19,
    "start_time": "2025-01-29T19:09:15.150Z"
   },
   {
    "duration": 31,
    "start_time": "2025-01-29T19:09:15.171Z"
   },
   {
    "duration": 40,
    "start_time": "2025-01-29T19:09:15.204Z"
   },
   {
    "duration": 9,
    "start_time": "2025-01-29T19:09:15.246Z"
   },
   {
    "duration": 10,
    "start_time": "2025-01-29T19:09:15.257Z"
   },
   {
    "duration": 10,
    "start_time": "2025-01-29T19:09:15.269Z"
   },
   {
    "duration": 48,
    "start_time": "2025-01-29T19:09:15.280Z"
   },
   {
    "duration": 5,
    "start_time": "2025-01-29T19:09:15.331Z"
   },
   {
    "duration": 4,
    "start_time": "2025-01-29T19:09:15.338Z"
   },
   {
    "duration": 6,
    "start_time": "2025-01-29T19:09:15.344Z"
   },
   {
    "duration": 276,
    "start_time": "2025-01-29T19:09:15.352Z"
   },
   {
    "duration": 16,
    "start_time": "2025-01-29T19:09:15.630Z"
   },
   {
    "duration": 245,
    "start_time": "2025-01-29T19:09:15.726Z"
   },
   {
    "duration": 165,
    "start_time": "2025-01-29T19:09:15.973Z"
   },
   {
    "duration": 90,
    "start_time": "2025-01-29T19:09:16.140Z"
   },
   {
    "duration": 259,
    "start_time": "2025-01-29T19:09:16.232Z"
   },
   {
    "duration": 233,
    "start_time": "2025-01-29T19:09:16.493Z"
   },
   {
    "duration": 16,
    "start_time": "2025-01-29T19:09:16.728Z"
   },
   {
    "duration": 304,
    "start_time": "2025-01-29T19:09:16.745Z"
   },
   {
    "duration": 4,
    "start_time": "2025-01-29T19:09:17.051Z"
   },
   {
    "duration": 7,
    "start_time": "2025-01-29T19:09:17.057Z"
   },
   {
    "duration": 6,
    "start_time": "2025-01-29T19:09:17.067Z"
   },
   {
    "duration": 6,
    "start_time": "2025-01-29T19:09:17.075Z"
   },
   {
    "duration": 5,
    "start_time": "2025-01-29T19:09:17.082Z"
   },
   {
    "duration": 0,
    "start_time": "2025-01-29T19:09:17.089Z"
   },
   {
    "duration": 0,
    "start_time": "2025-01-29T19:09:17.090Z"
   },
   {
    "duration": 0,
    "start_time": "2025-01-29T19:09:17.123Z"
   },
   {
    "duration": 0,
    "start_time": "2025-01-29T19:09:17.124Z"
   },
   {
    "duration": 7,
    "start_time": "2025-01-29T19:11:36.283Z"
   },
   {
    "duration": 8,
    "start_time": "2025-01-29T19:11:48.301Z"
   },
   {
    "duration": 4,
    "start_time": "2025-01-29T19:12:04.014Z"
   },
   {
    "duration": 7,
    "start_time": "2025-01-29T19:12:13.252Z"
   },
   {
    "duration": 7,
    "start_time": "2025-01-29T19:12:21.927Z"
   },
   {
    "duration": 282,
    "start_time": "2025-01-29T19:15:07.069Z"
   },
   {
    "duration": 27,
    "start_time": "2025-01-29T19:16:06.774Z"
   },
   {
    "duration": 5,
    "start_time": "2025-01-29T19:16:21.005Z"
   },
   {
    "duration": 6,
    "start_time": "2025-01-29T19:17:21.747Z"
   },
   {
    "duration": 8,
    "start_time": "2025-01-29T19:17:33.771Z"
   },
   {
    "duration": 8,
    "start_time": "2025-01-29T19:18:53.691Z"
   },
   {
    "duration": 3,
    "start_time": "2025-01-29T19:19:13.013Z"
   },
   {
    "duration": 18,
    "start_time": "2025-01-29T19:21:16.726Z"
   },
   {
    "duration": 7,
    "start_time": "2025-01-29T19:21:23.434Z"
   },
   {
    "duration": 8,
    "start_time": "2025-01-29T19:23:12.673Z"
   },
   {
    "duration": 4,
    "start_time": "2025-01-29T19:31:37.204Z"
   },
   {
    "duration": 31,
    "start_time": "2025-01-29T19:31:44.298Z"
   },
   {
    "duration": 242,
    "start_time": "2025-01-29T19:33:13.955Z"
   },
   {
    "duration": 8,
    "start_time": "2025-01-29T19:35:50.198Z"
   },
   {
    "duration": 7,
    "start_time": "2025-01-29T19:36:12.590Z"
   },
   {
    "duration": 3,
    "start_time": "2025-01-29T19:37:07.168Z"
   },
   {
    "duration": 4,
    "start_time": "2025-01-29T19:37:20.016Z"
   },
   {
    "duration": 7,
    "start_time": "2025-01-29T19:38:40.397Z"
   },
   {
    "duration": 62,
    "start_time": "2025-01-29T19:39:44.992Z"
   },
   {
    "duration": 34,
    "start_time": "2025-01-29T19:40:50.577Z"
   },
   {
    "duration": 16,
    "start_time": "2025-01-29T19:40:57.861Z"
   },
   {
    "duration": 155,
    "start_time": "2025-01-29T19:42:53.969Z"
   },
   {
    "duration": 15,
    "start_time": "2025-01-29T19:43:04.534Z"
   },
   {
    "duration": 6,
    "start_time": "2025-01-29T19:43:19.254Z"
   },
   {
    "duration": 11,
    "start_time": "2025-01-29T19:43:39.766Z"
   },
   {
    "duration": 2831,
    "start_time": "2025-01-30T01:04:28.351Z"
   },
   {
    "duration": 356,
    "start_time": "2025-01-30T01:04:31.185Z"
   },
   {
    "duration": 23,
    "start_time": "2025-01-30T01:04:31.543Z"
   },
   {
    "duration": 16,
    "start_time": "2025-01-30T01:04:31.570Z"
   },
   {
    "duration": 31,
    "start_time": "2025-01-30T01:04:31.588Z"
   },
   {
    "duration": 14,
    "start_time": "2025-01-30T01:04:31.621Z"
   },
   {
    "duration": 6,
    "start_time": "2025-01-30T01:04:31.637Z"
   },
   {
    "duration": 7,
    "start_time": "2025-01-30T01:04:31.645Z"
   },
   {
    "duration": 57,
    "start_time": "2025-01-30T01:04:31.654Z"
   },
   {
    "duration": 22,
    "start_time": "2025-01-30T01:04:31.715Z"
   },
   {
    "duration": 15,
    "start_time": "2025-01-30T01:04:31.739Z"
   },
   {
    "duration": 2,
    "start_time": "2025-01-30T01:04:31.756Z"
   },
   {
    "duration": 2,
    "start_time": "2025-01-30T01:04:31.760Z"
   },
   {
    "duration": 3,
    "start_time": "2025-01-30T01:04:31.764Z"
   },
   {
    "duration": 67,
    "start_time": "2025-01-30T01:04:31.768Z"
   },
   {
    "duration": 22,
    "start_time": "2025-01-30T01:04:31.837Z"
   },
   {
    "duration": 51,
    "start_time": "2025-01-30T01:04:31.863Z"
   },
   {
    "duration": 31,
    "start_time": "2025-01-30T01:04:31.917Z"
   },
   {
    "duration": 10,
    "start_time": "2025-01-30T01:04:31.951Z"
   },
   {
    "duration": 9,
    "start_time": "2025-01-30T01:04:31.963Z"
   },
   {
    "duration": 32,
    "start_time": "2025-01-30T01:04:31.974Z"
   },
   {
    "duration": 22,
    "start_time": "2025-01-30T01:04:32.007Z"
   },
   {
    "duration": 6,
    "start_time": "2025-01-30T01:04:32.031Z"
   },
   {
    "duration": 6,
    "start_time": "2025-01-30T01:04:32.039Z"
   },
   {
    "duration": 7,
    "start_time": "2025-01-30T01:04:32.047Z"
   },
   {
    "duration": 270,
    "start_time": "2025-01-30T01:04:32.056Z"
   },
   {
    "duration": 103,
    "start_time": "2025-01-30T01:04:32.329Z"
   },
   {
    "duration": 257,
    "start_time": "2025-01-30T01:04:32.442Z"
   },
   {
    "duration": 307,
    "start_time": "2025-01-30T01:04:32.705Z"
   },
   {
    "duration": 93,
    "start_time": "2025-01-30T01:04:33.014Z"
   },
   {
    "duration": 285,
    "start_time": "2025-01-30T01:04:33.110Z"
   },
   {
    "duration": 336,
    "start_time": "2025-01-30T01:04:33.397Z"
   },
   {
    "duration": 169,
    "start_time": "2025-01-30T01:04:33.737Z"
   },
   {
    "duration": 238,
    "start_time": "2025-01-30T01:04:33.910Z"
   },
   {
    "duration": 6,
    "start_time": "2025-01-30T01:04:34.150Z"
   },
   {
    "duration": 12,
    "start_time": "2025-01-30T01:04:34.158Z"
   },
   {
    "duration": 15,
    "start_time": "2025-01-30T01:04:34.172Z"
   },
   {
    "duration": 23,
    "start_time": "2025-01-30T01:04:34.189Z"
   },
   {
    "duration": 7,
    "start_time": "2025-01-30T01:04:34.216Z"
   },
   {
    "duration": 25,
    "start_time": "2025-01-30T01:04:34.225Z"
   },
   {
    "duration": 292,
    "start_time": "2025-01-30T01:04:34.252Z"
   },
   {
    "duration": 8,
    "start_time": "2025-01-30T01:05:04.131Z"
   },
   {
    "duration": 7,
    "start_time": "2025-01-30T01:05:18.464Z"
   },
   {
    "duration": 3053,
    "start_time": "2025-01-30T02:17:26.856Z"
   },
   {
    "duration": 391,
    "start_time": "2025-01-30T02:17:29.912Z"
   },
   {
    "duration": 26,
    "start_time": "2025-01-30T02:17:30.306Z"
   },
   {
    "duration": 22,
    "start_time": "2025-01-30T02:17:30.334Z"
   },
   {
    "duration": 22,
    "start_time": "2025-01-30T02:17:30.359Z"
   },
   {
    "duration": 36,
    "start_time": "2025-01-30T02:17:30.383Z"
   },
   {
    "duration": 7,
    "start_time": "2025-01-30T02:17:30.421Z"
   },
   {
    "duration": 6,
    "start_time": "2025-01-30T02:17:30.430Z"
   },
   {
    "duration": 37,
    "start_time": "2025-01-30T02:17:30.439Z"
   },
   {
    "duration": 50,
    "start_time": "2025-01-30T02:17:30.478Z"
   },
   {
    "duration": 15,
    "start_time": "2025-01-30T02:17:30.530Z"
   },
   {
    "duration": 2,
    "start_time": "2025-01-30T02:17:30.548Z"
   },
   {
    "duration": 3,
    "start_time": "2025-01-30T02:17:30.551Z"
   },
   {
    "duration": 2,
    "start_time": "2025-01-30T02:17:30.559Z"
   },
   {
    "duration": 72,
    "start_time": "2025-01-30T02:17:30.563Z"
   },
   {
    "duration": 24,
    "start_time": "2025-01-30T02:17:30.637Z"
   },
   {
    "duration": 50,
    "start_time": "2025-01-30T02:17:30.663Z"
   },
   {
    "duration": 33,
    "start_time": "2025-01-30T02:17:30.717Z"
   },
   {
    "duration": 13,
    "start_time": "2025-01-30T02:17:30.752Z"
   },
   {
    "duration": 12,
    "start_time": "2025-01-30T02:17:30.767Z"
   },
   {
    "duration": 35,
    "start_time": "2025-01-30T02:17:30.782Z"
   },
   {
    "duration": 22,
    "start_time": "2025-01-30T02:17:30.819Z"
   },
   {
    "duration": 5,
    "start_time": "2025-01-30T02:17:30.844Z"
   },
   {
    "duration": 5,
    "start_time": "2025-01-30T02:17:30.851Z"
   },
   {
    "duration": 6,
    "start_time": "2025-01-30T02:17:30.858Z"
   },
   {
    "duration": 246,
    "start_time": "2025-01-30T02:17:30.866Z"
   },
   {
    "duration": 98,
    "start_time": "2025-01-30T02:17:31.114Z"
   },
   {
    "duration": 267,
    "start_time": "2025-01-30T02:17:31.214Z"
   },
   {
    "duration": 251,
    "start_time": "2025-01-30T02:17:31.484Z"
   },
   {
    "duration": 100,
    "start_time": "2025-01-30T02:17:31.737Z"
   },
   {
    "duration": 293,
    "start_time": "2025-01-30T02:17:31.838Z"
   },
   {
    "duration": 283,
    "start_time": "2025-01-30T02:17:32.133Z"
   },
   {
    "duration": 102,
    "start_time": "2025-01-30T02:17:32.418Z"
   },
   {
    "duration": 248,
    "start_time": "2025-01-30T02:17:32.521Z"
   },
   {
    "duration": 4,
    "start_time": "2025-01-30T02:17:32.771Z"
   },
   {
    "duration": 7,
    "start_time": "2025-01-30T02:17:32.776Z"
   },
   {
    "duration": 28,
    "start_time": "2025-01-30T02:17:32.785Z"
   },
   {
    "duration": 8,
    "start_time": "2025-01-30T02:17:32.814Z"
   },
   {
    "duration": 9,
    "start_time": "2025-01-30T02:17:32.824Z"
   },
   {
    "duration": 10,
    "start_time": "2025-01-30T02:17:32.835Z"
   },
   {
    "duration": 359,
    "start_time": "2025-01-30T02:17:32.851Z"
   },
   {
    "duration": 248,
    "start_time": "2025-01-30T02:18:33.214Z"
   },
   {
    "duration": 89,
    "start_time": "2025-01-30T02:27:43.951Z"
   },
   {
    "duration": 7,
    "start_time": "2025-01-30T02:28:32.124Z"
   },
   {
    "duration": 7,
    "start_time": "2025-01-30T02:29:51.945Z"
   },
   {
    "duration": 7,
    "start_time": "2025-01-30T02:30:40.768Z"
   },
   {
    "duration": 5,
    "start_time": "2025-01-30T02:31:04.235Z"
   },
   {
    "duration": 56,
    "start_time": "2025-01-30T02:31:15.614Z"
   },
   {
    "duration": 6,
    "start_time": "2025-01-30T02:35:50.449Z"
   },
   {
    "duration": 16,
    "start_time": "2025-01-30T02:37:48.327Z"
   },
   {
    "duration": 1030,
    "start_time": "2025-01-30T02:38:11.761Z"
   },
   {
    "duration": 220,
    "start_time": "2025-01-30T02:38:12.793Z"
   },
   {
    "duration": 18,
    "start_time": "2025-01-30T02:38:13.015Z"
   },
   {
    "duration": 16,
    "start_time": "2025-01-30T02:38:13.036Z"
   },
   {
    "duration": 15,
    "start_time": "2025-01-30T02:38:13.053Z"
   },
   {
    "duration": 42,
    "start_time": "2025-01-30T02:38:13.070Z"
   },
   {
    "duration": 5,
    "start_time": "2025-01-30T02:38:13.114Z"
   },
   {
    "duration": 5,
    "start_time": "2025-01-30T02:38:13.120Z"
   },
   {
    "duration": 32,
    "start_time": "2025-01-30T02:38:13.126Z"
   },
   {
    "duration": 47,
    "start_time": "2025-01-30T02:38:13.162Z"
   },
   {
    "duration": 14,
    "start_time": "2025-01-30T02:38:13.210Z"
   },
   {
    "duration": 4,
    "start_time": "2025-01-30T02:38:13.225Z"
   },
   {
    "duration": 2,
    "start_time": "2025-01-30T02:38:13.230Z"
   },
   {
    "duration": 3,
    "start_time": "2025-01-30T02:38:13.234Z"
   },
   {
    "duration": 29,
    "start_time": "2025-01-30T02:38:13.239Z"
   },
   {
    "duration": 44,
    "start_time": "2025-01-30T02:38:13.271Z"
   },
   {
    "duration": 32,
    "start_time": "2025-01-30T02:38:13.317Z"
   },
   {
    "duration": 23,
    "start_time": "2025-01-30T02:38:13.351Z"
   },
   {
    "duration": 35,
    "start_time": "2025-01-30T02:38:13.376Z"
   },
   {
    "duration": 13,
    "start_time": "2025-01-30T02:38:13.412Z"
   },
   {
    "duration": 10,
    "start_time": "2025-01-30T02:38:13.427Z"
   },
   {
    "duration": 21,
    "start_time": "2025-01-30T02:38:13.439Z"
   },
   {
    "duration": 5,
    "start_time": "2025-01-30T02:38:13.462Z"
   },
   {
    "duration": 6,
    "start_time": "2025-01-30T02:38:13.468Z"
   },
   {
    "duration": 35,
    "start_time": "2025-01-30T02:38:13.475Z"
   },
   {
    "duration": 200,
    "start_time": "2025-01-30T02:38:13.511Z"
   },
   {
    "duration": 17,
    "start_time": "2025-01-30T02:38:13.714Z"
   },
   {
    "duration": 312,
    "start_time": "2025-01-30T02:38:13.735Z"
   },
   {
    "duration": 165,
    "start_time": "2025-01-30T02:38:14.049Z"
   },
   {
    "duration": 95,
    "start_time": "2025-01-30T02:38:14.216Z"
   },
   {
    "duration": 238,
    "start_time": "2025-01-30T02:38:14.315Z"
   },
   {
    "duration": 161,
    "start_time": "2025-01-30T02:38:14.555Z"
   },
   {
    "duration": 92,
    "start_time": "2025-01-30T02:38:14.718Z"
   },
   {
    "duration": 246,
    "start_time": "2025-01-30T02:38:14.812Z"
   },
   {
    "duration": 229,
    "start_time": "2025-01-30T02:38:15.059Z"
   },
   {
    "duration": 0,
    "start_time": "2025-01-30T02:38:15.289Z"
   },
   {
    "duration": 0,
    "start_time": "2025-01-30T02:38:15.290Z"
   },
   {
    "duration": 0,
    "start_time": "2025-01-30T02:38:15.292Z"
   },
   {
    "duration": 0,
    "start_time": "2025-01-30T02:38:15.293Z"
   },
   {
    "duration": 0,
    "start_time": "2025-01-30T02:38:15.309Z"
   },
   {
    "duration": 6,
    "start_time": "2025-01-30T02:41:35.096Z"
   },
   {
    "duration": 1102,
    "start_time": "2025-01-30T02:42:28.158Z"
   },
   {
    "duration": 246,
    "start_time": "2025-01-30T02:42:29.262Z"
   },
   {
    "duration": 20,
    "start_time": "2025-01-30T02:42:29.510Z"
   },
   {
    "duration": 20,
    "start_time": "2025-01-30T02:42:29.532Z"
   },
   {
    "duration": 22,
    "start_time": "2025-01-30T02:42:29.555Z"
   },
   {
    "duration": 37,
    "start_time": "2025-01-30T02:42:29.579Z"
   },
   {
    "duration": 7,
    "start_time": "2025-01-30T02:42:29.618Z"
   },
   {
    "duration": 5,
    "start_time": "2025-01-30T02:42:29.626Z"
   },
   {
    "duration": 46,
    "start_time": "2025-01-30T02:42:29.633Z"
   },
   {
    "duration": 26,
    "start_time": "2025-01-30T02:42:29.709Z"
   },
   {
    "duration": 18,
    "start_time": "2025-01-30T02:42:29.737Z"
   },
   {
    "duration": 3,
    "start_time": "2025-01-30T02:42:29.758Z"
   },
   {
    "duration": 3,
    "start_time": "2025-01-30T02:42:29.769Z"
   },
   {
    "duration": 3,
    "start_time": "2025-01-30T02:42:29.778Z"
   },
   {
    "duration": 59,
    "start_time": "2025-01-30T02:42:29.784Z"
   },
   {
    "duration": 33,
    "start_time": "2025-01-30T02:42:29.845Z"
   },
   {
    "duration": 55,
    "start_time": "2025-01-30T02:42:29.880Z"
   },
   {
    "duration": 36,
    "start_time": "2025-01-30T02:42:29.939Z"
   },
   {
    "duration": 14,
    "start_time": "2025-01-30T02:42:29.978Z"
   },
   {
    "duration": 14,
    "start_time": "2025-01-30T02:42:30.011Z"
   },
   {
    "duration": 15,
    "start_time": "2025-01-30T02:42:30.027Z"
   },
   {
    "duration": 22,
    "start_time": "2025-01-30T02:42:30.046Z"
   },
   {
    "duration": 6,
    "start_time": "2025-01-30T02:42:30.070Z"
   },
   {
    "duration": 35,
    "start_time": "2025-01-30T02:42:30.077Z"
   },
   {
    "duration": 5,
    "start_time": "2025-01-30T02:42:30.114Z"
   },
   {
    "duration": 190,
    "start_time": "2025-01-30T02:42:30.121Z"
   },
   {
    "duration": 18,
    "start_time": "2025-01-30T02:42:30.313Z"
   },
   {
    "duration": 299,
    "start_time": "2025-01-30T02:42:30.337Z"
   },
   {
    "duration": 174,
    "start_time": "2025-01-30T02:42:30.638Z"
   },
   {
    "duration": 18,
    "start_time": "2025-01-30T02:42:30.814Z"
   },
   {
    "duration": 312,
    "start_time": "2025-01-30T02:42:30.834Z"
   },
   {
    "duration": 373,
    "start_time": "2025-01-30T02:42:31.150Z"
   },
   {
    "duration": 89,
    "start_time": "2025-01-30T02:42:31.526Z"
   },
   {
    "duration": 263,
    "start_time": "2025-01-30T02:42:31.617Z"
   },
   {
    "duration": 4,
    "start_time": "2025-01-30T02:42:31.883Z"
   },
   {
    "duration": 22,
    "start_time": "2025-01-30T02:42:31.889Z"
   },
   {
    "duration": 8,
    "start_time": "2025-01-30T02:42:31.913Z"
   },
   {
    "duration": 7,
    "start_time": "2025-01-30T02:42:31.923Z"
   },
   {
    "duration": 7,
    "start_time": "2025-01-30T02:42:31.932Z"
   },
   {
    "duration": 281,
    "start_time": "2025-01-30T02:42:31.942Z"
   },
   {
    "duration": 0,
    "start_time": "2025-01-30T02:42:32.227Z"
   },
   {
    "duration": 9,
    "start_time": "2025-01-30T02:43:25.166Z"
   },
   {
    "duration": 349,
    "start_time": "2025-01-30T02:44:05.559Z"
   },
   {
    "duration": 7,
    "start_time": "2025-01-30T02:45:10.269Z"
   },
   {
    "duration": 5,
    "start_time": "2025-01-30T02:45:51.512Z"
   },
   {
    "duration": 58,
    "start_time": "2025-01-30T02:46:11.226Z"
   },
   {
    "duration": 25,
    "start_time": "2025-01-30T02:47:58.754Z"
   },
   {
    "duration": 61,
    "start_time": "2025-01-30T02:50:53.210Z"
   },
   {
    "duration": 55,
    "start_time": "2025-01-30T02:53:17.630Z"
   },
   {
    "duration": 5,
    "start_time": "2025-01-30T02:54:43.006Z"
   },
   {
    "duration": 20,
    "start_time": "2025-01-30T02:57:03.238Z"
   },
   {
    "duration": 20,
    "start_time": "2025-01-30T02:58:33.378Z"
   },
   {
    "duration": 19,
    "start_time": "2025-01-30T02:59:51.912Z"
   },
   {
    "duration": 1012,
    "start_time": "2025-01-30T02:59:59.771Z"
   },
   {
    "duration": 228,
    "start_time": "2025-01-30T03:00:00.786Z"
   },
   {
    "duration": 20,
    "start_time": "2025-01-30T03:00:01.016Z"
   },
   {
    "duration": 16,
    "start_time": "2025-01-30T03:00:01.039Z"
   },
   {
    "duration": 17,
    "start_time": "2025-01-30T03:00:01.056Z"
   },
   {
    "duration": 42,
    "start_time": "2025-01-30T03:00:01.074Z"
   },
   {
    "duration": 6,
    "start_time": "2025-01-30T03:00:01.117Z"
   },
   {
    "duration": 5,
    "start_time": "2025-01-30T03:00:01.125Z"
   },
   {
    "duration": 33,
    "start_time": "2025-01-30T03:00:01.132Z"
   },
   {
    "duration": 61,
    "start_time": "2025-01-30T03:00:01.168Z"
   },
   {
    "duration": 16,
    "start_time": "2025-01-30T03:00:01.232Z"
   },
   {
    "duration": 4,
    "start_time": "2025-01-30T03:00:01.249Z"
   },
   {
    "duration": 3,
    "start_time": "2025-01-30T03:00:01.254Z"
   },
   {
    "duration": 4,
    "start_time": "2025-01-30T03:00:01.259Z"
   },
   {
    "duration": 59,
    "start_time": "2025-01-30T03:00:01.264Z"
   },
   {
    "duration": 21,
    "start_time": "2025-01-30T03:00:01.324Z"
   },
   {
    "duration": 35,
    "start_time": "2025-01-30T03:00:01.347Z"
   },
   {
    "duration": 45,
    "start_time": "2025-01-30T03:00:01.384Z"
   },
   {
    "duration": 10,
    "start_time": "2025-01-30T03:00:01.431Z"
   },
   {
    "duration": 11,
    "start_time": "2025-01-30T03:00:01.443Z"
   },
   {
    "duration": 11,
    "start_time": "2025-01-30T03:00:01.456Z"
   },
   {
    "duration": 55,
    "start_time": "2025-01-30T03:00:01.469Z"
   },
   {
    "duration": 5,
    "start_time": "2025-01-30T03:00:01.526Z"
   },
   {
    "duration": 5,
    "start_time": "2025-01-30T03:00:01.532Z"
   },
   {
    "duration": 5,
    "start_time": "2025-01-30T03:00:01.539Z"
   },
   {
    "duration": 177,
    "start_time": "2025-01-30T03:00:01.546Z"
   },
   {
    "duration": 89,
    "start_time": "2025-01-30T03:00:01.726Z"
   },
   {
    "duration": 268,
    "start_time": "2025-01-30T03:00:01.821Z"
   },
   {
    "duration": 141,
    "start_time": "2025-01-30T03:00:02.090Z"
   },
   {
    "duration": 17,
    "start_time": "2025-01-30T03:00:02.310Z"
   },
   {
    "duration": 291,
    "start_time": "2025-01-30T03:00:02.330Z"
   },
   {
    "duration": 188,
    "start_time": "2025-01-30T03:00:02.625Z"
   },
   {
    "duration": 94,
    "start_time": "2025-01-30T03:00:02.817Z"
   },
   {
    "duration": 249,
    "start_time": "2025-01-30T03:00:02.916Z"
   },
   {
    "duration": 5,
    "start_time": "2025-01-30T03:00:03.167Z"
   },
   {
    "duration": 7,
    "start_time": "2025-01-30T03:00:03.173Z"
   },
   {
    "duration": 6,
    "start_time": "2025-01-30T03:00:03.182Z"
   },
   {
    "duration": 7,
    "start_time": "2025-01-30T03:00:03.210Z"
   },
   {
    "duration": 7,
    "start_time": "2025-01-30T03:00:03.219Z"
   },
   {
    "duration": 4,
    "start_time": "2025-01-30T03:00:03.228Z"
   },
   {
    "duration": 267,
    "start_time": "2025-01-30T03:00:03.234Z"
   },
   {
    "duration": 322,
    "start_time": "2025-01-30T03:02:00.165Z"
   },
   {
    "duration": 21,
    "start_time": "2025-01-30T03:06:05.774Z"
   },
   {
    "duration": 17,
    "start_time": "2025-01-30T03:07:17.582Z"
   },
   {
    "duration": 1042,
    "start_time": "2025-01-30T03:08:18.998Z"
   },
   {
    "duration": 233,
    "start_time": "2025-01-30T03:08:20.042Z"
   },
   {
    "duration": 19,
    "start_time": "2025-01-30T03:08:20.279Z"
   },
   {
    "duration": 16,
    "start_time": "2025-01-30T03:08:20.309Z"
   },
   {
    "duration": 17,
    "start_time": "2025-01-30T03:08:20.326Z"
   },
   {
    "duration": 10,
    "start_time": "2025-01-30T03:08:20.345Z"
   },
   {
    "duration": 6,
    "start_time": "2025-01-30T03:08:20.357Z"
   },
   {
    "duration": 5,
    "start_time": "2025-01-30T03:08:20.364Z"
   },
   {
    "duration": 33,
    "start_time": "2025-01-30T03:08:20.410Z"
   },
   {
    "duration": 23,
    "start_time": "2025-01-30T03:08:20.445Z"
   },
   {
    "duration": 12,
    "start_time": "2025-01-30T03:08:20.470Z"
   },
   {
    "duration": 2,
    "start_time": "2025-01-30T03:08:20.484Z"
   },
   {
    "duration": 2,
    "start_time": "2025-01-30T03:08:20.509Z"
   },
   {
    "duration": 3,
    "start_time": "2025-01-30T03:08:20.513Z"
   },
   {
    "duration": 30,
    "start_time": "2025-01-30T03:08:20.518Z"
   },
   {
    "duration": 21,
    "start_time": "2025-01-30T03:08:20.550Z"
   },
   {
    "duration": 65,
    "start_time": "2025-01-30T03:08:20.573Z"
   },
   {
    "duration": 25,
    "start_time": "2025-01-30T03:08:20.640Z"
   },
   {
    "duration": 12,
    "start_time": "2025-01-30T03:08:20.667Z"
   },
   {
    "duration": 32,
    "start_time": "2025-01-30T03:08:20.682Z"
   },
   {
    "duration": 10,
    "start_time": "2025-01-30T03:08:20.717Z"
   },
   {
    "duration": 22,
    "start_time": "2025-01-30T03:08:20.729Z"
   },
   {
    "duration": 5,
    "start_time": "2025-01-30T03:08:20.753Z"
   },
   {
    "duration": 6,
    "start_time": "2025-01-30T03:08:20.760Z"
   },
   {
    "duration": 6,
    "start_time": "2025-01-30T03:08:20.769Z"
   },
   {
    "duration": 203,
    "start_time": "2025-01-30T03:08:20.808Z"
   },
   {
    "duration": 93,
    "start_time": "2025-01-30T03:08:21.016Z"
   },
   {
    "duration": 253,
    "start_time": "2025-01-30T03:08:21.111Z"
   },
   {
    "duration": 245,
    "start_time": "2025-01-30T03:08:21.367Z"
   },
   {
    "duration": 94,
    "start_time": "2025-01-30T03:08:21.617Z"
   },
   {
    "duration": 248,
    "start_time": "2025-01-30T03:08:21.716Z"
   },
   {
    "duration": 164,
    "start_time": "2025-01-30T03:08:21.967Z"
   },
   {
    "duration": 18,
    "start_time": "2025-01-30T03:08:22.209Z"
   },
   {
    "duration": 306,
    "start_time": "2025-01-30T03:08:22.229Z"
   },
   {
    "duration": 3,
    "start_time": "2025-01-30T03:08:22.538Z"
   },
   {
    "duration": 6,
    "start_time": "2025-01-30T03:08:22.543Z"
   },
   {
    "duration": 6,
    "start_time": "2025-01-30T03:08:22.550Z"
   },
   {
    "duration": 7,
    "start_time": "2025-01-30T03:08:22.558Z"
   },
   {
    "duration": 7,
    "start_time": "2025-01-30T03:08:22.566Z"
   },
   {
    "duration": 5,
    "start_time": "2025-01-30T03:08:22.609Z"
   },
   {
    "duration": 760,
    "start_time": "2025-01-30T03:08:22.616Z"
   },
   {
    "duration": 638,
    "start_time": "2025-01-30T03:09:20.771Z"
   },
   {
    "duration": 60,
    "start_time": "2025-01-30T03:09:46.701Z"
   },
   {
    "duration": 5,
    "start_time": "2025-01-30T03:10:47.749Z"
   },
   {
    "duration": 118,
    "start_time": "2025-01-30T03:11:01.717Z"
   },
   {
    "duration": 789,
    "start_time": "2025-01-30T03:12:09.162Z"
   },
   {
    "duration": 2681,
    "start_time": "2025-01-30T16:37:45.643Z"
   },
   {
    "duration": 296,
    "start_time": "2025-01-30T16:37:48.326Z"
   },
   {
    "duration": 18,
    "start_time": "2025-01-30T16:37:48.624Z"
   },
   {
    "duration": 14,
    "start_time": "2025-01-30T16:37:48.644Z"
   },
   {
    "duration": 26,
    "start_time": "2025-01-30T16:37:48.661Z"
   },
   {
    "duration": 11,
    "start_time": "2025-01-30T16:37:48.689Z"
   },
   {
    "duration": 5,
    "start_time": "2025-01-30T16:37:48.702Z"
   },
   {
    "duration": 3,
    "start_time": "2025-01-30T16:37:48.709Z"
   },
   {
    "duration": 30,
    "start_time": "2025-01-30T16:37:48.714Z"
   },
   {
    "duration": 53,
    "start_time": "2025-01-30T16:37:48.747Z"
   },
   {
    "duration": 12,
    "start_time": "2025-01-30T16:37:48.801Z"
   },
   {
    "duration": 2,
    "start_time": "2025-01-30T16:37:48.815Z"
   },
   {
    "duration": 3,
    "start_time": "2025-01-30T16:37:48.818Z"
   },
   {
    "duration": 2,
    "start_time": "2025-01-30T16:37:48.825Z"
   },
   {
    "duration": 57,
    "start_time": "2025-01-30T16:37:48.829Z"
   },
   {
    "duration": 19,
    "start_time": "2025-01-30T16:37:48.888Z"
   },
   {
    "duration": 30,
    "start_time": "2025-01-30T16:37:48.908Z"
   },
   {
    "duration": 20,
    "start_time": "2025-01-30T16:37:48.940Z"
   },
   {
    "duration": 10,
    "start_time": "2025-01-30T16:37:48.986Z"
   },
   {
    "duration": 9,
    "start_time": "2025-01-30T16:37:48.998Z"
   },
   {
    "duration": 10,
    "start_time": "2025-01-30T16:37:49.009Z"
   },
   {
    "duration": 19,
    "start_time": "2025-01-30T16:37:49.021Z"
   },
   {
    "duration": 4,
    "start_time": "2025-01-30T16:37:49.042Z"
   },
   {
    "duration": 4,
    "start_time": "2025-01-30T16:37:49.048Z"
   },
   {
    "duration": 39,
    "start_time": "2025-01-30T16:37:49.054Z"
   },
   {
    "duration": 301,
    "start_time": "2025-01-30T16:37:49.094Z"
   },
   {
    "duration": 91,
    "start_time": "2025-01-30T16:37:49.396Z"
   },
   {
    "duration": 261,
    "start_time": "2025-01-30T16:37:49.489Z"
   },
   {
    "duration": 150,
    "start_time": "2025-01-30T16:37:49.753Z"
   },
   {
    "duration": 89,
    "start_time": "2025-01-30T16:37:49.904Z"
   },
   {
    "duration": 254,
    "start_time": "2025-01-30T16:37:49.995Z"
   },
   {
    "duration": 157,
    "start_time": "2025-01-30T16:37:50.251Z"
   },
   {
    "duration": 91,
    "start_time": "2025-01-30T16:37:50.410Z"
   },
   {
    "duration": 333,
    "start_time": "2025-01-30T16:37:50.505Z"
   },
   {
    "duration": 3,
    "start_time": "2025-01-30T16:37:50.840Z"
   },
   {
    "duration": 7,
    "start_time": "2025-01-30T16:37:50.845Z"
   },
   {
    "duration": 34,
    "start_time": "2025-01-30T16:37:50.853Z"
   },
   {
    "duration": 6,
    "start_time": "2025-01-30T16:37:50.888Z"
   },
   {
    "duration": 7,
    "start_time": "2025-01-30T16:37:50.895Z"
   },
   {
    "duration": 4,
    "start_time": "2025-01-30T16:37:50.903Z"
   },
   {
    "duration": 724,
    "start_time": "2025-01-30T16:37:50.911Z"
   },
   {
    "duration": 4,
    "start_time": "2025-01-30T16:42:52.839Z"
   },
   {
    "duration": 5,
    "start_time": "2025-01-30T16:47:23.393Z"
   },
   {
    "duration": 5,
    "start_time": "2025-01-30T16:47:40.045Z"
   },
   {
    "duration": 3,
    "start_time": "2025-01-30T16:48:08.886Z"
   },
   {
    "duration": 4,
    "start_time": "2025-01-30T16:48:20.988Z"
   },
   {
    "duration": 4,
    "start_time": "2025-01-30T16:48:26.917Z"
   },
   {
    "duration": 2,
    "start_time": "2025-01-30T16:50:14.168Z"
   },
   {
    "duration": 2,
    "start_time": "2025-01-30T16:50:56.255Z"
   },
   {
    "duration": 103,
    "start_time": "2025-01-30T16:55:12.125Z"
   },
   {
    "duration": 4,
    "start_time": "2025-01-30T16:55:54.784Z"
   },
   {
    "duration": 4,
    "start_time": "2025-01-30T16:57:18.705Z"
   },
   {
    "duration": 58,
    "start_time": "2025-01-30T16:57:46.203Z"
   },
   {
    "duration": 987,
    "start_time": "2025-01-30T17:00:22.761Z"
   },
   {
    "duration": 217,
    "start_time": "2025-01-30T17:00:23.751Z"
   },
   {
    "duration": 23,
    "start_time": "2025-01-30T17:00:23.970Z"
   },
   {
    "duration": 15,
    "start_time": "2025-01-30T17:00:23.995Z"
   },
   {
    "duration": 15,
    "start_time": "2025-01-30T17:00:24.011Z"
   },
   {
    "duration": 10,
    "start_time": "2025-01-30T17:00:24.027Z"
   },
   {
    "duration": 4,
    "start_time": "2025-01-30T17:00:24.039Z"
   },
   {
    "duration": 4,
    "start_time": "2025-01-30T17:00:24.045Z"
   },
   {
    "duration": 31,
    "start_time": "2025-01-30T17:00:24.087Z"
   },
   {
    "duration": 20,
    "start_time": "2025-01-30T17:00:24.122Z"
   },
   {
    "duration": 12,
    "start_time": "2025-01-30T17:00:24.144Z"
   },
   {
    "duration": 31,
    "start_time": "2025-01-30T17:00:24.157Z"
   },
   {
    "duration": 2,
    "start_time": "2025-01-30T17:00:24.190Z"
   },
   {
    "duration": 3,
    "start_time": "2025-01-30T17:00:24.193Z"
   },
   {
    "duration": 30,
    "start_time": "2025-01-30T17:00:24.197Z"
   },
   {
    "duration": 19,
    "start_time": "2025-01-30T17:00:24.229Z"
   },
   {
    "duration": 56,
    "start_time": "2025-01-30T17:00:24.250Z"
   },
   {
    "duration": 21,
    "start_time": "2025-01-30T17:00:24.308Z"
   },
   {
    "duration": 11,
    "start_time": "2025-01-30T17:00:24.330Z"
   },
   {
    "duration": 9,
    "start_time": "2025-01-30T17:00:24.343Z"
   },
   {
    "duration": 35,
    "start_time": "2025-01-30T17:00:24.354Z"
   },
   {
    "duration": 20,
    "start_time": "2025-01-30T17:00:24.392Z"
   },
   {
    "duration": 6,
    "start_time": "2025-01-30T17:00:24.414Z"
   },
   {
    "duration": 7,
    "start_time": "2025-01-30T17:00:24.422Z"
   },
   {
    "duration": 6,
    "start_time": "2025-01-30T17:00:24.430Z"
   },
   {
    "duration": 164,
    "start_time": "2025-01-30T17:00:24.437Z"
   },
   {
    "duration": 92,
    "start_time": "2025-01-30T17:00:24.603Z"
   },
   {
    "duration": 270,
    "start_time": "2025-01-30T17:00:24.702Z"
   },
   {
    "duration": 136,
    "start_time": "2025-01-30T17:00:24.973Z"
   },
   {
    "duration": 92,
    "start_time": "2025-01-30T17:00:25.110Z"
   },
   {
    "duration": 285,
    "start_time": "2025-01-30T17:00:25.205Z"
   },
   {
    "duration": 197,
    "start_time": "2025-01-30T17:00:25.492Z"
   },
   {
    "duration": 97,
    "start_time": "2025-01-30T17:00:25.691Z"
   },
   {
    "duration": 251,
    "start_time": "2025-01-30T17:00:25.795Z"
   },
   {
    "duration": 280,
    "start_time": "2025-01-30T17:00:26.048Z"
   },
   {
    "duration": 0,
    "start_time": "2025-01-30T17:00:26.330Z"
   },
   {
    "duration": 0,
    "start_time": "2025-01-30T17:00:26.331Z"
   },
   {
    "duration": 0,
    "start_time": "2025-01-30T17:00:26.332Z"
   },
   {
    "duration": 0,
    "start_time": "2025-01-30T17:00:26.333Z"
   },
   {
    "duration": 0,
    "start_time": "2025-01-30T17:00:26.334Z"
   },
   {
    "duration": 0,
    "start_time": "2025-01-30T17:00:26.335Z"
   },
   {
    "duration": 0,
    "start_time": "2025-01-30T17:00:26.336Z"
   },
   {
    "duration": 17,
    "start_time": "2025-01-30T17:00:45.256Z"
   },
   {
    "duration": 5,
    "start_time": "2025-01-30T17:00:51.952Z"
   },
   {
    "duration": 1003,
    "start_time": "2025-01-30T17:00:59.722Z"
   },
   {
    "duration": 213,
    "start_time": "2025-01-30T17:01:00.727Z"
   },
   {
    "duration": 18,
    "start_time": "2025-01-30T17:01:00.942Z"
   },
   {
    "duration": 25,
    "start_time": "2025-01-30T17:01:00.962Z"
   },
   {
    "duration": 15,
    "start_time": "2025-01-30T17:01:00.989Z"
   },
   {
    "duration": 10,
    "start_time": "2025-01-30T17:01:01.005Z"
   },
   {
    "duration": 6,
    "start_time": "2025-01-30T17:01:01.016Z"
   },
   {
    "duration": 4,
    "start_time": "2025-01-30T17:01:01.024Z"
   },
   {
    "duration": 63,
    "start_time": "2025-01-30T17:01:01.030Z"
   },
   {
    "duration": 21,
    "start_time": "2025-01-30T17:01:01.095Z"
   },
   {
    "duration": 13,
    "start_time": "2025-01-30T17:01:01.118Z"
   },
   {
    "duration": 2,
    "start_time": "2025-01-30T17:01:01.132Z"
   },
   {
    "duration": 2,
    "start_time": "2025-01-30T17:01:01.136Z"
   },
   {
    "duration": 2,
    "start_time": "2025-01-30T17:01:01.141Z"
   },
   {
    "duration": 64,
    "start_time": "2025-01-30T17:01:01.145Z"
   },
   {
    "duration": 20,
    "start_time": "2025-01-30T17:01:01.211Z"
   },
   {
    "duration": 31,
    "start_time": "2025-01-30T17:01:01.233Z"
   },
   {
    "duration": 38,
    "start_time": "2025-01-30T17:01:01.266Z"
   },
   {
    "duration": 10,
    "start_time": "2025-01-30T17:01:01.305Z"
   },
   {
    "duration": 9,
    "start_time": "2025-01-30T17:01:01.317Z"
   },
   {
    "duration": 9,
    "start_time": "2025-01-30T17:01:01.328Z"
   },
   {
    "duration": 47,
    "start_time": "2025-01-30T17:01:01.339Z"
   },
   {
    "duration": 6,
    "start_time": "2025-01-30T17:01:01.388Z"
   },
   {
    "duration": 5,
    "start_time": "2025-01-30T17:01:01.397Z"
   },
   {
    "duration": 5,
    "start_time": "2025-01-30T17:01:01.404Z"
   },
   {
    "duration": 184,
    "start_time": "2025-01-30T17:01:01.410Z"
   },
   {
    "duration": 93,
    "start_time": "2025-01-30T17:01:01.596Z"
   },
   {
    "duration": 256,
    "start_time": "2025-01-30T17:01:01.694Z"
   },
   {
    "duration": 148,
    "start_time": "2025-01-30T17:01:01.952Z"
   },
   {
    "duration": 90,
    "start_time": "2025-01-30T17:01:02.102Z"
   },
   {
    "duration": 254,
    "start_time": "2025-01-30T17:01:02.194Z"
   },
   {
    "duration": 150,
    "start_time": "2025-01-30T17:01:02.450Z"
   },
   {
    "duration": 90,
    "start_time": "2025-01-30T17:01:02.602Z"
   },
   {
    "duration": 271,
    "start_time": "2025-01-30T17:01:02.694Z"
   },
   {
    "duration": 3,
    "start_time": "2025-01-30T17:01:02.968Z"
   },
   {
    "duration": 18,
    "start_time": "2025-01-30T17:01:02.973Z"
   },
   {
    "duration": 7,
    "start_time": "2025-01-30T17:01:02.992Z"
   },
   {
    "duration": 6,
    "start_time": "2025-01-30T17:01:03.000Z"
   },
   {
    "duration": 2,
    "start_time": "2025-01-30T17:01:03.007Z"
   },
   {
    "duration": 557,
    "start_time": "2025-01-30T17:01:03.011Z"
   },
   {
    "duration": 0,
    "start_time": "2025-01-30T17:01:03.570Z"
   },
   {
    "duration": 0,
    "start_time": "2025-01-30T17:01:03.571Z"
   },
   {
    "duration": 17,
    "start_time": "2025-01-30T17:42:47.389Z"
   },
   {
    "duration": 4,
    "start_time": "2025-01-30T17:42:59.758Z"
   },
   {
    "duration": 4,
    "start_time": "2025-01-30T17:43:34.565Z"
   },
   {
    "duration": 4,
    "start_time": "2025-01-30T17:43:49.783Z"
   },
   {
    "duration": 15,
    "start_time": "2025-01-30T17:44:01.568Z"
   },
   {
    "duration": 16,
    "start_time": "2025-01-30T17:44:11.965Z"
   },
   {
    "duration": 21,
    "start_time": "2025-01-30T17:44:22.003Z"
   },
   {
    "duration": 24,
    "start_time": "2025-01-30T17:44:40.836Z"
   },
   {
    "duration": 57,
    "start_time": "2025-01-30T17:45:00.368Z"
   },
   {
    "duration": 61,
    "start_time": "2025-01-30T17:45:19.271Z"
   },
   {
    "duration": 16,
    "start_time": "2025-01-30T17:47:34.360Z"
   },
   {
    "duration": 13,
    "start_time": "2025-01-30T17:47:49.649Z"
   },
   {
    "duration": 3,
    "start_time": "2025-01-30T17:47:52.194Z"
   },
   {
    "duration": 4,
    "start_time": "2025-01-30T17:48:31.917Z"
   },
   {
    "duration": 995,
    "start_time": "2025-01-30T17:49:45.182Z"
   },
   {
    "duration": 218,
    "start_time": "2025-01-30T17:49:46.180Z"
   },
   {
    "duration": 18,
    "start_time": "2025-01-30T17:49:46.400Z"
   },
   {
    "duration": 15,
    "start_time": "2025-01-30T17:49:46.421Z"
   },
   {
    "duration": 14,
    "start_time": "2025-01-30T17:49:46.437Z"
   },
   {
    "duration": 34,
    "start_time": "2025-01-30T17:49:46.453Z"
   },
   {
    "duration": 6,
    "start_time": "2025-01-30T17:49:46.489Z"
   },
   {
    "duration": 5,
    "start_time": "2025-01-30T17:49:46.496Z"
   },
   {
    "duration": 30,
    "start_time": "2025-01-30T17:49:46.503Z"
   },
   {
    "duration": 21,
    "start_time": "2025-01-30T17:49:46.537Z"
   },
   {
    "duration": 12,
    "start_time": "2025-01-30T17:49:46.587Z"
   },
   {
    "duration": 2,
    "start_time": "2025-01-30T17:49:46.601Z"
   },
   {
    "duration": 2,
    "start_time": "2025-01-30T17:49:46.605Z"
   },
   {
    "duration": 2,
    "start_time": "2025-01-30T17:49:46.609Z"
   },
   {
    "duration": 28,
    "start_time": "2025-01-30T17:49:46.613Z"
   },
   {
    "duration": 52,
    "start_time": "2025-01-30T17:49:46.643Z"
   },
   {
    "duration": 33,
    "start_time": "2025-01-30T17:49:46.697Z"
   },
   {
    "duration": 25,
    "start_time": "2025-01-30T17:49:46.732Z"
   },
   {
    "duration": 29,
    "start_time": "2025-01-30T17:49:46.759Z"
   },
   {
    "duration": 9,
    "start_time": "2025-01-30T17:49:46.790Z"
   },
   {
    "duration": 10,
    "start_time": "2025-01-30T17:49:46.801Z"
   },
   {
    "duration": 19,
    "start_time": "2025-01-30T17:49:46.812Z"
   },
   {
    "duration": 5,
    "start_time": "2025-01-30T17:49:46.832Z"
   },
   {
    "duration": 5,
    "start_time": "2025-01-30T17:49:46.839Z"
   },
   {
    "duration": 5,
    "start_time": "2025-01-30T17:49:46.846Z"
   },
   {
    "duration": 201,
    "start_time": "2025-01-30T17:49:46.886Z"
   },
   {
    "duration": 96,
    "start_time": "2025-01-30T17:49:47.091Z"
   },
   {
    "duration": 246,
    "start_time": "2025-01-30T17:49:47.193Z"
   },
   {
    "duration": 160,
    "start_time": "2025-01-30T17:49:47.441Z"
   },
   {
    "duration": 95,
    "start_time": "2025-01-30T17:49:47.603Z"
   },
   {
    "duration": 282,
    "start_time": "2025-01-30T17:49:47.703Z"
   },
   {
    "duration": 200,
    "start_time": "2025-01-30T17:49:47.986Z"
   },
   {
    "duration": 16,
    "start_time": "2025-01-30T17:49:48.189Z"
   },
   {
    "duration": 298,
    "start_time": "2025-01-30T17:49:48.206Z"
   },
   {
    "duration": 4,
    "start_time": "2025-01-30T17:49:48.506Z"
   },
   {
    "duration": 6,
    "start_time": "2025-01-30T17:49:48.512Z"
   },
   {
    "duration": 6,
    "start_time": "2025-01-30T17:49:48.520Z"
   },
   {
    "duration": 6,
    "start_time": "2025-01-30T17:49:48.527Z"
   },
   {
    "duration": 2,
    "start_time": "2025-01-30T17:49:48.535Z"
   },
   {
    "duration": 557,
    "start_time": "2025-01-30T17:49:48.539Z"
   },
   {
    "duration": 0,
    "start_time": "2025-01-30T17:49:49.098Z"
   },
   {
    "duration": 0,
    "start_time": "2025-01-30T17:49:49.099Z"
   },
   {
    "duration": 0,
    "start_time": "2025-01-30T17:49:49.100Z"
   },
   {
    "duration": 5,
    "start_time": "2025-01-30T17:50:22.634Z"
   },
   {
    "duration": 4,
    "start_time": "2025-01-30T17:54:59.211Z"
   },
   {
    "duration": 4,
    "start_time": "2025-01-30T17:55:17.339Z"
   },
   {
    "duration": 5,
    "start_time": "2025-01-30T18:01:47.057Z"
   },
   {
    "duration": 3,
    "start_time": "2025-01-30T18:01:59.872Z"
   },
   {
    "duration": 5,
    "start_time": "2025-01-30T18:02:04.653Z"
   },
   {
    "duration": 5,
    "start_time": "2025-01-30T18:02:17.970Z"
   },
   {
    "duration": 5,
    "start_time": "2025-01-30T18:02:22.627Z"
   },
   {
    "duration": 3,
    "start_time": "2025-01-30T18:02:42.349Z"
   },
   {
    "duration": 60,
    "start_time": "2025-01-30T18:03:06.684Z"
   },
   {
    "duration": 4,
    "start_time": "2025-01-30T18:04:48.201Z"
   },
   {
    "duration": 3,
    "start_time": "2025-01-30T18:04:55.922Z"
   },
   {
    "duration": 4,
    "start_time": "2025-01-30T18:05:00.007Z"
   },
   {
    "duration": 23,
    "start_time": "2025-01-30T18:05:56.286Z"
   },
   {
    "duration": 6,
    "start_time": "2025-01-30T18:08:00.051Z"
   },
   {
    "duration": 363,
    "start_time": "2025-01-30T18:08:02.382Z"
   },
   {
    "duration": 59,
    "start_time": "2025-01-30T18:08:28.461Z"
   },
   {
    "duration": 5,
    "start_time": "2025-01-30T18:09:49.123Z"
   },
   {
    "duration": 6,
    "start_time": "2025-01-30T18:09:59.052Z"
   },
   {
    "duration": 6,
    "start_time": "2025-01-30T18:10:15.104Z"
   },
   {
    "duration": 5,
    "start_time": "2025-01-30T18:11:00.760Z"
   },
   {
    "duration": 55,
    "start_time": "2025-01-30T18:28:06.530Z"
   },
   {
    "duration": 19,
    "start_time": "2025-01-30T18:28:19.588Z"
   },
   {
    "duration": 57,
    "start_time": "2025-01-30T18:28:33.866Z"
   },
   {
    "duration": 55,
    "start_time": "2025-01-30T18:29:42.488Z"
   },
   {
    "duration": 23,
    "start_time": "2025-01-30T18:32:04.221Z"
   },
   {
    "duration": 5,
    "start_time": "2025-01-30T18:32:25.373Z"
   },
   {
    "duration": 5,
    "start_time": "2025-01-30T18:32:42.983Z"
   },
   {
    "duration": 57,
    "start_time": "2025-01-30T18:33:29.885Z"
   },
   {
    "duration": 5,
    "start_time": "2025-01-30T18:34:23.203Z"
   },
   {
    "duration": 23,
    "start_time": "2025-01-30T18:34:37.643Z"
   },
   {
    "duration": 282,
    "start_time": "2025-01-30T18:35:27.115Z"
   },
   {
    "duration": 55,
    "start_time": "2025-01-30T18:36:03.620Z"
   },
   {
    "duration": 58,
    "start_time": "2025-01-30T18:36:16.602Z"
   },
   {
    "duration": 5,
    "start_time": "2025-01-30T18:36:36.029Z"
   },
   {
    "duration": 283,
    "start_time": "2025-01-30T18:37:17.311Z"
   },
   {
    "duration": 290,
    "start_time": "2025-01-30T18:49:46.026Z"
   },
   {
    "duration": 299,
    "start_time": "2025-01-30T18:50:02.073Z"
   },
   {
    "duration": 316,
    "start_time": "2025-01-30T18:50:16.834Z"
   },
   {
    "duration": 280,
    "start_time": "2025-01-30T18:50:24.672Z"
   },
   {
    "duration": 376,
    "start_time": "2025-01-30T18:50:53.110Z"
   },
   {
    "duration": 5,
    "start_time": "2025-01-30T18:51:40.738Z"
   },
   {
    "duration": 281,
    "start_time": "2025-01-30T18:52:08.398Z"
   },
   {
    "duration": 281,
    "start_time": "2025-01-30T18:52:37.249Z"
   },
   {
    "duration": 5,
    "start_time": "2025-01-30T18:52:41.446Z"
   },
   {
    "duration": 334,
    "start_time": "2025-01-30T18:52:42.886Z"
   },
   {
    "duration": 274,
    "start_time": "2025-01-30T18:54:00.941Z"
   },
   {
    "duration": 271,
    "start_time": "2025-01-30T18:55:18.189Z"
   },
   {
    "duration": 290,
    "start_time": "2025-01-30T18:56:25.219Z"
   },
   {
    "duration": 321,
    "start_time": "2025-01-30T18:56:33.032Z"
   },
   {
    "duration": 291,
    "start_time": "2025-01-30T18:56:47.860Z"
   },
   {
    "duration": 8,
    "start_time": "2025-01-30T18:57:06.176Z"
   },
   {
    "duration": 313,
    "start_time": "2025-01-30T18:57:08.479Z"
   },
   {
    "duration": 299,
    "start_time": "2025-01-30T18:57:35.911Z"
   },
   {
    "duration": 283,
    "start_time": "2025-01-30T18:57:53.848Z"
   },
   {
    "duration": 4,
    "start_time": "2025-01-30T18:59:20.117Z"
   },
   {
    "duration": 5,
    "start_time": "2025-01-30T19:00:28.999Z"
   },
   {
    "duration": 5,
    "start_time": "2025-01-30T19:00:42.677Z"
   },
   {
    "duration": 7,
    "start_time": "2025-01-30T19:00:57.878Z"
   },
   {
    "duration": 2,
    "start_time": "2025-01-30T19:01:32.174Z"
   },
   {
    "duration": 4,
    "start_time": "2025-01-30T19:01:32.842Z"
   },
   {
    "duration": 272,
    "start_time": "2025-01-30T19:01:36.427Z"
   },
   {
    "duration": 280,
    "start_time": "2025-01-30T19:02:20.507Z"
   },
   {
    "duration": 279,
    "start_time": "2025-01-30T19:02:24.042Z"
   },
   {
    "duration": 30,
    "start_time": "2025-01-30T19:03:53.146Z"
   },
   {
    "duration": 4,
    "start_time": "2025-01-30T19:04:13.108Z"
   },
   {
    "duration": 294,
    "start_time": "2025-01-30T19:04:14.923Z"
   },
   {
    "duration": 274,
    "start_time": "2025-01-30T19:04:41.013Z"
   },
   {
    "duration": 4,
    "start_time": "2025-01-30T19:24:20.585Z"
   },
   {
    "duration": 6,
    "start_time": "2025-01-30T19:24:24.278Z"
   },
   {
    "duration": 0,
    "start_time": "2025-01-30T19:29:28.561Z"
   },
   {
    "duration": 987,
    "start_time": "2025-01-30T19:29:29.228Z"
   },
   {
    "duration": 229,
    "start_time": "2025-01-30T19:29:30.216Z"
   },
   {
    "duration": 18,
    "start_time": "2025-01-30T19:29:30.447Z"
   },
   {
    "duration": 20,
    "start_time": "2025-01-30T19:29:30.467Z"
   },
   {
    "duration": 14,
    "start_time": "2025-01-30T19:29:30.490Z"
   },
   {
    "duration": 10,
    "start_time": "2025-01-30T19:29:30.506Z"
   },
   {
    "duration": 6,
    "start_time": "2025-01-30T19:29:30.517Z"
   },
   {
    "duration": 4,
    "start_time": "2025-01-30T19:29:30.526Z"
   },
   {
    "duration": 64,
    "start_time": "2025-01-30T19:29:30.531Z"
   },
   {
    "duration": 20,
    "start_time": "2025-01-30T19:29:30.596Z"
   },
   {
    "duration": 12,
    "start_time": "2025-01-30T19:29:30.618Z"
   },
   {
    "duration": 1,
    "start_time": "2025-01-30T19:29:30.632Z"
   },
   {
    "duration": 2,
    "start_time": "2025-01-30T19:29:30.635Z"
   },
   {
    "duration": 2,
    "start_time": "2025-01-30T19:29:30.641Z"
   },
   {
    "duration": 62,
    "start_time": "2025-01-30T19:29:30.644Z"
   },
   {
    "duration": 21,
    "start_time": "2025-01-30T19:29:30.707Z"
   },
   {
    "duration": 32,
    "start_time": "2025-01-30T19:29:30.730Z"
   },
   {
    "duration": 38,
    "start_time": "2025-01-30T19:29:30.764Z"
   },
   {
    "duration": 10,
    "start_time": "2025-01-30T19:29:30.803Z"
   },
   {
    "duration": 10,
    "start_time": "2025-01-30T19:29:30.815Z"
   },
   {
    "duration": 9,
    "start_time": "2025-01-30T19:29:30.827Z"
   },
   {
    "duration": 49,
    "start_time": "2025-01-30T19:29:30.838Z"
   },
   {
    "duration": 6,
    "start_time": "2025-01-30T19:29:30.888Z"
   },
   {
    "duration": 6,
    "start_time": "2025-01-30T19:29:30.896Z"
   },
   {
    "duration": 5,
    "start_time": "2025-01-30T19:29:30.904Z"
   },
   {
    "duration": 189,
    "start_time": "2025-01-30T19:29:30.911Z"
   },
   {
    "duration": 90,
    "start_time": "2025-01-30T19:29:31.102Z"
   },
   {
    "duration": 277,
    "start_time": "2025-01-30T19:29:31.194Z"
   },
   {
    "duration": 214,
    "start_time": "2025-01-30T19:29:31.473Z"
   },
   {
    "duration": 17,
    "start_time": "2025-01-30T19:29:31.689Z"
   },
   {
    "duration": 295,
    "start_time": "2025-01-30T19:29:31.708Z"
   },
   {
    "duration": 132,
    "start_time": "2025-01-30T19:29:33.773Z"
   },
   {
    "duration": 91,
    "start_time": "2025-01-30T19:29:33.908Z"
   },
   {
    "duration": 283,
    "start_time": "2025-01-30T19:29:34.003Z"
   },
   {
    "duration": 4,
    "start_time": "2025-01-30T19:29:34.289Z"
   },
   {
    "duration": 6,
    "start_time": "2025-01-30T19:29:34.294Z"
   },
   {
    "duration": 7,
    "start_time": "2025-01-30T19:29:34.301Z"
   },
   {
    "duration": 6,
    "start_time": "2025-01-30T19:29:34.309Z"
   },
   {
    "duration": 2,
    "start_time": "2025-01-30T19:29:34.317Z"
   },
   {
    "duration": 116,
    "start_time": "2025-01-30T19:29:34.322Z"
   },
   {
    "duration": 0,
    "start_time": "2025-01-30T19:29:34.440Z"
   },
   {
    "duration": 0,
    "start_time": "2025-01-30T19:29:34.441Z"
   },
   {
    "duration": 18,
    "start_time": "2025-01-30T19:29:34.460Z"
   },
   {
    "duration": 0,
    "start_time": "2025-01-30T19:29:34.479Z"
   },
   {
    "duration": 19,
    "start_time": "2025-01-30T19:29:34.915Z"
   },
   {
    "duration": 0,
    "start_time": "2025-01-30T19:29:34.935Z"
   },
   {
    "duration": 8,
    "start_time": "2025-01-30T19:29:35.672Z"
   },
   {
    "duration": 5,
    "start_time": "2025-01-30T19:29:35.682Z"
   },
   {
    "duration": 7,
    "start_time": "2025-01-30T19:29:49.690Z"
   },
   {
    "duration": 7,
    "start_time": "2025-01-30T19:32:17.789Z"
   },
   {
    "duration": 100,
    "start_time": "2025-01-30T19:33:05.649Z"
   },
   {
    "duration": 107,
    "start_time": "2025-01-30T19:33:38.015Z"
   },
   {
    "duration": 5,
    "start_time": "2025-01-30T19:34:32.158Z"
   },
   {
    "duration": 607,
    "start_time": "2025-01-30T19:34:36.294Z"
   },
   {
    "duration": 263,
    "start_time": "2025-01-30T19:34:48.095Z"
   },
   {
    "duration": 176,
    "start_time": "2025-01-30T19:35:34.579Z"
   },
   {
    "duration": 174,
    "start_time": "2025-01-30T19:36:02.266Z"
   },
   {
    "duration": 5,
    "start_time": "2025-01-30T19:37:12.557Z"
   },
   {
    "duration": 174,
    "start_time": "2025-01-30T19:37:15.122Z"
   },
   {
    "duration": 98,
    "start_time": "2025-01-30T19:37:19.724Z"
   },
   {
    "duration": 100,
    "start_time": "2025-01-30T19:37:44.020Z"
   },
   {
    "duration": 217,
    "start_time": "2025-01-30T19:38:46.300Z"
   },
   {
    "duration": 106,
    "start_time": "2025-01-30T19:40:47.341Z"
   },
   {
    "duration": 105,
    "start_time": "2025-01-30T19:40:57.108Z"
   },
   {
    "duration": 104,
    "start_time": "2025-01-30T19:41:09.872Z"
   },
   {
    "duration": 101,
    "start_time": "2025-01-30T19:41:19.863Z"
   },
   {
    "duration": 103,
    "start_time": "2025-01-30T19:41:28.134Z"
   },
   {
    "duration": 184,
    "start_time": "2025-01-30T19:41:35.972Z"
   },
   {
    "duration": 106,
    "start_time": "2025-01-30T19:42:29.944Z"
   },
   {
    "duration": 103,
    "start_time": "2025-01-30T19:42:34.411Z"
   },
   {
    "duration": 211,
    "start_time": "2025-01-30T19:42:42.555Z"
   },
   {
    "duration": 101,
    "start_time": "2025-01-30T19:42:52.569Z"
   },
   {
    "duration": 182,
    "start_time": "2025-01-30T19:43:00.695Z"
   },
   {
    "duration": 232,
    "start_time": "2025-01-30T19:44:07.395Z"
   },
   {
    "duration": 25,
    "start_time": "2025-01-30T19:45:27.730Z"
   },
   {
    "duration": 102,
    "start_time": "2025-01-30T19:47:02.415Z"
   },
   {
    "duration": 121,
    "start_time": "2025-01-30T19:47:41.511Z"
   },
   {
    "duration": 104,
    "start_time": "2025-01-30T19:47:51.912Z"
   },
   {
    "duration": 105,
    "start_time": "2025-01-30T19:47:56.898Z"
   },
   {
    "duration": 111,
    "start_time": "2025-01-30T19:48:43.526Z"
   },
   {
    "duration": 105,
    "start_time": "2025-01-30T19:48:51.807Z"
   },
   {
    "duration": 104,
    "start_time": "2025-01-30T19:49:55.723Z"
   },
   {
    "duration": 108,
    "start_time": "2025-01-30T19:50:32.996Z"
   },
   {
    "duration": 105,
    "start_time": "2025-01-30T19:50:51.155Z"
   },
   {
    "duration": 121,
    "start_time": "2025-01-30T19:50:58.062Z"
   },
   {
    "duration": 111,
    "start_time": "2025-01-30T19:53:29.219Z"
   },
   {
    "duration": 106,
    "start_time": "2025-01-30T19:53:33.227Z"
   },
   {
    "duration": 109,
    "start_time": "2025-01-30T19:53:47.168Z"
   },
   {
    "duration": 104,
    "start_time": "2025-01-30T19:55:39.557Z"
   },
   {
    "duration": 104,
    "start_time": "2025-01-30T19:56:08.628Z"
   },
   {
    "duration": 107,
    "start_time": "2025-01-30T19:56:40.079Z"
   },
   {
    "duration": 105,
    "start_time": "2025-01-30T19:57:49.666Z"
   },
   {
    "duration": 105,
    "start_time": "2025-01-30T19:58:50.763Z"
   },
   {
    "duration": 103,
    "start_time": "2025-01-30T20:00:40.266Z"
   },
   {
    "duration": 109,
    "start_time": "2025-01-30T20:00:53.556Z"
   },
   {
    "duration": 239,
    "start_time": "2025-01-30T20:04:36.673Z"
   },
   {
    "duration": 99,
    "start_time": "2025-01-30T20:04:50.615Z"
   },
   {
    "duration": 100,
    "start_time": "2025-01-30T20:05:30.900Z"
   },
   {
    "duration": 118,
    "start_time": "2025-01-30T20:06:35.349Z"
   },
   {
    "duration": 106,
    "start_time": "2025-01-30T20:08:42.681Z"
   },
   {
    "duration": 102,
    "start_time": "2025-01-30T20:09:09.559Z"
   },
   {
    "duration": 1024,
    "start_time": "2025-01-30T20:09:15.388Z"
   },
   {
    "duration": 221,
    "start_time": "2025-01-30T20:09:16.414Z"
   },
   {
    "duration": 18,
    "start_time": "2025-01-30T20:09:16.636Z"
   },
   {
    "duration": 15,
    "start_time": "2025-01-30T20:09:16.656Z"
   },
   {
    "duration": 14,
    "start_time": "2025-01-30T20:09:16.687Z"
   },
   {
    "duration": 10,
    "start_time": "2025-01-30T20:09:16.703Z"
   },
   {
    "duration": 5,
    "start_time": "2025-01-30T20:09:16.714Z"
   },
   {
    "duration": 4,
    "start_time": "2025-01-30T20:09:16.721Z"
   },
   {
    "duration": 31,
    "start_time": "2025-01-30T20:09:16.727Z"
   },
   {
    "duration": 21,
    "start_time": "2025-01-30T20:09:16.788Z"
   },
   {
    "duration": 12,
    "start_time": "2025-01-30T20:09:16.810Z"
   },
   {
    "duration": 2,
    "start_time": "2025-01-30T20:09:16.824Z"
   },
   {
    "duration": 2,
    "start_time": "2025-01-30T20:09:16.829Z"
   },
   {
    "duration": 2,
    "start_time": "2025-01-30T20:09:16.834Z"
   },
   {
    "duration": 65,
    "start_time": "2025-01-30T20:09:16.837Z"
   },
   {
    "duration": 20,
    "start_time": "2025-01-30T20:09:16.905Z"
   },
   {
    "duration": 33,
    "start_time": "2025-01-30T20:09:16.928Z"
   },
   {
    "duration": 39,
    "start_time": "2025-01-30T20:09:16.963Z"
   },
   {
    "duration": 10,
    "start_time": "2025-01-30T20:09:17.004Z"
   },
   {
    "duration": 12,
    "start_time": "2025-01-30T20:09:17.016Z"
   },
   {
    "duration": 10,
    "start_time": "2025-01-30T20:09:17.029Z"
   },
   {
    "duration": 50,
    "start_time": "2025-01-30T20:09:17.041Z"
   },
   {
    "duration": 5,
    "start_time": "2025-01-30T20:09:17.092Z"
   },
   {
    "duration": 6,
    "start_time": "2025-01-30T20:09:17.099Z"
   },
   {
    "duration": 5,
    "start_time": "2025-01-30T20:09:17.107Z"
   },
   {
    "duration": 187,
    "start_time": "2025-01-30T20:09:17.114Z"
   },
   {
    "duration": 98,
    "start_time": "2025-01-30T20:09:17.305Z"
   },
   {
    "duration": 296,
    "start_time": "2025-01-30T20:09:17.408Z"
   },
   {
    "duration": 188,
    "start_time": "2025-01-30T20:09:17.706Z"
   },
   {
    "duration": 91,
    "start_time": "2025-01-30T20:09:17.896Z"
   },
   {
    "duration": 249,
    "start_time": "2025-01-30T20:09:17.992Z"
   },
   {
    "duration": 156,
    "start_time": "2025-01-30T20:09:18.243Z"
   },
   {
    "duration": 91,
    "start_time": "2025-01-30T20:09:18.401Z"
   },
   {
    "duration": 258,
    "start_time": "2025-01-30T20:09:18.494Z"
   },
   {
    "duration": 4,
    "start_time": "2025-01-30T20:09:18.754Z"
   },
   {
    "duration": 119,
    "start_time": "2025-01-30T20:09:18.759Z"
   },
   {
    "duration": 116,
    "start_time": "2025-01-30T20:09:18.880Z"
   },
   {
    "duration": 126,
    "start_time": "2025-01-30T20:09:18.998Z"
   },
   {
    "duration": 3,
    "start_time": "2025-01-30T20:09:19.125Z"
   },
   {
    "duration": 305,
    "start_time": "2025-01-30T20:09:19.130Z"
   },
   {
    "duration": 0,
    "start_time": "2025-01-30T20:09:19.437Z"
   },
   {
    "duration": 0,
    "start_time": "2025-01-30T20:09:19.440Z"
   },
   {
    "duration": 0,
    "start_time": "2025-01-30T20:09:19.441Z"
   },
   {
    "duration": 0,
    "start_time": "2025-01-30T20:09:19.442Z"
   },
   {
    "duration": 0,
    "start_time": "2025-01-30T20:09:19.443Z"
   },
   {
    "duration": 0,
    "start_time": "2025-01-30T20:09:19.444Z"
   },
   {
    "duration": 0,
    "start_time": "2025-01-30T20:09:19.445Z"
   },
   {
    "duration": 0,
    "start_time": "2025-01-30T20:09:19.446Z"
   },
   {
    "duration": 5,
    "start_time": "2025-01-30T20:09:36.655Z"
   },
   {
    "duration": 290,
    "start_time": "2025-01-30T20:09:40.385Z"
   },
   {
    "duration": 4,
    "start_time": "2025-01-30T20:09:45.692Z"
   },
   {
    "duration": 291,
    "start_time": "2025-01-30T20:09:46.992Z"
   },
   {
    "duration": 4,
    "start_time": "2025-01-30T20:09:56.510Z"
   },
   {
    "duration": 294,
    "start_time": "2025-01-30T20:09:57.872Z"
   },
   {
    "duration": 994,
    "start_time": "2025-01-30T20:10:03.623Z"
   },
   {
    "duration": 225,
    "start_time": "2025-01-30T20:10:04.619Z"
   },
   {
    "duration": 18,
    "start_time": "2025-01-30T20:10:04.846Z"
   },
   {
    "duration": 23,
    "start_time": "2025-01-30T20:10:04.866Z"
   },
   {
    "duration": 14,
    "start_time": "2025-01-30T20:10:04.891Z"
   },
   {
    "duration": 10,
    "start_time": "2025-01-30T20:10:04.907Z"
   },
   {
    "duration": 5,
    "start_time": "2025-01-30T20:10:04.918Z"
   },
   {
    "duration": 4,
    "start_time": "2025-01-30T20:10:04.925Z"
   },
   {
    "duration": 64,
    "start_time": "2025-01-30T20:10:04.931Z"
   },
   {
    "duration": 21,
    "start_time": "2025-01-30T20:10:04.999Z"
   },
   {
    "duration": 13,
    "start_time": "2025-01-30T20:10:05.021Z"
   },
   {
    "duration": 2,
    "start_time": "2025-01-30T20:10:05.036Z"
   },
   {
    "duration": 3,
    "start_time": "2025-01-30T20:10:05.039Z"
   },
   {
    "duration": 2,
    "start_time": "2025-01-30T20:10:05.044Z"
   },
   {
    "duration": 62,
    "start_time": "2025-01-30T20:10:05.048Z"
   },
   {
    "duration": 19,
    "start_time": "2025-01-30T20:10:05.112Z"
   },
   {
    "duration": 33,
    "start_time": "2025-01-30T20:10:05.133Z"
   },
   {
    "duration": 38,
    "start_time": "2025-01-30T20:10:05.168Z"
   },
   {
    "duration": 10,
    "start_time": "2025-01-30T20:10:05.207Z"
   },
   {
    "duration": 10,
    "start_time": "2025-01-30T20:10:05.219Z"
   },
   {
    "duration": 9,
    "start_time": "2025-01-30T20:10:05.231Z"
   },
   {
    "duration": 53,
    "start_time": "2025-01-30T20:10:05.242Z"
   },
   {
    "duration": 5,
    "start_time": "2025-01-30T20:10:05.296Z"
   },
   {
    "duration": 5,
    "start_time": "2025-01-30T20:10:05.303Z"
   },
   {
    "duration": 5,
    "start_time": "2025-01-30T20:10:05.310Z"
   },
   {
    "duration": 182,
    "start_time": "2025-01-30T20:10:05.317Z"
   },
   {
    "duration": 91,
    "start_time": "2025-01-30T20:10:05.501Z"
   },
   {
    "duration": 281,
    "start_time": "2025-01-30T20:10:05.597Z"
   },
   {
    "duration": 111,
    "start_time": "2025-01-30T20:10:05.880Z"
   },
   {
    "duration": 16,
    "start_time": "2025-01-30T20:10:05.993Z"
   },
   {
    "duration": 286,
    "start_time": "2025-01-30T20:10:06.012Z"
   },
   {
    "duration": 189,
    "start_time": "2025-01-30T20:10:06.300Z"
   },
   {
    "duration": 18,
    "start_time": "2025-01-30T20:10:06.490Z"
   },
   {
    "duration": 307,
    "start_time": "2025-01-30T20:10:06.510Z"
   },
   {
    "duration": 3,
    "start_time": "2025-01-30T20:10:06.819Z"
   },
   {
    "duration": 132,
    "start_time": "2025-01-30T20:10:06.824Z"
   },
   {
    "duration": 116,
    "start_time": "2025-01-30T20:10:06.957Z"
   },
   {
    "duration": 114,
    "start_time": "2025-01-30T20:10:07.074Z"
   },
   {
    "duration": 2,
    "start_time": "2025-01-30T20:10:07.190Z"
   },
   {
    "duration": 4,
    "start_time": "2025-01-30T20:10:07.194Z"
   },
   {
    "duration": 300,
    "start_time": "2025-01-30T20:10:07.200Z"
   },
   {
    "duration": 4,
    "start_time": "2025-01-30T20:10:07.502Z"
   },
   {
    "duration": 291,
    "start_time": "2025-01-30T20:10:07.508Z"
   },
   {
    "duration": 4,
    "start_time": "2025-01-30T20:10:07.800Z"
   },
   {
    "duration": 308,
    "start_time": "2025-01-30T20:10:07.806Z"
   },
   {
    "duration": 7,
    "start_time": "2025-01-30T20:10:08.116Z"
   },
   {
    "duration": 10,
    "start_time": "2025-01-30T20:10:08.125Z"
   },
   {
    "duration": 6,
    "start_time": "2025-01-30T20:10:08.137Z"
   },
   {
    "duration": 181,
    "start_time": "2025-01-30T23:45:50.775Z"
   },
   {
    "duration": 2794,
    "start_time": "2025-01-30T23:45:58.502Z"
   },
   {
    "duration": 353,
    "start_time": "2025-01-30T23:46:01.298Z"
   },
   {
    "duration": 22,
    "start_time": "2025-01-30T23:46:01.655Z"
   },
   {
    "duration": 15,
    "start_time": "2025-01-30T23:46:01.686Z"
   },
   {
    "duration": 17,
    "start_time": "2025-01-30T23:46:01.704Z"
   },
   {
    "duration": 14,
    "start_time": "2025-01-30T23:46:01.722Z"
   },
   {
    "duration": 7,
    "start_time": "2025-01-30T23:46:01.738Z"
   },
   {
    "duration": 9,
    "start_time": "2025-01-30T23:46:01.747Z"
   },
   {
    "duration": 60,
    "start_time": "2025-01-30T23:46:01.758Z"
   },
   {
    "duration": 22,
    "start_time": "2025-01-30T23:46:01.820Z"
   },
   {
    "duration": 12,
    "start_time": "2025-01-30T23:46:01.844Z"
   },
   {
    "duration": 53,
    "start_time": "2025-01-30T23:46:01.858Z"
   },
   {
    "duration": 2,
    "start_time": "2025-01-30T23:46:01.914Z"
   },
   {
    "duration": 2,
    "start_time": "2025-01-30T23:46:01.920Z"
   },
   {
    "duration": 29,
    "start_time": "2025-01-30T23:46:01.923Z"
   },
   {
    "duration": 42,
    "start_time": "2025-01-30T23:46:01.954Z"
   },
   {
    "duration": 31,
    "start_time": "2025-01-30T23:46:01.998Z"
   },
   {
    "duration": 21,
    "start_time": "2025-01-30T23:46:02.031Z"
   },
   {
    "duration": 34,
    "start_time": "2025-01-30T23:46:02.054Z"
   },
   {
    "duration": 10,
    "start_time": "2025-01-30T23:46:02.090Z"
   },
   {
    "duration": 11,
    "start_time": "2025-01-30T23:46:02.103Z"
   },
   {
    "duration": 24,
    "start_time": "2025-01-30T23:46:02.115Z"
   },
   {
    "duration": 5,
    "start_time": "2025-01-30T23:46:02.141Z"
   },
   {
    "duration": 5,
    "start_time": "2025-01-30T23:46:02.148Z"
   },
   {
    "duration": 7,
    "start_time": "2025-01-30T23:46:02.186Z"
   },
   {
    "duration": 301,
    "start_time": "2025-01-30T23:46:02.195Z"
   },
   {
    "duration": 100,
    "start_time": "2025-01-30T23:46:02.498Z"
   },
   {
    "duration": 290,
    "start_time": "2025-01-30T23:46:02.600Z"
   },
   {
    "duration": 119,
    "start_time": "2025-01-30T23:46:02.891Z"
   },
   {
    "duration": 88,
    "start_time": "2025-01-30T23:46:03.012Z"
   },
   {
    "duration": 286,
    "start_time": "2025-01-30T23:46:03.103Z"
   },
   {
    "duration": 119,
    "start_time": "2025-01-30T23:46:03.391Z"
   },
   {
    "duration": 95,
    "start_time": "2025-01-30T23:46:03.513Z"
   },
   {
    "duration": 648,
    "start_time": "2025-01-30T23:46:03.613Z"
   },
   {
    "duration": 0,
    "start_time": "2025-01-30T23:46:04.263Z"
   },
   {
    "duration": 0,
    "start_time": "2025-01-30T23:46:04.265Z"
   },
   {
    "duration": 0,
    "start_time": "2025-01-30T23:46:04.266Z"
   },
   {
    "duration": 0,
    "start_time": "2025-01-30T23:46:04.267Z"
   },
   {
    "duration": 0,
    "start_time": "2025-01-30T23:46:04.268Z"
   },
   {
    "duration": 0,
    "start_time": "2025-01-30T23:46:04.269Z"
   },
   {
    "duration": 0,
    "start_time": "2025-01-30T23:46:04.270Z"
   },
   {
    "duration": 0,
    "start_time": "2025-01-30T23:46:04.271Z"
   },
   {
    "duration": 0,
    "start_time": "2025-01-30T23:46:04.272Z"
   },
   {
    "duration": 0,
    "start_time": "2025-01-30T23:46:04.273Z"
   },
   {
    "duration": 0,
    "start_time": "2025-01-30T23:46:04.286Z"
   },
   {
    "duration": 0,
    "start_time": "2025-01-30T23:46:04.288Z"
   },
   {
    "duration": 0,
    "start_time": "2025-01-30T23:46:04.288Z"
   },
   {
    "duration": 0,
    "start_time": "2025-01-30T23:46:04.290Z"
   },
   {
    "duration": 215,
    "start_time": "2025-01-30T23:49:54.311Z"
   },
   {
    "duration": 1137,
    "start_time": "2025-01-30T23:50:02.989Z"
   },
   {
    "duration": 246,
    "start_time": "2025-01-30T23:50:04.129Z"
   },
   {
    "duration": 18,
    "start_time": "2025-01-30T23:50:04.377Z"
   },
   {
    "duration": 16,
    "start_time": "2025-01-30T23:50:04.397Z"
   },
   {
    "duration": 18,
    "start_time": "2025-01-30T23:50:04.416Z"
   },
   {
    "duration": 11,
    "start_time": "2025-01-30T23:50:04.436Z"
   },
   {
    "duration": 39,
    "start_time": "2025-01-30T23:50:04.449Z"
   },
   {
    "duration": 6,
    "start_time": "2025-01-30T23:50:04.489Z"
   },
   {
    "duration": 40,
    "start_time": "2025-01-30T23:50:04.496Z"
   },
   {
    "duration": 27,
    "start_time": "2025-01-30T23:50:04.538Z"
   },
   {
    "duration": 30,
    "start_time": "2025-01-30T23:50:04.567Z"
   },
   {
    "duration": 37,
    "start_time": "2025-01-30T23:50:04.599Z"
   },
   {
    "duration": 2,
    "start_time": "2025-01-30T23:50:04.637Z"
   },
   {
    "duration": 2,
    "start_time": "2025-01-30T23:50:04.644Z"
   },
   {
    "duration": 57,
    "start_time": "2025-01-30T23:50:04.648Z"
   },
   {
    "duration": 23,
    "start_time": "2025-01-30T23:50:04.708Z"
   },
   {
    "duration": 33,
    "start_time": "2025-01-30T23:50:04.733Z"
   },
   {
    "duration": 42,
    "start_time": "2025-01-30T23:50:04.767Z"
   },
   {
    "duration": 11,
    "start_time": "2025-01-30T23:50:04.810Z"
   },
   {
    "duration": 11,
    "start_time": "2025-01-30T23:50:04.823Z"
   },
   {
    "duration": 11,
    "start_time": "2025-01-30T23:50:04.836Z"
   },
   {
    "duration": 50,
    "start_time": "2025-01-30T23:50:04.849Z"
   },
   {
    "duration": 6,
    "start_time": "2025-01-30T23:50:04.902Z"
   },
   {
    "duration": 6,
    "start_time": "2025-01-30T23:50:04.911Z"
   },
   {
    "duration": 5,
    "start_time": "2025-01-30T23:50:04.919Z"
   },
   {
    "duration": 285,
    "start_time": "2025-01-30T23:50:04.926Z"
   },
   {
    "duration": 96,
    "start_time": "2025-01-30T23:50:05.214Z"
   },
   {
    "duration": 297,
    "start_time": "2025-01-30T23:50:05.312Z"
   },
   {
    "duration": 201,
    "start_time": "2025-01-30T23:50:05.611Z"
   },
   {
    "duration": 94,
    "start_time": "2025-01-30T23:50:05.814Z"
   },
   {
    "duration": 272,
    "start_time": "2025-01-30T23:50:05.910Z"
   },
   {
    "duration": 118,
    "start_time": "2025-01-30T23:50:06.186Z"
   },
   {
    "duration": 81,
    "start_time": "2025-01-30T23:50:06.306Z"
   },
   {
    "duration": 515,
    "start_time": "2025-01-30T23:50:06.390Z"
   },
   {
    "duration": 0,
    "start_time": "2025-01-30T23:50:06.907Z"
   },
   {
    "duration": 0,
    "start_time": "2025-01-30T23:50:06.909Z"
   },
   {
    "duration": 0,
    "start_time": "2025-01-30T23:50:06.910Z"
   },
   {
    "duration": 0,
    "start_time": "2025-01-30T23:50:06.911Z"
   },
   {
    "duration": 0,
    "start_time": "2025-01-30T23:50:06.912Z"
   },
   {
    "duration": 0,
    "start_time": "2025-01-30T23:50:06.913Z"
   },
   {
    "duration": 0,
    "start_time": "2025-01-30T23:50:06.914Z"
   },
   {
    "duration": 0,
    "start_time": "2025-01-30T23:50:06.915Z"
   },
   {
    "duration": 0,
    "start_time": "2025-01-30T23:50:06.916Z"
   },
   {
    "duration": 0,
    "start_time": "2025-01-30T23:50:06.917Z"
   },
   {
    "duration": 0,
    "start_time": "2025-01-30T23:50:06.920Z"
   },
   {
    "duration": 0,
    "start_time": "2025-01-30T23:50:06.920Z"
   },
   {
    "duration": 0,
    "start_time": "2025-01-30T23:50:06.922Z"
   },
   {
    "duration": 0,
    "start_time": "2025-01-30T23:50:06.922Z"
   },
   {
    "duration": 10,
    "start_time": "2025-01-30T23:51:33.598Z"
   },
   {
    "duration": 13,
    "start_time": "2025-01-30T23:51:44.374Z"
   },
   {
    "duration": 217,
    "start_time": "2025-01-31T00:00:18.471Z"
   },
   {
    "duration": 239,
    "start_time": "2025-01-31T00:01:52.627Z"
   },
   {
    "duration": 14,
    "start_time": "2025-01-31T00:10:01.175Z"
   },
   {
    "duration": 14,
    "start_time": "2025-01-31T00:10:15.307Z"
   },
   {
    "duration": 15,
    "start_time": "2025-01-31T00:10:41.281Z"
   },
   {
    "duration": 16,
    "start_time": "2025-01-31T00:29:09.276Z"
   },
   {
    "duration": 14,
    "start_time": "2025-01-31T00:29:28.907Z"
   },
   {
    "duration": 17,
    "start_time": "2025-01-31T00:29:37.609Z"
   },
   {
    "duration": 14,
    "start_time": "2025-01-31T00:30:09.330Z"
   },
   {
    "duration": 16,
    "start_time": "2025-01-31T00:36:19.823Z"
   },
   {
    "duration": 5,
    "start_time": "2025-01-31T00:45:48.306Z"
   },
   {
    "duration": 14,
    "start_time": "2025-01-31T00:45:53.009Z"
   },
   {
    "duration": 13,
    "start_time": "2025-01-31T00:45:58.442Z"
   },
   {
    "duration": 442,
    "start_time": "2025-01-31T00:46:02.885Z"
   },
   {
    "duration": 1034,
    "start_time": "2025-01-31T00:46:57.110Z"
   },
   {
    "duration": 229,
    "start_time": "2025-01-31T00:46:58.147Z"
   },
   {
    "duration": 19,
    "start_time": "2025-01-31T00:46:58.381Z"
   },
   {
    "duration": 14,
    "start_time": "2025-01-31T00:46:58.403Z"
   },
   {
    "duration": 14,
    "start_time": "2025-01-31T00:46:58.418Z"
   },
   {
    "duration": 9,
    "start_time": "2025-01-31T00:46:58.434Z"
   },
   {
    "duration": 5,
    "start_time": "2025-01-31T00:46:58.445Z"
   },
   {
    "duration": 37,
    "start_time": "2025-01-31T00:46:58.452Z"
   },
   {
    "duration": 32,
    "start_time": "2025-01-31T00:46:58.491Z"
   },
   {
    "duration": 21,
    "start_time": "2025-01-31T00:46:58.524Z"
   },
   {
    "duration": 40,
    "start_time": "2025-01-31T00:46:58.547Z"
   },
   {
    "duration": 26,
    "start_time": "2025-01-31T00:46:58.588Z"
   },
   {
    "duration": 638,
    "start_time": "2025-01-31T00:46:58.618Z"
   },
   {
    "duration": 0,
    "start_time": "2025-01-31T00:46:59.258Z"
   },
   {
    "duration": 0,
    "start_time": "2025-01-31T00:46:59.259Z"
   },
   {
    "duration": 0,
    "start_time": "2025-01-31T00:46:59.261Z"
   },
   {
    "duration": 0,
    "start_time": "2025-01-31T00:46:59.263Z"
   },
   {
    "duration": 0,
    "start_time": "2025-01-31T00:46:59.264Z"
   },
   {
    "duration": 0,
    "start_time": "2025-01-31T00:46:59.265Z"
   },
   {
    "duration": 0,
    "start_time": "2025-01-31T00:46:59.267Z"
   },
   {
    "duration": 0,
    "start_time": "2025-01-31T00:46:59.268Z"
   },
   {
    "duration": 0,
    "start_time": "2025-01-31T00:46:59.269Z"
   },
   {
    "duration": 0,
    "start_time": "2025-01-31T00:46:59.270Z"
   },
   {
    "duration": 0,
    "start_time": "2025-01-31T00:46:59.271Z"
   },
   {
    "duration": 0,
    "start_time": "2025-01-31T00:46:59.271Z"
   },
   {
    "duration": 0,
    "start_time": "2025-01-31T00:46:59.271Z"
   },
   {
    "duration": 0,
    "start_time": "2025-01-31T00:46:59.272Z"
   },
   {
    "duration": 0,
    "start_time": "2025-01-31T00:46:59.272Z"
   },
   {
    "duration": 0,
    "start_time": "2025-01-31T00:46:59.273Z"
   },
   {
    "duration": 0,
    "start_time": "2025-01-31T00:46:59.286Z"
   },
   {
    "duration": 0,
    "start_time": "2025-01-31T00:46:59.288Z"
   },
   {
    "duration": 0,
    "start_time": "2025-01-31T00:46:59.289Z"
   },
   {
    "duration": 0,
    "start_time": "2025-01-31T00:46:59.290Z"
   },
   {
    "duration": 0,
    "start_time": "2025-01-31T00:46:59.292Z"
   },
   {
    "duration": 0,
    "start_time": "2025-01-31T00:46:59.293Z"
   },
   {
    "duration": 0,
    "start_time": "2025-01-31T00:46:59.295Z"
   },
   {
    "duration": 1,
    "start_time": "2025-01-31T00:46:59.296Z"
   },
   {
    "duration": 0,
    "start_time": "2025-01-31T00:46:59.298Z"
   },
   {
    "duration": 0,
    "start_time": "2025-01-31T00:46:59.299Z"
   },
   {
    "duration": 0,
    "start_time": "2025-01-31T00:46:59.300Z"
   },
   {
    "duration": 0,
    "start_time": "2025-01-31T00:46:59.301Z"
   },
   {
    "duration": 0,
    "start_time": "2025-01-31T00:46:59.303Z"
   },
   {
    "duration": 0,
    "start_time": "2025-01-31T00:46:59.304Z"
   },
   {
    "duration": 0,
    "start_time": "2025-01-31T00:46:59.305Z"
   },
   {
    "duration": 0,
    "start_time": "2025-01-31T00:46:59.306Z"
   },
   {
    "duration": 0,
    "start_time": "2025-01-31T00:46:59.307Z"
   },
   {
    "duration": 0,
    "start_time": "2025-01-31T00:46:59.309Z"
   },
   {
    "duration": 0,
    "start_time": "2025-01-31T00:46:59.310Z"
   },
   {
    "duration": 0,
    "start_time": "2025-01-31T00:46:59.312Z"
   },
   {
    "duration": 63,
    "start_time": "2025-01-31T00:53:26.713Z"
   },
   {
    "duration": 3,
    "start_time": "2025-01-31T00:55:33.781Z"
   },
   {
    "duration": 13,
    "start_time": "2025-01-31T00:55:38.916Z"
   },
   {
    "duration": 6,
    "start_time": "2025-01-31T00:55:46.190Z"
   },
   {
    "duration": 7,
    "start_time": "2025-01-31T00:55:53.449Z"
   },
   {
    "duration": 13,
    "start_time": "2025-01-31T00:56:54.929Z"
   },
   {
    "duration": 35,
    "start_time": "2025-01-31T00:56:58.843Z"
   },
   {
    "duration": 1022,
    "start_time": "2025-01-31T01:07:45.403Z"
   },
   {
    "duration": 222,
    "start_time": "2025-01-31T01:07:46.427Z"
   },
   {
    "duration": 19,
    "start_time": "2025-01-31T01:07:46.651Z"
   },
   {
    "duration": 24,
    "start_time": "2025-01-31T01:07:46.672Z"
   },
   {
    "duration": 15,
    "start_time": "2025-01-31T01:07:46.698Z"
   },
   {
    "duration": 11,
    "start_time": "2025-01-31T01:07:46.714Z"
   },
   {
    "duration": 5,
    "start_time": "2025-01-31T01:07:46.726Z"
   },
   {
    "duration": 4,
    "start_time": "2025-01-31T01:07:46.733Z"
   },
   {
    "duration": 60,
    "start_time": "2025-01-31T01:07:46.738Z"
   },
   {
    "duration": 20,
    "start_time": "2025-01-31T01:07:46.799Z"
   },
   {
    "duration": 13,
    "start_time": "2025-01-31T01:07:46.821Z"
   },
   {
    "duration": 52,
    "start_time": "2025-01-31T01:07:46.836Z"
   },
   {
    "duration": 158,
    "start_time": "2025-01-31T01:07:46.891Z"
   },
   {
    "duration": 0,
    "start_time": "2025-01-31T01:07:47.052Z"
   },
   {
    "duration": 0,
    "start_time": "2025-01-31T01:07:47.053Z"
   },
   {
    "duration": 0,
    "start_time": "2025-01-31T01:07:47.055Z"
   },
   {
    "duration": 0,
    "start_time": "2025-01-31T01:07:47.056Z"
   },
   {
    "duration": 0,
    "start_time": "2025-01-31T01:07:47.058Z"
   },
   {
    "duration": 0,
    "start_time": "2025-01-31T01:07:47.059Z"
   },
   {
    "duration": 1,
    "start_time": "2025-01-31T01:07:47.060Z"
   },
   {
    "duration": 0,
    "start_time": "2025-01-31T01:07:47.062Z"
   },
   {
    "duration": 0,
    "start_time": "2025-01-31T01:07:47.063Z"
   },
   {
    "duration": 0,
    "start_time": "2025-01-31T01:07:47.064Z"
   },
   {
    "duration": 0,
    "start_time": "2025-01-31T01:07:47.066Z"
   },
   {
    "duration": 0,
    "start_time": "2025-01-31T01:07:47.066Z"
   },
   {
    "duration": 0,
    "start_time": "2025-01-31T01:07:47.086Z"
   },
   {
    "duration": 0,
    "start_time": "2025-01-31T01:07:47.088Z"
   },
   {
    "duration": 0,
    "start_time": "2025-01-31T01:07:47.088Z"
   },
   {
    "duration": 0,
    "start_time": "2025-01-31T01:07:47.091Z"
   },
   {
    "duration": 0,
    "start_time": "2025-01-31T01:07:47.093Z"
   },
   {
    "duration": 0,
    "start_time": "2025-01-31T01:07:47.095Z"
   },
   {
    "duration": 0,
    "start_time": "2025-01-31T01:07:47.096Z"
   },
   {
    "duration": 0,
    "start_time": "2025-01-31T01:07:47.098Z"
   },
   {
    "duration": 0,
    "start_time": "2025-01-31T01:07:47.099Z"
   },
   {
    "duration": 0,
    "start_time": "2025-01-31T01:07:47.101Z"
   },
   {
    "duration": 0,
    "start_time": "2025-01-31T01:07:47.103Z"
   },
   {
    "duration": 0,
    "start_time": "2025-01-31T01:07:47.105Z"
   },
   {
    "duration": 0,
    "start_time": "2025-01-31T01:07:47.106Z"
   },
   {
    "duration": 0,
    "start_time": "2025-01-31T01:07:47.108Z"
   },
   {
    "duration": 0,
    "start_time": "2025-01-31T01:07:47.109Z"
   },
   {
    "duration": 0,
    "start_time": "2025-01-31T01:07:47.110Z"
   },
   {
    "duration": 0,
    "start_time": "2025-01-31T01:07:47.112Z"
   },
   {
    "duration": 0,
    "start_time": "2025-01-31T01:07:47.113Z"
   },
   {
    "duration": 0,
    "start_time": "2025-01-31T01:07:47.114Z"
   },
   {
    "duration": 0,
    "start_time": "2025-01-31T01:07:47.116Z"
   },
   {
    "duration": 0,
    "start_time": "2025-01-31T01:07:47.117Z"
   },
   {
    "duration": 0,
    "start_time": "2025-01-31T01:07:47.120Z"
   },
   {
    "duration": 24,
    "start_time": "2025-01-31T01:08:34.838Z"
   },
   {
    "duration": 30,
    "start_time": "2025-01-31T01:08:43.060Z"
   },
   {
    "duration": 34,
    "start_time": "2025-01-31T01:09:25.315Z"
   },
   {
    "duration": 12,
    "start_time": "2025-01-31T01:12:18.362Z"
   },
   {
    "duration": 988,
    "start_time": "2025-01-31T01:13:03.066Z"
   },
   {
    "duration": 225,
    "start_time": "2025-01-31T01:13:04.056Z"
   },
   {
    "duration": 19,
    "start_time": "2025-01-31T01:13:04.283Z"
   },
   {
    "duration": 16,
    "start_time": "2025-01-31T01:13:04.305Z"
   },
   {
    "duration": 16,
    "start_time": "2025-01-31T01:13:04.323Z"
   },
   {
    "duration": 10,
    "start_time": "2025-01-31T01:13:04.341Z"
   },
   {
    "duration": 34,
    "start_time": "2025-01-31T01:13:04.353Z"
   },
   {
    "duration": 4,
    "start_time": "2025-01-31T01:13:04.389Z"
   },
   {
    "duration": 32,
    "start_time": "2025-01-31T01:13:04.394Z"
   },
   {
    "duration": 20,
    "start_time": "2025-01-31T01:13:04.429Z"
   },
   {
    "duration": 39,
    "start_time": "2025-01-31T01:13:04.451Z"
   },
   {
    "duration": 27,
    "start_time": "2025-01-31T01:13:04.491Z"
   },
   {
    "duration": 14,
    "start_time": "2025-01-31T01:13:04.520Z"
   },
   {
    "duration": 29,
    "start_time": "2025-01-31T01:13:04.535Z"
   },
   {
    "duration": 21,
    "start_time": "2025-01-31T01:13:04.586Z"
   },
   {
    "duration": 31,
    "start_time": "2025-01-31T01:13:04.609Z"
   },
   {
    "duration": 21,
    "start_time": "2025-01-31T01:13:04.642Z"
   },
   {
    "duration": 28,
    "start_time": "2025-01-31T01:13:04.665Z"
   },
   {
    "duration": 9,
    "start_time": "2025-01-31T01:13:04.695Z"
   },
   {
    "duration": 11,
    "start_time": "2025-01-31T01:13:04.706Z"
   },
   {
    "duration": 20,
    "start_time": "2025-01-31T01:13:04.718Z"
   },
   {
    "duration": 5,
    "start_time": "2025-01-31T01:13:04.740Z"
   },
   {
    "duration": 40,
    "start_time": "2025-01-31T01:13:04.747Z"
   },
   {
    "duration": 5,
    "start_time": "2025-01-31T01:13:04.789Z"
   },
   {
    "duration": 193,
    "start_time": "2025-01-31T01:13:04.796Z"
   },
   {
    "duration": 17,
    "start_time": "2025-01-31T01:13:04.991Z"
   },
   {
    "duration": 248,
    "start_time": "2025-01-31T01:13:05.086Z"
   },
   {
    "duration": 162,
    "start_time": "2025-01-31T01:13:05.339Z"
   },
   {
    "duration": 89,
    "start_time": "2025-01-31T01:13:05.503Z"
   },
   {
    "duration": 253,
    "start_time": "2025-01-31T01:13:05.595Z"
   },
   {
    "duration": 155,
    "start_time": "2025-01-31T01:13:05.850Z"
   },
   {
    "duration": 93,
    "start_time": "2025-01-31T01:13:06.007Z"
   },
   {
    "duration": 290,
    "start_time": "2025-01-31T01:13:06.104Z"
   },
   {
    "duration": 4,
    "start_time": "2025-01-31T01:13:06.397Z"
   },
   {
    "duration": 130,
    "start_time": "2025-01-31T01:13:06.404Z"
   },
   {
    "duration": 118,
    "start_time": "2025-01-31T01:13:06.536Z"
   },
   {
    "duration": 117,
    "start_time": "2025-01-31T01:13:06.656Z"
   },
   {
    "duration": 12,
    "start_time": "2025-01-31T01:13:06.775Z"
   },
   {
    "duration": 4,
    "start_time": "2025-01-31T01:13:06.789Z"
   },
   {
    "duration": 302,
    "start_time": "2025-01-31T01:13:06.795Z"
   },
   {
    "duration": 6,
    "start_time": "2025-01-31T01:13:07.099Z"
   },
   {
    "duration": 293,
    "start_time": "2025-01-31T01:13:07.107Z"
   },
   {
    "duration": 4,
    "start_time": "2025-01-31T01:13:07.402Z"
   },
   {
    "duration": 304,
    "start_time": "2025-01-31T01:13:07.407Z"
   },
   {
    "duration": 4,
    "start_time": "2025-01-31T01:13:07.713Z"
   },
   {
    "duration": 7,
    "start_time": "2025-01-31T01:13:07.719Z"
   },
   {
    "duration": 5,
    "start_time": "2025-01-31T01:13:07.727Z"
   },
   {
    "duration": 981,
    "start_time": "2025-01-31T01:14:56.150Z"
   },
   {
    "duration": 220,
    "start_time": "2025-01-31T01:14:57.133Z"
   },
   {
    "duration": 18,
    "start_time": "2025-01-31T01:14:57.355Z"
   },
   {
    "duration": 24,
    "start_time": "2025-01-31T01:14:57.376Z"
   },
   {
    "duration": 15,
    "start_time": "2025-01-31T01:14:57.401Z"
   },
   {
    "duration": 10,
    "start_time": "2025-01-31T01:14:57.417Z"
   },
   {
    "duration": 5,
    "start_time": "2025-01-31T01:14:57.429Z"
   },
   {
    "duration": 4,
    "start_time": "2025-01-31T01:14:57.436Z"
   },
   {
    "duration": 64,
    "start_time": "2025-01-31T01:14:57.442Z"
   },
   {
    "duration": 20,
    "start_time": "2025-01-31T01:14:57.510Z"
   },
   {
    "duration": 12,
    "start_time": "2025-01-31T01:14:57.532Z"
   },
   {
    "duration": 52,
    "start_time": "2025-01-31T01:14:57.546Z"
   },
   {
    "duration": 14,
    "start_time": "2025-01-31T01:14:57.600Z"
   },
   {
    "duration": 29,
    "start_time": "2025-01-31T01:14:57.616Z"
   },
   {
    "duration": 43,
    "start_time": "2025-01-31T01:14:57.647Z"
   },
   {
    "duration": 31,
    "start_time": "2025-01-31T01:14:57.692Z"
   },
   {
    "duration": 22,
    "start_time": "2025-01-31T01:14:57.725Z"
   },
   {
    "duration": 9,
    "start_time": "2025-01-31T01:14:57.749Z"
   },
   {
    "duration": 36,
    "start_time": "2025-01-31T01:14:57.759Z"
   },
   {
    "duration": 10,
    "start_time": "2025-01-31T01:14:57.796Z"
   },
   {
    "duration": 19,
    "start_time": "2025-01-31T01:14:57.808Z"
   },
   {
    "duration": 5,
    "start_time": "2025-01-31T01:14:57.829Z"
   },
   {
    "duration": 5,
    "start_time": "2025-01-31T01:14:57.836Z"
   },
   {
    "duration": 6,
    "start_time": "2025-01-31T01:14:57.842Z"
   },
   {
    "duration": 239,
    "start_time": "2025-01-31T01:14:57.850Z"
   },
   {
    "duration": 16,
    "start_time": "2025-01-31T01:14:58.091Z"
   },
   {
    "duration": 313,
    "start_time": "2025-01-31T01:14:58.109Z"
   },
   {
    "duration": 170,
    "start_time": "2025-01-31T01:14:58.427Z"
   },
   {
    "duration": 93,
    "start_time": "2025-01-31T01:14:58.600Z"
   },
   {
    "duration": 256,
    "start_time": "2025-01-31T01:14:58.697Z"
   },
   {
    "duration": 147,
    "start_time": "2025-01-31T01:14:58.955Z"
   },
   {
    "duration": 94,
    "start_time": "2025-01-31T01:14:59.103Z"
   },
   {
    "duration": 275,
    "start_time": "2025-01-31T01:14:59.201Z"
   },
   {
    "duration": 9,
    "start_time": "2025-01-31T01:14:59.477Z"
   },
   {
    "duration": 112,
    "start_time": "2025-01-31T01:14:59.488Z"
   },
   {
    "duration": 110,
    "start_time": "2025-01-31T01:14:59.602Z"
   },
   {
    "duration": 116,
    "start_time": "2025-01-31T01:14:59.713Z"
   },
   {
    "duration": 2,
    "start_time": "2025-01-31T01:14:59.831Z"
   },
   {
    "duration": 5,
    "start_time": "2025-01-31T01:14:59.835Z"
   },
   {
    "duration": 309,
    "start_time": "2025-01-31T01:14:59.842Z"
   },
   {
    "duration": 4,
    "start_time": "2025-01-31T01:15:00.154Z"
   },
   {
    "duration": 295,
    "start_time": "2025-01-31T01:15:00.160Z"
   },
   {
    "duration": 5,
    "start_time": "2025-01-31T01:15:00.457Z"
   },
   {
    "duration": 293,
    "start_time": "2025-01-31T01:15:00.464Z"
   },
   {
    "duration": 5,
    "start_time": "2025-01-31T01:15:00.759Z"
   },
   {
    "duration": 22,
    "start_time": "2025-01-31T01:15:00.765Z"
   },
   {
    "duration": 5,
    "start_time": "2025-01-31T01:15:00.788Z"
   },
   {
    "duration": 574,
    "start_time": "2025-01-31T01:17:38.996Z"
   },
   {
    "duration": 1036,
    "start_time": "2025-01-31T01:18:14.292Z"
   },
   {
    "duration": 225,
    "start_time": "2025-01-31T01:18:15.330Z"
   },
   {
    "duration": 18,
    "start_time": "2025-01-31T01:18:15.557Z"
   },
   {
    "duration": 24,
    "start_time": "2025-01-31T01:18:15.577Z"
   },
   {
    "duration": 15,
    "start_time": "2025-01-31T01:18:15.603Z"
   },
   {
    "duration": 10,
    "start_time": "2025-01-31T01:18:15.619Z"
   },
   {
    "duration": 5,
    "start_time": "2025-01-31T01:18:15.631Z"
   },
   {
    "duration": 4,
    "start_time": "2025-01-31T01:18:15.638Z"
   },
   {
    "duration": 69,
    "start_time": "2025-01-31T01:18:15.644Z"
   },
   {
    "duration": 20,
    "start_time": "2025-01-31T01:18:15.717Z"
   },
   {
    "duration": 96,
    "start_time": "2025-01-31T01:18:15.739Z"
   },
   {
    "duration": 3,
    "start_time": "2025-01-31T01:18:15.837Z"
   },
   {
    "duration": 29,
    "start_time": "2025-01-31T01:18:15.841Z"
   },
   {
    "duration": 234,
    "start_time": "2025-01-31T01:18:15.887Z"
   },
   {
    "duration": 0,
    "start_time": "2025-01-31T01:18:16.123Z"
   },
   {
    "duration": 0,
    "start_time": "2025-01-31T01:18:16.124Z"
   },
   {
    "duration": 0,
    "start_time": "2025-01-31T01:18:16.125Z"
   },
   {
    "duration": 0,
    "start_time": "2025-01-31T01:18:16.126Z"
   },
   {
    "duration": 0,
    "start_time": "2025-01-31T01:18:16.127Z"
   },
   {
    "duration": 0,
    "start_time": "2025-01-31T01:18:16.129Z"
   },
   {
    "duration": 0,
    "start_time": "2025-01-31T01:18:16.130Z"
   },
   {
    "duration": 0,
    "start_time": "2025-01-31T01:18:16.131Z"
   },
   {
    "duration": 0,
    "start_time": "2025-01-31T01:18:16.132Z"
   },
   {
    "duration": 0,
    "start_time": "2025-01-31T01:18:16.135Z"
   },
   {
    "duration": 0,
    "start_time": "2025-01-31T01:18:16.136Z"
   },
   {
    "duration": 0,
    "start_time": "2025-01-31T01:18:16.137Z"
   },
   {
    "duration": 0,
    "start_time": "2025-01-31T01:18:16.138Z"
   },
   {
    "duration": 0,
    "start_time": "2025-01-31T01:18:16.139Z"
   },
   {
    "duration": 0,
    "start_time": "2025-01-31T01:18:16.141Z"
   },
   {
    "duration": 0,
    "start_time": "2025-01-31T01:18:16.142Z"
   },
   {
    "duration": 0,
    "start_time": "2025-01-31T01:18:16.142Z"
   },
   {
    "duration": 0,
    "start_time": "2025-01-31T01:18:16.143Z"
   },
   {
    "duration": 0,
    "start_time": "2025-01-31T01:18:16.144Z"
   },
   {
    "duration": 0,
    "start_time": "2025-01-31T01:18:16.145Z"
   },
   {
    "duration": 0,
    "start_time": "2025-01-31T01:18:16.146Z"
   },
   {
    "duration": 0,
    "start_time": "2025-01-31T01:18:16.147Z"
   },
   {
    "duration": 0,
    "start_time": "2025-01-31T01:18:16.187Z"
   },
   {
    "duration": 0,
    "start_time": "2025-01-31T01:18:16.188Z"
   },
   {
    "duration": 0,
    "start_time": "2025-01-31T01:18:16.190Z"
   },
   {
    "duration": 0,
    "start_time": "2025-01-31T01:18:16.190Z"
   },
   {
    "duration": 0,
    "start_time": "2025-01-31T01:18:16.191Z"
   },
   {
    "duration": 0,
    "start_time": "2025-01-31T01:18:16.192Z"
   },
   {
    "duration": 0,
    "start_time": "2025-01-31T01:18:16.193Z"
   },
   {
    "duration": 0,
    "start_time": "2025-01-31T01:18:16.194Z"
   },
   {
    "duration": 0,
    "start_time": "2025-01-31T01:18:16.195Z"
   },
   {
    "duration": 0,
    "start_time": "2025-01-31T01:18:16.195Z"
   },
   {
    "duration": 0,
    "start_time": "2025-01-31T01:18:16.196Z"
   },
   {
    "duration": 0,
    "start_time": "2025-01-31T01:18:16.197Z"
   },
   {
    "duration": 95,
    "start_time": "2025-01-31T01:19:24.665Z"
   },
   {
    "duration": 100,
    "start_time": "2025-01-31T01:19:57.592Z"
   },
   {
    "duration": 104,
    "start_time": "2025-01-31T01:20:35.319Z"
   },
   {
    "duration": 30,
    "start_time": "2025-01-31T01:21:34.204Z"
   },
   {
    "duration": 21,
    "start_time": "2025-01-31T01:21:36.970Z"
   },
   {
    "duration": 32,
    "start_time": "2025-01-31T01:21:50.530Z"
   },
   {
    "duration": 22,
    "start_time": "2025-01-31T01:21:51.174Z"
   },
   {
    "duration": 86,
    "start_time": "2025-01-31T01:22:59.840Z"
   },
   {
    "duration": 19,
    "start_time": "2025-01-31T01:24:18.286Z"
   },
   {
    "duration": 16,
    "start_time": "2025-01-31T01:24:22.270Z"
   },
   {
    "duration": 1046,
    "start_time": "2025-01-31T01:24:29.129Z"
   },
   {
    "duration": 252,
    "start_time": "2025-01-31T01:24:30.178Z"
   },
   {
    "duration": 19,
    "start_time": "2025-01-31T01:24:30.431Z"
   },
   {
    "duration": 17,
    "start_time": "2025-01-31T01:24:30.452Z"
   },
   {
    "duration": 16,
    "start_time": "2025-01-31T01:24:30.487Z"
   },
   {
    "duration": 11,
    "start_time": "2025-01-31T01:24:30.504Z"
   },
   {
    "duration": 5,
    "start_time": "2025-01-31T01:24:30.517Z"
   },
   {
    "duration": 4,
    "start_time": "2025-01-31T01:24:30.524Z"
   },
   {
    "duration": 116,
    "start_time": "2025-01-31T01:24:30.530Z"
   },
   {
    "duration": 18,
    "start_time": "2025-01-31T01:24:30.651Z"
   },
   {
    "duration": 305,
    "start_time": "2025-01-31T01:24:30.671Z"
   },
   {
    "duration": 28,
    "start_time": "2025-01-31T01:24:30.986Z"
   },
   {
    "duration": 30,
    "start_time": "2025-01-31T01:24:31.016Z"
   },
   {
    "duration": 21,
    "start_time": "2025-01-31T01:24:31.047Z"
   },
   {
    "duration": 31,
    "start_time": "2025-01-31T01:24:31.087Z"
   },
   {
    "duration": 20,
    "start_time": "2025-01-31T01:24:31.121Z"
   },
   {
    "duration": 9,
    "start_time": "2025-01-31T01:24:31.143Z"
   },
   {
    "duration": 35,
    "start_time": "2025-01-31T01:24:31.153Z"
   },
   {
    "duration": 9,
    "start_time": "2025-01-31T01:24:31.190Z"
   },
   {
    "duration": 19,
    "start_time": "2025-01-31T01:24:31.201Z"
   },
   {
    "duration": 5,
    "start_time": "2025-01-31T01:24:31.221Z"
   },
   {
    "duration": 5,
    "start_time": "2025-01-31T01:24:31.228Z"
   },
   {
    "duration": 5,
    "start_time": "2025-01-31T01:24:31.235Z"
   },
   {
    "duration": 165,
    "start_time": "2025-01-31T01:24:31.241Z"
   },
   {
    "duration": 96,
    "start_time": "2025-01-31T01:24:31.407Z"
   },
   {
    "duration": 302,
    "start_time": "2025-01-31T01:24:31.508Z"
   },
   {
    "duration": 185,
    "start_time": "2025-01-31T01:24:31.812Z"
   },
   {
    "duration": 90,
    "start_time": "2025-01-31T01:24:32.002Z"
   },
   {
    "duration": 258,
    "start_time": "2025-01-31T01:24:32.094Z"
   },
   {
    "duration": 147,
    "start_time": "2025-01-31T01:24:32.354Z"
   },
   {
    "duration": 89,
    "start_time": "2025-01-31T01:24:32.503Z"
   },
   {
    "duration": 266,
    "start_time": "2025-01-31T01:24:32.594Z"
   },
   {
    "duration": 3,
    "start_time": "2025-01-31T01:24:32.862Z"
   },
   {
    "duration": 122,
    "start_time": "2025-01-31T01:24:32.868Z"
   },
   {
    "duration": 128,
    "start_time": "2025-01-31T01:24:32.992Z"
   },
   {
    "duration": 128,
    "start_time": "2025-01-31T01:24:33.123Z"
   },
   {
    "duration": 3,
    "start_time": "2025-01-31T01:24:33.253Z"
   },
   {
    "duration": 5,
    "start_time": "2025-01-31T01:24:33.257Z"
   },
   {
    "duration": 290,
    "start_time": "2025-01-31T01:24:33.287Z"
   },
   {
    "duration": 7,
    "start_time": "2025-01-31T01:24:33.579Z"
   },
   {
    "duration": 305,
    "start_time": "2025-01-31T01:24:33.588Z"
   },
   {
    "duration": 4,
    "start_time": "2025-01-31T01:24:33.895Z"
   },
   {
    "duration": 298,
    "start_time": "2025-01-31T01:24:33.901Z"
   },
   {
    "duration": 6,
    "start_time": "2025-01-31T01:24:34.200Z"
   },
   {
    "duration": 7,
    "start_time": "2025-01-31T01:24:34.207Z"
   },
   {
    "duration": 5,
    "start_time": "2025-01-31T01:24:34.215Z"
   },
   {
    "duration": 450,
    "start_time": "2025-01-31T01:25:31.011Z"
   },
   {
    "duration": 22,
    "start_time": "2025-01-31T01:25:38.391Z"
   },
   {
    "duration": 1041,
    "start_time": "2025-01-31T01:26:06.301Z"
   },
   {
    "duration": 239,
    "start_time": "2025-01-31T01:26:07.344Z"
   },
   {
    "duration": 19,
    "start_time": "2025-01-31T01:26:07.586Z"
   },
   {
    "duration": 15,
    "start_time": "2025-01-31T01:26:07.607Z"
   },
   {
    "duration": 15,
    "start_time": "2025-01-31T01:26:07.625Z"
   },
   {
    "duration": 10,
    "start_time": "2025-01-31T01:26:07.641Z"
   },
   {
    "duration": 35,
    "start_time": "2025-01-31T01:26:07.652Z"
   },
   {
    "duration": 5,
    "start_time": "2025-01-31T01:26:07.688Z"
   },
   {
    "duration": 99,
    "start_time": "2025-01-31T01:26:07.694Z"
   },
   {
    "duration": 19,
    "start_time": "2025-01-31T01:26:07.795Z"
   },
   {
    "duration": 319,
    "start_time": "2025-01-31T01:26:07.816Z"
   },
   {
    "duration": 30,
    "start_time": "2025-01-31T01:26:08.137Z"
   },
   {
    "duration": 37,
    "start_time": "2025-01-31T01:26:08.169Z"
   },
   {
    "duration": 20,
    "start_time": "2025-01-31T01:26:08.209Z"
   },
   {
    "duration": 30,
    "start_time": "2025-01-31T01:26:08.231Z"
   },
   {
    "duration": 41,
    "start_time": "2025-01-31T01:26:08.263Z"
   },
   {
    "duration": 9,
    "start_time": "2025-01-31T01:26:08.306Z"
   },
   {
    "duration": 9,
    "start_time": "2025-01-31T01:26:08.317Z"
   },
   {
    "duration": 9,
    "start_time": "2025-01-31T01:26:08.328Z"
   },
   {
    "duration": 50,
    "start_time": "2025-01-31T01:26:08.339Z"
   },
   {
    "duration": 6,
    "start_time": "2025-01-31T01:26:08.391Z"
   },
   {
    "duration": 6,
    "start_time": "2025-01-31T01:26:08.398Z"
   },
   {
    "duration": 6,
    "start_time": "2025-01-31T01:26:08.406Z"
   },
   {
    "duration": 189,
    "start_time": "2025-01-31T01:26:08.413Z"
   },
   {
    "duration": 88,
    "start_time": "2025-01-31T01:26:08.604Z"
   },
   {
    "duration": 272,
    "start_time": "2025-01-31T01:26:08.694Z"
   },
   {
    "duration": 219,
    "start_time": "2025-01-31T01:26:08.968Z"
   },
   {
    "duration": 16,
    "start_time": "2025-01-31T01:26:09.189Z"
   },
   {
    "duration": 306,
    "start_time": "2025-01-31T01:26:09.207Z"
   },
   {
    "duration": 176,
    "start_time": "2025-01-31T01:26:09.515Z"
   },
   {
    "duration": 93,
    "start_time": "2025-01-31T01:26:09.693Z"
   },
   {
    "duration": 241,
    "start_time": "2025-01-31T01:26:09.788Z"
   },
   {
    "duration": 4,
    "start_time": "2025-01-31T01:26:10.030Z"
   },
   {
    "duration": 128,
    "start_time": "2025-01-31T01:26:10.036Z"
   },
   {
    "duration": 112,
    "start_time": "2025-01-31T01:26:10.166Z"
   },
   {
    "duration": 116,
    "start_time": "2025-01-31T01:26:10.279Z"
   },
   {
    "duration": 3,
    "start_time": "2025-01-31T01:26:10.397Z"
   },
   {
    "duration": 4,
    "start_time": "2025-01-31T01:26:10.402Z"
   },
   {
    "duration": 310,
    "start_time": "2025-01-31T01:26:10.408Z"
   },
   {
    "duration": 4,
    "start_time": "2025-01-31T01:26:10.720Z"
   },
   {
    "duration": 284,
    "start_time": "2025-01-31T01:26:10.728Z"
   },
   {
    "duration": 4,
    "start_time": "2025-01-31T01:26:11.014Z"
   },
   {
    "duration": 288,
    "start_time": "2025-01-31T01:26:11.019Z"
   },
   {
    "duration": 4,
    "start_time": "2025-01-31T01:26:11.309Z"
   },
   {
    "duration": 7,
    "start_time": "2025-01-31T01:26:11.315Z"
   },
   {
    "duration": 5,
    "start_time": "2025-01-31T01:26:11.323Z"
   },
   {
    "duration": 475,
    "start_time": "2025-01-31T01:26:53.423Z"
   },
   {
    "duration": 1038,
    "start_time": "2025-01-31T01:27:17.119Z"
   },
   {
    "duration": 229,
    "start_time": "2025-01-31T01:27:18.160Z"
   },
   {
    "duration": 25,
    "start_time": "2025-01-31T01:27:18.391Z"
   },
   {
    "duration": 19,
    "start_time": "2025-01-31T01:27:18.418Z"
   },
   {
    "duration": 16,
    "start_time": "2025-01-31T01:27:18.441Z"
   },
   {
    "duration": 34,
    "start_time": "2025-01-31T01:27:18.459Z"
   },
   {
    "duration": 5,
    "start_time": "2025-01-31T01:27:18.495Z"
   },
   {
    "duration": 4,
    "start_time": "2025-01-31T01:27:18.502Z"
   },
   {
    "duration": 106,
    "start_time": "2025-01-31T01:27:18.508Z"
   },
   {
    "duration": 19,
    "start_time": "2025-01-31T01:27:18.615Z"
   },
   {
    "duration": 313,
    "start_time": "2025-01-31T01:27:18.636Z"
   },
   {
    "duration": 2,
    "start_time": "2025-01-31T01:27:18.951Z"
   },
   {
    "duration": 42,
    "start_time": "2025-01-31T01:27:18.955Z"
   },
   {
    "duration": 21,
    "start_time": "2025-01-31T01:27:19.002Z"
   },
   {
    "duration": 34,
    "start_time": "2025-01-31T01:27:19.025Z"
   },
   {
    "duration": 41,
    "start_time": "2025-01-31T01:27:19.061Z"
   },
   {
    "duration": 12,
    "start_time": "2025-01-31T01:27:19.104Z"
   },
   {
    "duration": 13,
    "start_time": "2025-01-31T01:27:19.118Z"
   },
   {
    "duration": 12,
    "start_time": "2025-01-31T01:27:19.133Z"
   },
   {
    "duration": 54,
    "start_time": "2025-01-31T01:27:19.147Z"
   },
   {
    "duration": 5,
    "start_time": "2025-01-31T01:27:19.203Z"
   },
   {
    "duration": 6,
    "start_time": "2025-01-31T01:27:19.210Z"
   },
   {
    "duration": 6,
    "start_time": "2025-01-31T01:27:19.217Z"
   },
   {
    "duration": 179,
    "start_time": "2025-01-31T01:27:19.225Z"
   },
   {
    "duration": 88,
    "start_time": "2025-01-31T01:27:19.406Z"
   },
   {
    "duration": 276,
    "start_time": "2025-01-31T01:27:19.496Z"
   },
   {
    "duration": 213,
    "start_time": "2025-01-31T01:27:19.774Z"
   },
   {
    "duration": 19,
    "start_time": "2025-01-31T01:27:19.989Z"
   },
   {
    "duration": 307,
    "start_time": "2025-01-31T01:27:20.010Z"
   },
   {
    "duration": 178,
    "start_time": "2025-01-31T01:27:20.319Z"
   },
   {
    "duration": 97,
    "start_time": "2025-01-31T01:27:20.499Z"
   },
   {
    "duration": 242,
    "start_time": "2025-01-31T01:27:20.598Z"
   },
   {
    "duration": 4,
    "start_time": "2025-01-31T01:27:20.842Z"
   },
   {
    "duration": 119,
    "start_time": "2025-01-31T01:27:20.848Z"
   },
   {
    "duration": 119,
    "start_time": "2025-01-31T01:27:20.969Z"
   },
   {
    "duration": 110,
    "start_time": "2025-01-31T01:27:21.091Z"
   },
   {
    "duration": 2,
    "start_time": "2025-01-31T01:27:21.203Z"
   },
   {
    "duration": 4,
    "start_time": "2025-01-31T01:27:21.207Z"
   },
   {
    "duration": 303,
    "start_time": "2025-01-31T01:27:21.213Z"
   },
   {
    "duration": 4,
    "start_time": "2025-01-31T01:27:21.518Z"
   },
   {
    "duration": 326,
    "start_time": "2025-01-31T01:27:21.527Z"
   },
   {
    "duration": 7,
    "start_time": "2025-01-31T01:27:21.855Z"
   },
   {
    "duration": 298,
    "start_time": "2025-01-31T01:27:21.863Z"
   },
   {
    "duration": 5,
    "start_time": "2025-01-31T01:27:22.163Z"
   },
   {
    "duration": 22,
    "start_time": "2025-01-31T01:27:22.170Z"
   },
   {
    "duration": 5,
    "start_time": "2025-01-31T01:27:22.194Z"
   },
   {
    "duration": 454,
    "start_time": "2025-01-31T01:28:05.978Z"
   },
   {
    "duration": 1021,
    "start_time": "2025-01-31T01:28:15.719Z"
   },
   {
    "duration": 220,
    "start_time": "2025-01-31T01:28:16.743Z"
   },
   {
    "duration": 23,
    "start_time": "2025-01-31T01:28:16.965Z"
   },
   {
    "duration": 15,
    "start_time": "2025-01-31T01:28:16.990Z"
   },
   {
    "duration": 15,
    "start_time": "2025-01-31T01:28:17.006Z"
   },
   {
    "duration": 11,
    "start_time": "2025-01-31T01:28:17.023Z"
   },
   {
    "duration": 5,
    "start_time": "2025-01-31T01:28:17.036Z"
   },
   {
    "duration": 5,
    "start_time": "2025-01-31T01:28:17.042Z"
   },
   {
    "duration": 123,
    "start_time": "2025-01-31T01:28:17.048Z"
   },
   {
    "duration": 29,
    "start_time": "2025-01-31T01:28:17.175Z"
   },
   {
    "duration": 310,
    "start_time": "2025-01-31T01:28:17.206Z"
   },
   {
    "duration": 3,
    "start_time": "2025-01-31T01:28:17.518Z"
   },
   {
    "duration": 29,
    "start_time": "2025-01-31T01:28:17.523Z"
   },
   {
    "duration": 37,
    "start_time": "2025-01-31T01:28:17.554Z"
   },
   {
    "duration": 31,
    "start_time": "2025-01-31T01:28:17.593Z"
   },
   {
    "duration": 22,
    "start_time": "2025-01-31T01:28:17.626Z"
   },
   {
    "duration": 9,
    "start_time": "2025-01-31T01:28:17.650Z"
   },
   {
    "duration": 13,
    "start_time": "2025-01-31T01:28:17.690Z"
   },
   {
    "duration": 11,
    "start_time": "2025-01-31T01:28:17.706Z"
   },
   {
    "duration": 20,
    "start_time": "2025-01-31T01:28:17.719Z"
   },
   {
    "duration": 5,
    "start_time": "2025-01-31T01:28:17.741Z"
   },
   {
    "duration": 5,
    "start_time": "2025-01-31T01:28:17.749Z"
   },
   {
    "duration": 33,
    "start_time": "2025-01-31T01:28:17.757Z"
   },
   {
    "duration": 203,
    "start_time": "2025-01-31T01:28:17.793Z"
   },
   {
    "duration": 90,
    "start_time": "2025-01-31T01:28:17.998Z"
   },
   {
    "duration": 268,
    "start_time": "2025-01-31T01:28:18.090Z"
   },
   {
    "duration": 142,
    "start_time": "2025-01-31T01:28:18.360Z"
   },
   {
    "duration": 98,
    "start_time": "2025-01-31T01:28:18.508Z"
   },
   {
    "duration": 307,
    "start_time": "2025-01-31T01:28:18.609Z"
   },
   {
    "duration": 185,
    "start_time": "2025-01-31T01:28:18.918Z"
   },
   {
    "duration": 90,
    "start_time": "2025-01-31T01:28:19.106Z"
   },
   {
    "duration": 288,
    "start_time": "2025-01-31T01:28:19.198Z"
   },
   {
    "duration": 7,
    "start_time": "2025-01-31T01:28:19.488Z"
   },
   {
    "duration": 116,
    "start_time": "2025-01-31T01:28:19.497Z"
   },
   {
    "duration": 123,
    "start_time": "2025-01-31T01:28:19.615Z"
   },
   {
    "duration": 123,
    "start_time": "2025-01-31T01:28:19.740Z"
   },
   {
    "duration": 5,
    "start_time": "2025-01-31T01:28:19.865Z"
   },
   {
    "duration": 15,
    "start_time": "2025-01-31T01:28:19.872Z"
   },
   {
    "duration": 298,
    "start_time": "2025-01-31T01:28:19.888Z"
   },
   {
    "duration": 4,
    "start_time": "2025-01-31T01:28:20.188Z"
   },
   {
    "duration": 292,
    "start_time": "2025-01-31T01:28:20.194Z"
   },
   {
    "duration": 5,
    "start_time": "2025-01-31T01:28:20.488Z"
   },
   {
    "duration": 297,
    "start_time": "2025-01-31T01:28:20.495Z"
   },
   {
    "duration": 5,
    "start_time": "2025-01-31T01:28:20.794Z"
   },
   {
    "duration": 7,
    "start_time": "2025-01-31T01:28:20.802Z"
   },
   {
    "duration": 5,
    "start_time": "2025-01-31T01:28:20.811Z"
   },
   {
    "duration": 440,
    "start_time": "2025-01-31T01:28:38.227Z"
   },
   {
    "duration": 17,
    "start_time": "2025-01-31T01:29:11.474Z"
   },
   {
    "duration": 161,
    "start_time": "2025-01-31T01:30:25.791Z"
   },
   {
    "duration": 23,
    "start_time": "2025-01-31T01:31:54.989Z"
   },
   {
    "duration": 1050,
    "start_time": "2025-01-31T01:32:49.042Z"
   },
   {
    "duration": 241,
    "start_time": "2025-01-31T01:32:50.094Z"
   },
   {
    "duration": 19,
    "start_time": "2025-01-31T01:32:50.337Z"
   },
   {
    "duration": 29,
    "start_time": "2025-01-31T01:32:50.358Z"
   },
   {
    "duration": 15,
    "start_time": "2025-01-31T01:32:50.390Z"
   },
   {
    "duration": 10,
    "start_time": "2025-01-31T01:32:50.407Z"
   },
   {
    "duration": 6,
    "start_time": "2025-01-31T01:32:50.419Z"
   },
   {
    "duration": 4,
    "start_time": "2025-01-31T01:32:50.426Z"
   },
   {
    "duration": 115,
    "start_time": "2025-01-31T01:32:50.432Z"
   },
   {
    "duration": 21,
    "start_time": "2025-01-31T01:32:50.549Z"
   },
   {
    "duration": 29,
    "start_time": "2025-01-31T01:32:50.572Z"
   },
   {
    "duration": 21,
    "start_time": "2025-01-31T01:32:50.602Z"
   },
   {
    "duration": 333,
    "start_time": "2025-01-31T01:32:50.624Z"
   },
   {
    "duration": 80,
    "start_time": "2025-01-31T01:32:50.961Z"
   },
   {
    "duration": 9,
    "start_time": "2025-01-31T01:32:51.043Z"
   },
   {
    "duration": 10,
    "start_time": "2025-01-31T01:32:51.054Z"
   },
   {
    "duration": 25,
    "start_time": "2025-01-31T01:32:51.066Z"
   },
   {
    "duration": 18,
    "start_time": "2025-01-31T01:32:51.092Z"
   },
   {
    "duration": 5,
    "start_time": "2025-01-31T01:32:51.112Z"
   },
   {
    "duration": 6,
    "start_time": "2025-01-31T01:32:51.119Z"
   },
   {
    "duration": 5,
    "start_time": "2025-01-31T01:32:51.127Z"
   },
   {
    "duration": 174,
    "start_time": "2025-01-31T01:32:51.133Z"
   },
   {
    "duration": 93,
    "start_time": "2025-01-31T01:32:51.310Z"
   },
   {
    "duration": 300,
    "start_time": "2025-01-31T01:32:51.405Z"
   },
   {
    "duration": 188,
    "start_time": "2025-01-31T01:32:51.707Z"
   },
   {
    "duration": 95,
    "start_time": "2025-01-31T01:32:51.897Z"
   },
   {
    "duration": 250,
    "start_time": "2025-01-31T01:32:51.995Z"
   },
   {
    "duration": 160,
    "start_time": "2025-01-31T01:32:52.247Z"
   },
   {
    "duration": 91,
    "start_time": "2025-01-31T01:32:52.409Z"
   },
   {
    "duration": 277,
    "start_time": "2025-01-31T01:32:52.502Z"
   },
   {
    "duration": 7,
    "start_time": "2025-01-31T01:32:52.781Z"
   },
   {
    "duration": 117,
    "start_time": "2025-01-31T01:32:52.790Z"
   },
   {
    "duration": 120,
    "start_time": "2025-01-31T01:32:52.909Z"
   },
   {
    "duration": 131,
    "start_time": "2025-01-31T01:32:53.031Z"
   },
   {
    "duration": 3,
    "start_time": "2025-01-31T01:32:53.164Z"
   },
   {
    "duration": 23,
    "start_time": "2025-01-31T01:32:53.169Z"
   },
   {
    "duration": 311,
    "start_time": "2025-01-31T01:32:53.194Z"
   },
   {
    "duration": 3,
    "start_time": "2025-01-31T01:32:53.507Z"
   },
   {
    "duration": 317,
    "start_time": "2025-01-31T01:32:53.512Z"
   },
   {
    "duration": 4,
    "start_time": "2025-01-31T01:32:53.830Z"
   },
   {
    "duration": 319,
    "start_time": "2025-01-31T01:32:53.838Z"
   },
   {
    "duration": 5,
    "start_time": "2025-01-31T01:32:54.159Z"
   },
   {
    "duration": 24,
    "start_time": "2025-01-31T01:32:54.166Z"
   },
   {
    "duration": 6,
    "start_time": "2025-01-31T01:32:54.192Z"
   },
   {
    "duration": 5,
    "start_time": "2025-01-31T01:33:31.500Z"
   },
   {
    "duration": 482,
    "start_time": "2025-01-31T01:34:07.899Z"
   },
   {
    "duration": 1093,
    "start_time": "2025-01-31T01:34:24.678Z"
   },
   {
    "duration": 271,
    "start_time": "2025-01-31T01:34:25.774Z"
   },
   {
    "duration": 18,
    "start_time": "2025-01-31T01:34:26.047Z"
   },
   {
    "duration": 23,
    "start_time": "2025-01-31T01:34:26.067Z"
   },
   {
    "duration": 15,
    "start_time": "2025-01-31T01:34:26.093Z"
   },
   {
    "duration": 9,
    "start_time": "2025-01-31T01:34:26.110Z"
   },
   {
    "duration": 5,
    "start_time": "2025-01-31T01:34:26.121Z"
   },
   {
    "duration": 5,
    "start_time": "2025-01-31T01:34:26.128Z"
   },
   {
    "duration": 123,
    "start_time": "2025-01-31T01:34:26.135Z"
   },
   {
    "duration": 27,
    "start_time": "2025-01-31T01:34:26.260Z"
   },
   {
    "duration": 21,
    "start_time": "2025-01-31T01:34:26.289Z"
   },
   {
    "duration": 21,
    "start_time": "2025-01-31T01:34:26.312Z"
   },
   {
    "duration": 381,
    "start_time": "2025-01-31T01:34:26.335Z"
   },
   {
    "duration": 89,
    "start_time": "2025-01-31T01:34:26.720Z"
   },
   {
    "duration": 9,
    "start_time": "2025-01-31T01:34:26.811Z"
   },
   {
    "duration": 10,
    "start_time": "2025-01-31T01:34:26.822Z"
   },
   {
    "duration": 11,
    "start_time": "2025-01-31T01:34:26.834Z"
   },
   {
    "duration": 45,
    "start_time": "2025-01-31T01:34:26.850Z"
   },
   {
    "duration": 6,
    "start_time": "2025-01-31T01:34:26.896Z"
   },
   {
    "duration": 6,
    "start_time": "2025-01-31T01:34:26.905Z"
   },
   {
    "duration": 6,
    "start_time": "2025-01-31T01:34:26.913Z"
   },
   {
    "duration": 182,
    "start_time": "2025-01-31T01:34:26.921Z"
   },
   {
    "duration": 94,
    "start_time": "2025-01-31T01:34:27.104Z"
   },
   {
    "duration": 293,
    "start_time": "2025-01-31T01:34:27.200Z"
   },
   {
    "duration": 217,
    "start_time": "2025-01-31T01:34:27.496Z"
   },
   {
    "duration": 90,
    "start_time": "2025-01-31T01:34:27.715Z"
   },
   {
    "duration": 337,
    "start_time": "2025-01-31T01:34:27.807Z"
   },
   {
    "duration": 155,
    "start_time": "2025-01-31T01:34:28.146Z"
   },
   {
    "duration": 97,
    "start_time": "2025-01-31T01:34:28.303Z"
   },
   {
    "duration": 287,
    "start_time": "2025-01-31T01:34:28.403Z"
   },
   {
    "duration": 5,
    "start_time": "2025-01-31T01:34:28.692Z"
   },
   {
    "duration": 134,
    "start_time": "2025-01-31T01:34:28.699Z"
   },
   {
    "duration": 126,
    "start_time": "2025-01-31T01:34:28.835Z"
   },
   {
    "duration": 149,
    "start_time": "2025-01-31T01:34:28.963Z"
   },
   {
    "duration": 3,
    "start_time": "2025-01-31T01:34:29.114Z"
   },
   {
    "duration": 5,
    "start_time": "2025-01-31T01:34:29.119Z"
   },
   {
    "duration": 320,
    "start_time": "2025-01-31T01:34:29.125Z"
   },
   {
    "duration": 4,
    "start_time": "2025-01-31T01:34:29.447Z"
   },
   {
    "duration": 306,
    "start_time": "2025-01-31T01:34:29.454Z"
   },
   {
    "duration": 4,
    "start_time": "2025-01-31T01:34:29.762Z"
   },
   {
    "duration": 301,
    "start_time": "2025-01-31T01:34:29.771Z"
   },
   {
    "duration": 11,
    "start_time": "2025-01-31T01:34:30.075Z"
   },
   {
    "duration": 8,
    "start_time": "2025-01-31T01:34:30.088Z"
   },
   {
    "duration": 5,
    "start_time": "2025-01-31T01:34:30.098Z"
   },
   {
    "duration": 1018,
    "start_time": "2025-01-31T01:35:34.501Z"
   },
   {
    "duration": 231,
    "start_time": "2025-01-31T01:35:35.521Z"
   },
   {
    "duration": 18,
    "start_time": "2025-01-31T01:35:35.754Z"
   },
   {
    "duration": 14,
    "start_time": "2025-01-31T01:35:35.786Z"
   },
   {
    "duration": 15,
    "start_time": "2025-01-31T01:35:35.802Z"
   },
   {
    "duration": 10,
    "start_time": "2025-01-31T01:35:35.818Z"
   },
   {
    "duration": 5,
    "start_time": "2025-01-31T01:35:35.830Z"
   },
   {
    "duration": 4,
    "start_time": "2025-01-31T01:35:35.836Z"
   },
   {
    "duration": 117,
    "start_time": "2025-01-31T01:35:35.842Z"
   },
   {
    "duration": 25,
    "start_time": "2025-01-31T01:35:35.962Z"
   },
   {
    "duration": 19,
    "start_time": "2025-01-31T01:35:35.989Z"
   },
   {
    "duration": 20,
    "start_time": "2025-01-31T01:35:36.010Z"
   },
   {
    "duration": 303,
    "start_time": "2025-01-31T01:35:36.032Z"
   },
   {
    "duration": 76,
    "start_time": "2025-01-31T01:35:36.337Z"
   },
   {
    "duration": 4,
    "start_time": "2025-01-31T01:35:36.415Z"
   },
   {
    "duration": 9,
    "start_time": "2025-01-31T01:35:36.421Z"
   },
   {
    "duration": 8,
    "start_time": "2025-01-31T01:35:36.432Z"
   },
   {
    "duration": 9,
    "start_time": "2025-01-31T01:35:36.442Z"
   },
   {
    "duration": 46,
    "start_time": "2025-01-31T01:35:36.453Z"
   },
   {
    "duration": 5,
    "start_time": "2025-01-31T01:35:36.501Z"
   },
   {
    "duration": 5,
    "start_time": "2025-01-31T01:35:36.507Z"
   },
   {
    "duration": 5,
    "start_time": "2025-01-31T01:35:36.514Z"
   },
   {
    "duration": 180,
    "start_time": "2025-01-31T01:35:36.520Z"
   },
   {
    "duration": 93,
    "start_time": "2025-01-31T01:35:36.702Z"
   },
   {
    "duration": 276,
    "start_time": "2025-01-31T01:35:36.798Z"
   },
   {
    "duration": 214,
    "start_time": "2025-01-31T01:35:37.075Z"
   },
   {
    "duration": 15,
    "start_time": "2025-01-31T01:35:37.291Z"
   },
   {
    "duration": 298,
    "start_time": "2025-01-31T01:35:37.311Z"
   },
   {
    "duration": 180,
    "start_time": "2025-01-31T01:35:37.610Z"
   },
   {
    "duration": 15,
    "start_time": "2025-01-31T01:35:37.792Z"
   },
   {
    "duration": 233,
    "start_time": "2025-01-31T01:35:37.888Z"
   },
   {
    "duration": 9,
    "start_time": "2025-01-31T01:35:38.123Z"
   },
   {
    "duration": 120,
    "start_time": "2025-01-31T01:35:38.133Z"
   },
   {
    "duration": 117,
    "start_time": "2025-01-31T01:35:38.254Z"
   },
   {
    "duration": 117,
    "start_time": "2025-01-31T01:35:38.373Z"
   },
   {
    "duration": 2,
    "start_time": "2025-01-31T01:35:38.494Z"
   },
   {
    "duration": 4,
    "start_time": "2025-01-31T01:35:38.498Z"
   },
   {
    "duration": 301,
    "start_time": "2025-01-31T01:35:38.503Z"
   },
   {
    "duration": 5,
    "start_time": "2025-01-31T01:35:38.806Z"
   },
   {
    "duration": 302,
    "start_time": "2025-01-31T01:35:38.812Z"
   },
   {
    "duration": 4,
    "start_time": "2025-01-31T01:35:39.115Z"
   },
   {
    "duration": 293,
    "start_time": "2025-01-31T01:35:39.121Z"
   },
   {
    "duration": 4,
    "start_time": "2025-01-31T01:35:39.416Z"
   },
   {
    "duration": 6,
    "start_time": "2025-01-31T01:35:39.422Z"
   },
   {
    "duration": 4,
    "start_time": "2025-01-31T01:35:39.430Z"
   },
   {
    "duration": 3,
    "start_time": "2025-01-31T01:35:56.191Z"
   },
   {
    "duration": 3,
    "start_time": "2025-01-31T01:36:10.895Z"
   },
   {
    "duration": 2710,
    "start_time": "2025-01-31T17:05:59.118Z"
   },
   {
    "duration": 326,
    "start_time": "2025-01-31T17:06:01.830Z"
   },
   {
    "duration": 23,
    "start_time": "2025-01-31T17:06:02.158Z"
   },
   {
    "duration": 26,
    "start_time": "2025-01-31T17:06:02.184Z"
   },
   {
    "duration": 16,
    "start_time": "2025-01-31T17:06:02.212Z"
   },
   {
    "duration": 10,
    "start_time": "2025-01-31T17:06:02.229Z"
   },
   {
    "duration": 6,
    "start_time": "2025-01-31T17:06:02.241Z"
   },
   {
    "duration": 4,
    "start_time": "2025-01-31T17:06:02.249Z"
   },
   {
    "duration": 125,
    "start_time": "2025-01-31T17:06:02.254Z"
   },
   {
    "duration": 29,
    "start_time": "2025-01-31T17:06:02.382Z"
   },
   {
    "duration": 27,
    "start_time": "2025-01-31T17:06:02.413Z"
   },
   {
    "duration": 27,
    "start_time": "2025-01-31T17:06:02.442Z"
   },
   {
    "duration": 348,
    "start_time": "2025-01-31T17:06:02.471Z"
   },
   {
    "duration": 127,
    "start_time": "2025-01-31T17:06:02.821Z"
   },
   {
    "duration": 3,
    "start_time": "2025-01-31T17:06:02.950Z"
   },
   {
    "duration": 11,
    "start_time": "2025-01-31T17:06:02.955Z"
   },
   {
    "duration": 10,
    "start_time": "2025-01-31T17:06:02.968Z"
   },
   {
    "duration": 33,
    "start_time": "2025-01-31T17:06:02.980Z"
   },
   {
    "duration": 19,
    "start_time": "2025-01-31T17:06:03.015Z"
   },
   {
    "duration": 4,
    "start_time": "2025-01-31T17:06:03.036Z"
   },
   {
    "duration": 5,
    "start_time": "2025-01-31T17:06:03.042Z"
   },
   {
    "duration": 5,
    "start_time": "2025-01-31T17:06:03.048Z"
   },
   {
    "duration": 259,
    "start_time": "2025-01-31T17:06:03.055Z"
   },
   {
    "duration": 98,
    "start_time": "2025-01-31T17:06:03.316Z"
   },
   {
    "duration": 251,
    "start_time": "2025-01-31T17:06:03.416Z"
   },
   {
    "duration": 161,
    "start_time": "2025-01-31T17:06:03.669Z"
   },
   {
    "duration": 30,
    "start_time": "2025-01-31T17:06:03.909Z"
   },
   {
    "duration": 227,
    "start_time": "2025-01-31T17:06:04.009Z"
   },
   {
    "duration": 178,
    "start_time": "2025-01-31T17:06:04.238Z"
   },
   {
    "duration": 91,
    "start_time": "2025-01-31T17:06:04.418Z"
   },
   {
    "duration": 242,
    "start_time": "2025-01-31T17:06:04.511Z"
   },
   {
    "duration": 3,
    "start_time": "2025-01-31T17:06:04.756Z"
   },
   {
    "duration": 173,
    "start_time": "2025-01-31T17:06:04.761Z"
   },
   {
    "duration": 132,
    "start_time": "2025-01-31T17:06:04.936Z"
   },
   {
    "duration": 109,
    "start_time": "2025-01-31T17:06:05.069Z"
   },
   {
    "duration": 3,
    "start_time": "2025-01-31T17:06:05.180Z"
   },
   {
    "duration": 4,
    "start_time": "2025-01-31T17:06:05.184Z"
   },
   {
    "duration": 311,
    "start_time": "2025-01-31T17:06:05.190Z"
   },
   {
    "duration": 4,
    "start_time": "2025-01-31T17:06:05.508Z"
   },
   {
    "duration": 293,
    "start_time": "2025-01-31T17:06:05.514Z"
   },
   {
    "duration": 4,
    "start_time": "2025-01-31T17:06:05.810Z"
   },
   {
    "duration": 305,
    "start_time": "2025-01-31T17:06:05.815Z"
   },
   {
    "duration": 5,
    "start_time": "2025-01-31T17:06:06.122Z"
   },
   {
    "duration": 6,
    "start_time": "2025-01-31T17:06:06.129Z"
   },
   {
    "duration": 4,
    "start_time": "2025-01-31T17:06:06.137Z"
   },
   {
    "duration": 55,
    "start_time": "2025-01-31T17:47:15.450Z"
   },
   {
    "duration": 3,
    "start_time": "2025-01-31T17:58:39.941Z"
   },
   {
    "duration": 103,
    "start_time": "2025-01-31T18:07:41.343Z"
   },
   {
    "duration": 10,
    "start_time": "2025-01-31T18:07:56.425Z"
   },
   {
    "duration": 7,
    "start_time": "2025-01-31T18:08:01.770Z"
   },
   {
    "duration": 6,
    "start_time": "2025-01-31T18:08:43.762Z"
   },
   {
    "duration": 5,
    "start_time": "2025-01-31T18:08:55.089Z"
   },
   {
    "duration": 4,
    "start_time": "2025-01-31T18:09:10.376Z"
   },
   {
    "duration": 99,
    "start_time": "2025-01-31T18:09:40.778Z"
   },
   {
    "duration": 102,
    "start_time": "2025-01-31T18:15:29.980Z"
   },
   {
    "duration": 100,
    "start_time": "2025-01-31T18:17:45.990Z"
   },
   {
    "duration": 4,
    "start_time": "2025-01-31T18:19:36.669Z"
   },
   {
    "duration": 960,
    "start_time": "2025-01-31T19:14:50.788Z"
   },
   {
    "duration": 225,
    "start_time": "2025-01-31T19:14:51.751Z"
   },
   {
    "duration": 18,
    "start_time": "2025-01-31T19:14:51.978Z"
   },
   {
    "duration": 20,
    "start_time": "2025-01-31T19:14:51.999Z"
   },
   {
    "duration": 14,
    "start_time": "2025-01-31T19:14:52.021Z"
   },
   {
    "duration": 9,
    "start_time": "2025-01-31T19:14:52.037Z"
   },
   {
    "duration": 5,
    "start_time": "2025-01-31T19:14:52.048Z"
   },
   {
    "duration": 4,
    "start_time": "2025-01-31T19:14:52.055Z"
   },
   {
    "duration": 120,
    "start_time": "2025-01-31T19:14:52.060Z"
   },
   {
    "duration": 30,
    "start_time": "2025-01-31T19:14:52.184Z"
   },
   {
    "duration": 21,
    "start_time": "2025-01-31T19:14:52.215Z"
   },
   {
    "duration": 21,
    "start_time": "2025-01-31T19:14:52.237Z"
   },
   {
    "duration": 310,
    "start_time": "2025-01-31T19:14:52.259Z"
   },
   {
    "duration": 80,
    "start_time": "2025-01-31T19:14:52.573Z"
   },
   {
    "duration": 3,
    "start_time": "2025-01-31T19:14:52.655Z"
   },
   {
    "duration": 9,
    "start_time": "2025-01-31T19:14:52.660Z"
   },
   {
    "duration": 8,
    "start_time": "2025-01-31T19:14:52.671Z"
   },
   {
    "duration": 29,
    "start_time": "2025-01-31T19:14:52.681Z"
   },
   {
    "duration": 19,
    "start_time": "2025-01-31T19:14:52.711Z"
   },
   {
    "duration": 5,
    "start_time": "2025-01-31T19:14:52.731Z"
   },
   {
    "duration": 6,
    "start_time": "2025-01-31T19:14:52.738Z"
   },
   {
    "duration": 5,
    "start_time": "2025-01-31T19:14:52.746Z"
   },
   {
    "duration": 172,
    "start_time": "2025-01-31T19:14:52.752Z"
   },
   {
    "duration": 89,
    "start_time": "2025-01-31T19:14:52.926Z"
   },
   {
    "duration": 272,
    "start_time": "2025-01-31T19:14:53.018Z"
   },
   {
    "duration": 218,
    "start_time": "2025-01-31T19:14:53.292Z"
   },
   {
    "duration": 18,
    "start_time": "2025-01-31T19:14:53.512Z"
   },
   {
    "duration": 301,
    "start_time": "2025-01-31T19:14:53.535Z"
   },
   {
    "duration": 180,
    "start_time": "2025-01-31T19:14:53.838Z"
   },
   {
    "duration": 92,
    "start_time": "2025-01-31T19:14:54.020Z"
   },
   {
    "duration": 251,
    "start_time": "2025-01-31T19:14:54.114Z"
   },
   {
    "duration": 3,
    "start_time": "2025-01-31T19:14:54.368Z"
   },
   {
    "duration": 117,
    "start_time": "2025-01-31T19:14:54.374Z"
   },
   {
    "duration": 117,
    "start_time": "2025-01-31T19:14:54.493Z"
   },
   {
    "duration": 116,
    "start_time": "2025-01-31T19:14:54.612Z"
   },
   {
    "duration": 3,
    "start_time": "2025-01-31T19:14:54.730Z"
   },
   {
    "duration": 5,
    "start_time": "2025-01-31T19:14:54.734Z"
   },
   {
    "duration": 303,
    "start_time": "2025-01-31T19:14:54.740Z"
   },
   {
    "duration": 4,
    "start_time": "2025-01-31T19:14:55.045Z"
   },
   {
    "duration": 297,
    "start_time": "2025-01-31T19:14:55.050Z"
   },
   {
    "duration": 5,
    "start_time": "2025-01-31T19:14:55.349Z"
   },
   {
    "duration": 309,
    "start_time": "2025-01-31T19:14:55.355Z"
   },
   {
    "duration": 4,
    "start_time": "2025-01-31T19:14:55.667Z"
   },
   {
    "duration": 4,
    "start_time": "2025-01-31T19:14:55.673Z"
   },
   {
    "duration": 976,
    "start_time": "2025-01-31T19:21:41.079Z"
   },
   {
    "duration": 225,
    "start_time": "2025-01-31T19:21:42.057Z"
   },
   {
    "duration": 18,
    "start_time": "2025-01-31T19:21:42.284Z"
   },
   {
    "duration": 14,
    "start_time": "2025-01-31T19:21:42.304Z"
   },
   {
    "duration": 14,
    "start_time": "2025-01-31T19:21:42.320Z"
   },
   {
    "duration": 10,
    "start_time": "2025-01-31T19:21:42.335Z"
   },
   {
    "duration": 5,
    "start_time": "2025-01-31T19:21:42.346Z"
   },
   {
    "duration": 5,
    "start_time": "2025-01-31T19:21:42.352Z"
   },
   {
    "duration": 119,
    "start_time": "2025-01-31T19:21:42.358Z"
   },
   {
    "duration": 31,
    "start_time": "2025-01-31T19:21:42.479Z"
   },
   {
    "duration": 21,
    "start_time": "2025-01-31T19:21:42.511Z"
   },
   {
    "duration": 20,
    "start_time": "2025-01-31T19:21:42.534Z"
   },
   {
    "duration": 311,
    "start_time": "2025-01-31T19:21:42.556Z"
   },
   {
    "duration": 85,
    "start_time": "2025-01-31T19:21:42.871Z"
   },
   {
    "duration": 3,
    "start_time": "2025-01-31T19:21:42.957Z"
   },
   {
    "duration": 11,
    "start_time": "2025-01-31T19:21:42.961Z"
   },
   {
    "duration": 10,
    "start_time": "2025-01-31T19:21:42.973Z"
   },
   {
    "duration": 25,
    "start_time": "2025-01-31T19:21:42.985Z"
   },
   {
    "duration": 17,
    "start_time": "2025-01-31T19:21:43.012Z"
   },
   {
    "duration": 5,
    "start_time": "2025-01-31T19:21:43.031Z"
   },
   {
    "duration": 6,
    "start_time": "2025-01-31T19:21:43.037Z"
   },
   {
    "duration": 5,
    "start_time": "2025-01-31T19:21:43.044Z"
   },
   {
    "duration": 172,
    "start_time": "2025-01-31T19:21:43.051Z"
   },
   {
    "duration": 89,
    "start_time": "2025-01-31T19:21:43.225Z"
   },
   {
    "duration": 269,
    "start_time": "2025-01-31T19:21:43.316Z"
   },
   {
    "duration": 139,
    "start_time": "2025-01-31T19:21:43.587Z"
   },
   {
    "duration": 96,
    "start_time": "2025-01-31T19:21:43.729Z"
   },
   {
    "duration": 297,
    "start_time": "2025-01-31T19:21:43.827Z"
   },
   {
    "duration": 185,
    "start_time": "2025-01-31T19:21:44.126Z"
   },
   {
    "duration": 15,
    "start_time": "2025-01-31T19:21:44.313Z"
   },
   {
    "duration": 307,
    "start_time": "2025-01-31T19:21:44.330Z"
   },
   {
    "duration": 4,
    "start_time": "2025-01-31T19:21:44.639Z"
   },
   {
    "duration": 113,
    "start_time": "2025-01-31T19:21:44.645Z"
   },
   {
    "duration": 120,
    "start_time": "2025-01-31T19:21:44.759Z"
   },
   {
    "duration": 129,
    "start_time": "2025-01-31T19:21:44.881Z"
   },
   {
    "duration": 5,
    "start_time": "2025-01-31T19:21:45.012Z"
   },
   {
    "duration": 4,
    "start_time": "2025-01-31T19:21:45.019Z"
   },
   {
    "duration": 301,
    "start_time": "2025-01-31T19:21:45.025Z"
   },
   {
    "duration": 4,
    "start_time": "2025-01-31T19:21:45.329Z"
   },
   {
    "duration": 290,
    "start_time": "2025-01-31T19:21:45.335Z"
   },
   {
    "duration": 4,
    "start_time": "2025-01-31T19:21:45.629Z"
   },
   {
    "duration": 293,
    "start_time": "2025-01-31T19:21:45.634Z"
   },
   {
    "duration": 4,
    "start_time": "2025-01-31T19:21:45.929Z"
   },
   {
    "duration": 3,
    "start_time": "2025-01-31T19:21:45.935Z"
   },
   {
    "duration": 2837,
    "start_time": "2025-02-01T02:53:17.540Z"
   },
   {
    "duration": 292,
    "start_time": "2025-02-01T02:53:20.379Z"
   },
   {
    "duration": 18,
    "start_time": "2025-02-01T02:53:20.673Z"
   },
   {
    "duration": 29,
    "start_time": "2025-02-01T02:53:20.693Z"
   },
   {
    "duration": 15,
    "start_time": "2025-02-01T02:53:20.724Z"
   },
   {
    "duration": 10,
    "start_time": "2025-02-01T02:53:20.741Z"
   },
   {
    "duration": 7,
    "start_time": "2025-02-01T02:53:20.753Z"
   },
   {
    "duration": 4,
    "start_time": "2025-02-01T02:53:20.761Z"
   },
   {
    "duration": 119,
    "start_time": "2025-02-01T02:53:20.767Z"
   },
   {
    "duration": 29,
    "start_time": "2025-02-01T02:53:20.889Z"
   },
   {
    "duration": 21,
    "start_time": "2025-02-01T02:53:20.920Z"
   },
   {
    "duration": 20,
    "start_time": "2025-02-01T02:53:20.942Z"
   },
   {
    "duration": 130,
    "start_time": "2025-02-01T02:53:20.964Z"
   },
   {
    "duration": 10,
    "start_time": "2025-02-01T02:53:30.019Z"
   },
   {
    "duration": 3,
    "start_time": "2025-02-01T02:55:57.126Z"
   },
   {
    "duration": 237,
    "start_time": "2025-02-01T02:55:57.133Z"
   },
   {
    "duration": 16,
    "start_time": "2025-02-01T02:55:57.372Z"
   },
   {
    "duration": 27,
    "start_time": "2025-02-01T02:55:57.390Z"
   },
   {
    "duration": 15,
    "start_time": "2025-02-01T02:55:57.419Z"
   },
   {
    "duration": 10,
    "start_time": "2025-02-01T02:55:57.436Z"
   },
   {
    "duration": 5,
    "start_time": "2025-02-01T02:55:57.448Z"
   },
   {
    "duration": 5,
    "start_time": "2025-02-01T02:55:57.454Z"
   },
   {
    "duration": 107,
    "start_time": "2025-02-01T02:55:57.460Z"
   },
   {
    "duration": 21,
    "start_time": "2025-02-01T02:55:57.569Z"
   },
   {
    "duration": 36,
    "start_time": "2025-02-01T02:55:57.592Z"
   },
   {
    "duration": 20,
    "start_time": "2025-02-01T02:55:57.630Z"
   },
   {
    "duration": 2,
    "start_time": "2025-02-01T02:55:57.652Z"
   },
   {
    "duration": 93,
    "start_time": "2025-02-01T02:55:57.656Z"
   },
   {
    "duration": 3,
    "start_time": "2025-02-01T02:55:57.754Z"
   },
   {
    "duration": 9,
    "start_time": "2025-02-01T02:55:57.759Z"
   },
   {
    "duration": 9,
    "start_time": "2025-02-01T02:55:57.770Z"
   },
   {
    "duration": 34,
    "start_time": "2025-02-01T02:55:57.780Z"
   },
   {
    "duration": 19,
    "start_time": "2025-02-01T02:55:57.816Z"
   },
   {
    "duration": 5,
    "start_time": "2025-02-01T02:55:57.836Z"
   },
   {
    "duration": 7,
    "start_time": "2025-02-01T02:55:57.843Z"
   },
   {
    "duration": 6,
    "start_time": "2025-02-01T02:55:57.852Z"
   },
   {
    "duration": 182,
    "start_time": "2025-02-01T02:55:57.859Z"
   },
   {
    "duration": 14,
    "start_time": "2025-02-01T02:55:58.112Z"
   },
   {
    "duration": 299,
    "start_time": "2025-02-01T02:55:58.128Z"
   },
   {
    "duration": 193,
    "start_time": "2025-02-01T02:55:58.429Z"
   },
   {
    "duration": 96,
    "start_time": "2025-02-01T02:55:58.627Z"
   },
   {
    "duration": 270,
    "start_time": "2025-02-01T02:55:58.727Z"
   },
   {
    "duration": 214,
    "start_time": "2025-02-01T02:55:59.000Z"
   },
   {
    "duration": 20,
    "start_time": "2025-02-01T02:55:59.216Z"
   },
   {
    "duration": 317,
    "start_time": "2025-02-01T02:55:59.238Z"
   },
   {
    "duration": 4,
    "start_time": "2025-02-01T02:55:59.557Z"
   },
   {
    "duration": 121,
    "start_time": "2025-02-01T02:55:59.563Z"
   },
   {
    "duration": 180,
    "start_time": "2025-02-01T02:55:59.686Z"
   },
   {
    "duration": 117,
    "start_time": "2025-02-01T02:55:59.869Z"
   },
   {
    "duration": 3,
    "start_time": "2025-02-01T02:55:59.988Z"
   },
   {
    "duration": 19,
    "start_time": "2025-02-01T02:55:59.993Z"
   },
   {
    "duration": 396,
    "start_time": "2025-02-01T02:56:00.013Z"
   },
   {
    "duration": 5,
    "start_time": "2025-02-01T02:56:00.412Z"
   },
   {
    "duration": 289,
    "start_time": "2025-02-01T02:56:00.418Z"
   },
   {
    "duration": 5,
    "start_time": "2025-02-01T02:56:00.709Z"
   },
   {
    "duration": 292,
    "start_time": "2025-02-01T02:56:00.719Z"
   },
   {
    "duration": 4,
    "start_time": "2025-02-01T02:56:01.014Z"
   },
   {
    "duration": 4,
    "start_time": "2025-02-01T02:56:01.020Z"
   },
   {
    "duration": 5,
    "start_time": "2025-02-01T02:57:47.864Z"
   },
   {
    "duration": 5,
    "start_time": "2025-02-01T03:00:52.565Z"
   },
   {
    "duration": 9,
    "start_time": "2025-02-01T03:01:19.688Z"
   },
   {
    "duration": 8,
    "start_time": "2025-02-01T03:01:51.589Z"
   },
   {
    "duration": 163,
    "start_time": "2025-02-03T18:00:43.340Z"
   },
   {
    "duration": 2698,
    "start_time": "2025-02-03T18:00:49.018Z"
   },
   {
    "duration": 295,
    "start_time": "2025-02-03T18:00:51.719Z"
   },
   {
    "duration": 18,
    "start_time": "2025-02-03T18:00:52.016Z"
   },
   {
    "duration": 14,
    "start_time": "2025-02-03T18:00:52.036Z"
   },
   {
    "duration": 28,
    "start_time": "2025-02-03T18:00:52.051Z"
   },
   {
    "duration": 11,
    "start_time": "2025-02-03T18:00:52.080Z"
   },
   {
    "duration": 9,
    "start_time": "2025-02-03T18:00:52.092Z"
   },
   {
    "duration": 5,
    "start_time": "2025-02-03T18:00:52.102Z"
   },
   {
    "duration": 113,
    "start_time": "2025-02-03T18:00:52.109Z"
   },
   {
    "duration": 20,
    "start_time": "2025-02-03T18:00:52.226Z"
   },
   {
    "duration": 33,
    "start_time": "2025-02-03T18:00:52.249Z"
   },
   {
    "duration": 21,
    "start_time": "2025-02-03T18:00:52.284Z"
   },
   {
    "duration": 293,
    "start_time": "2025-02-03T18:00:52.306Z"
   },
   {
    "duration": 79,
    "start_time": "2025-02-03T18:00:52.601Z"
   },
   {
    "duration": 3,
    "start_time": "2025-02-03T18:00:52.682Z"
   },
   {
    "duration": 10,
    "start_time": "2025-02-03T18:00:52.687Z"
   },
   {
    "duration": 9,
    "start_time": "2025-02-03T18:00:52.698Z"
   },
   {
    "duration": 8,
    "start_time": "2025-02-03T18:00:52.708Z"
   },
   {
    "duration": 19,
    "start_time": "2025-02-03T18:00:52.718Z"
   },
   {
    "duration": 35,
    "start_time": "2025-02-03T18:00:52.739Z"
   },
   {
    "duration": 6,
    "start_time": "2025-02-03T18:00:52.776Z"
   },
   {
    "duration": 5,
    "start_time": "2025-02-03T18:00:52.784Z"
   },
   {
    "duration": 284,
    "start_time": "2025-02-03T18:00:52.791Z"
   },
   {
    "duration": 15,
    "start_time": "2025-02-03T18:00:53.077Z"
   },
   {
    "duration": 240,
    "start_time": "2025-02-03T18:00:53.171Z"
   },
   {
    "duration": 170,
    "start_time": "2025-02-03T18:00:53.413Z"
   },
   {
    "duration": 98,
    "start_time": "2025-02-03T18:00:53.586Z"
   },
   {
    "duration": 268,
    "start_time": "2025-02-03T18:00:53.692Z"
   },
   {
    "duration": 133,
    "start_time": "2025-02-03T18:00:53.962Z"
   },
   {
    "duration": 17,
    "start_time": "2025-02-03T18:00:54.171Z"
   },
   {
    "duration": 301,
    "start_time": "2025-02-03T18:00:54.193Z"
   },
   {
    "duration": 4,
    "start_time": "2025-02-03T18:00:54.496Z"
   },
   {
    "duration": 175,
    "start_time": "2025-02-03T18:00:54.502Z"
   },
   {
    "duration": 115,
    "start_time": "2025-02-03T18:00:54.678Z"
   },
   {
    "duration": 114,
    "start_time": "2025-02-03T18:00:54.795Z"
   },
   {
    "duration": 2,
    "start_time": "2025-02-03T18:00:54.911Z"
   },
   {
    "duration": 4,
    "start_time": "2025-02-03T18:00:54.915Z"
   },
   {
    "duration": 284,
    "start_time": "2025-02-03T18:00:54.921Z"
   },
   {
    "duration": 4,
    "start_time": "2025-02-03T18:00:55.207Z"
   },
   {
    "duration": 305,
    "start_time": "2025-02-03T18:00:55.212Z"
   },
   {
    "duration": 4,
    "start_time": "2025-02-03T18:00:55.519Z"
   },
   {
    "duration": 277,
    "start_time": "2025-02-03T18:00:55.525Z"
   },
   {
    "duration": 4,
    "start_time": "2025-02-03T18:00:55.804Z"
   },
   {
    "duration": 4,
    "start_time": "2025-02-03T18:00:55.810Z"
   },
   {
    "duration": 8,
    "start_time": "2025-02-03T18:09:14.492Z"
   },
   {
    "duration": 223,
    "start_time": "2025-02-03T18:11:10.961Z"
   },
   {
    "duration": 9,
    "start_time": "2025-02-03T18:17:26.783Z"
   },
   {
    "duration": 101,
    "start_time": "2025-02-03T18:24:33.416Z"
   },
   {
    "duration": 178,
    "start_time": "2025-02-03T18:24:42.612Z"
   },
   {
    "duration": 197,
    "start_time": "2025-02-03T18:25:15.391Z"
   },
   {
    "duration": 185,
    "start_time": "2025-02-03T18:25:24.104Z"
   },
   {
    "duration": 243,
    "start_time": "2025-02-03T18:25:37.258Z"
   },
   {
    "duration": 202,
    "start_time": "2025-02-03T18:25:47.386Z"
   },
   {
    "duration": 157,
    "start_time": "2025-02-03T18:25:52.863Z"
   },
   {
    "duration": 171,
    "start_time": "2025-02-03T18:26:28.045Z"
   },
   {
    "duration": 183,
    "start_time": "2025-02-03T18:27:37.618Z"
   },
   {
    "duration": 201,
    "start_time": "2025-02-03T18:28:23.112Z"
   },
   {
    "duration": 178,
    "start_time": "2025-02-03T18:28:54.650Z"
   },
   {
    "duration": 232,
    "start_time": "2025-02-03T18:29:01.286Z"
   },
   {
    "duration": 7,
    "start_time": "2025-02-03T18:39:16.457Z"
   },
   {
    "duration": 227,
    "start_time": "2025-02-03T18:39:20.875Z"
   },
   {
    "duration": 165,
    "start_time": "2025-02-03T18:39:46.841Z"
   },
   {
    "duration": 203,
    "start_time": "2025-02-03T18:40:00.585Z"
   },
   {
    "duration": 165,
    "start_time": "2025-02-03T18:40:21.323Z"
   },
   {
    "duration": 7,
    "start_time": "2025-02-03T18:41:00.484Z"
   },
   {
    "duration": 171,
    "start_time": "2025-02-03T18:41:04.123Z"
   },
   {
    "duration": 174,
    "start_time": "2025-02-03T18:41:15.817Z"
   },
   {
    "duration": 164,
    "start_time": "2025-02-03T18:41:25.936Z"
   },
   {
    "duration": 178,
    "start_time": "2025-02-03T18:44:12.397Z"
   },
   {
    "duration": 195,
    "start_time": "2025-02-03T18:44:27.482Z"
   },
   {
    "duration": 251,
    "start_time": "2025-02-03T18:44:42.855Z"
   },
   {
    "duration": 179,
    "start_time": "2025-02-03T18:50:08.711Z"
   },
   {
    "duration": 8,
    "start_time": "2025-02-03T18:50:20.389Z"
   },
   {
    "duration": 165,
    "start_time": "2025-02-03T18:50:23.744Z"
   },
   {
    "duration": 168,
    "start_time": "2025-02-03T18:50:42.542Z"
   },
   {
    "duration": 287,
    "start_time": "2025-02-03T18:50:49.773Z"
   },
   {
    "duration": 247,
    "start_time": "2025-02-03T18:50:53.609Z"
   },
   {
    "duration": 98,
    "start_time": "2025-02-03T18:52:32.756Z"
   },
   {
    "duration": 210,
    "start_time": "2025-02-03T18:53:33.280Z"
   },
   {
    "duration": 123,
    "start_time": "2025-02-03T18:54:07.125Z"
   },
   {
    "duration": 181,
    "start_time": "2025-02-03T18:54:39.608Z"
   },
   {
    "duration": 188,
    "start_time": "2025-02-03T18:55:18.100Z"
   },
   {
    "duration": 175,
    "start_time": "2025-02-03T18:56:56.815Z"
   },
   {
    "duration": 207,
    "start_time": "2025-02-03T18:57:49.788Z"
   },
   {
    "duration": 215,
    "start_time": "2025-02-03T18:58:01.083Z"
   },
   {
    "duration": 229,
    "start_time": "2025-02-03T18:58:57.085Z"
   },
   {
    "duration": 268,
    "start_time": "2025-02-03T18:59:03.628Z"
   },
   {
    "duration": 171,
    "start_time": "2025-02-03T19:00:33.361Z"
   },
   {
    "duration": 139,
    "start_time": "2025-02-03T19:03:44.471Z"
   },
   {
    "duration": 151,
    "start_time": "2025-02-03T19:04:21.628Z"
   },
   {
    "duration": 188,
    "start_time": "2025-02-03T19:04:34.291Z"
   },
   {
    "duration": 141,
    "start_time": "2025-02-03T19:06:08.560Z"
   },
   {
    "duration": 140,
    "start_time": "2025-02-03T19:06:35.766Z"
   },
   {
    "duration": 217,
    "start_time": "2025-02-03T19:08:50.282Z"
   },
   {
    "duration": 147,
    "start_time": "2025-02-03T19:09:03.262Z"
   },
   {
    "duration": 7,
    "start_time": "2025-02-03T19:09:13.310Z"
   },
   {
    "duration": 167,
    "start_time": "2025-02-03T19:09:22.046Z"
   },
   {
    "duration": 153,
    "start_time": "2025-02-03T19:09:39.168Z"
   },
   {
    "duration": 143,
    "start_time": "2025-02-03T19:09:54.540Z"
   },
   {
    "duration": 215,
    "start_time": "2025-02-03T19:10:11.083Z"
   },
   {
    "duration": 156,
    "start_time": "2025-02-03T19:12:25.931Z"
   },
   {
    "duration": 160,
    "start_time": "2025-02-03T19:12:46.932Z"
   },
   {
    "duration": 6,
    "start_time": "2025-02-03T19:14:09.572Z"
   },
   {
    "duration": 211,
    "start_time": "2025-02-03T19:14:14.483Z"
   },
   {
    "duration": 213,
    "start_time": "2025-02-03T19:14:20.775Z"
   },
   {
    "duration": 290,
    "start_time": "2025-02-03T19:14:35.900Z"
   },
   {
    "duration": 105,
    "start_time": "2025-02-03T19:16:24.701Z"
   },
   {
    "duration": 98,
    "start_time": "2025-02-03T19:17:23.523Z"
   },
   {
    "duration": 100,
    "start_time": "2025-02-03T19:17:52.133Z"
   },
   {
    "duration": 84,
    "start_time": "2025-02-03T19:17:58.082Z"
   },
   {
    "duration": 84,
    "start_time": "2025-02-03T19:19:17.255Z"
   },
   {
    "duration": 84,
    "start_time": "2025-02-03T19:19:29.977Z"
   },
   {
    "duration": 45,
    "start_time": "2025-02-03T19:27:14.043Z"
   },
   {
    "duration": 92,
    "start_time": "2025-02-03T19:27:32.188Z"
   },
   {
    "duration": 61,
    "start_time": "2025-02-03T19:27:39.121Z"
   },
   {
    "duration": 96,
    "start_time": "2025-02-03T19:28:18.983Z"
   },
   {
    "duration": 67,
    "start_time": "2025-02-03T19:29:08.917Z"
   },
   {
    "duration": 86,
    "start_time": "2025-02-03T19:30:39.094Z"
   },
   {
    "duration": 104,
    "start_time": "2025-02-03T19:31:57.978Z"
   },
   {
    "duration": 3,
    "start_time": "2025-02-03T19:34:53.597Z"
   },
   {
    "duration": 3,
    "start_time": "2025-02-03T19:34:55.411Z"
   },
   {
    "duration": 5,
    "start_time": "2025-02-03T19:35:06.290Z"
   },
   {
    "duration": 5,
    "start_time": "2025-02-03T19:35:23.382Z"
   },
   {
    "duration": 4,
    "start_time": "2025-02-03T19:35:36.332Z"
   },
   {
    "duration": 5,
    "start_time": "2025-02-03T19:35:37.964Z"
   },
   {
    "duration": 4,
    "start_time": "2025-02-03T19:57:28.208Z"
   },
   {
    "duration": 3,
    "start_time": "2025-02-03T19:57:35.281Z"
   },
   {
    "duration": 175,
    "start_time": "2025-02-03T19:57:43.266Z"
   },
   {
    "duration": 30,
    "start_time": "2025-02-03T19:57:55.219Z"
   },
   {
    "duration": 7,
    "start_time": "2025-02-03T19:58:08.432Z"
   },
   {
    "duration": 5,
    "start_time": "2025-02-03T19:58:43.219Z"
   },
   {
    "duration": 5,
    "start_time": "2025-02-03T19:59:19.381Z"
   },
   {
    "duration": 104,
    "start_time": "2025-02-03T19:59:39.256Z"
   },
   {
    "duration": 221,
    "start_time": "2025-02-03T20:00:44.726Z"
   },
   {
    "duration": 104,
    "start_time": "2025-02-03T20:02:28.708Z"
   },
   {
    "duration": 104,
    "start_time": "2025-02-03T20:03:39.886Z"
   },
   {
    "duration": 3,
    "start_time": "2025-02-03T20:07:03.871Z"
   },
   {
    "duration": 3,
    "start_time": "2025-02-03T20:07:13.424Z"
   },
   {
    "duration": 4,
    "start_time": "2025-02-03T20:07:15.837Z"
   },
   {
    "duration": 3,
    "start_time": "2025-02-03T20:07:22.618Z"
   },
   {
    "duration": 5,
    "start_time": "2025-02-03T20:07:24.678Z"
   },
   {
    "duration": 3,
    "start_time": "2025-02-03T20:08:13.507Z"
   },
   {
    "duration": 3,
    "start_time": "2025-02-03T20:08:22.709Z"
   },
   {
    "duration": 7,
    "start_time": "2025-02-03T20:08:26.150Z"
   },
   {
    "duration": 8,
    "start_time": "2025-02-03T20:08:56.234Z"
   },
   {
    "duration": 3,
    "start_time": "2025-02-03T20:09:00.093Z"
   },
   {
    "duration": 7,
    "start_time": "2025-02-03T20:09:01.023Z"
   },
   {
    "duration": 406,
    "start_time": "2025-02-03T20:09:35.364Z"
   },
   {
    "duration": 7,
    "start_time": "2025-02-03T20:14:05.923Z"
   },
   {
    "duration": 397,
    "start_time": "2025-02-03T20:14:07.760Z"
   },
   {
    "duration": 6,
    "start_time": "2025-02-03T20:19:01.759Z"
   },
   {
    "duration": 431,
    "start_time": "2025-02-03T20:19:03.588Z"
   },
   {
    "duration": 6,
    "start_time": "2025-02-03T21:01:01.159Z"
   },
   {
    "duration": 6,
    "start_time": "2025-02-03T21:01:02.881Z"
   },
   {
    "duration": 8,
    "start_time": "2025-02-03T21:01:30.735Z"
   },
   {
    "duration": 5,
    "start_time": "2025-02-03T21:01:58.717Z"
   },
   {
    "duration": 8,
    "start_time": "2025-02-03T21:02:29.709Z"
   },
   {
    "duration": 4,
    "start_time": "2025-02-03T21:02:44.895Z"
   },
   {
    "duration": 8,
    "start_time": "2025-02-03T21:02:58.042Z"
   },
   {
    "duration": 8,
    "start_time": "2025-02-03T21:02:59.699Z"
   },
   {
    "duration": 5,
    "start_time": "2025-02-03T21:03:08.938Z"
   },
   {
    "duration": 4,
    "start_time": "2025-02-03T21:03:09.523Z"
   },
   {
    "duration": 26,
    "start_time": "2025-02-03T21:03:27.164Z"
   },
   {
    "duration": 13,
    "start_time": "2025-02-03T21:03:36.349Z"
   },
   {
    "duration": 8,
    "start_time": "2025-02-03T21:04:53.280Z"
   },
   {
    "duration": 8,
    "start_time": "2025-02-03T21:04:56.861Z"
   },
   {
    "duration": 8,
    "start_time": "2025-02-03T21:04:58.415Z"
   },
   {
    "duration": 4,
    "start_time": "2025-02-03T21:05:18.385Z"
   },
   {
    "duration": 4,
    "start_time": "2025-02-03T21:05:18.987Z"
   },
   {
    "duration": 4,
    "start_time": "2025-02-03T21:05:19.557Z"
   },
   {
    "duration": 4,
    "start_time": "2025-02-03T21:05:50.494Z"
   },
   {
    "duration": 15,
    "start_time": "2025-02-03T21:06:03.351Z"
   },
   {
    "duration": 953,
    "start_time": "2025-02-03T21:06:22.235Z"
   },
   {
    "duration": 229,
    "start_time": "2025-02-03T21:06:23.191Z"
   },
   {
    "duration": 18,
    "start_time": "2025-02-03T21:06:23.422Z"
   },
   {
    "duration": 14,
    "start_time": "2025-02-03T21:06:23.443Z"
   },
   {
    "duration": 15,
    "start_time": "2025-02-03T21:06:23.471Z"
   },
   {
    "duration": 218,
    "start_time": "2025-02-03T21:06:23.487Z"
   },
   {
    "duration": 186,
    "start_time": "2025-02-03T21:06:23.707Z"
   },
   {
    "duration": 202,
    "start_time": "2025-02-03T21:06:23.895Z"
   },
   {
    "duration": 5,
    "start_time": "2025-02-03T21:06:24.099Z"
   },
   {
    "duration": 206,
    "start_time": "2025-02-03T21:06:24.107Z"
   },
   {
    "duration": 102,
    "start_time": "2025-02-03T21:06:24.315Z"
   },
   {
    "duration": 98,
    "start_time": "2025-02-03T21:06:24.419Z"
   },
   {
    "duration": 24,
    "start_time": "2025-02-03T21:06:24.519Z"
   },
   {
    "duration": 35,
    "start_time": "2025-02-03T21:06:24.544Z"
   },
   {
    "duration": 21,
    "start_time": "2025-02-03T21:06:24.581Z"
   },
   {
    "duration": 295,
    "start_time": "2025-02-03T21:06:24.605Z"
   },
   {
    "duration": 84,
    "start_time": "2025-02-03T21:06:24.902Z"
   },
   {
    "duration": 4,
    "start_time": "2025-02-03T21:06:24.988Z"
   },
   {
    "duration": 10,
    "start_time": "2025-02-03T21:06:24.993Z"
   },
   {
    "duration": 9,
    "start_time": "2025-02-03T21:06:25.005Z"
   },
   {
    "duration": 8,
    "start_time": "2025-02-03T21:06:25.016Z"
   },
   {
    "duration": 44,
    "start_time": "2025-02-03T21:06:25.026Z"
   },
   {
    "duration": 6,
    "start_time": "2025-02-03T21:06:25.072Z"
   },
   {
    "duration": 5,
    "start_time": "2025-02-03T21:06:25.079Z"
   },
   {
    "duration": 6,
    "start_time": "2025-02-03T21:06:25.085Z"
   },
   {
    "duration": 109,
    "start_time": "2025-02-03T21:06:25.093Z"
   },
   {
    "duration": 82,
    "start_time": "2025-02-03T21:06:25.204Z"
   },
   {
    "duration": 294,
    "start_time": "2025-02-03T21:06:25.291Z"
   },
   {
    "duration": 191,
    "start_time": "2025-02-03T21:06:25.587Z"
   },
   {
    "duration": 91,
    "start_time": "2025-02-03T21:06:25.780Z"
   },
   {
    "duration": 243,
    "start_time": "2025-02-03T21:06:25.873Z"
   },
   {
    "duration": 166,
    "start_time": "2025-02-03T21:06:26.118Z"
   },
   {
    "duration": 93,
    "start_time": "2025-02-03T21:06:26.287Z"
   },
   {
    "duration": 312,
    "start_time": "2025-02-03T21:06:26.384Z"
   },
   {
    "duration": 5,
    "start_time": "2025-02-03T21:06:26.698Z"
   },
   {
    "duration": 120,
    "start_time": "2025-02-03T21:06:26.705Z"
   },
   {
    "duration": 114,
    "start_time": "2025-02-03T21:06:26.827Z"
   },
   {
    "duration": 186,
    "start_time": "2025-02-03T21:06:26.943Z"
   },
   {
    "duration": 3,
    "start_time": "2025-02-03T21:06:27.131Z"
   },
   {
    "duration": 8,
    "start_time": "2025-02-03T21:06:27.136Z"
   },
   {
    "duration": 437,
    "start_time": "2025-02-03T21:06:27.146Z"
   },
   {
    "duration": 8,
    "start_time": "2025-02-03T21:06:27.585Z"
   },
   {
    "duration": 398,
    "start_time": "2025-02-03T21:06:27.597Z"
   },
   {
    "duration": 6,
    "start_time": "2025-02-03T21:06:27.997Z"
   },
   {
    "duration": 418,
    "start_time": "2025-02-03T21:06:28.005Z"
   },
   {
    "duration": 7,
    "start_time": "2025-02-03T21:06:28.424Z"
   },
   {
    "duration": 4,
    "start_time": "2025-02-03T21:06:28.432Z"
   },
   {
    "duration": 5,
    "start_time": "2025-02-03T21:06:28.438Z"
   },
   {
    "duration": 9,
    "start_time": "2025-02-03T21:10:01.514Z"
   },
   {
    "duration": 10,
    "start_time": "2025-02-03T21:10:12.231Z"
   },
   {
    "duration": 10,
    "start_time": "2025-02-03T21:11:47.666Z"
   },
   {
    "duration": 11,
    "start_time": "2025-02-03T21:12:14.739Z"
   },
   {
    "duration": 11,
    "start_time": "2025-02-03T21:12:46.522Z"
   },
   {
    "duration": 11,
    "start_time": "2025-02-03T21:12:57.690Z"
   },
   {
    "duration": 654,
    "start_time": "2025-02-03T21:15:33.643Z"
   },
   {
    "duration": 163,
    "start_time": "2025-02-04T17:01:28.225Z"
   },
   {
    "duration": 2684,
    "start_time": "2025-02-04T17:01:32.190Z"
   },
   {
    "duration": 309,
    "start_time": "2025-02-04T17:01:34.877Z"
   },
   {
    "duration": 21,
    "start_time": "2025-02-04T17:01:35.188Z"
   },
   {
    "duration": 17,
    "start_time": "2025-02-04T17:01:35.211Z"
   },
   {
    "duration": 16,
    "start_time": "2025-02-04T17:01:35.230Z"
   },
   {
    "duration": 226,
    "start_time": "2025-02-04T17:01:35.247Z"
   },
   {
    "duration": 177,
    "start_time": "2025-02-04T17:01:35.475Z"
   },
   {
    "duration": 191,
    "start_time": "2025-02-04T17:01:35.653Z"
   },
   {
    "duration": 6,
    "start_time": "2025-02-04T17:01:35.846Z"
   },
   {
    "duration": 197,
    "start_time": "2025-02-04T17:01:35.856Z"
   },
   {
    "duration": 102,
    "start_time": "2025-02-04T17:01:36.056Z"
   },
   {
    "duration": 99,
    "start_time": "2025-02-04T17:01:36.160Z"
   },
   {
    "duration": 21,
    "start_time": "2025-02-04T17:01:36.261Z"
   },
   {
    "duration": 37,
    "start_time": "2025-02-04T17:01:36.284Z"
   },
   {
    "duration": 20,
    "start_time": "2025-02-04T17:01:36.322Z"
   },
   {
    "duration": 290,
    "start_time": "2025-02-04T17:01:36.344Z"
   },
   {
    "duration": 83,
    "start_time": "2025-02-04T17:01:36.635Z"
   },
   {
    "duration": 3,
    "start_time": "2025-02-04T17:01:36.720Z"
   },
   {
    "duration": 10,
    "start_time": "2025-02-04T17:01:36.724Z"
   },
   {
    "duration": 9,
    "start_time": "2025-02-04T17:01:36.736Z"
   },
   {
    "duration": 8,
    "start_time": "2025-02-04T17:01:36.747Z"
   },
   {
    "duration": 17,
    "start_time": "2025-02-04T17:01:36.757Z"
   },
   {
    "duration": 36,
    "start_time": "2025-02-04T17:01:36.776Z"
   },
   {
    "duration": 5,
    "start_time": "2025-02-04T17:01:36.814Z"
   },
   {
    "duration": 6,
    "start_time": "2025-02-04T17:01:36.820Z"
   },
   {
    "duration": 184,
    "start_time": "2025-02-04T17:01:36.828Z"
   },
   {
    "duration": 18,
    "start_time": "2025-02-04T17:01:37.014Z"
   },
   {
    "duration": 319,
    "start_time": "2025-02-04T17:01:37.036Z"
   },
   {
    "duration": 161,
    "start_time": "2025-02-04T17:01:37.358Z"
   },
   {
    "duration": 94,
    "start_time": "2025-02-04T17:01:37.521Z"
   },
   {
    "duration": 239,
    "start_time": "2025-02-04T17:01:37.617Z"
   },
   {
    "duration": 173,
    "start_time": "2025-02-04T17:01:37.857Z"
   },
   {
    "duration": 88,
    "start_time": "2025-02-04T17:01:38.032Z"
   },
   {
    "duration": 336,
    "start_time": "2025-02-04T17:01:38.124Z"
   },
   {
    "duration": 4,
    "start_time": "2025-02-04T17:01:38.462Z"
   },
   {
    "duration": 120,
    "start_time": "2025-02-04T17:01:38.468Z"
   },
   {
    "duration": 116,
    "start_time": "2025-02-04T17:01:38.589Z"
   },
   {
    "duration": 110,
    "start_time": "2025-02-04T17:01:38.712Z"
   },
   {
    "duration": 3,
    "start_time": "2025-02-04T17:01:38.824Z"
   },
   {
    "duration": 7,
    "start_time": "2025-02-04T17:01:38.829Z"
   },
   {
    "duration": 437,
    "start_time": "2025-02-04T17:01:38.838Z"
   },
   {
    "duration": 6,
    "start_time": "2025-02-04T17:01:39.279Z"
   },
   {
    "duration": 413,
    "start_time": "2025-02-04T17:01:39.286Z"
   },
   {
    "duration": 15,
    "start_time": "2025-02-04T17:01:39.701Z"
   },
   {
    "duration": 411,
    "start_time": "2025-02-04T17:01:39.717Z"
   },
   {
    "duration": 17,
    "start_time": "2025-02-04T17:01:40.130Z"
   },
   {
    "duration": 4,
    "start_time": "2025-02-04T17:01:40.149Z"
   },
   {
    "duration": 6,
    "start_time": "2025-02-04T17:08:41.832Z"
   },
   {
    "duration": 113,
    "start_time": "2025-02-04T17:09:49.576Z"
   },
   {
    "duration": 7,
    "start_time": "2025-02-04T17:11:49.960Z"
   },
   {
    "duration": 162,
    "start_time": "2025-02-04T17:13:23.205Z"
   },
   {
    "duration": 134,
    "start_time": "2025-02-04T17:13:37.341Z"
   },
   {
    "duration": 132,
    "start_time": "2025-02-04T17:13:50.231Z"
   },
   {
    "duration": 126,
    "start_time": "2025-02-04T17:14:18.896Z"
   },
   {
    "duration": 149,
    "start_time": "2025-02-04T17:14:58.181Z"
   },
   {
    "duration": 130,
    "start_time": "2025-02-04T17:15:46.463Z"
   },
   {
    "duration": 121,
    "start_time": "2025-02-04T17:16:04.998Z"
   },
   {
    "duration": 18,
    "start_time": "2025-02-04T17:16:37.240Z"
   },
   {
    "duration": 118,
    "start_time": "2025-02-04T17:16:40.300Z"
   },
   {
    "duration": 137,
    "start_time": "2025-02-04T17:18:22.208Z"
   },
   {
    "duration": 219,
    "start_time": "2025-02-04T17:19:51.457Z"
   },
   {
    "duration": 15,
    "start_time": "2025-02-04T17:22:05.133Z"
   },
   {
    "duration": 225,
    "start_time": "2025-02-04T17:22:50.106Z"
   },
   {
    "duration": 43,
    "start_time": "2025-02-04T17:23:13.789Z"
   },
   {
    "duration": 108,
    "start_time": "2025-02-04T17:23:41.215Z"
   },
   {
    "duration": 113,
    "start_time": "2025-02-04T17:24:02.810Z"
   },
   {
    "duration": 8,
    "start_time": "2025-02-04T17:56:35.255Z"
   },
   {
    "duration": 7,
    "start_time": "2025-02-04T17:59:09.964Z"
   },
   {
    "duration": 242,
    "start_time": "2025-02-04T18:02:15.485Z"
   },
   {
    "duration": 977,
    "start_time": "2025-02-04T18:04:00.153Z"
   },
   {
    "duration": 250,
    "start_time": "2025-02-04T18:04:22.963Z"
   },
   {
    "duration": 245,
    "start_time": "2025-02-04T18:04:33.530Z"
   },
   {
    "duration": 245,
    "start_time": "2025-02-04T18:04:52.220Z"
   },
   {
    "duration": 233,
    "start_time": "2025-02-04T18:07:19.714Z"
   },
   {
    "duration": 373,
    "start_time": "2025-02-04T18:07:45.256Z"
   },
   {
    "duration": 205,
    "start_time": "2025-02-04T18:08:13.556Z"
   },
   {
    "duration": 188,
    "start_time": "2025-02-04T18:08:19.618Z"
   },
   {
    "duration": 221,
    "start_time": "2025-02-04T18:08:35.409Z"
   },
   {
    "duration": 186,
    "start_time": "2025-02-04T18:08:42.674Z"
   },
   {
    "duration": 191,
    "start_time": "2025-02-04T18:09:34.194Z"
   },
   {
    "duration": 219,
    "start_time": "2025-02-04T18:10:11.202Z"
   },
   {
    "duration": 199,
    "start_time": "2025-02-04T18:10:40.013Z"
   },
   {
    "duration": 189,
    "start_time": "2025-02-04T18:10:59.383Z"
   },
   {
    "duration": 331,
    "start_time": "2025-02-04T18:11:05.558Z"
   },
   {
    "duration": 252,
    "start_time": "2025-02-04T18:11:20.890Z"
   },
   {
    "duration": 192,
    "start_time": "2025-02-04T18:11:29.651Z"
   },
   {
    "duration": 8,
    "start_time": "2025-02-04T18:11:39.121Z"
   },
   {
    "duration": 238,
    "start_time": "2025-02-04T18:11:45.963Z"
   },
   {
    "duration": 204,
    "start_time": "2025-02-04T18:11:53.355Z"
   },
   {
    "duration": 195,
    "start_time": "2025-02-04T18:12:03.475Z"
   },
   {
    "duration": 220,
    "start_time": "2025-02-04T18:12:16.874Z"
   },
   {
    "duration": 198,
    "start_time": "2025-02-04T18:12:35.944Z"
   },
   {
    "duration": 193,
    "start_time": "2025-02-04T18:14:13.532Z"
   },
   {
    "duration": 339,
    "start_time": "2025-02-04T18:14:19.027Z"
   },
   {
    "duration": 196,
    "start_time": "2025-02-04T18:14:43.610Z"
   },
   {
    "duration": 199,
    "start_time": "2025-02-04T18:14:49.212Z"
   },
   {
    "duration": 194,
    "start_time": "2025-02-04T18:16:18.062Z"
   },
   {
    "duration": 198,
    "start_time": "2025-02-04T18:16:54.816Z"
   },
   {
    "duration": 193,
    "start_time": "2025-02-04T18:17:11.017Z"
   },
   {
    "duration": 194,
    "start_time": "2025-02-04T18:17:24.001Z"
   },
   {
    "duration": 195,
    "start_time": "2025-02-04T18:18:02.631Z"
   },
   {
    "duration": 214,
    "start_time": "2025-02-04T18:18:06.980Z"
   },
   {
    "duration": 349,
    "start_time": "2025-02-04T18:18:29.883Z"
   },
   {
    "duration": 193,
    "start_time": "2025-02-04T18:18:49.338Z"
   },
   {
    "duration": 162,
    "start_time": "2025-02-04T18:21:16.323Z"
   },
   {
    "duration": 128,
    "start_time": "2025-02-04T18:21:32.201Z"
   },
   {
    "duration": 139,
    "start_time": "2025-02-04T18:21:36.605Z"
   },
   {
    "duration": 152,
    "start_time": "2025-02-04T18:21:42.221Z"
   },
   {
    "duration": 128,
    "start_time": "2025-02-04T18:21:48.173Z"
   },
   {
    "duration": 6,
    "start_time": "2025-02-04T18:22:12.959Z"
   },
   {
    "duration": 128,
    "start_time": "2025-02-04T18:22:15.587Z"
   },
   {
    "duration": 131,
    "start_time": "2025-02-04T18:22:21.358Z"
   },
   {
    "duration": 138,
    "start_time": "2025-02-04T18:23:03.675Z"
   },
   {
    "duration": 137,
    "start_time": "2025-02-04T18:23:38.583Z"
   },
   {
    "duration": 140,
    "start_time": "2025-02-04T18:24:03.347Z"
   },
   {
    "duration": 144,
    "start_time": "2025-02-04T18:24:49.711Z"
   },
   {
    "duration": 145,
    "start_time": "2025-02-04T18:25:22.905Z"
   },
   {
    "duration": 136,
    "start_time": "2025-02-04T18:25:28.255Z"
   },
   {
    "duration": 128,
    "start_time": "2025-02-04T18:25:53.841Z"
   },
   {
    "duration": 125,
    "start_time": "2025-02-04T18:26:52.342Z"
   },
   {
    "duration": 125,
    "start_time": "2025-02-04T18:27:04.256Z"
   },
   {
    "duration": 128,
    "start_time": "2025-02-04T18:27:15.871Z"
   },
   {
    "duration": 123,
    "start_time": "2025-02-04T18:27:23.631Z"
   },
   {
    "duration": 259,
    "start_time": "2025-02-04T18:27:45.576Z"
   },
   {
    "duration": 121,
    "start_time": "2025-02-04T18:28:00.893Z"
   },
   {
    "duration": 131,
    "start_time": "2025-02-04T18:28:10.328Z"
   },
   {
    "duration": 132,
    "start_time": "2025-02-04T18:28:20.641Z"
   },
   {
    "duration": 130,
    "start_time": "2025-02-04T18:28:27.840Z"
   },
   {
    "duration": 124,
    "start_time": "2025-02-04T18:28:41.076Z"
   },
   {
    "duration": 128,
    "start_time": "2025-02-04T18:29:28.271Z"
   },
   {
    "duration": 138,
    "start_time": "2025-02-04T18:29:55.201Z"
   },
   {
    "duration": 135,
    "start_time": "2025-02-04T18:30:06.049Z"
   },
   {
    "duration": 131,
    "start_time": "2025-02-04T18:30:31.483Z"
   },
   {
    "duration": 130,
    "start_time": "2025-02-04T18:31:18.537Z"
   },
   {
    "duration": 135,
    "start_time": "2025-02-04T18:31:30.007Z"
   },
   {
    "duration": 122,
    "start_time": "2025-02-04T18:31:40.565Z"
   },
   {
    "duration": 129,
    "start_time": "2025-02-04T18:31:53.369Z"
   },
   {
    "duration": 137,
    "start_time": "2025-02-04T18:35:44.700Z"
   },
   {
    "duration": 108,
    "start_time": "2025-02-04T18:35:54.237Z"
   },
   {
    "duration": 141,
    "start_time": "2025-02-04T18:35:59.180Z"
   },
   {
    "duration": 1014,
    "start_time": "2025-02-04T18:40:06.245Z"
   },
   {
    "duration": 232,
    "start_time": "2025-02-04T18:40:07.262Z"
   },
   {
    "duration": 27,
    "start_time": "2025-02-04T18:40:07.495Z"
   },
   {
    "duration": 14,
    "start_time": "2025-02-04T18:40:07.524Z"
   },
   {
    "duration": 15,
    "start_time": "2025-02-04T18:40:07.539Z"
   },
   {
    "duration": 162,
    "start_time": "2025-02-04T18:40:07.556Z"
   },
   {
    "duration": 134,
    "start_time": "2025-02-04T18:40:07.719Z"
   },
   {
    "duration": 133,
    "start_time": "2025-02-04T18:40:07.856Z"
   },
   {
    "duration": 5,
    "start_time": "2025-02-04T18:40:07.991Z"
   },
   {
    "duration": 158,
    "start_time": "2025-02-04T18:40:08.011Z"
   },
   {
    "duration": 99,
    "start_time": "2025-02-04T18:40:08.170Z"
   },
   {
    "duration": 94,
    "start_time": "2025-02-04T18:40:08.272Z"
   },
   {
    "duration": 22,
    "start_time": "2025-02-04T18:40:08.368Z"
   },
   {
    "duration": 29,
    "start_time": "2025-02-04T18:40:08.393Z"
   },
   {
    "duration": 21,
    "start_time": "2025-02-04T18:40:08.423Z"
   },
   {
    "duration": 299,
    "start_time": "2025-02-04T18:40:08.445Z"
   },
   {
    "duration": 80,
    "start_time": "2025-02-04T18:40:08.745Z"
   },
   {
    "duration": 3,
    "start_time": "2025-02-04T18:40:08.827Z"
   },
   {
    "duration": 9,
    "start_time": "2025-02-04T18:40:08.832Z"
   },
   {
    "duration": 8,
    "start_time": "2025-02-04T18:40:08.843Z"
   },
   {
    "duration": 9,
    "start_time": "2025-02-04T18:40:08.853Z"
   },
   {
    "duration": 18,
    "start_time": "2025-02-04T18:40:08.863Z"
   },
   {
    "duration": 5,
    "start_time": "2025-02-04T18:40:08.911Z"
   },
   {
    "duration": 5,
    "start_time": "2025-02-04T18:40:08.918Z"
   },
   {
    "duration": 6,
    "start_time": "2025-02-04T18:40:08.924Z"
   },
   {
    "duration": 181,
    "start_time": "2025-02-04T18:40:08.932Z"
   },
   {
    "duration": 17,
    "start_time": "2025-02-04T18:40:09.115Z"
   },
   {
    "duration": 0,
    "start_time": "2025-02-04T18:40:09.135Z"
   },
   {
    "duration": 0,
    "start_time": "2025-02-04T18:40:09.136Z"
   },
   {
    "duration": 0,
    "start_time": "2025-02-04T18:40:09.137Z"
   },
   {
    "duration": 0,
    "start_time": "2025-02-04T18:40:09.138Z"
   },
   {
    "duration": 0,
    "start_time": "2025-02-04T18:40:09.139Z"
   },
   {
    "duration": 0,
    "start_time": "2025-02-04T18:40:09.212Z"
   },
   {
    "duration": 0,
    "start_time": "2025-02-04T18:40:09.213Z"
   },
   {
    "duration": 0,
    "start_time": "2025-02-04T18:40:09.214Z"
   },
   {
    "duration": 0,
    "start_time": "2025-02-04T18:40:09.216Z"
   },
   {
    "duration": 0,
    "start_time": "2025-02-04T18:40:09.216Z"
   },
   {
    "duration": 0,
    "start_time": "2025-02-04T18:40:09.218Z"
   },
   {
    "duration": 0,
    "start_time": "2025-02-04T18:40:09.219Z"
   },
   {
    "duration": 0,
    "start_time": "2025-02-04T18:40:09.220Z"
   },
   {
    "duration": 0,
    "start_time": "2025-02-04T18:40:09.221Z"
   },
   {
    "duration": 0,
    "start_time": "2025-02-04T18:40:09.223Z"
   },
   {
    "duration": 0,
    "start_time": "2025-02-04T18:40:09.224Z"
   },
   {
    "duration": 0,
    "start_time": "2025-02-04T18:40:09.225Z"
   },
   {
    "duration": 0,
    "start_time": "2025-02-04T18:40:09.226Z"
   },
   {
    "duration": 0,
    "start_time": "2025-02-04T18:40:09.227Z"
   },
   {
    "duration": 0,
    "start_time": "2025-02-04T18:40:09.228Z"
   },
   {
    "duration": 1070,
    "start_time": "2025-02-05T03:29:24.377Z"
   },
   {
    "duration": 304,
    "start_time": "2025-02-05T03:29:25.449Z"
   },
   {
    "duration": 17,
    "start_time": "2025-02-05T03:29:25.754Z"
   },
   {
    "duration": 14,
    "start_time": "2025-02-05T03:29:25.773Z"
   },
   {
    "duration": 24,
    "start_time": "2025-02-05T03:29:25.790Z"
   },
   {
    "duration": 172,
    "start_time": "2025-02-05T03:29:25.815Z"
   },
   {
    "duration": 132,
    "start_time": "2025-02-05T03:29:25.989Z"
   },
   {
    "duration": 136,
    "start_time": "2025-02-05T03:29:26.123Z"
   },
   {
    "duration": 90,
    "start_time": "2025-02-05T03:29:45.434Z"
   },
   {
    "duration": 92,
    "start_time": "2025-02-05T03:30:15.160Z"
   },
   {
    "duration": 94,
    "start_time": "2025-02-05T03:30:46.169Z"
   },
   {
    "duration": 97,
    "start_time": "2025-02-05T03:30:57.698Z"
   },
   {
    "duration": 98,
    "start_time": "2025-02-05T03:31:19.546Z"
   },
   {
    "duration": 96,
    "start_time": "2025-02-05T03:31:53.896Z"
   },
   {
    "duration": 93,
    "start_time": "2025-02-05T03:32:31.418Z"
   },
   {
    "duration": 3,
    "start_time": "2025-02-05T03:35:33.983Z"
   },
   {
    "duration": 227,
    "start_time": "2025-02-05T03:35:33.988Z"
   },
   {
    "duration": 17,
    "start_time": "2025-02-05T03:35:34.216Z"
   },
   {
    "duration": 15,
    "start_time": "2025-02-05T03:35:34.235Z"
   },
   {
    "duration": 15,
    "start_time": "2025-02-05T03:35:34.251Z"
   },
   {
    "duration": 161,
    "start_time": "2025-02-05T03:35:34.267Z"
   },
   {
    "duration": 203,
    "start_time": "2025-02-05T03:35:34.429Z"
   },
   {
    "duration": 130,
    "start_time": "2025-02-05T03:35:34.634Z"
   },
   {
    "duration": 5,
    "start_time": "2025-02-05T03:35:34.766Z"
   },
   {
    "duration": 161,
    "start_time": "2025-02-05T03:35:34.774Z"
   },
   {
    "duration": 112,
    "start_time": "2025-02-05T03:35:34.937Z"
   },
   {
    "duration": 82,
    "start_time": "2025-02-05T03:35:35.050Z"
   },
   {
    "duration": 21,
    "start_time": "2025-02-05T03:35:35.135Z"
   },
   {
    "duration": 18,
    "start_time": "2025-02-05T03:35:35.158Z"
   },
   {
    "duration": 43,
    "start_time": "2025-02-05T03:35:35.178Z"
   },
   {
    "duration": 403,
    "start_time": "2025-02-05T03:35:35.224Z"
   },
   {
    "duration": 176,
    "start_time": "2025-02-05T03:35:35.629Z"
   },
   {
    "duration": 3,
    "start_time": "2025-02-05T03:35:35.807Z"
   },
   {
    "duration": 10,
    "start_time": "2025-02-05T03:35:35.811Z"
   },
   {
    "duration": 8,
    "start_time": "2025-02-05T03:35:35.823Z"
   },
   {
    "duration": 8,
    "start_time": "2025-02-05T03:35:35.833Z"
   },
   {
    "duration": 72,
    "start_time": "2025-02-05T03:35:35.843Z"
   },
   {
    "duration": 5,
    "start_time": "2025-02-05T03:35:35.916Z"
   },
   {
    "duration": 5,
    "start_time": "2025-02-05T03:35:35.923Z"
   },
   {
    "duration": 7,
    "start_time": "2025-02-05T03:35:35.929Z"
   },
   {
    "duration": 271,
    "start_time": "2025-02-05T03:35:35.937Z"
   },
   {
    "duration": 13,
    "start_time": "2025-02-05T03:35:36.213Z"
   },
   {
    "duration": 0,
    "start_time": "2025-02-05T03:35:36.232Z"
   },
   {
    "duration": 0,
    "start_time": "2025-02-05T03:35:36.232Z"
   },
   {
    "duration": 0,
    "start_time": "2025-02-05T03:35:36.233Z"
   },
   {
    "duration": 0,
    "start_time": "2025-02-05T03:35:36.234Z"
   },
   {
    "duration": 0,
    "start_time": "2025-02-05T03:35:36.234Z"
   },
   {
    "duration": 0,
    "start_time": "2025-02-05T03:35:36.235Z"
   },
   {
    "duration": 0,
    "start_time": "2025-02-05T03:35:36.235Z"
   },
   {
    "duration": 0,
    "start_time": "2025-02-05T03:35:36.236Z"
   },
   {
    "duration": 2,
    "start_time": "2025-02-05T03:35:36.304Z"
   },
   {
    "duration": 1,
    "start_time": "2025-02-05T03:35:36.307Z"
   },
   {
    "duration": 0,
    "start_time": "2025-02-05T03:35:36.309Z"
   },
   {
    "duration": 0,
    "start_time": "2025-02-05T03:35:36.310Z"
   },
   {
    "duration": 0,
    "start_time": "2025-02-05T03:35:36.311Z"
   },
   {
    "duration": 0,
    "start_time": "2025-02-05T03:35:36.312Z"
   },
   {
    "duration": 0,
    "start_time": "2025-02-05T03:35:36.313Z"
   },
   {
    "duration": 0,
    "start_time": "2025-02-05T03:35:36.314Z"
   },
   {
    "duration": 0,
    "start_time": "2025-02-05T03:35:36.316Z"
   },
   {
    "duration": 0,
    "start_time": "2025-02-05T03:35:36.319Z"
   },
   {
    "duration": 0,
    "start_time": "2025-02-05T03:35:36.320Z"
   },
   {
    "duration": 0,
    "start_time": "2025-02-05T03:35:36.321Z"
   },
   {
    "duration": 23,
    "start_time": "2025-02-05T03:35:54.937Z"
   },
   {
    "duration": 175,
    "start_time": "2025-02-05T03:35:55.973Z"
   },
   {
    "duration": 133,
    "start_time": "2025-02-05T03:35:59.674Z"
   },
   {
    "duration": 16,
    "start_time": "2025-02-05T03:35:59.809Z"
   },
   {
    "duration": 299,
    "start_time": "2025-02-05T03:35:59.827Z"
   },
   {
    "duration": 179,
    "start_time": "2025-02-05T03:36:00.128Z"
   },
   {
    "duration": 17,
    "start_time": "2025-02-05T03:36:00.309Z"
   },
   {
    "duration": 229,
    "start_time": "2025-02-05T03:36:00.407Z"
   },
   {
    "duration": 5,
    "start_time": "2025-02-05T03:36:00.638Z"
   },
   {
    "duration": 266,
    "start_time": "2025-02-05T03:36:00.645Z"
   },
   {
    "duration": 226,
    "start_time": "2025-02-05T03:36:00.913Z"
   },
   {
    "duration": 272,
    "start_time": "2025-02-05T03:36:01.142Z"
   },
   {
    "duration": 3,
    "start_time": "2025-02-05T03:36:01.416Z"
   },
   {
    "duration": 7,
    "start_time": "2025-02-05T03:36:01.421Z"
   },
   {
    "duration": 445,
    "start_time": "2025-02-05T03:36:01.429Z"
   },
   {
    "duration": 5,
    "start_time": "2025-02-05T03:36:01.876Z"
   },
   {
    "duration": 416,
    "start_time": "2025-02-05T03:36:01.883Z"
   },
   {
    "duration": 8,
    "start_time": "2025-02-05T03:36:02.301Z"
   },
   {
    "duration": 434,
    "start_time": "2025-02-05T03:36:02.312Z"
   },
   {
    "duration": 4,
    "start_time": "2025-02-05T03:36:02.748Z"
   },
   {
    "duration": 4,
    "start_time": "2025-02-05T03:36:02.753Z"
   },
   {
    "duration": 1200,
    "start_time": "2025-02-05T03:38:38.266Z"
   },
   {
    "duration": 1218,
    "start_time": "2025-02-05T03:38:48.723Z"
   },
   {
    "duration": 1211,
    "start_time": "2025-02-05T03:38:55.483Z"
   },
   {
    "duration": 1246,
    "start_time": "2025-02-05T03:39:02.060Z"
   },
   {
    "duration": 5,
    "start_time": "2025-02-05T03:39:29.950Z"
   },
   {
    "duration": 8,
    "start_time": "2025-02-05T03:41:53.468Z"
   },
   {
    "duration": 4,
    "start_time": "2025-02-05T03:42:22.752Z"
   },
   {
    "duration": 1215,
    "start_time": "2025-02-05T03:43:21.860Z"
   },
   {
    "duration": 404,
    "start_time": "2025-02-05T03:44:10.647Z"
   },
   {
    "duration": 413,
    "start_time": "2025-02-05T03:45:03.860Z"
   },
   {
    "duration": 5,
    "start_time": "2025-02-05T03:47:04.770Z"
   },
   {
    "duration": 5,
    "start_time": "2025-02-05T03:47:09.205Z"
   },
   {
    "duration": 8,
    "start_time": "2025-02-05T03:47:17.372Z"
   },
   {
    "duration": 830,
    "start_time": "2025-02-05T03:47:28.924Z"
   },
   {
    "duration": 69,
    "start_time": "2025-02-05T03:48:19.163Z"
   },
   {
    "duration": 69,
    "start_time": "2025-02-05T03:48:48.926Z"
   },
   {
    "duration": 70,
    "start_time": "2025-02-05T03:49:15.780Z"
   },
   {
    "duration": 6,
    "start_time": "2025-02-05T03:50:10.301Z"
   },
   {
    "duration": 859,
    "start_time": "2025-02-05T03:51:36.523Z"
   },
   {
    "duration": 2557,
    "start_time": "2025-02-05T03:51:53.390Z"
   },
   {
    "duration": 3,
    "start_time": "2025-02-05T03:53:06.252Z"
   },
   {
    "duration": 14,
    "start_time": "2025-02-05T03:53:31.572Z"
   },
   {
    "duration": 3,
    "start_time": "2025-02-05T03:54:11.203Z"
   },
   {
    "duration": 22,
    "start_time": "2025-02-05T03:54:43.742Z"
   },
   {
    "duration": 2601,
    "start_time": "2025-02-05T03:55:10.372Z"
   },
   {
    "duration": 2531,
    "start_time": "2025-02-05T03:56:48.713Z"
   }
  ],
  "kernelspec": {
   "display_name": "Python [conda env:base] *",
   "language": "python",
   "name": "conda-base-py"
  },
  "language_info": {
   "codemirror_mode": {
    "name": "ipython",
    "version": 3
   },
   "file_extension": ".py",
   "mimetype": "text/x-python",
   "name": "python",
   "nbconvert_exporter": "python",
   "pygments_lexer": "ipython3",
   "version": "3.12.3"
  },
  "toc": {
   "base_numbering": 1,
   "nav_menu": {},
   "number_sections": true,
   "sideBar": true,
   "skip_h1_title": true,
   "title_cell": "Table of Contents",
   "title_sidebar": "Contents",
   "toc_cell": false,
   "toc_position": {
    "height": "calc(100% - 180px)",
    "left": "10px",
    "top": "150px",
    "width": "251px"
   },
   "toc_section_display": true,
   "toc_window_display": true
  }
 },
 "nbformat": 4,
 "nbformat_minor": 4
}
