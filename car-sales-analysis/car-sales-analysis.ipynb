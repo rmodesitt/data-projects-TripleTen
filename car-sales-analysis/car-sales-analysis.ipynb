{
 "cells": [
  {
   "cell_type": "markdown",
   "metadata": {},
   "source": [
    "# Car sales analysis and modeling"
   ]
  },
  {
   "cell_type": "markdown",
   "metadata": {},
   "source": [
    "Rusty Bargain used car sales service wants to develop an app to attract new customers. In the app, an important feature includes quickly finding out the market value of a customer's car. The goal was to use used car historical data to build a model  to determine the value of a used car, so the customer is informed how much they might make on the market. Three models were originally created to test the quality of the price predictions, but also the time it takes the model to gather the predictions. A evaluation comparison was done on the three models, and the best performing model was used for the final evaluation."
   ]
  },
  {
   "cell_type": "markdown",
   "metadata": {},
   "source": [
    "## Data preparation"
   ]
  },
  {
   "cell_type": "markdown",
   "metadata": {},
   "source": [
    "### Importing libraries"
   ]
  },
  {
   "cell_type": "code",
   "execution_count": 1,
   "metadata": {},
   "outputs": [],
   "source": [
    "# Load libraries and modules\n",
    "import pandas as pd\n",
    "import numpy as np\n",
    "import matplotlib.pyplot as plt\n",
    "import seaborn as sns\n",
    "from sklearn.model_selection import train_test_split\n",
    "from sklearn.preprocessing import OneHotEncoder\n",
    "from sklearn.preprocessing import StandardScaler\n",
    "from sklearn.metrics import mean_squared_error\n",
    "from sklearn.tree import DecisionTreeRegressor\n",
    "from sklearn import tree\n",
    "from sklearn.model_selection import GridSearchCV\n",
    "from collections import defaultdict\n",
    "from functools import partial\n",
    "from sklearn.linear_model import LinearRegression\n",
    "from sklearn.ensemble import RandomForestRegressor\n",
    "import lightgbm as lgb\n",
    "import time"
   ]
  },
  {
   "cell_type": "markdown",
   "metadata": {},
   "source": [
    "### Data preprocessing\n",
    "\n",
    "1. <b>Convert data types:</b>\n",
    "\n",
    "    - There are three date fields in the dataset: <b><mark>DateCrawled</mark></b>, <b><mark>DateCreated</mark></b>, and <b><mark>LastSeen</mark></b>.  Since the three fields are more than likely not features, it might not be required to convert the date fields to a *dateime* data type, but just a precaution the date fields were converted.<br><br>\n",
    "\n",
    "2. <b>Missing values:</b>\n",
    "\n",
    "    - There are five fields that contained missing values: <b><mark>VehicleType</mark></b>, <b><mark>Gearbox</mark></b>, <b><mark>Model</mark></b>, <b><mark>FuelType</mark></b>, and <b><mark>NotRepaired</mark></b>. Given the amount of missing values - roughly ~180k (not including potential overlap) - it was decided to replace the missing values with the string value <b>Unknown</b> so that the records could be preserved for model training.<br><br>\n",
    " \n",
    "3. <b>Duplicate values:</b>\n",
    "\n",
    "    - There are 262 duplicate rows in the dataset. These records have been removed. Also, there was no need to identify duplicate values of a particular field because all such instances would be considered valid duplicates. For example, it is possible to have two used cars with the brand Audi, same fuel type, price, etc.<br><br>\n",
    "\n",
    "4. <b>Remove outliers / bad data:</b>\n",
    "\n",
    "    - The <b><mark>RegistrationYear</mark></b> field had many years that did not make logical sense and weren't even valid years. It was decided that valid years had to be in the range of 1800 to 2019. There were 171 records that fell beyond this range. These records were removed from the dataset."
   ]
  },
  {
   "cell_type": "markdown",
   "metadata": {},
   "source": [
    "#### Data overview"
   ]
  },
  {
   "cell_type": "code",
   "execution_count": 2,
   "metadata": {},
   "outputs": [],
   "source": [
    "# Load data into a pandas DataFrame\n",
    "url = 'https://raw.githubusercontent.com/rmodesitt/data-projects-TripleTen/refs/heads/main/car-sales-analysis/car_data.csv'\n",
    "car_df = pd.read_csv(url)"
   ]
  },
  {
   "cell_type": "code",
   "execution_count": 3,
   "metadata": {},
   "outputs": [
    {
     "name": "stdout",
     "output_type": "stream",
     "text": [
      "<class 'pandas.core.frame.DataFrame'>\n",
      "RangeIndex: 354369 entries, 0 to 354368\n",
      "Data columns (total 16 columns):\n",
      " #   Column             Non-Null Count   Dtype \n",
      "---  ------             --------------   ----- \n",
      " 0   DateCrawled        354369 non-null  object\n",
      " 1   Price              354369 non-null  int64 \n",
      " 2   VehicleType        316879 non-null  object\n",
      " 3   RegistrationYear   354369 non-null  int64 \n",
      " 4   Gearbox            334536 non-null  object\n",
      " 5   Power              354369 non-null  int64 \n",
      " 6   Model              334664 non-null  object\n",
      " 7   Mileage            354369 non-null  int64 \n",
      " 8   RegistrationMonth  354369 non-null  int64 \n",
      " 9   FuelType           321474 non-null  object\n",
      " 10  Brand              354369 non-null  object\n",
      " 11  NotRepaired        283215 non-null  object\n",
      " 12  DateCreated        354369 non-null  object\n",
      " 13  NumberOfPictures   354369 non-null  int64 \n",
      " 14  PostalCode         354369 non-null  int64 \n",
      " 15  LastSeen           354369 non-null  object\n",
      "dtypes: int64(7), object(9)\n",
      "memory usage: 43.3+ MB\n"
     ]
    },
    {
     "data": {
      "text/plain": [
       "None"
      ]
     },
     "metadata": {},
     "output_type": "display_data"
    },
    {
     "data": {
      "text/html": [
       "<div>\n",
       "<style scoped>\n",
       "    .dataframe tbody tr th:only-of-type {\n",
       "        vertical-align: middle;\n",
       "    }\n",
       "\n",
       "    .dataframe tbody tr th {\n",
       "        vertical-align: top;\n",
       "    }\n",
       "\n",
       "    .dataframe thead th {\n",
       "        text-align: right;\n",
       "    }\n",
       "</style>\n",
       "<table border=\"1\" class=\"dataframe\">\n",
       "  <thead>\n",
       "    <tr style=\"text-align: right;\">\n",
       "      <th></th>\n",
       "      <th>DateCrawled</th>\n",
       "      <th>Price</th>\n",
       "      <th>VehicleType</th>\n",
       "      <th>RegistrationYear</th>\n",
       "      <th>Gearbox</th>\n",
       "      <th>Power</th>\n",
       "      <th>Model</th>\n",
       "      <th>Mileage</th>\n",
       "      <th>RegistrationMonth</th>\n",
       "      <th>FuelType</th>\n",
       "      <th>Brand</th>\n",
       "      <th>NotRepaired</th>\n",
       "      <th>DateCreated</th>\n",
       "      <th>NumberOfPictures</th>\n",
       "      <th>PostalCode</th>\n",
       "      <th>LastSeen</th>\n",
       "    </tr>\n",
       "  </thead>\n",
       "  <tbody>\n",
       "    <tr>\n",
       "      <th>0</th>\n",
       "      <td>24/03/2016 11:52</td>\n",
       "      <td>480</td>\n",
       "      <td>NaN</td>\n",
       "      <td>1993</td>\n",
       "      <td>manual</td>\n",
       "      <td>0</td>\n",
       "      <td>golf</td>\n",
       "      <td>150000</td>\n",
       "      <td>0</td>\n",
       "      <td>petrol</td>\n",
       "      <td>volkswagen</td>\n",
       "      <td>NaN</td>\n",
       "      <td>24/03/2016 00:00</td>\n",
       "      <td>0</td>\n",
       "      <td>70435</td>\n",
       "      <td>07/04/2016 03:16</td>\n",
       "    </tr>\n",
       "    <tr>\n",
       "      <th>1</th>\n",
       "      <td>24/03/2016 10:58</td>\n",
       "      <td>18300</td>\n",
       "      <td>coupe</td>\n",
       "      <td>2011</td>\n",
       "      <td>manual</td>\n",
       "      <td>190</td>\n",
       "      <td>NaN</td>\n",
       "      <td>125000</td>\n",
       "      <td>5</td>\n",
       "      <td>gasoline</td>\n",
       "      <td>audi</td>\n",
       "      <td>yes</td>\n",
       "      <td>24/03/2016 00:00</td>\n",
       "      <td>0</td>\n",
       "      <td>66954</td>\n",
       "      <td>07/04/2016 01:46</td>\n",
       "    </tr>\n",
       "    <tr>\n",
       "      <th>2</th>\n",
       "      <td>14/03/2016 12:52</td>\n",
       "      <td>9800</td>\n",
       "      <td>suv</td>\n",
       "      <td>2004</td>\n",
       "      <td>auto</td>\n",
       "      <td>163</td>\n",
       "      <td>grand</td>\n",
       "      <td>125000</td>\n",
       "      <td>8</td>\n",
       "      <td>gasoline</td>\n",
       "      <td>jeep</td>\n",
       "      <td>NaN</td>\n",
       "      <td>14/03/2016 00:00</td>\n",
       "      <td>0</td>\n",
       "      <td>90480</td>\n",
       "      <td>05/04/2016 12:47</td>\n",
       "    </tr>\n",
       "    <tr>\n",
       "      <th>3</th>\n",
       "      <td>17/03/2016 16:54</td>\n",
       "      <td>1500</td>\n",
       "      <td>small</td>\n",
       "      <td>2001</td>\n",
       "      <td>manual</td>\n",
       "      <td>75</td>\n",
       "      <td>golf</td>\n",
       "      <td>150000</td>\n",
       "      <td>6</td>\n",
       "      <td>petrol</td>\n",
       "      <td>volkswagen</td>\n",
       "      <td>no</td>\n",
       "      <td>17/03/2016 00:00</td>\n",
       "      <td>0</td>\n",
       "      <td>91074</td>\n",
       "      <td>17/03/2016 17:40</td>\n",
       "    </tr>\n",
       "    <tr>\n",
       "      <th>4</th>\n",
       "      <td>31/03/2016 17:25</td>\n",
       "      <td>3600</td>\n",
       "      <td>small</td>\n",
       "      <td>2008</td>\n",
       "      <td>manual</td>\n",
       "      <td>69</td>\n",
       "      <td>fabia</td>\n",
       "      <td>90000</td>\n",
       "      <td>7</td>\n",
       "      <td>gasoline</td>\n",
       "      <td>skoda</td>\n",
       "      <td>no</td>\n",
       "      <td>31/03/2016 00:00</td>\n",
       "      <td>0</td>\n",
       "      <td>60437</td>\n",
       "      <td>06/04/2016 10:17</td>\n",
       "    </tr>\n",
       "  </tbody>\n",
       "</table>\n",
       "</div>"
      ],
      "text/plain": [
       "        DateCrawled  Price VehicleType  RegistrationYear Gearbox  Power  \\\n",
       "0  24/03/2016 11:52    480         NaN              1993  manual      0   \n",
       "1  24/03/2016 10:58  18300       coupe              2011  manual    190   \n",
       "2  14/03/2016 12:52   9800         suv              2004    auto    163   \n",
       "3  17/03/2016 16:54   1500       small              2001  manual     75   \n",
       "4  31/03/2016 17:25   3600       small              2008  manual     69   \n",
       "\n",
       "   Model  Mileage  RegistrationMonth  FuelType       Brand NotRepaired  \\\n",
       "0   golf   150000                  0    petrol  volkswagen         NaN   \n",
       "1    NaN   125000                  5  gasoline        audi         yes   \n",
       "2  grand   125000                  8  gasoline        jeep         NaN   \n",
       "3   golf   150000                  6    petrol  volkswagen          no   \n",
       "4  fabia    90000                  7  gasoline       skoda          no   \n",
       "\n",
       "        DateCreated  NumberOfPictures  PostalCode          LastSeen  \n",
       "0  24/03/2016 00:00                 0       70435  07/04/2016 03:16  \n",
       "1  24/03/2016 00:00                 0       66954  07/04/2016 01:46  \n",
       "2  14/03/2016 00:00                 0       90480  05/04/2016 12:47  \n",
       "3  17/03/2016 00:00                 0       91074  17/03/2016 17:40  \n",
       "4  31/03/2016 00:00                 0       60437  06/04/2016 10:17  "
      ]
     },
     "metadata": {},
     "output_type": "display_data"
    }
   ],
   "source": [
    "# Display DataFrame basic info\n",
    "display(car_df.info())\n",
    "display(car_df.head())"
   ]
  },
  {
   "cell_type": "markdown",
   "metadata": {},
   "source": [
    "#### Convert data types"
   ]
  },
  {
   "cell_type": "code",
   "execution_count": 4,
   "metadata": {},
   "outputs": [
    {
     "name": "stdout",
     "output_type": "stream",
     "text": [
      "<class 'pandas.core.frame.DataFrame'>\n",
      "RangeIndex: 354369 entries, 0 to 354368\n",
      "Data columns (total 16 columns):\n",
      " #   Column             Non-Null Count   Dtype         \n",
      "---  ------             --------------   -----         \n",
      " 0   DateCrawled        354369 non-null  datetime64[ns]\n",
      " 1   Price              354369 non-null  int64         \n",
      " 2   VehicleType        316879 non-null  object        \n",
      " 3   RegistrationYear   354369 non-null  int64         \n",
      " 4   Gearbox            334536 non-null  object        \n",
      " 5   Power              354369 non-null  int64         \n",
      " 6   Model              334664 non-null  object        \n",
      " 7   Mileage            354369 non-null  int64         \n",
      " 8   RegistrationMonth  354369 non-null  int64         \n",
      " 9   FuelType           321474 non-null  object        \n",
      " 10  Brand              354369 non-null  object        \n",
      " 11  NotRepaired        283215 non-null  object        \n",
      " 12  DateCreated        354369 non-null  datetime64[ns]\n",
      " 13  NumberOfPictures   354369 non-null  int64         \n",
      " 14  PostalCode         354369 non-null  int64         \n",
      " 15  LastSeen           354369 non-null  datetime64[ns]\n",
      "dtypes: datetime64[ns](3), int64(7), object(6)\n",
      "memory usage: 43.3+ MB\n"
     ]
    },
    {
     "data": {
      "text/plain": [
       "None"
      ]
     },
     "metadata": {},
     "output_type": "display_data"
    },
    {
     "data": {
      "text/html": [
       "<div>\n",
       "<style scoped>\n",
       "    .dataframe tbody tr th:only-of-type {\n",
       "        vertical-align: middle;\n",
       "    }\n",
       "\n",
       "    .dataframe tbody tr th {\n",
       "        vertical-align: top;\n",
       "    }\n",
       "\n",
       "    .dataframe thead th {\n",
       "        text-align: right;\n",
       "    }\n",
       "</style>\n",
       "<table border=\"1\" class=\"dataframe\">\n",
       "  <thead>\n",
       "    <tr style=\"text-align: right;\">\n",
       "      <th></th>\n",
       "      <th>DateCrawled</th>\n",
       "      <th>Price</th>\n",
       "      <th>VehicleType</th>\n",
       "      <th>RegistrationYear</th>\n",
       "      <th>Gearbox</th>\n",
       "      <th>Power</th>\n",
       "      <th>Model</th>\n",
       "      <th>Mileage</th>\n",
       "      <th>RegistrationMonth</th>\n",
       "      <th>FuelType</th>\n",
       "      <th>Brand</th>\n",
       "      <th>NotRepaired</th>\n",
       "      <th>DateCreated</th>\n",
       "      <th>NumberOfPictures</th>\n",
       "      <th>PostalCode</th>\n",
       "      <th>LastSeen</th>\n",
       "    </tr>\n",
       "  </thead>\n",
       "  <tbody>\n",
       "    <tr>\n",
       "      <th>0</th>\n",
       "      <td>2016-03-24 11:52:00</td>\n",
       "      <td>480</td>\n",
       "      <td>NaN</td>\n",
       "      <td>1993</td>\n",
       "      <td>manual</td>\n",
       "      <td>0</td>\n",
       "      <td>golf</td>\n",
       "      <td>150000</td>\n",
       "      <td>0</td>\n",
       "      <td>petrol</td>\n",
       "      <td>volkswagen</td>\n",
       "      <td>NaN</td>\n",
       "      <td>2016-03-24</td>\n",
       "      <td>0</td>\n",
       "      <td>70435</td>\n",
       "      <td>2016-04-07 03:16:00</td>\n",
       "    </tr>\n",
       "    <tr>\n",
       "      <th>1</th>\n",
       "      <td>2016-03-24 10:58:00</td>\n",
       "      <td>18300</td>\n",
       "      <td>coupe</td>\n",
       "      <td>2011</td>\n",
       "      <td>manual</td>\n",
       "      <td>190</td>\n",
       "      <td>NaN</td>\n",
       "      <td>125000</td>\n",
       "      <td>5</td>\n",
       "      <td>gasoline</td>\n",
       "      <td>audi</td>\n",
       "      <td>yes</td>\n",
       "      <td>2016-03-24</td>\n",
       "      <td>0</td>\n",
       "      <td>66954</td>\n",
       "      <td>2016-04-07 01:46:00</td>\n",
       "    </tr>\n",
       "    <tr>\n",
       "      <th>2</th>\n",
       "      <td>2016-03-14 12:52:00</td>\n",
       "      <td>9800</td>\n",
       "      <td>suv</td>\n",
       "      <td>2004</td>\n",
       "      <td>auto</td>\n",
       "      <td>163</td>\n",
       "      <td>grand</td>\n",
       "      <td>125000</td>\n",
       "      <td>8</td>\n",
       "      <td>gasoline</td>\n",
       "      <td>jeep</td>\n",
       "      <td>NaN</td>\n",
       "      <td>2016-03-14</td>\n",
       "      <td>0</td>\n",
       "      <td>90480</td>\n",
       "      <td>2016-04-05 12:47:00</td>\n",
       "    </tr>\n",
       "    <tr>\n",
       "      <th>3</th>\n",
       "      <td>2016-03-17 16:54:00</td>\n",
       "      <td>1500</td>\n",
       "      <td>small</td>\n",
       "      <td>2001</td>\n",
       "      <td>manual</td>\n",
       "      <td>75</td>\n",
       "      <td>golf</td>\n",
       "      <td>150000</td>\n",
       "      <td>6</td>\n",
       "      <td>petrol</td>\n",
       "      <td>volkswagen</td>\n",
       "      <td>no</td>\n",
       "      <td>2016-03-17</td>\n",
       "      <td>0</td>\n",
       "      <td>91074</td>\n",
       "      <td>2016-03-17 17:40:00</td>\n",
       "    </tr>\n",
       "    <tr>\n",
       "      <th>4</th>\n",
       "      <td>2016-03-31 17:25:00</td>\n",
       "      <td>3600</td>\n",
       "      <td>small</td>\n",
       "      <td>2008</td>\n",
       "      <td>manual</td>\n",
       "      <td>69</td>\n",
       "      <td>fabia</td>\n",
       "      <td>90000</td>\n",
       "      <td>7</td>\n",
       "      <td>gasoline</td>\n",
       "      <td>skoda</td>\n",
       "      <td>no</td>\n",
       "      <td>2016-03-31</td>\n",
       "      <td>0</td>\n",
       "      <td>60437</td>\n",
       "      <td>2016-04-06 10:17:00</td>\n",
       "    </tr>\n",
       "  </tbody>\n",
       "</table>\n",
       "</div>"
      ],
      "text/plain": [
       "          DateCrawled  Price VehicleType  RegistrationYear Gearbox  Power  \\\n",
       "0 2016-03-24 11:52:00    480         NaN              1993  manual      0   \n",
       "1 2016-03-24 10:58:00  18300       coupe              2011  manual    190   \n",
       "2 2016-03-14 12:52:00   9800         suv              2004    auto    163   \n",
       "3 2016-03-17 16:54:00   1500       small              2001  manual     75   \n",
       "4 2016-03-31 17:25:00   3600       small              2008  manual     69   \n",
       "\n",
       "   Model  Mileage  RegistrationMonth  FuelType       Brand NotRepaired  \\\n",
       "0   golf   150000                  0    petrol  volkswagen         NaN   \n",
       "1    NaN   125000                  5  gasoline        audi         yes   \n",
       "2  grand   125000                  8  gasoline        jeep         NaN   \n",
       "3   golf   150000                  6    petrol  volkswagen          no   \n",
       "4  fabia    90000                  7  gasoline       skoda          no   \n",
       "\n",
       "  DateCreated  NumberOfPictures  PostalCode            LastSeen  \n",
       "0  2016-03-24                 0       70435 2016-04-07 03:16:00  \n",
       "1  2016-03-24                 0       66954 2016-04-07 01:46:00  \n",
       "2  2016-03-14                 0       90480 2016-04-05 12:47:00  \n",
       "3  2016-03-17                 0       91074 2016-03-17 17:40:00  \n",
       "4  2016-03-31                 0       60437 2016-04-06 10:17:00  "
      ]
     },
     "metadata": {},
     "output_type": "display_data"
    }
   ],
   "source": [
    "# Convert date fields to datetime data type\n",
    "car_df['DateCrawled'] = pd.to_datetime(car_df['DateCrawled'], format='%d/%m/%Y %H:%M')\n",
    "car_df['DateCreated'] = pd.to_datetime(car_df['DateCreated'], format='%d/%m/%Y %H:%M')\n",
    "car_df['LastSeen'] = pd.to_datetime(car_df['LastSeen'], format='%d/%m/%Y %H:%M')\n",
    "display(car_df.info())\n",
    "display(car_df.head())"
   ]
  },
  {
   "cell_type": "markdown",
   "metadata": {},
   "source": [
    "#### Replace missing values"
   ]
  },
  {
   "cell_type": "code",
   "execution_count": 5,
   "metadata": {},
   "outputs": [
    {
     "data": {
      "text/plain": [
       "DateCrawled              0\n",
       "Price                    0\n",
       "VehicleType          37490\n",
       "RegistrationYear         0\n",
       "Gearbox              19833\n",
       "Power                    0\n",
       "Model                19705\n",
       "Mileage                  0\n",
       "RegistrationMonth        0\n",
       "FuelType             32895\n",
       "Brand                    0\n",
       "NotRepaired          71154\n",
       "DateCreated              0\n",
       "NumberOfPictures         0\n",
       "PostalCode               0\n",
       "LastSeen                 0\n",
       "dtype: int64"
      ]
     },
     "metadata": {},
     "output_type": "display_data"
    }
   ],
   "source": [
    "# Identify missing values\n",
    "display(car_df.isna().sum())"
   ]
  },
  {
   "cell_type": "code",
   "execution_count": 6,
   "metadata": {},
   "outputs": [
    {
     "data": {
      "text/plain": [
       "DateCrawled          0\n",
       "Price                0\n",
       "VehicleType          0\n",
       "RegistrationYear     0\n",
       "Gearbox              0\n",
       "Power                0\n",
       "Model                0\n",
       "Mileage              0\n",
       "RegistrationMonth    0\n",
       "FuelType             0\n",
       "Brand                0\n",
       "NotRepaired          0\n",
       "DateCreated          0\n",
       "NumberOfPictures     0\n",
       "PostalCode           0\n",
       "LastSeen             0\n",
       "dtype: int64"
      ]
     },
     "metadata": {},
     "output_type": "display_data"
    },
    {
     "name": "stdout",
     "output_type": "stream",
     "text": [
      "\n"
     ]
    },
    {
     "data": {
      "text/plain": [
       "sedan          91457\n",
       "small          79831\n",
       "wagon          65166\n",
       "unknown        37490\n",
       "bus            28775\n",
       "convertible    20203\n",
       "coupe          16163\n",
       "suv            11996\n",
       "other           3288\n",
       "Name: VehicleType, dtype: int64"
      ]
     },
     "metadata": {},
     "output_type": "display_data"
    }
   ],
   "source": [
    "# Replace missing values in DataFrame\n",
    "car_df.fillna('unknown', inplace=True)\n",
    "display(car_df.isna().sum())\n",
    "print()\n",
    "display(car_df['VehicleType'].value_counts())"
   ]
  },
  {
   "cell_type": "markdown",
   "metadata": {},
   "source": [
    "#### Remove duplicates"
   ]
  },
  {
   "cell_type": "code",
   "execution_count": 7,
   "metadata": {},
   "outputs": [
    {
     "name": "stdout",
     "output_type": "stream",
     "text": [
      "\n",
      "# of duplicates: 262\n"
     ]
    },
    {
     "data": {
      "text/html": [
       "<div>\n",
       "<style scoped>\n",
       "    .dataframe tbody tr th:only-of-type {\n",
       "        vertical-align: middle;\n",
       "    }\n",
       "\n",
       "    .dataframe tbody tr th {\n",
       "        vertical-align: top;\n",
       "    }\n",
       "\n",
       "    .dataframe thead th {\n",
       "        text-align: right;\n",
       "    }\n",
       "</style>\n",
       "<table border=\"1\" class=\"dataframe\">\n",
       "  <thead>\n",
       "    <tr style=\"text-align: right;\">\n",
       "      <th></th>\n",
       "      <th>DateCrawled</th>\n",
       "      <th>Price</th>\n",
       "      <th>VehicleType</th>\n",
       "      <th>RegistrationYear</th>\n",
       "      <th>Gearbox</th>\n",
       "      <th>Power</th>\n",
       "      <th>Model</th>\n",
       "      <th>Mileage</th>\n",
       "      <th>RegistrationMonth</th>\n",
       "      <th>FuelType</th>\n",
       "      <th>Brand</th>\n",
       "      <th>NotRepaired</th>\n",
       "      <th>DateCreated</th>\n",
       "      <th>NumberOfPictures</th>\n",
       "      <th>PostalCode</th>\n",
       "      <th>LastSeen</th>\n",
       "    </tr>\n",
       "  </thead>\n",
       "  <tbody>\n",
       "    <tr>\n",
       "      <th>136532</th>\n",
       "      <td>2016-03-05 14:11:00</td>\n",
       "      <td>3700</td>\n",
       "      <td>coupe</td>\n",
       "      <td>2006</td>\n",
       "      <td>manual</td>\n",
       "      <td>101</td>\n",
       "      <td>astra</td>\n",
       "      <td>150000</td>\n",
       "      <td>7</td>\n",
       "      <td>gasoline</td>\n",
       "      <td>opel</td>\n",
       "      <td>no</td>\n",
       "      <td>2016-03-03</td>\n",
       "      <td>0</td>\n",
       "      <td>55218</td>\n",
       "      <td>2016-03-06 03:44:00</td>\n",
       "    </tr>\n",
       "    <tr>\n",
       "      <th>238082</th>\n",
       "      <td>2016-03-05 14:11:00</td>\n",
       "      <td>3700</td>\n",
       "      <td>coupe</td>\n",
       "      <td>2006</td>\n",
       "      <td>manual</td>\n",
       "      <td>101</td>\n",
       "      <td>astra</td>\n",
       "      <td>150000</td>\n",
       "      <td>7</td>\n",
       "      <td>gasoline</td>\n",
       "      <td>opel</td>\n",
       "      <td>no</td>\n",
       "      <td>2016-03-03</td>\n",
       "      <td>0</td>\n",
       "      <td>55218</td>\n",
       "      <td>2016-03-06 03:44:00</td>\n",
       "    </tr>\n",
       "    <tr>\n",
       "      <th>51617</th>\n",
       "      <td>2016-03-05 14:12:00</td>\n",
       "      <td>2689</td>\n",
       "      <td>small</td>\n",
       "      <td>2005</td>\n",
       "      <td>auto</td>\n",
       "      <td>61</td>\n",
       "      <td>fortwo</td>\n",
       "      <td>90000</td>\n",
       "      <td>7</td>\n",
       "      <td>petrol</td>\n",
       "      <td>smart</td>\n",
       "      <td>no</td>\n",
       "      <td>2016-03-03</td>\n",
       "      <td>0</td>\n",
       "      <td>56412</td>\n",
       "      <td>2016-04-05 04:49:00</td>\n",
       "    </tr>\n",
       "    <tr>\n",
       "      <th>53329</th>\n",
       "      <td>2016-03-05 14:12:00</td>\n",
       "      <td>2689</td>\n",
       "      <td>small</td>\n",
       "      <td>2005</td>\n",
       "      <td>auto</td>\n",
       "      <td>61</td>\n",
       "      <td>fortwo</td>\n",
       "      <td>90000</td>\n",
       "      <td>7</td>\n",
       "      <td>petrol</td>\n",
       "      <td>smart</td>\n",
       "      <td>no</td>\n",
       "      <td>2016-03-03</td>\n",
       "      <td>0</td>\n",
       "      <td>56412</td>\n",
       "      <td>2016-04-05 04:49:00</td>\n",
       "    </tr>\n",
       "    <tr>\n",
       "      <th>234836</th>\n",
       "      <td>2016-03-05 14:13:00</td>\n",
       "      <td>17000</td>\n",
       "      <td>wagon</td>\n",
       "      <td>2009</td>\n",
       "      <td>manual</td>\n",
       "      <td>170</td>\n",
       "      <td>a4</td>\n",
       "      <td>150000</td>\n",
       "      <td>9</td>\n",
       "      <td>gasoline</td>\n",
       "      <td>audi</td>\n",
       "      <td>no</td>\n",
       "      <td>2016-03-03</td>\n",
       "      <td>0</td>\n",
       "      <td>35792</td>\n",
       "      <td>2016-04-07 03:45:00</td>\n",
       "    </tr>\n",
       "    <tr>\n",
       "      <th>...</th>\n",
       "      <td>...</td>\n",
       "      <td>...</td>\n",
       "      <td>...</td>\n",
       "      <td>...</td>\n",
       "      <td>...</td>\n",
       "      <td>...</td>\n",
       "      <td>...</td>\n",
       "      <td>...</td>\n",
       "      <td>...</td>\n",
       "      <td>...</td>\n",
       "      <td>...</td>\n",
       "      <td>...</td>\n",
       "      <td>...</td>\n",
       "      <td>...</td>\n",
       "      <td>...</td>\n",
       "      <td>...</td>\n",
       "    </tr>\n",
       "    <tr>\n",
       "      <th>309829</th>\n",
       "      <td>2016-04-06 20:06:00</td>\n",
       "      <td>9890</td>\n",
       "      <td>wagon</td>\n",
       "      <td>2007</td>\n",
       "      <td>auto</td>\n",
       "      <td>136</td>\n",
       "      <td>c_klasse</td>\n",
       "      <td>150000</td>\n",
       "      <td>12</td>\n",
       "      <td>gasoline</td>\n",
       "      <td>mercedes_benz</td>\n",
       "      <td>no</td>\n",
       "      <td>2016-04-06</td>\n",
       "      <td>0</td>\n",
       "      <td>65760</td>\n",
       "      <td>2016-04-06 20:06:00</td>\n",
       "    </tr>\n",
       "    <tr>\n",
       "      <th>53426</th>\n",
       "      <td>2016-04-06 21:25:00</td>\n",
       "      <td>3900</td>\n",
       "      <td>sedan</td>\n",
       "      <td>1999</td>\n",
       "      <td>manual</td>\n",
       "      <td>116</td>\n",
       "      <td>beetle</td>\n",
       "      <td>150000</td>\n",
       "      <td>6</td>\n",
       "      <td>petrol</td>\n",
       "      <td>volkswagen</td>\n",
       "      <td>no</td>\n",
       "      <td>2016-04-06</td>\n",
       "      <td>0</td>\n",
       "      <td>55469</td>\n",
       "      <td>2016-04-06 21:25:00</td>\n",
       "    </tr>\n",
       "    <tr>\n",
       "      <th>1771</th>\n",
       "      <td>2016-04-06 21:25:00</td>\n",
       "      <td>3900</td>\n",
       "      <td>sedan</td>\n",
       "      <td>1999</td>\n",
       "      <td>manual</td>\n",
       "      <td>116</td>\n",
       "      <td>beetle</td>\n",
       "      <td>150000</td>\n",
       "      <td>6</td>\n",
       "      <td>petrol</td>\n",
       "      <td>volkswagen</td>\n",
       "      <td>no</td>\n",
       "      <td>2016-04-06</td>\n",
       "      <td>0</td>\n",
       "      <td>55469</td>\n",
       "      <td>2016-04-06 21:25:00</td>\n",
       "    </tr>\n",
       "    <tr>\n",
       "      <th>50917</th>\n",
       "      <td>2016-04-06 23:25:00</td>\n",
       "      <td>2990</td>\n",
       "      <td>small</td>\n",
       "      <td>2002</td>\n",
       "      <td>manual</td>\n",
       "      <td>60</td>\n",
       "      <td>lupo</td>\n",
       "      <td>80000</td>\n",
       "      <td>8</td>\n",
       "      <td>petrol</td>\n",
       "      <td>volkswagen</td>\n",
       "      <td>no</td>\n",
       "      <td>2016-04-06</td>\n",
       "      <td>0</td>\n",
       "      <td>61250</td>\n",
       "      <td>2016-04-06 23:25:00</td>\n",
       "    </tr>\n",
       "    <tr>\n",
       "      <th>81943</th>\n",
       "      <td>2016-04-06 23:25:00</td>\n",
       "      <td>2990</td>\n",
       "      <td>small</td>\n",
       "      <td>2002</td>\n",
       "      <td>manual</td>\n",
       "      <td>60</td>\n",
       "      <td>lupo</td>\n",
       "      <td>80000</td>\n",
       "      <td>8</td>\n",
       "      <td>petrol</td>\n",
       "      <td>volkswagen</td>\n",
       "      <td>no</td>\n",
       "      <td>2016-04-06</td>\n",
       "      <td>0</td>\n",
       "      <td>61250</td>\n",
       "      <td>2016-04-06 23:25:00</td>\n",
       "    </tr>\n",
       "  </tbody>\n",
       "</table>\n",
       "<p>524 rows × 16 columns</p>\n",
       "</div>"
      ],
      "text/plain": [
       "               DateCrawled  Price VehicleType  RegistrationYear Gearbox  \\\n",
       "136532 2016-03-05 14:11:00   3700       coupe              2006  manual   \n",
       "238082 2016-03-05 14:11:00   3700       coupe              2006  manual   \n",
       "51617  2016-03-05 14:12:00   2689       small              2005    auto   \n",
       "53329  2016-03-05 14:12:00   2689       small              2005    auto   \n",
       "234836 2016-03-05 14:13:00  17000       wagon              2009  manual   \n",
       "...                    ...    ...         ...               ...     ...   \n",
       "309829 2016-04-06 20:06:00   9890       wagon              2007    auto   \n",
       "53426  2016-04-06 21:25:00   3900       sedan              1999  manual   \n",
       "1771   2016-04-06 21:25:00   3900       sedan              1999  manual   \n",
       "50917  2016-04-06 23:25:00   2990       small              2002  manual   \n",
       "81943  2016-04-06 23:25:00   2990       small              2002  manual   \n",
       "\n",
       "        Power     Model  Mileage  RegistrationMonth  FuelType          Brand  \\\n",
       "136532    101     astra   150000                  7  gasoline           opel   \n",
       "238082    101     astra   150000                  7  gasoline           opel   \n",
       "51617      61    fortwo    90000                  7    petrol          smart   \n",
       "53329      61    fortwo    90000                  7    petrol          smart   \n",
       "234836    170        a4   150000                  9  gasoline           audi   \n",
       "...       ...       ...      ...                ...       ...            ...   \n",
       "309829    136  c_klasse   150000                 12  gasoline  mercedes_benz   \n",
       "53426     116    beetle   150000                  6    petrol     volkswagen   \n",
       "1771      116    beetle   150000                  6    petrol     volkswagen   \n",
       "50917      60      lupo    80000                  8    petrol     volkswagen   \n",
       "81943      60      lupo    80000                  8    petrol     volkswagen   \n",
       "\n",
       "       NotRepaired DateCreated  NumberOfPictures  PostalCode  \\\n",
       "136532          no  2016-03-03                 0       55218   \n",
       "238082          no  2016-03-03                 0       55218   \n",
       "51617           no  2016-03-03                 0       56412   \n",
       "53329           no  2016-03-03                 0       56412   \n",
       "234836          no  2016-03-03                 0       35792   \n",
       "...            ...         ...               ...         ...   \n",
       "309829          no  2016-04-06                 0       65760   \n",
       "53426           no  2016-04-06                 0       55469   \n",
       "1771            no  2016-04-06                 0       55469   \n",
       "50917           no  2016-04-06                 0       61250   \n",
       "81943           no  2016-04-06                 0       61250   \n",
       "\n",
       "                  LastSeen  \n",
       "136532 2016-03-06 03:44:00  \n",
       "238082 2016-03-06 03:44:00  \n",
       "51617  2016-04-05 04:49:00  \n",
       "53329  2016-04-05 04:49:00  \n",
       "234836 2016-04-07 03:45:00  \n",
       "...                    ...  \n",
       "309829 2016-04-06 20:06:00  \n",
       "53426  2016-04-06 21:25:00  \n",
       "1771   2016-04-06 21:25:00  \n",
       "50917  2016-04-06 23:25:00  \n",
       "81943  2016-04-06 23:25:00  \n",
       "\n",
       "[524 rows x 16 columns]"
      ]
     },
     "metadata": {},
     "output_type": "display_data"
    }
   ],
   "source": [
    "# Identify duplicate rows\n",
    "print()\n",
    "print('# of duplicates:', car_df.duplicated().sum())\n",
    "display(car_df[car_df.duplicated(keep=False)].sort_values('DateCrawled'))"
   ]
  },
  {
   "cell_type": "code",
   "execution_count": 8,
   "metadata": {},
   "outputs": [
    {
     "name": "stdout",
     "output_type": "stream",
     "text": [
      "Length of car_df with duplicates: 354369\n",
      "Length of car_df with removed duplicates: 354107\n"
     ]
    }
   ],
   "source": [
    "# Remove duplicate values in DataFrame\n",
    "print('Length of car_df with duplicates:', len(car_df))\n",
    "car_df = car_df.drop_duplicates().reset_index(drop=True)\n",
    "print('Length of car_df with removed duplicates:', len(car_df))"
   ]
  },
  {
   "cell_type": "markdown",
   "metadata": {},
   "source": [
    "#### Remove outliers"
   ]
  },
  {
   "cell_type": "code",
   "execution_count": 9,
   "metadata": {},
   "outputs": [
    {
     "data": {
      "text/plain": [
       "array([1000, 1001, 1039, 1111, 1200, 1234, 1253, 1255, 1300, 1400, 1500,\n",
       "       1600, 1602, 1688, 1800, 1910, 1915, 1919, 1920, 1923, 1925, 1927,\n",
       "       1928, 1929, 1930, 1931, 1932, 1933, 1934, 1935, 1936, 1937, 1938,\n",
       "       1940, 1941, 1942, 1943, 1944, 1945, 1946, 1947, 1948, 1949, 1950,\n",
       "       1951, 1952, 1953, 1954, 1955, 1956, 1957, 1958, 1959, 1960, 1961,\n",
       "       1962, 1963, 1964, 1965, 1966, 1967, 1968, 1969, 1970, 1971, 1972,\n",
       "       1973, 1974, 1975, 1976, 1977, 1978, 1979, 1980, 1981, 1982, 1983,\n",
       "       1984, 1985, 1986, 1987, 1988, 1989, 1990, 1991, 1992, 1993, 1994,\n",
       "       1995, 1996, 1997, 1998, 1999, 2000, 2001, 2002, 2003, 2004, 2005,\n",
       "       2006, 2007, 2008, 2009, 2010, 2011, 2012, 2013, 2014, 2015, 2016,\n",
       "       2017, 2018, 2019, 2066, 2200, 2222, 2290, 2500, 2800, 2900, 3000,\n",
       "       3200, 3500, 3700, 3800, 4000, 4100, 4500, 4800, 5000, 5300, 5555,\n",
       "       5600, 5900, 5911, 6000, 6500, 7000, 7100, 7500, 7800, 8000, 8200,\n",
       "       8455, 8500, 8888, 9000, 9229, 9450, 9996, 9999])"
      ]
     },
     "metadata": {},
     "output_type": "display_data"
    },
    {
     "name": "stdout",
     "output_type": "stream",
     "text": [
      "Current length of car_df: 354107\n",
      "Number of years outside of accepted range: 171\n",
      "New length of car_df after removal of year outliers: 353936\n"
     ]
    }
   ],
   "source": [
    "# Identify all RegistrationYear values\n",
    "unique_year = car_df['RegistrationYear'].unique()\n",
    "display(np.sort(unique_year))\n",
    "\n",
    "# Remove rows with years below 1800 and above 2019\n",
    "print('Current length of car_df:', len(car_df))\n",
    "car_df_bad_year = car_df[(car_df['RegistrationYear'].between(1000, 1800)) | (car_df['RegistrationYear'].between(2066, 9999))]\n",
    "print('Number of years outside of accepted range:', len(car_df_bad_year))\n",
    "\n",
    "car_df = car_df.drop(car_df_bad_year.index, axis=0)\n",
    "car_df = car_df.reset_index(drop=True)\n",
    "print('New length of car_df after removal of year outliers:', len(car_df))"
   ]
  },
  {
   "cell_type": "markdown",
   "metadata": {},
   "source": [
    "### Data overview / Exploratory data analysis \n",
    "\n",
    "To get a better idea of how certain fields might be affecting price and to what extent, basic exploratory analysis was performed illustrating potential correlations that could be seen in future modeling.\n",
    "\n",
    "1. <b>Value counts</b>\n",
    "\n",
    "    - Value counts of the <b><mark>VehicleType</mark></b>, <b><mark>Gearbox</mark></b>, and <b><mark>FuelType</mark></b> fields were gathered and plotted. These charts are merely informational and do not answer any questions about relationships and correlation. It provides a more detailed visual outlook on the what data consists of.<br><br>\n",
    "\n",
    "2. <b>Price analysis</b>\n",
    "\n",
    "    - How is car price affected by the year of the car? Mileage? Brand? Are there any direct correlations?\n",
    "    \n",
    "        - <b><mark>RegistrationYear</mark></b>: Interestingly the year of the car in relation to price forms a parabola. Earlier cars made in the 1970s have pretty high prices. As the years get newer, the car prices decrease with the 1990s representing the cheapest cars. The newest cars, the 2000s, are the most expensive. The resulting pattern represents a convex U-shaped parabola.\n",
    "        \n",
    "        - <b><mark>Mileage</mark></b>: The relationship between car price and mileage was expected. The higher the mileage of the car, the lower the average price. There was one expection with the mileage bin / box plot of 0-5000 representing the cheapest cars, and with lots of outliers. New cars or cars that have not been used at all should represent the highest prices. After looking into the data, there are lots of smaller novelty cars, like golf carts, etc., that have not been used much that account for a lot of the lower prices that you see in this range. This is where <b><mark>Model</mark></b> would come into play in a machine learning model.\n",
    "        \n",
    "        - <b><mark>Brand</mark></b>: Is the price of a car affected by mileage differently if the car is a top car brand? Does mileage matter if the brand is a \"top-notch\" brand? The answer is not really. Even with high mileages, expensive cars are still going to be expensive given the brand of the car. For lower priced cars, in terms of brand, car mileage has more of an affect on the price."
   ]
  },
  {
   "cell_type": "markdown",
   "metadata": {},
   "source": [
    "#### Value count comparison"
   ]
  },
  {
   "cell_type": "code",
   "execution_count": 10,
   "metadata": {},
   "outputs": [
    {
     "name": "stdout",
     "output_type": "stream",
     "text": [
      "VehicleType\n"
     ]
    },
    {
     "data": {
      "text/plain": [
       "sedan          91399\n",
       "small          79753\n",
       "wagon          65115\n",
       "unknown        37313\n",
       "bus            28752\n",
       "convertible    20180\n",
       "coupe          16147\n",
       "suv            11991\n",
       "other           3286\n",
       "Name: VehicleType, dtype: int64"
      ]
     },
     "metadata": {},
     "output_type": "display_data"
    },
    {
     "data": {
      "image/png": "[encoded data removed]",
      "text/plain": [
       "<Figure size 640x480 with 1 Axes>"
      ]
     },
     "metadata": {},
     "output_type": "display_data"
    }
   ],
   "source": [
    "# Find unique values and counts of VehicleType field\n",
    "print('VehicleType')\n",
    "counts_VehicleType = car_df['VehicleType'].value_counts()\n",
    "display(counts_VehicleType)\n",
    "\n",
    "# Bar chart of total counts\n",
    "# Build bar chart\n",
    "fig, ax = plt.subplots()\n",
    "barchart = ax.bar(counts_VehicleType.index, counts_VehicleType.values, zorder=2, edgecolor='black')\n",
    "plt.xlabel('Vehicle type', fontweight='bold', fontsize=11)\n",
    "plt.xticks(rotation=45, fontsize=9)\n",
    "plt.ylabel('Frequency', fontweight='bold', fontsize=11)\n",
    "plt.title('VehicleType counts', fontweight='bold', fontsize=13)\n",
    "for bar in barchart:\n",
    "    height = bar.get_height()\n",
    "    ax.text(x=bar.get_x() + bar.get_width() / 2, y=height + 500, s=height, ha='center', fontweight='bold')\n",
    "    \n",
    "# Add gridlines\n",
    "ax.set_axisbelow(True)\n",
    "ax.grid(linestyle='--')\n",
    "\n",
    "# Display chart\n",
    "plt.show()"
   ]
  },
  {
   "cell_type": "code",
   "execution_count": 11,
   "metadata": {},
   "outputs": [
    {
     "name": "stdout",
     "output_type": "stream",
     "text": [
      "Gearbox\n"
     ]
    },
    {
     "data": {
      "text/plain": [
       "manual     268008\n",
       "auto        66236\n",
       "unknown     19692\n",
       "Name: Gearbox, dtype: int64"
      ]
     },
     "metadata": {},
     "output_type": "display_data"
    },
    {
     "data": {
      "image/png": "[encoded data removed]",
      "text/plain": [
       "<Figure size 640x480 with 1 Axes>"
      ]
     },
     "metadata": {},
     "output_type": "display_data"
    }
   ],
   "source": [
    "# Find unique values and counts of Gearbox field\n",
    "# Gearbox\n",
    "print('Gearbox')\n",
    "counts_Gearbox = car_df['Gearbox'].value_counts()\n",
    "display(counts_Gearbox)\n",
    "\n",
    "# Build bar chart\n",
    "fig, ax = plt.subplots()\n",
    "barchart = ax.bar(counts_Gearbox.index, counts_Gearbox.values, color='green', zorder=2, edgecolor='black')\n",
    "plt.xlabel('Gearbox type', fontweight='bold', fontsize=11)\n",
    "plt.xticks(rotation=45, fontsize=11)\n",
    "plt.ylabel('Frequency', fontweight='bold', fontsize=11)\n",
    "plt.title('Gearbox counts', fontweight='bold', fontsize=13)\n",
    "for bar in barchart:\n",
    "    height = bar.get_height()\n",
    "    ax.text(x=bar.get_x() + bar.get_width() / 2, y=height + 2000, s=height, ha='center', fontweight='bold')\n",
    "\n",
    "# Add gridlines\n",
    "ax.set_axisbelow(True)\n",
    "ax.grid(linestyle='--')\n",
    "\n",
    "# Display chart\n",
    "plt.show()"
   ]
  },
  {
   "cell_type": "code",
   "execution_count": 12,
   "metadata": {},
   "outputs": [
    {
     "name": "stdout",
     "output_type": "stream",
     "text": [
      "FuelType\n"
     ]
    },
    {
     "data": {
      "text/plain": [
       "petrol      216127\n",
       "gasoline     98651\n",
       "unknown      32761\n",
       "lpg           5307\n",
       "cng            564\n",
       "hybrid         233\n",
       "other          203\n",
       "electric        90\n",
       "Name: FuelType, dtype: int64"
      ]
     },
     "metadata": {},
     "output_type": "display_data"
    },
    {
     "data": {
      "image/png": "[encoded data removed]",
      "text/plain": [
       "<Figure size 640x480 with 1 Axes>"
      ]
     },
     "metadata": {},
     "output_type": "display_data"
    }
   ],
   "source": [
    "# Find unique values and counts of FuelType field\n",
    "print('FuelType')\n",
    "counts_FuelType = car_df['FuelType'].value_counts()\n",
    "display(counts_FuelType)\n",
    "\n",
    "# Build bar chart\n",
    "fig, ax = plt.subplots()\n",
    "barchart = ax.bar(counts_FuelType.index, counts_FuelType.values, color='orange', zorder=2, edgecolor='black')\n",
    "plt.xlabel('Gear type', fontweight='bold', fontsize=11)\n",
    "plt.xticks(rotation=45, fontsize=10)\n",
    "plt.ylabel('Frequency', fontweight='bold', fontsize=11)\n",
    "plt.title('FuelType counts', fontweight='bold', fontsize=13)\n",
    "for bar in barchart:\n",
    "    height = bar.get_height()\n",
    "    ax.text(x=bar.get_x() + bar.get_width() / 2, y=height + 2000, s=height, ha='center', fontweight='bold')\n",
    "\n",
    "# Add gridlines\n",
    "ax.set_axisbelow(True)\n",
    "ax.grid(linestyle='--')\n",
    "\n",
    "# Display chart\n",
    "plt.show()"
   ]
  },
  {
   "cell_type": "markdown",
   "metadata": {},
   "source": [
    "#### Price analysis"
   ]
  },
  {
   "cell_type": "markdown",
   "metadata": {},
   "source": [
    "<b>Is there a correlation between car price and year?</b>"
   ]
  },
  {
   "cell_type": "code",
   "execution_count": 13,
   "metadata": {},
   "outputs": [
    {
     "data": {
      "image/png": "[encoded data removed]",
      "text/plain": [
       "<Figure size 600x400 with 1 Axes>"
      ]
     },
     "metadata": {},
     "output_type": "display_data"
    }
   ],
   "source": [
    "# Data preparation for bar chart\n",
    "bins = [1970, 1980, 1990, 2000, 2010, 2020]\n",
    "labels = ['1970-1979', '1980-1989', '1990-1999', '2000-2009', '2010-2019']\n",
    "car_df_adjusted = car_df.copy()\n",
    "car_df_adjusted = car_df_adjusted[car_df_adjusted['RegistrationYear'] > 1969]\n",
    "car_df_adjusted['YearRange'] = pd.cut(car_df_adjusted['RegistrationYear'], bins=bins, labels=labels, right=False)\n",
    "year_grouped = car_df_adjusted.groupby('YearRange')['Price'].mean().round(2).reset_index()\n",
    "mean_price = car_df_adjusted['Price'].mean().round(2)\n",
    "\n",
    "# Plot bar chart\n",
    "sns.set(style='whitegrid')\n",
    "sns.set_theme(style='whitegrid')\n",
    "plt.figure(figsize=(6, 4))\n",
    "ax = sns.barplot(data=year_grouped, x='YearRange', y='Price', palette=['#56ae57'], edgecolor='black')\n",
    "ax.axhline(mean_price, color='blue', linestyle='--', linewidth=1)\n",
    "plt.title('Mean car price by year', fontsize=12, fontweight='bold')\n",
    "plt.xlabel('Year range', fontsize=11, fontweight='bold')\n",
    "plt.ylabel('Mean price', fontsize=11, fontweight='bold')\n",
    "plt.show()"
   ]
  },
  {
   "cell_type": "markdown",
   "metadata": {},
   "source": [
    "<b>What is the distribution between car mileage relative to price? Does car brand affect the mileage relative to price?</b>"
   ]
  },
  {
   "cell_type": "code",
   "execution_count": 14,
   "metadata": {},
   "outputs": [
    {
     "data": {
      "image/png": "[encoded data removed]",
      "text/plain": [
       "<Figure size 640x480 with 1 Axes>"
      ]
     },
     "metadata": {},
     "output_type": "display_data"
    }
   ],
   "source": [
    "# Plot box plot\n",
    "sns.set(style=\"whitegrid\")\n",
    "sns.set_theme(style='whitegrid')\n",
    "ax = sns.boxplot(data=car_df_adjusted, x='Mileage', y='Price', showfliers=True, palette=['#0e87cc'])\n",
    "plt.title('Car mileage statistics relative to price', fontsize=12, fontweight='bold')\n",
    "plt.xlabel('Mileage (in thousands)', fontsize=11, fontweight='bold')\n",
    "plt.xticks(rotation=45, fontsize=8)\n",
    "plt.ylabel('Price', fontsize=11, fontweight='bold')\n",
    "plt.show()"
   ]
  },
  {
   "cell_type": "code",
   "execution_count": 15,
   "metadata": {},
   "outputs": [
    {
     "data": {
      "text/html": [
       "<div>\n",
       "<style scoped>\n",
       "    .dataframe tbody tr th:only-of-type {\n",
       "        vertical-align: middle;\n",
       "    }\n",
       "\n",
       "    .dataframe tbody tr th {\n",
       "        vertical-align: top;\n",
       "    }\n",
       "\n",
       "    .dataframe thead th {\n",
       "        text-align: right;\n",
       "    }\n",
       "</style>\n",
       "<table border=\"1\" class=\"dataframe\">\n",
       "  <thead>\n",
       "    <tr style=\"text-align: right;\">\n",
       "      <th></th>\n",
       "      <th>Brand</th>\n",
       "      <th>Price</th>\n",
       "      <th>Mileage</th>\n",
       "    </tr>\n",
       "  </thead>\n",
       "  <tbody>\n",
       "    <tr>\n",
       "      <th>20</th>\n",
       "      <td>suzuki</td>\n",
       "      <td>3878.72</td>\n",
       "      <td>107163.79</td>\n",
       "    </tr>\n",
       "    <tr>\n",
       "      <th>21</th>\n",
       "      <td>seat</td>\n",
       "      <td>3999.03</td>\n",
       "      <td>122914.19</td>\n",
       "    </tr>\n",
       "    <tr>\n",
       "      <th>22</th>\n",
       "      <td>nissan</td>\n",
       "      <td>4085.19</td>\n",
       "      <td>121220.62</td>\n",
       "    </tr>\n",
       "    <tr>\n",
       "      <th>23</th>\n",
       "      <td>volvo</td>\n",
       "      <td>4232.78</td>\n",
       "      <td>141005.37</td>\n",
       "    </tr>\n",
       "    <tr>\n",
       "      <th>24</th>\n",
       "      <td>volkswagen</td>\n",
       "      <td>4378.99</td>\n",
       "      <td>131101.86</td>\n",
       "    </tr>\n",
       "    <tr>\n",
       "      <th>25</th>\n",
       "      <td>toyota</td>\n",
       "      <td>4774.59</td>\n",
       "      <td>118480.43</td>\n",
       "    </tr>\n",
       "    <tr>\n",
       "      <th>26</th>\n",
       "      <td>sonstige_autos</td>\n",
       "      <td>4815.56</td>\n",
       "      <td>94062.08</td>\n",
       "    </tr>\n",
       "    <tr>\n",
       "      <th>27</th>\n",
       "      <td>kia</td>\n",
       "      <td>4986.24</td>\n",
       "      <td>112101.95</td>\n",
       "    </tr>\n",
       "    <tr>\n",
       "      <th>28</th>\n",
       "      <td>hyundai</td>\n",
       "      <td>5112.11</td>\n",
       "      <td>105879.89</td>\n",
       "    </tr>\n",
       "    <tr>\n",
       "      <th>29</th>\n",
       "      <td>chevrolet</td>\n",
       "      <td>5480.52</td>\n",
       "      <td>102173.40</td>\n",
       "    </tr>\n",
       "    <tr>\n",
       "      <th>30</th>\n",
       "      <td>dacia</td>\n",
       "      <td>5840.47</td>\n",
       "      <td>86458.80</td>\n",
       "    </tr>\n",
       "    <tr>\n",
       "      <th>31</th>\n",
       "      <td>mercedes_benz</td>\n",
       "      <td>5904.13</td>\n",
       "      <td>135758.96</td>\n",
       "    </tr>\n",
       "    <tr>\n",
       "      <th>32</th>\n",
       "      <td>skoda</td>\n",
       "      <td>5911.75</td>\n",
       "      <td>115809.92</td>\n",
       "    </tr>\n",
       "    <tr>\n",
       "      <th>33</th>\n",
       "      <td>bmw</td>\n",
       "      <td>6163.33</td>\n",
       "      <td>137454.53</td>\n",
       "    </tr>\n",
       "    <tr>\n",
       "      <th>34</th>\n",
       "      <td>audi</td>\n",
       "      <td>6241.48</td>\n",
       "      <td>136572.21</td>\n",
       "    </tr>\n",
       "    <tr>\n",
       "      <th>35</th>\n",
       "      <td>jaguar</td>\n",
       "      <td>6624.83</td>\n",
       "      <td>132260.00</td>\n",
       "    </tr>\n",
       "    <tr>\n",
       "      <th>36</th>\n",
       "      <td>jeep</td>\n",
       "      <td>7019.91</td>\n",
       "      <td>133554.03</td>\n",
       "    </tr>\n",
       "    <tr>\n",
       "      <th>37</th>\n",
       "      <td>land_rover</td>\n",
       "      <td>8437.71</td>\n",
       "      <td>138005.57</td>\n",
       "    </tr>\n",
       "    <tr>\n",
       "      <th>38</th>\n",
       "      <td>mini</td>\n",
       "      <td>8995.14</td>\n",
       "      <td>98583.05</td>\n",
       "    </tr>\n",
       "    <tr>\n",
       "      <th>39</th>\n",
       "      <td>porsche</td>\n",
       "      <td>11131.59</td>\n",
       "      <td>122900.82</td>\n",
       "    </tr>\n",
       "  </tbody>\n",
       "</table>\n",
       "</div>"
      ],
      "text/plain": [
       "             Brand     Price    Mileage\n",
       "20          suzuki   3878.72  107163.79\n",
       "21            seat   3999.03  122914.19\n",
       "22          nissan   4085.19  121220.62\n",
       "23           volvo   4232.78  141005.37\n",
       "24      volkswagen   4378.99  131101.86\n",
       "25          toyota   4774.59  118480.43\n",
       "26  sonstige_autos   4815.56   94062.08\n",
       "27             kia   4986.24  112101.95\n",
       "28         hyundai   5112.11  105879.89\n",
       "29       chevrolet   5480.52  102173.40\n",
       "30           dacia   5840.47   86458.80\n",
       "31   mercedes_benz   5904.13  135758.96\n",
       "32           skoda   5911.75  115809.92\n",
       "33             bmw   6163.33  137454.53\n",
       "34            audi   6241.48  136572.21\n",
       "35          jaguar   6624.83  132260.00\n",
       "36            jeep   7019.91  133554.03\n",
       "37      land_rover   8437.71  138005.57\n",
       "38            mini   8995.14   98583.05\n",
       "39         porsche  11131.59  122900.82"
      ]
     },
     "metadata": {},
     "output_type": "display_data"
    },
    {
     "data": {
      "text/html": [
       "<div>\n",
       "<style scoped>\n",
       "    .dataframe tbody tr th:only-of-type {\n",
       "        vertical-align: middle;\n",
       "    }\n",
       "\n",
       "    .dataframe tbody tr th {\n",
       "        vertical-align: top;\n",
       "    }\n",
       "\n",
       "    .dataframe thead th {\n",
       "        text-align: right;\n",
       "    }\n",
       "</style>\n",
       "<table border=\"1\" class=\"dataframe\">\n",
       "  <thead>\n",
       "    <tr style=\"text-align: right;\">\n",
       "      <th></th>\n",
       "      <th>Brand</th>\n",
       "      <th>Price</th>\n",
       "      <th>Mileage</th>\n",
       "    </tr>\n",
       "  </thead>\n",
       "  <tbody>\n",
       "    <tr>\n",
       "      <th>0</th>\n",
       "      <td>daewoo</td>\n",
       "      <td>1017.81</td>\n",
       "      <td>123376.38</td>\n",
       "    </tr>\n",
       "    <tr>\n",
       "      <th>1</th>\n",
       "      <td>rover</td>\n",
       "      <td>1313.29</td>\n",
       "      <td>135423.55</td>\n",
       "    </tr>\n",
       "    <tr>\n",
       "      <th>2</th>\n",
       "      <td>trabant</td>\n",
       "      <td>1632.10</td>\n",
       "      <td>55463.32</td>\n",
       "    </tr>\n",
       "    <tr>\n",
       "      <th>3</th>\n",
       "      <td>daihatsu</td>\n",
       "      <td>1693.66</td>\n",
       "      <td>119044.67</td>\n",
       "    </tr>\n",
       "    <tr>\n",
       "      <th>4</th>\n",
       "      <td>renault</td>\n",
       "      <td>2265.96</td>\n",
       "      <td>128315.07</td>\n",
       "    </tr>\n",
       "    <tr>\n",
       "      <th>5</th>\n",
       "      <td>lancia</td>\n",
       "      <td>2324.65</td>\n",
       "      <td>126303.42</td>\n",
       "    </tr>\n",
       "    <tr>\n",
       "      <th>6</th>\n",
       "      <td>fiat</td>\n",
       "      <td>2662.65</td>\n",
       "      <td>117555.43</td>\n",
       "    </tr>\n",
       "    <tr>\n",
       "      <th>7</th>\n",
       "      <td>opel</td>\n",
       "      <td>2723.71</td>\n",
       "      <td>129540.44</td>\n",
       "    </tr>\n",
       "    <tr>\n",
       "      <th>8</th>\n",
       "      <td>mitsubishi</td>\n",
       "      <td>2935.75</td>\n",
       "      <td>127842.94</td>\n",
       "    </tr>\n",
       "    <tr>\n",
       "      <th>9</th>\n",
       "      <td>lada</td>\n",
       "      <td>3037.44</td>\n",
       "      <td>75266.67</td>\n",
       "    </tr>\n",
       "    <tr>\n",
       "      <th>10</th>\n",
       "      <td>peugeot</td>\n",
       "      <td>3105.72</td>\n",
       "      <td>125298.06</td>\n",
       "    </tr>\n",
       "    <tr>\n",
       "      <th>11</th>\n",
       "      <td>ford</td>\n",
       "      <td>3142.82</td>\n",
       "      <td>125248.74</td>\n",
       "    </tr>\n",
       "    <tr>\n",
       "      <th>12</th>\n",
       "      <td>citroen</td>\n",
       "      <td>3445.08</td>\n",
       "      <td>121253.66</td>\n",
       "    </tr>\n",
       "    <tr>\n",
       "      <th>13</th>\n",
       "      <td>smart</td>\n",
       "      <td>3487.69</td>\n",
       "      <td>100632.51</td>\n",
       "    </tr>\n",
       "    <tr>\n",
       "      <th>14</th>\n",
       "      <td>mazda</td>\n",
       "      <td>3622.35</td>\n",
       "      <td>127409.42</td>\n",
       "    </tr>\n",
       "    <tr>\n",
       "      <th>15</th>\n",
       "      <td>chrysler</td>\n",
       "      <td>3625.59</td>\n",
       "      <td>135494.74</td>\n",
       "    </tr>\n",
       "    <tr>\n",
       "      <th>16</th>\n",
       "      <td>honda</td>\n",
       "      <td>3643.72</td>\n",
       "      <td>126428.06</td>\n",
       "    </tr>\n",
       "    <tr>\n",
       "      <th>17</th>\n",
       "      <td>alfa_romeo</td>\n",
       "      <td>3674.20</td>\n",
       "      <td>130335.22</td>\n",
       "    </tr>\n",
       "    <tr>\n",
       "      <th>18</th>\n",
       "      <td>saab</td>\n",
       "      <td>3675.09</td>\n",
       "      <td>141400.00</td>\n",
       "    </tr>\n",
       "    <tr>\n",
       "      <th>19</th>\n",
       "      <td>subaru</td>\n",
       "      <td>3686.82</td>\n",
       "      <td>128573.32</td>\n",
       "    </tr>\n",
       "  </tbody>\n",
       "</table>\n",
       "</div>"
      ],
      "text/plain": [
       "         Brand    Price    Mileage\n",
       "0       daewoo  1017.81  123376.38\n",
       "1        rover  1313.29  135423.55\n",
       "2      trabant  1632.10   55463.32\n",
       "3     daihatsu  1693.66  119044.67\n",
       "4      renault  2265.96  128315.07\n",
       "5       lancia  2324.65  126303.42\n",
       "6         fiat  2662.65  117555.43\n",
       "7         opel  2723.71  129540.44\n",
       "8   mitsubishi  2935.75  127842.94\n",
       "9         lada  3037.44   75266.67\n",
       "10     peugeot  3105.72  125298.06\n",
       "11        ford  3142.82  125248.74\n",
       "12     citroen  3445.08  121253.66\n",
       "13       smart  3487.69  100632.51\n",
       "14       mazda  3622.35  127409.42\n",
       "15    chrysler  3625.59  135494.74\n",
       "16       honda  3643.72  126428.06\n",
       "17  alfa_romeo  3674.20  130335.22\n",
       "18        saab  3675.09  141400.00\n",
       "19      subaru  3686.82  128573.32"
      ]
     },
     "metadata": {},
     "output_type": "display_data"
    }
   ],
   "source": [
    "# Determine highest and lowest priced car brands (by mean)\n",
    "price_group = car_df_adjusted.groupby('Brand')['Price'].mean().round(2).sort_values().reset_index()\n",
    "mileage_group = car_df_adjusted.groupby('Brand')['Mileage'].mean().round(2).sort_values().reset_index()\n",
    "price_mileage = pd.merge(price_group, mileage_group, how='inner', on='Brand').sort_values('Price')\n",
    "top_10_brands = price_mileage.tail(20)\n",
    "bottom_10_brands = price_mileage.head(20)\n",
    "display(top_10_brands)\n",
    "display(bottom_10_brands)"
   ]
  },
  {
   "cell_type": "code",
   "execution_count": 16,
   "metadata": {},
   "outputs": [
    {
     "data": {
      "image/png": "[encoded data removed]",
      "text/plain": [
       "<Figure size 900x800 with 1 Axes>"
      ]
     },
     "metadata": {},
     "output_type": "display_data"
    }
   ],
   "source": [
    "# Create plot figure\n",
    "plt.figure(figsize=(9, 8))\n",
    "plt.xlim(750, 11550)\n",
    "\n",
    "# Plot scatter plots and regression lines\n",
    "sns.scatterplot(data=top_10_brands, x='Price', y='Mileage', hue='Price',\n",
    "                size='Price', palette='coolwarm', edgecolor='black', sizes=(50, 300))\n",
    "sns.regplot(x=top_10_brands['Price'],\n",
    "            y=top_10_brands['Mileage'], scatter=False, color='black', ci=None, truncate=False)\n",
    "sns.scatterplot(data=bottom_10_brands, x='Price', y='Mileage', hue='Price',\n",
    "                size='Price', palette='inferno', edgecolor='black', sizes=(50, 300))\n",
    "sns.regplot(x=bottom_10_brands['Price'],\n",
    "            y=bottom_10_brands['Mileage'], scatter=False, color='darkorange', ci=None, truncate=False)\n",
    "\n",
    "# Add title, axis labels, and legend\n",
    "plt.xlabel('Price', fontweight='bold')\n",
    "plt.xticks(fontsize=9.5)\n",
    "plt.ylabel('Mileage', fontweight='bold')\n",
    "plt.yticks(fontsize=9.5)\n",
    "plt.title(label='Does car brand affect the mileage relative to price?', fontweight='bold', fontsize=14)\n",
    "legend = plt.legend(title='Top vs bottom car brands', title_fontsize=9.5, bbox_to_anchor=(1.32, 0), loc='lower right', \n",
    "                    labelspacing=2.5, fontsize=8, facecolor='white', frameon=True, edgecolor='black', borderpad=1.3)\n",
    "\n",
    "# Display plot\n",
    "plt.grid(True)\n",
    "plt.show()"
   ]
  },
  {
   "cell_type": "markdown",
   "metadata": {},
   "source": [
    "## Model training"
   ]
  },
  {
   "cell_type": "markdown",
   "metadata": {},
   "source": [
    "### Model preparation\n",
    "\n",
    "1. <b>Features and target</b>:\n",
    "\n",
    "    - The following fields were not included as features because they do not provide relevant information for predicting the price of a used car. The target, <b><mark>Price</mark></b>, was also removed.\n",
    "\n",
    "        - <b><mark>DateCrawled</mark></b>\n",
    "        - <b><mark>DateCreated</mark></b>\n",
    "        - <b><mark>PostalCode</mark></b>\n",
    "        - <b><mark>LastSeen</mark></b>\n",
    "        - <b><mark>NumberOfPictures</mark></b><br><br>\n",
    "\n",
    "2. <b>One-hot encoding</b>:\n",
    "\n",
    "    - One-hot encoding was performed to transform categorical features to numerical. This created a total of 312 columns.<br><br>\n",
    "\n",
    "3. <b>Training, validation, and test datasets</b>:\n",
    "\n",
    "    - The data was split into training, validation, and test datasets with a 60 / 20 / 20 split. This ensures that there is ample data to accurately train the model, but still have sets to validate and test the evaluation of the model.<br><br>\n",
    "\n",
    "4. <b>Feature scaling</b>:\n",
    "\n",
    "    - There was great range and variety in the values of numerical features, so feature scaling was performed to scale and standardize the data so certain features weren't unfairly weighted. The scaled features included:\n",
    "        \n",
    "        - <b><mark>RegistrationYear</mark></b>\n",
    "        - <b><mark>Power</mark></b>\n",
    "        - <b><mark>Mileage</mark></b>\n",
    "        - <b><mark>RegistrationMonth</mark></b>"
   ]
  },
  {
   "cell_type": "markdown",
   "metadata": {},
   "source": [
    "<b>Features and target</b>"
   ]
  },
  {
   "cell_type": "code",
   "execution_count": 63,
   "metadata": {},
   "outputs": [],
   "source": [
    "# Define features and target variables\n",
    "features = car_df.drop(['DateCrawled', 'Price', 'DateCreated', 'PostalCode', 'LastSeen', 'NumberOfPictures'], axis=1)\n",
    "target = car_df['Price']"
   ]
  },
  {
   "cell_type": "markdown",
   "metadata": {},
   "source": [
    "<b>One-hot encoding</b>"
   ]
  },
  {
   "cell_type": "code",
   "execution_count": 64,
   "metadata": {},
   "outputs": [
    {
     "data": {
      "text/html": [
       "<div>\n",
       "<style scoped>\n",
       "    .dataframe tbody tr th:only-of-type {\n",
       "        vertical-align: middle;\n",
       "    }\n",
       "\n",
       "    .dataframe tbody tr th {\n",
       "        vertical-align: top;\n",
       "    }\n",
       "\n",
       "    .dataframe thead th {\n",
       "        text-align: right;\n",
       "    }\n",
       "</style>\n",
       "<table border=\"1\" class=\"dataframe\">\n",
       "  <thead>\n",
       "    <tr style=\"text-align: right;\">\n",
       "      <th></th>\n",
       "      <th>RegistrationYear</th>\n",
       "      <th>Power</th>\n",
       "      <th>Mileage</th>\n",
       "      <th>RegistrationMonth</th>\n",
       "      <th>VehicleType_convertible</th>\n",
       "      <th>VehicleType_coupe</th>\n",
       "      <th>VehicleType_other</th>\n",
       "      <th>VehicleType_sedan</th>\n",
       "      <th>VehicleType_small</th>\n",
       "      <th>VehicleType_suv</th>\n",
       "      <th>...</th>\n",
       "      <th>Brand_smart</th>\n",
       "      <th>Brand_sonstige_autos</th>\n",
       "      <th>Brand_subaru</th>\n",
       "      <th>Brand_suzuki</th>\n",
       "      <th>Brand_toyota</th>\n",
       "      <th>Brand_trabant</th>\n",
       "      <th>Brand_volkswagen</th>\n",
       "      <th>Brand_volvo</th>\n",
       "      <th>NotRepaired_unknown</th>\n",
       "      <th>NotRepaired_yes</th>\n",
       "    </tr>\n",
       "  </thead>\n",
       "  <tbody>\n",
       "    <tr>\n",
       "      <th>0</th>\n",
       "      <td>1993</td>\n",
       "      <td>0</td>\n",
       "      <td>150000</td>\n",
       "      <td>0</td>\n",
       "      <td>0</td>\n",
       "      <td>0</td>\n",
       "      <td>0</td>\n",
       "      <td>0</td>\n",
       "      <td>0</td>\n",
       "      <td>0</td>\n",
       "      <td>...</td>\n",
       "      <td>0</td>\n",
       "      <td>0</td>\n",
       "      <td>0</td>\n",
       "      <td>0</td>\n",
       "      <td>0</td>\n",
       "      <td>0</td>\n",
       "      <td>1</td>\n",
       "      <td>0</td>\n",
       "      <td>1</td>\n",
       "      <td>0</td>\n",
       "    </tr>\n",
       "    <tr>\n",
       "      <th>1</th>\n",
       "      <td>2011</td>\n",
       "      <td>190</td>\n",
       "      <td>125000</td>\n",
       "      <td>5</td>\n",
       "      <td>0</td>\n",
       "      <td>1</td>\n",
       "      <td>0</td>\n",
       "      <td>0</td>\n",
       "      <td>0</td>\n",
       "      <td>0</td>\n",
       "      <td>...</td>\n",
       "      <td>0</td>\n",
       "      <td>0</td>\n",
       "      <td>0</td>\n",
       "      <td>0</td>\n",
       "      <td>0</td>\n",
       "      <td>0</td>\n",
       "      <td>0</td>\n",
       "      <td>0</td>\n",
       "      <td>0</td>\n",
       "      <td>1</td>\n",
       "    </tr>\n",
       "    <tr>\n",
       "      <th>2</th>\n",
       "      <td>2004</td>\n",
       "      <td>163</td>\n",
       "      <td>125000</td>\n",
       "      <td>8</td>\n",
       "      <td>0</td>\n",
       "      <td>0</td>\n",
       "      <td>0</td>\n",
       "      <td>0</td>\n",
       "      <td>0</td>\n",
       "      <td>1</td>\n",
       "      <td>...</td>\n",
       "      <td>0</td>\n",
       "      <td>0</td>\n",
       "      <td>0</td>\n",
       "      <td>0</td>\n",
       "      <td>0</td>\n",
       "      <td>0</td>\n",
       "      <td>0</td>\n",
       "      <td>0</td>\n",
       "      <td>1</td>\n",
       "      <td>0</td>\n",
       "    </tr>\n",
       "    <tr>\n",
       "      <th>3</th>\n",
       "      <td>2001</td>\n",
       "      <td>75</td>\n",
       "      <td>150000</td>\n",
       "      <td>6</td>\n",
       "      <td>0</td>\n",
       "      <td>0</td>\n",
       "      <td>0</td>\n",
       "      <td>0</td>\n",
       "      <td>1</td>\n",
       "      <td>0</td>\n",
       "      <td>...</td>\n",
       "      <td>0</td>\n",
       "      <td>0</td>\n",
       "      <td>0</td>\n",
       "      <td>0</td>\n",
       "      <td>0</td>\n",
       "      <td>0</td>\n",
       "      <td>1</td>\n",
       "      <td>0</td>\n",
       "      <td>0</td>\n",
       "      <td>0</td>\n",
       "    </tr>\n",
       "    <tr>\n",
       "      <th>4</th>\n",
       "      <td>2008</td>\n",
       "      <td>69</td>\n",
       "      <td>90000</td>\n",
       "      <td>7</td>\n",
       "      <td>0</td>\n",
       "      <td>0</td>\n",
       "      <td>0</td>\n",
       "      <td>0</td>\n",
       "      <td>1</td>\n",
       "      <td>0</td>\n",
       "      <td>...</td>\n",
       "      <td>0</td>\n",
       "      <td>0</td>\n",
       "      <td>0</td>\n",
       "      <td>0</td>\n",
       "      <td>0</td>\n",
       "      <td>0</td>\n",
       "      <td>0</td>\n",
       "      <td>0</td>\n",
       "      <td>0</td>\n",
       "      <td>0</td>\n",
       "    </tr>\n",
       "    <tr>\n",
       "      <th>...</th>\n",
       "      <td>...</td>\n",
       "      <td>...</td>\n",
       "      <td>...</td>\n",
       "      <td>...</td>\n",
       "      <td>...</td>\n",
       "      <td>...</td>\n",
       "      <td>...</td>\n",
       "      <td>...</td>\n",
       "      <td>...</td>\n",
       "      <td>...</td>\n",
       "      <td>...</td>\n",
       "      <td>...</td>\n",
       "      <td>...</td>\n",
       "      <td>...</td>\n",
       "      <td>...</td>\n",
       "      <td>...</td>\n",
       "      <td>...</td>\n",
       "      <td>...</td>\n",
       "      <td>...</td>\n",
       "      <td>...</td>\n",
       "      <td>...</td>\n",
       "    </tr>\n",
       "    <tr>\n",
       "      <th>353931</th>\n",
       "      <td>2005</td>\n",
       "      <td>0</td>\n",
       "      <td>150000</td>\n",
       "      <td>7</td>\n",
       "      <td>0</td>\n",
       "      <td>0</td>\n",
       "      <td>0</td>\n",
       "      <td>0</td>\n",
       "      <td>0</td>\n",
       "      <td>0</td>\n",
       "      <td>...</td>\n",
       "      <td>0</td>\n",
       "      <td>0</td>\n",
       "      <td>0</td>\n",
       "      <td>0</td>\n",
       "      <td>0</td>\n",
       "      <td>0</td>\n",
       "      <td>0</td>\n",
       "      <td>0</td>\n",
       "      <td>0</td>\n",
       "      <td>1</td>\n",
       "    </tr>\n",
       "    <tr>\n",
       "      <th>353932</th>\n",
       "      <td>2005</td>\n",
       "      <td>0</td>\n",
       "      <td>20000</td>\n",
       "      <td>1</td>\n",
       "      <td>0</td>\n",
       "      <td>0</td>\n",
       "      <td>0</td>\n",
       "      <td>0</td>\n",
       "      <td>0</td>\n",
       "      <td>0</td>\n",
       "      <td>...</td>\n",
       "      <td>0</td>\n",
       "      <td>1</td>\n",
       "      <td>0</td>\n",
       "      <td>0</td>\n",
       "      <td>0</td>\n",
       "      <td>0</td>\n",
       "      <td>0</td>\n",
       "      <td>0</td>\n",
       "      <td>1</td>\n",
       "      <td>0</td>\n",
       "    </tr>\n",
       "    <tr>\n",
       "      <th>353933</th>\n",
       "      <td>2000</td>\n",
       "      <td>101</td>\n",
       "      <td>125000</td>\n",
       "      <td>3</td>\n",
       "      <td>1</td>\n",
       "      <td>0</td>\n",
       "      <td>0</td>\n",
       "      <td>0</td>\n",
       "      <td>0</td>\n",
       "      <td>0</td>\n",
       "      <td>...</td>\n",
       "      <td>1</td>\n",
       "      <td>0</td>\n",
       "      <td>0</td>\n",
       "      <td>0</td>\n",
       "      <td>0</td>\n",
       "      <td>0</td>\n",
       "      <td>0</td>\n",
       "      <td>0</td>\n",
       "      <td>0</td>\n",
       "      <td>0</td>\n",
       "    </tr>\n",
       "    <tr>\n",
       "      <th>353934</th>\n",
       "      <td>1996</td>\n",
       "      <td>102</td>\n",
       "      <td>150000</td>\n",
       "      <td>3</td>\n",
       "      <td>0</td>\n",
       "      <td>0</td>\n",
       "      <td>0</td>\n",
       "      <td>0</td>\n",
       "      <td>0</td>\n",
       "      <td>0</td>\n",
       "      <td>...</td>\n",
       "      <td>0</td>\n",
       "      <td>0</td>\n",
       "      <td>0</td>\n",
       "      <td>0</td>\n",
       "      <td>0</td>\n",
       "      <td>0</td>\n",
       "      <td>1</td>\n",
       "      <td>0</td>\n",
       "      <td>0</td>\n",
       "      <td>0</td>\n",
       "    </tr>\n",
       "    <tr>\n",
       "      <th>353935</th>\n",
       "      <td>2002</td>\n",
       "      <td>100</td>\n",
       "      <td>150000</td>\n",
       "      <td>6</td>\n",
       "      <td>0</td>\n",
       "      <td>0</td>\n",
       "      <td>0</td>\n",
       "      <td>0</td>\n",
       "      <td>0</td>\n",
       "      <td>0</td>\n",
       "      <td>...</td>\n",
       "      <td>0</td>\n",
       "      <td>0</td>\n",
       "      <td>0</td>\n",
       "      <td>0</td>\n",
       "      <td>0</td>\n",
       "      <td>0</td>\n",
       "      <td>1</td>\n",
       "      <td>0</td>\n",
       "      <td>1</td>\n",
       "      <td>0</td>\n",
       "    </tr>\n",
       "  </tbody>\n",
       "</table>\n",
       "<p>353936 rows × 312 columns</p>\n",
       "</div>"
      ],
      "text/plain": [
       "        RegistrationYear  Power  Mileage  RegistrationMonth  \\\n",
       "0                   1993      0   150000                  0   \n",
       "1                   2011    190   125000                  5   \n",
       "2                   2004    163   125000                  8   \n",
       "3                   2001     75   150000                  6   \n",
       "4                   2008     69    90000                  7   \n",
       "...                  ...    ...      ...                ...   \n",
       "353931              2005      0   150000                  7   \n",
       "353932              2005      0    20000                  1   \n",
       "353933              2000    101   125000                  3   \n",
       "353934              1996    102   150000                  3   \n",
       "353935              2002    100   150000                  6   \n",
       "\n",
       "        VehicleType_convertible  VehicleType_coupe  VehicleType_other  \\\n",
       "0                             0                  0                  0   \n",
       "1                             0                  1                  0   \n",
       "2                             0                  0                  0   \n",
       "3                             0                  0                  0   \n",
       "4                             0                  0                  0   \n",
       "...                         ...                ...                ...   \n",
       "353931                        0                  0                  0   \n",
       "353932                        0                  0                  0   \n",
       "353933                        1                  0                  0   \n",
       "353934                        0                  0                  0   \n",
       "353935                        0                  0                  0   \n",
       "\n",
       "        VehicleType_sedan  VehicleType_small  VehicleType_suv  ...  \\\n",
       "0                       0                  0                0  ...   \n",
       "1                       0                  0                0  ...   \n",
       "2                       0                  0                1  ...   \n",
       "3                       0                  1                0  ...   \n",
       "4                       0                  1                0  ...   \n",
       "...                   ...                ...              ...  ...   \n",
       "353931                  0                  0                0  ...   \n",
       "353932                  0                  0                0  ...   \n",
       "353933                  0                  0                0  ...   \n",
       "353934                  0                  0                0  ...   \n",
       "353935                  0                  0                0  ...   \n",
       "\n",
       "        Brand_smart  Brand_sonstige_autos  Brand_subaru  Brand_suzuki  \\\n",
       "0                 0                     0             0             0   \n",
       "1                 0                     0             0             0   \n",
       "2                 0                     0             0             0   \n",
       "3                 0                     0             0             0   \n",
       "4                 0                     0             0             0   \n",
       "...             ...                   ...           ...           ...   \n",
       "353931            0                     0             0             0   \n",
       "353932            0                     1             0             0   \n",
       "353933            1                     0             0             0   \n",
       "353934            0                     0             0             0   \n",
       "353935            0                     0             0             0   \n",
       "\n",
       "        Brand_toyota  Brand_trabant  Brand_volkswagen  Brand_volvo  \\\n",
       "0                  0              0                 1            0   \n",
       "1                  0              0                 0            0   \n",
       "2                  0              0                 0            0   \n",
       "3                  0              0                 1            0   \n",
       "4                  0              0                 0            0   \n",
       "...              ...            ...               ...          ...   \n",
       "353931             0              0                 0            0   \n",
       "353932             0              0                 0            0   \n",
       "353933             0              0                 0            0   \n",
       "353934             0              0                 1            0   \n",
       "353935             0              0                 1            0   \n",
       "\n",
       "        NotRepaired_unknown  NotRepaired_yes  \n",
       "0                         1                0  \n",
       "1                         0                1  \n",
       "2                         1                0  \n",
       "3                         0                0  \n",
       "4                         0                0  \n",
       "...                     ...              ...  \n",
       "353931                    0                1  \n",
       "353932                    1                0  \n",
       "353933                    0                0  \n",
       "353934                    0                0  \n",
       "353935                    1                0  \n",
       "\n",
       "[353936 rows x 312 columns]"
      ]
     },
     "metadata": {},
     "output_type": "display_data"
    }
   ],
   "source": [
    "# Transform categorical features to numerical features\n",
    "features = pd.get_dummies(features, drop_first=True)\n",
    "display(features)"
   ]
  },
  {
   "cell_type": "markdown",
   "metadata": {},
   "source": [
    "<b>Training, validation, and test datasets</b>"
   ]
  },
  {
   "cell_type": "code",
   "execution_count": 65,
   "metadata": {},
   "outputs": [],
   "source": [
    "# Split data into training, validation, and test datasets\n",
    "car_df_train_features, car_df_test_features, car_df_train_target, car_df_test_target = train_test_split(features, target, \n",
    "                                                                                            test_size=0.2, random_state=100)\n",
    "car_df_train_features, car_df_val_features, car_df_train_target, car_df_val_target = train_test_split(car_df_train_features, \n",
    "                                                                                                      car_df_train_target, test_size=0.25, \n",
    "                                                                                                      random_state=100)"
   ]
  },
  {
   "cell_type": "markdown",
   "metadata": {},
   "source": [
    "<b>Feature scaling</b>"
   ]
  },
  {
   "cell_type": "code",
   "execution_count": 66,
   "metadata": {},
   "outputs": [
    {
     "name": "stderr",
     "output_type": "stream",
     "text": [
      "/tmp/ipykernel_136/3432020867.py:11: SettingWithCopyWarning: \n",
      "A value is trying to be set on a copy of a slice from a DataFrame.\n",
      "Try using .loc[row_indexer,col_indexer] = value instead\n",
      "\n",
      "See the caveats in the documentation: https://pandas.pydata.org/pandas-docs/stable/user_guide/indexing.html#returning-a-view-versus-a-copy\n",
      "  car_df_test_features[standardize_list] = scaler.transform(car_df_test_features[standardize_list])\n",
      "/opt/conda/envs/python3/lib/python3.9/site-packages/pandas/core/indexing.py:1738: SettingWithCopyWarning: \n",
      "A value is trying to be set on a copy of a slice from a DataFrame.\n",
      "Try using .loc[row_indexer,col_indexer] = value instead\n",
      "\n",
      "See the caveats in the documentation: https://pandas.pydata.org/pandas-docs/stable/user_guide/indexing.html#returning-a-view-versus-a-copy\n",
      "  self._setitem_single_column(loc, value[:, i].tolist(), pi)\n"
     ]
    },
    {
     "data": {
      "text/html": [
       "<div>\n",
       "<style scoped>\n",
       "    .dataframe tbody tr th:only-of-type {\n",
       "        vertical-align: middle;\n",
       "    }\n",
       "\n",
       "    .dataframe tbody tr th {\n",
       "        vertical-align: top;\n",
       "    }\n",
       "\n",
       "    .dataframe thead th {\n",
       "        text-align: right;\n",
       "    }\n",
       "</style>\n",
       "<table border=\"1\" class=\"dataframe\">\n",
       "  <thead>\n",
       "    <tr style=\"text-align: right;\">\n",
       "      <th></th>\n",
       "      <th>RegistrationYear</th>\n",
       "      <th>Power</th>\n",
       "      <th>Mileage</th>\n",
       "      <th>RegistrationMonth</th>\n",
       "      <th>VehicleType_convertible</th>\n",
       "      <th>VehicleType_coupe</th>\n",
       "      <th>VehicleType_other</th>\n",
       "      <th>VehicleType_sedan</th>\n",
       "      <th>VehicleType_small</th>\n",
       "      <th>VehicleType_suv</th>\n",
       "      <th>...</th>\n",
       "      <th>Brand_smart</th>\n",
       "      <th>Brand_sonstige_autos</th>\n",
       "      <th>Brand_subaru</th>\n",
       "      <th>Brand_suzuki</th>\n",
       "      <th>Brand_toyota</th>\n",
       "      <th>Brand_trabant</th>\n",
       "      <th>Brand_volkswagen</th>\n",
       "      <th>Brand_volvo</th>\n",
       "      <th>NotRepaired_unknown</th>\n",
       "      <th>NotRepaired_yes</th>\n",
       "    </tr>\n",
       "  </thead>\n",
       "  <tbody>\n",
       "    <tr>\n",
       "      <th>317007</th>\n",
       "      <td>-1.067757</td>\n",
       "      <td>-0.611469</td>\n",
       "      <td>0.57346</td>\n",
       "      <td>-1.534443</td>\n",
       "      <td>0</td>\n",
       "      <td>0</td>\n",
       "      <td>0</td>\n",
       "      <td>0</td>\n",
       "      <td>0</td>\n",
       "      <td>0</td>\n",
       "      <td>...</td>\n",
       "      <td>0</td>\n",
       "      <td>0</td>\n",
       "      <td>0</td>\n",
       "      <td>0</td>\n",
       "      <td>0</td>\n",
       "      <td>0</td>\n",
       "      <td>0</td>\n",
       "      <td>0</td>\n",
       "      <td>1</td>\n",
       "      <td>0</td>\n",
       "    </tr>\n",
       "    <tr>\n",
       "      <th>236965</th>\n",
       "      <td>-0.539586</td>\n",
       "      <td>0.755569</td>\n",
       "      <td>0.57346</td>\n",
       "      <td>1.686654</td>\n",
       "      <td>0</td>\n",
       "      <td>0</td>\n",
       "      <td>0</td>\n",
       "      <td>1</td>\n",
       "      <td>0</td>\n",
       "      <td>0</td>\n",
       "      <td>...</td>\n",
       "      <td>0</td>\n",
       "      <td>0</td>\n",
       "      <td>0</td>\n",
       "      <td>0</td>\n",
       "      <td>0</td>\n",
       "      <td>0</td>\n",
       "      <td>0</td>\n",
       "      <td>0</td>\n",
       "      <td>1</td>\n",
       "      <td>0</td>\n",
       "    </tr>\n",
       "    <tr>\n",
       "      <th>126974</th>\n",
       "      <td>1.044929</td>\n",
       "      <td>0.169695</td>\n",
       "      <td>0.57346</td>\n",
       "      <td>-0.460744</td>\n",
       "      <td>0</td>\n",
       "      <td>0</td>\n",
       "      <td>0</td>\n",
       "      <td>0</td>\n",
       "      <td>0</td>\n",
       "      <td>0</td>\n",
       "      <td>...</td>\n",
       "      <td>0</td>\n",
       "      <td>0</td>\n",
       "      <td>0</td>\n",
       "      <td>0</td>\n",
       "      <td>0</td>\n",
       "      <td>0</td>\n",
       "      <td>1</td>\n",
       "      <td>0</td>\n",
       "      <td>0</td>\n",
       "      <td>0</td>\n",
       "    </tr>\n",
       "    <tr>\n",
       "      <th>286616</th>\n",
       "      <td>-0.671629</td>\n",
       "      <td>-0.042335</td>\n",
       "      <td>0.57346</td>\n",
       "      <td>-0.729169</td>\n",
       "      <td>0</td>\n",
       "      <td>0</td>\n",
       "      <td>0</td>\n",
       "      <td>1</td>\n",
       "      <td>0</td>\n",
       "      <td>0</td>\n",
       "      <td>...</td>\n",
       "      <td>0</td>\n",
       "      <td>0</td>\n",
       "      <td>0</td>\n",
       "      <td>0</td>\n",
       "      <td>0</td>\n",
       "      <td>0</td>\n",
       "      <td>0</td>\n",
       "      <td>0</td>\n",
       "      <td>0</td>\n",
       "      <td>0</td>\n",
       "    </tr>\n",
       "    <tr>\n",
       "      <th>195792</th>\n",
       "      <td>-0.803671</td>\n",
       "      <td>-0.611469</td>\n",
       "      <td>0.57346</td>\n",
       "      <td>0.612955</td>\n",
       "      <td>0</td>\n",
       "      <td>0</td>\n",
       "      <td>0</td>\n",
       "      <td>0</td>\n",
       "      <td>0</td>\n",
       "      <td>0</td>\n",
       "      <td>...</td>\n",
       "      <td>0</td>\n",
       "      <td>0</td>\n",
       "      <td>0</td>\n",
       "      <td>0</td>\n",
       "      <td>0</td>\n",
       "      <td>0</td>\n",
       "      <td>0</td>\n",
       "      <td>0</td>\n",
       "      <td>0</td>\n",
       "      <td>1</td>\n",
       "    </tr>\n",
       "  </tbody>\n",
       "</table>\n",
       "<p>5 rows × 312 columns</p>\n",
       "</div>"
      ],
      "text/plain": [
       "        RegistrationYear     Power  Mileage  RegistrationMonth  \\\n",
       "317007         -1.067757 -0.611469  0.57346          -1.534443   \n",
       "236965         -0.539586  0.755569  0.57346           1.686654   \n",
       "126974          1.044929  0.169695  0.57346          -0.460744   \n",
       "286616         -0.671629 -0.042335  0.57346          -0.729169   \n",
       "195792         -0.803671 -0.611469  0.57346           0.612955   \n",
       "\n",
       "        VehicleType_convertible  VehicleType_coupe  VehicleType_other  \\\n",
       "317007                        0                  0                  0   \n",
       "236965                        0                  0                  0   \n",
       "126974                        0                  0                  0   \n",
       "286616                        0                  0                  0   \n",
       "195792                        0                  0                  0   \n",
       "\n",
       "        VehicleType_sedan  VehicleType_small  VehicleType_suv  ...  \\\n",
       "317007                  0                  0                0  ...   \n",
       "236965                  1                  0                0  ...   \n",
       "126974                  0                  0                0  ...   \n",
       "286616                  1                  0                0  ...   \n",
       "195792                  0                  0                0  ...   \n",
       "\n",
       "        Brand_smart  Brand_sonstige_autos  Brand_subaru  Brand_suzuki  \\\n",
       "317007            0                     0             0             0   \n",
       "236965            0                     0             0             0   \n",
       "126974            0                     0             0             0   \n",
       "286616            0                     0             0             0   \n",
       "195792            0                     0             0             0   \n",
       "\n",
       "        Brand_toyota  Brand_trabant  Brand_volkswagen  Brand_volvo  \\\n",
       "317007             0              0                 0            0   \n",
       "236965             0              0                 0            0   \n",
       "126974             0              0                 1            0   \n",
       "286616             0              0                 0            0   \n",
       "195792             0              0                 0            0   \n",
       "\n",
       "        NotRepaired_unknown  NotRepaired_yes  \n",
       "317007                    1                0  \n",
       "236965                    1                0  \n",
       "126974                    0                0  \n",
       "286616                    0                0  \n",
       "195792                    0                1  \n",
       "\n",
       "[5 rows x 312 columns]"
      ]
     },
     "metadata": {},
     "output_type": "display_data"
    }
   ],
   "source": [
    "# Define list of variables to be standardized and scaled\n",
    "standardize_list = ['RegistrationYear', 'Power', 'Mileage', 'RegistrationMonth']\n",
    "\n",
    "# Create scaler instance and standardize features for all datasets\n",
    "scaler = StandardScaler()\n",
    "scaler.fit(car_df_train_features[standardize_list])\n",
    "scaler.fit(car_df_test_features[standardize_list])\n",
    "scaler.fit(car_df_val_features[standardize_list])\n",
    "\n",
    "car_df_train_features[standardize_list] = scaler.transform(car_df_train_features[standardize_list])\n",
    "car_df_test_features[standardize_list] = scaler.transform(car_df_test_features[standardize_list])\n",
    "car_df_val_features[standardize_list] = scaler.transform(car_df_val_features[standardize_list])\n",
    "\n",
    "display(car_df_train_features.head())"
   ]
  },
  {
   "cell_type": "markdown",
   "metadata": {},
   "source": [
    "### Model building"
   ]
  },
  {
   "cell_type": "markdown",
   "metadata": {},
   "source": [
    "#### Decision Tree Regression\n",
    "\n",
    "The first model is a Decision Tree Regression model. A base model with no modifications or tuning was first built and trained to establish a baseline. Then, tuning of certain hyperparameters was performed to optimize the model's performance and to improve the model. Both models were evaluated by the *root mean squared error (RMSE)* metric. Finally, a sanity check was performed against a Linear Regression model to validate the model is useful and the right improvements were made.\n",
    "\n",
    "Hyperparameter values tested:\n",
    "\n",
    "- <b>max_depth</b>: 1, 20, 40, 60, 80, 100\n",
    "- <b>min_samples_leaf</b>: 1, 20, 40, 60, 80, 100\n",
    "- <b>min_samples_split</b>: 2, 20, 40, 60, 80, 100"
   ]
  },
  {
   "cell_type": "markdown",
   "metadata": {},
   "source": [
    "<b>Base model</b>"
   ]
  },
  {
   "cell_type": "code",
   "execution_count": 23,
   "metadata": {},
   "outputs": [
    {
     "name": "stdout",
     "output_type": "stream",
     "text": [
      "RMSE: 2234.68\n",
      "Training time: 5.18\n",
      "Prediction time: 0.09\n",
      "\n",
      "Maximum depth of tree:  84\n",
      "# of nodes:  326815\n",
      "# of leaves: 163408\n",
      "Minimum # of samples on a node:  1\n",
      "Maximum # of samples on a node:  212361\n",
      "Median samples per node:  2.0\n"
     ]
    },
    {
     "data": {
      "text/html": [
       "<div>\n",
       "<style scoped>\n",
       "    .dataframe tbody tr th:only-of-type {\n",
       "        vertical-align: middle;\n",
       "    }\n",
       "\n",
       "    .dataframe tbody tr th {\n",
       "        vertical-align: top;\n",
       "    }\n",
       "\n",
       "    .dataframe thead th {\n",
       "        text-align: right;\n",
       "    }\n",
       "</style>\n",
       "<table border=\"1\" class=\"dataframe\">\n",
       "  <thead>\n",
       "    <tr style=\"text-align: right;\">\n",
       "      <th></th>\n",
       "      <th>targets</th>\n",
       "      <th>preds</th>\n",
       "    </tr>\n",
       "  </thead>\n",
       "  <tbody>\n",
       "    <tr>\n",
       "      <th>0</th>\n",
       "      <td>3100</td>\n",
       "      <td>2200.0</td>\n",
       "    </tr>\n",
       "    <tr>\n",
       "      <th>1</th>\n",
       "      <td>6690</td>\n",
       "      <td>6945.0</td>\n",
       "    </tr>\n",
       "    <tr>\n",
       "      <th>2</th>\n",
       "      <td>4650</td>\n",
       "      <td>4650.0</td>\n",
       "    </tr>\n",
       "    <tr>\n",
       "      <th>3</th>\n",
       "      <td>600</td>\n",
       "      <td>300.0</td>\n",
       "    </tr>\n",
       "    <tr>\n",
       "      <th>4</th>\n",
       "      <td>0</td>\n",
       "      <td>15500.0</td>\n",
       "    </tr>\n",
       "    <tr>\n",
       "      <th>5</th>\n",
       "      <td>4100</td>\n",
       "      <td>4199.0</td>\n",
       "    </tr>\n",
       "    <tr>\n",
       "      <th>6</th>\n",
       "      <td>7450</td>\n",
       "      <td>7800.0</td>\n",
       "    </tr>\n",
       "    <tr>\n",
       "      <th>7</th>\n",
       "      <td>700</td>\n",
       "      <td>900.0</td>\n",
       "    </tr>\n",
       "    <tr>\n",
       "      <th>8</th>\n",
       "      <td>1250</td>\n",
       "      <td>1480.0</td>\n",
       "    </tr>\n",
       "    <tr>\n",
       "      <th>9</th>\n",
       "      <td>1800</td>\n",
       "      <td>2000.0</td>\n",
       "    </tr>\n",
       "    <tr>\n",
       "      <th>10</th>\n",
       "      <td>5500</td>\n",
       "      <td>4900.0</td>\n",
       "    </tr>\n",
       "    <tr>\n",
       "      <th>11</th>\n",
       "      <td>5830</td>\n",
       "      <td>4950.0</td>\n",
       "    </tr>\n",
       "    <tr>\n",
       "      <th>12</th>\n",
       "      <td>11450</td>\n",
       "      <td>0.0</td>\n",
       "    </tr>\n",
       "    <tr>\n",
       "      <th>13</th>\n",
       "      <td>6900</td>\n",
       "      <td>4500.0</td>\n",
       "    </tr>\n",
       "    <tr>\n",
       "      <th>14</th>\n",
       "      <td>300</td>\n",
       "      <td>500.0</td>\n",
       "    </tr>\n",
       "  </tbody>\n",
       "</table>\n",
       "</div>"
      ],
      "text/plain": [
       "    targets    preds\n",
       "0      3100   2200.0\n",
       "1      6690   6945.0\n",
       "2      4650   4650.0\n",
       "3       600    300.0\n",
       "4         0  15500.0\n",
       "5      4100   4199.0\n",
       "6      7450   7800.0\n",
       "7       700    900.0\n",
       "8      1250   1480.0\n",
       "9      1800   2000.0\n",
       "10     5500   4900.0\n",
       "11     5830   4950.0\n",
       "12    11450      0.0\n",
       "13     6900   4500.0\n",
       "14      300    500.0"
      ]
     },
     "metadata": {},
     "output_type": "display_data"
    }
   ],
   "source": [
    "# Create and train model\n",
    "model_dt = DecisionTreeRegressor(random_state=50)\n",
    "\n",
    "start = time.time()\n",
    "model_dt.fit(car_df_train_features, car_df_train_target)\n",
    "end = time.time()\n",
    "time_train_base = round(end - start, 2)\n",
    "\n",
    "# Gather predictions\n",
    "start = time.time()\n",
    "predictions = model_dt.predict(car_df_val_features)\n",
    "end = time.time()\n",
    "time_predict_base = round(end - start, 2)\n",
    "\n",
    "# Evaluate model witn RMSE and times to run\n",
    "MSE_base = mean_squared_error(car_df_val_target, predictions)\n",
    "RMSE_base = MSE_base**0.5\n",
    "print('RMSE:', RMSE_base.round(2))\n",
    "print('Training time:', time_train_base)\n",
    "print('Prediction time:', time_predict_base)\n",
    "print()\n",
    "\n",
    "# Get depth, lowest # of samples, highest # of samples, and median # of samples\n",
    "print('Maximum depth of tree: ', model_dt.get_depth())\n",
    "print('# of nodes: ', len(model_dt.tree_.value))\n",
    "print('# of leaves:', model_dt.tree_.n_leaves)\n",
    "print('Minimum # of samples on a node: ', np.min(model_dt.tree_.n_node_samples))\n",
    "print('Maximum # of samples on a node: ', np.max(model_dt.tree_.n_node_samples))\n",
    "print('Median samples per node: ', np.median(model_dt.tree_.n_node_samples))\n",
    "\n",
    "# Display a subset of targets vs predictions\n",
    "predictions2 = pd.Series(predictions, name='preds').reset_index(drop=True)\n",
    "car_df_val_target2 = car_df_val_target.reset_index(drop=True).rename('targets')\n",
    "combine = pd.concat([car_df_val_target2, predictions2], axis=1)\n",
    "display(combine.head(15))"
   ]
  },
  {
   "cell_type": "markdown",
   "metadata": {},
   "source": [
    "<b>Hyperparameter tuning</b>"
   ]
  },
  {
   "cell_type": "code",
   "execution_count": 24,
   "metadata": {},
   "outputs": [
    {
     "name": "stdout",
     "output_type": "stream",
     "text": [
      "max_depth = 1 || RMSE: 3786.072625843077\n",
      "max_depth = 20 || RMSE: 2108.4080519566614\n",
      "max_depth = 40 || RMSE: 2221.009254426507\n",
      "max_depth = 60 || RMSE: 2230.6874076286954\n",
      "max_depth = 80 || RMSE: 2233.7773683925425\n",
      "max_depth = 100 || RMSE: 2234.681649701128\n"
     ]
    }
   ],
   "source": [
    "# Compare max_depth values\n",
    "for depth in [1] + list(range(20, 101, 20)):\n",
    "    model_dt = DecisionTreeRegressor(max_depth=depth, random_state=50)\n",
    "    model_dt.fit(car_df_train_features, car_df_train_target)\n",
    "    predictions = model_dt.predict(car_df_val_features)\n",
    "    print('max_depth =', depth, '|| ', end='')\n",
    "    MSE = mean_squared_error(car_df_val_target, predictions)\n",
    "    RMSE = MSE**0.5\n",
    "    print('RMSE:', RMSE)"
   ]
  },
  {
   "cell_type": "code",
   "execution_count": 25,
   "metadata": {},
   "outputs": [
    {
     "name": "stdout",
     "output_type": "stream",
     "text": [
      "min_samples_leaf: = 1 || RMSE: 2234.681649701128\n",
      "min_samples_leaf: = 20 || RMSE: 1948.3707282173643\n",
      "min_samples_leaf: = 40 || RMSE: 1984.966775675518\n",
      "min_samples_leaf: = 60 || RMSE: 2029.061257041194\n",
      "min_samples_leaf: = 80 || RMSE: 2053.1375732372103\n",
      "min_samples_leaf: = 100 || RMSE: 2082.805075887625\n"
     ]
    }
   ],
   "source": [
    "# Compare min_samples_leaf values\n",
    "for leaf in [1] + list(range(20, 101, 20)):\n",
    "    model_dt = DecisionTreeRegressor(min_samples_leaf=leaf, random_state=50)\n",
    "    model_dt.fit(car_df_train_features, car_df_train_target)\n",
    "    predictions = model_dt.predict(car_df_val_features)\n",
    "    print('min_samples_leaf: =', leaf, '|| ', end='')\n",
    "    MSE = mean_squared_error(car_df_val_target, predictions)\n",
    "    RMSE = MSE**0.5\n",
    "    print('RMSE:', RMSE)"
   ]
  },
  {
   "cell_type": "code",
   "execution_count": 26,
   "metadata": {},
   "outputs": [
    {
     "name": "stdout",
     "output_type": "stream",
     "text": [
      "min_samples_split: = 2 || RMSE: 2234.681649701128\n",
      "min_samples_split: = 20 || RMSE: 2001.581715589662\n",
      "min_samples_split: = 40 || RMSE: 1964.4456618553945\n",
      "min_samples_split: = 60 || RMSE: 1944.6814280201265\n",
      "min_samples_split: = 80 || RMSE: 1941.3348936821722\n",
      "min_samples_split: = 100 || RMSE: 1944.0464194819265\n"
     ]
    }
   ],
   "source": [
    "# Compare min_samples_split values\n",
    "for split in [2] + list(range(20, 101, 20)):\n",
    "    model_dt = DecisionTreeRegressor(min_samples_split=split, random_state=50)\n",
    "    model_dt.fit(car_df_train_features, car_df_train_target)\n",
    "    predictions = model_dt.predict(car_df_val_features)\n",
    "    print('min_samples_split: =', split, '|| ', end='')\n",
    "    MSE = mean_squared_error(car_df_val_target, predictions)\n",
    "    RMSE = MSE**0.5\n",
    "    print('RMSE:', RMSE)"
   ]
  },
  {
   "cell_type": "code",
   "execution_count": 27,
   "metadata": {},
   "outputs": [
    {
     "name": "stdout",
     "output_type": "stream",
     "text": [
      "Best hyperparameters: {'max_depth': 40, 'min_samples_leaf': 20, 'min_samples_split': 60}\n",
      "Best RMSE: 1996.1579727665642\n",
      "\n",
      "\n"
     ]
    },
    {
     "data": {
      "text/plain": [
       "defaultdict(functools.partial(<class 'numpy.ndarray'>, 0),\n",
       "            {'params': [{'max_depth': 20,\n",
       "               'min_samples_leaf': 20,\n",
       "               'min_samples_split': 60},\n",
       "              {'max_depth': 20,\n",
       "               'min_samples_leaf': 20,\n",
       "               'min_samples_split': 80},\n",
       "              {'max_depth': 20,\n",
       "               'min_samples_leaf': 20,\n",
       "               'min_samples_split': 100},\n",
       "              {'max_depth': 20,\n",
       "               'min_samples_leaf': 40,\n",
       "               'min_samples_split': 60},\n",
       "              {'max_depth': 20,\n",
       "               'min_samples_leaf': 40,\n",
       "               'min_samples_split': 80},\n",
       "              {'max_depth': 20,\n",
       "               'min_samples_leaf': 40,\n",
       "               'min_samples_split': 100},\n",
       "              {'max_depth': 20,\n",
       "               'min_samples_leaf': 60,\n",
       "               'min_samples_split': 60},\n",
       "              {'max_depth': 20,\n",
       "               'min_samples_leaf': 60,\n",
       "               'min_samples_split': 80},\n",
       "              {'max_depth': 20,\n",
       "               'min_samples_leaf': 60,\n",
       "               'min_samples_split': 100},\n",
       "              {'max_depth': 40,\n",
       "               'min_samples_leaf': 20,\n",
       "               'min_samples_split': 60},\n",
       "              {'max_depth': 40,\n",
       "               'min_samples_leaf': 20,\n",
       "               'min_samples_split': 80},\n",
       "              {'max_depth': 40,\n",
       "               'min_samples_leaf': 20,\n",
       "               'min_samples_split': 100},\n",
       "              {'max_depth': 40,\n",
       "               'min_samples_leaf': 40,\n",
       "               'min_samples_split': 60},\n",
       "              {'max_depth': 40,\n",
       "               'min_samples_leaf': 40,\n",
       "               'min_samples_split': 80},\n",
       "              {'max_depth': 40,\n",
       "               'min_samples_leaf': 40,\n",
       "               'min_samples_split': 100},\n",
       "              {'max_depth': 40,\n",
       "               'min_samples_leaf': 60,\n",
       "               'min_samples_split': 60},\n",
       "              {'max_depth': 40,\n",
       "               'min_samples_leaf': 60,\n",
       "               'min_samples_split': 80},\n",
       "              {'max_depth': 40,\n",
       "               'min_samples_leaf': 60,\n",
       "               'min_samples_split': 100},\n",
       "              {'max_depth': 60,\n",
       "               'min_samples_leaf': 20,\n",
       "               'min_samples_split': 60},\n",
       "              {'max_depth': 60,\n",
       "               'min_samples_leaf': 20,\n",
       "               'min_samples_split': 80},\n",
       "              {'max_depth': 60,\n",
       "               'min_samples_leaf': 20,\n",
       "               'min_samples_split': 100},\n",
       "              {'max_depth': 60,\n",
       "               'min_samples_leaf': 40,\n",
       "               'min_samples_split': 60},\n",
       "              {'max_depth': 60,\n",
       "               'min_samples_leaf': 40,\n",
       "               'min_samples_split': 80},\n",
       "              {'max_depth': 60,\n",
       "               'min_samples_leaf': 40,\n",
       "               'min_samples_split': 100},\n",
       "              {'max_depth': 60,\n",
       "               'min_samples_leaf': 60,\n",
       "               'min_samples_split': 60},\n",
       "              {'max_depth': 60,\n",
       "               'min_samples_leaf': 60,\n",
       "               'min_samples_split': 80},\n",
       "              {'max_depth': 60,\n",
       "               'min_samples_leaf': 60,\n",
       "               'min_samples_split': 100}],\n",
       "             'split0_test_score': array([-2006.72982453, -2013.76852979, -2013.5120109 , -2049.78874665,\n",
       "                    -2049.78874665, -2052.58362617, -2071.28545054, -2071.28545054,\n",
       "                    -2071.28545054, -2004.05715876, -2010.24546235, -2010.07902169,\n",
       "                    -2048.21360922, -2048.21360922, -2050.87175301, -2070.55019921,\n",
       "                    -2070.55019921, -2070.55019921, -2004.05715876, -2010.24546235,\n",
       "                    -2010.07902169, -2048.21360922, -2048.21360922, -2050.87175301,\n",
       "                    -2070.55019921, -2070.55019921, -2070.55019921]),\n",
       "             'split1_test_score': array([-2019.15267572, -2026.81516546, -2029.50742868, -2066.3760343 ,\n",
       "                    -2066.3760343 , -2066.68288185, -2100.62805902, -2100.62805902,\n",
       "                    -2100.62805902, -2015.9580308 , -2023.91520553, -2026.40880106,\n",
       "                    -2065.18522345, -2065.18522345, -2065.53633454, -2100.0865665 ,\n",
       "                    -2100.0865665 , -2100.0865665 , -2015.9580308 , -2023.91520553,\n",
       "                    -2026.40880106, -2065.18522345, -2065.18522345, -2065.53633454,\n",
       "                    -2100.0865665 , -2100.0865665 , -2100.0865665 ]),\n",
       "             'split2_test_score': array([-2004.09339936, -2010.99491741, -2017.16240247, -2030.89911171,\n",
       "                    -2030.89911171, -2038.15605416, -2064.86568296, -2064.86568296,\n",
       "                    -2064.86568296, -2002.2458508 , -2009.3700549 , -2016.07545828,\n",
       "                    -2030.26022727, -2030.26022727, -2037.42799361, -2064.2766039 ,\n",
       "                    -2064.2766039 , -2064.2766039 , -2002.2458508 , -2009.3700549 ,\n",
       "                    -2016.07545828, -2030.26022727, -2030.26022727, -2037.42799361,\n",
       "                    -2064.2766039 , -2064.2766039 , -2064.2766039 ]),\n",
       "             'mean_test_score': array([-1999.63293199, -2007.50184173, -2011.26473402, -2037.57131348,\n",
       "                    -2037.57131348, -2041.37605597, -2069.72702212, -2069.72702212,\n",
       "                    -2069.72702212, -1996.15797277, -2004.35509129, -2008.1951381 ,\n",
       "                    -2035.73784867, -2035.73784867, -2039.48739318, -2068.48798786,\n",
       "                    -2068.48798786, -2068.48798786, -1996.15797277, -2004.35509129,\n",
       "                    -2008.1951381 , -2035.73784867, -2035.73784867, -2039.48739318,\n",
       "                    -2068.48798786, -2068.48798786, -2068.48798786])})"
      ]
     },
     "metadata": {},
     "output_type": "display_data"
    }
   ],
   "source": [
    "# Create parameter grid\n",
    "param_grid_dt = {'max_depth': [20, 40, 60],\n",
    "                'min_samples_leaf': [20, 40, 60],\n",
    "                 'min_samples_split': [60, 80, 100]}\n",
    "\n",
    "# Create gridsearch object\n",
    "model_dt_grid = DecisionTreeRegressor(random_state=50)\n",
    "grid_search_dt = GridSearchCV(estimator=model_dt_grid, param_grid=param_grid_dt, cv=5, scoring='neg_root_mean_squared_error')\n",
    "\n",
    "# Fit model and identify best hyperparameter combinations\n",
    "grid_search_dt.fit(car_df_train_features, car_df_train_target)\n",
    "grid_search_dt.cv_results_\n",
    "dict_dt = defaultdict(partial(np.ndarray, 0))\n",
    "dict_dt['params'] = grid_search_dt.cv_results_['params']\n",
    "dict_dt['split0_test_score'] = grid_search_dt.cv_results_['split0_test_score']\n",
    "dict_dt['split1_test_score'] = grid_search_dt.cv_results_['split1_test_score']\n",
    "dict_dt['split2_test_score'] = grid_search_dt.cv_results_['split2_test_score']\n",
    "dict_dt['mean_test_score'] = grid_search_dt.cv_results_['mean_test_score']\n",
    "print('Best hyperparameters:', grid_search_dt.best_params_)\n",
    "print('Best RMSE:', abs(grid_search_dt.best_score_))\n",
    "print()\n",
    "print()\n",
    "display(dict_dt)"
   ]
  },
  {
   "cell_type": "markdown",
   "metadata": {},
   "source": [
    "<b>Sanity check</b>"
   ]
  },
  {
   "cell_type": "code",
   "execution_count": 28,
   "metadata": {},
   "outputs": [
    {
     "data": {
      "text/html": [
       "<div>\n",
       "<style scoped>\n",
       "    .dataframe tbody tr th:only-of-type {\n",
       "        vertical-align: middle;\n",
       "    }\n",
       "\n",
       "    .dataframe tbody tr th {\n",
       "        vertical-align: top;\n",
       "    }\n",
       "\n",
       "    .dataframe thead th {\n",
       "        text-align: right;\n",
       "    }\n",
       "</style>\n",
       "<table border=\"1\" class=\"dataframe\">\n",
       "  <thead>\n",
       "    <tr style=\"text-align: right;\">\n",
       "      <th></th>\n",
       "      <th>targets</th>\n",
       "      <th>preds</th>\n",
       "    </tr>\n",
       "  </thead>\n",
       "  <tbody>\n",
       "    <tr>\n",
       "      <th>0</th>\n",
       "      <td>3100</td>\n",
       "      <td>2292.390244</td>\n",
       "    </tr>\n",
       "    <tr>\n",
       "      <th>1</th>\n",
       "      <td>6690</td>\n",
       "      <td>6451.960000</td>\n",
       "    </tr>\n",
       "    <tr>\n",
       "      <th>2</th>\n",
       "      <td>4650</td>\n",
       "      <td>3698.627451</td>\n",
       "    </tr>\n",
       "    <tr>\n",
       "      <th>3</th>\n",
       "      <td>600</td>\n",
       "      <td>1709.413043</td>\n",
       "    </tr>\n",
       "    <tr>\n",
       "      <th>4</th>\n",
       "      <td>0</td>\n",
       "      <td>11637.392857</td>\n",
       "    </tr>\n",
       "    <tr>\n",
       "      <th>5</th>\n",
       "      <td>4100</td>\n",
       "      <td>5091.250000</td>\n",
       "    </tr>\n",
       "    <tr>\n",
       "      <th>6</th>\n",
       "      <td>7450</td>\n",
       "      <td>8409.833333</td>\n",
       "    </tr>\n",
       "    <tr>\n",
       "      <th>7</th>\n",
       "      <td>700</td>\n",
       "      <td>554.270270</td>\n",
       "    </tr>\n",
       "    <tr>\n",
       "      <th>8</th>\n",
       "      <td>1250</td>\n",
       "      <td>1055.431818</td>\n",
       "    </tr>\n",
       "    <tr>\n",
       "      <th>9</th>\n",
       "      <td>1800</td>\n",
       "      <td>2928.800000</td>\n",
       "    </tr>\n",
       "    <tr>\n",
       "      <th>10</th>\n",
       "      <td>5500</td>\n",
       "      <td>6478.229167</td>\n",
       "    </tr>\n",
       "    <tr>\n",
       "      <th>11</th>\n",
       "      <td>5830</td>\n",
       "      <td>4667.789474</td>\n",
       "    </tr>\n",
       "    <tr>\n",
       "      <th>12</th>\n",
       "      <td>11450</td>\n",
       "      <td>12598.428571</td>\n",
       "    </tr>\n",
       "    <tr>\n",
       "      <th>13</th>\n",
       "      <td>6900</td>\n",
       "      <td>2415.555556</td>\n",
       "    </tr>\n",
       "    <tr>\n",
       "      <th>14</th>\n",
       "      <td>300</td>\n",
       "      <td>492.135135</td>\n",
       "    </tr>\n",
       "  </tbody>\n",
       "</table>\n",
       "</div>"
      ],
      "text/plain": [
       "    targets         preds\n",
       "0      3100   2292.390244\n",
       "1      6690   6451.960000\n",
       "2      4650   3698.627451\n",
       "3       600   1709.413043\n",
       "4         0  11637.392857\n",
       "5      4100   5091.250000\n",
       "6      7450   8409.833333\n",
       "7       700    554.270270\n",
       "8      1250   1055.431818\n",
       "9      1800   2928.800000\n",
       "10     5500   6478.229167\n",
       "11     5830   4667.789474\n",
       "12    11450  12598.428571\n",
       "13     6900   2415.555556\n",
       "14      300    492.135135"
      ]
     },
     "metadata": {},
     "output_type": "display_data"
    }
   ],
   "source": [
    "# Create and train optimized Decision Tree model\n",
    "model_dt = grid_search_dt.best_estimator_\n",
    "\n",
    "start = time.time()\n",
    "model_dt.fit(car_df_train_features, car_df_train_target)\n",
    "end = time.time()\n",
    "time_train_opt = round(end - start, 2)\n",
    "\n",
    "# Gather predictions\n",
    "start = time.time()\n",
    "predictions = model_dt.predict(car_df_val_features)\n",
    "end = time.time()\n",
    "time_predict_opt = round(end - start, 2)\n",
    "\n",
    "# Evaluate model witn RMSE\n",
    "MSE_opt = mean_squared_error(car_df_val_target, predictions)\n",
    "RMSE_opt = MSE_opt**0.5\n",
    "\n",
    "# Display a subset of targets vs predictions\n",
    "predictions2 = pd.Series(predictions, name='preds').reset_index(drop=True)\n",
    "combine = pd.concat([car_df_val_target2, predictions2], axis=1)\n",
    "display(combine.head(15))"
   ]
  },
  {
   "cell_type": "code",
   "execution_count": 29,
   "metadata": {},
   "outputs": [],
   "source": [
    "# Create and train Linear Regression model\n",
    "lr_model = LinearRegression()\n",
    "\n",
    "start = time.time()\n",
    "lr_model.fit(car_df_train_features, car_df_train_target)\n",
    "end = time.time()\n",
    "time_train_lr = round(end - start, 2)\n",
    "\n",
    "# Gather predictions\n",
    "start = time.time()\n",
    "predictions = lr_model.predict(car_df_val_features)\n",
    "end = time.time()\n",
    "time_predict_lr = round(end - start, 2)"
   ]
  },
  {
   "cell_type": "code",
   "execution_count": 30,
   "metadata": {},
   "outputs": [
    {
     "name": "stdout",
     "output_type": "stream",
     "text": [
      "RMSE of optimzed Decision Tree model: 1949.32\n",
      "Training time: 4.7\n",
      "Prediction time: 0.07\n",
      "\n",
      "RMSE of Linear Regression model: 2902.39\n",
      "Training time: 11.78\n",
      "Prediction time: 0.11\n"
     ]
    }
   ],
   "source": [
    "# Compare RMSEs and times to run\n",
    "MSE_lr = mean_squared_error(car_df_val_target, predictions)\n",
    "RMSE_lr = MSE_lr**0.5\n",
    "print('RMSE of optimzed Decision Tree model:', abs(RMSE_opt.round(2)))\n",
    "print('Training time:', time_train_opt)\n",
    "print('Prediction time:', time_predict_opt)\n",
    "print()\n",
    "print('RMSE of Linear Regression model:', RMSE_lr.round(2))\n",
    "print('Training time:', time_train_lr)\n",
    "print('Prediction time:', time_predict_lr)"
   ]
  },
  {
   "cell_type": "markdown",
   "metadata": {},
   "source": [
    "<b>Conclusion</b>\n",
    "\n",
    "The final Decision Tree model yielded a RMSE of <font color='red'><b>1949.32</b></font> with a training run time of <font color='red'><b>5.41</b></font> seconds and a prediction run time of <font color='red'><b>0.07</b></font> seconds. The fine-tuning did result in good improvement and it is performing much better than the Linear Regression model, so it also passes the sanity check. However, the gridsearch object did take over 6 minutes to complete. A different strategy will need to be taken for other models because there will be many more estimators resulting in very high run times.\n",
    "\n",
    "<b>NOTE:</b> The time to run values in the below table may vary slightly compared to the times in the code cells since the time to run is variable from run to run."
   ]
  },
  {
   "cell_type": "code",
   "execution_count": 31,
   "metadata": {},
   "outputs": [
    {
     "data": {
      "text/html": [
       "<div>\n",
       "<style scoped>\n",
       "    .dataframe tbody tr th:only-of-type {\n",
       "        vertical-align: middle;\n",
       "    }\n",
       "\n",
       "    .dataframe tbody tr th {\n",
       "        vertical-align: top;\n",
       "    }\n",
       "\n",
       "    .dataframe thead th {\n",
       "        text-align: right;\n",
       "    }\n",
       "</style>\n",
       "<table border=\"1\" class=\"dataframe\">\n",
       "  <thead>\n",
       "    <tr style=\"text-align: right;\">\n",
       "      <th></th>\n",
       "      <th>RMSE</th>\n",
       "      <th>Time to train (sec)</th>\n",
       "      <th>Time to predict (sec)</th>\n",
       "    </tr>\n",
       "  </thead>\n",
       "  <tbody>\n",
       "    <tr>\n",
       "      <th>Base model</th>\n",
       "      <td>2234.681650</td>\n",
       "      <td>5.18</td>\n",
       "      <td>0.09</td>\n",
       "    </tr>\n",
       "    <tr>\n",
       "      <th>Optimized model</th>\n",
       "      <td>1949.318661</td>\n",
       "      <td>4.70</td>\n",
       "      <td>0.07</td>\n",
       "    </tr>\n",
       "    <tr>\n",
       "      <th>Linear regression</th>\n",
       "      <td>2902.386914</td>\n",
       "      <td>11.78</td>\n",
       "      <td>0.11</td>\n",
       "    </tr>\n",
       "  </tbody>\n",
       "</table>\n",
       "</div>"
      ],
      "text/plain": [
       "                          RMSE  Time to train (sec)  Time to predict (sec)\n",
       "Base model         2234.681650                 5.18                   0.09\n",
       "Optimized model    1949.318661                 4.70                   0.07\n",
       "Linear regression  2902.386914                11.78                   0.11"
      ]
     },
     "metadata": {},
     "output_type": "display_data"
    }
   ],
   "source": [
    "# Compare all models\n",
    "RMSE_table = [RMSE_base, RMSE_opt, RMSE_lr]\n",
    "time_train_table = [time_train_base, time_train_opt, time_train_lr]\n",
    "time_predict_table = [time_predict_base, time_predict_opt, time_predict_lr]\n",
    "dt_table_dict = {\n",
    "    'RMSE': RMSE_table,\n",
    "    'Time to train (sec)': time_train_table,\n",
    "    'Time to predict (sec)': time_predict_table\n",
    "}\n",
    "dt_table = pd.DataFrame(dt_table_dict, index=['Base model', 'Optimized model', 'Linear regression'])\n",
    "display(dt_table)"
   ]
  },
  {
   "cell_type": "markdown",
   "metadata": {},
   "source": [
    "#### Random Forest Regression\n",
    "\n",
    "The second model is a Random Forest Regression. The same procedure was followed here for training and predicting - run a base model, perform hyperparameter tuning, and do a sanity check. However, given the increased number of estimators / trees in a Random Forest, there were time issues when running the model and the gridsearch. So, after running the base model, which has default of 100 estimators, the ideal number of estimators was first identified to limit the amount of time model training and tuning took, but without sacrifing accuracy / RMSE. The estimator value was then used as a fixed parameter for further fine-tuning and for the gridsearch object.\n",
    "\n",
    "Hyperparameter values tested:\n",
    "\n",
    "- <b>n_estimators</b>: 5, 10, 15, 25, 50, 100, 200\n",
    "- <b>max_depth</b>: 1, 20, 40, 60\n",
    "- <b>min_samples_leaf</b>: 1, 20, 40, 60\n",
    "- <b>min_samples_split</b>: 2, 20, 40, 60"
   ]
  },
  {
   "cell_type": "markdown",
   "metadata": {},
   "source": [
    "<b>Base model</b>"
   ]
  },
  {
   "cell_type": "code",
   "execution_count": 32,
   "metadata": {},
   "outputs": [
    {
     "name": "stdout",
     "output_type": "stream",
     "text": [
      "RMSE: 1751.8\n",
      "Training time: 324.78\n",
      "Prediction time: 3.29\n",
      "\n",
      "Maximum depth of forest:  94\n"
     ]
    },
    {
     "data": {
      "text/html": [
       "<div>\n",
       "<style scoped>\n",
       "    .dataframe tbody tr th:only-of-type {\n",
       "        vertical-align: middle;\n",
       "    }\n",
       "\n",
       "    .dataframe tbody tr th {\n",
       "        vertical-align: top;\n",
       "    }\n",
       "\n",
       "    .dataframe thead th {\n",
       "        text-align: right;\n",
       "    }\n",
       "</style>\n",
       "<table border=\"1\" class=\"dataframe\">\n",
       "  <thead>\n",
       "    <tr style=\"text-align: right;\">\n",
       "      <th></th>\n",
       "      <th>targets</th>\n",
       "      <th>preds</th>\n",
       "    </tr>\n",
       "  </thead>\n",
       "  <tbody>\n",
       "    <tr>\n",
       "      <th>0</th>\n",
       "      <td>3100</td>\n",
       "      <td>2338.280000</td>\n",
       "    </tr>\n",
       "    <tr>\n",
       "      <th>1</th>\n",
       "      <td>6690</td>\n",
       "      <td>6762.574762</td>\n",
       "    </tr>\n",
       "    <tr>\n",
       "      <th>2</th>\n",
       "      <td>4650</td>\n",
       "      <td>4371.227500</td>\n",
       "    </tr>\n",
       "    <tr>\n",
       "      <th>3</th>\n",
       "      <td>600</td>\n",
       "      <td>663.920000</td>\n",
       "    </tr>\n",
       "    <tr>\n",
       "      <th>4</th>\n",
       "      <td>0</td>\n",
       "      <td>12833.998333</td>\n",
       "    </tr>\n",
       "    <tr>\n",
       "      <th>5</th>\n",
       "      <td>4100</td>\n",
       "      <td>3627.853333</td>\n",
       "    </tr>\n",
       "    <tr>\n",
       "      <th>6</th>\n",
       "      <td>7450</td>\n",
       "      <td>8041.967048</td>\n",
       "    </tr>\n",
       "    <tr>\n",
       "      <th>7</th>\n",
       "      <td>700</td>\n",
       "      <td>866.063333</td>\n",
       "    </tr>\n",
       "    <tr>\n",
       "      <th>8</th>\n",
       "      <td>1250</td>\n",
       "      <td>687.700000</td>\n",
       "    </tr>\n",
       "    <tr>\n",
       "      <th>9</th>\n",
       "      <td>1800</td>\n",
       "      <td>2428.890000</td>\n",
       "    </tr>\n",
       "    <tr>\n",
       "      <th>10</th>\n",
       "      <td>5500</td>\n",
       "      <td>5009.923333</td>\n",
       "    </tr>\n",
       "    <tr>\n",
       "      <th>11</th>\n",
       "      <td>5830</td>\n",
       "      <td>3480.390000</td>\n",
       "    </tr>\n",
       "    <tr>\n",
       "      <th>12</th>\n",
       "      <td>11450</td>\n",
       "      <td>12259.686284</td>\n",
       "    </tr>\n",
       "    <tr>\n",
       "      <th>13</th>\n",
       "      <td>6900</td>\n",
       "      <td>3896.630000</td>\n",
       "    </tr>\n",
       "    <tr>\n",
       "      <th>14</th>\n",
       "      <td>300</td>\n",
       "      <td>717.626667</td>\n",
       "    </tr>\n",
       "  </tbody>\n",
       "</table>\n",
       "</div>"
      ],
      "text/plain": [
       "    targets         preds\n",
       "0      3100   2338.280000\n",
       "1      6690   6762.574762\n",
       "2      4650   4371.227500\n",
       "3       600    663.920000\n",
       "4         0  12833.998333\n",
       "5      4100   3627.853333\n",
       "6      7450   8041.967048\n",
       "7       700    866.063333\n",
       "8      1250    687.700000\n",
       "9      1800   2428.890000\n",
       "10     5500   5009.923333\n",
       "11     5830   3480.390000\n",
       "12    11450  12259.686284\n",
       "13     6900   3896.630000\n",
       "14      300    717.626667"
      ]
     },
     "metadata": {},
     "output_type": "display_data"
    }
   ],
   "source": [
    "# Create and train model\n",
    "model_rf = RandomForestRegressor(random_state=50)\n",
    "\n",
    "start = time.time()\n",
    "model_rf.fit(car_df_train_features, car_df_train_target)\n",
    "end = time.time()\n",
    "time_train_base = round(end - start, 2)\n",
    "\n",
    "# Gather predictions\n",
    "start = time.time()\n",
    "predictions = model_rf.predict(car_df_val_features)\n",
    "end = time.time()\n",
    "time_predict_base = round(end - start, 2)\n",
    "\n",
    "# Evaluate model witn RMSE\n",
    "MSE_base = mean_squared_error(car_df_val_target, predictions)\n",
    "RMSE_base = MSE_base**0.5\n",
    "print('RMSE:', RMSE_base.round(2))\n",
    "print('Training time:', time_train_base)\n",
    "print('Prediction time:', time_predict_base)\n",
    "print()\n",
    "\n",
    "# Get max depth of forest\n",
    "print('Maximum depth of forest: ', max(tree.get_depth() for tree in model_rf.estimators_))\n",
    "\n",
    "# Display a subset of targets vs predictions\n",
    "predictions2 = pd.Series(predictions, name='preds').reset_index(drop=True)\n",
    "combine = pd.concat([car_df_val_target2, predictions2], axis=1)\n",
    "display(combine.head(15))"
   ]
  },
  {
   "cell_type": "markdown",
   "metadata": {},
   "source": [
    "<b>Hyperparameter tuning</b>\n",
    "\n",
    "The base model which included 100 estimators / trees took <b><font color='red'>4min 36s</font></b> to run. This is much to long of a run, so the code cell below was first used to determine an <mark>n_estimator</mark> value that would not take too long to run, but still resulted in an acceptable RMSE. The code cell below only shows the results with 5 estimators, but the value was updated several times to get the resulting RMSEs and times to run.\n",
    "\n",
    "After testing many estimator values, it was concluded that <b><font color='red'>15</font></b> estimators would be used for further hyperparameter tuning and gridsearch object. The below table shows the detailed results."
   ]
  },
  {
   "cell_type": "code",
   "execution_count": 33,
   "metadata": {},
   "outputs": [
    {
     "name": "stdout",
     "output_type": "stream",
     "text": [
      "RMSE: 1872.37\n",
      "\n"
     ]
    }
   ],
   "source": [
    "# Update estimator value\n",
    "estimator = 5\n",
    "\n",
    "# Create and train model\n",
    "model_rf = RandomForestRegressor(n_estimators=estimator, random_state=50)\n",
    "model_rf.fit(car_df_train_features, car_df_train_target)\n",
    "\n",
    "# Gather predictions\n",
    "predictions = model_rf.predict(car_df_val_features)\n",
    "\n",
    "# Evaluate model witn RMSE\n",
    "MSE = mean_squared_error(car_df_val_target, predictions)\n",
    "RMSE = MSE**0.5\n",
    "print('RMSE:', RMSE.round(2))\n",
    "print()"
   ]
  },
  {
   "cell_type": "code",
   "execution_count": 34,
   "metadata": {},
   "outputs": [
    {
     "data": {
      "text/html": [
       "<div>\n",
       "<style scoped>\n",
       "    .dataframe tbody tr th:only-of-type {\n",
       "        vertical-align: middle;\n",
       "    }\n",
       "\n",
       "    .dataframe tbody tr th {\n",
       "        vertical-align: top;\n",
       "    }\n",
       "\n",
       "    .dataframe thead th {\n",
       "        text-align: right;\n",
       "    }\n",
       "</style>\n",
       "<table border=\"1\" class=\"dataframe\">\n",
       "  <thead>\n",
       "    <tr style=\"text-align: right;\">\n",
       "      <th></th>\n",
       "      <th>RMSE</th>\n",
       "      <th>Time to run (sec)</th>\n",
       "    </tr>\n",
       "  </thead>\n",
       "  <tbody>\n",
       "    <tr>\n",
       "      <th>5</th>\n",
       "      <td>1872</td>\n",
       "      <td>14</td>\n",
       "    </tr>\n",
       "    <tr>\n",
       "      <th>10</th>\n",
       "      <td>1809</td>\n",
       "      <td>27</td>\n",
       "    </tr>\n",
       "    <tr>\n",
       "      <th>15</th>\n",
       "      <td>1790</td>\n",
       "      <td>42</td>\n",
       "    </tr>\n",
       "    <tr>\n",
       "      <th>25</th>\n",
       "      <td>1773</td>\n",
       "      <td>67</td>\n",
       "    </tr>\n",
       "    <tr>\n",
       "      <th>50</th>\n",
       "      <td>1759</td>\n",
       "      <td>141</td>\n",
       "    </tr>\n",
       "    <tr>\n",
       "      <th>100</th>\n",
       "      <td>1751</td>\n",
       "      <td>271</td>\n",
       "    </tr>\n",
       "    <tr>\n",
       "      <th>200</th>\n",
       "      <td>1748</td>\n",
       "      <td>840</td>\n",
       "    </tr>\n",
       "  </tbody>\n",
       "</table>\n",
       "</div>"
      ],
      "text/plain": [
       "     RMSE  Time to run (sec)\n",
       "5    1872                 14\n",
       "10   1809                 27\n",
       "15   1790                 42\n",
       "25   1773                 67\n",
       "50   1759                141\n",
       "100  1751                271\n",
       "200  1748                840"
      ]
     },
     "metadata": {},
     "output_type": "display_data"
    }
   ],
   "source": [
    "# Display table of n_estimator results\n",
    "RMSE_table = [1872, 1809, 1790, 1773, 1759, 1751, 1748]\n",
    "time_to_run_table = [14, 27, 42, 67, 141, 271, 840]\n",
    "rf_table_dict = {\n",
    "    'RMSE': RMSE_table,\n",
    "    'Time to run (sec)': time_to_run_table\n",
    "}\n",
    "rf_table = pd.DataFrame(rf_table_dict, index=[5, 10, 15, 25, 50, 100, 200])\n",
    "display(rf_table)"
   ]
  },
  {
   "cell_type": "code",
   "execution_count": 35,
   "metadata": {},
   "outputs": [
    {
     "name": "stdout",
     "output_type": "stream",
     "text": [
      "max_depth = 1 || RMSE: 3786.0728322512973\n",
      "max_depth = 20 || RMSE: 1788.7622260594883\n",
      "max_depth = 40 || RMSE: 1788.2009587063335\n",
      "max_depth = 60 || RMSE: 1790.4675085688561\n"
     ]
    }
   ],
   "source": [
    "# Compare max_depth values\n",
    "for depth in [1] + list(range(20, 61, 20)):\n",
    "    model_rf = RandomForestRegressor(max_depth=depth, n_estimators=15, random_state=50)\n",
    "    model_rf.fit(car_df_train_features, car_df_train_target)\n",
    "    predictions = model_rf.predict(car_df_val_features)\n",
    "    print('max_depth =', depth, '|| ', end='')\n",
    "    MSE = mean_squared_error(car_df_val_target, predictions)\n",
    "    RMSE = MSE**0.5\n",
    "    print('RMSE:', RMSE)"
   ]
  },
  {
   "cell_type": "code",
   "execution_count": 36,
   "metadata": {},
   "outputs": [
    {
     "name": "stdout",
     "output_type": "stream",
     "text": [
      "min_samples_leaf: = 1 || RMSE: 1790.5670022411011\n",
      "min_samples_leaf: = 20 || RMSE: 1874.318768589825\n",
      "min_samples_leaf: = 40 || RMSE: 1950.333121934539\n",
      "min_samples_leaf: = 60 || RMSE: 1997.5761662743928\n"
     ]
    }
   ],
   "source": [
    "# Compare min_samples_leaf values\n",
    "for leaf in [1] + list(range(20, 61, 20)):\n",
    "    model_rf = RandomForestRegressor(min_samples_leaf=leaf, n_estimators=15, random_state=50)\n",
    "    model_rf.fit(car_df_train_features, car_df_train_target)\n",
    "    predictions = model_rf.predict(car_df_val_features)\n",
    "    print('min_samples_leaf: =', leaf, '|| ', end='')\n",
    "    MSE = mean_squared_error(car_df_val_target, predictions)\n",
    "    RMSE = MSE**0.5\n",
    "    print('RMSE:', RMSE)"
   ]
  },
  {
   "cell_type": "code",
   "execution_count": 37,
   "metadata": {},
   "outputs": [
    {
     "name": "stdout",
     "output_type": "stream",
     "text": [
      "min_samples_split: = 2 || RMSE: 1790.5670022411011\n",
      "min_samples_split: = 20 || RMSE: 1760.175060837297\n",
      "min_samples_split: = 40 || RMSE: 1777.533279425672\n",
      "min_samples_split: = 60 || RMSE: 1797.497137835817\n"
     ]
    }
   ],
   "source": [
    "# Compare min_samples_split values\n",
    "for split in [2] + list(range(20, 61, 20)):\n",
    "    model_rf = RandomForestRegressor(min_samples_split=split, n_estimators=15, random_state=50)\n",
    "    model_rf.fit(car_df_train_features, car_df_train_target)\n",
    "    predictions = model_rf.predict(car_df_val_features)\n",
    "    print('min_samples_split: =', split, '|| ', end='')\n",
    "    MSE = mean_squared_error(car_df_val_target, predictions)\n",
    "    RMSE = MSE**0.5\n",
    "    print('RMSE:', RMSE)"
   ]
  },
  {
   "cell_type": "code",
   "execution_count": 38,
   "metadata": {},
   "outputs": [
    {
     "name": "stdout",
     "output_type": "stream",
     "text": [
      "Best hyperparameters: {'max_depth': 40, 'min_samples_leaf': 1, 'min_samples_split': 20}\n",
      "Best RMSE score: 1787.2464131315974\n",
      "\n",
      "\n"
     ]
    },
    {
     "data": {
      "text/plain": [
       "defaultdict(functools.partial(<class 'numpy.ndarray'>, 0),\n",
       "            {'params': [{'max_depth': 40,\n",
       "               'min_samples_leaf': 1,\n",
       "               'min_samples_split': 20},\n",
       "              {'max_depth': 40,\n",
       "               'min_samples_leaf': 20,\n",
       "               'min_samples_split': 20},\n",
       "              {'max_depth': 60,\n",
       "               'min_samples_leaf': 1,\n",
       "               'min_samples_split': 20},\n",
       "              {'max_depth': 60,\n",
       "               'min_samples_leaf': 20,\n",
       "               'min_samples_split': 20}],\n",
       "             'split0_test_score': array([-1779.6236768 , -1922.31042005, -1778.68074487, -1922.30997078]),\n",
       "             'split1_test_score': array([-1811.03739543, -1950.32103651, -1811.79240796, -1950.31937439]),\n",
       "             'split2_test_score': array([-1794.0018639 , -1913.29808598, -1795.11695083, -1913.2934062 ]),\n",
       "             'mean_test_score': array([-1787.24641313, -1913.7000012 , -1787.37705105, -1913.69958754])})"
      ]
     },
     "metadata": {},
     "output_type": "display_data"
    }
   ],
   "source": [
    "# Create parameter grid\n",
    "param_grid_rf = {'max_depth': [40, 60],\n",
    "                 'min_samples_leaf': [1, 20],\n",
    "                 'min_samples_split': [20]\n",
    "                }\n",
    "\n",
    "# Create gridsearch object\n",
    "model_rf_grid = RandomForestRegressor(n_estimators=15, random_state=50)\n",
    "grid_search_rf = GridSearchCV(estimator=model_rf_grid, param_grid=param_grid_rf, cv=5, scoring='neg_root_mean_squared_error')\n",
    "\n",
    "# Fit model and identify best hyperparameter combinations\n",
    "grid_search_rf.fit(car_df_train_features, car_df_train_target)\n",
    "grid_search_rf.cv_results_\n",
    "dict_rf = defaultdict(partial(np.ndarray, 0))\n",
    "dict_rf['params'] = grid_search_rf.cv_results_['params']\n",
    "dict_rf['split0_test_score'] = grid_search_rf.cv_results_['split0_test_score']\n",
    "dict_rf['split1_test_score'] = grid_search_rf.cv_results_['split1_test_score']\n",
    "dict_rf['split2_test_score'] = grid_search_rf.cv_results_['split2_test_score']\n",
    "dict_rf['mean_test_score'] = grid_search_rf.cv_results_['mean_test_score']\n",
    "print('Best hyperparameters:', grid_search_rf.best_params_)\n",
    "print('Best RMSE score:', abs(grid_search_rf.best_score_))\n",
    "print()\n",
    "print()\n",
    "display(dict_rf)"
   ]
  },
  {
   "cell_type": "markdown",
   "metadata": {},
   "source": [
    "<b>Sanity check</b>"
   ]
  },
  {
   "cell_type": "code",
   "execution_count": 40,
   "metadata": {},
   "outputs": [
    {
     "data": {
      "text/html": [
       "<div>\n",
       "<style scoped>\n",
       "    .dataframe tbody tr th:only-of-type {\n",
       "        vertical-align: middle;\n",
       "    }\n",
       "\n",
       "    .dataframe tbody tr th {\n",
       "        vertical-align: top;\n",
       "    }\n",
       "\n",
       "    .dataframe thead th {\n",
       "        text-align: right;\n",
       "    }\n",
       "</style>\n",
       "<table border=\"1\" class=\"dataframe\">\n",
       "  <thead>\n",
       "    <tr style=\"text-align: right;\">\n",
       "      <th></th>\n",
       "      <th>targets</th>\n",
       "      <th>preds</th>\n",
       "    </tr>\n",
       "  </thead>\n",
       "  <tbody>\n",
       "    <tr>\n",
       "      <th>0</th>\n",
       "      <td>3100</td>\n",
       "      <td>2522.826315</td>\n",
       "    </tr>\n",
       "    <tr>\n",
       "      <th>1</th>\n",
       "      <td>6690</td>\n",
       "      <td>6154.926704</td>\n",
       "    </tr>\n",
       "    <tr>\n",
       "      <th>2</th>\n",
       "      <td>4650</td>\n",
       "      <td>4406.900808</td>\n",
       "    </tr>\n",
       "    <tr>\n",
       "      <th>3</th>\n",
       "      <td>600</td>\n",
       "      <td>1006.272462</td>\n",
       "    </tr>\n",
       "    <tr>\n",
       "      <th>4</th>\n",
       "      <td>0</td>\n",
       "      <td>10589.562830</td>\n",
       "    </tr>\n",
       "    <tr>\n",
       "      <th>5</th>\n",
       "      <td>4100</td>\n",
       "      <td>3906.367698</td>\n",
       "    </tr>\n",
       "    <tr>\n",
       "      <th>6</th>\n",
       "      <td>7450</td>\n",
       "      <td>8117.379142</td>\n",
       "    </tr>\n",
       "    <tr>\n",
       "      <th>7</th>\n",
       "      <td>700</td>\n",
       "      <td>643.500494</td>\n",
       "    </tr>\n",
       "    <tr>\n",
       "      <th>8</th>\n",
       "      <td>1250</td>\n",
       "      <td>805.701809</td>\n",
       "    </tr>\n",
       "    <tr>\n",
       "      <th>9</th>\n",
       "      <td>1800</td>\n",
       "      <td>2242.795089</td>\n",
       "    </tr>\n",
       "    <tr>\n",
       "      <th>10</th>\n",
       "      <td>5500</td>\n",
       "      <td>4824.776160</td>\n",
       "    </tr>\n",
       "    <tr>\n",
       "      <th>11</th>\n",
       "      <td>5830</td>\n",
       "      <td>3839.767493</td>\n",
       "    </tr>\n",
       "    <tr>\n",
       "      <th>12</th>\n",
       "      <td>11450</td>\n",
       "      <td>12196.375657</td>\n",
       "    </tr>\n",
       "    <tr>\n",
       "      <th>13</th>\n",
       "      <td>6900</td>\n",
       "      <td>3137.749142</td>\n",
       "    </tr>\n",
       "    <tr>\n",
       "      <th>14</th>\n",
       "      <td>300</td>\n",
       "      <td>535.319739</td>\n",
       "    </tr>\n",
       "  </tbody>\n",
       "</table>\n",
       "</div>"
      ],
      "text/plain": [
       "    targets         preds\n",
       "0      3100   2522.826315\n",
       "1      6690   6154.926704\n",
       "2      4650   4406.900808\n",
       "3       600   1006.272462\n",
       "4         0  10589.562830\n",
       "5      4100   3906.367698\n",
       "6      7450   8117.379142\n",
       "7       700    643.500494\n",
       "8      1250    805.701809\n",
       "9      1800   2242.795089\n",
       "10     5500   4824.776160\n",
       "11     5830   3839.767493\n",
       "12    11450  12196.375657\n",
       "13     6900   3137.749142\n",
       "14      300    535.319739"
      ]
     },
     "metadata": {},
     "output_type": "display_data"
    }
   ],
   "source": [
    "# Create and train optimized Random Forest model\n",
    "model_rf = grid_search_rf.best_estimator_\n",
    "\n",
    "start = time.time()\n",
    "model_rf.fit(car_df_train_features, car_df_train_target)\n",
    "end = time.time()\n",
    "time_train_opt = round(end - start, 2)\n",
    "\n",
    "# Gather predictions\n",
    "start = time.time()\n",
    "predictions = model_rf.predict(car_df_val_features)\n",
    "end = time.time()\n",
    "time_predict_opt = round(end - start, 2)\n",
    "\n",
    "# Evaluate model witn RMSE\n",
    "MSE_opt = mean_squared_error(car_df_val_target, predictions)\n",
    "RMSE_opt = MSE**0.5\n",
    "\n",
    "# Display a subset of targets vs predictions\n",
    "predictions2 = pd.Series(predictions, name='preds').reset_index(drop=True)\n",
    "combine = pd.concat([car_df_val_target2, predictions2], axis=1)\n",
    "display(combine.head(15))"
   ]
  },
  {
   "cell_type": "code",
   "execution_count": 41,
   "metadata": {},
   "outputs": [
    {
     "name": "stdout",
     "output_type": "stream",
     "text": [
      "RMSE of optimzed Random Forest model: 1797.5\n",
      "Training time: 46.69\n",
      "Prediction time: 0.33\n",
      "\n",
      "RMSE of Linear Regression model: 2902.39\n",
      "Training time: 11.78\n",
      "Prediction time: 0.11\n"
     ]
    }
   ],
   "source": [
    "# Compare RMSEs and times to run\n",
    "print('RMSE of optimzed Random Forest model:', abs(RMSE_opt.round(2)))\n",
    "print('Training time:', time_train_opt)\n",
    "print('Prediction time:', time_predict_opt)\n",
    "print()\n",
    "print('RMSE of Linear Regression model:', RMSE_lr.round(2))\n",
    "print('Training time:', time_train_lr)\n",
    "print('Prediction time:', time_predict_lr)"
   ]
  },
  {
   "cell_type": "markdown",
   "metadata": {},
   "source": [
    "<b>Conclusion</b>\n",
    "\n",
    "The final Random Forest model yielded a RMSE of <font color='red'><b>1797.50</b></font> with a training run time of <font color='red'><b>46.69</b></font> seconds and a prediction run time of <font color='red'><b>0.33</b></font>. The fine-tuned model yielded a very similar RMSE to the base model, but it takes <font color='red'><b>4 minutes less</b></font> to run. Also, the model performs much better than the Linear Regression model, so it passes the sanity check. Without updating the <mark>n_estimator</mark> parameter to a lower value, the fine-tuning process would have taken multiple hours. Moreover, lowering the <mark>n_estimator</mark> parameter from <b>100</b> to <b>15</b> saved a lot of time, only increased the RMSE slightly, and the model still is effective and efficient.\n",
    "\n",
    "<b>NOTE:</b> The time to run values in the below table may vary slightly compared to the times in the code cells since the time to run is variable from run to run."
   ]
  },
  {
   "cell_type": "code",
   "execution_count": 43,
   "metadata": {},
   "outputs": [
    {
     "data": {
      "text/html": [
       "<div>\n",
       "<style scoped>\n",
       "    .dataframe tbody tr th:only-of-type {\n",
       "        vertical-align: middle;\n",
       "    }\n",
       "\n",
       "    .dataframe tbody tr th {\n",
       "        vertical-align: top;\n",
       "    }\n",
       "\n",
       "    .dataframe thead th {\n",
       "        text-align: right;\n",
       "    }\n",
       "</style>\n",
       "<table border=\"1\" class=\"dataframe\">\n",
       "  <thead>\n",
       "    <tr style=\"text-align: right;\">\n",
       "      <th></th>\n",
       "      <th>RMSE</th>\n",
       "      <th>Time to train (sec)</th>\n",
       "      <th>Time to predict (sec)</th>\n",
       "    </tr>\n",
       "  </thead>\n",
       "  <tbody>\n",
       "    <tr>\n",
       "      <th>Base model</th>\n",
       "      <td>1751.800830</td>\n",
       "      <td>324.78</td>\n",
       "      <td>3.29</td>\n",
       "    </tr>\n",
       "    <tr>\n",
       "      <th>Optimized model</th>\n",
       "      <td>1797.497138</td>\n",
       "      <td>46.69</td>\n",
       "      <td>0.33</td>\n",
       "    </tr>\n",
       "    <tr>\n",
       "      <th>Linear regression</th>\n",
       "      <td>2902.386914</td>\n",
       "      <td>11.78</td>\n",
       "      <td>0.11</td>\n",
       "    </tr>\n",
       "  </tbody>\n",
       "</table>\n",
       "</div>"
      ],
      "text/plain": [
       "                          RMSE  Time to train (sec)  Time to predict (sec)\n",
       "Base model         1751.800830               324.78                   3.29\n",
       "Optimized model    1797.497138                46.69                   0.33\n",
       "Linear regression  2902.386914                11.78                   0.11"
      ]
     },
     "metadata": {},
     "output_type": "display_data"
    }
   ],
   "source": [
    "# Compare Random Forest and Linear Regression models\n",
    "RMSE_table = [RMSE_base, RMSE_opt, RMSE_lr]\n",
    "time_train_table = [time_train_base, time_train_opt, time_train_lr]\n",
    "time_predict_table = [time_predict_base, time_predict_opt, time_predict_lr]\n",
    "rf_table_dict = {\n",
    "    'RMSE': RMSE_table,\n",
    "    'Time to train (sec)': time_train_table,\n",
    "    'Time to predict (sec)': time_predict_table\n",
    "    \n",
    "}\n",
    "rf_table = pd.DataFrame(rf_table_dict, index=['Base model', 'Optimized model', 'Linear regression'])\n",
    "display(rf_table)"
   ]
  },
  {
   "cell_type": "markdown",
   "metadata": {},
   "source": [
    "#### LightGBM (Gradient boosting)\n",
    "\n",
    "The third model is a LightGBM gradient boosting model, with the idea that each subsequent model takes into account the errors of the previous. The same procedure was followed here for training and predicting - run a base model, perform hyperparameter tuning, and do a sanity check. Similar to the Random Forest Regression, only a few parameters were tested and fine-tuned within the gridsearch object to limit long time run issues.\n",
    "\n",
    "Hyperparametervalues tested:\n",
    "\n",
    "- <b>num_leaves</b>: 31, 63\n",
    "- <b>max_depth</b>: -1, 3\n",
    "- <b>learning_rate</b>: 0.01, 0.1"
   ]
  },
  {
   "cell_type": "markdown",
   "metadata": {},
   "source": [
    "<b>Base model</b>"
   ]
  },
  {
   "cell_type": "code",
   "execution_count": 44,
   "metadata": {
    "scrolled": true
   },
   "outputs": [
    {
     "name": "stdout",
     "output_type": "stream",
     "text": [
      "[LightGBM] [Warning] boosting is set=gbdt, boosting_type=gbdt will be ignored. Current value: boosting=gbdt\n",
      "[1]\tvalid_0's rmse: 4196.74\n",
      "[2]\tvalid_0's rmse: 3926.43\n",
      "[3]\tvalid_0's rmse: 3691.15\n",
      "[4]\tvalid_0's rmse: 3485.5\n",
      "[5]\tvalid_0's rmse: 3304.93\n",
      "[6]\tvalid_0's rmse: 3149.29\n",
      "[7]\tvalid_0's rmse: 3012.93\n",
      "[8]\tvalid_0's rmse: 2895.01\n",
      "[9]\tvalid_0's rmse: 2792.05\n",
      "[10]\tvalid_0's rmse: 2700.79\n",
      "[11]\tvalid_0's rmse: 2617.04\n",
      "[12]\tvalid_0's rmse: 2550.33\n",
      "[13]\tvalid_0's rmse: 2489.75\n",
      "[14]\tvalid_0's rmse: 2435.3\n",
      "[15]\tvalid_0's rmse: 2384.68\n",
      "[16]\tvalid_0's rmse: 2342.68\n",
      "[17]\tvalid_0's rmse: 2305\n",
      "[18]\tvalid_0's rmse: 2269.93\n",
      "[19]\tvalid_0's rmse: 2241.21\n",
      "[20]\tvalid_0's rmse: 2213.31\n",
      "[21]\tvalid_0's rmse: 2187.04\n",
      "[22]\tvalid_0's rmse: 2163.3\n",
      "[23]\tvalid_0's rmse: 2141.35\n",
      "[24]\tvalid_0's rmse: 2119.27\n",
      "[25]\tvalid_0's rmse: 2102.27\n",
      "[26]\tvalid_0's rmse: 2086.88\n",
      "[27]\tvalid_0's rmse: 2067.65\n",
      "[28]\tvalid_0's rmse: 2053.81\n",
      "[29]\tvalid_0's rmse: 2040.62\n",
      "[30]\tvalid_0's rmse: 2028.54\n",
      "[31]\tvalid_0's rmse: 2016.67\n",
      "[32]\tvalid_0's rmse: 2008\n",
      "[33]\tvalid_0's rmse: 2000.21\n",
      "[34]\tvalid_0's rmse: 1991.96\n",
      "[35]\tvalid_0's rmse: 1984.47\n",
      "[36]\tvalid_0's rmse: 1977.98\n",
      "[37]\tvalid_0's rmse: 1972.12\n",
      "[38]\tvalid_0's rmse: 1966.97\n",
      "[39]\tvalid_0's rmse: 1960.97\n",
      "[40]\tvalid_0's rmse: 1956.12\n",
      "[41]\tvalid_0's rmse: 1951.09\n",
      "[42]\tvalid_0's rmse: 1946.75\n",
      "[43]\tvalid_0's rmse: 1942.52\n",
      "[44]\tvalid_0's rmse: 1938.32\n",
      "[45]\tvalid_0's rmse: 1933.05\n",
      "[46]\tvalid_0's rmse: 1929.65\n",
      "[47]\tvalid_0's rmse: 1926.59\n",
      "[48]\tvalid_0's rmse: 1923.59\n",
      "[49]\tvalid_0's rmse: 1919.68\n",
      "[50]\tvalid_0's rmse: 1915.17\n",
      "[51]\tvalid_0's rmse: 1912.43\n",
      "[52]\tvalid_0's rmse: 1908.69\n",
      "[53]\tvalid_0's rmse: 1905.71\n",
      "[54]\tvalid_0's rmse: 1902.67\n",
      "[55]\tvalid_0's rmse: 1900.54\n",
      "[56]\tvalid_0's rmse: 1898.17\n",
      "[57]\tvalid_0's rmse: 1894.69\n",
      "[58]\tvalid_0's rmse: 1893.01\n",
      "[59]\tvalid_0's rmse: 1890.45\n",
      "[60]\tvalid_0's rmse: 1888.39\n",
      "[61]\tvalid_0's rmse: 1885.81\n",
      "[62]\tvalid_0's rmse: 1883.97\n",
      "[63]\tvalid_0's rmse: 1881.66\n",
      "[64]\tvalid_0's rmse: 1879.79\n",
      "[65]\tvalid_0's rmse: 1877.51\n",
      "[66]\tvalid_0's rmse: 1875.29\n",
      "[67]\tvalid_0's rmse: 1874.21\n",
      "[68]\tvalid_0's rmse: 1872.61\n",
      "[69]\tvalid_0's rmse: 1870.85\n",
      "[70]\tvalid_0's rmse: 1869.33\n",
      "[71]\tvalid_0's rmse: 1867.88\n",
      "[72]\tvalid_0's rmse: 1865.9\n",
      "[73]\tvalid_0's rmse: 1864.43\n",
      "[74]\tvalid_0's rmse: 1862.18\n",
      "[75]\tvalid_0's rmse: 1860.85\n",
      "[76]\tvalid_0's rmse: 1859.18\n",
      "[77]\tvalid_0's rmse: 1857.53\n",
      "[78]\tvalid_0's rmse: 1855.84\n",
      "[79]\tvalid_0's rmse: 1854.93\n",
      "[80]\tvalid_0's rmse: 1854.01\n",
      "[81]\tvalid_0's rmse: 1853.16\n",
      "[82]\tvalid_0's rmse: 1851.81\n",
      "[83]\tvalid_0's rmse: 1851.03\n",
      "[84]\tvalid_0's rmse: 1849.71\n",
      "[85]\tvalid_0's rmse: 1847.5\n",
      "[86]\tvalid_0's rmse: 1846.66\n",
      "[87]\tvalid_0's rmse: 1845.75\n",
      "[88]\tvalid_0's rmse: 1844.53\n",
      "[89]\tvalid_0's rmse: 1843.46\n",
      "[90]\tvalid_0's rmse: 1842.8\n",
      "[91]\tvalid_0's rmse: 1841.85\n",
      "[92]\tvalid_0's rmse: 1840.27\n",
      "[93]\tvalid_0's rmse: 1839.17\n",
      "[94]\tvalid_0's rmse: 1838.39\n",
      "[95]\tvalid_0's rmse: 1837.37\n",
      "[96]\tvalid_0's rmse: 1836.51\n",
      "[97]\tvalid_0's rmse: 1835.26\n",
      "[98]\tvalid_0's rmse: 1834.54\n",
      "[99]\tvalid_0's rmse: 1833.56\n",
      "[100]\tvalid_0's rmse: 1832.32\n",
      "[101]\tvalid_0's rmse: 1831.9\n",
      "[102]\tvalid_0's rmse: 1831.37\n",
      "[103]\tvalid_0's rmse: 1830.73\n",
      "[104]\tvalid_0's rmse: 1830.26\n",
      "[105]\tvalid_0's rmse: 1829.45\n",
      "[106]\tvalid_0's rmse: 1828.65\n",
      "[107]\tvalid_0's rmse: 1828.23\n",
      "[108]\tvalid_0's rmse: 1827.68\n",
      "[109]\tvalid_0's rmse: 1826.83\n",
      "[110]\tvalid_0's rmse: 1825.53\n",
      "[111]\tvalid_0's rmse: 1824.7\n",
      "[112]\tvalid_0's rmse: 1824.36\n",
      "[113]\tvalid_0's rmse: 1823.59\n",
      "[114]\tvalid_0's rmse: 1822.62\n",
      "[115]\tvalid_0's rmse: 1822.05\n",
      "[116]\tvalid_0's rmse: 1821.31\n",
      "[117]\tvalid_0's rmse: 1820.61\n",
      "[118]\tvalid_0's rmse: 1819.94\n",
      "[119]\tvalid_0's rmse: 1818.83\n",
      "[120]\tvalid_0's rmse: 1818.01\n",
      "[121]\tvalid_0's rmse: 1817.54\n",
      "[122]\tvalid_0's rmse: 1816.95\n",
      "[123]\tvalid_0's rmse: 1816.67\n",
      "[124]\tvalid_0's rmse: 1815.8\n",
      "[125]\tvalid_0's rmse: 1814.75\n",
      "[126]\tvalid_0's rmse: 1814.32\n",
      "[127]\tvalid_0's rmse: 1813.85\n",
      "[128]\tvalid_0's rmse: 1813.02\n",
      "[129]\tvalid_0's rmse: 1812.27\n",
      "[130]\tvalid_0's rmse: 1811.96\n",
      "[131]\tvalid_0's rmse: 1811.44\n",
      "[132]\tvalid_0's rmse: 1810.8\n",
      "[133]\tvalid_0's rmse: 1810.35\n",
      "[134]\tvalid_0's rmse: 1810.03\n",
      "[135]\tvalid_0's rmse: 1809.51\n",
      "[136]\tvalid_0's rmse: 1809.07\n",
      "[137]\tvalid_0's rmse: 1808.62\n",
      "[138]\tvalid_0's rmse: 1808.34\n",
      "[139]\tvalid_0's rmse: 1807.98\n",
      "[140]\tvalid_0's rmse: 1807.17\n",
      "[141]\tvalid_0's rmse: 1806.44\n",
      "[142]\tvalid_0's rmse: 1806.06\n",
      "[143]\tvalid_0's rmse: 1805.86\n",
      "[144]\tvalid_0's rmse: 1805.23\n",
      "[145]\tvalid_0's rmse: 1804.45\n",
      "[146]\tvalid_0's rmse: 1803.77\n",
      "[147]\tvalid_0's rmse: 1803.45\n",
      "[148]\tvalid_0's rmse: 1802.81\n",
      "[149]\tvalid_0's rmse: 1802.43\n",
      "[150]\tvalid_0's rmse: 1802.15\n",
      "[151]\tvalid_0's rmse: 1801.84\n",
      "[152]\tvalid_0's rmse: 1801.65\n",
      "[153]\tvalid_0's rmse: 1801.22\n",
      "[154]\tvalid_0's rmse: 1800.28\n",
      "[155]\tvalid_0's rmse: 1799.78\n",
      "[156]\tvalid_0's rmse: 1799.42\n",
      "[157]\tvalid_0's rmse: 1799.11\n",
      "[158]\tvalid_0's rmse: 1798.82\n",
      "[159]\tvalid_0's rmse: 1797.99\n",
      "[160]\tvalid_0's rmse: 1797.66\n",
      "[161]\tvalid_0's rmse: 1797.41\n",
      "[162]\tvalid_0's rmse: 1796.7\n",
      "[163]\tvalid_0's rmse: 1795.87\n",
      "[164]\tvalid_0's rmse: 1795.63\n",
      "[165]\tvalid_0's rmse: 1795.3\n",
      "[166]\tvalid_0's rmse: 1794.96\n",
      "[167]\tvalid_0's rmse: 1794.45\n",
      "[168]\tvalid_0's rmse: 1794.16\n",
      "[169]\tvalid_0's rmse: 1793.92\n",
      "[170]\tvalid_0's rmse: 1793.3\n",
      "[171]\tvalid_0's rmse: 1792.47\n",
      "[172]\tvalid_0's rmse: 1792.06\n",
      "[173]\tvalid_0's rmse: 1791.56\n",
      "[174]\tvalid_0's rmse: 1790.84\n",
      "[175]\tvalid_0's rmse: 1790.36\n",
      "[176]\tvalid_0's rmse: 1790.06\n",
      "[177]\tvalid_0's rmse: 1789.48\n",
      "[178]\tvalid_0's rmse: 1789.08\n",
      "[179]\tvalid_0's rmse: 1788.67\n",
      "[180]\tvalid_0's rmse: 1788.28\n",
      "[181]\tvalid_0's rmse: 1787.97\n",
      "[182]\tvalid_0's rmse: 1787.75\n",
      "[183]\tvalid_0's rmse: 1787.39\n",
      "[184]\tvalid_0's rmse: 1787\n",
      "[185]\tvalid_0's rmse: 1786.88\n",
      "[186]\tvalid_0's rmse: 1786.31\n",
      "[187]\tvalid_0's rmse: 1786.02\n",
      "[188]\tvalid_0's rmse: 1785.56\n",
      "[189]\tvalid_0's rmse: 1785.23\n",
      "[190]\tvalid_0's rmse: 1784.98\n",
      "[191]\tvalid_0's rmse: 1784.65\n",
      "[192]\tvalid_0's rmse: 1784.39\n",
      "[193]\tvalid_0's rmse: 1783.68\n",
      "[194]\tvalid_0's rmse: 1783.47\n",
      "[195]\tvalid_0's rmse: 1783.12\n",
      "[196]\tvalid_0's rmse: 1782.85\n",
      "[197]\tvalid_0's rmse: 1782.54\n",
      "[198]\tvalid_0's rmse: 1782.09\n",
      "[199]\tvalid_0's rmse: 1781.95\n",
      "[200]\tvalid_0's rmse: 1781.7\n",
      "[201]\tvalid_0's rmse: 1781.42\n",
      "[202]\tvalid_0's rmse: 1781.21\n",
      "[203]\tvalid_0's rmse: 1780.94\n",
      "[204]\tvalid_0's rmse: 1780.74\n",
      "[205]\tvalid_0's rmse: 1780.31\n",
      "[206]\tvalid_0's rmse: 1779.59\n",
      "[207]\tvalid_0's rmse: 1779.35\n",
      "[208]\tvalid_0's rmse: 1778.77\n",
      "[209]\tvalid_0's rmse: 1778.54\n",
      "[210]\tvalid_0's rmse: 1778.36\n",
      "[211]\tvalid_0's rmse: 1778.12\n",
      "[212]\tvalid_0's rmse: 1777.47\n",
      "[213]\tvalid_0's rmse: 1777.41\n",
      "[214]\tvalid_0's rmse: 1776.96\n",
      "[215]\tvalid_0's rmse: 1776.65\n",
      "[216]\tvalid_0's rmse: 1776.36\n",
      "[217]\tvalid_0's rmse: 1775.76\n",
      "[218]\tvalid_0's rmse: 1775.49\n",
      "[219]\tvalid_0's rmse: 1775.33\n",
      "[220]\tvalid_0's rmse: 1775.11\n",
      "[221]\tvalid_0's rmse: 1774.91\n",
      "[222]\tvalid_0's rmse: 1774.84\n",
      "[223]\tvalid_0's rmse: 1774.51\n",
      "[224]\tvalid_0's rmse: 1774.42\n",
      "[225]\tvalid_0's rmse: 1774.27\n",
      "[226]\tvalid_0's rmse: 1774.07\n",
      "[227]\tvalid_0's rmse: 1773.82\n",
      "[228]\tvalid_0's rmse: 1773.69\n",
      "[229]\tvalid_0's rmse: 1773.49\n",
      "[230]\tvalid_0's rmse: 1773.12\n",
      "[231]\tvalid_0's rmse: 1772.97\n",
      "[232]\tvalid_0's rmse: 1772.64\n",
      "[233]\tvalid_0's rmse: 1772.45\n",
      "[234]\tvalid_0's rmse: 1772.15\n",
      "[235]\tvalid_0's rmse: 1771.84\n",
      "[236]\tvalid_0's rmse: 1771.54\n",
      "[237]\tvalid_0's rmse: 1771.25\n",
      "[238]\tvalid_0's rmse: 1770.77\n",
      "[239]\tvalid_0's rmse: 1770.7\n",
      "[240]\tvalid_0's rmse: 1770.53\n",
      "[241]\tvalid_0's rmse: 1770.39\n",
      "[242]\tvalid_0's rmse: 1770.18\n",
      "[243]\tvalid_0's rmse: 1770.03\n",
      "[244]\tvalid_0's rmse: 1769.83\n",
      "[245]\tvalid_0's rmse: 1769.63\n",
      "[246]\tvalid_0's rmse: 1769.42\n",
      "[247]\tvalid_0's rmse: 1769.29\n",
      "[248]\tvalid_0's rmse: 1768.91\n",
      "[249]\tvalid_0's rmse: 1768.75\n",
      "[250]\tvalid_0's rmse: 1768.72\n",
      "[251]\tvalid_0's rmse: 1768.58\n",
      "[252]\tvalid_0's rmse: 1768.34\n",
      "[253]\tvalid_0's rmse: 1767.81\n",
      "[254]\tvalid_0's rmse: 1767.35\n",
      "[255]\tvalid_0's rmse: 1766.94\n",
      "[256]\tvalid_0's rmse: 1766.37\n",
      "[257]\tvalid_0's rmse: 1766.12\n",
      "[258]\tvalid_0's rmse: 1765.9\n",
      "[259]\tvalid_0's rmse: 1765.59\n",
      "[260]\tvalid_0's rmse: 1765.45\n",
      "[261]\tvalid_0's rmse: 1765.39\n",
      "[262]\tvalid_0's rmse: 1765.04\n",
      "[263]\tvalid_0's rmse: 1764.63\n",
      "[264]\tvalid_0's rmse: 1764.13\n",
      "[265]\tvalid_0's rmse: 1763.71\n",
      "[266]\tvalid_0's rmse: 1763.32\n",
      "[267]\tvalid_0's rmse: 1763.03\n",
      "[268]\tvalid_0's rmse: 1762.74\n",
      "[269]\tvalid_0's rmse: 1762.44\n",
      "[270]\tvalid_0's rmse: 1762.32\n",
      "[271]\tvalid_0's rmse: 1762.13\n",
      "[272]\tvalid_0's rmse: 1761.88\n",
      "[273]\tvalid_0's rmse: 1761.77\n",
      "[274]\tvalid_0's rmse: 1761.78\n"
     ]
    },
    {
     "name": "stdout",
     "output_type": "stream",
     "text": [
      "[275]\tvalid_0's rmse: 1761.49\n",
      "[276]\tvalid_0's rmse: 1761.28\n",
      "[277]\tvalid_0's rmse: 1761.22\n",
      "[278]\tvalid_0's rmse: 1760.77\n",
      "[279]\tvalid_0's rmse: 1760.38\n",
      "[280]\tvalid_0's rmse: 1760.2\n",
      "[281]\tvalid_0's rmse: 1760.12\n",
      "[282]\tvalid_0's rmse: 1759.72\n",
      "[283]\tvalid_0's rmse: 1759.6\n",
      "[284]\tvalid_0's rmse: 1759.44\n",
      "[285]\tvalid_0's rmse: 1759.34\n",
      "[286]\tvalid_0's rmse: 1759.22\n",
      "[287]\tvalid_0's rmse: 1758.98\n",
      "[288]\tvalid_0's rmse: 1758.93\n",
      "[289]\tvalid_0's rmse: 1758.79\n",
      "[290]\tvalid_0's rmse: 1758.6\n",
      "[291]\tvalid_0's rmse: 1758.22\n",
      "[292]\tvalid_0's rmse: 1758.13\n",
      "[293]\tvalid_0's rmse: 1757.97\n",
      "[294]\tvalid_0's rmse: 1757.63\n",
      "[295]\tvalid_0's rmse: 1757.53\n",
      "[296]\tvalid_0's rmse: 1757.42\n",
      "[297]\tvalid_0's rmse: 1757.34\n",
      "[298]\tvalid_0's rmse: 1757.35\n",
      "[299]\tvalid_0's rmse: 1757.14\n",
      "[300]\tvalid_0's rmse: 1756.99\n",
      "[301]\tvalid_0's rmse: 1756.98\n",
      "[302]\tvalid_0's rmse: 1756.86\n",
      "[303]\tvalid_0's rmse: 1756.79\n",
      "[304]\tvalid_0's rmse: 1756.65\n",
      "[305]\tvalid_0's rmse: 1756.3\n",
      "[306]\tvalid_0's rmse: 1756.15\n",
      "[307]\tvalid_0's rmse: 1756.04\n",
      "[308]\tvalid_0's rmse: 1755.64\n",
      "[309]\tvalid_0's rmse: 1755.58\n",
      "[310]\tvalid_0's rmse: 1755.45\n",
      "[311]\tvalid_0's rmse: 1755.31\n",
      "[312]\tvalid_0's rmse: 1755.13\n",
      "[313]\tvalid_0's rmse: 1754.81\n",
      "[314]\tvalid_0's rmse: 1754.73\n",
      "[315]\tvalid_0's rmse: 1754.54\n",
      "[316]\tvalid_0's rmse: 1754.49\n",
      "[317]\tvalid_0's rmse: 1754.21\n",
      "[318]\tvalid_0's rmse: 1754.17\n",
      "[319]\tvalid_0's rmse: 1754.04\n",
      "[320]\tvalid_0's rmse: 1753.92\n",
      "[321]\tvalid_0's rmse: 1753.8\n",
      "[322]\tvalid_0's rmse: 1753.7\n",
      "[323]\tvalid_0's rmse: 1753.62\n",
      "[324]\tvalid_0's rmse: 1753.49\n",
      "[325]\tvalid_0's rmse: 1753.19\n",
      "[326]\tvalid_0's rmse: 1753.1\n",
      "[327]\tvalid_0's rmse: 1752.94\n",
      "[328]\tvalid_0's rmse: 1752.85\n",
      "[329]\tvalid_0's rmse: 1752.76\n",
      "[330]\tvalid_0's rmse: 1752.72\n",
      "[331]\tvalid_0's rmse: 1752.66\n",
      "[332]\tvalid_0's rmse: 1752.56\n",
      "[333]\tvalid_0's rmse: 1752.47\n",
      "[334]\tvalid_0's rmse: 1752.37\n",
      "[335]\tvalid_0's rmse: 1752.31\n",
      "[336]\tvalid_0's rmse: 1752.17\n",
      "[337]\tvalid_0's rmse: 1752.1\n",
      "[338]\tvalid_0's rmse: 1752.05\n",
      "[339]\tvalid_0's rmse: 1751.97\n",
      "[340]\tvalid_0's rmse: 1751.89\n",
      "[341]\tvalid_0's rmse: 1751.57\n",
      "[342]\tvalid_0's rmse: 1751.47\n",
      "[343]\tvalid_0's rmse: 1751.32\n",
      "[344]\tvalid_0's rmse: 1751.05\n",
      "[345]\tvalid_0's rmse: 1751.02\n",
      "[346]\tvalid_0's rmse: 1750.76\n",
      "[347]\tvalid_0's rmse: 1750.68\n",
      "[348]\tvalid_0's rmse: 1750.59\n",
      "[349]\tvalid_0's rmse: 1750.56\n",
      "[350]\tvalid_0's rmse: 1750.55\n",
      "[351]\tvalid_0's rmse: 1750.53\n",
      "[352]\tvalid_0's rmse: 1750.44\n",
      "[353]\tvalid_0's rmse: 1750.34\n",
      "[354]\tvalid_0's rmse: 1750.27\n",
      "[355]\tvalid_0's rmse: 1750.17\n",
      "[356]\tvalid_0's rmse: 1750.1\n",
      "[357]\tvalid_0's rmse: 1750.01\n",
      "[358]\tvalid_0's rmse: 1749.94\n",
      "[359]\tvalid_0's rmse: 1749.73\n",
      "[360]\tvalid_0's rmse: 1749.56\n",
      "[361]\tvalid_0's rmse: 1749.55\n",
      "[362]\tvalid_0's rmse: 1749.47\n",
      "[363]\tvalid_0's rmse: 1749.3\n",
      "[364]\tvalid_0's rmse: 1749.18\n",
      "[365]\tvalid_0's rmse: 1749.1\n",
      "[366]\tvalid_0's rmse: 1749.01\n",
      "[367]\tvalid_0's rmse: 1748.85\n",
      "[368]\tvalid_0's rmse: 1748.81\n",
      "[369]\tvalid_0's rmse: 1748.56\n",
      "[370]\tvalid_0's rmse: 1748.51\n",
      "[371]\tvalid_0's rmse: 1748.4\n",
      "[372]\tvalid_0's rmse: 1748.26\n",
      "[373]\tvalid_0's rmse: 1747.84\n",
      "[374]\tvalid_0's rmse: 1747.48\n",
      "[375]\tvalid_0's rmse: 1747.37\n",
      "[376]\tvalid_0's rmse: 1747.26\n",
      "[377]\tvalid_0's rmse: 1747.15\n",
      "[378]\tvalid_0's rmse: 1747.08\n",
      "[379]\tvalid_0's rmse: 1746.99\n",
      "[380]\tvalid_0's rmse: 1746.89\n",
      "[381]\tvalid_0's rmse: 1746.89\n",
      "[382]\tvalid_0's rmse: 1746.82\n",
      "[383]\tvalid_0's rmse: 1746.77\n",
      "[384]\tvalid_0's rmse: 1746.75\n",
      "[385]\tvalid_0's rmse: 1746.65\n",
      "[386]\tvalid_0's rmse: 1746.5\n",
      "[387]\tvalid_0's rmse: 1746.45\n",
      "[388]\tvalid_0's rmse: 1746.27\n",
      "[389]\tvalid_0's rmse: 1746.17\n",
      "[390]\tvalid_0's rmse: 1745.84\n",
      "[391]\tvalid_0's rmse: 1745.68\n",
      "[392]\tvalid_0's rmse: 1745.6\n",
      "[393]\tvalid_0's rmse: 1745.47\n",
      "[394]\tvalid_0's rmse: 1745.42\n",
      "[395]\tvalid_0's rmse: 1745.33\n",
      "[396]\tvalid_0's rmse: 1745.19\n",
      "[397]\tvalid_0's rmse: 1745.06\n",
      "[398]\tvalid_0's rmse: 1745\n",
      "[399]\tvalid_0's rmse: 1744.76\n",
      "[400]\tvalid_0's rmse: 1744.54\n",
      "[401]\tvalid_0's rmse: 1744.06\n",
      "[402]\tvalid_0's rmse: 1743.72\n",
      "[403]\tvalid_0's rmse: 1743.69\n",
      "[404]\tvalid_0's rmse: 1743.64\n",
      "[405]\tvalid_0's rmse: 1743.5\n",
      "[406]\tvalid_0's rmse: 1743.44\n",
      "[407]\tvalid_0's rmse: 1743.29\n",
      "[408]\tvalid_0's rmse: 1742.97\n",
      "[409]\tvalid_0's rmse: 1742.9\n",
      "[410]\tvalid_0's rmse: 1742.85\n",
      "[411]\tvalid_0's rmse: 1742.78\n",
      "[412]\tvalid_0's rmse: 1742.63\n",
      "[413]\tvalid_0's rmse: 1742.39\n",
      "[414]\tvalid_0's rmse: 1742.35\n",
      "[415]\tvalid_0's rmse: 1742.27\n",
      "[416]\tvalid_0's rmse: 1742.19\n",
      "[417]\tvalid_0's rmse: 1742.07\n",
      "[418]\tvalid_0's rmse: 1741.9\n",
      "[419]\tvalid_0's rmse: 1741.86\n",
      "[420]\tvalid_0's rmse: 1741.79\n",
      "[421]\tvalid_0's rmse: 1741.71\n",
      "[422]\tvalid_0's rmse: 1741.57\n",
      "[423]\tvalid_0's rmse: 1741.47\n",
      "[424]\tvalid_0's rmse: 1741.2\n",
      "[425]\tvalid_0's rmse: 1741.06\n",
      "[426]\tvalid_0's rmse: 1740.98\n",
      "[427]\tvalid_0's rmse: 1740.94\n",
      "[428]\tvalid_0's rmse: 1740.87\n",
      "[429]\tvalid_0's rmse: 1740.81\n",
      "[430]\tvalid_0's rmse: 1740.72\n",
      "[431]\tvalid_0's rmse: 1740.66\n",
      "[432]\tvalid_0's rmse: 1740.61\n",
      "[433]\tvalid_0's rmse: 1740.45\n",
      "[434]\tvalid_0's rmse: 1740.32\n",
      "[435]\tvalid_0's rmse: 1740.22\n",
      "[436]\tvalid_0's rmse: 1740.07\n",
      "[437]\tvalid_0's rmse: 1740.02\n",
      "[438]\tvalid_0's rmse: 1739.99\n",
      "[439]\tvalid_0's rmse: 1739.93\n",
      "[440]\tvalid_0's rmse: 1739.68\n",
      "[441]\tvalid_0's rmse: 1739.57\n",
      "[442]\tvalid_0's rmse: 1739.5\n",
      "[443]\tvalid_0's rmse: 1739.49\n",
      "[444]\tvalid_0's rmse: 1739.16\n",
      "[445]\tvalid_0's rmse: 1739.09\n",
      "[446]\tvalid_0's rmse: 1739.01\n",
      "[447]\tvalid_0's rmse: 1738.95\n",
      "[448]\tvalid_0's rmse: 1738.87\n",
      "[449]\tvalid_0's rmse: 1738.85\n",
      "[450]\tvalid_0's rmse: 1738.83\n",
      "[451]\tvalid_0's rmse: 1738.72\n",
      "[452]\tvalid_0's rmse: 1738.57\n",
      "[453]\tvalid_0's rmse: 1738.53\n",
      "[454]\tvalid_0's rmse: 1738.41\n",
      "[455]\tvalid_0's rmse: 1738.27\n",
      "[456]\tvalid_0's rmse: 1738.13\n",
      "[457]\tvalid_0's rmse: 1738.17\n",
      "[458]\tvalid_0's rmse: 1738.16\n",
      "[459]\tvalid_0's rmse: 1738.06\n",
      "[460]\tvalid_0's rmse: 1738.03\n",
      "[461]\tvalid_0's rmse: 1737.94\n",
      "[462]\tvalid_0's rmse: 1737.71\n",
      "[463]\tvalid_0's rmse: 1737.54\n",
      "[464]\tvalid_0's rmse: 1737.53\n",
      "[465]\tvalid_0's rmse: 1737.62\n",
      "[466]\tvalid_0's rmse: 1737.44\n",
      "[467]\tvalid_0's rmse: 1737.34\n",
      "[468]\tvalid_0's rmse: 1737.25\n",
      "[469]\tvalid_0's rmse: 1737.17\n",
      "[470]\tvalid_0's rmse: 1737.08\n",
      "[471]\tvalid_0's rmse: 1736.9\n",
      "[472]\tvalid_0's rmse: 1736.8\n",
      "[473]\tvalid_0's rmse: 1736.72\n",
      "[474]\tvalid_0's rmse: 1736.62\n",
      "[475]\tvalid_0's rmse: 1736.53\n",
      "[476]\tvalid_0's rmse: 1736.52\n",
      "[477]\tvalid_0's rmse: 1736.38\n",
      "[478]\tvalid_0's rmse: 1736.36\n",
      "[479]\tvalid_0's rmse: 1736.31\n",
      "[480]\tvalid_0's rmse: 1736.22\n",
      "[481]\tvalid_0's rmse: 1736.2\n",
      "[482]\tvalid_0's rmse: 1736.18\n",
      "[483]\tvalid_0's rmse: 1736.12\n",
      "[484]\tvalid_0's rmse: 1736.09\n",
      "[485]\tvalid_0's rmse: 1736.07\n",
      "[486]\tvalid_0's rmse: 1736.03\n",
      "[487]\tvalid_0's rmse: 1735.99\n",
      "[488]\tvalid_0's rmse: 1735.87\n",
      "[489]\tvalid_0's rmse: 1735.58\n",
      "[490]\tvalid_0's rmse: 1735.58\n",
      "[491]\tvalid_0's rmse: 1735.6\n",
      "[492]\tvalid_0's rmse: 1735.58\n",
      "[493]\tvalid_0's rmse: 1735.54\n",
      "[494]\tvalid_0's rmse: 1735.37\n",
      "[495]\tvalid_0's rmse: 1735.35\n",
      "[496]\tvalid_0's rmse: 1735.26\n",
      "[497]\tvalid_0's rmse: 1735.16\n",
      "[498]\tvalid_0's rmse: 1735.11\n",
      "[499]\tvalid_0's rmse: 1735.14\n",
      "[500]\tvalid_0's rmse: 1735.02\n",
      "[501]\tvalid_0's rmse: 1734.96\n",
      "[502]\tvalid_0's rmse: 1734.9\n",
      "[503]\tvalid_0's rmse: 1734.66\n",
      "[504]\tvalid_0's rmse: 1734.57\n",
      "[505]\tvalid_0's rmse: 1734.48\n",
      "[506]\tvalid_0's rmse: 1734.36\n",
      "[507]\tvalid_0's rmse: 1734.35\n",
      "[508]\tvalid_0's rmse: 1734.17\n",
      "[509]\tvalid_0's rmse: 1734.07\n",
      "[510]\tvalid_0's rmse: 1733.99\n",
      "[511]\tvalid_0's rmse: 1733.95\n",
      "[512]\tvalid_0's rmse: 1733.91\n",
      "[513]\tvalid_0's rmse: 1733.89\n",
      "[514]\tvalid_0's rmse: 1733.83\n",
      "[515]\tvalid_0's rmse: 1733.81\n",
      "[516]\tvalid_0's rmse: 1733.77\n",
      "[517]\tvalid_0's rmse: 1733.69\n",
      "[518]\tvalid_0's rmse: 1733.42\n",
      "[519]\tvalid_0's rmse: 1733.21\n",
      "[520]\tvalid_0's rmse: 1732.95\n",
      "[521]\tvalid_0's rmse: 1732.81\n",
      "[522]\tvalid_0's rmse: 1732.79\n",
      "[523]\tvalid_0's rmse: 1732.67\n",
      "[524]\tvalid_0's rmse: 1732.74\n",
      "[525]\tvalid_0's rmse: 1732.66\n",
      "[526]\tvalid_0's rmse: 1732.49\n",
      "[527]\tvalid_0's rmse: 1732.5\n",
      "[528]\tvalid_0's rmse: 1732.43\n",
      "[529]\tvalid_0's rmse: 1732.44\n",
      "[530]\tvalid_0's rmse: 1732.26\n",
      "[531]\tvalid_0's rmse: 1732.08\n",
      "[532]\tvalid_0's rmse: 1731.9\n",
      "[533]\tvalid_0's rmse: 1731.79\n",
      "[534]\tvalid_0's rmse: 1731.56\n",
      "[535]\tvalid_0's rmse: 1731.53\n",
      "[536]\tvalid_0's rmse: 1731.45\n",
      "[537]\tvalid_0's rmse: 1731.43\n",
      "[538]\tvalid_0's rmse: 1731.35\n",
      "[539]\tvalid_0's rmse: 1731.08\n",
      "[540]\tvalid_0's rmse: 1731.06\n",
      "[541]\tvalid_0's rmse: 1731.01\n",
      "[542]\tvalid_0's rmse: 1730.9\n",
      "[543]\tvalid_0's rmse: 1730.77\n",
      "[544]\tvalid_0's rmse: 1730.82\n",
      "[545]\tvalid_0's rmse: 1730.7\n",
      "[546]\tvalid_0's rmse: 1730.62\n",
      "[547]\tvalid_0's rmse: 1730.55\n",
      "[548]\tvalid_0's rmse: 1730.48\n",
      "[549]\tvalid_0's rmse: 1730.47\n",
      "[550]\tvalid_0's rmse: 1730.44\n",
      "[551]\tvalid_0's rmse: 1730.22\n",
      "[552]\tvalid_0's rmse: 1730.18\n",
      "[553]\tvalid_0's rmse: 1730.21\n",
      "[554]\tvalid_0's rmse: 1730.17\n",
      "[555]\tvalid_0's rmse: 1730.05\n"
     ]
    },
    {
     "name": "stdout",
     "output_type": "stream",
     "text": [
      "[556]\tvalid_0's rmse: 1730.03\n",
      "[557]\tvalid_0's rmse: 1729.93\n",
      "[558]\tvalid_0's rmse: 1729.95\n",
      "[559]\tvalid_0's rmse: 1729.9\n",
      "[560]\tvalid_0's rmse: 1729.84\n",
      "[561]\tvalid_0's rmse: 1729.8\n",
      "[562]\tvalid_0's rmse: 1729.73\n",
      "[563]\tvalid_0's rmse: 1729.7\n",
      "[564]\tvalid_0's rmse: 1729.59\n",
      "[565]\tvalid_0's rmse: 1729.56\n",
      "[566]\tvalid_0's rmse: 1729.47\n",
      "[567]\tvalid_0's rmse: 1729.32\n",
      "[568]\tvalid_0's rmse: 1729.31\n",
      "[569]\tvalid_0's rmse: 1729.25\n",
      "[570]\tvalid_0's rmse: 1729.07\n",
      "[571]\tvalid_0's rmse: 1729.08\n",
      "[572]\tvalid_0's rmse: 1728.99\n",
      "[573]\tvalid_0's rmse: 1728.96\n",
      "[574]\tvalid_0's rmse: 1728.97\n",
      "[575]\tvalid_0's rmse: 1728.93\n",
      "[576]\tvalid_0's rmse: 1728.85\n",
      "[577]\tvalid_0's rmse: 1728.81\n",
      "[578]\tvalid_0's rmse: 1728.91\n",
      "[579]\tvalid_0's rmse: 1728.81\n",
      "[580]\tvalid_0's rmse: 1728.72\n",
      "[581]\tvalid_0's rmse: 1728.56\n",
      "[582]\tvalid_0's rmse: 1728.54\n",
      "[583]\tvalid_0's rmse: 1728.5\n",
      "[584]\tvalid_0's rmse: 1728.48\n",
      "[585]\tvalid_0's rmse: 1728.31\n",
      "[586]\tvalid_0's rmse: 1728.13\n",
      "[587]\tvalid_0's rmse: 1728.07\n",
      "[588]\tvalid_0's rmse: 1728.13\n",
      "[589]\tvalid_0's rmse: 1728.1\n",
      "[590]\tvalid_0's rmse: 1728.03\n",
      "[591]\tvalid_0's rmse: 1728.03\n",
      "[592]\tvalid_0's rmse: 1727.9\n",
      "[593]\tvalid_0's rmse: 1727.92\n",
      "[594]\tvalid_0's rmse: 1727.81\n",
      "[595]\tvalid_0's rmse: 1727.76\n",
      "[596]\tvalid_0's rmse: 1727.66\n",
      "[597]\tvalid_0's rmse: 1727.66\n",
      "[598]\tvalid_0's rmse: 1727.48\n",
      "[599]\tvalid_0's rmse: 1727.39\n",
      "[600]\tvalid_0's rmse: 1727.45\n",
      "[601]\tvalid_0's rmse: 1727.35\n",
      "[602]\tvalid_0's rmse: 1727.16\n",
      "[603]\tvalid_0's rmse: 1727.15\n",
      "[604]\tvalid_0's rmse: 1727.16\n",
      "[605]\tvalid_0's rmse: 1727.11\n",
      "[606]\tvalid_0's rmse: 1726.97\n",
      "[607]\tvalid_0's rmse: 1726.97\n",
      "[608]\tvalid_0's rmse: 1726.93\n",
      "[609]\tvalid_0's rmse: 1726.87\n",
      "[610]\tvalid_0's rmse: 1726.71\n",
      "[611]\tvalid_0's rmse: 1726.68\n",
      "[612]\tvalid_0's rmse: 1726.62\n",
      "[613]\tvalid_0's rmse: 1726.62\n",
      "[614]\tvalid_0's rmse: 1726.59\n",
      "[615]\tvalid_0's rmse: 1726.41\n",
      "[616]\tvalid_0's rmse: 1726.44\n",
      "[617]\tvalid_0's rmse: 1726.48\n",
      "[618]\tvalid_0's rmse: 1726.42\n",
      "[619]\tvalid_0's rmse: 1726.33\n",
      "[620]\tvalid_0's rmse: 1726.21\n",
      "[621]\tvalid_0's rmse: 1726.18\n",
      "[622]\tvalid_0's rmse: 1726.19\n",
      "[623]\tvalid_0's rmse: 1726.14\n",
      "[624]\tvalid_0's rmse: 1726.17\n",
      "[625]\tvalid_0's rmse: 1726.14\n",
      "[626]\tvalid_0's rmse: 1726.04\n",
      "[627]\tvalid_0's rmse: 1726.01\n",
      "[628]\tvalid_0's rmse: 1725.98\n",
      "[629]\tvalid_0's rmse: 1725.87\n",
      "[630]\tvalid_0's rmse: 1725.8\n",
      "[631]\tvalid_0's rmse: 1725.82\n",
      "[632]\tvalid_0's rmse: 1725.8\n",
      "[633]\tvalid_0's rmse: 1725.75\n",
      "[634]\tvalid_0's rmse: 1725.76\n",
      "[635]\tvalid_0's rmse: 1725.77\n",
      "[636]\tvalid_0's rmse: 1725.74\n",
      "[637]\tvalid_0's rmse: 1725.69\n",
      "[638]\tvalid_0's rmse: 1725.67\n",
      "[639]\tvalid_0's rmse: 1725.63\n",
      "[640]\tvalid_0's rmse: 1725.6\n",
      "[641]\tvalid_0's rmse: 1725.52\n",
      "[642]\tvalid_0's rmse: 1725.52\n",
      "[643]\tvalid_0's rmse: 1725.44\n",
      "[644]\tvalid_0's rmse: 1725.29\n",
      "[645]\tvalid_0's rmse: 1725.28\n",
      "[646]\tvalid_0's rmse: 1725.22\n",
      "[647]\tvalid_0's rmse: 1725.19\n",
      "[648]\tvalid_0's rmse: 1725.11\n",
      "[649]\tvalid_0's rmse: 1725.1\n",
      "[650]\tvalid_0's rmse: 1725.06\n",
      "[651]\tvalid_0's rmse: 1725\n",
      "[652]\tvalid_0's rmse: 1724.94\n",
      "[653]\tvalid_0's rmse: 1724.83\n",
      "[654]\tvalid_0's rmse: 1724.79\n",
      "[655]\tvalid_0's rmse: 1724.72\n",
      "[656]\tvalid_0's rmse: 1724.7\n",
      "[657]\tvalid_0's rmse: 1724.67\n",
      "[658]\tvalid_0's rmse: 1724.62\n",
      "[659]\tvalid_0's rmse: 1724.34\n",
      "[660]\tvalid_0's rmse: 1724.3\n",
      "[661]\tvalid_0's rmse: 1724.34\n",
      "[662]\tvalid_0's rmse: 1724.29\n",
      "[663]\tvalid_0's rmse: 1724.34\n",
      "[664]\tvalid_0's rmse: 1724.31\n",
      "[665]\tvalid_0's rmse: 1724.23\n",
      "[666]\tvalid_0's rmse: 1724.21\n",
      "[667]\tvalid_0's rmse: 1724.17\n",
      "[668]\tvalid_0's rmse: 1724.11\n",
      "[669]\tvalid_0's rmse: 1724.09\n",
      "[670]\tvalid_0's rmse: 1724.05\n",
      "[671]\tvalid_0's rmse: 1723.96\n",
      "[672]\tvalid_0's rmse: 1723.78\n",
      "[673]\tvalid_0's rmse: 1723.72\n",
      "[674]\tvalid_0's rmse: 1723.65\n",
      "[675]\tvalid_0's rmse: 1723.58\n",
      "[676]\tvalid_0's rmse: 1723.54\n",
      "[677]\tvalid_0's rmse: 1723.44\n",
      "[678]\tvalid_0's rmse: 1723.41\n",
      "[679]\tvalid_0's rmse: 1723.11\n",
      "[680]\tvalid_0's rmse: 1723.02\n",
      "[681]\tvalid_0's rmse: 1722.99\n",
      "[682]\tvalid_0's rmse: 1722.95\n",
      "[683]\tvalid_0's rmse: 1722.94\n",
      "[684]\tvalid_0's rmse: 1722.86\n",
      "[685]\tvalid_0's rmse: 1722.85\n",
      "[686]\tvalid_0's rmse: 1722.76\n",
      "[687]\tvalid_0's rmse: 1722.75\n",
      "[688]\tvalid_0's rmse: 1722.66\n",
      "[689]\tvalid_0's rmse: 1722.61\n",
      "[690]\tvalid_0's rmse: 1722.53\n",
      "[691]\tvalid_0's rmse: 1722.5\n",
      "[692]\tvalid_0's rmse: 1722.41\n",
      "[693]\tvalid_0's rmse: 1722.27\n",
      "[694]\tvalid_0's rmse: 1722.22\n",
      "[695]\tvalid_0's rmse: 1722.16\n",
      "[696]\tvalid_0's rmse: 1722.04\n",
      "[697]\tvalid_0's rmse: 1722.05\n",
      "[698]\tvalid_0's rmse: 1721.97\n",
      "[699]\tvalid_0's rmse: 1721.94\n",
      "[700]\tvalid_0's rmse: 1721.93\n",
      "[701]\tvalid_0's rmse: 1721.9\n",
      "[702]\tvalid_0's rmse: 1721.88\n",
      "[703]\tvalid_0's rmse: 1721.9\n",
      "[704]\tvalid_0's rmse: 1721.92\n",
      "[705]\tvalid_0's rmse: 1721.87\n",
      "[706]\tvalid_0's rmse: 1721.89\n",
      "[707]\tvalid_0's rmse: 1721.88\n",
      "[708]\tvalid_0's rmse: 1721.75\n",
      "[709]\tvalid_0's rmse: 1721.76\n",
      "[710]\tvalid_0's rmse: 1721.65\n",
      "[711]\tvalid_0's rmse: 1721.52\n",
      "[712]\tvalid_0's rmse: 1721.4\n",
      "[713]\tvalid_0's rmse: 1721.38\n",
      "[714]\tvalid_0's rmse: 1721.33\n",
      "[715]\tvalid_0's rmse: 1721.29\n",
      "[716]\tvalid_0's rmse: 1721.27\n",
      "[717]\tvalid_0's rmse: 1721.04\n",
      "[718]\tvalid_0's rmse: 1720.96\n",
      "[719]\tvalid_0's rmse: 1720.86\n",
      "[720]\tvalid_0's rmse: 1720.57\n",
      "[721]\tvalid_0's rmse: 1720.54\n",
      "[722]\tvalid_0's rmse: 1720.52\n",
      "[723]\tvalid_0's rmse: 1720.52\n",
      "[724]\tvalid_0's rmse: 1720.4\n",
      "[725]\tvalid_0's rmse: 1720.46\n",
      "[726]\tvalid_0's rmse: 1720.43\n",
      "[727]\tvalid_0's rmse: 1720.44\n",
      "[728]\tvalid_0's rmse: 1720.4\n",
      "[729]\tvalid_0's rmse: 1720.39\n",
      "[730]\tvalid_0's rmse: 1720.22\n",
      "[731]\tvalid_0's rmse: 1719.9\n",
      "[732]\tvalid_0's rmse: 1719.85\n",
      "[733]\tvalid_0's rmse: 1719.71\n",
      "[734]\tvalid_0's rmse: 1719.59\n",
      "[735]\tvalid_0's rmse: 1719.63\n",
      "[736]\tvalid_0's rmse: 1719.61\n",
      "[737]\tvalid_0's rmse: 1719.44\n",
      "[738]\tvalid_0's rmse: 1719.31\n",
      "[739]\tvalid_0's rmse: 1719.27\n",
      "[740]\tvalid_0's rmse: 1719.21\n",
      "[741]\tvalid_0's rmse: 1718.97\n",
      "[742]\tvalid_0's rmse: 1718.91\n",
      "[743]\tvalid_0's rmse: 1718.9\n",
      "[744]\tvalid_0's rmse: 1718.88\n",
      "[745]\tvalid_0's rmse: 1718.84\n",
      "[746]\tvalid_0's rmse: 1718.69\n",
      "[747]\tvalid_0's rmse: 1718.68\n",
      "[748]\tvalid_0's rmse: 1718.68\n",
      "[749]\tvalid_0's rmse: 1718.65\n",
      "[750]\tvalid_0's rmse: 1718.58\n",
      "[751]\tvalid_0's rmse: 1718.55\n",
      "[752]\tvalid_0's rmse: 1718.5\n",
      "[753]\tvalid_0's rmse: 1718.44\n",
      "[754]\tvalid_0's rmse: 1718.35\n",
      "[755]\tvalid_0's rmse: 1718.34\n",
      "[756]\tvalid_0's rmse: 1718.4\n",
      "[757]\tvalid_0's rmse: 1718.39\n",
      "[758]\tvalid_0's rmse: 1718.38\n",
      "[759]\tvalid_0's rmse: 1718.28\n",
      "[760]\tvalid_0's rmse: 1718.21\n",
      "[761]\tvalid_0's rmse: 1718.17\n",
      "[762]\tvalid_0's rmse: 1718.15\n",
      "[763]\tvalid_0's rmse: 1718.11\n",
      "[764]\tvalid_0's rmse: 1718.14\n",
      "[765]\tvalid_0's rmse: 1718.12\n",
      "[766]\tvalid_0's rmse: 1718.06\n",
      "[767]\tvalid_0's rmse: 1718.05\n",
      "[768]\tvalid_0's rmse: 1717.99\n",
      "[769]\tvalid_0's rmse: 1717.96\n",
      "[770]\tvalid_0's rmse: 1717.97\n",
      "[771]\tvalid_0's rmse: 1717.95\n",
      "[772]\tvalid_0's rmse: 1717.95\n",
      "[773]\tvalid_0's rmse: 1717.93\n",
      "[774]\tvalid_0's rmse: 1717.93\n",
      "[775]\tvalid_0's rmse: 1717.92\n",
      "[776]\tvalid_0's rmse: 1717.81\n",
      "[777]\tvalid_0's rmse: 1717.79\n",
      "[778]\tvalid_0's rmse: 1717.76\n",
      "[779]\tvalid_0's rmse: 1717.7\n",
      "[780]\tvalid_0's rmse: 1717.7\n",
      "[781]\tvalid_0's rmse: 1717.48\n",
      "[782]\tvalid_0's rmse: 1717.53\n",
      "[783]\tvalid_0's rmse: 1717.54\n",
      "[784]\tvalid_0's rmse: 1717.54\n",
      "[785]\tvalid_0's rmse: 1717.43\n",
      "[786]\tvalid_0's rmse: 1717.52\n",
      "[787]\tvalid_0's rmse: 1717.53\n",
      "[788]\tvalid_0's rmse: 1717.51\n",
      "[789]\tvalid_0's rmse: 1717.46\n",
      "[790]\tvalid_0's rmse: 1717.48\n",
      "[791]\tvalid_0's rmse: 1717.41\n",
      "[792]\tvalid_0's rmse: 1717.4\n",
      "[793]\tvalid_0's rmse: 1717.43\n",
      "[794]\tvalid_0's rmse: 1717.39\n",
      "[795]\tvalid_0's rmse: 1717.32\n",
      "[796]\tvalid_0's rmse: 1717.29\n",
      "[797]\tvalid_0's rmse: 1717.16\n",
      "[798]\tvalid_0's rmse: 1716.97\n",
      "[799]\tvalid_0's rmse: 1716.86\n",
      "[800]\tvalid_0's rmse: 1716.79\n",
      "[801]\tvalid_0's rmse: 1716.79\n",
      "[802]\tvalid_0's rmse: 1716.75\n",
      "[803]\tvalid_0's rmse: 1716.65\n",
      "[804]\tvalid_0's rmse: 1716.66\n",
      "[805]\tvalid_0's rmse: 1716.67\n",
      "[806]\tvalid_0's rmse: 1716.68\n",
      "[807]\tvalid_0's rmse: 1716.66\n",
      "[808]\tvalid_0's rmse: 1716.63\n",
      "[809]\tvalid_0's rmse: 1716.61\n",
      "[810]\tvalid_0's rmse: 1716.62\n",
      "[811]\tvalid_0's rmse: 1716.68\n",
      "[812]\tvalid_0's rmse: 1716.64\n",
      "[813]\tvalid_0's rmse: 1716.63\n",
      "[814]\tvalid_0's rmse: 1716.54\n",
      "[815]\tvalid_0's rmse: 1716.46\n",
      "[816]\tvalid_0's rmse: 1716.42\n",
      "[817]\tvalid_0's rmse: 1716.48\n",
      "[818]\tvalid_0's rmse: 1716.48\n",
      "[819]\tvalid_0's rmse: 1716.47\n",
      "[820]\tvalid_0's rmse: 1716.44\n",
      "[821]\tvalid_0's rmse: 1716.43\n",
      "[822]\tvalid_0's rmse: 1716.48\n",
      "[823]\tvalid_0's rmse: 1716.42\n",
      "[824]\tvalid_0's rmse: 1716.28\n",
      "[825]\tvalid_0's rmse: 1716.23\n",
      "[826]\tvalid_0's rmse: 1716.16\n",
      "[827]\tvalid_0's rmse: 1716.14\n",
      "[828]\tvalid_0's rmse: 1716.07\n",
      "[829]\tvalid_0's rmse: 1715.98\n",
      "[830]\tvalid_0's rmse: 1715.84\n",
      "[831]\tvalid_0's rmse: 1715.78\n",
      "[832]\tvalid_0's rmse: 1715.75\n",
      "[833]\tvalid_0's rmse: 1715.78\n"
     ]
    },
    {
     "name": "stdout",
     "output_type": "stream",
     "text": [
      "[834]\tvalid_0's rmse: 1715.8\n",
      "[835]\tvalid_0's rmse: 1715.83\n",
      "[836]\tvalid_0's rmse: 1715.77\n",
      "[837]\tvalid_0's rmse: 1715.76\n",
      "[838]\tvalid_0's rmse: 1715.8\n",
      "[839]\tvalid_0's rmse: 1715.78\n",
      "[840]\tvalid_0's rmse: 1715.67\n",
      "[841]\tvalid_0's rmse: 1715.64\n",
      "[842]\tvalid_0's rmse: 1715.59\n",
      "[843]\tvalid_0's rmse: 1715.55\n",
      "[844]\tvalid_0's rmse: 1715.51\n",
      "[845]\tvalid_0's rmse: 1715.44\n",
      "[846]\tvalid_0's rmse: 1715.38\n",
      "[847]\tvalid_0's rmse: 1715.43\n",
      "[848]\tvalid_0's rmse: 1715.29\n",
      "[849]\tvalid_0's rmse: 1715.28\n",
      "[850]\tvalid_0's rmse: 1715.24\n",
      "[851]\tvalid_0's rmse: 1715.23\n",
      "[852]\tvalid_0's rmse: 1715.26\n",
      "[853]\tvalid_0's rmse: 1715.19\n",
      "[854]\tvalid_0's rmse: 1715.21\n",
      "[855]\tvalid_0's rmse: 1715.16\n",
      "[856]\tvalid_0's rmse: 1715.03\n",
      "[857]\tvalid_0's rmse: 1715.02\n",
      "[858]\tvalid_0's rmse: 1715.01\n",
      "[859]\tvalid_0's rmse: 1715.02\n",
      "[860]\tvalid_0's rmse: 1714.99\n",
      "[861]\tvalid_0's rmse: 1714.96\n",
      "[862]\tvalid_0's rmse: 1714.9\n",
      "[863]\tvalid_0's rmse: 1714.9\n",
      "[864]\tvalid_0's rmse: 1714.79\n",
      "[865]\tvalid_0's rmse: 1714.8\n",
      "[866]\tvalid_0's rmse: 1714.82\n",
      "[867]\tvalid_0's rmse: 1714.77\n",
      "[868]\tvalid_0's rmse: 1714.74\n",
      "[869]\tvalid_0's rmse: 1714.7\n",
      "[870]\tvalid_0's rmse: 1714.67\n",
      "[871]\tvalid_0's rmse: 1714.66\n",
      "[872]\tvalid_0's rmse: 1714.64\n",
      "[873]\tvalid_0's rmse: 1714.65\n",
      "[874]\tvalid_0's rmse: 1714.65\n",
      "[875]\tvalid_0's rmse: 1714.58\n",
      "[876]\tvalid_0's rmse: 1714.51\n",
      "[877]\tvalid_0's rmse: 1714.5\n",
      "[878]\tvalid_0's rmse: 1714.5\n",
      "[879]\tvalid_0's rmse: 1714.43\n",
      "[880]\tvalid_0's rmse: 1714.37\n",
      "[881]\tvalid_0's rmse: 1714.29\n",
      "[882]\tvalid_0's rmse: 1714.3\n",
      "[883]\tvalid_0's rmse: 1714.22\n",
      "[884]\tvalid_0's rmse: 1714.02\n",
      "[885]\tvalid_0's rmse: 1714.13\n",
      "[886]\tvalid_0's rmse: 1714.14\n",
      "[887]\tvalid_0's rmse: 1713.98\n",
      "[888]\tvalid_0's rmse: 1713.97\n",
      "[889]\tvalid_0's rmse: 1713.79\n",
      "[890]\tvalid_0's rmse: 1713.83\n",
      "[891]\tvalid_0's rmse: 1713.89\n",
      "[892]\tvalid_0's rmse: 1713.89\n",
      "[893]\tvalid_0's rmse: 1713.87\n",
      "[894]\tvalid_0's rmse: 1713.82\n",
      "[895]\tvalid_0's rmse: 1713.61\n",
      "[896]\tvalid_0's rmse: 1713.49\n",
      "[897]\tvalid_0's rmse: 1713.46\n",
      "[898]\tvalid_0's rmse: 1713.38\n",
      "[899]\tvalid_0's rmse: 1713.37\n",
      "[900]\tvalid_0's rmse: 1713.34\n",
      "[901]\tvalid_0's rmse: 1713.32\n",
      "[902]\tvalid_0's rmse: 1713.31\n",
      "[903]\tvalid_0's rmse: 1713.3\n",
      "[904]\tvalid_0's rmse: 1713.25\n",
      "[905]\tvalid_0's rmse: 1713.08\n",
      "[906]\tvalid_0's rmse: 1713.07\n",
      "[907]\tvalid_0's rmse: 1712.93\n",
      "[908]\tvalid_0's rmse: 1712.92\n",
      "[909]\tvalid_0's rmse: 1712.94\n",
      "[910]\tvalid_0's rmse: 1712.86\n",
      "[911]\tvalid_0's rmse: 1712.87\n",
      "[912]\tvalid_0's rmse: 1712.79\n",
      "[913]\tvalid_0's rmse: 1712.61\n",
      "[914]\tvalid_0's rmse: 1712.56\n",
      "[915]\tvalid_0's rmse: 1712.57\n",
      "[916]\tvalid_0's rmse: 1712.57\n",
      "[917]\tvalid_0's rmse: 1712.54\n",
      "[918]\tvalid_0's rmse: 1712.49\n",
      "[919]\tvalid_0's rmse: 1712.44\n",
      "[920]\tvalid_0's rmse: 1712.42\n",
      "[921]\tvalid_0's rmse: 1712.4\n",
      "[922]\tvalid_0's rmse: 1712.44\n",
      "[923]\tvalid_0's rmse: 1712.56\n",
      "[924]\tvalid_0's rmse: 1712.56\n",
      "[925]\tvalid_0's rmse: 1712.5\n",
      "[926]\tvalid_0's rmse: 1712.39\n",
      "[927]\tvalid_0's rmse: 1712.37\n",
      "[928]\tvalid_0's rmse: 1712.31\n",
      "[929]\tvalid_0's rmse: 1712.28\n",
      "[930]\tvalid_0's rmse: 1712.31\n",
      "[931]\tvalid_0's rmse: 1712.26\n",
      "[932]\tvalid_0's rmse: 1712.2\n",
      "[933]\tvalid_0's rmse: 1712.21\n",
      "[934]\tvalid_0's rmse: 1712.22\n",
      "[935]\tvalid_0's rmse: 1712.2\n",
      "[936]\tvalid_0's rmse: 1712.16\n",
      "[937]\tvalid_0's rmse: 1712.11\n",
      "[938]\tvalid_0's rmse: 1712.08\n",
      "[939]\tvalid_0's rmse: 1712.05\n",
      "[940]\tvalid_0's rmse: 1711.99\n",
      "[941]\tvalid_0's rmse: 1711.97\n",
      "[942]\tvalid_0's rmse: 1711.94\n",
      "[943]\tvalid_0's rmse: 1711.9\n",
      "[944]\tvalid_0's rmse: 1711.81\n",
      "[945]\tvalid_0's rmse: 1711.77\n",
      "[946]\tvalid_0's rmse: 1711.86\n",
      "[947]\tvalid_0's rmse: 1711.87\n",
      "[948]\tvalid_0's rmse: 1711.86\n",
      "[949]\tvalid_0's rmse: 1711.83\n",
      "[950]\tvalid_0's rmse: 1711.81\n",
      "[951]\tvalid_0's rmse: 1711.76\n",
      "[952]\tvalid_0's rmse: 1711.72\n",
      "[953]\tvalid_0's rmse: 1711.63\n",
      "[954]\tvalid_0's rmse: 1711.58\n",
      "[955]\tvalid_0's rmse: 1711.63\n",
      "[956]\tvalid_0's rmse: 1711.57\n",
      "[957]\tvalid_0's rmse: 1711.49\n",
      "[958]\tvalid_0's rmse: 1711.51\n",
      "[959]\tvalid_0's rmse: 1711.51\n",
      "[960]\tvalid_0's rmse: 1711.57\n",
      "[961]\tvalid_0's rmse: 1711.54\n",
      "[962]\tvalid_0's rmse: 1711.51\n",
      "[963]\tvalid_0's rmse: 1711.47\n",
      "[964]\tvalid_0's rmse: 1711.37\n",
      "[965]\tvalid_0's rmse: 1711.28\n",
      "[966]\tvalid_0's rmse: 1711.27\n",
      "[967]\tvalid_0's rmse: 1711.14\n",
      "[968]\tvalid_0's rmse: 1711.14\n",
      "[969]\tvalid_0's rmse: 1711.1\n",
      "[970]\tvalid_0's rmse: 1711.14\n",
      "[971]\tvalid_0's rmse: 1711.13\n",
      "[972]\tvalid_0's rmse: 1710.99\n",
      "[973]\tvalid_0's rmse: 1710.98\n",
      "[974]\tvalid_0's rmse: 1711\n",
      "[975]\tvalid_0's rmse: 1711\n",
      "[976]\tvalid_0's rmse: 1710.9\n",
      "[977]\tvalid_0's rmse: 1710.78\n",
      "[978]\tvalid_0's rmse: 1710.74\n",
      "[979]\tvalid_0's rmse: 1710.72\n",
      "[980]\tvalid_0's rmse: 1710.76\n",
      "[981]\tvalid_0's rmse: 1710.81\n",
      "[982]\tvalid_0's rmse: 1710.72\n",
      "[983]\tvalid_0's rmse: 1710.71\n",
      "[984]\tvalid_0's rmse: 1710.68\n",
      "[985]\tvalid_0's rmse: 1710.68\n",
      "[986]\tvalid_0's rmse: 1710.66\n",
      "[987]\tvalid_0's rmse: 1710.64\n",
      "[988]\tvalid_0's rmse: 1710.49\n",
      "[989]\tvalid_0's rmse: 1710.45\n",
      "[990]\tvalid_0's rmse: 1710.42\n",
      "[991]\tvalid_0's rmse: 1710.4\n",
      "[992]\tvalid_0's rmse: 1710.35\n",
      "[993]\tvalid_0's rmse: 1710.34\n",
      "[994]\tvalid_0's rmse: 1710.34\n",
      "[995]\tvalid_0's rmse: 1710.31\n",
      "[996]\tvalid_0's rmse: 1710.32\n",
      "[997]\tvalid_0's rmse: 1710.3\n",
      "[998]\tvalid_0's rmse: 1710.3\n",
      "[999]\tvalid_0's rmse: 1710.32\n",
      "[1000]\tvalid_0's rmse: 1710.31\n"
     ]
    }
   ],
   "source": [
    "# Create parameter grid\n",
    "fixed_params = {\n",
    "    'boosting': 'gbdt',\n",
    "    'objective': 'regression', \n",
    "    'metric': 'rmse',\n",
    "    'verbose': -1,\n",
    "    'n_estimators': 1000\n",
    "}\n",
    "\n",
    "# Create and train model\n",
    "model_lgm = lgb.LGBMRegressor(**fixed_params, random_state=50)\n",
    "\n",
    "start = time.time()\n",
    "model_lgm.fit(car_df_train_features, car_df_train_target, eval_set=(car_df_val_features, car_df_val_target))\n",
    "end = time.time()\n",
    "time_train_base = round(end - start, 2)"
   ]
  },
  {
   "cell_type": "code",
   "execution_count": 45,
   "metadata": {},
   "outputs": [
    {
     "name": "stdout",
     "output_type": "stream",
     "text": [
      "RMSE: 1710.31\n",
      "Training time: 134.19\n",
      "Prediction time: 3.99\n",
      "\n"
     ]
    },
    {
     "data": {
      "text/html": [
       "<div>\n",
       "<style scoped>\n",
       "    .dataframe tbody tr th:only-of-type {\n",
       "        vertical-align: middle;\n",
       "    }\n",
       "\n",
       "    .dataframe tbody tr th {\n",
       "        vertical-align: top;\n",
       "    }\n",
       "\n",
       "    .dataframe thead th {\n",
       "        text-align: right;\n",
       "    }\n",
       "</style>\n",
       "<table border=\"1\" class=\"dataframe\">\n",
       "  <thead>\n",
       "    <tr style=\"text-align: right;\">\n",
       "      <th></th>\n",
       "      <th>targets</th>\n",
       "      <th>preds</th>\n",
       "    </tr>\n",
       "  </thead>\n",
       "  <tbody>\n",
       "    <tr>\n",
       "      <th>0</th>\n",
       "      <td>3100</td>\n",
       "      <td>2877.263479</td>\n",
       "    </tr>\n",
       "    <tr>\n",
       "      <th>1</th>\n",
       "      <td>6690</td>\n",
       "      <td>6602.446402</td>\n",
       "    </tr>\n",
       "    <tr>\n",
       "      <th>2</th>\n",
       "      <td>4650</td>\n",
       "      <td>4493.400268</td>\n",
       "    </tr>\n",
       "    <tr>\n",
       "      <th>3</th>\n",
       "      <td>600</td>\n",
       "      <td>955.890455</td>\n",
       "    </tr>\n",
       "    <tr>\n",
       "      <th>4</th>\n",
       "      <td>0</td>\n",
       "      <td>10339.136293</td>\n",
       "    </tr>\n",
       "    <tr>\n",
       "      <th>5</th>\n",
       "      <td>4100</td>\n",
       "      <td>4112.826249</td>\n",
       "    </tr>\n",
       "    <tr>\n",
       "      <th>6</th>\n",
       "      <td>7450</td>\n",
       "      <td>7627.728011</td>\n",
       "    </tr>\n",
       "    <tr>\n",
       "      <th>7</th>\n",
       "      <td>700</td>\n",
       "      <td>825.774850</td>\n",
       "    </tr>\n",
       "    <tr>\n",
       "      <th>8</th>\n",
       "      <td>1250</td>\n",
       "      <td>962.413124</td>\n",
       "    </tr>\n",
       "    <tr>\n",
       "      <th>9</th>\n",
       "      <td>1800</td>\n",
       "      <td>1832.488723</td>\n",
       "    </tr>\n",
       "    <tr>\n",
       "      <th>10</th>\n",
       "      <td>5500</td>\n",
       "      <td>5074.483245</td>\n",
       "    </tr>\n",
       "    <tr>\n",
       "      <th>11</th>\n",
       "      <td>5830</td>\n",
       "      <td>4028.813855</td>\n",
       "    </tr>\n",
       "    <tr>\n",
       "      <th>12</th>\n",
       "      <td>11450</td>\n",
       "      <td>10962.674135</td>\n",
       "    </tr>\n",
       "    <tr>\n",
       "      <th>13</th>\n",
       "      <td>6900</td>\n",
       "      <td>3592.199459</td>\n",
       "    </tr>\n",
       "    <tr>\n",
       "      <th>14</th>\n",
       "      <td>300</td>\n",
       "      <td>261.051462</td>\n",
       "    </tr>\n",
       "  </tbody>\n",
       "</table>\n",
       "</div>"
      ],
      "text/plain": [
       "    targets         preds\n",
       "0      3100   2877.263479\n",
       "1      6690   6602.446402\n",
       "2      4650   4493.400268\n",
       "3       600    955.890455\n",
       "4         0  10339.136293\n",
       "5      4100   4112.826249\n",
       "6      7450   7627.728011\n",
       "7       700    825.774850\n",
       "8      1250    962.413124\n",
       "9      1800   1832.488723\n",
       "10     5500   5074.483245\n",
       "11     5830   4028.813855\n",
       "12    11450  10962.674135\n",
       "13     6900   3592.199459\n",
       "14      300    261.051462"
      ]
     },
     "metadata": {},
     "output_type": "display_data"
    }
   ],
   "source": [
    "# Gather predictions\n",
    "start = time.time()\n",
    "predictions = model_lgm.predict(car_df_val_features)\n",
    "end = time.time()\n",
    "time_predict_base = round(end - start, 2)\n",
    "\n",
    "# Evaluate model witn RMSE\n",
    "MSE_base = mean_squared_error(car_df_val_target, predictions)\n",
    "RMSE_base = MSE_base**0.5\n",
    "print('RMSE:', RMSE_base.round(2))\n",
    "print('Training time:', time_train_base)\n",
    "print('Prediction time:', time_predict_base)\n",
    "print()\n",
    "\n",
    "# Display a subset of targets vs predictions\n",
    "predictions2 = pd.Series(predictions, name='preds').reset_index(drop=True)\n",
    "combine = pd.concat([car_df_val_target2, predictions2], axis=1)\n",
    "display(combine.head(15))"
   ]
  },
  {
   "cell_type": "markdown",
   "metadata": {},
   "source": [
    "<b>Hyperparameter tuning</b>"
   ]
  },
  {
   "cell_type": "code",
   "execution_count": 46,
   "metadata": {},
   "outputs": [
    {
     "name": "stdout",
     "output_type": "stream",
     "text": [
      "[LightGBM] [Warning] boosting is set=gbdt, boosting_type=gbdt will be ignored. Current value: boosting=gbdt\n",
      "[LightGBM] [Warning] boosting is set=gbdt, boosting_type=gbdt will be ignored. Current value: boosting=gbdt\n",
      "[LightGBM] [Warning] boosting is set=gbdt, boosting_type=gbdt will be ignored. Current value: boosting=gbdt\n",
      "[LightGBM] [Warning] boosting is set=gbdt, boosting_type=gbdt will be ignored. Current value: boosting=gbdt\n",
      "[LightGBM] [Warning] boosting is set=gbdt, boosting_type=gbdt will be ignored. Current value: boosting=gbdt\n",
      "[LightGBM] [Warning] boosting is set=gbdt, boosting_type=gbdt will be ignored. Current value: boosting=gbdt\n",
      "[LightGBM] [Warning] boosting is set=gbdt, boosting_type=gbdt will be ignored. Current value: boosting=gbdt\n",
      "[LightGBM] [Warning] boosting is set=gbdt, boosting_type=gbdt will be ignored. Current value: boosting=gbdt\n",
      "[LightGBM] [Warning] boosting is set=gbdt, boosting_type=gbdt will be ignored. Current value: boosting=gbdt\n",
      "[LightGBM] [Warning] boosting is set=gbdt, boosting_type=gbdt will be ignored. Current value: boosting=gbdt\n",
      "[LightGBM] [Warning] boosting is set=gbdt, boosting_type=gbdt will be ignored. Current value: boosting=gbdt\n",
      "[LightGBM] [Warning] boosting is set=gbdt, boosting_type=gbdt will be ignored. Current value: boosting=gbdt\n",
      "[LightGBM] [Warning] boosting is set=gbdt, boosting_type=gbdt will be ignored. Current value: boosting=gbdt\n",
      "[LightGBM] [Warning] boosting is set=gbdt, boosting_type=gbdt will be ignored. Current value: boosting=gbdt\n",
      "[LightGBM] [Warning] boosting is set=gbdt, boosting_type=gbdt will be ignored. Current value: boosting=gbdt\n",
      "[LightGBM] [Warning] boosting is set=gbdt, boosting_type=gbdt will be ignored. Current value: boosting=gbdt\n",
      "[LightGBM] [Warning] boosting is set=gbdt, boosting_type=gbdt will be ignored. Current value: boosting=gbdt\n",
      "[LightGBM] [Warning] boosting is set=gbdt, boosting_type=gbdt will be ignored. Current value: boosting=gbdt\n",
      "[LightGBM] [Warning] boosting is set=gbdt, boosting_type=gbdt will be ignored. Current value: boosting=gbdt\n",
      "[LightGBM] [Warning] boosting is set=gbdt, boosting_type=gbdt will be ignored. Current value: boosting=gbdt\n",
      "[LightGBM] [Warning] boosting is set=gbdt, boosting_type=gbdt will be ignored. Current value: boosting=gbdt\n",
      "[LightGBM] [Warning] boosting is set=gbdt, boosting_type=gbdt will be ignored. Current value: boosting=gbdt\n",
      "[LightGBM] [Warning] boosting is set=gbdt, boosting_type=gbdt will be ignored. Current value: boosting=gbdt\n",
      "[LightGBM] [Warning] boosting is set=gbdt, boosting_type=gbdt will be ignored. Current value: boosting=gbdt\n",
      "[LightGBM] [Warning] boosting is set=gbdt, boosting_type=gbdt will be ignored. Current value: boosting=gbdt\n",
      "[LightGBM] [Warning] boosting is set=gbdt, boosting_type=gbdt will be ignored. Current value: boosting=gbdt\n",
      "[LightGBM] [Warning] boosting is set=gbdt, boosting_type=gbdt will be ignored. Current value: boosting=gbdt\n",
      "[LightGBM] [Warning] boosting is set=gbdt, boosting_type=gbdt will be ignored. Current value: boosting=gbdt\n",
      "[LightGBM] [Warning] boosting is set=gbdt, boosting_type=gbdt will be ignored. Current value: boosting=gbdt\n",
      "[LightGBM] [Warning] boosting is set=gbdt, boosting_type=gbdt will be ignored. Current value: boosting=gbdt\n",
      "[LightGBM] [Warning] boosting is set=gbdt, boosting_type=gbdt will be ignored. Current value: boosting=gbdt\n",
      "[LightGBM] [Warning] boosting is set=gbdt, boosting_type=gbdt will be ignored. Current value: boosting=gbdt\n",
      "[LightGBM] [Warning] boosting is set=gbdt, boosting_type=gbdt will be ignored. Current value: boosting=gbdt\n",
      "[LightGBM] [Warning] boosting is set=gbdt, boosting_type=gbdt will be ignored. Current value: boosting=gbdt\n",
      "[LightGBM] [Warning] boosting is set=gbdt, boosting_type=gbdt will be ignored. Current value: boosting=gbdt\n",
      "[LightGBM] [Warning] boosting is set=gbdt, boosting_type=gbdt will be ignored. Current value: boosting=gbdt\n",
      "[LightGBM] [Warning] boosting is set=gbdt, boosting_type=gbdt will be ignored. Current value: boosting=gbdt\n",
      "[LightGBM] [Warning] boosting is set=gbdt, boosting_type=gbdt will be ignored. Current value: boosting=gbdt\n",
      "[LightGBM] [Warning] boosting is set=gbdt, boosting_type=gbdt will be ignored. Current value: boosting=gbdt\n",
      "[LightGBM] [Warning] boosting is set=gbdt, boosting_type=gbdt will be ignored. Current value: boosting=gbdt\n",
      "[LightGBM] [Warning] boosting is set=gbdt, boosting_type=gbdt will be ignored. Current value: boosting=gbdt\n",
      "Best hyperparameters: {'learning_rate': 0.1, 'max_depth': -1, 'num_leaves': 63}\n",
      "Best RMSE score: 1709.4761238676492\n",
      "\n",
      "\n"
     ]
    },
    {
     "data": {
      "text/plain": [
       "defaultdict(functools.partial(<class 'numpy.ndarray'>, 0),\n",
       "            {'params': [{'learning_rate': 0.01,\n",
       "               'max_depth': -1,\n",
       "               'num_leaves': 31},\n",
       "              {'learning_rate': 0.01, 'max_depth': -1, 'num_leaves': 63},\n",
       "              {'learning_rate': 0.01, 'max_depth': 3, 'num_leaves': 31},\n",
       "              {'learning_rate': 0.01, 'max_depth': 3, 'num_leaves': 63},\n",
       "              {'learning_rate': 0.1, 'max_depth': -1, 'num_leaves': 31},\n",
       "              {'learning_rate': 0.1, 'max_depth': -1, 'num_leaves': 63},\n",
       "              {'learning_rate': 0.1, 'max_depth': 3, 'num_leaves': 31},\n",
       "              {'learning_rate': 0.1, 'max_depth': 3, 'num_leaves': 63}],\n",
       "             'split0_test_score': array([-1836.39044074, -1782.62849156, -2066.39362729, -2066.39362729,\n",
       "                    -1713.26809409, -1700.30917786, -1842.20534871, -1842.20534871]),\n",
       "             'split1_test_score': array([-1877.93363494, -1821.46473698, -2106.30009366, -2106.30009366,\n",
       "                    -1759.57203723, -1736.0593557 , -1894.58795909, -1894.58795909]),\n",
       "             'split2_test_score': array([-1848.89612483, -1792.97662987, -2067.19124861, -2067.19124861,\n",
       "                    -1727.98250977, -1707.76305678, -1857.82800255, -1857.82800255]),\n",
       "             'mean_test_score': array([-1848.58299503, -1791.10853163, -2076.40828574, -2076.40828574,\n",
       "                    -1726.97949501, -1709.47612387, -1858.87078826, -1858.87078826])})"
      ]
     },
     "metadata": {},
     "output_type": "display_data"
    }
   ],
   "source": [
    "# Create parameter grid\n",
    "param_grid = {\n",
    "    'num_leaves': [31, 63],\n",
    "    'max_depth': [-1, 3],\n",
    "    'learning_rate': [0.01, 0.1]\n",
    "}\n",
    "\n",
    "# Create gridsearch object\n",
    "model_lgm_grid = lgb.LGBMRegressor(**fixed_params, random_state=50)\n",
    "grid_searchlgm = GridSearchCV(estimator=model_lgm_grid, param_grid=param_grid, cv=5, scoring='neg_root_mean_squared_error')\n",
    "\n",
    "# Fit model and identify best hyperparameter combinations\n",
    "grid_searchlgm.fit(car_df_train_features, car_df_train_target)\n",
    "grid_searchlgm.cv_results_\n",
    "dict_lgm = defaultdict(partial(np.ndarray, 0))\n",
    "dict_lgm['params'] = grid_searchlgm.cv_results_['params']\n",
    "dict_lgm['split0_test_score'] = grid_searchlgm.cv_results_['split0_test_score']\n",
    "dict_lgm['split1_test_score'] = grid_searchlgm.cv_results_['split1_test_score']\n",
    "dict_lgm['split2_test_score'] = grid_searchlgm.cv_results_['split2_test_score']\n",
    "dict_lgm['mean_test_score'] = grid_searchlgm.cv_results_['mean_test_score']\n",
    "print('Best hyperparameters:', grid_searchlgm.best_params_)\n",
    "print('Best RMSE score:', abs(grid_searchlgm.best_score_))\n",
    "print()\n",
    "print()\n",
    "display(dict_lgm)"
   ]
  },
  {
   "cell_type": "markdown",
   "metadata": {},
   "source": [
    "<b>Sanity check</b>"
   ]
  },
  {
   "cell_type": "code",
   "execution_count": 47,
   "metadata": {},
   "outputs": [
    {
     "name": "stdout",
     "output_type": "stream",
     "text": [
      "RMSE: 1797.5\n"
     ]
    },
    {
     "data": {
      "text/html": [
       "<div>\n",
       "<style scoped>\n",
       "    .dataframe tbody tr th:only-of-type {\n",
       "        vertical-align: middle;\n",
       "    }\n",
       "\n",
       "    .dataframe tbody tr th {\n",
       "        vertical-align: top;\n",
       "    }\n",
       "\n",
       "    .dataframe thead th {\n",
       "        text-align: right;\n",
       "    }\n",
       "</style>\n",
       "<table border=\"1\" class=\"dataframe\">\n",
       "  <thead>\n",
       "    <tr style=\"text-align: right;\">\n",
       "      <th></th>\n",
       "      <th>targets</th>\n",
       "      <th>preds</th>\n",
       "    </tr>\n",
       "  </thead>\n",
       "  <tbody>\n",
       "    <tr>\n",
       "      <th>0</th>\n",
       "      <td>3100</td>\n",
       "      <td>2820.455424</td>\n",
       "    </tr>\n",
       "    <tr>\n",
       "      <th>1</th>\n",
       "      <td>6690</td>\n",
       "      <td>6063.409761</td>\n",
       "    </tr>\n",
       "    <tr>\n",
       "      <th>2</th>\n",
       "      <td>4650</td>\n",
       "      <td>3859.998827</td>\n",
       "    </tr>\n",
       "    <tr>\n",
       "      <th>3</th>\n",
       "      <td>600</td>\n",
       "      <td>485.369631</td>\n",
       "    </tr>\n",
       "    <tr>\n",
       "      <th>4</th>\n",
       "      <td>0</td>\n",
       "      <td>11121.285527</td>\n",
       "    </tr>\n",
       "    <tr>\n",
       "      <th>5</th>\n",
       "      <td>4100</td>\n",
       "      <td>3801.243680</td>\n",
       "    </tr>\n",
       "    <tr>\n",
       "      <th>6</th>\n",
       "      <td>7450</td>\n",
       "      <td>7406.667050</td>\n",
       "    </tr>\n",
       "    <tr>\n",
       "      <th>7</th>\n",
       "      <td>700</td>\n",
       "      <td>737.367504</td>\n",
       "    </tr>\n",
       "    <tr>\n",
       "      <th>8</th>\n",
       "      <td>1250</td>\n",
       "      <td>950.015456</td>\n",
       "    </tr>\n",
       "    <tr>\n",
       "      <th>9</th>\n",
       "      <td>1800</td>\n",
       "      <td>1854.364977</td>\n",
       "    </tr>\n",
       "    <tr>\n",
       "      <th>10</th>\n",
       "      <td>5500</td>\n",
       "      <td>5057.087532</td>\n",
       "    </tr>\n",
       "    <tr>\n",
       "      <th>11</th>\n",
       "      <td>5830</td>\n",
       "      <td>4158.564096</td>\n",
       "    </tr>\n",
       "    <tr>\n",
       "      <th>12</th>\n",
       "      <td>11450</td>\n",
       "      <td>11287.265711</td>\n",
       "    </tr>\n",
       "    <tr>\n",
       "      <th>13</th>\n",
       "      <td>6900</td>\n",
       "      <td>3476.715449</td>\n",
       "    </tr>\n",
       "    <tr>\n",
       "      <th>14</th>\n",
       "      <td>300</td>\n",
       "      <td>167.952038</td>\n",
       "    </tr>\n",
       "  </tbody>\n",
       "</table>\n",
       "</div>"
      ],
      "text/plain": [
       "    targets         preds\n",
       "0      3100   2820.455424\n",
       "1      6690   6063.409761\n",
       "2      4650   3859.998827\n",
       "3       600    485.369631\n",
       "4         0  11121.285527\n",
       "5      4100   3801.243680\n",
       "6      7450   7406.667050\n",
       "7       700    737.367504\n",
       "8      1250    950.015456\n",
       "9      1800   1854.364977\n",
       "10     5500   5057.087532\n",
       "11     5830   4158.564096\n",
       "12    11450  11287.265711\n",
       "13     6900   3476.715449\n",
       "14      300    167.952038"
      ]
     },
     "metadata": {},
     "output_type": "display_data"
    }
   ],
   "source": [
    "# Create and train optimized optimized LightGBM model\n",
    "model_lgm = grid_searchlgm.best_estimator_\n",
    "\n",
    "start = time.time()\n",
    "model_lgm.fit(car_df_train_features, car_df_train_target)\n",
    "end = time.time()\n",
    "time_train_opt = round(end - start, 2)\n",
    "\n",
    "# Gather predictions\n",
    "start = time.time()\n",
    "predictions = model_lgm.predict(car_df_val_features)\n",
    "end = time.time()\n",
    "time_predict_opt = round(end - start, 2)\n",
    "\n",
    "# Evaluate model witn RMSE\n",
    "MSE_opt = mean_squared_error(car_df_val_target, predictions)\n",
    "RMSE_opt = MSE_opt**0.5\n",
    "\n",
    "# Display a subset of targets vs predictions\n",
    "predictions2 = pd.Series(predictions, name='preds').reset_index(drop=True)\n",
    "combine = pd.concat([car_df_val_target2, predictions2], axis=1)\n",
    "display(combine.head(15))"
   ]
  },
  {
   "cell_type": "code",
   "execution_count": 48,
   "metadata": {},
   "outputs": [
    {
     "name": "stdout",
     "output_type": "stream",
     "text": [
      "RMSE of LightGBM model: 1683.65\n",
      "Training time: 23.3\n",
      "Prediction time: 5.51\n",
      "\n",
      "RMSE of Linear Regression model: 2902.39\n",
      "Training time: 11.78\n",
      "Prediction time: 0.11\n"
     ]
    }
   ],
   "source": [
    "# Compare RMSEs and times to run\n",
    "print('RMSE of LightGBM model:', abs(RMSE_opt.round(2)))\n",
    "print('Training time:', time_train_opt)\n",
    "print('Prediction time:', time_predict_opt)\n",
    "print()\n",
    "print('RMSE of Linear Regression model:', RMSE_lr.round(2))\n",
    "print('Training time:', time_train_lr)\n",
    "print('Prediction time:', time_predict_lr)"
   ]
  },
  {
   "cell_type": "markdown",
   "metadata": {},
   "source": [
    "<b>Conclusion</b>\n",
    "\n",
    "The final LightGBM boosting model yielded a RMSE of <font color='red'><b>1683.65</b></font> with a training run time of <font color='red'><b>23.3</b></font> seconds and a prediction run time of <font color='red'><b>5.51</b></font>. The fine-tuning did result in decent improvement and it is performing much better than the Linear Regression model, so it also passes the sanity check. The time it took to run was also a third faster than the Random Forest model.\n",
    "\n",
    "<b>NOTE:</b> The time to run values in the below table may vary slightly compared to the times in the code cells since the time to run is variable from run to run."
   ]
  },
  {
   "cell_type": "code",
   "execution_count": 59,
   "metadata": {},
   "outputs": [
    {
     "data": {
      "text/html": [
       "<div>\n",
       "<style scoped>\n",
       "    .dataframe tbody tr th:only-of-type {\n",
       "        vertical-align: middle;\n",
       "    }\n",
       "\n",
       "    .dataframe tbody tr th {\n",
       "        vertical-align: top;\n",
       "    }\n",
       "\n",
       "    .dataframe thead th {\n",
       "        text-align: right;\n",
       "    }\n",
       "</style>\n",
       "<table border=\"1\" class=\"dataframe\">\n",
       "  <thead>\n",
       "    <tr style=\"text-align: right;\">\n",
       "      <th></th>\n",
       "      <th>RMSE</th>\n",
       "      <th>Time to train (sec)</th>\n",
       "      <th>Time to predict (sec)</th>\n",
       "    </tr>\n",
       "  </thead>\n",
       "  <tbody>\n",
       "    <tr>\n",
       "      <th>Base model</th>\n",
       "      <td>1710.307259</td>\n",
       "      <td>134.19</td>\n",
       "      <td>3.99</td>\n",
       "    </tr>\n",
       "    <tr>\n",
       "      <th>Optimized model</th>\n",
       "      <td>1683.646409</td>\n",
       "      <td>19.96</td>\n",
       "      <td>5.51</td>\n",
       "    </tr>\n",
       "    <tr>\n",
       "      <th>Linear regression</th>\n",
       "      <td>2902.386914</td>\n",
       "      <td>11.78</td>\n",
       "      <td>0.11</td>\n",
       "    </tr>\n",
       "  </tbody>\n",
       "</table>\n",
       "</div>"
      ],
      "text/plain": [
       "                          RMSE  Time to train (sec)  Time to predict (sec)\n",
       "Base model         1710.307259               134.19                   3.99\n",
       "Optimized model    1683.646409                19.96                   5.51\n",
       "Linear regression  2902.386914                11.78                   0.11"
      ]
     },
     "metadata": {},
     "output_type": "display_data"
    }
   ],
   "source": [
    "# Compare LightGBM boosting and Linear Regression models\n",
    "RMSE_table = [RMSE_base, RMSE_opt, RMSE_lr]\n",
    "time_train_table = [time_train_base, time_train_opt, time_train_lr]\n",
    "time_predict_table = [time_predict_base, time_predict_opt, time_predict_lr]\n",
    "rf_table_dict = {\n",
    "    'RMSE': RMSE_table,\n",
    "    'Time to train (sec)': time_train_table,\n",
    "    'Time to predict (sec)': time_predict_table\n",
    "    \n",
    "}\n",
    "rf_table = pd.DataFrame(rf_table_dict, index=['Base model', 'Optimized model', 'Linear regression'])\n",
    "display(rf_table)"
   ]
  },
  {
   "cell_type": "markdown",
   "metadata": {},
   "source": [
    "## Model analysis\n",
    "\n",
    "The final evaluation of the best model, LightGBM (gradient boosting), yielded the best RMSE yet, <font color='red'><b>1674.91</b></font>, with a training run time of <font color='red'><b>21.37</b></font> seconds and a prediction run time of <font color='red'><b>5.64</b></font> seconds."
   ]
  },
  {
   "cell_type": "code",
   "execution_count": 69,
   "metadata": {},
   "outputs": [],
   "source": [
    "# Create and train optimized optimized LightGBM model\n",
    "model_lgm_final = grid_searchlgm.best_estimator_\n",
    "\n",
    "start = time.time()\n",
    "model_lgm_final.fit(car_df_train_features, car_df_train_target)\n",
    "end = time.time()\n",
    "time_train_opt = round(end - start, 2)\n",
    "\n",
    "# Gather predictions\n",
    "start = time.time()\n",
    "predictions = model_lgm_final.predict(car_df_test_features)\n",
    "end = time.time()\n",
    "time_predict_opt = round(end - start, 2)"
   ]
  },
  {
   "cell_type": "code",
   "execution_count": 71,
   "metadata": {},
   "outputs": [
    {
     "name": "stdout",
     "output_type": "stream",
     "text": [
      "TEST DATASET\n",
      "\n",
      "RMSE: 1674.91\n",
      "Training time: 21.37\n",
      "Prediction time: 5.64\n"
     ]
    },
    {
     "data": {
      "text/html": [
       "<div>\n",
       "<style scoped>\n",
       "    .dataframe tbody tr th:only-of-type {\n",
       "        vertical-align: middle;\n",
       "    }\n",
       "\n",
       "    .dataframe tbody tr th {\n",
       "        vertical-align: top;\n",
       "    }\n",
       "\n",
       "    .dataframe thead th {\n",
       "        text-align: right;\n",
       "    }\n",
       "</style>\n",
       "<table border=\"1\" class=\"dataframe\">\n",
       "  <thead>\n",
       "    <tr style=\"text-align: right;\">\n",
       "      <th></th>\n",
       "      <th>targets</th>\n",
       "      <th>preds</th>\n",
       "    </tr>\n",
       "  </thead>\n",
       "  <tbody>\n",
       "    <tr>\n",
       "      <th>0</th>\n",
       "      <td>13250</td>\n",
       "      <td>13212.768633</td>\n",
       "    </tr>\n",
       "    <tr>\n",
       "      <th>1</th>\n",
       "      <td>1200</td>\n",
       "      <td>926.784172</td>\n",
       "    </tr>\n",
       "    <tr>\n",
       "      <th>2</th>\n",
       "      <td>2500</td>\n",
       "      <td>1403.995624</td>\n",
       "    </tr>\n",
       "    <tr>\n",
       "      <th>3</th>\n",
       "      <td>50</td>\n",
       "      <td>-582.267882</td>\n",
       "    </tr>\n",
       "    <tr>\n",
       "      <th>4</th>\n",
       "      <td>0</td>\n",
       "      <td>1704.682933</td>\n",
       "    </tr>\n",
       "    <tr>\n",
       "      <th>5</th>\n",
       "      <td>990</td>\n",
       "      <td>812.744035</td>\n",
       "    </tr>\n",
       "    <tr>\n",
       "      <th>6</th>\n",
       "      <td>800</td>\n",
       "      <td>647.335308</td>\n",
       "    </tr>\n",
       "    <tr>\n",
       "      <th>7</th>\n",
       "      <td>150</td>\n",
       "      <td>588.784435</td>\n",
       "    </tr>\n",
       "    <tr>\n",
       "      <th>8</th>\n",
       "      <td>3200</td>\n",
       "      <td>3580.715462</td>\n",
       "    </tr>\n",
       "    <tr>\n",
       "      <th>9</th>\n",
       "      <td>150</td>\n",
       "      <td>615.226281</td>\n",
       "    </tr>\n",
       "    <tr>\n",
       "      <th>10</th>\n",
       "      <td>7000</td>\n",
       "      <td>7403.165455</td>\n",
       "    </tr>\n",
       "    <tr>\n",
       "      <th>11</th>\n",
       "      <td>850</td>\n",
       "      <td>2179.456172</td>\n",
       "    </tr>\n",
       "    <tr>\n",
       "      <th>12</th>\n",
       "      <td>1550</td>\n",
       "      <td>1169.070679</td>\n",
       "    </tr>\n",
       "    <tr>\n",
       "      <th>13</th>\n",
       "      <td>400</td>\n",
       "      <td>640.405811</td>\n",
       "    </tr>\n",
       "    <tr>\n",
       "      <th>14</th>\n",
       "      <td>600</td>\n",
       "      <td>1053.190098</td>\n",
       "    </tr>\n",
       "  </tbody>\n",
       "</table>\n",
       "</div>"
      ],
      "text/plain": [
       "    targets         preds\n",
       "0     13250  13212.768633\n",
       "1      1200    926.784172\n",
       "2      2500   1403.995624\n",
       "3        50   -582.267882\n",
       "4         0   1704.682933\n",
       "5       990    812.744035\n",
       "6       800    647.335308\n",
       "7       150    588.784435\n",
       "8      3200   3580.715462\n",
       "9       150    615.226281\n",
       "10     7000   7403.165455\n",
       "11      850   2179.456172\n",
       "12     1550   1169.070679\n",
       "13      400    640.405811\n",
       "14      600   1053.190098"
      ]
     },
     "metadata": {},
     "output_type": "display_data"
    }
   ],
   "source": [
    "# Evaluate model witn RMSE\n",
    "MSE = mean_squared_error(car_df_test_target, predictions)\n",
    "RMSE = MSE**0.5\n",
    "print('TEST DATASET')\n",
    "print()\n",
    "print('RMSE:', RMSE.round(2))\n",
    "print('Training time:', time_train_opt)\n",
    "print('Prediction time:', time_predict_opt)\n",
    "\n",
    "# Display a subset of targets vs predictions\n",
    "predictions2 = pd.Series(predictions, name='preds').reset_index(drop=True)\n",
    "car_df_test_target2 = car_df_test_target.reset_index(drop=True).rename('targets')\n",
    "combine = pd.concat([car_df_test_target2, predictions2], axis=1)\n",
    "display(combine.head(15))"
   ]
  },
  {
   "cell_type": "markdown",
   "metadata": {},
   "source": [
    "# Conclusion"
   ]
  },
  {
   "cell_type": "markdown",
   "metadata": {},
   "source": [
    "Machine learning models can be improved upon during training through hyperparameter tuning and other modifications, but at what time cost? If it takes a very long time for a model to train, and to run, is it really usable? There sometimes needs to be a balance between accuracy and efficiency.\n",
    "\n",
    "The <b>LightGBM</b> model performed the best with a RMSE of <font color='red'><b>1674.91</b></font> with a training run time of <font color='red'><b>21.37</b></font> seconds and a prediction run time of <font color='red'><b>5.64</b></font> seconds.. Both great measurables compared to the other models. Training all the models and improving the models took a good amount of time. Morever, it is important to be thoughtful and selective on how the model is to be improved, so the model building process, and the model itself, aren't bogged down by time constraints when it is deployed to production and used by customers."
   ]
  },
  {
   "cell_type": "markdown",
   "metadata": {},
   "source": [
    "# Checklist"
   ]
  },
  {
   "cell_type": "markdown",
   "metadata": {},
   "source": [
    "Type 'x' to check. Then press Shift+Enter."
   ]
  },
  {
   "cell_type": "markdown",
   "metadata": {},
   "source": [
    "- [x]  Jupyter Notebook is open\n",
    "- [x]  Code is error free\n",
    "- [x]  The cells with the code have been arranged in order of execution\n",
    "- [x]  The data has been downloaded and prepared\n",
    "- [x]  The models have been trained\n",
    "- [x]  The analysis of speed and quality of the models has been performed"
   ]
  },
  {
   "cell_type": "code",
   "execution_count": null,
   "metadata": {},
   "outputs": [],
   "source": []
  }
 ],
 "metadata": {
  "ExecuteTimeLog": [
   {
    "duration": 276,
    "start_time": "2025-03-31T20:44:25.747Z"
   },
   {
    "duration": 504,
    "start_time": "2025-03-31T20:44:56.342Z"
   },
   {
    "duration": 179,
    "start_time": "2025-03-31T20:45:15.293Z"
   },
   {
    "duration": 14,
    "start_time": "2025-03-31T20:45:20.103Z"
   },
   {
    "duration": 22,
    "start_time": "2025-03-31T20:45:27.057Z"
   },
   {
    "duration": 10,
    "start_time": "2025-03-31T20:47:32.137Z"
   },
   {
    "duration": 10,
    "start_time": "2025-03-31T20:47:35.228Z"
   },
   {
    "duration": 4,
    "start_time": "2025-03-31T20:47:45.276Z"
   },
   {
    "duration": 10,
    "start_time": "2025-03-31T20:48:36.701Z"
   },
   {
    "duration": 275,
    "start_time": "2025-03-31T20:48:49.575Z"
   },
   {
    "duration": 59,
    "start_time": "2025-03-31T20:48:56.697Z"
   },
   {
    "duration": 106,
    "start_time": "2025-03-31T20:49:21.530Z"
   },
   {
    "duration": 86,
    "start_time": "2025-03-31T20:50:25.822Z"
   },
   {
    "duration": 10,
    "start_time": "2025-03-31T20:52:53.361Z"
   },
   {
    "duration": 232,
    "start_time": "2025-03-31T20:53:04.467Z"
   },
   {
    "duration": 619,
    "start_time": "2025-03-31T20:53:41.775Z"
   },
   {
    "duration": 274,
    "start_time": "2025-03-31T20:53:55.773Z"
   },
   {
    "duration": 244,
    "start_time": "2025-03-31T20:54:39.463Z"
   },
   {
    "duration": 245,
    "start_time": "2025-03-31T20:55:13.158Z"
   },
   {
    "duration": 482,
    "start_time": "2025-03-31T20:55:54.777Z"
   },
   {
    "duration": 497,
    "start_time": "2025-03-31T20:56:12.452Z"
   },
   {
    "duration": 481,
    "start_time": "2025-03-31T20:56:17.838Z"
   },
   {
    "duration": 503,
    "start_time": "2025-03-31T20:56:21.186Z"
   },
   {
    "duration": 493,
    "start_time": "2025-03-31T20:56:24.384Z"
   },
   {
    "duration": 481,
    "start_time": "2025-03-31T20:56:30.777Z"
   },
   {
    "duration": 93,
    "start_time": "2025-03-31T21:23:19.213Z"
   },
   {
    "duration": 99,
    "start_time": "2025-03-31T21:23:38.807Z"
   },
   {
    "duration": 103,
    "start_time": "2025-03-31T21:23:44.062Z"
   },
   {
    "duration": 2,
    "start_time": "2025-03-31T21:24:03.445Z"
   },
   {
    "duration": 14,
    "start_time": "2025-03-31T21:33:17.663Z"
   },
   {
    "duration": 14,
    "start_time": "2025-03-31T21:33:23.024Z"
   },
   {
    "duration": 15,
    "start_time": "2025-03-31T21:34:08.978Z"
   },
   {
    "duration": 11,
    "start_time": "2025-03-31T21:34:11.635Z"
   },
   {
    "duration": 3,
    "start_time": "2025-03-31T21:34:17.211Z"
   },
   {
    "duration": 19,
    "start_time": "2025-03-31T21:34:19.020Z"
   },
   {
    "duration": 13,
    "start_time": "2025-03-31T21:35:26.742Z"
   },
   {
    "duration": 2,
    "start_time": "2025-03-31T21:35:40.386Z"
   },
   {
    "duration": 19,
    "start_time": "2025-03-31T21:35:42.864Z"
   },
   {
    "duration": 45,
    "start_time": "2025-03-31T21:36:34.253Z"
   },
   {
    "duration": 34,
    "start_time": "2025-03-31T21:37:04.840Z"
   },
   {
    "duration": 23,
    "start_time": "2025-03-31T21:37:13.898Z"
   },
   {
    "duration": 45,
    "start_time": "2025-03-31T21:37:53.364Z"
   },
   {
    "duration": 65,
    "start_time": "2025-03-31T21:38:50.641Z"
   },
   {
    "duration": 58,
    "start_time": "2025-03-31T21:39:18.051Z"
   },
   {
    "duration": 59,
    "start_time": "2025-03-31T21:39:24.502Z"
   },
   {
    "duration": 43,
    "start_time": "2025-03-31T21:39:36.505Z"
   },
   {
    "duration": 49,
    "start_time": "2025-03-31T21:39:52.978Z"
   },
   {
    "duration": 33,
    "start_time": "2025-03-31T21:40:38.017Z"
   },
   {
    "duration": 34,
    "start_time": "2025-03-31T21:40:45.525Z"
   },
   {
    "duration": 7,
    "start_time": "2025-03-31T21:42:51.142Z"
   },
   {
    "duration": 35,
    "start_time": "2025-03-31T21:42:56.992Z"
   },
   {
    "duration": 36,
    "start_time": "2025-03-31T21:43:05.778Z"
   },
   {
    "duration": 36,
    "start_time": "2025-03-31T21:43:23.262Z"
   },
   {
    "duration": 35,
    "start_time": "2025-03-31T21:43:36.812Z"
   },
   {
    "duration": 68,
    "start_time": "2025-03-31T21:44:04.950Z"
   },
   {
    "duration": 106,
    "start_time": "2025-03-31T21:44:33.265Z"
   },
   {
    "duration": 137,
    "start_time": "2025-03-31T21:45:28.068Z"
   },
   {
    "duration": 10,
    "start_time": "2025-03-31T21:47:42.366Z"
   },
   {
    "duration": 63,
    "start_time": "2025-03-31T21:50:02.544Z"
   },
   {
    "duration": 131,
    "start_time": "2025-03-31T21:51:59.377Z"
   },
   {
    "duration": 58,
    "start_time": "2025-03-31T21:52:21.137Z"
   },
   {
    "duration": 90,
    "start_time": "2025-03-31T21:52:41.188Z"
   },
   {
    "duration": 10,
    "start_time": "2025-03-31T21:53:08.378Z"
   },
   {
    "duration": 67,
    "start_time": "2025-03-31T21:53:57.085Z"
   },
   {
    "duration": 69,
    "start_time": "2025-03-31T21:57:00.481Z"
   },
   {
    "duration": 649,
    "start_time": "2025-03-31T21:57:40.666Z"
   },
   {
    "duration": 18,
    "start_time": "2025-03-31T21:58:32.309Z"
   },
   {
    "duration": 99,
    "start_time": "2025-03-31T21:58:50.142Z"
   },
   {
    "duration": 43,
    "start_time": "2025-03-31T21:59:27.153Z"
   },
   {
    "duration": 4,
    "start_time": "2025-03-31T22:00:02.098Z"
   },
   {
    "duration": 4,
    "start_time": "2025-03-31T22:00:07.997Z"
   },
   {
    "duration": 733,
    "start_time": "2025-03-31T22:00:18.217Z"
   },
   {
    "duration": 3,
    "start_time": "2025-03-31T22:02:00.959Z"
   },
   {
    "duration": 74,
    "start_time": "2025-03-31T22:05:54.524Z"
   },
   {
    "duration": 142,
    "start_time": "2025-03-31T22:06:00.011Z"
   },
   {
    "duration": 148,
    "start_time": "2025-03-31T22:06:40.296Z"
   },
   {
    "duration": 190,
    "start_time": "2025-03-31T22:09:28.541Z"
   },
   {
    "duration": 2,
    "start_time": "2025-03-31T22:10:27.249Z"
   },
   {
    "duration": 159,
    "start_time": "2025-03-31T23:07:19.874Z"
   },
   {
    "duration": 114,
    "start_time": "2025-03-31T23:07:28.306Z"
   },
   {
    "duration": 2030,
    "start_time": "2025-03-31T23:08:05.850Z"
   },
   {
    "duration": 64,
    "start_time": "2025-03-31T23:09:12.253Z"
   },
   {
    "duration": 49,
    "start_time": "2025-03-31T23:11:26.160Z"
   },
   {
    "duration": 50,
    "start_time": "2025-03-31T23:11:43.077Z"
   },
   {
    "duration": 245,
    "start_time": "2025-03-31T23:12:32.000Z"
   },
   {
    "duration": 253,
    "start_time": "2025-03-31T23:13:38.580Z"
   },
   {
    "duration": 181,
    "start_time": "2025-03-31T23:13:49.158Z"
   },
   {
    "duration": 163,
    "start_time": "2025-03-31T23:15:07.739Z"
   },
   {
    "duration": 170,
    "start_time": "2025-03-31T23:15:22.262Z"
   },
   {
    "duration": 140,
    "start_time": "2025-03-31T23:16:20.338Z"
   },
   {
    "duration": 158,
    "start_time": "2025-03-31T23:16:55.938Z"
   },
   {
    "duration": 150,
    "start_time": "2025-03-31T23:19:02.227Z"
   },
   {
    "duration": 166,
    "start_time": "2025-03-31T23:19:10.142Z"
   },
   {
    "duration": 197,
    "start_time": "2025-03-31T23:22:00.433Z"
   },
   {
    "duration": 448,
    "start_time": "2025-03-31T23:22:21.308Z"
   },
   {
    "duration": 139,
    "start_time": "2025-03-31T23:22:44.709Z"
   },
   {
    "duration": 159,
    "start_time": "2025-03-31T23:23:14.899Z"
   },
   {
    "duration": 161,
    "start_time": "2025-03-31T23:23:26.503Z"
   },
   {
    "duration": 137,
    "start_time": "2025-03-31T23:23:41.480Z"
   },
   {
    "duration": 127,
    "start_time": "2025-03-31T23:24:13.078Z"
   },
   {
    "duration": 158,
    "start_time": "2025-03-31T23:24:25.994Z"
   },
   {
    "duration": 139,
    "start_time": "2025-03-31T23:24:45.280Z"
   },
   {
    "duration": 145,
    "start_time": "2025-03-31T23:25:39.411Z"
   },
   {
    "duration": 142,
    "start_time": "2025-03-31T23:27:45.984Z"
   },
   {
    "duration": 141,
    "start_time": "2025-03-31T23:27:51.280Z"
   },
   {
    "duration": 149,
    "start_time": "2025-03-31T23:27:56.654Z"
   },
   {
    "duration": 112,
    "start_time": "2025-03-31T23:28:47.429Z"
   },
   {
    "duration": 115,
    "start_time": "2025-03-31T23:28:52.909Z"
   },
   {
    "duration": 114,
    "start_time": "2025-03-31T23:29:18.609Z"
   },
   {
    "duration": 133,
    "start_time": "2025-03-31T23:29:58.391Z"
   },
   {
    "duration": 135,
    "start_time": "2025-03-31T23:30:08.214Z"
   },
   {
    "duration": 401,
    "start_time": "2025-03-31T23:31:24.865Z"
   },
   {
    "duration": 511,
    "start_time": "2025-03-31T23:32:15.893Z"
   },
   {
    "duration": 425,
    "start_time": "2025-03-31T23:32:23.004Z"
   },
   {
    "duration": 394,
    "start_time": "2025-03-31T23:32:34.247Z"
   },
   {
    "duration": 383,
    "start_time": "2025-03-31T23:32:43.119Z"
   },
   {
    "duration": 387,
    "start_time": "2025-03-31T23:32:52.159Z"
   },
   {
    "duration": 410,
    "start_time": "2025-03-31T23:33:06.187Z"
   },
   {
    "duration": 395,
    "start_time": "2025-03-31T23:34:08.060Z"
   },
   {
    "duration": 389,
    "start_time": "2025-03-31T23:34:48.784Z"
   },
   {
    "duration": 393,
    "start_time": "2025-03-31T23:35:01.609Z"
   },
   {
    "duration": 524,
    "start_time": "2025-03-31T23:35:10.520Z"
   },
   {
    "duration": 389,
    "start_time": "2025-03-31T23:35:33.050Z"
   },
   {
    "duration": 408,
    "start_time": "2025-03-31T23:35:47.589Z"
   },
   {
    "duration": 412,
    "start_time": "2025-03-31T23:35:58.069Z"
   },
   {
    "duration": 423,
    "start_time": "2025-03-31T23:36:13.086Z"
   },
   {
    "duration": 411,
    "start_time": "2025-03-31T23:36:24.495Z"
   },
   {
    "duration": 425,
    "start_time": "2025-03-31T23:36:54.755Z"
   },
   {
    "duration": 432,
    "start_time": "2025-03-31T23:37:07.553Z"
   },
   {
    "duration": 427,
    "start_time": "2025-03-31T23:37:48.907Z"
   },
   {
    "duration": 11,
    "start_time": "2025-03-31T23:38:31.441Z"
   },
   {
    "duration": 2109,
    "start_time": "2025-04-01T15:47:15.692Z"
   },
   {
    "duration": 464,
    "start_time": "2025-04-01T15:47:17.803Z"
   },
   {
    "duration": 103,
    "start_time": "2025-04-01T15:47:18.268Z"
   },
   {
    "duration": 1405,
    "start_time": "2025-04-01T15:47:18.373Z"
   },
   {
    "duration": 64,
    "start_time": "2025-04-01T15:47:19.780Z"
   },
   {
    "duration": 167,
    "start_time": "2025-04-01T15:47:19.845Z"
   },
   {
    "duration": 360,
    "start_time": "2025-04-01T15:47:20.016Z"
   },
   {
    "duration": 189,
    "start_time": "2025-04-01T15:47:20.378Z"
   },
   {
    "duration": 160,
    "start_time": "2025-04-01T15:47:20.569Z"
   },
   {
    "duration": 126,
    "start_time": "2025-04-01T15:47:20.732Z"
   },
   {
    "duration": 157,
    "start_time": "2025-04-01T15:47:20.860Z"
   },
   {
    "duration": 508,
    "start_time": "2025-04-01T15:47:21.020Z"
   },
   {
    "duration": 3,
    "start_time": "2025-04-01T15:47:21.530Z"
   },
   {
    "duration": 3,
    "start_time": "2025-04-01T15:47:21.535Z"
   },
   {
    "duration": 3,
    "start_time": "2025-04-01T15:47:21.539Z"
   },
   {
    "duration": 11,
    "start_time": "2025-04-01T15:47:21.544Z"
   },
   {
    "duration": 115,
    "start_time": "2025-04-01T15:48:08.234Z"
   },
   {
    "duration": 371,
    "start_time": "2025-04-01T15:52:36.562Z"
   },
   {
    "duration": 2638,
    "start_time": "2025-04-01T15:54:07.836Z"
   },
   {
    "duration": 111,
    "start_time": "2025-04-01T15:54:52.349Z"
   },
   {
    "duration": 226,
    "start_time": "2025-04-01T15:55:05.837Z"
   },
   {
    "duration": 111,
    "start_time": "2025-04-01T15:55:18.134Z"
   },
   {
    "duration": 6,
    "start_time": "2025-04-01T15:55:46.492Z"
   },
   {
    "duration": 134,
    "start_time": "2025-04-01T15:55:56.577Z"
   },
   {
    "duration": 183,
    "start_time": "2025-04-01T15:56:03.814Z"
   },
   {
    "duration": 134,
    "start_time": "2025-04-01T15:56:14.046Z"
   },
   {
    "duration": 129,
    "start_time": "2025-04-01T15:56:52.440Z"
   },
   {
    "duration": 420,
    "start_time": "2025-04-01T15:57:11.746Z"
   },
   {
    "duration": 460,
    "start_time": "2025-04-01T15:57:12.168Z"
   },
   {
    "duration": 104,
    "start_time": "2025-04-01T15:57:12.630Z"
   },
   {
    "duration": 1376,
    "start_time": "2025-04-01T15:57:12.736Z"
   },
   {
    "duration": 64,
    "start_time": "2025-04-01T15:57:14.114Z"
   },
   {
    "duration": 157,
    "start_time": "2025-04-01T15:57:14.180Z"
   },
   {
    "duration": 324,
    "start_time": "2025-04-01T15:57:14.339Z"
   },
   {
    "duration": 176,
    "start_time": "2025-04-01T15:57:14.664Z"
   },
   {
    "duration": 159,
    "start_time": "2025-04-01T15:57:14.842Z"
   },
   {
    "duration": 134,
    "start_time": "2025-04-01T15:57:15.004Z"
   },
   {
    "duration": 153,
    "start_time": "2025-04-01T15:57:15.139Z"
   },
   {
    "duration": 3,
    "start_time": "2025-04-01T15:57:15.294Z"
   },
   {
    "duration": 15,
    "start_time": "2025-04-01T15:57:15.299Z"
   },
   {
    "duration": 2,
    "start_time": "2025-04-01T15:57:15.317Z"
   },
   {
    "duration": 3,
    "start_time": "2025-04-01T15:57:15.321Z"
   },
   {
    "duration": 11,
    "start_time": "2025-04-01T15:57:15.326Z"
   },
   {
    "duration": 313,
    "start_time": "2025-04-01T16:02:58.078Z"
   },
   {
    "duration": 161,
    "start_time": "2025-04-01T16:03:14.909Z"
   },
   {
    "duration": 159,
    "start_time": "2025-04-01T16:03:54.683Z"
   },
   {
    "duration": 200,
    "start_time": "2025-04-01T16:05:11.145Z"
   },
   {
    "duration": 160,
    "start_time": "2025-04-01T16:05:45.215Z"
   },
   {
    "duration": 163,
    "start_time": "2025-04-01T16:05:50.511Z"
   },
   {
    "duration": 153,
    "start_time": "2025-04-01T16:05:55.669Z"
   },
   {
    "duration": 160,
    "start_time": "2025-04-01T16:06:03.788Z"
   },
   {
    "duration": 156,
    "start_time": "2025-04-01T16:06:10.062Z"
   },
   {
    "duration": 160,
    "start_time": "2025-04-01T16:06:21.219Z"
   },
   {
    "duration": 164,
    "start_time": "2025-04-01T16:06:24.965Z"
   },
   {
    "duration": 160,
    "start_time": "2025-04-01T16:06:28.741Z"
   },
   {
    "duration": 164,
    "start_time": "2025-04-01T16:06:34.598Z"
   },
   {
    "duration": 164,
    "start_time": "2025-04-01T16:06:59.715Z"
   },
   {
    "duration": 229,
    "start_time": "2025-04-01T16:07:20.241Z"
   },
   {
    "duration": 119,
    "start_time": "2025-04-01T16:07:31.135Z"
   },
   {
    "duration": 125,
    "start_time": "2025-04-01T16:07:39.040Z"
   },
   {
    "duration": 120,
    "start_time": "2025-04-01T16:07:43.545Z"
   },
   {
    "duration": 123,
    "start_time": "2025-04-01T16:07:49.458Z"
   },
   {
    "duration": 122,
    "start_time": "2025-04-01T16:07:56.464Z"
   },
   {
    "duration": 152,
    "start_time": "2025-04-01T16:08:23.062Z"
   },
   {
    "duration": 2,
    "start_time": "2025-04-01T16:08:45.750Z"
   },
   {
    "duration": 122,
    "start_time": "2025-04-01T16:11:32.057Z"
   },
   {
    "duration": 412,
    "start_time": "2025-04-01T16:11:47.546Z"
   },
   {
    "duration": 509,
    "start_time": "2025-04-01T16:11:54.826Z"
   },
   {
    "duration": 426,
    "start_time": "2025-04-01T16:12:04.378Z"
   },
   {
    "duration": 431,
    "start_time": "2025-04-01T16:12:27.971Z"
   },
   {
    "duration": 149,
    "start_time": "2025-04-01T16:14:23.027Z"
   },
   {
    "duration": 126,
    "start_time": "2025-04-01T16:14:32.757Z"
   },
   {
    "duration": 157,
    "start_time": "2025-04-01T16:14:39.158Z"
   },
   {
    "duration": 455,
    "start_time": "2025-04-01T16:58:39.627Z"
   },
   {
    "duration": 433,
    "start_time": "2025-04-01T16:58:40.085Z"
   },
   {
    "duration": 109,
    "start_time": "2025-04-01T16:58:40.520Z"
   },
   {
    "duration": 1383,
    "start_time": "2025-04-01T16:58:40.631Z"
   },
   {
    "duration": 61,
    "start_time": "2025-04-01T16:58:42.017Z"
   },
   {
    "duration": 159,
    "start_time": "2025-04-01T16:58:42.080Z"
   },
   {
    "duration": 338,
    "start_time": "2025-04-01T16:58:42.240Z"
   },
   {
    "duration": 180,
    "start_time": "2025-04-01T16:58:42.581Z"
   },
   {
    "duration": 192,
    "start_time": "2025-04-01T16:58:42.763Z"
   },
   {
    "duration": 140,
    "start_time": "2025-04-01T16:58:42.959Z"
   },
   {
    "duration": 167,
    "start_time": "2025-04-01T16:58:43.101Z"
   },
   {
    "duration": 514,
    "start_time": "2025-04-01T16:58:43.270Z"
   },
   {
    "duration": 11,
    "start_time": "2025-04-01T16:58:43.786Z"
   },
   {
    "duration": 0,
    "start_time": "2025-04-01T16:58:43.799Z"
   },
   {
    "duration": 0,
    "start_time": "2025-04-01T16:58:43.803Z"
   },
   {
    "duration": 0,
    "start_time": "2025-04-01T16:58:43.804Z"
   },
   {
    "duration": 346,
    "start_time": "2025-04-01T16:59:00.344Z"
   },
   {
    "duration": 3,
    "start_time": "2025-04-01T16:59:17.149Z"
   },
   {
    "duration": 199,
    "start_time": "2025-04-01T16:59:24.196Z"
   },
   {
    "duration": 150,
    "start_time": "2025-04-01T16:59:30.010Z"
   },
   {
    "duration": 166,
    "start_time": "2025-04-01T17:01:15.998Z"
   },
   {
    "duration": 421,
    "start_time": "2025-04-01T17:02:37.326Z"
   },
   {
    "duration": 442,
    "start_time": "2025-04-01T17:02:42.247Z"
   },
   {
    "duration": 433,
    "start_time": "2025-04-01T17:02:56.202Z"
   },
   {
    "duration": 132,
    "start_time": "2025-04-01T17:05:02.747Z"
   },
   {
    "duration": 41,
    "start_time": "2025-04-01T17:05:24.776Z"
   },
   {
    "duration": 45,
    "start_time": "2025-04-01T17:05:30.527Z"
   },
   {
    "duration": 37,
    "start_time": "2025-04-01T17:05:45.839Z"
   },
   {
    "duration": 37,
    "start_time": "2025-04-01T17:06:03.490Z"
   },
   {
    "duration": 36,
    "start_time": "2025-04-01T17:06:13.665Z"
   },
   {
    "duration": 66,
    "start_time": "2025-04-01T17:07:33.985Z"
   },
   {
    "duration": 54,
    "start_time": "2025-04-01T17:07:50.785Z"
   },
   {
    "duration": 54,
    "start_time": "2025-04-01T17:08:09.740Z"
   },
   {
    "duration": 55,
    "start_time": "2025-04-01T17:08:21.656Z"
   },
   {
    "duration": 4,
    "start_time": "2025-04-01T17:08:48.023Z"
   },
   {
    "duration": 47,
    "start_time": "2025-04-01T17:08:50.398Z"
   },
   {
    "duration": 125,
    "start_time": "2025-04-01T17:09:01.513Z"
   },
   {
    "duration": 404,
    "start_time": "2025-04-01T17:11:08.297Z"
   },
   {
    "duration": 2,
    "start_time": "2025-04-01T17:11:11.850Z"
   },
   {
    "duration": 9724,
    "start_time": "2025-04-01T17:18:45.554Z"
   },
   {
    "duration": 87,
    "start_time": "2025-04-01T17:19:59.491Z"
   },
   {
    "duration": 9640,
    "start_time": "2025-04-01T17:20:18.037Z"
   },
   {
    "duration": 0,
    "start_time": "2025-04-01T17:20:39.213Z"
   },
   {
    "duration": 9708,
    "start_time": "2025-04-01T17:20:59.411Z"
   },
   {
    "duration": 6,
    "start_time": "2025-04-01T17:21:53.704Z"
   },
   {
    "duration": 794,
    "start_time": "2025-04-01T17:22:21.856Z"
   },
   {
    "duration": 402,
    "start_time": "2025-04-01T17:22:22.653Z"
   },
   {
    "duration": 107,
    "start_time": "2025-04-01T17:22:23.057Z"
   },
   {
    "duration": 1447,
    "start_time": "2025-04-01T17:22:23.166Z"
   },
   {
    "duration": 67,
    "start_time": "2025-04-01T17:22:24.615Z"
   },
   {
    "duration": 158,
    "start_time": "2025-04-01T17:22:24.684Z"
   },
   {
    "duration": 333,
    "start_time": "2025-04-01T17:22:24.844Z"
   },
   {
    "duration": 179,
    "start_time": "2025-04-01T17:22:25.179Z"
   },
   {
    "duration": 183,
    "start_time": "2025-04-01T17:22:25.360Z"
   },
   {
    "duration": 138,
    "start_time": "2025-04-01T17:22:25.545Z"
   },
   {
    "duration": 214,
    "start_time": "2025-04-01T17:22:25.684Z"
   },
   {
    "duration": 457,
    "start_time": "2025-04-01T17:22:25.899Z"
   },
   {
    "duration": 6,
    "start_time": "2025-04-01T17:22:26.358Z"
   },
   {
    "duration": 4,
    "start_time": "2025-04-01T17:22:26.366Z"
   },
   {
    "duration": 0,
    "start_time": "2025-04-01T17:22:26.372Z"
   },
   {
    "duration": 0,
    "start_time": "2025-04-01T17:22:26.373Z"
   },
   {
    "duration": 0,
    "start_time": "2025-04-01T17:22:26.374Z"
   },
   {
    "duration": 4941,
    "start_time": "2025-04-01T17:22:51.100Z"
   },
   {
    "duration": 8,
    "start_time": "2025-04-01T17:23:09.643Z"
   },
   {
    "duration": 9,
    "start_time": "2025-04-01T17:23:15.344Z"
   },
   {
    "duration": 10504,
    "start_time": "2025-04-01T17:27:40.304Z"
   },
   {
    "duration": 4950,
    "start_time": "2025-04-01T17:28:22.211Z"
   },
   {
    "duration": 212,
    "start_time": "2025-04-01T17:29:05.207Z"
   },
   {
    "duration": 3,
    "start_time": "2025-04-01T17:29:10.265Z"
   },
   {
    "duration": 10,
    "start_time": "2025-04-01T17:29:15.623Z"
   },
   {
    "duration": 271,
    "start_time": "2025-04-01T17:29:46.621Z"
   },
   {
    "duration": 9944,
    "start_time": "2025-04-01T17:30:04.968Z"
   },
   {
    "duration": 3,
    "start_time": "2025-04-01T17:31:37.396Z"
   },
   {
    "duration": 2,
    "start_time": "2025-04-01T17:31:40.559Z"
   },
   {
    "duration": 11,
    "start_time": "2025-04-01T17:31:42.905Z"
   },
   {
    "duration": 6,
    "start_time": "2025-04-01T17:35:58.807Z"
   },
   {
    "duration": 14,
    "start_time": "2025-04-01T17:37:41.451Z"
   },
   {
    "duration": 5,
    "start_time": "2025-04-01T17:38:00.704Z"
   },
   {
    "duration": 3,
    "start_time": "2025-04-01T17:38:27.191Z"
   },
   {
    "duration": 5,
    "start_time": "2025-04-01T17:38:31.840Z"
   },
   {
    "duration": 5,
    "start_time": "2025-04-01T17:38:58.213Z"
   },
   {
    "duration": 5,
    "start_time": "2025-04-01T17:39:33.421Z"
   },
   {
    "duration": 5,
    "start_time": "2025-04-01T17:40:47.489Z"
   },
   {
    "duration": 5,
    "start_time": "2025-04-01T17:40:59.940Z"
   },
   {
    "duration": 6,
    "start_time": "2025-04-01T17:41:04.276Z"
   },
   {
    "duration": 9,
    "start_time": "2025-04-01T17:43:04.234Z"
   },
   {
    "duration": 27,
    "start_time": "2025-04-01T17:45:35.006Z"
   },
   {
    "duration": 13,
    "start_time": "2025-04-01T17:45:49.450Z"
   },
   {
    "duration": 11,
    "start_time": "2025-04-01T17:46:09.314Z"
   },
   {
    "duration": 11,
    "start_time": "2025-04-01T17:46:36.822Z"
   },
   {
    "duration": 22,
    "start_time": "2025-04-01T17:47:15.911Z"
   },
   {
    "duration": 40,
    "start_time": "2025-04-01T17:48:45.961Z"
   },
   {
    "duration": 51,
    "start_time": "2025-04-01T17:49:09.730Z"
   },
   {
    "duration": 15,
    "start_time": "2025-04-01T17:49:27.421Z"
   },
   {
    "duration": 821,
    "start_time": "2025-04-01T17:49:41.631Z"
   },
   {
    "duration": 403,
    "start_time": "2025-04-01T17:49:42.454Z"
   },
   {
    "duration": 113,
    "start_time": "2025-04-01T17:49:42.859Z"
   },
   {
    "duration": 1343,
    "start_time": "2025-04-01T17:49:42.974Z"
   },
   {
    "duration": 60,
    "start_time": "2025-04-01T17:49:44.319Z"
   },
   {
    "duration": 154,
    "start_time": "2025-04-01T17:49:44.381Z"
   },
   {
    "duration": 316,
    "start_time": "2025-04-01T17:49:44.537Z"
   },
   {
    "duration": 200,
    "start_time": "2025-04-01T17:49:44.855Z"
   },
   {
    "duration": 180,
    "start_time": "2025-04-01T17:49:45.057Z"
   },
   {
    "duration": 135,
    "start_time": "2025-04-01T17:49:45.239Z"
   },
   {
    "duration": 204,
    "start_time": "2025-04-01T17:49:45.377Z"
   },
   {
    "duration": 449,
    "start_time": "2025-04-01T17:49:45.583Z"
   },
   {
    "duration": 12,
    "start_time": "2025-04-01T17:49:46.034Z"
   },
   {
    "duration": 2,
    "start_time": "2025-04-01T17:49:46.048Z"
   },
   {
    "duration": 2,
    "start_time": "2025-04-01T17:49:46.052Z"
   },
   {
    "duration": 2,
    "start_time": "2025-04-01T17:49:46.057Z"
   },
   {
    "duration": 13,
    "start_time": "2025-04-01T17:49:46.061Z"
   },
   {
    "duration": 71,
    "start_time": "2025-04-01T17:49:46.076Z"
   },
   {
    "duration": 66,
    "start_time": "2025-04-01T17:50:33.864Z"
   },
   {
    "duration": 793,
    "start_time": "2025-04-01T17:50:49.612Z"
   },
   {
    "duration": 407,
    "start_time": "2025-04-01T17:50:50.411Z"
   },
   {
    "duration": 106,
    "start_time": "2025-04-01T17:50:50.820Z"
   },
   {
    "duration": 1334,
    "start_time": "2025-04-01T17:50:50.928Z"
   },
   {
    "duration": 64,
    "start_time": "2025-04-01T17:50:52.266Z"
   },
   {
    "duration": 154,
    "start_time": "2025-04-01T17:50:52.331Z"
   },
   {
    "duration": 323,
    "start_time": "2025-04-01T17:50:52.487Z"
   },
   {
    "duration": 185,
    "start_time": "2025-04-01T17:50:52.813Z"
   },
   {
    "duration": 181,
    "start_time": "2025-04-01T17:50:53.000Z"
   },
   {
    "duration": 150,
    "start_time": "2025-04-01T17:50:53.182Z"
   },
   {
    "duration": 204,
    "start_time": "2025-04-01T17:50:53.333Z"
   },
   {
    "duration": 449,
    "start_time": "2025-04-01T17:50:53.539Z"
   },
   {
    "duration": 11,
    "start_time": "2025-04-01T17:50:53.990Z"
   },
   {
    "duration": 2,
    "start_time": "2025-04-01T17:50:54.003Z"
   },
   {
    "duration": 7,
    "start_time": "2025-04-01T17:50:54.007Z"
   },
   {
    "duration": 3,
    "start_time": "2025-04-01T17:50:54.016Z"
   },
   {
    "duration": 10,
    "start_time": "2025-04-01T17:50:54.021Z"
   },
   {
    "duration": 49,
    "start_time": "2025-04-01T17:50:54.033Z"
   },
   {
    "duration": 82,
    "start_time": "2025-04-01T17:51:43.140Z"
   },
   {
    "duration": 795,
    "start_time": "2025-04-01T17:51:55.098Z"
   },
   {
    "duration": 401,
    "start_time": "2025-04-01T17:51:55.895Z"
   },
   {
    "duration": 121,
    "start_time": "2025-04-01T17:51:56.298Z"
   },
   {
    "duration": 1373,
    "start_time": "2025-04-01T17:51:56.421Z"
   },
   {
    "duration": 68,
    "start_time": "2025-04-01T17:51:57.798Z"
   },
   {
    "duration": 154,
    "start_time": "2025-04-01T17:51:57.868Z"
   },
   {
    "duration": 327,
    "start_time": "2025-04-01T17:51:58.024Z"
   },
   {
    "duration": 200,
    "start_time": "2025-04-01T17:51:58.352Z"
   },
   {
    "duration": 189,
    "start_time": "2025-04-01T17:51:58.554Z"
   },
   {
    "duration": 138,
    "start_time": "2025-04-01T17:51:58.744Z"
   },
   {
    "duration": 214,
    "start_time": "2025-04-01T17:51:58.883Z"
   },
   {
    "duration": 457,
    "start_time": "2025-04-01T17:51:59.099Z"
   },
   {
    "duration": 10,
    "start_time": "2025-04-01T17:51:59.559Z"
   },
   {
    "duration": 3,
    "start_time": "2025-04-01T17:51:59.571Z"
   },
   {
    "duration": 2,
    "start_time": "2025-04-01T17:51:59.576Z"
   },
   {
    "duration": 3,
    "start_time": "2025-04-01T17:51:59.580Z"
   },
   {
    "duration": 11,
    "start_time": "2025-04-01T17:51:59.585Z"
   },
   {
    "duration": 77,
    "start_time": "2025-04-01T17:51:59.598Z"
   },
   {
    "duration": 782,
    "start_time": "2025-04-01T17:55:44.280Z"
   },
   {
    "duration": 392,
    "start_time": "2025-04-01T17:55:45.064Z"
   },
   {
    "duration": 106,
    "start_time": "2025-04-01T17:55:45.458Z"
   },
   {
    "duration": 1336,
    "start_time": "2025-04-01T17:55:45.567Z"
   },
   {
    "duration": 66,
    "start_time": "2025-04-01T17:55:46.905Z"
   },
   {
    "duration": 151,
    "start_time": "2025-04-01T17:55:46.973Z"
   },
   {
    "duration": 336,
    "start_time": "2025-04-01T17:55:47.125Z"
   },
   {
    "duration": 180,
    "start_time": "2025-04-01T17:55:47.463Z"
   },
   {
    "duration": 71,
    "start_time": "2025-04-01T17:55:47.646Z"
   },
   {
    "duration": 186,
    "start_time": "2025-04-01T17:55:47.720Z"
   },
   {
    "duration": 136,
    "start_time": "2025-04-01T17:55:47.912Z"
   },
   {
    "duration": 217,
    "start_time": "2025-04-01T17:55:48.050Z"
   },
   {
    "duration": 464,
    "start_time": "2025-04-01T17:55:48.268Z"
   },
   {
    "duration": 11,
    "start_time": "2025-04-01T17:55:48.734Z"
   },
   {
    "duration": 2,
    "start_time": "2025-04-01T17:55:48.747Z"
   },
   {
    "duration": 4,
    "start_time": "2025-04-01T17:55:48.750Z"
   },
   {
    "duration": 3,
    "start_time": "2025-04-01T17:55:48.755Z"
   },
   {
    "duration": 11,
    "start_time": "2025-04-01T17:55:48.760Z"
   },
   {
    "duration": 3802,
    "start_time": "2025-04-01T23:21:02.311Z"
   },
   {
    "duration": 916,
    "start_time": "2025-04-01T23:21:06.116Z"
   },
   {
    "duration": 165,
    "start_time": "2025-04-01T23:21:07.034Z"
   },
   {
    "duration": 1610,
    "start_time": "2025-04-01T23:21:07.202Z"
   },
   {
    "duration": 69,
    "start_time": "2025-04-01T23:21:08.814Z"
   },
   {
    "duration": 183,
    "start_time": "2025-04-01T23:21:08.885Z"
   },
   {
    "duration": 337,
    "start_time": "2025-04-01T23:21:09.070Z"
   },
   {
    "duration": 188,
    "start_time": "2025-04-01T23:21:09.409Z"
   },
   {
    "duration": 49,
    "start_time": "2025-04-01T23:21:09.599Z"
   },
   {
    "duration": 193,
    "start_time": "2025-04-01T23:21:09.652Z"
   },
   {
    "duration": 137,
    "start_time": "2025-04-01T23:21:09.847Z"
   },
   {
    "duration": 177,
    "start_time": "2025-04-01T23:21:09.986Z"
   },
   {
    "duration": 595,
    "start_time": "2025-04-01T23:21:10.169Z"
   },
   {
    "duration": 14,
    "start_time": "2025-04-01T23:21:10.765Z"
   },
   {
    "duration": 3,
    "start_time": "2025-04-01T23:21:10.781Z"
   },
   {
    "duration": 3,
    "start_time": "2025-04-01T23:21:10.785Z"
   },
   {
    "duration": 3,
    "start_time": "2025-04-01T23:21:10.790Z"
   },
   {
    "duration": 15,
    "start_time": "2025-04-01T23:21:10.794Z"
   },
   {
    "duration": 4,
    "start_time": "2025-04-01T23:22:44.898Z"
   },
   {
    "duration": 5,
    "start_time": "2025-04-01T23:22:52.267Z"
   },
   {
    "duration": 321,
    "start_time": "2025-04-01T23:24:25.652Z"
   },
   {
    "duration": 8,
    "start_time": "2025-04-01T23:26:25.110Z"
   },
   {
    "duration": 5,
    "start_time": "2025-04-01T23:26:44.830Z"
   },
   {
    "duration": 5,
    "start_time": "2025-04-01T23:26:52.223Z"
   },
   {
    "duration": 6,
    "start_time": "2025-04-01T23:27:08.444Z"
   },
   {
    "duration": 5,
    "start_time": "2025-04-01T23:27:14.984Z"
   },
   {
    "duration": 5,
    "start_time": "2025-04-01T23:32:35.735Z"
   },
   {
    "duration": 26,
    "start_time": "2025-04-01T23:34:14.458Z"
   },
   {
    "duration": 13,
    "start_time": "2025-04-01T23:34:19.312Z"
   },
   {
    "duration": 16,
    "start_time": "2025-04-01T23:34:34.416Z"
   },
   {
    "duration": 11,
    "start_time": "2025-04-01T23:34:40.612Z"
   },
   {
    "duration": 30,
    "start_time": "2025-04-01T23:38:21.630Z"
   },
   {
    "duration": 53,
    "start_time": "2025-04-01T23:38:53.795Z"
   },
   {
    "duration": 41,
    "start_time": "2025-04-01T23:39:03.014Z"
   },
   {
    "duration": 26,
    "start_time": "2025-04-01T23:39:07.025Z"
   },
   {
    "duration": 3,
    "start_time": "2025-04-01T23:41:42.470Z"
   },
   {
    "duration": 17,
    "start_time": "2025-04-01T23:42:53.292Z"
   },
   {
    "duration": 41,
    "start_time": "2025-04-01T23:44:13.233Z"
   },
   {
    "duration": 42,
    "start_time": "2025-04-01T23:47:08.274Z"
   },
   {
    "duration": 42,
    "start_time": "2025-04-01T23:47:25.130Z"
   },
   {
    "duration": 9,
    "start_time": "2025-04-01T23:48:22.020Z"
   },
   {
    "duration": 40,
    "start_time": "2025-04-01T23:49:48.818Z"
   },
   {
    "duration": 50,
    "start_time": "2025-04-01T23:50:38.954Z"
   },
   {
    "duration": 104,
    "start_time": "2025-04-01T23:52:11.519Z"
   },
   {
    "duration": 48,
    "start_time": "2025-04-01T23:52:14.413Z"
   },
   {
    "duration": 49206,
    "start_time": "2025-04-01T23:52:56.386Z"
   },
   {
    "duration": 49256,
    "start_time": "2025-04-01T23:55:58.069Z"
   },
   {
    "duration": 48348,
    "start_time": "2025-04-01T23:58:41.417Z"
   },
   {
    "duration": 83,
    "start_time": "2025-04-02T00:00:19.602Z"
   },
   {
    "duration": 59,
    "start_time": "2025-04-02T00:00:24.673Z"
   },
   {
    "duration": 205,
    "start_time": "2025-04-02T00:00:28.155Z"
   },
   {
    "duration": 315,
    "start_time": "2025-04-02T00:00:33.074Z"
   },
   {
    "duration": 350,
    "start_time": "2025-04-02T00:01:49.541Z"
   },
   {
    "duration": 336,
    "start_time": "2025-04-02T00:01:58.567Z"
   },
   {
    "duration": 8,
    "start_time": "2025-04-02T00:02:09.233Z"
   },
   {
    "duration": 272,
    "start_time": "2025-04-02T00:02:14.564Z"
   },
   {
    "duration": 219,
    "start_time": "2025-04-02T00:03:39.981Z"
   },
   {
    "duration": 269,
    "start_time": "2025-04-02T00:05:40.309Z"
   },
   {
    "duration": 259,
    "start_time": "2025-04-02T00:11:37.241Z"
   },
   {
    "duration": 296,
    "start_time": "2025-04-02T00:13:14.490Z"
   },
   {
    "duration": 287,
    "start_time": "2025-04-02T00:13:30.720Z"
   },
   {
    "duration": 225,
    "start_time": "2025-04-02T00:13:36.466Z"
   },
   {
    "duration": 249,
    "start_time": "2025-04-02T00:14:20.486Z"
   },
   {
    "duration": 258,
    "start_time": "2025-04-02T00:14:28.317Z"
   },
   {
    "duration": 224,
    "start_time": "2025-04-02T00:16:03.215Z"
   },
   {
    "duration": 134,
    "start_time": "2025-04-02T00:17:12.970Z"
   },
   {
    "duration": 125,
    "start_time": "2025-04-02T00:17:36.253Z"
   },
   {
    "duration": 113,
    "start_time": "2025-04-02T00:18:23.947Z"
   },
   {
    "duration": 254,
    "start_time": "2025-04-02T00:18:37.031Z"
   },
   {
    "duration": 7,
    "start_time": "2025-04-02T00:18:55.146Z"
   },
   {
    "duration": 268,
    "start_time": "2025-04-02T00:19:00.313Z"
   },
   {
    "duration": 5,
    "start_time": "2025-04-02T00:20:19.198Z"
   },
   {
    "duration": 6,
    "start_time": "2025-04-02T00:20:28.351Z"
   },
   {
    "duration": 445,
    "start_time": "2025-04-02T00:24:53.290Z"
   },
   {
    "duration": 14,
    "start_time": "2025-04-02T00:30:06.833Z"
   },
   {
    "duration": 160,
    "start_time": "2025-04-02T00:32:18.210Z"
   },
   {
    "duration": 160,
    "start_time": "2025-04-02T00:32:40.629Z"
   },
   {
    "duration": 661,
    "start_time": "2025-04-02T00:33:27.059Z"
   },
   {
    "duration": 314,
    "start_time": "2025-04-02T00:33:52.556Z"
   },
   {
    "duration": 244,
    "start_time": "2025-04-02T00:35:12.106Z"
   },
   {
    "duration": 259,
    "start_time": "2025-04-02T00:35:30.134Z"
   },
   {
    "duration": 800,
    "start_time": "2025-04-02T00:36:08.854Z"
   },
   {
    "duration": 407,
    "start_time": "2025-04-02T00:36:09.656Z"
   },
   {
    "duration": 111,
    "start_time": "2025-04-02T00:36:10.065Z"
   },
   {
    "duration": 1443,
    "start_time": "2025-04-02T00:36:10.178Z"
   },
   {
    "duration": 64,
    "start_time": "2025-04-02T00:36:11.623Z"
   },
   {
    "duration": 155,
    "start_time": "2025-04-02T00:36:11.689Z"
   },
   {
    "duration": 327,
    "start_time": "2025-04-02T00:36:11.845Z"
   },
   {
    "duration": 187,
    "start_time": "2025-04-02T00:36:12.173Z"
   },
   {
    "duration": 36,
    "start_time": "2025-04-02T00:36:12.362Z"
   },
   {
    "duration": 188,
    "start_time": "2025-04-02T00:36:12.401Z"
   },
   {
    "duration": 126,
    "start_time": "2025-04-02T00:36:12.591Z"
   },
   {
    "duration": 224,
    "start_time": "2025-04-02T00:36:12.719Z"
   },
   {
    "duration": 2,
    "start_time": "2025-04-02T00:36:12.945Z"
   },
   {
    "duration": 245,
    "start_time": "2025-04-02T00:36:12.949Z"
   },
   {
    "duration": 8,
    "start_time": "2025-04-02T00:36:13.196Z"
   },
   {
    "duration": 691,
    "start_time": "2025-04-02T00:36:13.206Z"
   },
   {
    "duration": 0,
    "start_time": "2025-04-02T00:36:13.900Z"
   },
   {
    "duration": 0,
    "start_time": "2025-04-02T00:36:13.901Z"
   },
   {
    "duration": 0,
    "start_time": "2025-04-02T00:36:13.902Z"
   },
   {
    "duration": 0,
    "start_time": "2025-04-02T00:36:13.904Z"
   },
   {
    "duration": 266,
    "start_time": "2025-04-02T00:36:52.055Z"
   },
   {
    "duration": 275,
    "start_time": "2025-04-02T00:37:03.485Z"
   },
   {
    "duration": 277,
    "start_time": "2025-04-02T00:37:18.373Z"
   },
   {
    "duration": 237,
    "start_time": "2025-04-02T00:39:29.544Z"
   },
   {
    "duration": 235,
    "start_time": "2025-04-02T00:39:38.658Z"
   },
   {
    "duration": 244,
    "start_time": "2025-04-02T00:40:17.392Z"
   },
   {
    "duration": 383,
    "start_time": "2025-04-02T00:40:35.836Z"
   },
   {
    "duration": 326,
    "start_time": "2025-04-02T00:41:15.370Z"
   },
   {
    "duration": 287,
    "start_time": "2025-04-02T00:41:52.731Z"
   },
   {
    "duration": 383,
    "start_time": "2025-04-02T00:42:01.354Z"
   },
   {
    "duration": 23,
    "start_time": "2025-04-02T01:12:38.196Z"
   },
   {
    "duration": 24,
    "start_time": "2025-04-02T01:12:50.488Z"
   },
   {
    "duration": 21,
    "start_time": "2025-04-02T01:12:59.016Z"
   },
   {
    "duration": 23,
    "start_time": "2025-04-02T01:17:10.251Z"
   },
   {
    "duration": 25,
    "start_time": "2025-04-02T01:19:18.759Z"
   },
   {
    "duration": 29,
    "start_time": "2025-04-02T01:22:03.527Z"
   },
   {
    "duration": 26,
    "start_time": "2025-04-02T01:24:06.480Z"
   },
   {
    "duration": 105,
    "start_time": "2025-04-02T01:25:04.701Z"
   },
   {
    "duration": 25,
    "start_time": "2025-04-02T01:28:25.891Z"
   },
   {
    "duration": 48,
    "start_time": "2025-04-02T01:35:04.022Z"
   },
   {
    "duration": 41,
    "start_time": "2025-04-02T01:35:59.004Z"
   },
   {
    "duration": 49,
    "start_time": "2025-04-02T01:36:02.920Z"
   },
   {
    "duration": 5,
    "start_time": "2025-04-02T01:40:14.795Z"
   },
   {
    "duration": 252,
    "start_time": "2025-04-02T01:40:17.437Z"
   },
   {
    "duration": 249,
    "start_time": "2025-04-02T01:40:41.261Z"
   },
   {
    "duration": 296,
    "start_time": "2025-04-02T01:41:12.306Z"
   },
   {
    "duration": 261,
    "start_time": "2025-04-02T01:41:17.237Z"
   },
   {
    "duration": 256,
    "start_time": "2025-04-02T01:41:20.807Z"
   },
   {
    "duration": 255,
    "start_time": "2025-04-02T01:42:29.734Z"
   },
   {
    "duration": 273,
    "start_time": "2025-04-02T01:42:42.443Z"
   },
   {
    "duration": 271,
    "start_time": "2025-04-02T01:43:45.666Z"
   },
   {
    "duration": 251,
    "start_time": "2025-04-02T01:43:55.335Z"
   },
   {
    "duration": 257,
    "start_time": "2025-04-02T01:44:00.286Z"
   },
   {
    "duration": 268,
    "start_time": "2025-04-02T01:44:18.174Z"
   },
   {
    "duration": 346,
    "start_time": "2025-04-02T01:44:27.509Z"
   },
   {
    "duration": 247,
    "start_time": "2025-04-02T01:44:30.812Z"
   },
   {
    "duration": 250,
    "start_time": "2025-04-02T01:44:37.442Z"
   },
   {
    "duration": 250,
    "start_time": "2025-04-02T01:44:49.304Z"
   },
   {
    "duration": 5,
    "start_time": "2025-04-02T01:45:13.973Z"
   },
   {
    "duration": 247,
    "start_time": "2025-04-02T01:45:17.997Z"
   },
   {
    "duration": 277,
    "start_time": "2025-04-02T01:45:49.712Z"
   },
   {
    "duration": 275,
    "start_time": "2025-04-02T01:45:55.356Z"
   },
   {
    "duration": 269,
    "start_time": "2025-04-02T01:46:07.172Z"
   },
   {
    "duration": 261,
    "start_time": "2025-04-02T01:46:59.094Z"
   },
   {
    "duration": 247,
    "start_time": "2025-04-02T01:47:28.536Z"
   },
   {
    "duration": 260,
    "start_time": "2025-04-02T01:47:42.065Z"
   },
   {
    "duration": 247,
    "start_time": "2025-04-02T01:48:08.511Z"
   },
   {
    "duration": 629,
    "start_time": "2025-04-02T01:49:04.063Z"
   },
   {
    "duration": 346,
    "start_time": "2025-04-02T01:49:22.071Z"
   },
   {
    "duration": 354,
    "start_time": "2025-04-02T01:49:47.763Z"
   },
   {
    "duration": 345,
    "start_time": "2025-04-02T01:50:41.724Z"
   },
   {
    "duration": 341,
    "start_time": "2025-04-02T01:51:07.171Z"
   },
   {
    "duration": 352,
    "start_time": "2025-04-02T01:51:33.849Z"
   },
   {
    "duration": 341,
    "start_time": "2025-04-02T01:52:48.275Z"
   },
   {
    "duration": 352,
    "start_time": "2025-04-02T01:53:30.461Z"
   },
   {
    "duration": 771,
    "start_time": "2025-04-02T01:53:43.642Z"
   },
   {
    "duration": 429,
    "start_time": "2025-04-02T01:54:25.812Z"
   },
   {
    "duration": 375,
    "start_time": "2025-04-02T01:58:14.722Z"
   },
   {
    "duration": 1564,
    "start_time": "2025-04-02T01:58:19.610Z"
   },
   {
    "duration": 263,
    "start_time": "2025-04-02T01:58:32.603Z"
   },
   {
    "duration": 266,
    "start_time": "2025-04-02T01:59:10.401Z"
   },
   {
    "duration": 278,
    "start_time": "2025-04-02T01:59:30.610Z"
   },
   {
    "duration": 363,
    "start_time": "2025-04-02T01:59:43.972Z"
   },
   {
    "duration": 374,
    "start_time": "2025-04-02T02:00:20.886Z"
   },
   {
    "duration": 385,
    "start_time": "2025-04-02T02:00:26.006Z"
   },
   {
    "duration": 407,
    "start_time": "2025-04-02T02:01:29.971Z"
   },
   {
    "duration": 392,
    "start_time": "2025-04-02T02:01:36.606Z"
   },
   {
    "duration": 357,
    "start_time": "2025-04-02T02:01:44.716Z"
   },
   {
    "duration": 380,
    "start_time": "2025-04-02T02:01:51.741Z"
   },
   {
    "duration": 374,
    "start_time": "2025-04-02T02:02:42.168Z"
   },
   {
    "duration": 358,
    "start_time": "2025-04-02T02:02:56.473Z"
   },
   {
    "duration": 364,
    "start_time": "2025-04-02T02:04:08.371Z"
   },
   {
    "duration": 358,
    "start_time": "2025-04-02T02:04:14.680Z"
   },
   {
    "duration": 381,
    "start_time": "2025-04-02T02:04:53.317Z"
   },
   {
    "duration": 362,
    "start_time": "2025-04-02T02:05:11.259Z"
   },
   {
    "duration": 2552,
    "start_time": "2025-04-02T16:25:35.250Z"
   },
   {
    "duration": 442,
    "start_time": "2025-04-02T16:25:37.804Z"
   },
   {
    "duration": 105,
    "start_time": "2025-04-02T16:25:38.248Z"
   },
   {
    "duration": 1392,
    "start_time": "2025-04-02T16:25:38.356Z"
   },
   {
    "duration": 75,
    "start_time": "2025-04-02T16:25:39.751Z"
   },
   {
    "duration": 159,
    "start_time": "2025-04-02T16:25:39.829Z"
   },
   {
    "duration": 340,
    "start_time": "2025-04-02T16:25:39.989Z"
   },
   {
    "duration": 186,
    "start_time": "2025-04-02T16:25:40.330Z"
   },
   {
    "duration": 43,
    "start_time": "2025-04-02T16:25:40.518Z"
   },
   {
    "duration": 186,
    "start_time": "2025-04-02T16:25:40.563Z"
   },
   {
    "duration": 136,
    "start_time": "2025-04-02T16:25:40.750Z"
   },
   {
    "duration": 171,
    "start_time": "2025-04-02T16:25:40.888Z"
   },
   {
    "duration": 2,
    "start_time": "2025-04-02T16:25:41.062Z"
   },
   {
    "duration": 303,
    "start_time": "2025-04-02T16:25:41.067Z"
   },
   {
    "duration": 355,
    "start_time": "2025-04-02T16:25:41.372Z"
   },
   {
    "duration": 44,
    "start_time": "2025-04-02T16:25:41.729Z"
   },
   {
    "duration": 409,
    "start_time": "2025-04-02T16:25:41.775Z"
   },
   {
    "duration": 2,
    "start_time": "2025-04-02T16:25:42.186Z"
   },
   {
    "duration": 4,
    "start_time": "2025-04-02T16:25:42.190Z"
   },
   {
    "duration": 3,
    "start_time": "2025-04-02T16:25:42.196Z"
   },
   {
    "duration": 12,
    "start_time": "2025-04-02T16:25:42.200Z"
   },
   {
    "duration": 373,
    "start_time": "2025-04-02T16:25:56.859Z"
   },
   {
    "duration": 363,
    "start_time": "2025-04-02T16:26:18.511Z"
   },
   {
    "duration": 365,
    "start_time": "2025-04-02T16:27:00.445Z"
   },
   {
    "duration": 348,
    "start_time": "2025-04-02T16:28:36.638Z"
   },
   {
    "duration": 363,
    "start_time": "2025-04-02T16:28:40.983Z"
   },
   {
    "duration": 364,
    "start_time": "2025-04-02T16:28:47.930Z"
   },
   {
    "duration": 355,
    "start_time": "2025-04-02T16:28:52.381Z"
   },
   {
    "duration": 417,
    "start_time": "2025-04-02T16:29:40.940Z"
   },
   {
    "duration": 376,
    "start_time": "2025-04-02T16:31:46.722Z"
   },
   {
    "duration": 359,
    "start_time": "2025-04-02T16:32:11.974Z"
   },
   {
    "duration": 370,
    "start_time": "2025-04-02T16:35:51.969Z"
   },
   {
    "duration": 338,
    "start_time": "2025-04-02T16:36:19.367Z"
   },
   {
    "duration": 347,
    "start_time": "2025-04-02T16:36:25.689Z"
   },
   {
    "duration": 370,
    "start_time": "2025-04-02T16:37:01.155Z"
   },
   {
    "duration": 53,
    "start_time": "2025-04-02T16:38:09.211Z"
   },
   {
    "duration": 53,
    "start_time": "2025-04-02T16:39:18.757Z"
   },
   {
    "duration": 344,
    "start_time": "2025-04-02T16:39:21.310Z"
   },
   {
    "duration": 340,
    "start_time": "2025-04-02T16:41:50.710Z"
   },
   {
    "duration": 335,
    "start_time": "2025-04-02T16:41:55.629Z"
   },
   {
    "duration": 988,
    "start_time": "2025-04-02T16:42:47.003Z"
   },
   {
    "duration": 361,
    "start_time": "2025-04-02T16:44:16.986Z"
   },
   {
    "duration": 348,
    "start_time": "2025-04-02T16:46:53.810Z"
   },
   {
    "duration": 351,
    "start_time": "2025-04-02T16:47:04.034Z"
   },
   {
    "duration": 343,
    "start_time": "2025-04-02T16:48:35.551Z"
   },
   {
    "duration": 355,
    "start_time": "2025-04-02T16:48:45.109Z"
   },
   {
    "duration": 338,
    "start_time": "2025-04-02T17:14:55.706Z"
   },
   {
    "duration": 339,
    "start_time": "2025-04-02T17:15:06.798Z"
   },
   {
    "duration": 338,
    "start_time": "2025-04-02T17:15:47.960Z"
   },
   {
    "duration": 339,
    "start_time": "2025-04-02T17:17:36.334Z"
   },
   {
    "duration": 621,
    "start_time": "2025-04-02T17:17:54.014Z"
   },
   {
    "duration": 345,
    "start_time": "2025-04-02T17:17:56.515Z"
   },
   {
    "duration": 436,
    "start_time": "2025-04-02T17:18:06.502Z"
   },
   {
    "duration": 161,
    "start_time": "2025-04-02T17:37:03.443Z"
   },
   {
    "duration": 12,
    "start_time": "2025-04-02T18:33:44.946Z"
   },
   {
    "duration": 810,
    "start_time": "2025-04-02T18:34:26.696Z"
   },
   {
    "duration": 22,
    "start_time": "2025-04-02T18:34:37.158Z"
   },
   {
    "duration": 31,
    "start_time": "2025-04-02T18:35:40.582Z"
   },
   {
    "duration": 12,
    "start_time": "2025-04-02T18:51:44.015Z"
   },
   {
    "duration": 5,
    "start_time": "2025-04-02T18:54:34.109Z"
   },
   {
    "duration": 4,
    "start_time": "2025-04-02T18:54:39.201Z"
   },
   {
    "duration": 15,
    "start_time": "2025-04-02T18:54:42.723Z"
   },
   {
    "duration": 3,
    "start_time": "2025-04-02T18:55:01.516Z"
   },
   {
    "duration": 72,
    "start_time": "2025-04-02T18:55:05.974Z"
   },
   {
    "duration": 7,
    "start_time": "2025-04-02T18:55:09.964Z"
   },
   {
    "duration": 4,
    "start_time": "2025-04-02T18:55:25.029Z"
   },
   {
    "duration": 100,
    "start_time": "2025-04-02T18:55:31.506Z"
   },
   {
    "duration": 1095,
    "start_time": "2025-04-02T18:55:53.231Z"
   },
   {
    "duration": 423,
    "start_time": "2025-04-02T18:55:54.329Z"
   },
   {
    "duration": 113,
    "start_time": "2025-04-02T18:55:54.754Z"
   },
   {
    "duration": 1436,
    "start_time": "2025-04-02T18:55:54.869Z"
   },
   {
    "duration": 69,
    "start_time": "2025-04-02T18:55:56.307Z"
   },
   {
    "duration": 153,
    "start_time": "2025-04-02T18:55:56.378Z"
   },
   {
    "duration": 338,
    "start_time": "2025-04-02T18:55:56.533Z"
   },
   {
    "duration": 191,
    "start_time": "2025-04-02T18:55:56.873Z"
   },
   {
    "duration": 65,
    "start_time": "2025-04-02T18:55:57.066Z"
   },
   {
    "duration": 200,
    "start_time": "2025-04-02T18:55:57.133Z"
   },
   {
    "duration": 142,
    "start_time": "2025-04-02T18:55:57.335Z"
   },
   {
    "duration": 178,
    "start_time": "2025-04-02T18:55:57.479Z"
   },
   {
    "duration": 3,
    "start_time": "2025-04-02T18:55:57.659Z"
   },
   {
    "duration": 297,
    "start_time": "2025-04-02T18:55:57.665Z"
   },
   {
    "duration": 315,
    "start_time": "2025-04-02T18:55:57.964Z"
   },
   {
    "duration": 72,
    "start_time": "2025-04-02T18:55:58.281Z"
   },
   {
    "duration": 374,
    "start_time": "2025-04-02T18:55:58.355Z"
   },
   {
    "duration": 13,
    "start_time": "2025-04-02T18:55:58.731Z"
   },
   {
    "duration": 98,
    "start_time": "2025-04-02T18:55:58.746Z"
   },
   {
    "duration": 1020,
    "start_time": "2025-04-02T18:56:30.764Z"
   },
   {
    "duration": 406,
    "start_time": "2025-04-02T18:56:31.786Z"
   },
   {
    "duration": 106,
    "start_time": "2025-04-02T18:56:32.193Z"
   },
   {
    "duration": 1348,
    "start_time": "2025-04-02T18:56:32.302Z"
   },
   {
    "duration": 72,
    "start_time": "2025-04-02T18:56:33.652Z"
   },
   {
    "duration": 152,
    "start_time": "2025-04-02T18:56:33.725Z"
   },
   {
    "duration": 336,
    "start_time": "2025-04-02T18:56:33.879Z"
   },
   {
    "duration": 181,
    "start_time": "2025-04-02T18:56:34.217Z"
   },
   {
    "duration": 59,
    "start_time": "2025-04-02T18:56:34.400Z"
   },
   {
    "duration": 187,
    "start_time": "2025-04-02T18:56:34.463Z"
   },
   {
    "duration": 137,
    "start_time": "2025-04-02T18:56:34.652Z"
   },
   {
    "duration": 161,
    "start_time": "2025-04-02T18:56:34.791Z"
   },
   {
    "duration": 2,
    "start_time": "2025-04-02T18:56:34.954Z"
   },
   {
    "duration": 273,
    "start_time": "2025-04-02T18:56:34.958Z"
   },
   {
    "duration": 315,
    "start_time": "2025-04-02T18:56:35.233Z"
   },
   {
    "duration": 52,
    "start_time": "2025-04-02T18:56:35.550Z"
   },
   {
    "duration": 368,
    "start_time": "2025-04-02T18:56:35.604Z"
   },
   {
    "duration": 12,
    "start_time": "2025-04-02T18:56:35.974Z"
   },
   {
    "duration": 92,
    "start_time": "2025-04-02T18:56:35.988Z"
   },
   {
    "duration": 998,
    "start_time": "2025-04-02T18:57:31.180Z"
   },
   {
    "duration": 421,
    "start_time": "2025-04-02T18:57:32.181Z"
   },
   {
    "duration": 120,
    "start_time": "2025-04-02T18:57:32.604Z"
   },
   {
    "duration": 1404,
    "start_time": "2025-04-02T18:57:32.726Z"
   },
   {
    "duration": 59,
    "start_time": "2025-04-02T18:57:34.133Z"
   },
   {
    "duration": 158,
    "start_time": "2025-04-02T18:57:34.194Z"
   },
   {
    "duration": 330,
    "start_time": "2025-04-02T18:57:34.353Z"
   },
   {
    "duration": 190,
    "start_time": "2025-04-02T18:57:34.686Z"
   },
   {
    "duration": 60,
    "start_time": "2025-04-02T18:57:34.878Z"
   },
   {
    "duration": 180,
    "start_time": "2025-04-02T18:57:34.940Z"
   },
   {
    "duration": 152,
    "start_time": "2025-04-02T18:57:35.121Z"
   },
   {
    "duration": 162,
    "start_time": "2025-04-02T18:57:35.275Z"
   },
   {
    "duration": 2,
    "start_time": "2025-04-02T18:57:35.439Z"
   },
   {
    "duration": 244,
    "start_time": "2025-04-02T18:57:35.444Z"
   },
   {
    "duration": 337,
    "start_time": "2025-04-02T18:57:35.690Z"
   },
   {
    "duration": 52,
    "start_time": "2025-04-02T18:57:36.029Z"
   },
   {
    "duration": 373,
    "start_time": "2025-04-02T18:57:36.083Z"
   },
   {
    "duration": 12,
    "start_time": "2025-04-02T18:57:36.458Z"
   },
   {
    "duration": 85,
    "start_time": "2025-04-02T18:57:36.472Z"
   },
   {
    "duration": 9,
    "start_time": "2025-04-02T18:57:36.559Z"
   },
   {
    "duration": 13,
    "start_time": "2025-04-02T18:58:14.240Z"
   },
   {
    "duration": 14,
    "start_time": "2025-04-02T18:58:33.889Z"
   },
   {
    "duration": 1071,
    "start_time": "2025-04-02T19:00:21.039Z"
   },
   {
    "duration": 406,
    "start_time": "2025-04-02T19:00:22.113Z"
   },
   {
    "duration": 119,
    "start_time": "2025-04-02T19:00:22.521Z"
   },
   {
    "duration": 1382,
    "start_time": "2025-04-02T19:00:22.642Z"
   },
   {
    "duration": 60,
    "start_time": "2025-04-02T19:00:24.027Z"
   },
   {
    "duration": 156,
    "start_time": "2025-04-02T19:00:24.089Z"
   },
   {
    "duration": 323,
    "start_time": "2025-04-02T19:00:24.246Z"
   },
   {
    "duration": 185,
    "start_time": "2025-04-02T19:00:24.571Z"
   },
   {
    "duration": 44,
    "start_time": "2025-04-02T19:00:24.757Z"
   },
   {
    "duration": 190,
    "start_time": "2025-04-02T19:00:24.803Z"
   },
   {
    "duration": 137,
    "start_time": "2025-04-02T19:00:24.995Z"
   },
   {
    "duration": 173,
    "start_time": "2025-04-02T19:00:25.134Z"
   },
   {
    "duration": 3,
    "start_time": "2025-04-02T19:00:25.308Z"
   },
   {
    "duration": 257,
    "start_time": "2025-04-02T19:00:25.325Z"
   },
   {
    "duration": 310,
    "start_time": "2025-04-02T19:00:25.583Z"
   },
   {
    "duration": 61,
    "start_time": "2025-04-02T19:00:25.896Z"
   },
   {
    "duration": 357,
    "start_time": "2025-04-02T19:00:25.959Z"
   },
   {
    "duration": 16,
    "start_time": "2025-04-02T19:00:26.317Z"
   },
   {
    "duration": 154,
    "start_time": "2025-04-02T19:00:26.335Z"
   },
   {
    "duration": 7,
    "start_time": "2025-04-02T19:00:44.281Z"
   },
   {
    "duration": 3,
    "start_time": "2025-04-02T19:02:12.165Z"
   },
   {
    "duration": 998,
    "start_time": "2025-04-02T19:02:52.777Z"
   },
   {
    "duration": 409,
    "start_time": "2025-04-02T19:02:53.778Z"
   },
   {
    "duration": 103,
    "start_time": "2025-04-02T19:02:54.189Z"
   },
   {
    "duration": 1376,
    "start_time": "2025-04-02T19:02:54.294Z"
   },
   {
    "duration": 69,
    "start_time": "2025-04-02T19:02:55.673Z"
   },
   {
    "duration": 154,
    "start_time": "2025-04-02T19:02:55.743Z"
   },
   {
    "duration": 329,
    "start_time": "2025-04-02T19:02:55.898Z"
   },
   {
    "duration": 188,
    "start_time": "2025-04-02T19:02:56.229Z"
   },
   {
    "duration": 53,
    "start_time": "2025-04-02T19:02:56.419Z"
   },
   {
    "duration": 200,
    "start_time": "2025-04-02T19:02:56.474Z"
   },
   {
    "duration": 135,
    "start_time": "2025-04-02T19:02:56.676Z"
   },
   {
    "duration": 177,
    "start_time": "2025-04-02T19:02:56.813Z"
   },
   {
    "duration": 3,
    "start_time": "2025-04-02T19:02:56.991Z"
   },
   {
    "duration": 278,
    "start_time": "2025-04-02T19:02:56.998Z"
   },
   {
    "duration": 302,
    "start_time": "2025-04-02T19:02:57.278Z"
   },
   {
    "duration": 71,
    "start_time": "2025-04-02T19:02:57.582Z"
   },
   {
    "duration": 370,
    "start_time": "2025-04-02T19:02:57.655Z"
   },
   {
    "duration": 12,
    "start_time": "2025-04-02T19:02:58.027Z"
   },
   {
    "duration": 312,
    "start_time": "2025-04-02T19:02:58.041Z"
   },
   {
    "duration": 142,
    "start_time": "2025-04-02T19:04:08.312Z"
   },
   {
    "duration": 11,
    "start_time": "2025-04-02T19:04:51.660Z"
   },
   {
    "duration": 10,
    "start_time": "2025-04-02T19:04:58.482Z"
   },
   {
    "duration": 260,
    "start_time": "2025-04-02T19:08:05.304Z"
   },
   {
    "duration": 28,
    "start_time": "2025-04-02T19:09:05.541Z"
   },
   {
    "duration": 13,
    "start_time": "2025-04-02T19:09:21.186Z"
   },
   {
    "duration": 1040,
    "start_time": "2025-04-02T19:10:36.364Z"
   },
   {
    "duration": 417,
    "start_time": "2025-04-02T19:10:37.407Z"
   },
   {
    "duration": 107,
    "start_time": "2025-04-02T19:10:37.826Z"
   },
   {
    "duration": 1347,
    "start_time": "2025-04-02T19:10:37.936Z"
   },
   {
    "duration": 71,
    "start_time": "2025-04-02T19:10:39.284Z"
   },
   {
    "duration": 150,
    "start_time": "2025-04-02T19:10:39.357Z"
   },
   {
    "duration": 359,
    "start_time": "2025-04-02T19:10:39.509Z"
   },
   {
    "duration": 188,
    "start_time": "2025-04-02T19:10:39.869Z"
   },
   {
    "duration": 51,
    "start_time": "2025-04-02T19:10:40.059Z"
   },
   {
    "duration": 184,
    "start_time": "2025-04-02T19:10:40.127Z"
   },
   {
    "duration": 137,
    "start_time": "2025-04-02T19:10:40.313Z"
   },
   {
    "duration": 165,
    "start_time": "2025-04-02T19:10:40.452Z"
   },
   {
    "duration": 7,
    "start_time": "2025-04-02T19:10:40.618Z"
   },
   {
    "duration": 258,
    "start_time": "2025-04-02T19:10:40.627Z"
   },
   {
    "duration": 308,
    "start_time": "2025-04-02T19:10:40.887Z"
   },
   {
    "duration": 58,
    "start_time": "2025-04-02T19:10:41.197Z"
   },
   {
    "duration": 363,
    "start_time": "2025-04-02T19:10:41.257Z"
   },
   {
    "duration": 920,
    "start_time": "2025-04-02T19:10:41.623Z"
   },
   {
    "duration": 0,
    "start_time": "2025-04-02T19:10:42.546Z"
   },
   {
    "duration": 0,
    "start_time": "2025-04-02T19:10:42.548Z"
   },
   {
    "duration": 0,
    "start_time": "2025-04-02T19:10:42.549Z"
   },
   {
    "duration": 0,
    "start_time": "2025-04-02T19:10:42.551Z"
   },
   {
    "duration": 39,
    "start_time": "2025-04-02T19:11:07.323Z"
   },
   {
    "duration": 15,
    "start_time": "2025-04-02T19:11:17.413Z"
   },
   {
    "duration": 12,
    "start_time": "2025-04-02T19:11:23.637Z"
   },
   {
    "duration": 13,
    "start_time": "2025-04-02T19:12:01.421Z"
   },
   {
    "duration": 33,
    "start_time": "2025-04-02T19:13:38.399Z"
   },
   {
    "duration": 11,
    "start_time": "2025-04-02T19:14:43.085Z"
   },
   {
    "duration": 157,
    "start_time": "2025-04-02T19:14:54.109Z"
   },
   {
    "duration": 200,
    "start_time": "2025-04-02T19:14:56.021Z"
   },
   {
    "duration": 1086,
    "start_time": "2025-04-02T19:15:26.060Z"
   },
   {
    "duration": 430,
    "start_time": "2025-04-02T19:15:27.148Z"
   },
   {
    "duration": 114,
    "start_time": "2025-04-02T19:15:27.581Z"
   },
   {
    "duration": 1495,
    "start_time": "2025-04-02T19:15:27.696Z"
   },
   {
    "duration": 69,
    "start_time": "2025-04-02T19:15:29.194Z"
   },
   {
    "duration": 185,
    "start_time": "2025-04-02T19:15:29.266Z"
   },
   {
    "duration": 581,
    "start_time": "2025-04-02T19:15:29.454Z"
   },
   {
    "duration": 188,
    "start_time": "2025-04-02T19:15:30.039Z"
   },
   {
    "duration": 57,
    "start_time": "2025-04-02T19:15:30.230Z"
   },
   {
    "duration": 247,
    "start_time": "2025-04-02T19:15:30.290Z"
   },
   {
    "duration": 178,
    "start_time": "2025-04-02T19:15:30.540Z"
   },
   {
    "duration": 183,
    "start_time": "2025-04-02T19:15:30.724Z"
   },
   {
    "duration": 3,
    "start_time": "2025-04-02T19:15:30.910Z"
   },
   {
    "duration": 335,
    "start_time": "2025-04-02T19:15:30.925Z"
   },
   {
    "duration": 315,
    "start_time": "2025-04-02T19:15:31.262Z"
   },
   {
    "duration": 63,
    "start_time": "2025-04-02T19:15:31.579Z"
   },
   {
    "duration": 381,
    "start_time": "2025-04-02T19:15:31.644Z"
   },
   {
    "duration": 3,
    "start_time": "2025-04-02T19:15:32.029Z"
   },
   {
    "duration": 3,
    "start_time": "2025-04-02T19:15:32.033Z"
   },
   {
    "duration": 12,
    "start_time": "2025-04-02T19:15:32.038Z"
   },
   {
    "duration": 172,
    "start_time": "2025-04-02T19:15:32.054Z"
   },
   {
    "duration": 176,
    "start_time": "2025-04-02T19:15:32.227Z"
   },
   {
    "duration": 3,
    "start_time": "2025-04-02T19:23:37.982Z"
   },
   {
    "duration": 3219,
    "start_time": "2025-04-02T23:13:01.506Z"
   },
   {
    "duration": 525,
    "start_time": "2025-04-02T23:13:04.728Z"
   },
   {
    "duration": 114,
    "start_time": "2025-04-02T23:13:05.255Z"
   },
   {
    "duration": 1387,
    "start_time": "2025-04-02T23:13:05.371Z"
   },
   {
    "duration": 68,
    "start_time": "2025-04-02T23:13:06.760Z"
   },
   {
    "duration": 156,
    "start_time": "2025-04-02T23:13:06.830Z"
   },
   {
    "duration": 336,
    "start_time": "2025-04-02T23:13:06.988Z"
   },
   {
    "duration": 181,
    "start_time": "2025-04-02T23:13:07.326Z"
   },
   {
    "duration": 37,
    "start_time": "2025-04-02T23:13:07.508Z"
   },
   {
    "duration": 246,
    "start_time": "2025-04-02T23:13:07.548Z"
   },
   {
    "duration": 146,
    "start_time": "2025-04-02T23:13:07.796Z"
   },
   {
    "duration": 166,
    "start_time": "2025-04-02T23:13:07.944Z"
   },
   {
    "duration": 3,
    "start_time": "2025-04-02T23:13:08.112Z"
   },
   {
    "duration": 274,
    "start_time": "2025-04-02T23:13:08.116Z"
   },
   {
    "duration": 306,
    "start_time": "2025-04-02T23:13:08.392Z"
   },
   {
    "duration": 52,
    "start_time": "2025-04-02T23:13:08.700Z"
   },
   {
    "duration": 374,
    "start_time": "2025-04-02T23:13:08.754Z"
   },
   {
    "duration": 11,
    "start_time": "2025-04-02T23:13:09.130Z"
   },
   {
    "duration": 155,
    "start_time": "2025-04-02T23:13:09.143Z"
   },
   {
    "duration": 159,
    "start_time": "2025-04-02T23:13:09.300Z"
   },
   {
    "duration": 3,
    "start_time": "2025-04-02T23:14:20.394Z"
   },
   {
    "duration": 3,
    "start_time": "2025-04-02T23:21:32.150Z"
   },
   {
    "duration": 229,
    "start_time": "2025-04-02T23:22:47.130Z"
   },
   {
    "duration": 3,
    "start_time": "2025-04-02T23:41:52.042Z"
   },
   {
    "duration": 11,
    "start_time": "2025-04-02T23:48:56.002Z"
   },
   {
    "duration": 7603,
    "start_time": "2025-04-02T23:57:32.718Z"
   },
   {
    "duration": 7072,
    "start_time": "2025-04-02T23:59:14.404Z"
   },
   {
    "duration": 7188,
    "start_time": "2025-04-02T23:59:39.153Z"
   },
   {
    "duration": 16,
    "start_time": "2025-04-03T00:02:09.871Z"
   },
   {
    "duration": 191,
    "start_time": "2025-04-03T00:02:28.815Z"
   },
   {
    "duration": 210,
    "start_time": "2025-04-03T00:02:53.041Z"
   },
   {
    "duration": 190,
    "start_time": "2025-04-03T00:03:01.239Z"
   },
   {
    "duration": 510,
    "start_time": "2025-04-03T00:04:50.709Z"
   },
   {
    "duration": 545,
    "start_time": "2025-04-03T00:05:23.568Z"
   },
   {
    "duration": 262,
    "start_time": "2025-04-03T00:07:23.786Z"
   },
   {
    "duration": 120,
    "start_time": "2025-04-03T00:10:45.038Z"
   },
   {
    "duration": 450,
    "start_time": "2025-04-03T00:11:09.082Z"
   },
   {
    "duration": 782,
    "start_time": "2025-04-03T00:13:45.364Z"
   },
   {
    "duration": 186,
    "start_time": "2025-04-03T00:16:08.775Z"
   },
   {
    "duration": 3,
    "start_time": "2025-04-03T00:16:29.675Z"
   },
   {
    "duration": 985,
    "start_time": "2025-04-03T00:18:04.393Z"
   },
   {
    "duration": 392,
    "start_time": "2025-04-03T00:18:05.381Z"
   },
   {
    "duration": 117,
    "start_time": "2025-04-03T00:18:05.776Z"
   },
   {
    "duration": 1425,
    "start_time": "2025-04-03T00:18:05.895Z"
   },
   {
    "duration": 69,
    "start_time": "2025-04-03T00:18:07.323Z"
   },
   {
    "duration": 150,
    "start_time": "2025-04-03T00:18:07.394Z"
   },
   {
    "duration": 328,
    "start_time": "2025-04-03T00:18:07.546Z"
   },
   {
    "duration": 181,
    "start_time": "2025-04-03T00:18:07.876Z"
   },
   {
    "duration": 45,
    "start_time": "2025-04-03T00:18:08.059Z"
   },
   {
    "duration": 197,
    "start_time": "2025-04-03T00:18:08.106Z"
   },
   {
    "duration": 139,
    "start_time": "2025-04-03T00:18:08.305Z"
   },
   {
    "duration": 158,
    "start_time": "2025-04-03T00:18:08.446Z"
   },
   {
    "duration": 3,
    "start_time": "2025-04-03T00:18:08.605Z"
   },
   {
    "duration": 241,
    "start_time": "2025-04-03T00:18:08.612Z"
   },
   {
    "duration": 305,
    "start_time": "2025-04-03T00:18:08.854Z"
   },
   {
    "duration": 61,
    "start_time": "2025-04-03T00:18:09.161Z"
   },
   {
    "duration": 365,
    "start_time": "2025-04-03T00:18:09.224Z"
   },
   {
    "duration": 10,
    "start_time": "2025-04-03T00:18:09.591Z"
   },
   {
    "duration": 150,
    "start_time": "2025-04-03T00:18:09.603Z"
   },
   {
    "duration": 334,
    "start_time": "2025-04-03T00:18:09.754Z"
   },
   {
    "duration": 3,
    "start_time": "2025-04-03T00:18:10.089Z"
   },
   {
    "duration": 270,
    "start_time": "2025-04-03T00:18:10.094Z"
   },
   {
    "duration": 4819,
    "start_time": "2025-04-03T00:18:10.366Z"
   },
   {
    "duration": 0,
    "start_time": "2025-04-03T00:18:15.187Z"
   },
   {
    "duration": 4858,
    "start_time": "2025-04-03T00:19:16.996Z"
   },
   {
    "duration": 4787,
    "start_time": "2025-04-03T00:21:08.978Z"
   },
   {
    "duration": 10,
    "start_time": "2025-04-03T00:23:10.430Z"
   },
   {
    "duration": 1073,
    "start_time": "2025-04-03T00:27:12.097Z"
   },
   {
    "duration": 409,
    "start_time": "2025-04-03T00:27:13.173Z"
   },
   {
    "duration": 114,
    "start_time": "2025-04-03T00:27:13.587Z"
   },
   {
    "duration": 1408,
    "start_time": "2025-04-03T00:27:13.703Z"
   },
   {
    "duration": 73,
    "start_time": "2025-04-03T00:27:15.114Z"
   },
   {
    "duration": 146,
    "start_time": "2025-04-03T00:27:15.188Z"
   },
   {
    "duration": 327,
    "start_time": "2025-04-03T00:27:15.336Z"
   },
   {
    "duration": 182,
    "start_time": "2025-04-03T00:27:15.664Z"
   },
   {
    "duration": 56,
    "start_time": "2025-04-03T00:27:15.848Z"
   },
   {
    "duration": 194,
    "start_time": "2025-04-03T00:27:15.905Z"
   },
   {
    "duration": 137,
    "start_time": "2025-04-03T00:27:16.101Z"
   },
   {
    "duration": 165,
    "start_time": "2025-04-03T00:27:16.241Z"
   },
   {
    "duration": 2,
    "start_time": "2025-04-03T00:27:16.408Z"
   },
   {
    "duration": 244,
    "start_time": "2025-04-03T00:27:16.413Z"
   },
   {
    "duration": 314,
    "start_time": "2025-04-03T00:27:16.659Z"
   },
   {
    "duration": 69,
    "start_time": "2025-04-03T00:27:16.975Z"
   },
   {
    "duration": 367,
    "start_time": "2025-04-03T00:27:17.048Z"
   },
   {
    "duration": 12,
    "start_time": "2025-04-03T00:27:17.417Z"
   },
   {
    "duration": 98,
    "start_time": "2025-04-03T00:27:17.431Z"
   },
   {
    "duration": 8,
    "start_time": "2025-04-03T00:27:17.530Z"
   },
   {
    "duration": 468,
    "start_time": "2025-04-03T00:27:17.540Z"
   },
   {
    "duration": 2,
    "start_time": "2025-04-03T00:27:18.010Z"
   },
   {
    "duration": 379,
    "start_time": "2025-04-03T00:27:18.014Z"
   },
   {
    "duration": 6845,
    "start_time": "2025-04-03T00:27:18.395Z"
   },
   {
    "duration": 0,
    "start_time": "2025-04-03T00:27:25.241Z"
   },
   {
    "duration": 1083,
    "start_time": "2025-04-03T00:28:37.797Z"
   },
   {
    "duration": 410,
    "start_time": "2025-04-03T00:28:38.882Z"
   },
   {
    "duration": 113,
    "start_time": "2025-04-03T00:28:39.294Z"
   },
   {
    "duration": 1425,
    "start_time": "2025-04-03T00:28:39.409Z"
   },
   {
    "duration": 74,
    "start_time": "2025-04-03T00:28:40.836Z"
   },
   {
    "duration": 168,
    "start_time": "2025-04-03T00:28:40.912Z"
   },
   {
    "duration": 336,
    "start_time": "2025-04-03T00:28:41.088Z"
   },
   {
    "duration": 193,
    "start_time": "2025-04-03T00:28:41.426Z"
   },
   {
    "duration": 43,
    "start_time": "2025-04-03T00:28:41.621Z"
   },
   {
    "duration": 191,
    "start_time": "2025-04-03T00:28:41.668Z"
   },
   {
    "duration": 137,
    "start_time": "2025-04-03T00:28:41.861Z"
   },
   {
    "duration": 198,
    "start_time": "2025-04-03T00:28:42.000Z"
   },
   {
    "duration": 3,
    "start_time": "2025-04-03T00:28:42.200Z"
   },
   {
    "duration": 256,
    "start_time": "2025-04-03T00:28:42.205Z"
   },
   {
    "duration": 313,
    "start_time": "2025-04-03T00:28:42.464Z"
   },
   {
    "duration": 56,
    "start_time": "2025-04-03T00:28:42.780Z"
   },
   {
    "duration": 390,
    "start_time": "2025-04-03T00:28:42.838Z"
   },
   {
    "duration": 14,
    "start_time": "2025-04-03T00:28:43.231Z"
   },
   {
    "duration": 150,
    "start_time": "2025-04-03T00:28:43.247Z"
   },
   {
    "duration": 11,
    "start_time": "2025-04-03T00:28:43.399Z"
   },
   {
    "duration": 343,
    "start_time": "2025-04-03T00:28:43.412Z"
   },
   {
    "duration": 4,
    "start_time": "2025-04-03T00:28:43.757Z"
   },
   {
    "duration": 282,
    "start_time": "2025-04-03T00:28:43.762Z"
   },
   {
    "duration": 5066,
    "start_time": "2025-04-03T00:28:44.046Z"
   },
   {
    "duration": 0,
    "start_time": "2025-04-03T00:28:49.113Z"
   },
   {
    "duration": 5,
    "start_time": "2025-04-03T00:29:26.921Z"
   },
   {
    "duration": 11,
    "start_time": "2025-04-03T00:29:32.802Z"
   },
   {
    "duration": 4679,
    "start_time": "2025-04-03T00:31:01.864Z"
   },
   {
    "duration": 118,
    "start_time": "2025-04-03T00:31:29.432Z"
   },
   {
    "duration": 1012,
    "start_time": "2025-04-03T00:31:49.146Z"
   },
   {
    "duration": 409,
    "start_time": "2025-04-03T00:31:50.160Z"
   },
   {
    "duration": 114,
    "start_time": "2025-04-03T00:31:50.571Z"
   },
   {
    "duration": 1405,
    "start_time": "2025-04-03T00:31:50.688Z"
   },
   {
    "duration": 68,
    "start_time": "2025-04-03T00:31:52.094Z"
   },
   {
    "duration": 162,
    "start_time": "2025-04-03T00:31:52.164Z"
   },
   {
    "duration": 353,
    "start_time": "2025-04-03T00:31:52.328Z"
   },
   {
    "duration": 205,
    "start_time": "2025-04-03T00:31:52.682Z"
   },
   {
    "duration": 51,
    "start_time": "2025-04-03T00:31:52.889Z"
   },
   {
    "duration": 202,
    "start_time": "2025-04-03T00:31:52.943Z"
   },
   {
    "duration": 145,
    "start_time": "2025-04-03T00:31:53.148Z"
   },
   {
    "duration": 164,
    "start_time": "2025-04-03T00:31:53.295Z"
   },
   {
    "duration": 2,
    "start_time": "2025-04-03T00:31:53.461Z"
   },
   {
    "duration": 280,
    "start_time": "2025-04-03T00:31:53.465Z"
   },
   {
    "duration": 312,
    "start_time": "2025-04-03T00:31:53.747Z"
   },
   {
    "duration": 58,
    "start_time": "2025-04-03T00:31:54.061Z"
   },
   {
    "duration": 367,
    "start_time": "2025-04-03T00:31:54.121Z"
   },
   {
    "duration": 10,
    "start_time": "2025-04-03T00:31:54.490Z"
   },
   {
    "duration": 147,
    "start_time": "2025-04-03T00:31:54.502Z"
   },
   {
    "duration": 307,
    "start_time": "2025-04-03T00:31:54.651Z"
   },
   {
    "duration": 3,
    "start_time": "2025-04-03T00:31:54.960Z"
   },
   {
    "duration": 202,
    "start_time": "2025-04-03T00:31:54.965Z"
   },
   {
    "duration": 4787,
    "start_time": "2025-04-03T00:31:55.168Z"
   },
   {
    "duration": 0,
    "start_time": "2025-04-03T00:31:59.957Z"
   },
   {
    "duration": 4604,
    "start_time": "2025-04-03T00:33:39.613Z"
   },
   {
    "duration": 133,
    "start_time": "2025-04-03T00:36:00.263Z"
   },
   {
    "duration": 3,
    "start_time": "2025-04-03T00:41:16.999Z"
   },
   {
    "duration": 375,
    "start_time": "2025-04-03T00:41:17.561Z"
   },
   {
    "duration": 105,
    "start_time": "2025-04-03T00:41:17.938Z"
   },
   {
    "duration": 1386,
    "start_time": "2025-04-03T00:41:18.061Z"
   },
   {
    "duration": 71,
    "start_time": "2025-04-03T00:41:19.448Z"
   },
   {
    "duration": 151,
    "start_time": "2025-04-03T00:41:19.521Z"
   },
   {
    "duration": 313,
    "start_time": "2025-04-03T00:41:19.675Z"
   },
   {
    "duration": 174,
    "start_time": "2025-04-03T00:41:19.990Z"
   },
   {
    "duration": 61,
    "start_time": "2025-04-03T00:41:20.165Z"
   },
   {
    "duration": 181,
    "start_time": "2025-04-03T00:41:20.228Z"
   },
   {
    "duration": 150,
    "start_time": "2025-04-03T00:41:20.411Z"
   },
   {
    "duration": 167,
    "start_time": "2025-04-03T00:41:20.563Z"
   },
   {
    "duration": 4,
    "start_time": "2025-04-03T00:41:20.732Z"
   },
   {
    "duration": 243,
    "start_time": "2025-04-03T00:41:20.903Z"
   },
   {
    "duration": 298,
    "start_time": "2025-04-03T00:41:21.225Z"
   },
   {
    "duration": 63,
    "start_time": "2025-04-03T00:41:21.525Z"
   },
   {
    "duration": 433,
    "start_time": "2025-04-03T00:41:21.593Z"
   },
   {
    "duration": 12,
    "start_time": "2025-04-03T00:41:26.776Z"
   },
   {
    "duration": 14,
    "start_time": "2025-04-03T00:41:43.765Z"
   },
   {
    "duration": 3,
    "start_time": "2025-04-03T00:41:51.991Z"
   },
   {
    "duration": 3,
    "start_time": "2025-04-03T00:42:48.485Z"
   },
   {
    "duration": 15,
    "start_time": "2025-04-03T00:44:30.365Z"
   },
   {
    "duration": 2,
    "start_time": "2025-04-03T00:44:33.128Z"
   },
   {
    "duration": 13,
    "start_time": "2025-04-03T00:44:33.809Z"
   },
   {
    "duration": 308,
    "start_time": "2025-04-03T00:44:44.959Z"
   },
   {
    "duration": 312,
    "start_time": "2025-04-03T00:45:05.046Z"
   },
   {
    "duration": 645,
    "start_time": "2025-04-03T00:45:41.264Z"
   },
   {
    "duration": 9,
    "start_time": "2025-04-03T00:45:59.628Z"
   },
   {
    "duration": 117,
    "start_time": "2025-04-03T00:46:26.557Z"
   },
   {
    "duration": 2,
    "start_time": "2025-04-03T01:02:54.496Z"
   },
   {
    "duration": 37,
    "start_time": "2025-04-03T01:05:51.746Z"
   },
   {
    "duration": 39,
    "start_time": "2025-04-03T01:06:13.144Z"
   },
   {
    "duration": 1056,
    "start_time": "2025-04-03T01:06:40.517Z"
   },
   {
    "duration": 391,
    "start_time": "2025-04-03T01:06:41.575Z"
   },
   {
    "duration": 119,
    "start_time": "2025-04-03T01:06:41.968Z"
   },
   {
    "duration": 1439,
    "start_time": "2025-04-03T01:06:42.091Z"
   },
   {
    "duration": 70,
    "start_time": "2025-04-03T01:06:43.533Z"
   },
   {
    "duration": 150,
    "start_time": "2025-04-03T01:06:43.605Z"
   },
   {
    "duration": 323,
    "start_time": "2025-04-03T01:06:43.756Z"
   },
   {
    "duration": 183,
    "start_time": "2025-04-03T01:06:44.081Z"
   },
   {
    "duration": 59,
    "start_time": "2025-04-03T01:06:44.266Z"
   },
   {
    "duration": 198,
    "start_time": "2025-04-03T01:06:44.327Z"
   },
   {
    "duration": 137,
    "start_time": "2025-04-03T01:06:44.526Z"
   },
   {
    "duration": 160,
    "start_time": "2025-04-03T01:06:44.666Z"
   },
   {
    "duration": 2,
    "start_time": "2025-04-03T01:06:44.829Z"
   },
   {
    "duration": 299,
    "start_time": "2025-04-03T01:06:44.835Z"
   },
   {
    "duration": 314,
    "start_time": "2025-04-03T01:06:45.136Z"
   },
   {
    "duration": 63,
    "start_time": "2025-04-03T01:06:45.452Z"
   },
   {
    "duration": 370,
    "start_time": "2025-04-03T01:06:45.517Z"
   },
   {
    "duration": 11,
    "start_time": "2025-04-03T01:06:45.889Z"
   },
   {
    "duration": 144,
    "start_time": "2025-04-03T01:06:45.902Z"
   },
   {
    "duration": 340,
    "start_time": "2025-04-03T01:06:46.048Z"
   },
   {
    "duration": 2,
    "start_time": "2025-04-03T01:06:46.390Z"
   },
   {
    "duration": 3,
    "start_time": "2025-04-03T01:06:46.394Z"
   },
   {
    "duration": 158,
    "start_time": "2025-04-03T01:06:46.399Z"
   },
   {
    "duration": 479,
    "start_time": "2025-04-03T01:06:46.559Z"
   },
   {
    "duration": 0,
    "start_time": "2025-04-03T01:06:47.039Z"
   },
   {
    "duration": 1068,
    "start_time": "2025-04-03T01:08:00.402Z"
   },
   {
    "duration": 400,
    "start_time": "2025-04-03T01:08:01.473Z"
   },
   {
    "duration": 123,
    "start_time": "2025-04-03T01:08:01.875Z"
   },
   {
    "duration": 1371,
    "start_time": "2025-04-03T01:08:02.002Z"
   },
   {
    "duration": 69,
    "start_time": "2025-04-03T01:08:03.374Z"
   },
   {
    "duration": 154,
    "start_time": "2025-04-03T01:08:03.446Z"
   },
   {
    "duration": 321,
    "start_time": "2025-04-03T01:08:03.601Z"
   },
   {
    "duration": 190,
    "start_time": "2025-04-03T01:08:03.924Z"
   },
   {
    "duration": 50,
    "start_time": "2025-04-03T01:08:04.116Z"
   },
   {
    "duration": 204,
    "start_time": "2025-04-03T01:08:04.170Z"
   },
   {
    "duration": 137,
    "start_time": "2025-04-03T01:08:04.376Z"
   },
   {
    "duration": 171,
    "start_time": "2025-04-03T01:08:04.515Z"
   },
   {
    "duration": 2,
    "start_time": "2025-04-03T01:08:04.688Z"
   },
   {
    "duration": 257,
    "start_time": "2025-04-03T01:08:04.692Z"
   },
   {
    "duration": 319,
    "start_time": "2025-04-03T01:08:04.951Z"
   },
   {
    "duration": 67,
    "start_time": "2025-04-03T01:08:05.272Z"
   },
   {
    "duration": 370,
    "start_time": "2025-04-03T01:08:05.341Z"
   },
   {
    "duration": 11,
    "start_time": "2025-04-03T01:08:05.713Z"
   },
   {
    "duration": 154,
    "start_time": "2025-04-03T01:08:05.725Z"
   },
   {
    "duration": 557,
    "start_time": "2025-04-03T01:08:05.880Z"
   },
   {
    "duration": 0,
    "start_time": "2025-04-03T01:08:06.439Z"
   },
   {
    "duration": 0,
    "start_time": "2025-04-03T01:08:06.440Z"
   },
   {
    "duration": 0,
    "start_time": "2025-04-03T01:08:06.442Z"
   },
   {
    "duration": 0,
    "start_time": "2025-04-03T01:08:06.444Z"
   },
   {
    "duration": 0,
    "start_time": "2025-04-03T01:08:06.445Z"
   },
   {
    "duration": 996,
    "start_time": "2025-04-03T01:08:46.028Z"
   },
   {
    "duration": 406,
    "start_time": "2025-04-03T01:08:47.027Z"
   },
   {
    "duration": 112,
    "start_time": "2025-04-03T01:08:47.435Z"
   },
   {
    "duration": 1429,
    "start_time": "2025-04-03T01:08:47.551Z"
   },
   {
    "duration": 61,
    "start_time": "2025-04-03T01:08:48.987Z"
   },
   {
    "duration": 155,
    "start_time": "2025-04-03T01:08:49.050Z"
   },
   {
    "duration": 323,
    "start_time": "2025-04-03T01:08:49.208Z"
   },
   {
    "duration": 181,
    "start_time": "2025-04-03T01:08:49.532Z"
   },
   {
    "duration": 44,
    "start_time": "2025-04-03T01:08:49.716Z"
   },
   {
    "duration": 194,
    "start_time": "2025-04-03T01:08:49.763Z"
   },
   {
    "duration": 136,
    "start_time": "2025-04-03T01:08:49.959Z"
   },
   {
    "duration": 162,
    "start_time": "2025-04-03T01:08:50.097Z"
   },
   {
    "duration": 2,
    "start_time": "2025-04-03T01:08:50.262Z"
   },
   {
    "duration": 283,
    "start_time": "2025-04-03T01:08:50.266Z"
   },
   {
    "duration": 313,
    "start_time": "2025-04-03T01:08:50.551Z"
   },
   {
    "duration": 63,
    "start_time": "2025-04-03T01:08:50.866Z"
   },
   {
    "duration": 381,
    "start_time": "2025-04-03T01:08:50.932Z"
   },
   {
    "duration": 12,
    "start_time": "2025-04-03T01:08:51.315Z"
   },
   {
    "duration": 153,
    "start_time": "2025-04-03T01:08:51.329Z"
   },
   {
    "duration": 193,
    "start_time": "2025-04-03T01:08:51.484Z"
   },
   {
    "duration": 8,
    "start_time": "2025-04-03T01:08:51.679Z"
   },
   {
    "duration": 4,
    "start_time": "2025-04-03T01:08:51.688Z"
   },
   {
    "duration": 163,
    "start_time": "2025-04-03T01:08:51.693Z"
   },
   {
    "duration": 201,
    "start_time": "2025-04-03T01:08:51.858Z"
   },
   {
    "duration": 0,
    "start_time": "2025-04-03T01:08:52.061Z"
   },
   {
    "duration": 228,
    "start_time": "2025-04-03T01:11:41.620Z"
   },
   {
    "duration": 97,
    "start_time": "2025-04-03T01:12:28.218Z"
   },
   {
    "duration": 2694,
    "start_time": "2025-04-03T17:09:53.193Z"
   },
   {
    "duration": 447,
    "start_time": "2025-04-03T17:09:55.890Z"
   },
   {
    "duration": 114,
    "start_time": "2025-04-03T17:09:56.339Z"
   },
   {
    "duration": 1339,
    "start_time": "2025-04-03T17:09:56.455Z"
   },
   {
    "duration": 68,
    "start_time": "2025-04-03T17:09:57.796Z"
   },
   {
    "duration": 158,
    "start_time": "2025-04-03T17:09:57.866Z"
   },
   {
    "duration": 331,
    "start_time": "2025-04-03T17:09:58.028Z"
   },
   {
    "duration": 191,
    "start_time": "2025-04-03T17:09:58.361Z"
   },
   {
    "duration": 42,
    "start_time": "2025-04-03T17:09:58.554Z"
   },
   {
    "duration": 198,
    "start_time": "2025-04-03T17:09:58.598Z"
   },
   {
    "duration": 135,
    "start_time": "2025-04-03T17:09:58.798Z"
   },
   {
    "duration": 164,
    "start_time": "2025-04-03T17:09:58.936Z"
   },
   {
    "duration": 11,
    "start_time": "2025-04-03T17:09:59.102Z"
   },
   {
    "duration": 357,
    "start_time": "2025-04-03T17:09:59.117Z"
   },
   {
    "duration": 303,
    "start_time": "2025-04-03T17:09:59.476Z"
   },
   {
    "duration": 61,
    "start_time": "2025-04-03T17:09:59.781Z"
   },
   {
    "duration": 388,
    "start_time": "2025-04-03T17:09:59.844Z"
   },
   {
    "duration": 12,
    "start_time": "2025-04-03T17:10:00.234Z"
   },
   {
    "duration": 131,
    "start_time": "2025-04-03T17:10:00.250Z"
   },
   {
    "duration": 244,
    "start_time": "2025-04-03T17:10:00.382Z"
   },
   {
    "duration": 104,
    "start_time": "2025-04-03T17:10:00.627Z"
   },
   {
    "duration": 2,
    "start_time": "2025-04-03T17:10:00.733Z"
   },
   {
    "duration": 3,
    "start_time": "2025-04-03T17:10:00.737Z"
   },
   {
    "duration": 174,
    "start_time": "2025-04-03T17:10:00.742Z"
   },
   {
    "duration": 4637,
    "start_time": "2025-04-03T17:10:00.918Z"
   },
   {
    "duration": 0,
    "start_time": "2025-04-03T17:10:05.557Z"
   },
   {
    "duration": 1002,
    "start_time": "2025-04-03T17:12:33.072Z"
   },
   {
    "duration": 404,
    "start_time": "2025-04-03T17:12:34.077Z"
   },
   {
    "duration": 108,
    "start_time": "2025-04-03T17:12:34.483Z"
   },
   {
    "duration": 1350,
    "start_time": "2025-04-03T17:12:34.593Z"
   },
   {
    "duration": 68,
    "start_time": "2025-04-03T17:12:35.946Z"
   },
   {
    "duration": 151,
    "start_time": "2025-04-03T17:12:36.016Z"
   },
   {
    "duration": 319,
    "start_time": "2025-04-03T17:12:36.169Z"
   },
   {
    "duration": 179,
    "start_time": "2025-04-03T17:12:36.489Z"
   },
   {
    "duration": 45,
    "start_time": "2025-04-03T17:12:36.670Z"
   },
   {
    "duration": 182,
    "start_time": "2025-04-03T17:12:36.717Z"
   },
   {
    "duration": 137,
    "start_time": "2025-04-03T17:12:36.900Z"
   },
   {
    "duration": 162,
    "start_time": "2025-04-03T17:12:37.039Z"
   },
   {
    "duration": 9,
    "start_time": "2025-04-03T17:12:37.203Z"
   },
   {
    "duration": 262,
    "start_time": "2025-04-03T17:12:37.216Z"
   },
   {
    "duration": 302,
    "start_time": "2025-04-03T17:12:37.480Z"
   },
   {
    "duration": 60,
    "start_time": "2025-04-03T17:12:37.784Z"
   },
   {
    "duration": 366,
    "start_time": "2025-04-03T17:12:37.846Z"
   },
   {
    "duration": 10,
    "start_time": "2025-04-03T17:12:38.213Z"
   },
   {
    "duration": 5,
    "start_time": "2025-04-03T17:12:38.226Z"
   },
   {
    "duration": 0,
    "start_time": "2025-04-03T17:12:38.232Z"
   },
   {
    "duration": 0,
    "start_time": "2025-04-03T17:12:38.233Z"
   },
   {
    "duration": 0,
    "start_time": "2025-04-03T17:12:38.234Z"
   },
   {
    "duration": 0,
    "start_time": "2025-04-03T17:12:38.235Z"
   },
   {
    "duration": 0,
    "start_time": "2025-04-03T17:12:38.236Z"
   },
   {
    "duration": 0,
    "start_time": "2025-04-03T17:12:38.237Z"
   },
   {
    "duration": 0,
    "start_time": "2025-04-03T17:12:38.239Z"
   },
   {
    "duration": 0,
    "start_time": "2025-04-03T17:12:38.240Z"
   },
   {
    "duration": 293,
    "start_time": "2025-04-03T17:12:42.358Z"
   },
   {
    "duration": 322,
    "start_time": "2025-04-03T17:13:13.050Z"
   },
   {
    "duration": 1018,
    "start_time": "2025-04-03T17:14:19.247Z"
   },
   {
    "duration": 4,
    "start_time": "2025-04-03T17:14:43.654Z"
   },
   {
    "duration": 6,
    "start_time": "2025-04-03T17:14:53.801Z"
   },
   {
    "duration": 157,
    "start_time": "2025-04-03T17:15:30.780Z"
   },
   {
    "duration": 4406,
    "start_time": "2025-04-03T17:15:37.836Z"
   },
   {
    "duration": 4438,
    "start_time": "2025-04-03T17:16:55.265Z"
   },
   {
    "duration": 4411,
    "start_time": "2025-04-03T17:17:19.260Z"
   },
   {
    "duration": 4421,
    "start_time": "2025-04-03T17:17:24.426Z"
   },
   {
    "duration": 4400,
    "start_time": "2025-04-03T17:17:35.296Z"
   },
   {
    "duration": 4381,
    "start_time": "2025-04-03T17:18:38.074Z"
   },
   {
    "duration": 4403,
    "start_time": "2025-04-03T17:19:19.600Z"
   },
   {
    "duration": 4408,
    "start_time": "2025-04-03T17:20:10.703Z"
   },
   {
    "duration": 4520,
    "start_time": "2025-04-03T17:21:25.945Z"
   },
   {
    "duration": 4416,
    "start_time": "2025-04-03T17:22:03.426Z"
   },
   {
    "duration": 31,
    "start_time": "2025-04-03T17:22:38.443Z"
   },
   {
    "duration": 29,
    "start_time": "2025-04-03T17:23:58.050Z"
   },
   {
    "duration": 4396,
    "start_time": "2025-04-03T17:26:02.254Z"
   },
   {
    "duration": 4,
    "start_time": "2025-04-03T17:26:25.213Z"
   },
   {
    "duration": 19,
    "start_time": "2025-04-03T17:26:33.882Z"
   },
   {
    "duration": 17,
    "start_time": "2025-04-03T17:26:36.818Z"
   },
   {
    "duration": 4342,
    "start_time": "2025-04-03T17:26:39.324Z"
   },
   {
    "duration": 11,
    "start_time": "2025-04-03T17:27:47.911Z"
   },
   {
    "duration": 4517,
    "start_time": "2025-04-03T17:28:44.331Z"
   },
   {
    "duration": 5141,
    "start_time": "2025-04-03T17:29:04.800Z"
   },
   {
    "duration": 4374,
    "start_time": "2025-04-03T17:29:33.112Z"
   },
   {
    "duration": 4747,
    "start_time": "2025-04-03T17:29:43.924Z"
   },
   {
    "duration": 4552,
    "start_time": "2025-04-03T17:30:00.862Z"
   },
   {
    "duration": 4411,
    "start_time": "2025-04-03T17:31:53.113Z"
   },
   {
    "duration": 4,
    "start_time": "2025-04-03T17:36:34.138Z"
   },
   {
    "duration": 4307,
    "start_time": "2025-04-03T17:36:39.443Z"
   },
   {
    "duration": 4404,
    "start_time": "2025-04-03T17:39:39.918Z"
   },
   {
    "duration": 4498,
    "start_time": "2025-04-03T17:41:00.468Z"
   },
   {
    "duration": 4367,
    "start_time": "2025-04-03T17:41:11.703Z"
   },
   {
    "duration": 4370,
    "start_time": "2025-04-03T17:41:33.647Z"
   },
   {
    "duration": 4399,
    "start_time": "2025-04-03T17:41:48.978Z"
   },
   {
    "duration": 4435,
    "start_time": "2025-04-03T17:42:03.918Z"
   },
   {
    "duration": 18,
    "start_time": "2025-04-03T17:42:34.003Z"
   },
   {
    "duration": 4,
    "start_time": "2025-04-03T17:43:35.257Z"
   },
   {
    "duration": 0,
    "start_time": "2025-04-03T18:41:13.668Z"
   },
   {
    "duration": 0,
    "start_time": "2025-04-03T18:41:13.669Z"
   },
   {
    "duration": 1005,
    "start_time": "2025-04-03T18:41:40.186Z"
   },
   {
    "duration": 443,
    "start_time": "2025-04-03T18:41:41.194Z"
   },
   {
    "duration": 111,
    "start_time": "2025-04-03T18:41:41.638Z"
   },
   {
    "duration": 1384,
    "start_time": "2025-04-03T18:41:41.751Z"
   },
   {
    "duration": 75,
    "start_time": "2025-04-03T18:41:43.138Z"
   },
   {
    "duration": 146,
    "start_time": "2025-04-03T18:41:43.216Z"
   },
   {
    "duration": 324,
    "start_time": "2025-04-03T18:41:43.363Z"
   },
   {
    "duration": 177,
    "start_time": "2025-04-03T18:41:43.689Z"
   },
   {
    "duration": 55,
    "start_time": "2025-04-03T18:41:43.868Z"
   },
   {
    "duration": 179,
    "start_time": "2025-04-03T18:41:43.926Z"
   },
   {
    "duration": 132,
    "start_time": "2025-04-03T18:41:44.106Z"
   },
   {
    "duration": 170,
    "start_time": "2025-04-03T18:41:44.239Z"
   },
   {
    "duration": 2,
    "start_time": "2025-04-03T18:41:44.412Z"
   },
   {
    "duration": 257,
    "start_time": "2025-04-03T18:41:44.418Z"
   },
   {
    "duration": 309,
    "start_time": "2025-04-03T18:41:44.677Z"
   },
   {
    "duration": 61,
    "start_time": "2025-04-03T18:41:44.989Z"
   },
   {
    "duration": 366,
    "start_time": "2025-04-03T18:41:45.052Z"
   },
   {
    "duration": 11,
    "start_time": "2025-04-03T18:41:45.421Z"
   },
   {
    "duration": 339,
    "start_time": "2025-04-03T18:41:45.434Z"
   },
   {
    "duration": 1005,
    "start_time": "2025-04-03T18:41:45.775Z"
   },
   {
    "duration": 3,
    "start_time": "2025-04-03T18:41:46.782Z"
   },
   {
    "duration": 2,
    "start_time": "2025-04-03T18:41:46.787Z"
   },
   {
    "duration": 3,
    "start_time": "2025-04-03T18:41:46.791Z"
   },
   {
    "duration": 170,
    "start_time": "2025-04-03T18:41:46.796Z"
   },
   {
    "duration": 4425,
    "start_time": "2025-04-03T18:41:46.968Z"
   },
   {
    "duration": 329226,
    "start_time": "2025-04-03T18:41:51.394Z"
   },
   {
    "duration": 0,
    "start_time": "2025-04-03T18:47:20.622Z"
   },
   {
    "duration": 1000,
    "start_time": "2025-04-03T18:48:14.145Z"
   },
   {
    "duration": 403,
    "start_time": "2025-04-03T18:48:15.147Z"
   },
   {
    "duration": 105,
    "start_time": "2025-04-03T18:48:15.552Z"
   },
   {
    "duration": 1353,
    "start_time": "2025-04-03T18:48:15.659Z"
   },
   {
    "duration": 59,
    "start_time": "2025-04-03T18:48:17.015Z"
   },
   {
    "duration": 159,
    "start_time": "2025-04-03T18:48:17.075Z"
   },
   {
    "duration": 324,
    "start_time": "2025-04-03T18:48:17.236Z"
   },
   {
    "duration": 179,
    "start_time": "2025-04-03T18:48:17.562Z"
   },
   {
    "duration": 71,
    "start_time": "2025-04-03T18:48:17.743Z"
   },
   {
    "duration": 181,
    "start_time": "2025-04-03T18:48:17.815Z"
   },
   {
    "duration": 146,
    "start_time": "2025-04-03T18:48:17.999Z"
   },
   {
    "duration": 164,
    "start_time": "2025-04-03T18:48:18.147Z"
   },
   {
    "duration": 3,
    "start_time": "2025-04-03T18:48:18.313Z"
   },
   {
    "duration": 260,
    "start_time": "2025-04-03T18:48:18.318Z"
   },
   {
    "duration": 302,
    "start_time": "2025-04-03T18:48:18.580Z"
   },
   {
    "duration": 62,
    "start_time": "2025-04-03T18:48:18.884Z"
   },
   {
    "duration": 385,
    "start_time": "2025-04-03T18:48:18.948Z"
   },
   {
    "duration": 10,
    "start_time": "2025-04-03T18:48:19.335Z"
   },
   {
    "duration": 343,
    "start_time": "2025-04-03T18:48:19.346Z"
   },
   {
    "duration": 1035,
    "start_time": "2025-04-03T18:48:19.691Z"
   },
   {
    "duration": 2,
    "start_time": "2025-04-03T18:48:20.728Z"
   },
   {
    "duration": 4,
    "start_time": "2025-04-03T18:48:20.731Z"
   },
   {
    "duration": 3,
    "start_time": "2025-04-03T18:48:20.737Z"
   },
   {
    "duration": 172,
    "start_time": "2025-04-03T18:48:20.742Z"
   },
   {
    "duration": 4427,
    "start_time": "2025-04-03T18:48:20.916Z"
   },
   {
    "duration": 1401573,
    "start_time": "2025-04-03T18:48:25.345Z"
   },
   {
    "duration": 0,
    "start_time": "2025-04-03T19:11:46.920Z"
   },
   {
    "duration": 6,
    "start_time": "2025-04-03T19:12:33.365Z"
   },
   {
    "duration": 3,
    "start_time": "2025-04-03T19:12:38.838Z"
   },
   {
    "duration": 3,
    "start_time": "2025-04-03T19:12:45.726Z"
   },
   {
    "duration": 3,
    "start_time": "2025-04-03T19:12:52.120Z"
   },
   {
    "duration": 3,
    "start_time": "2025-04-03T19:12:58.213Z"
   },
   {
    "duration": 3,
    "start_time": "2025-04-03T19:13:03.760Z"
   },
   {
    "duration": 3,
    "start_time": "2025-04-03T19:13:07.963Z"
   },
   {
    "duration": 15,
    "start_time": "2025-04-03T19:15:48.625Z"
   },
   {
    "duration": 5,
    "start_time": "2025-04-03T19:16:49.516Z"
   },
   {
    "duration": 3,
    "start_time": "2025-04-03T19:16:52.795Z"
   },
   {
    "duration": 21392,
    "start_time": "2025-04-03T19:18:46.954Z"
   },
   {
    "duration": 3,
    "start_time": "2025-04-03T19:45:54.519Z"
   },
   {
    "duration": 18571,
    "start_time": "2025-04-03T19:46:31.468Z"
   },
   {
    "duration": 18326,
    "start_time": "2025-04-03T19:47:09.732Z"
   },
   {
    "duration": 20922,
    "start_time": "2025-04-03T19:47:48.512Z"
   },
   {
    "duration": 4,
    "start_time": "2025-04-03T19:49:15.569Z"
   },
   {
    "duration": 24136,
    "start_time": "2025-04-03T19:49:23.133Z"
   },
   {
    "duration": 24172,
    "start_time": "2025-04-03T19:51:23.841Z"
   },
   {
    "duration": 387157,
    "start_time": "2025-04-03T19:53:02.829Z"
   },
   {
    "duration": 9,
    "start_time": "2025-04-03T19:59:56.107Z"
   },
   {
    "duration": 385325,
    "start_time": "2025-04-03T20:00:02.704Z"
   },
   {
    "duration": 3,
    "start_time": "2025-04-03T20:06:42.796Z"
   },
   {
    "duration": 388222,
    "start_time": "2025-04-03T20:06:47.930Z"
   },
   {
    "duration": 2685,
    "start_time": "2025-04-03T21:36:34.336Z"
   },
   {
    "duration": 467,
    "start_time": "2025-04-03T21:36:37.024Z"
   },
   {
    "duration": 107,
    "start_time": "2025-04-03T21:36:37.493Z"
   },
   {
    "duration": 1414,
    "start_time": "2025-04-03T21:36:37.603Z"
   },
   {
    "duration": 70,
    "start_time": "2025-04-03T21:36:39.019Z"
   },
   {
    "duration": 153,
    "start_time": "2025-04-03T21:36:39.090Z"
   },
   {
    "duration": 322,
    "start_time": "2025-04-03T21:36:39.246Z"
   },
   {
    "duration": 181,
    "start_time": "2025-04-03T21:36:39.570Z"
   },
   {
    "duration": 50,
    "start_time": "2025-04-03T21:36:39.754Z"
   },
   {
    "duration": 205,
    "start_time": "2025-04-03T21:36:39.808Z"
   },
   {
    "duration": 142,
    "start_time": "2025-04-03T21:36:40.015Z"
   },
   {
    "duration": 223,
    "start_time": "2025-04-03T21:36:40.159Z"
   },
   {
    "duration": 3,
    "start_time": "2025-04-03T21:36:40.383Z"
   },
   {
    "duration": 313,
    "start_time": "2025-04-03T21:36:40.387Z"
   },
   {
    "duration": 300,
    "start_time": "2025-04-03T21:36:40.703Z"
   },
   {
    "duration": 63,
    "start_time": "2025-04-03T21:36:41.005Z"
   },
   {
    "duration": 362,
    "start_time": "2025-04-03T21:36:41.069Z"
   },
   {
    "duration": 10,
    "start_time": "2025-04-03T21:36:41.433Z"
   },
   {
    "duration": 340,
    "start_time": "2025-04-03T21:36:41.445Z"
   },
   {
    "duration": 1010,
    "start_time": "2025-04-03T21:36:41.788Z"
   },
   {
    "duration": 3,
    "start_time": "2025-04-03T21:36:42.799Z"
   },
   {
    "duration": 3,
    "start_time": "2025-04-03T21:36:42.803Z"
   },
   {
    "duration": 4,
    "start_time": "2025-04-03T21:36:42.807Z"
   },
   {
    "duration": 182,
    "start_time": "2025-04-03T21:36:42.812Z"
   },
   {
    "duration": 4443,
    "start_time": "2025-04-03T21:36:42.996Z"
   },
   {
    "duration": 21646,
    "start_time": "2025-04-03T21:36:47.440Z"
   },
   {
    "duration": 21209,
    "start_time": "2025-04-03T21:37:09.089Z"
   },
   {
    "duration": 24856,
    "start_time": "2025-04-03T21:37:30.302Z"
   },
   {
    "duration": 6856,
    "start_time": "2025-04-03T21:37:55.162Z"
   },
   {
    "duration": 0,
    "start_time": "2025-04-03T21:38:02.020Z"
   },
   {
    "duration": 0,
    "start_time": "2025-04-03T21:38:02.022Z"
   },
   {
    "duration": 0,
    "start_time": "2025-04-03T21:38:02.024Z"
   },
   {
    "duration": 0,
    "start_time": "2025-04-03T21:38:02.026Z"
   },
   {
    "duration": 0,
    "start_time": "2025-04-03T21:38:02.042Z"
   },
   {
    "duration": 0,
    "start_time": "2025-04-03T21:38:02.044Z"
   },
   {
    "duration": 0,
    "start_time": "2025-04-03T21:38:02.045Z"
   },
   {
    "duration": 0,
    "start_time": "2025-04-03T21:38:02.046Z"
   },
   {
    "duration": 0,
    "start_time": "2025-04-03T21:38:02.047Z"
   },
   {
    "duration": 411135,
    "start_time": "2025-04-03T21:38:04.624Z"
   },
   {
    "duration": 7853,
    "start_time": "2025-04-03T21:46:37.093Z"
   },
   {
    "duration": 272708,
    "start_time": "2025-04-03T21:46:59.494Z"
   },
   {
    "duration": 273980,
    "start_time": "2025-04-03T21:52:52.991Z"
   },
   {
    "duration": 51,
    "start_time": "2025-04-03T21:59:25.436Z"
   },
   {
    "duration": 824801,
    "start_time": "2025-04-03T21:59:38.920Z"
   },
   {
    "duration": 162,
    "start_time": "2025-04-03T22:20:46.240Z"
   },
   {
    "duration": 1111,
    "start_time": "2025-04-03T22:21:09.097Z"
   },
   {
    "duration": 472,
    "start_time": "2025-04-03T22:21:10.210Z"
   },
   {
    "duration": 107,
    "start_time": "2025-04-03T22:21:10.683Z"
   },
   {
    "duration": 1435,
    "start_time": "2025-04-03T22:21:10.791Z"
   },
   {
    "duration": 69,
    "start_time": "2025-04-03T22:21:12.228Z"
   },
   {
    "duration": 150,
    "start_time": "2025-04-03T22:21:12.299Z"
   },
   {
    "duration": 329,
    "start_time": "2025-04-03T22:21:12.450Z"
   },
   {
    "duration": 184,
    "start_time": "2025-04-03T22:21:12.780Z"
   },
   {
    "duration": 60,
    "start_time": "2025-04-03T22:21:12.966Z"
   },
   {
    "duration": 186,
    "start_time": "2025-04-03T22:21:13.042Z"
   },
   {
    "duration": 134,
    "start_time": "2025-04-03T22:21:13.229Z"
   },
   {
    "duration": 164,
    "start_time": "2025-04-03T22:21:13.365Z"
   },
   {
    "duration": 3,
    "start_time": "2025-04-03T22:21:13.531Z"
   },
   {
    "duration": 267,
    "start_time": "2025-04-03T22:21:13.537Z"
   },
   {
    "duration": 304,
    "start_time": "2025-04-03T22:21:13.806Z"
   },
   {
    "duration": 68,
    "start_time": "2025-04-03T22:21:14.112Z"
   },
   {
    "duration": 381,
    "start_time": "2025-04-03T22:21:14.182Z"
   },
   {
    "duration": 11,
    "start_time": "2025-04-03T22:21:14.565Z"
   },
   {
    "duration": 335,
    "start_time": "2025-04-03T22:21:14.578Z"
   },
   {
    "duration": 1048,
    "start_time": "2025-04-03T22:21:14.915Z"
   },
   {
    "duration": 2,
    "start_time": "2025-04-03T22:21:15.965Z"
   },
   {
    "duration": 4,
    "start_time": "2025-04-03T22:21:15.968Z"
   },
   {
    "duration": 4,
    "start_time": "2025-04-03T22:21:15.973Z"
   },
   {
    "duration": 234,
    "start_time": "2025-04-03T22:21:15.979Z"
   },
   {
    "duration": 4509,
    "start_time": "2025-04-03T22:21:16.215Z"
   },
   {
    "duration": 21931,
    "start_time": "2025-04-03T22:21:20.726Z"
   },
   {
    "duration": 21838,
    "start_time": "2025-04-03T22:21:42.659Z"
   },
   {
    "duration": 25697,
    "start_time": "2025-04-03T22:22:04.499Z"
   },
   {
    "duration": 390869,
    "start_time": "2025-04-03T22:22:30.198Z"
   },
   {
    "duration": 7798,
    "start_time": "2025-04-03T22:29:01.069Z"
   },
   {
    "duration": 274392,
    "start_time": "2025-04-03T22:29:08.869Z"
   },
   {
    "duration": 1506713,
    "start_time": "2025-04-03T22:33:43.263Z"
   },
   {
    "duration": 158,
    "start_time": "2025-04-03T22:59:22.021Z"
   },
   {
    "duration": 1185,
    "start_time": "2025-04-03T22:59:39.060Z"
   },
   {
    "duration": 461,
    "start_time": "2025-04-03T22:59:40.247Z"
   },
   {
    "duration": 115,
    "start_time": "2025-04-03T22:59:40.710Z"
   },
   {
    "duration": 1359,
    "start_time": "2025-04-03T22:59:40.827Z"
   },
   {
    "duration": 69,
    "start_time": "2025-04-03T22:59:42.188Z"
   },
   {
    "duration": 152,
    "start_time": "2025-04-03T22:59:42.260Z"
   },
   {
    "duration": 324,
    "start_time": "2025-04-03T22:59:42.414Z"
   },
   {
    "duration": 196,
    "start_time": "2025-04-03T22:59:42.743Z"
   },
   {
    "duration": 53,
    "start_time": "2025-04-03T22:59:42.943Z"
   },
   {
    "duration": 187,
    "start_time": "2025-04-03T22:59:42.999Z"
   },
   {
    "duration": 135,
    "start_time": "2025-04-03T22:59:43.187Z"
   },
   {
    "duration": 163,
    "start_time": "2025-04-03T22:59:43.324Z"
   },
   {
    "duration": 4,
    "start_time": "2025-04-03T22:59:43.489Z"
   },
   {
    "duration": 286,
    "start_time": "2025-04-03T22:59:43.494Z"
   },
   {
    "duration": 305,
    "start_time": "2025-04-03T22:59:43.781Z"
   },
   {
    "duration": 60,
    "start_time": "2025-04-03T22:59:44.087Z"
   },
   {
    "duration": 378,
    "start_time": "2025-04-03T22:59:44.149Z"
   },
   {
    "duration": 10,
    "start_time": "2025-04-03T22:59:44.529Z"
   },
   {
    "duration": 325,
    "start_time": "2025-04-03T22:59:44.541Z"
   },
   {
    "duration": 1028,
    "start_time": "2025-04-03T22:59:44.868Z"
   },
   {
    "duration": 3,
    "start_time": "2025-04-03T22:59:45.898Z"
   },
   {
    "duration": 3,
    "start_time": "2025-04-03T22:59:45.902Z"
   },
   {
    "duration": 3,
    "start_time": "2025-04-03T22:59:45.907Z"
   },
   {
    "duration": 245,
    "start_time": "2025-04-03T22:59:45.911Z"
   },
   {
    "duration": 4517,
    "start_time": "2025-04-03T22:59:46.158Z"
   },
   {
    "duration": 21642,
    "start_time": "2025-04-03T22:59:50.677Z"
   },
   {
    "duration": 21650,
    "start_time": "2025-04-03T23:00:12.321Z"
   },
   {
    "duration": 24438,
    "start_time": "2025-04-03T23:00:33.975Z"
   },
   {
    "duration": 392566,
    "start_time": "2025-04-03T23:00:58.414Z"
   },
   {
    "duration": 7889,
    "start_time": "2025-04-03T23:07:30.982Z"
   },
   {
    "duration": 273484,
    "start_time": "2025-04-03T23:07:38.944Z"
   },
   {
    "duration": 2,
    "start_time": "2025-04-03T23:12:12.430Z"
   },
   {
    "duration": 1321756,
    "start_time": "2025-04-03T23:12:12.443Z"
   },
   {
    "duration": 1269274,
    "start_time": "2025-04-03T23:34:14.201Z"
   },
   {
    "duration": 1488750,
    "start_time": "2025-04-03T23:55:23.477Z"
   },
   {
    "duration": 267,
    "start_time": "2025-04-04T00:20:12.229Z"
   },
   {
    "duration": 0,
    "start_time": "2025-04-04T00:20:12.498Z"
   },
   {
    "duration": 0,
    "start_time": "2025-04-04T00:20:12.500Z"
   },
   {
    "duration": 0,
    "start_time": "2025-04-04T00:20:12.501Z"
   },
   {
    "duration": 0,
    "start_time": "2025-04-04T00:20:12.502Z"
   },
   {
    "duration": 94,
    "start_time": "2025-04-04T00:31:00.762Z"
   },
   {
    "duration": 3974205,
    "start_time": "2025-04-04T00:31:16.619Z"
   },
   {
    "duration": 2678,
    "start_time": "2025-04-04T17:10:35.764Z"
   },
   {
    "duration": 435,
    "start_time": "2025-04-04T17:10:38.444Z"
   },
   {
    "duration": 108,
    "start_time": "2025-04-04T17:10:38.881Z"
   },
   {
    "duration": 1376,
    "start_time": "2025-04-04T17:10:38.991Z"
   },
   {
    "duration": 73,
    "start_time": "2025-04-04T17:10:40.369Z"
   },
   {
    "duration": 157,
    "start_time": "2025-04-04T17:10:40.444Z"
   },
   {
    "duration": 325,
    "start_time": "2025-04-04T17:10:40.603Z"
   },
   {
    "duration": 187,
    "start_time": "2025-04-04T17:10:40.929Z"
   },
   {
    "duration": 59,
    "start_time": "2025-04-04T17:10:41.118Z"
   },
   {
    "duration": 232,
    "start_time": "2025-04-04T17:10:41.179Z"
   },
   {
    "duration": 145,
    "start_time": "2025-04-04T17:10:41.413Z"
   },
   {
    "duration": 159,
    "start_time": "2025-04-04T17:10:41.560Z"
   },
   {
    "duration": 10,
    "start_time": "2025-04-04T17:10:41.721Z"
   },
   {
    "duration": 269,
    "start_time": "2025-04-04T17:10:41.735Z"
   },
   {
    "duration": 300,
    "start_time": "2025-04-04T17:10:42.006Z"
   },
   {
    "duration": 61,
    "start_time": "2025-04-04T17:10:42.308Z"
   },
   {
    "duration": 401,
    "start_time": "2025-04-04T17:10:42.371Z"
   },
   {
    "duration": 10,
    "start_time": "2025-04-04T17:10:42.774Z"
   },
   {
    "duration": 323,
    "start_time": "2025-04-04T17:10:42.786Z"
   },
   {
    "duration": 1012,
    "start_time": "2025-04-04T17:10:43.111Z"
   },
   {
    "duration": 2,
    "start_time": "2025-04-04T17:10:44.125Z"
   },
   {
    "duration": 4,
    "start_time": "2025-04-04T17:10:44.128Z"
   },
   {
    "duration": 4,
    "start_time": "2025-04-04T17:10:44.134Z"
   },
   {
    "duration": 175,
    "start_time": "2025-04-04T17:10:44.140Z"
   },
   {
    "duration": 4490,
    "start_time": "2025-04-04T17:10:44.317Z"
   },
   {
    "duration": 21777,
    "start_time": "2025-04-04T17:10:48.809Z"
   },
   {
    "duration": 21444,
    "start_time": "2025-04-04T17:11:10.588Z"
   },
   {
    "duration": 24784,
    "start_time": "2025-04-04T17:11:32.034Z"
   },
   {
    "duration": 394748,
    "start_time": "2025-04-04T17:11:56.821Z"
   },
   {
    "duration": 7876,
    "start_time": "2025-04-04T17:18:31.570Z"
   },
   {
    "duration": 273154,
    "start_time": "2025-04-04T17:18:39.449Z"
   },
   {
    "duration": 2,
    "start_time": "2025-04-04T17:23:12.605Z"
   },
   {
    "duration": 5,
    "start_time": "2025-04-04T17:23:12.609Z"
   },
   {
    "duration": 4,
    "start_time": "2025-04-04T17:23:12.615Z"
   },
   {
    "duration": 3,
    "start_time": "2025-04-04T17:23:12.632Z"
   },
   {
    "duration": 3891076,
    "start_time": "2025-04-04T17:23:12.636Z"
   },
   {
    "duration": 3,
    "start_time": "2025-04-04T18:28:03.714Z"
   },
   {
    "duration": 709,
    "start_time": "2025-04-04T18:28:03.732Z"
   },
   {
    "duration": 0,
    "start_time": "2025-04-04T18:28:04.443Z"
   },
   {
    "duration": 0,
    "start_time": "2025-04-04T18:28:04.443Z"
   },
   {
    "duration": 0,
    "start_time": "2025-04-04T18:28:04.445Z"
   },
   {
    "duration": 13851,
    "start_time": "2025-04-04T18:40:59.523Z"
   },
   {
    "duration": 4469,
    "start_time": "2025-04-04T18:48:36.094Z"
   },
   {
    "duration": 4424,
    "start_time": "2025-04-04T18:49:49.241Z"
   },
   {
    "duration": 4437,
    "start_time": "2025-04-04T18:50:04.372Z"
   },
   {
    "duration": 21620,
    "start_time": "2025-04-04T18:50:15.835Z"
   },
   {
    "duration": 26919,
    "start_time": "2025-04-04T18:52:42.402Z"
   },
   {
    "duration": 271219,
    "start_time": "2025-04-04T18:54:08.077Z"
   },
   {
    "duration": 2696,
    "start_time": "2025-04-04T20:38:26.331Z"
   },
   {
    "duration": 472,
    "start_time": "2025-04-04T20:38:29.029Z"
   },
   {
    "duration": 104,
    "start_time": "2025-04-04T20:38:29.506Z"
   },
   {
    "duration": 1385,
    "start_time": "2025-04-04T20:38:29.613Z"
   },
   {
    "duration": 68,
    "start_time": "2025-04-04T20:38:31.000Z"
   },
   {
    "duration": 152,
    "start_time": "2025-04-04T20:38:31.070Z"
   },
   {
    "duration": 317,
    "start_time": "2025-04-04T20:38:31.223Z"
   },
   {
    "duration": 180,
    "start_time": "2025-04-04T20:38:31.542Z"
   },
   {
    "duration": 40,
    "start_time": "2025-04-04T20:38:31.724Z"
   },
   {
    "duration": 186,
    "start_time": "2025-04-04T20:38:31.766Z"
   },
   {
    "duration": 188,
    "start_time": "2025-04-04T20:38:31.954Z"
   },
   {
    "duration": 159,
    "start_time": "2025-04-04T20:38:32.144Z"
   },
   {
    "duration": 294,
    "start_time": "2025-04-04T20:38:32.305Z"
   },
   {
    "duration": 305,
    "start_time": "2025-04-04T20:38:32.604Z"
   },
   {
    "duration": 55,
    "start_time": "2025-04-04T20:38:32.910Z"
   },
   {
    "duration": 380,
    "start_time": "2025-04-04T20:38:32.967Z"
   },
   {
    "duration": 10,
    "start_time": "2025-04-04T20:38:33.349Z"
   },
   {
    "duration": 323,
    "start_time": "2025-04-04T20:38:33.361Z"
   },
   {
    "duration": 1015,
    "start_time": "2025-04-04T20:38:33.686Z"
   },
   {
    "duration": 177,
    "start_time": "2025-04-04T20:38:34.702Z"
   },
   {
    "duration": 4651,
    "start_time": "2025-04-04T20:38:34.881Z"
   },
   {
    "duration": 22380,
    "start_time": "2025-04-04T20:38:39.533Z"
   },
   {
    "duration": 21888,
    "start_time": "2025-04-04T20:39:01.915Z"
   },
   {
    "duration": 24895,
    "start_time": "2025-04-04T20:39:23.805Z"
   },
   {
    "duration": 387758,
    "start_time": "2025-04-04T20:39:48.703Z"
   },
   {
    "duration": 7667,
    "start_time": "2025-04-04T20:46:16.463Z"
   },
   {
    "duration": 276428,
    "start_time": "2025-04-04T20:46:24.133Z"
   },
   {
    "duration": 27985,
    "start_time": "2025-04-04T20:51:00.562Z"
   },
   {
    "duration": 105611,
    "start_time": "2025-04-04T20:51:28.550Z"
   },
   {
    "duration": 3,
    "start_time": "2025-04-04T20:53:14.163Z"
   },
   {
    "duration": 5,
    "start_time": "2025-04-04T20:53:14.167Z"
   },
   {
    "duration": 3,
    "start_time": "2025-04-04T20:53:14.174Z"
   },
   {
    "duration": 2343558,
    "start_time": "2025-04-04T20:53:14.178Z"
   },
   {
    "duration": 0,
    "start_time": "2025-04-04T21:32:17.738Z"
   },
   {
    "duration": 0,
    "start_time": "2025-04-04T21:32:17.740Z"
   },
   {
    "duration": 0,
    "start_time": "2025-04-04T21:32:17.741Z"
   },
   {
    "duration": 0,
    "start_time": "2025-04-04T21:32:17.742Z"
   },
   {
    "duration": 0,
    "start_time": "2025-04-04T21:32:17.743Z"
   },
   {
    "duration": 0,
    "start_time": "2025-04-04T21:32:17.745Z"
   },
   {
    "duration": 0,
    "start_time": "2025-04-04T21:32:17.746Z"
   },
   {
    "duration": 0,
    "start_time": "2025-04-04T21:32:17.748Z"
   },
   {
    "duration": 0,
    "start_time": "2025-04-04T21:32:17.752Z"
   },
   {
    "duration": 0,
    "start_time": "2025-04-04T21:32:17.753Z"
   },
   {
    "duration": 3673,
    "start_time": "2025-04-04T21:32:39.487Z"
   },
   {
    "duration": 5,
    "start_time": "2025-04-04T21:32:58.059Z"
   },
   {
    "duration": 8243,
    "start_time": "2025-04-04T21:33:06.091Z"
   },
   {
    "duration": 7,
    "start_time": "2025-04-04T21:33:44.391Z"
   },
   {
    "duration": 4400,
    "start_time": "2025-04-04T21:37:59.772Z"
   },
   {
    "duration": 12721,
    "start_time": "2025-04-04T21:42:56.882Z"
   },
   {
    "duration": 4453,
    "start_time": "2025-04-04T21:44:41.542Z"
   },
   {
    "duration": 3785,
    "start_time": "2025-04-04T21:45:05.307Z"
   },
   {
    "duration": 7875,
    "start_time": "2025-04-04T21:45:19.959Z"
   },
   {
    "duration": 6,
    "start_time": "2025-04-04T21:48:03.596Z"
   },
   {
    "duration": 8,
    "start_time": "2025-04-04T21:48:08.049Z"
   },
   {
    "duration": 7,
    "start_time": "2025-04-04T21:48:26.994Z"
   },
   {
    "duration": 7,
    "start_time": "2025-04-04T21:48:35.389Z"
   },
   {
    "duration": 14158,
    "start_time": "2025-04-04T21:52:50.727Z"
   },
   {
    "duration": 42073,
    "start_time": "2025-04-04T21:53:13.264Z"
   },
   {
    "duration": 67252,
    "start_time": "2025-04-04T21:54:28.798Z"
   },
   {
    "duration": 141514,
    "start_time": "2025-04-04T21:56:37.807Z"
   },
   {
    "duration": 14157,
    "start_time": "2025-04-04T22:01:16.082Z"
   },
   {
    "duration": 14115,
    "start_time": "2025-04-04T22:02:15.550Z"
   },
   {
    "duration": 27221,
    "start_time": "2025-04-04T22:04:37.587Z"
   },
   {
    "duration": 30740,
    "start_time": "2025-04-04T22:06:06.724Z"
   },
   {
    "duration": 6,
    "start_time": "2025-04-04T22:17:58.426Z"
   },
   {
    "duration": 7,
    "start_time": "2025-04-04T22:18:08.883Z"
   },
   {
    "duration": 7,
    "start_time": "2025-04-04T22:23:05.952Z"
   },
   {
    "duration": 7,
    "start_time": "2025-04-04T22:23:37.125Z"
   },
   {
    "duration": 3,
    "start_time": "2025-04-04T22:24:02.849Z"
   },
   {
    "duration": 124499,
    "start_time": "2025-04-04T22:28:38.847Z"
   },
   {
    "duration": 3,
    "start_time": "2025-04-04T22:31:13.012Z"
   },
   {
    "duration": 119327,
    "start_time": "2025-04-04T22:31:19.814Z"
   },
   {
    "duration": 134961,
    "start_time": "2025-04-04T22:33:51.767Z"
   },
   {
    "duration": 153351,
    "start_time": "2025-04-04T22:36:31.139Z"
   },
   {
    "duration": 578203,
    "start_time": "2025-04-04T22:41:51.605Z"
   },
   {
    "duration": 37448,
    "start_time": "2025-04-04T22:53:15.036Z"
   },
   {
    "duration": 3,
    "start_time": "2025-04-04T22:54:01.345Z"
   },
   {
    "duration": 7,
    "start_time": "2025-04-04T22:54:47.052Z"
   },
   {
    "duration": 437,
    "start_time": "2025-04-04T22:58:29.600Z"
   },
   {
    "duration": 20,
    "start_time": "2025-04-04T22:58:47.021Z"
   },
   {
    "duration": 49717,
    "start_time": "2025-04-04T23:04:27.372Z"
   },
   {
    "duration": 68455,
    "start_time": "2025-04-04T23:05:59.854Z"
   },
   {
    "duration": 248647,
    "start_time": "2025-04-04T23:07:19.745Z"
   },
   {
    "duration": 209,
    "start_time": "2025-04-04T23:16:31.764Z"
   },
   {
    "duration": 68,
    "start_time": "2025-04-04T23:17:40.862Z"
   },
   {
    "duration": 16,
    "start_time": "2025-04-04T23:18:10.038Z"
   },
   {
    "duration": 15,
    "start_time": "2025-04-04T23:19:19.181Z"
   },
   {
    "duration": 66,
    "start_time": "2025-04-04T23:19:41.213Z"
   },
   {
    "duration": 3,
    "start_time": "2025-04-04T23:22:20.098Z"
   },
   {
    "duration": 65,
    "start_time": "2025-04-04T23:22:27.477Z"
   },
   {
    "duration": 1527,
    "start_time": "2025-04-04T23:23:25.519Z"
   },
   {
    "duration": 1701,
    "start_time": "2025-04-04T23:24:14.132Z"
   },
   {
    "duration": 1703,
    "start_time": "2025-04-04T23:24:22.434Z"
   },
   {
    "duration": 1706,
    "start_time": "2025-04-04T23:24:47.834Z"
   },
   {
    "duration": 1727,
    "start_time": "2025-04-04T23:26:26.214Z"
   },
   {
    "duration": 1771,
    "start_time": "2025-04-04T23:26:56.974Z"
   },
   {
    "duration": 67,
    "start_time": "2025-04-04T23:28:12.049Z"
   },
   {
    "duration": 2095,
    "start_time": "2025-04-04T23:28:28.353Z"
   },
   {
    "duration": 5137,
    "start_time": "2025-04-04T23:28:51.104Z"
   },
   {
    "duration": 23344,
    "start_time": "2025-04-04T23:29:07.510Z"
   },
   {
    "duration": 20418,
    "start_time": "2025-04-04T23:32:29.926Z"
   },
   {
    "duration": 3895,
    "start_time": "2025-04-04T23:33:39.966Z"
   },
   {
    "duration": 3944,
    "start_time": "2025-04-04T23:33:49.819Z"
   },
   {
    "duration": 21,
    "start_time": "2025-04-04T23:36:02.350Z"
   },
   {
    "duration": 20000,
    "start_time": "2025-04-04T23:36:11.447Z"
   },
   {
    "duration": 19848,
    "start_time": "2025-04-04T23:37:47.586Z"
   },
   {
    "duration": 19931,
    "start_time": "2025-04-04T23:38:17.515Z"
   },
   {
    "duration": 3978,
    "start_time": "2025-04-04T23:39:58.459Z"
   },
   {
    "duration": 1144810,
    "start_time": "2025-04-04T23:44:55.874Z"
   },
   {
    "duration": 710041,
    "start_time": "2025-04-05T00:04:47.095Z"
   },
   {
    "duration": 9,
    "start_time": "2025-04-05T00:20:12.756Z"
   },
   {
    "duration": 24275,
    "start_time": "2025-04-05T00:20:27.209Z"
   },
   {
    "duration": 4,
    "start_time": "2025-04-05T00:21:55.146Z"
   },
   {
    "duration": 24825,
    "start_time": "2025-04-05T00:22:42.238Z"
   },
   {
    "duration": 24354,
    "start_time": "2025-04-05T00:24:24.686Z"
   },
   {
    "duration": 8,
    "start_time": "2025-04-05T00:27:48.484Z"
   },
   {
    "duration": 3,
    "start_time": "2025-04-05T00:28:15.527Z"
   },
   {
    "duration": 12,
    "start_time": "2025-04-05T00:34:34.066Z"
   },
   {
    "duration": 5293,
    "start_time": "2025-04-05T00:37:59.652Z"
   },
   {
    "duration": 25060,
    "start_time": "2025-04-05T00:38:41.491Z"
   },
   {
    "duration": 1015,
    "start_time": "2025-04-05T01:07:09.526Z"
   },
   {
    "duration": 430,
    "start_time": "2025-04-05T01:07:10.543Z"
   },
   {
    "duration": 111,
    "start_time": "2025-04-05T01:07:10.975Z"
   },
   {
    "duration": 1366,
    "start_time": "2025-04-05T01:07:11.089Z"
   },
   {
    "duration": 61,
    "start_time": "2025-04-05T01:07:12.456Z"
   },
   {
    "duration": 159,
    "start_time": "2025-04-05T01:07:12.518Z"
   },
   {
    "duration": 341,
    "start_time": "2025-04-05T01:07:12.679Z"
   },
   {
    "duration": 185,
    "start_time": "2025-04-05T01:07:13.022Z"
   },
   {
    "duration": 59,
    "start_time": "2025-04-05T01:07:13.208Z"
   },
   {
    "duration": 189,
    "start_time": "2025-04-05T01:07:13.270Z"
   },
   {
    "duration": 133,
    "start_time": "2025-04-05T01:07:13.460Z"
   },
   {
    "duration": 164,
    "start_time": "2025-04-05T01:07:13.594Z"
   },
   {
    "duration": 245,
    "start_time": "2025-04-05T01:07:13.759Z"
   },
   {
    "duration": 310,
    "start_time": "2025-04-05T01:07:14.006Z"
   },
   {
    "duration": 90,
    "start_time": "2025-04-05T01:07:14.318Z"
   },
   {
    "duration": 394,
    "start_time": "2025-04-05T01:07:14.410Z"
   },
   {
    "duration": 11,
    "start_time": "2025-04-05T01:07:14.806Z"
   },
   {
    "duration": 341,
    "start_time": "2025-04-05T01:07:14.819Z"
   },
   {
    "duration": 1062,
    "start_time": "2025-04-05T01:07:15.162Z"
   },
   {
    "duration": 257,
    "start_time": "2025-04-05T01:07:16.225Z"
   },
   {
    "duration": 4788,
    "start_time": "2025-04-05T01:07:16.484Z"
   },
   {
    "duration": 22826,
    "start_time": "2025-04-05T01:07:21.275Z"
   },
   {
    "duration": 22523,
    "start_time": "2025-04-05T01:07:44.103Z"
   },
   {
    "duration": 25256,
    "start_time": "2025-04-05T01:08:06.630Z"
   },
   {
    "duration": 179545,
    "start_time": "2025-04-05T01:08:31.888Z"
   },
   {
    "duration": 10,
    "start_time": "2025-04-05T01:11:31.435Z"
   },
   {
    "duration": 7986,
    "start_time": "2025-04-05T01:11:31.446Z"
   },
   {
    "duration": 8,
    "start_time": "2025-04-05T01:11:39.437Z"
   },
   {
    "duration": 1029,
    "start_time": "2025-04-05T01:11:54.690Z"
   },
   {
    "duration": 478,
    "start_time": "2025-04-05T01:11:55.721Z"
   },
   {
    "duration": 120,
    "start_time": "2025-04-05T01:11:56.201Z"
   },
   {
    "duration": 1471,
    "start_time": "2025-04-05T01:11:56.323Z"
   },
   {
    "duration": 69,
    "start_time": "2025-04-05T01:11:57.797Z"
   },
   {
    "duration": 149,
    "start_time": "2025-04-05T01:11:57.868Z"
   },
   {
    "duration": 327,
    "start_time": "2025-04-05T01:11:58.018Z"
   },
   {
    "duration": 185,
    "start_time": "2025-04-05T01:11:58.347Z"
   },
   {
    "duration": 55,
    "start_time": "2025-04-05T01:11:58.534Z"
   },
   {
    "duration": 194,
    "start_time": "2025-04-05T01:11:58.591Z"
   },
   {
    "duration": 138,
    "start_time": "2025-04-05T01:11:58.786Z"
   },
   {
    "duration": 156,
    "start_time": "2025-04-05T01:11:58.932Z"
   },
   {
    "duration": 293,
    "start_time": "2025-04-05T01:11:59.090Z"
   },
   {
    "duration": 307,
    "start_time": "2025-04-05T01:11:59.387Z"
   },
   {
    "duration": 63,
    "start_time": "2025-04-05T01:11:59.696Z"
   },
   {
    "duration": 384,
    "start_time": "2025-04-05T01:11:59.760Z"
   },
   {
    "duration": 13,
    "start_time": "2025-04-05T01:12:00.145Z"
   },
   {
    "duration": 334,
    "start_time": "2025-04-05T01:12:00.160Z"
   },
   {
    "duration": 1231,
    "start_time": "2025-04-05T01:12:00.496Z"
   },
   {
    "duration": 297,
    "start_time": "2025-04-05T01:12:01.731Z"
   },
   {
    "duration": 4812,
    "start_time": "2025-04-05T01:12:02.031Z"
   },
   {
    "duration": 22833,
    "start_time": "2025-04-05T01:12:06.845Z"
   },
   {
    "duration": 22069,
    "start_time": "2025-04-05T01:12:29.681Z"
   },
   {
    "duration": 25726,
    "start_time": "2025-04-05T01:12:51.752Z"
   },
   {
    "duration": 403466,
    "start_time": "2025-04-05T01:13:17.481Z"
   },
   {
    "duration": 3736,
    "start_time": "2025-04-05T01:20:00.949Z"
   },
   {
    "duration": 8561,
    "start_time": "2025-04-05T01:20:04.688Z"
   },
   {
    "duration": 81,
    "start_time": "2025-04-05T01:20:13.251Z"
   },
   {
    "duration": 280726,
    "start_time": "2025-04-05T01:20:13.334Z"
   },
   {
    "duration": 15762,
    "start_time": "2025-04-05T01:24:54.062Z"
   },
   {
    "duration": 7,
    "start_time": "2025-04-05T01:25:09.830Z"
   },
   {
    "duration": 133640,
    "start_time": "2025-04-05T01:25:09.839Z"
   },
   {
    "duration": 150549,
    "start_time": "2025-04-05T01:27:23.481Z"
   },
   {
    "duration": 172922,
    "start_time": "2025-04-05T01:29:54.032Z"
   },
   {
    "duration": 611350,
    "start_time": "2025-04-05T01:32:46.956Z"
   },
   {
    "duration": 37730,
    "start_time": "2025-04-05T01:42:58.308Z"
   },
   {
    "duration": 7,
    "start_time": "2025-04-05T01:43:36.040Z"
   },
   {
    "duration": 7,
    "start_time": "2025-04-05T01:43:36.049Z"
   },
   {
    "duration": 20191,
    "start_time": "2025-04-05T01:43:36.057Z"
   },
   {
    "duration": 3802,
    "start_time": "2025-04-05T01:43:56.251Z"
   },
   {
    "duration": 917957,
    "start_time": "2025-04-05T01:44:00.058Z"
   },
   {
    "duration": 290918,
    "start_time": "2025-04-05T01:59:18.017Z"
   },
   {
    "duration": 10,
    "start_time": "2025-04-05T02:04:08.936Z"
   },
   {
    "duration": 9,
    "start_time": "2025-04-05T02:04:08.948Z"
   },
   {
    "duration": 5218,
    "start_time": "2025-04-05T02:04:08.960Z"
   },
   {
    "duration": 2,
    "start_time": "2025-04-05T02:04:14.182Z"
   },
   {
    "duration": 5,
    "start_time": "2025-04-05T02:04:14.187Z"
   },
   {
    "duration": 37,
    "start_time": "2025-04-05T02:04:14.194Z"
   },
   {
    "duration": 3,
    "start_time": "2025-04-05T02:04:14.235Z"
   },
   {
    "duration": 16487,
    "start_time": "2025-04-05T02:04:14.244Z"
   },
   {
    "duration": 138119,
    "start_time": "2025-04-05T02:04:50.682Z"
   },
   {
    "duration": 4,
    "start_time": "2025-04-05T02:07:26.080Z"
   },
   {
    "duration": 266383,
    "start_time": "2025-04-05T02:07:54.137Z"
   },
   {
    "duration": 215926,
    "start_time": "2025-04-05T02:12:40.825Z"
   },
   {
    "duration": 160,
    "start_time": "2025-04-05T16:54:50.661Z"
   },
   {
    "duration": 2735,
    "start_time": "2025-04-05T16:54:54.986Z"
   },
   {
    "duration": 472,
    "start_time": "2025-04-05T16:54:57.723Z"
   },
   {
    "duration": 114,
    "start_time": "2025-04-05T16:54:58.197Z"
   },
   {
    "duration": 1362,
    "start_time": "2025-04-05T16:54:58.314Z"
   },
   {
    "duration": 72,
    "start_time": "2025-04-05T16:54:59.678Z"
   },
   {
    "duration": 155,
    "start_time": "2025-04-05T16:54:59.751Z"
   },
   {
    "duration": 345,
    "start_time": "2025-04-05T16:54:59.908Z"
   },
   {
    "duration": 192,
    "start_time": "2025-04-05T16:55:00.254Z"
   },
   {
    "duration": 37,
    "start_time": "2025-04-05T16:55:00.448Z"
   },
   {
    "duration": 192,
    "start_time": "2025-04-05T16:55:00.487Z"
   },
   {
    "duration": 195,
    "start_time": "2025-04-05T16:55:00.681Z"
   },
   {
    "duration": 167,
    "start_time": "2025-04-05T16:55:00.877Z"
   },
   {
    "duration": 319,
    "start_time": "2025-04-05T16:55:01.046Z"
   },
   {
    "duration": 304,
    "start_time": "2025-04-05T16:55:01.369Z"
   },
   {
    "duration": 65,
    "start_time": "2025-04-05T16:55:01.675Z"
   },
   {
    "duration": 379,
    "start_time": "2025-04-05T16:55:01.742Z"
   },
   {
    "duration": 10,
    "start_time": "2025-04-05T16:55:02.123Z"
   },
   {
    "duration": 337,
    "start_time": "2025-04-05T16:55:02.135Z"
   },
   {
    "duration": 1031,
    "start_time": "2025-04-05T16:55:02.474Z"
   },
   {
    "duration": 166,
    "start_time": "2025-04-05T16:55:03.507Z"
   },
   {
    "duration": 4665,
    "start_time": "2025-04-05T16:55:03.675Z"
   },
   {
    "duration": 22343,
    "start_time": "2025-04-05T16:55:08.342Z"
   },
   {
    "duration": 22369,
    "start_time": "2025-04-05T16:55:30.687Z"
   },
   {
    "duration": 25730,
    "start_time": "2025-04-05T16:55:53.058Z"
   },
   {
    "duration": 401293,
    "start_time": "2025-04-05T16:56:18.790Z"
   },
   {
    "duration": 3653,
    "start_time": "2025-04-05T17:03:00.085Z"
   },
   {
    "duration": 8193,
    "start_time": "2025-04-05T17:03:03.741Z"
   },
   {
    "duration": 8,
    "start_time": "2025-04-05T17:03:12.006Z"
   },
   {
    "duration": 281020,
    "start_time": "2025-04-05T17:03:12.016Z"
   },
   {
    "duration": 15890,
    "start_time": "2025-04-05T17:07:53.038Z"
   },
   {
    "duration": 6,
    "start_time": "2025-04-05T17:08:08.931Z"
   },
   {
    "duration": 133962,
    "start_time": "2025-04-05T17:08:08.939Z"
   },
   {
    "duration": 144963,
    "start_time": "2025-04-05T17:10:22.902Z"
   },
   {
    "duration": 157029,
    "start_time": "2025-04-05T17:12:47.867Z"
   },
   {
    "duration": 601509,
    "start_time": "2025-04-05T17:15:24.898Z"
   },
   {
    "duration": 37827,
    "start_time": "2025-04-05T17:25:26.409Z"
   },
   {
    "duration": 3,
    "start_time": "2025-04-05T17:26:04.238Z"
   },
   {
    "duration": 8,
    "start_time": "2025-04-05T17:26:04.242Z"
   },
   {
    "duration": 20373,
    "start_time": "2025-04-05T17:26:04.252Z"
   },
   {
    "duration": 3856,
    "start_time": "2025-04-05T17:26:24.627Z"
   },
   {
    "duration": 716198,
    "start_time": "2025-04-05T17:26:28.508Z"
   },
   {
    "duration": 24705,
    "start_time": "2025-04-05T17:38:24.707Z"
   },
   {
    "duration": 3,
    "start_time": "2025-04-05T17:38:49.415Z"
   },
   {
    "duration": 7,
    "start_time": "2025-04-05T17:38:49.420Z"
   },
   {
    "duration": 4979,
    "start_time": "2025-04-05T17:38:49.429Z"
   },
   {
    "duration": 2,
    "start_time": "2025-04-05T17:38:54.410Z"
   },
   {
    "duration": 5,
    "start_time": "2025-04-05T17:38:54.414Z"
   },
   {
    "duration": 3,
    "start_time": "2025-04-05T17:38:54.421Z"
   },
   {
    "duration": 4,
    "start_time": "2025-04-05T17:38:54.426Z"
   },
   {
    "duration": 8,
    "start_time": "2025-04-06T00:11:03.489Z"
   },
   {
    "duration": 4,
    "start_time": "2025-04-06T00:18:20.194Z"
   },
   {
    "duration": 2992,
    "start_time": "2025-04-07T19:30:36.295Z"
   },
   {
    "duration": 3,
    "start_time": "2025-04-07T19:32:44.111Z"
   },
   {
    "duration": 8,
    "start_time": "2025-04-07T19:32:46.863Z"
   },
   {
    "duration": 1130,
    "start_time": "2025-04-07T20:17:21.659Z"
   },
   {
    "duration": 531,
    "start_time": "2025-04-07T20:17:22.792Z"
   },
   {
    "duration": 121,
    "start_time": "2025-04-07T20:17:23.325Z"
   },
   {
    "duration": 1618,
    "start_time": "2025-04-07T20:17:23.448Z"
   },
   {
    "duration": 93,
    "start_time": "2025-04-07T20:17:25.069Z"
   },
   {
    "duration": 178,
    "start_time": "2025-04-07T20:17:25.170Z"
   },
   {
    "duration": 372,
    "start_time": "2025-04-07T20:17:25.350Z"
   },
   {
    "duration": 212,
    "start_time": "2025-04-07T20:17:25.724Z"
   },
   {
    "duration": 73,
    "start_time": "2025-04-07T20:17:25.938Z"
   },
   {
    "duration": 202,
    "start_time": "2025-04-07T20:17:26.013Z"
   },
   {
    "duration": 166,
    "start_time": "2025-04-07T20:17:26.217Z"
   },
   {
    "duration": 201,
    "start_time": "2025-04-07T20:17:26.385Z"
   },
   {
    "duration": 292,
    "start_time": "2025-04-07T20:17:26.587Z"
   },
   {
    "duration": 333,
    "start_time": "2025-04-07T20:17:26.884Z"
   },
   {
    "duration": 99,
    "start_time": "2025-04-07T20:17:27.221Z"
   },
   {
    "duration": 464,
    "start_time": "2025-04-07T20:17:27.323Z"
   },
   {
    "duration": 11,
    "start_time": "2025-04-07T20:17:27.789Z"
   },
   {
    "duration": 397,
    "start_time": "2025-04-07T20:17:27.801Z"
   },
   {
    "duration": 1219,
    "start_time": "2025-04-07T20:17:28.201Z"
   },
   {
    "duration": 281,
    "start_time": "2025-04-07T20:17:29.421Z"
   },
   {
    "duration": 5510,
    "start_time": "2025-04-07T20:17:29.704Z"
   },
   {
    "duration": 0,
    "start_time": "2025-04-07T20:17:35.216Z"
   },
   {
    "duration": 0,
    "start_time": "2025-04-07T20:17:35.217Z"
   },
   {
    "duration": 0,
    "start_time": "2025-04-07T20:17:35.218Z"
   },
   {
    "duration": 0,
    "start_time": "2025-04-07T20:17:35.220Z"
   },
   {
    "duration": 0,
    "start_time": "2025-04-07T20:17:35.221Z"
   },
   {
    "duration": 0,
    "start_time": "2025-04-07T20:17:35.222Z"
   },
   {
    "duration": 0,
    "start_time": "2025-04-07T20:17:35.223Z"
   },
   {
    "duration": 0,
    "start_time": "2025-04-07T20:17:35.224Z"
   },
   {
    "duration": 0,
    "start_time": "2025-04-07T20:17:35.225Z"
   },
   {
    "duration": 0,
    "start_time": "2025-04-07T20:17:35.243Z"
   },
   {
    "duration": 0,
    "start_time": "2025-04-07T20:17:35.244Z"
   },
   {
    "duration": 0,
    "start_time": "2025-04-07T20:17:35.245Z"
   },
   {
    "duration": 0,
    "start_time": "2025-04-07T20:17:35.247Z"
   },
   {
    "duration": 0,
    "start_time": "2025-04-07T20:17:35.248Z"
   },
   {
    "duration": 0,
    "start_time": "2025-04-07T20:17:35.249Z"
   },
   {
    "duration": 0,
    "start_time": "2025-04-07T20:17:35.251Z"
   },
   {
    "duration": 0,
    "start_time": "2025-04-07T20:17:35.252Z"
   },
   {
    "duration": 0,
    "start_time": "2025-04-07T20:17:35.253Z"
   },
   {
    "duration": 0,
    "start_time": "2025-04-07T20:17:35.255Z"
   },
   {
    "duration": 0,
    "start_time": "2025-04-07T20:17:35.256Z"
   },
   {
    "duration": 0,
    "start_time": "2025-04-07T20:17:35.257Z"
   },
   {
    "duration": 0,
    "start_time": "2025-04-07T20:17:35.259Z"
   },
   {
    "duration": 0,
    "start_time": "2025-04-07T20:17:35.261Z"
   },
   {
    "duration": 0,
    "start_time": "2025-04-07T20:17:35.262Z"
   },
   {
    "duration": 0,
    "start_time": "2025-04-07T20:17:35.263Z"
   },
   {
    "duration": 0,
    "start_time": "2025-04-07T20:17:35.264Z"
   },
   {
    "duration": 0,
    "start_time": "2025-04-07T20:17:35.265Z"
   },
   {
    "duration": 0,
    "start_time": "2025-04-07T20:17:35.267Z"
   },
   {
    "duration": 0,
    "start_time": "2025-04-07T20:17:35.268Z"
   },
   {
    "duration": 0,
    "start_time": "2025-04-07T20:17:35.270Z"
   },
   {
    "duration": 1090,
    "start_time": "2025-04-07T20:18:16.187Z"
   },
   {
    "duration": 459,
    "start_time": "2025-04-07T20:18:17.280Z"
   },
   {
    "duration": 116,
    "start_time": "2025-04-07T20:18:17.741Z"
   },
   {
    "duration": 1568,
    "start_time": "2025-04-07T20:18:17.859Z"
   },
   {
    "duration": 79,
    "start_time": "2025-04-07T20:18:19.444Z"
   },
   {
    "duration": 195,
    "start_time": "2025-04-07T20:18:19.526Z"
   },
   {
    "duration": 399,
    "start_time": "2025-04-07T20:18:19.723Z"
   },
   {
    "duration": 249,
    "start_time": "2025-04-07T20:18:20.125Z"
   },
   {
    "duration": 51,
    "start_time": "2025-04-07T20:18:20.382Z"
   },
   {
    "duration": 214,
    "start_time": "2025-04-07T20:18:20.436Z"
   },
   {
    "duration": 145,
    "start_time": "2025-04-07T20:18:20.652Z"
   },
   {
    "duration": 188,
    "start_time": "2025-04-07T20:18:20.799Z"
   },
   {
    "duration": 291,
    "start_time": "2025-04-07T20:18:20.989Z"
   },
   {
    "duration": 336,
    "start_time": "2025-04-07T20:18:21.282Z"
   },
   {
    "duration": 72,
    "start_time": "2025-04-07T20:18:21.621Z"
   },
   {
    "duration": 415,
    "start_time": "2025-04-07T20:18:21.696Z"
   },
   {
    "duration": 11,
    "start_time": "2025-04-07T20:18:22.113Z"
   },
   {
    "duration": 379,
    "start_time": "2025-04-07T20:18:22.125Z"
   },
   {
    "duration": 1196,
    "start_time": "2025-04-07T20:18:22.506Z"
   },
   {
    "duration": 271,
    "start_time": "2025-04-07T20:18:23.704Z"
   },
   {
    "duration": 5221,
    "start_time": "2025-04-07T20:18:23.976Z"
   },
   {
    "duration": 25897,
    "start_time": "2025-04-07T20:18:29.199Z"
   },
   {
    "duration": 25319,
    "start_time": "2025-04-07T20:18:55.098Z"
   },
   {
    "duration": 29065,
    "start_time": "2025-04-07T20:19:20.419Z"
   },
   {
    "duration": 27919,
    "start_time": "2025-04-07T20:19:49.486Z"
   },
   {
    "duration": 0,
    "start_time": "2025-04-07T20:20:17.409Z"
   },
   {
    "duration": 0,
    "start_time": "2025-04-07T20:20:17.410Z"
   },
   {
    "duration": 0,
    "start_time": "2025-04-07T20:20:17.412Z"
   },
   {
    "duration": 0,
    "start_time": "2025-04-07T20:20:17.413Z"
   },
   {
    "duration": 0,
    "start_time": "2025-04-07T20:20:17.415Z"
   },
   {
    "duration": 0,
    "start_time": "2025-04-07T20:20:17.416Z"
   },
   {
    "duration": 0,
    "start_time": "2025-04-07T20:20:17.417Z"
   },
   {
    "duration": 0,
    "start_time": "2025-04-07T20:20:17.419Z"
   },
   {
    "duration": 0,
    "start_time": "2025-04-07T20:20:17.420Z"
   },
   {
    "duration": 0,
    "start_time": "2025-04-07T20:20:17.422Z"
   },
   {
    "duration": 0,
    "start_time": "2025-04-07T20:20:17.446Z"
   },
   {
    "duration": 0,
    "start_time": "2025-04-07T20:20:17.447Z"
   },
   {
    "duration": 0,
    "start_time": "2025-04-07T20:20:17.448Z"
   },
   {
    "duration": 0,
    "start_time": "2025-04-07T20:20:17.449Z"
   },
   {
    "duration": 0,
    "start_time": "2025-04-07T20:20:17.458Z"
   },
   {
    "duration": 0,
    "start_time": "2025-04-07T20:20:17.459Z"
   },
   {
    "duration": 0,
    "start_time": "2025-04-07T20:20:17.470Z"
   },
   {
    "duration": 0,
    "start_time": "2025-04-07T20:20:17.474Z"
   },
   {
    "duration": 0,
    "start_time": "2025-04-07T20:20:17.479Z"
   },
   {
    "duration": 0,
    "start_time": "2025-04-07T20:20:17.483Z"
   },
   {
    "duration": 0,
    "start_time": "2025-04-07T20:20:17.484Z"
   },
   {
    "duration": 0,
    "start_time": "2025-04-07T20:20:17.486Z"
   },
   {
    "duration": 0,
    "start_time": "2025-04-07T20:20:17.487Z"
   },
   {
    "duration": 0,
    "start_time": "2025-04-07T20:20:17.488Z"
   },
   {
    "duration": 0,
    "start_time": "2025-04-07T20:20:17.489Z"
   },
   {
    "duration": 0,
    "start_time": "2025-04-07T20:20:17.490Z"
   },
   {
    "duration": 1097,
    "start_time": "2025-04-07T20:20:23.300Z"
   },
   {
    "duration": 510,
    "start_time": "2025-04-07T20:20:24.399Z"
   },
   {
    "duration": 114,
    "start_time": "2025-04-07T20:20:24.911Z"
   },
   {
    "duration": 1552,
    "start_time": "2025-04-07T20:20:25.027Z"
   },
   {
    "duration": 99,
    "start_time": "2025-04-07T20:20:26.581Z"
   },
   {
    "duration": 155,
    "start_time": "2025-04-07T20:20:26.682Z"
   },
   {
    "duration": 388,
    "start_time": "2025-04-07T20:20:26.839Z"
   },
   {
    "duration": 208,
    "start_time": "2025-04-07T20:20:27.229Z"
   },
   {
    "duration": 65,
    "start_time": "2025-04-07T20:20:27.439Z"
   },
   {
    "duration": 191,
    "start_time": "2025-04-07T20:20:27.507Z"
   },
   {
    "duration": 163,
    "start_time": "2025-04-07T20:20:27.700Z"
   },
   {
    "duration": 201,
    "start_time": "2025-04-07T20:20:27.865Z"
   },
   {
    "duration": 232,
    "start_time": "2025-04-07T20:20:28.068Z"
   },
   {
    "duration": 325,
    "start_time": "2025-04-07T20:20:28.301Z"
   },
   {
    "duration": 74,
    "start_time": "2025-04-07T20:20:28.628Z"
   },
   {
    "duration": 467,
    "start_time": "2025-04-07T20:20:28.704Z"
   },
   {
    "duration": 12,
    "start_time": "2025-04-07T20:20:29.173Z"
   },
   {
    "duration": 407,
    "start_time": "2025-04-07T20:20:29.186Z"
   },
   {
    "duration": 1235,
    "start_time": "2025-04-07T20:20:29.595Z"
   },
   {
    "duration": 295,
    "start_time": "2025-04-07T20:20:30.832Z"
   },
   {
    "duration": 5207,
    "start_time": "2025-04-07T20:20:31.128Z"
   },
   {
    "duration": 25739,
    "start_time": "2025-04-07T20:20:36.337Z"
   },
   {
    "duration": 25589,
    "start_time": "2025-04-07T20:21:02.077Z"
   },
   {
    "duration": 28851,
    "start_time": "2025-04-07T20:21:27.675Z"
   },
   {
    "duration": 457504,
    "start_time": "2025-04-07T20:21:56.528Z"
   },
   {
    "duration": 21,
    "start_time": "2025-04-07T20:29:34.033Z"
   },
   {
    "duration": 0,
    "start_time": "2025-04-07T20:29:34.067Z"
   },
   {
    "duration": 0,
    "start_time": "2025-04-07T20:29:34.069Z"
   },
   {
    "duration": 0,
    "start_time": "2025-04-07T20:29:34.070Z"
   },
   {
    "duration": 0,
    "start_time": "2025-04-07T20:29:34.071Z"
   },
   {
    "duration": 0,
    "start_time": "2025-04-07T20:29:34.072Z"
   },
   {
    "duration": 0,
    "start_time": "2025-04-07T20:29:34.073Z"
   },
   {
    "duration": 0,
    "start_time": "2025-04-07T20:29:34.075Z"
   },
   {
    "duration": 0,
    "start_time": "2025-04-07T20:29:34.076Z"
   },
   {
    "duration": 0,
    "start_time": "2025-04-07T20:29:34.077Z"
   },
   {
    "duration": 0,
    "start_time": "2025-04-07T20:29:34.078Z"
   },
   {
    "duration": 0,
    "start_time": "2025-04-07T20:29:34.080Z"
   },
   {
    "duration": 0,
    "start_time": "2025-04-07T20:29:34.082Z"
   },
   {
    "duration": 0,
    "start_time": "2025-04-07T20:29:34.083Z"
   },
   {
    "duration": 0,
    "start_time": "2025-04-07T20:29:34.086Z"
   },
   {
    "duration": 0,
    "start_time": "2025-04-07T20:29:34.087Z"
   },
   {
    "duration": 0,
    "start_time": "2025-04-07T20:29:34.088Z"
   },
   {
    "duration": 0,
    "start_time": "2025-04-07T20:29:34.089Z"
   },
   {
    "duration": 0,
    "start_time": "2025-04-07T20:29:34.090Z"
   },
   {
    "duration": 0,
    "start_time": "2025-04-07T20:29:34.091Z"
   },
   {
    "duration": 0,
    "start_time": "2025-04-07T20:29:34.092Z"
   },
   {
    "duration": 0,
    "start_time": "2025-04-07T20:29:34.093Z"
   },
   {
    "duration": 0,
    "start_time": "2025-04-07T20:29:34.094Z"
   },
   {
    "duration": 0,
    "start_time": "2025-04-07T20:29:34.095Z"
   },
   {
    "duration": 0,
    "start_time": "2025-04-07T20:29:34.096Z"
   },
   {
    "duration": 0,
    "start_time": "2025-04-07T20:29:34.097Z"
   },
   {
    "duration": 5497,
    "start_time": "2025-04-07T20:29:51.485Z"
   },
   {
    "duration": 12646,
    "start_time": "2025-04-07T20:30:05.242Z"
   },
   {
    "duration": 63,
    "start_time": "2025-04-07T20:30:17.891Z"
   },
   {
    "duration": 335,
    "start_time": "2025-04-07T20:30:17.956Z"
   },
   {
    "duration": 0,
    "start_time": "2025-04-07T20:30:18.295Z"
   },
   {
    "duration": 0,
    "start_time": "2025-04-07T20:30:18.297Z"
   },
   {
    "duration": 0,
    "start_time": "2025-04-07T20:30:18.298Z"
   },
   {
    "duration": 0,
    "start_time": "2025-04-07T20:30:18.299Z"
   },
   {
    "duration": 0,
    "start_time": "2025-04-07T20:30:18.301Z"
   },
   {
    "duration": 0,
    "start_time": "2025-04-07T20:30:18.302Z"
   },
   {
    "duration": 0,
    "start_time": "2025-04-07T20:30:18.303Z"
   },
   {
    "duration": 0,
    "start_time": "2025-04-07T20:30:18.304Z"
   },
   {
    "duration": 0,
    "start_time": "2025-04-07T20:30:18.306Z"
   },
   {
    "duration": 0,
    "start_time": "2025-04-07T20:30:18.307Z"
   },
   {
    "duration": 0,
    "start_time": "2025-04-07T20:30:18.308Z"
   },
   {
    "duration": 0,
    "start_time": "2025-04-07T20:30:18.309Z"
   },
   {
    "duration": 0,
    "start_time": "2025-04-07T20:30:18.310Z"
   },
   {
    "duration": 0,
    "start_time": "2025-04-07T20:30:18.313Z"
   },
   {
    "duration": 0,
    "start_time": "2025-04-07T20:30:18.315Z"
   },
   {
    "duration": 0,
    "start_time": "2025-04-07T20:30:18.315Z"
   },
   {
    "duration": 0,
    "start_time": "2025-04-07T20:30:18.318Z"
   },
   {
    "duration": 0,
    "start_time": "2025-04-07T20:30:18.350Z"
   },
   {
    "duration": 0,
    "start_time": "2025-04-07T20:30:18.351Z"
   },
   {
    "duration": 0,
    "start_time": "2025-04-07T20:30:18.352Z"
   },
   {
    "duration": 0,
    "start_time": "2025-04-07T20:30:18.353Z"
   },
   {
    "duration": 0,
    "start_time": "2025-04-07T20:30:18.353Z"
   },
   {
    "duration": 8,
    "start_time": "2025-04-07T20:31:19.300Z"
   },
   {
    "duration": 231720,
    "start_time": "2025-04-07T20:31:39.659Z"
   },
   {
    "duration": 0,
    "start_time": "2025-04-07T20:35:31.382Z"
   },
   {
    "duration": 0,
    "start_time": "2025-04-07T20:35:31.383Z"
   },
   {
    "duration": 0,
    "start_time": "2025-04-07T20:35:31.385Z"
   },
   {
    "duration": 0,
    "start_time": "2025-04-07T20:35:31.386Z"
   },
   {
    "duration": 0,
    "start_time": "2025-04-07T20:35:31.387Z"
   },
   {
    "duration": 0,
    "start_time": "2025-04-07T20:35:31.388Z"
   },
   {
    "duration": 0,
    "start_time": "2025-04-07T20:35:31.389Z"
   },
   {
    "duration": 0,
    "start_time": "2025-04-07T20:35:31.390Z"
   },
   {
    "duration": 0,
    "start_time": "2025-04-07T20:35:31.391Z"
   },
   {
    "duration": 0,
    "start_time": "2025-04-07T20:35:31.392Z"
   },
   {
    "duration": 0,
    "start_time": "2025-04-07T20:35:31.393Z"
   },
   {
    "duration": 0,
    "start_time": "2025-04-07T20:35:31.394Z"
   },
   {
    "duration": 0,
    "start_time": "2025-04-07T20:35:31.396Z"
   },
   {
    "duration": 0,
    "start_time": "2025-04-07T20:35:31.397Z"
   },
   {
    "duration": 0,
    "start_time": "2025-04-07T20:35:31.398Z"
   },
   {
    "duration": 0,
    "start_time": "2025-04-07T20:35:31.399Z"
   },
   {
    "duration": 0,
    "start_time": "2025-04-07T20:35:31.400Z"
   },
   {
    "duration": 0,
    "start_time": "2025-04-07T20:35:31.401Z"
   },
   {
    "duration": 0,
    "start_time": "2025-04-07T20:35:31.402Z"
   },
   {
    "duration": 0,
    "start_time": "2025-04-07T20:35:31.403Z"
   },
   {
    "duration": 0,
    "start_time": "2025-04-07T20:35:31.404Z"
   },
   {
    "duration": 1183,
    "start_time": "2025-04-07T20:35:40.463Z"
   },
   {
    "duration": 497,
    "start_time": "2025-04-07T20:35:41.665Z"
   },
   {
    "duration": 124,
    "start_time": "2025-04-07T20:35:42.171Z"
   },
   {
    "duration": 1640,
    "start_time": "2025-04-07T20:35:42.297Z"
   },
   {
    "duration": 98,
    "start_time": "2025-04-07T20:35:43.943Z"
   },
   {
    "duration": 197,
    "start_time": "2025-04-07T20:35:44.043Z"
   },
   {
    "duration": 444,
    "start_time": "2025-04-07T20:35:44.246Z"
   },
   {
    "duration": 211,
    "start_time": "2025-04-07T20:35:44.692Z"
   },
   {
    "duration": 66,
    "start_time": "2025-04-07T20:35:44.906Z"
   },
   {
    "duration": 220,
    "start_time": "2025-04-07T20:35:44.974Z"
   },
   {
    "duration": 144,
    "start_time": "2025-04-07T20:35:45.197Z"
   },
   {
    "duration": 179,
    "start_time": "2025-04-07T20:35:45.343Z"
   },
   {
    "duration": 270,
    "start_time": "2025-04-07T20:35:45.524Z"
   },
   {
    "duration": 350,
    "start_time": "2025-04-07T20:35:45.799Z"
   },
   {
    "duration": 109,
    "start_time": "2025-04-07T20:35:46.153Z"
   },
   {
    "duration": 455,
    "start_time": "2025-04-07T20:35:46.281Z"
   },
   {
    "duration": 33,
    "start_time": "2025-04-07T20:35:46.738Z"
   },
   {
    "duration": 420,
    "start_time": "2025-04-07T20:35:46.776Z"
   },
   {
    "duration": 1268,
    "start_time": "2025-04-07T20:35:47.198Z"
   },
   {
    "duration": 290,
    "start_time": "2025-04-07T20:35:48.476Z"
   },
   {
    "duration": 5629,
    "start_time": "2025-04-07T20:35:48.770Z"
   },
   {
    "duration": 0,
    "start_time": "2025-04-07T20:35:54.401Z"
   },
   {
    "duration": 0,
    "start_time": "2025-04-07T20:35:54.403Z"
   },
   {
    "duration": 0,
    "start_time": "2025-04-07T20:35:54.404Z"
   },
   {
    "duration": 0,
    "start_time": "2025-04-07T20:35:54.405Z"
   },
   {
    "duration": 0,
    "start_time": "2025-04-07T20:35:54.407Z"
   },
   {
    "duration": 0,
    "start_time": "2025-04-07T20:35:54.407Z"
   },
   {
    "duration": 0,
    "start_time": "2025-04-07T20:35:54.408Z"
   },
   {
    "duration": 0,
    "start_time": "2025-04-07T20:35:54.409Z"
   },
   {
    "duration": 0,
    "start_time": "2025-04-07T20:35:54.410Z"
   },
   {
    "duration": 0,
    "start_time": "2025-04-07T20:35:54.411Z"
   },
   {
    "duration": 0,
    "start_time": "2025-04-07T20:35:54.413Z"
   },
   {
    "duration": 0,
    "start_time": "2025-04-07T20:35:54.414Z"
   },
   {
    "duration": 0,
    "start_time": "2025-04-07T20:35:54.415Z"
   },
   {
    "duration": 0,
    "start_time": "2025-04-07T20:35:54.416Z"
   },
   {
    "duration": 0,
    "start_time": "2025-04-07T20:35:54.442Z"
   },
   {
    "duration": 0,
    "start_time": "2025-04-07T20:35:54.444Z"
   },
   {
    "duration": 0,
    "start_time": "2025-04-07T20:35:54.446Z"
   },
   {
    "duration": 0,
    "start_time": "2025-04-07T20:35:54.451Z"
   },
   {
    "duration": 0,
    "start_time": "2025-04-07T20:35:54.452Z"
   },
   {
    "duration": 0,
    "start_time": "2025-04-07T20:35:54.453Z"
   },
   {
    "duration": 0,
    "start_time": "2025-04-07T20:35:54.458Z"
   },
   {
    "duration": 0,
    "start_time": "2025-04-07T20:35:54.461Z"
   },
   {
    "duration": 0,
    "start_time": "2025-04-07T20:35:54.462Z"
   },
   {
    "duration": 0,
    "start_time": "2025-04-07T20:35:54.463Z"
   },
   {
    "duration": 0,
    "start_time": "2025-04-07T20:35:54.464Z"
   },
   {
    "duration": 0,
    "start_time": "2025-04-07T20:35:54.465Z"
   },
   {
    "duration": 0,
    "start_time": "2025-04-07T20:35:54.470Z"
   },
   {
    "duration": 0,
    "start_time": "2025-04-07T20:35:54.471Z"
   },
   {
    "duration": 0,
    "start_time": "2025-04-07T20:35:54.472Z"
   },
   {
    "duration": 0,
    "start_time": "2025-04-07T20:35:54.473Z"
   },
   {
    "duration": 5534,
    "start_time": "2025-04-07T20:42:32.895Z"
   },
   {
    "duration": 0,
    "start_time": "2025-04-07T20:42:38.432Z"
   },
   {
    "duration": 0,
    "start_time": "2025-04-07T20:42:38.433Z"
   },
   {
    "duration": 0,
    "start_time": "2025-04-07T20:42:38.434Z"
   },
   {
    "duration": 0,
    "start_time": "2025-04-07T20:42:38.434Z"
   },
   {
    "duration": 0,
    "start_time": "2025-04-07T20:42:38.435Z"
   },
   {
    "duration": 0,
    "start_time": "2025-04-07T20:42:38.436Z"
   },
   {
    "duration": 0,
    "start_time": "2025-04-07T20:42:38.436Z"
   },
   {
    "duration": 0,
    "start_time": "2025-04-07T20:42:38.437Z"
   },
   {
    "duration": 0,
    "start_time": "2025-04-07T20:42:38.438Z"
   },
   {
    "duration": 0,
    "start_time": "2025-04-07T20:42:38.466Z"
   },
   {
    "duration": 0,
    "start_time": "2025-04-07T20:42:38.470Z"
   },
   {
    "duration": 0,
    "start_time": "2025-04-07T20:42:38.472Z"
   },
   {
    "duration": 0,
    "start_time": "2025-04-07T20:42:38.473Z"
   },
   {
    "duration": 0,
    "start_time": "2025-04-07T20:42:38.474Z"
   },
   {
    "duration": 1,
    "start_time": "2025-04-07T20:42:38.475Z"
   },
   {
    "duration": 0,
    "start_time": "2025-04-07T20:42:38.477Z"
   },
   {
    "duration": 0,
    "start_time": "2025-04-07T20:42:38.479Z"
   },
   {
    "duration": 0,
    "start_time": "2025-04-07T20:42:38.480Z"
   },
   {
    "duration": 0,
    "start_time": "2025-04-07T20:42:38.482Z"
   },
   {
    "duration": 0,
    "start_time": "2025-04-07T20:42:38.483Z"
   },
   {
    "duration": 0,
    "start_time": "2025-04-07T20:42:38.485Z"
   },
   {
    "duration": 0,
    "start_time": "2025-04-07T20:42:38.486Z"
   },
   {
    "duration": 0,
    "start_time": "2025-04-07T20:42:38.488Z"
   },
   {
    "duration": 0,
    "start_time": "2025-04-07T20:42:38.489Z"
   },
   {
    "duration": 0,
    "start_time": "2025-04-07T20:42:38.491Z"
   },
   {
    "duration": 0,
    "start_time": "2025-04-07T20:42:38.492Z"
   },
   {
    "duration": 0,
    "start_time": "2025-04-07T20:42:38.493Z"
   },
   {
    "duration": 0,
    "start_time": "2025-04-07T20:42:38.495Z"
   },
   {
    "duration": 0,
    "start_time": "2025-04-07T20:42:38.496Z"
   },
   {
    "duration": 0,
    "start_time": "2025-04-07T20:42:38.497Z"
   },
   {
    "duration": 5282,
    "start_time": "2025-04-07T20:43:36.137Z"
   },
   {
    "duration": 25881,
    "start_time": "2025-04-07T20:43:41.421Z"
   },
   {
    "duration": 25624,
    "start_time": "2025-04-07T20:44:07.304Z"
   },
   {
    "duration": 30042,
    "start_time": "2025-04-07T20:44:32.931Z"
   },
   {
    "duration": 474706,
    "start_time": "2025-04-07T20:45:02.977Z"
   },
   {
    "duration": 4785,
    "start_time": "2025-04-07T20:52:57.685Z"
   },
   {
    "duration": 11902,
    "start_time": "2025-04-07T20:53:02.471Z"
   },
   {
    "duration": 13,
    "start_time": "2025-04-07T20:53:14.375Z"
   },
   {
    "duration": 15,
    "start_time": "2025-04-07T20:53:14.458Z"
   },
   {
    "duration": 328085,
    "start_time": "2025-04-07T20:53:14.476Z"
   },
   {
    "duration": 18630,
    "start_time": "2025-04-07T20:58:42.566Z"
   },
   {
    "duration": 7,
    "start_time": "2025-04-07T20:59:01.198Z"
   },
   {
    "duration": 153205,
    "start_time": "2025-04-07T20:59:01.207Z"
   },
   {
    "duration": 175101,
    "start_time": "2025-04-07T21:01:34.414Z"
   },
   {
    "duration": 210190,
    "start_time": "2025-04-07T21:04:29.516Z"
   },
   {
    "duration": 720602,
    "start_time": "2025-04-07T21:07:59.708Z"
   },
   {
    "duration": 7,
    "start_time": "2025-04-07T21:20:00.312Z"
   },
   {
    "duration": 0,
    "start_time": "2025-04-07T21:20:00.321Z"
   },
   {
    "duration": 0,
    "start_time": "2025-04-07T21:20:00.323Z"
   },
   {
    "duration": 0,
    "start_time": "2025-04-07T21:20:00.324Z"
   },
   {
    "duration": 0,
    "start_time": "2025-04-07T21:20:00.326Z"
   },
   {
    "duration": 0,
    "start_time": "2025-04-07T21:20:00.327Z"
   },
   {
    "duration": 0,
    "start_time": "2025-04-07T21:20:00.327Z"
   },
   {
    "duration": 0,
    "start_time": "2025-04-07T21:20:00.328Z"
   },
   {
    "duration": 0,
    "start_time": "2025-04-07T21:20:00.329Z"
   },
   {
    "duration": 0,
    "start_time": "2025-04-07T21:20:00.329Z"
   },
   {
    "duration": 0,
    "start_time": "2025-04-07T21:20:00.345Z"
   },
   {
    "duration": 0,
    "start_time": "2025-04-07T21:20:00.346Z"
   },
   {
    "duration": 0,
    "start_time": "2025-04-07T21:20:00.347Z"
   },
   {
    "duration": 0,
    "start_time": "2025-04-07T21:20:00.348Z"
   },
   {
    "duration": 0,
    "start_time": "2025-04-07T21:20:00.351Z"
   },
   {
    "duration": 47034,
    "start_time": "2025-04-07T21:24:51.163Z"
   },
   {
    "duration": 6,
    "start_time": "2025-04-07T21:25:38.201Z"
   },
   {
    "duration": 58,
    "start_time": "2025-04-07T21:25:38.210Z"
   },
   {
    "duration": 0,
    "start_time": "2025-04-07T21:25:38.272Z"
   },
   {
    "duration": 0,
    "start_time": "2025-04-07T21:25:38.273Z"
   },
   {
    "duration": 0,
    "start_time": "2025-04-07T21:25:38.274Z"
   },
   {
    "duration": 0,
    "start_time": "2025-04-07T21:25:38.275Z"
   },
   {
    "duration": 0,
    "start_time": "2025-04-07T21:25:38.276Z"
   },
   {
    "duration": 0,
    "start_time": "2025-04-07T21:25:38.277Z"
   },
   {
    "duration": 0,
    "start_time": "2025-04-07T21:25:38.278Z"
   },
   {
    "duration": 0,
    "start_time": "2025-04-07T21:25:38.280Z"
   },
   {
    "duration": 0,
    "start_time": "2025-04-07T21:25:38.281Z"
   },
   {
    "duration": 0,
    "start_time": "2025-04-07T21:25:38.282Z"
   },
   {
    "duration": 0,
    "start_time": "2025-04-07T21:25:38.283Z"
   },
   {
    "duration": 0,
    "start_time": "2025-04-07T21:25:38.285Z"
   },
   {
    "duration": 10,
    "start_time": "2025-04-07T21:31:11.779Z"
   },
   {
    "duration": 134194,
    "start_time": "2025-04-07T21:31:11.792Z"
   },
   {
    "duration": 4000,
    "start_time": "2025-04-07T21:33:25.988Z"
   },
   {
    "duration": 1851658,
    "start_time": "2025-04-07T21:33:29.991Z"
   },
   {
    "duration": 28828,
    "start_time": "2025-04-07T22:04:21.651Z"
   },
   {
    "duration": 4,
    "start_time": "2025-04-07T22:04:50.482Z"
   },
   {
    "duration": 67,
    "start_time": "2025-04-07T22:04:50.488Z"
   },
   {
    "duration": 0,
    "start_time": "2025-04-07T22:04:50.557Z"
   },
   {
    "duration": 0,
    "start_time": "2025-04-07T22:04:50.558Z"
   },
   {
    "duration": 0,
    "start_time": "2025-04-07T22:04:50.560Z"
   },
   {
    "duration": 0,
    "start_time": "2025-04-07T22:04:50.562Z"
   },
   {
    "duration": 0,
    "start_time": "2025-04-07T22:04:50.563Z"
   },
   {
    "duration": 0,
    "start_time": "2025-04-07T22:04:50.564Z"
   },
   {
    "duration": 8,
    "start_time": "2025-04-07T22:06:58.903Z"
   },
   {
    "duration": 22476,
    "start_time": "2025-04-07T22:07:01.163Z"
   },
   {
    "duration": 19758,
    "start_time": "2025-04-07T22:08:31.122Z"
   },
   {
    "duration": 21847,
    "start_time": "2025-04-07T22:09:05.245Z"
   },
   {
    "duration": 21726,
    "start_time": "2025-04-07T22:10:46.740Z"
   },
   {
    "duration": 15,
    "start_time": "2025-04-07T22:11:37.236Z"
   },
   {
    "duration": 5,
    "start_time": "2025-04-07T22:11:40.201Z"
   },
   {
    "duration": 20192,
    "start_time": "2025-04-07T22:13:32.681Z"
   },
   {
    "duration": 19982,
    "start_time": "2025-04-07T22:15:01.391Z"
   },
   {
    "duration": 9,
    "start_time": "2025-04-07T22:16:13.658Z"
   },
   {
    "duration": 14,
    "start_time": "2025-04-07T22:16:13.669Z"
   },
   {
    "duration": 0,
    "start_time": "2025-04-07T22:16:13.684Z"
   },
   {
    "duration": 0,
    "start_time": "2025-04-07T22:16:13.687Z"
   },
   {
    "duration": 0,
    "start_time": "2025-04-07T22:16:13.688Z"
   },
   {
    "duration": 0,
    "start_time": "2025-04-07T22:16:13.690Z"
   },
   {
    "duration": 0,
    "start_time": "2025-04-07T22:16:13.691Z"
   },
   {
    "duration": 0,
    "start_time": "2025-04-07T22:16:13.693Z"
   },
   {
    "duration": 210,
    "start_time": "2025-04-07T22:17:07.618Z"
   },
   {
    "duration": 36,
    "start_time": "2025-04-07T22:17:14.331Z"
   },
   {
    "duration": 11,
    "start_time": "2025-04-07T22:20:24.621Z"
   },
   {
    "duration": 348,
    "start_time": "2025-04-07T22:20:25.272Z"
   },
   {
    "duration": 942,
    "start_time": "2025-04-07T22:20:27.602Z"
   },
   {
    "duration": 171,
    "start_time": "2025-04-07T22:20:30.718Z"
   },
   {
    "duration": 5,
    "start_time": "2025-04-07T22:20:48.611Z"
   },
   {
    "duration": 32489,
    "start_time": "2025-04-07T22:20:53.099Z"
   },
   {
    "duration": 27013,
    "start_time": "2025-04-07T22:21:43.274Z"
   },
   {
    "duration": 10,
    "start_time": "2025-04-07T22:22:13.798Z"
   },
   {
    "duration": 11,
    "start_time": "2025-04-07T22:22:21.270Z"
   }
  ],
  "kernelspec": {
   "display_name": "Python [conda env:base] *",
   "language": "python",
   "name": "conda-base-py"
  },
  "language_info": {
   "codemirror_mode": {
    "name": "ipython",
    "version": 3
   },
   "file_extension": ".py",
   "mimetype": "text/x-python",
   "name": "python",
   "nbconvert_exporter": "python",
   "pygments_lexer": "ipython3",
   "version": "3.12.3"
  },
  "toc": {
   "base_numbering": 1,
   "nav_menu": {},
   "number_sections": true,
   "sideBar": true,
   "skip_h1_title": true,
   "title_cell": "Table of Contents",
   "title_sidebar": "Contents",
   "toc_cell": false,
   "toc_position": {},
   "toc_section_display": true,
   "toc_window_display": false
  }
 },
 "nbformat": 4,
 "nbformat_minor": 4
}
