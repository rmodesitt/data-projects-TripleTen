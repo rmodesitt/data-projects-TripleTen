{
 "cells": [
  {
   "cell_type": "markdown",
   "metadata": {},
   "source": [
    "# Interconnect client churn Project Plan\n",
    "\n",
    "The telecom operator Interconnect would like to be able to forecast their churn of clients. If it's discovered that a user is planning to leave, Interconnect can offer promotional deals and special plan options to perhaps prevent the user from leaving their services. Based on current and past personal information of each client, including information about their plans and contracts, can machine learning assist in accurately predicting which users are close to discontinuing service? An acceptable model much yield an AUC-ROC of at least <b>0.75</b> to be promoted to production."
   ]
  },
  {
   "cell_type": "markdown",
   "metadata": {},
   "source": [
    "## Initialization"
   ]
  },
  {
   "cell_type": "code",
   "execution_count": 1,
   "metadata": {},
   "outputs": [],
   "source": [
    "# Import libaries and modules\n",
    "import pandas as pd\n",
    "import numpy as np\n",
    "import matplotlib.pyplot as plt\n",
    "from datetime import datetime as dt\n",
    "import seaborn as sns\n",
    "import warnings"
   ]
  },
  {
   "cell_type": "markdown",
   "metadata": {},
   "source": [
    "## Download data"
   ]
  },
  {
   "cell_type": "code",
   "execution_count": 2,
   "metadata": {},
   "outputs": [],
   "source": [
    "# Convert csv files into pandas DataFrames\n",
    "contract_url = 'https://raw.githubusercontent.com/rmodesitt/data-projects-TripleTen/refs/heads/main/telecom-client-churn/contract.csv'\n",
    "internet_url = 'https://raw.githubusercontent.com/rmodesitt/data-projects-TripleTen/refs/heads/main/telecom-client-churn/internet.csv'\n",
    "personal_url = 'https://raw.githubusercontent.com/rmodesitt/data-projects-TripleTen/refs/heads/main/telecom-client-churn/personal.csv'\n",
    "phone_url = 'https://raw.githubusercontent.com/rmodesitt/data-projects-TripleTen/refs/heads/main/telecom-client-churn/phone.csv'\n",
    "contract = pd.read_csv(contract_url)\n",
    "internet = pd.read_csv(internet_url)\n",
    "personal = pd.read_csv(personal_url)\n",
    "phone = pd.read_csv(phone_url)"
   ]
  },
  {
   "cell_type": "markdown",
   "metadata": {},
   "source": [
    "## Data overview"
   ]
  },
  {
   "cell_type": "markdown",
   "metadata": {},
   "source": [
    "### Contract dataset"
   ]
  },
  {
   "cell_type": "markdown",
   "metadata": {},
   "source": [
    "<b>General summary</b>"
   ]
  },
  {
   "cell_type": "code",
   "execution_count": 3,
   "metadata": {},
   "outputs": [
    {
     "name": "stdout",
     "output_type": "stream",
     "text": [
      "<class 'pandas.core.frame.DataFrame'>\n",
      "RangeIndex: 7043 entries, 0 to 7042\n",
      "Data columns (total 8 columns):\n",
      " #   Column            Non-Null Count  Dtype  \n",
      "---  ------            --------------  -----  \n",
      " 0   customerID        7043 non-null   object \n",
      " 1   BeginDate         7043 non-null   object \n",
      " 2   EndDate           7043 non-null   object \n",
      " 3   Type              7043 non-null   object \n",
      " 4   PaperlessBilling  7043 non-null   object \n",
      " 5   PaymentMethod     7043 non-null   object \n",
      " 6   MonthlyCharges    7043 non-null   float64\n",
      " 7   TotalCharges      7043 non-null   object \n",
      "dtypes: float64(1), object(7)\n",
      "memory usage: 440.3+ KB\n"
     ]
    },
    {
     "data": {
      "text/plain": [
       "None"
      ]
     },
     "metadata": {},
     "output_type": "display_data"
    },
    {
     "data": {
      "text/html": [
       "<div>\n",
       "<style scoped>\n",
       "    .dataframe tbody tr th:only-of-type {\n",
       "        vertical-align: middle;\n",
       "    }\n",
       "\n",
       "    .dataframe tbody tr th {\n",
       "        vertical-align: top;\n",
       "    }\n",
       "\n",
       "    .dataframe thead th {\n",
       "        text-align: right;\n",
       "    }\n",
       "</style>\n",
       "<table border=\"1\" class=\"dataframe\">\n",
       "  <thead>\n",
       "    <tr style=\"text-align: right;\">\n",
       "      <th></th>\n",
       "      <th>customerID</th>\n",
       "      <th>BeginDate</th>\n",
       "      <th>EndDate</th>\n",
       "      <th>Type</th>\n",
       "      <th>PaperlessBilling</th>\n",
       "      <th>PaymentMethod</th>\n",
       "      <th>MonthlyCharges</th>\n",
       "      <th>TotalCharges</th>\n",
       "    </tr>\n",
       "  </thead>\n",
       "  <tbody>\n",
       "    <tr>\n",
       "      <th>0</th>\n",
       "      <td>7590-VHVEG</td>\n",
       "      <td>2020-01-01</td>\n",
       "      <td>No</td>\n",
       "      <td>Month-to-month</td>\n",
       "      <td>Yes</td>\n",
       "      <td>Electronic check</td>\n",
       "      <td>29.85</td>\n",
       "      <td>29.85</td>\n",
       "    </tr>\n",
       "    <tr>\n",
       "      <th>1</th>\n",
       "      <td>5575-GNVDE</td>\n",
       "      <td>2017-04-01</td>\n",
       "      <td>No</td>\n",
       "      <td>One year</td>\n",
       "      <td>No</td>\n",
       "      <td>Mailed check</td>\n",
       "      <td>56.95</td>\n",
       "      <td>1889.5</td>\n",
       "    </tr>\n",
       "    <tr>\n",
       "      <th>2</th>\n",
       "      <td>3668-QPYBK</td>\n",
       "      <td>2019-10-01</td>\n",
       "      <td>2019-12-01 00:00:00</td>\n",
       "      <td>Month-to-month</td>\n",
       "      <td>Yes</td>\n",
       "      <td>Mailed check</td>\n",
       "      <td>53.85</td>\n",
       "      <td>108.15</td>\n",
       "    </tr>\n",
       "    <tr>\n",
       "      <th>3</th>\n",
       "      <td>7795-CFOCW</td>\n",
       "      <td>2016-05-01</td>\n",
       "      <td>No</td>\n",
       "      <td>One year</td>\n",
       "      <td>No</td>\n",
       "      <td>Bank transfer (automatic)</td>\n",
       "      <td>42.30</td>\n",
       "      <td>1840.75</td>\n",
       "    </tr>\n",
       "    <tr>\n",
       "      <th>4</th>\n",
       "      <td>9237-HQITU</td>\n",
       "      <td>2019-09-01</td>\n",
       "      <td>2019-11-01 00:00:00</td>\n",
       "      <td>Month-to-month</td>\n",
       "      <td>Yes</td>\n",
       "      <td>Electronic check</td>\n",
       "      <td>70.70</td>\n",
       "      <td>151.65</td>\n",
       "    </tr>\n",
       "  </tbody>\n",
       "</table>\n",
       "</div>"
      ],
      "text/plain": [
       "   customerID   BeginDate              EndDate            Type  \\\n",
       "0  7590-VHVEG  2020-01-01                   No  Month-to-month   \n",
       "1  5575-GNVDE  2017-04-01                   No        One year   \n",
       "2  3668-QPYBK  2019-10-01  2019-12-01 00:00:00  Month-to-month   \n",
       "3  7795-CFOCW  2016-05-01                   No        One year   \n",
       "4  9237-HQITU  2019-09-01  2019-11-01 00:00:00  Month-to-month   \n",
       "\n",
       "  PaperlessBilling              PaymentMethod  MonthlyCharges TotalCharges  \n",
       "0              Yes           Electronic check           29.85        29.85  \n",
       "1               No               Mailed check           56.95       1889.5  \n",
       "2              Yes               Mailed check           53.85       108.15  \n",
       "3               No  Bank transfer (automatic)           42.30      1840.75  \n",
       "4              Yes           Electronic check           70.70       151.65  "
      ]
     },
     "metadata": {},
     "output_type": "display_data"
    }
   ],
   "source": [
    "# General summary of DataFrame\n",
    "display(contract.info())\n",
    "display(contract.head())"
   ]
  },
  {
   "cell_type": "markdown",
   "metadata": {},
   "source": [
    "<b>Dataset contents and analysis</b>"
   ]
  },
  {
   "cell_type": "code",
   "execution_count": 4,
   "metadata": {},
   "outputs": [
    {
     "name": "stdout",
     "output_type": "stream",
     "text": [
      "Percentage of clients that are active: 0.7346301292063041\n"
     ]
    }
   ],
   "source": [
    "print('Percentage of clients that are active:', len(contract[contract['EndDate'] == 'No']) / len(contract['EndDate']))"
   ]
  },
  {
   "cell_type": "code",
   "execution_count": 5,
   "metadata": {},
   "outputs": [
    {
     "name": "stdout",
     "output_type": "stream",
     "text": [
      "TYPE value counts\n"
     ]
    },
    {
     "data": {
      "text/plain": [
       "Month-to-month    3875\n",
       "Two year          1695\n",
       "One year          1473\n",
       "Name: Type, dtype: int64"
      ]
     },
     "metadata": {},
     "output_type": "display_data"
    },
    {
     "data": {
      "image/png": "[encoded data removed]",
      "text/plain": [
       "<Figure size 640x480 with 1 Axes>"
      ]
     },
     "metadata": {},
     "output_type": "display_data"
    }
   ],
   "source": [
    "# Get value counts of Type field\n",
    "print('TYPE value counts')\n",
    "type_counts = contract['Type'].value_counts()\n",
    "display(type_counts)\n",
    "\n",
    "# Plot counts on a bar chart\n",
    "type_counts.plot(kind='bar', color=['royalblue', 'sandybrown', 'seagreen'])\n",
    "\n",
    "# Set title, axis labels, and tick information\n",
    "plt.title('Type value counts', fontweight='bold')\n",
    "plt.xlabel('Payment method', fontweight='bold')\n",
    "plt.ylabel('Count', fontweight='bold')\n",
    "\n",
    "xlabels = ['Month-to-month', 'One year', 'Two year']\n",
    "xpositions = [0, 1, 2]\n",
    "plt.xticks(xpositions, xlabels, fontsize=9, rotation=45)\n",
    "\n",
    "for i in range(3):\n",
    "    plt.text(i, type_counts[i], type_counts[i], ha='center', va='bottom', weight='bold')\n",
    "\n",
    "# Add gridlines to chart\n",
    "plt.grid(axis='y', linestyle='--', alpha=0.7)\n",
    "plt.gca().set_axisbelow(True)\n",
    "\n",
    "# Display results\n",
    "plt.show()"
   ]
  },
  {
   "cell_type": "code",
   "execution_count": 6,
   "metadata": {},
   "outputs": [
    {
     "name": "stdout",
     "output_type": "stream",
     "text": [
      "PAYMENTMETHOD value counts\n"
     ]
    },
    {
     "data": {
      "text/plain": [
       "Electronic check             2365\n",
       "Mailed check                 1612\n",
       "Bank transfer (automatic)    1544\n",
       "Credit card (automatic)      1522\n",
       "Name: PaymentMethod, dtype: int64"
      ]
     },
     "metadata": {},
     "output_type": "display_data"
    },
    {
     "data": {
      "image/png": "[encoded data removed]",
      "text/plain": [
       "<Figure size 640x480 with 1 Axes>"
      ]
     },
     "metadata": {},
     "output_type": "display_data"
    }
   ],
   "source": [
    "# Get value counts of PaymentMethod field\n",
    "print('PAYMENTMETHOD value counts')\n",
    "payment_method_counts = contract['PaymentMethod'].value_counts()\n",
    "display(payment_method_counts)\n",
    "\n",
    "# Plot counts on a bar chart\n",
    "payment_method_counts.plot(kind='bar', color=['royalblue', 'sandybrown', 'seagreen', 'khaki'])\n",
    "\n",
    "# Set title, axis labels, and tick information\n",
    "plt.title('Payment method value counts', fontweight='bold')\n",
    "plt.xlabel('Payment method', fontweight='bold')\n",
    "plt.ylabel('Count', fontweight='bold')\n",
    "\n",
    "xlabels = ['Electronic check', 'Mailed check', 'Bank transfer', 'Credit card']\n",
    "xpositions = [0, 1, 2, 3]\n",
    "plt.xticks(xpositions, xlabels, fontsize=9, rotation=45)\n",
    "\n",
    "for i in range(4):\n",
    "    plt.text(i, payment_method_counts[i], payment_method_counts[i], ha='center', va='bottom', weight='bold')\n",
    "\n",
    "# Add gridlines to chart\n",
    "plt.grid(axis='y', linestyle='--', alpha=0.7)\n",
    "plt.gca().set_axisbelow(True)\n",
    "\n",
    "# Display results\n",
    "plt.show()"
   ]
  },
  {
   "cell_type": "code",
   "execution_count": 7,
   "metadata": {},
   "outputs": [
    {
     "name": "stdout",
     "output_type": "stream",
     "text": [
      "BEGINDATE value counts\n"
     ]
    },
    {
     "data": {
      "text/plain": [
       "2014-02-01    366\n",
       "2019-10-01    237\n",
       "2019-09-01    237\n",
       "2019-11-01    237\n",
       "2020-01-01    233\n",
       "             ... \n",
       "2020-02-01     11\n",
       "2014-01-01      7\n",
       "2013-12-01      3\n",
       "2013-10-01      3\n",
       "2013-11-01      2\n",
       "Name: BeginDate, Length: 77, dtype: int64"
      ]
     },
     "metadata": {},
     "output_type": "display_data"
    },
    {
     "name": "stdout",
     "output_type": "stream",
     "text": [
      "First date a client joined: 2013-10-01\n",
      "Last date a client joined: 2020-02-01\n"
     ]
    },
    {
     "data": {
      "image/png": "[encoded data removed]",
      "text/plain": [
       "<Figure size 800x600 with 1 Axes>"
      ]
     },
     "metadata": {},
     "output_type": "display_data"
    }
   ],
   "source": [
    "# Get value counts of BeginDate field\n",
    "print('BEGINDATE value counts')\n",
    "begin_date_counts = contract['BeginDate'].value_counts()\n",
    "display(begin_date_counts)\n",
    "\n",
    "# Get min and max values - time range of dataset\n",
    "print('First date a client joined:', contract['BeginDate'].min())\n",
    "print('Last date a client joined:', contract['BeginDate'].max())\n",
    "\n",
    "# Reorganize value counts DataFrame\n",
    "begin_date_counts = begin_date_counts.reset_index().rename(columns={'index': 'Date', 'BeginDate': 'Count'}).sort_values('Date').reset_index(drop=True)\n",
    "begin_date_counts['Date'] = pd.to_datetime(begin_date_counts['Date'])\n",
    "\n",
    "# Plot counts on a line chart\n",
    "plt.figure(figsize=(8, 6))\n",
    "plt.plot(begin_date_counts['Date'], begin_date_counts['Count'], color='red', marker='o', markersize=5, linewidth=1.25)\n",
    "\n",
    "# Set title, axis labels, and tick information\n",
    "plt.title('New client progression', fontweight='bold')\n",
    "plt.xlabel('Year', fontweight='bold')\n",
    "plt.ylabel('# of clients', fontweight='bold')\n",
    "\n",
    "# Add gridlines to chart\n",
    "plt.grid(axis='both', linestyle='--', alpha=0.7)\n",
    "plt.gca().set_axisbelow(True)\n",
    "\n",
    "# Display results\n",
    "plt.show()"
   ]
  },
  {
   "cell_type": "markdown",
   "metadata": {},
   "source": [
    "This graph displays how many new clients register with Interconnect a monthly basis throughout time. There is an big initial spike of 350 customers in the beginning of 2014. This could represent the influx of customers companies sometimes get when a company first begins business. After this initial spike, the number of new clients per month remains steady between 50 to 100 customers for about 3 to 4 years. In 2018, the number of new clients starts to increase, exceeding 100 customers per month. At the end of 2019, there is another abrupt spike of new customers, reaching almost 250 customers the last several months."
   ]
  },
  {
   "cell_type": "code",
   "execution_count": 8,
   "metadata": {},
   "outputs": [
    {
     "data": {
      "text/plain": [
       "array([' ', '100.2', '100.25', ..., '999.45', '999.8', '999.9'],\n",
       "      dtype=object)"
      ]
     },
     "metadata": {},
     "output_type": "display_data"
    },
    {
     "name": "stdout",
     "output_type": "stream",
     "text": [
      "\n",
      "# of one space strings in the TotalCharges field: 11\n"
     ]
    }
   ],
   "source": [
    "# Idenify unique values of the TotalCharges field\n",
    "TotalCharges_unique = contract['TotalCharges'].unique()\n",
    "display(np.sort(TotalCharges_unique))\n",
    "print()\n",
    "print('# of one space strings in the TotalCharges field:', contract[contract['TotalCharges'] == ' '].count()['TotalCharges'])"
   ]
  },
  {
   "cell_type": "markdown",
   "metadata": {},
   "source": [
    "<b>Missing values</b>"
   ]
  },
  {
   "cell_type": "code",
   "execution_count": 9,
   "metadata": {},
   "outputs": [
    {
     "data": {
      "text/plain": [
       "customerID          0\n",
       "BeginDate           0\n",
       "EndDate             0\n",
       "Type                0\n",
       "PaperlessBilling    0\n",
       "PaymentMethod       0\n",
       "MonthlyCharges      0\n",
       "TotalCharges        0\n",
       "dtype: int64"
      ]
     },
     "metadata": {},
     "output_type": "display_data"
    }
   ],
   "source": [
    "# Identify missing values\n",
    "display(contract.isna().sum())"
   ]
  },
  {
   "cell_type": "markdown",
   "metadata": {},
   "source": [
    "<b>Duplicate values</b>"
   ]
  },
  {
   "cell_type": "code",
   "execution_count": 10,
   "metadata": {},
   "outputs": [
    {
     "name": "stdout",
     "output_type": "stream",
     "text": [
      "# of duplicate rows: 0\n",
      "# of duplicate customerIDs: 0\n"
     ]
    }
   ],
   "source": [
    "# Identify duplicate rows\n",
    "print('# of duplicate rows:', contract.duplicated().sum())\n",
    "\n",
    "# Identify duplicate customerIDs\n",
    "print('# of duplicate customerIDs:', contract['customerID'].duplicated().sum())"
   ]
  },
  {
   "cell_type": "markdown",
   "metadata": {},
   "source": [
    "<b>Observations about the contract dataset</b>\n",
    "\n",
    "In the contract dataset, there are 7043 records total. The dataset is imbalanced - over 73% of clients have not left the program. There are no missing values or duplicate values in the dataset.\n",
    "\n",
    "Tasks for data preprocessing:\n",
    "\n",
    "- Merge dataset with other datasets into one DataFrame via the <b><mark>customerID</mark></b> field\n",
    "- Reformat column names to all lowercase lettering\n",
    "- Convert <b><mark>BeginDate</mark></b> data type to datetime\n",
    "- Replace one space string records in <b><mark>TotalCharges</mark></b> field with <b><mark>MonthlyCharges</mark></b> value\n",
    "- Convert <b><mark>TotalCharges</mark></b> data type to float64\n",
    "\n",
    "Tasks for feature engineering:\n",
    "\n",
    "- Create a new boolean column (Yes / No) based on the <b><mark>EndDate</mark></b> field, indicating if the client has left or not\n",
    "- Apply one-hot encoding for the <b><mark>PaymentMethod</mark></b>, <b><mark>Type</mark></b>, and <b><mark>PaperlessBilling</mark></b> fields\n",
    "- Scale / standardize the <b><mark>MonthlyCharges</mark></b> and <b><mark>TotalCharges</mark></b> fields (feature scaling)\n",
    "- Check for seasonality and trends in data by month\n",
    "- Perform class imbalance fixing to target variable"
   ]
  },
  {
   "cell_type": "markdown",
   "metadata": {},
   "source": [
    "### Internet dataset"
   ]
  },
  {
   "cell_type": "markdown",
   "metadata": {},
   "source": [
    "<b>General summary</b>"
   ]
  },
  {
   "cell_type": "code",
   "execution_count": 11,
   "metadata": {},
   "outputs": [
    {
     "name": "stdout",
     "output_type": "stream",
     "text": [
      "<class 'pandas.core.frame.DataFrame'>\n",
      "RangeIndex: 5517 entries, 0 to 5516\n",
      "Data columns (total 8 columns):\n",
      " #   Column            Non-Null Count  Dtype \n",
      "---  ------            --------------  ----- \n",
      " 0   customerID        5517 non-null   object\n",
      " 1   InternetService   5517 non-null   object\n",
      " 2   OnlineSecurity    5517 non-null   object\n",
      " 3   OnlineBackup      5517 non-null   object\n",
      " 4   DeviceProtection  5517 non-null   object\n",
      " 5   TechSupport       5517 non-null   object\n",
      " 6   StreamingTV       5517 non-null   object\n",
      " 7   StreamingMovies   5517 non-null   object\n",
      "dtypes: object(8)\n",
      "memory usage: 344.9+ KB\n"
     ]
    },
    {
     "data": {
      "text/plain": [
       "None"
      ]
     },
     "metadata": {},
     "output_type": "display_data"
    },
    {
     "data": {
      "text/html": [
       "<div>\n",
       "<style scoped>\n",
       "    .dataframe tbody tr th:only-of-type {\n",
       "        vertical-align: middle;\n",
       "    }\n",
       "\n",
       "    .dataframe tbody tr th {\n",
       "        vertical-align: top;\n",
       "    }\n",
       "\n",
       "    .dataframe thead th {\n",
       "        text-align: right;\n",
       "    }\n",
       "</style>\n",
       "<table border=\"1\" class=\"dataframe\">\n",
       "  <thead>\n",
       "    <tr style=\"text-align: right;\">\n",
       "      <th></th>\n",
       "      <th>customerID</th>\n",
       "      <th>InternetService</th>\n",
       "      <th>OnlineSecurity</th>\n",
       "      <th>OnlineBackup</th>\n",
       "      <th>DeviceProtection</th>\n",
       "      <th>TechSupport</th>\n",
       "      <th>StreamingTV</th>\n",
       "      <th>StreamingMovies</th>\n",
       "    </tr>\n",
       "  </thead>\n",
       "  <tbody>\n",
       "    <tr>\n",
       "      <th>0</th>\n",
       "      <td>7590-VHVEG</td>\n",
       "      <td>DSL</td>\n",
       "      <td>No</td>\n",
       "      <td>Yes</td>\n",
       "      <td>No</td>\n",
       "      <td>No</td>\n",
       "      <td>No</td>\n",
       "      <td>No</td>\n",
       "    </tr>\n",
       "    <tr>\n",
       "      <th>1</th>\n",
       "      <td>5575-GNVDE</td>\n",
       "      <td>DSL</td>\n",
       "      <td>Yes</td>\n",
       "      <td>No</td>\n",
       "      <td>Yes</td>\n",
       "      <td>No</td>\n",
       "      <td>No</td>\n",
       "      <td>No</td>\n",
       "    </tr>\n",
       "    <tr>\n",
       "      <th>2</th>\n",
       "      <td>3668-QPYBK</td>\n",
       "      <td>DSL</td>\n",
       "      <td>Yes</td>\n",
       "      <td>Yes</td>\n",
       "      <td>No</td>\n",
       "      <td>No</td>\n",
       "      <td>No</td>\n",
       "      <td>No</td>\n",
       "    </tr>\n",
       "    <tr>\n",
       "      <th>3</th>\n",
       "      <td>7795-CFOCW</td>\n",
       "      <td>DSL</td>\n",
       "      <td>Yes</td>\n",
       "      <td>No</td>\n",
       "      <td>Yes</td>\n",
       "      <td>Yes</td>\n",
       "      <td>No</td>\n",
       "      <td>No</td>\n",
       "    </tr>\n",
       "    <tr>\n",
       "      <th>4</th>\n",
       "      <td>9237-HQITU</td>\n",
       "      <td>Fiber optic</td>\n",
       "      <td>No</td>\n",
       "      <td>No</td>\n",
       "      <td>No</td>\n",
       "      <td>No</td>\n",
       "      <td>No</td>\n",
       "      <td>No</td>\n",
       "    </tr>\n",
       "  </tbody>\n",
       "</table>\n",
       "</div>"
      ],
      "text/plain": [
       "   customerID InternetService OnlineSecurity OnlineBackup DeviceProtection  \\\n",
       "0  7590-VHVEG             DSL             No          Yes               No   \n",
       "1  5575-GNVDE             DSL            Yes           No              Yes   \n",
       "2  3668-QPYBK             DSL            Yes          Yes               No   \n",
       "3  7795-CFOCW             DSL            Yes           No              Yes   \n",
       "4  9237-HQITU     Fiber optic             No           No               No   \n",
       "\n",
       "  TechSupport StreamingTV StreamingMovies  \n",
       "0          No          No              No  \n",
       "1          No          No              No  \n",
       "2          No          No              No  \n",
       "3         Yes          No              No  \n",
       "4          No          No              No  "
      ]
     },
     "metadata": {},
     "output_type": "display_data"
    }
   ],
   "source": [
    "# General summary of DataFrame\n",
    "display(internet.info())\n",
    "display(internet.head())"
   ]
  },
  {
   "cell_type": "markdown",
   "metadata": {},
   "source": [
    "<b>Dataset contents and analysis</b>"
   ]
  },
  {
   "cell_type": "code",
   "execution_count": 12,
   "metadata": {},
   "outputs": [
    {
     "name": "stdout",
     "output_type": "stream",
     "text": [
      "INTERNETSERVICE value counts\n"
     ]
    },
    {
     "data": {
      "text/plain": [
       "Fiber optic    3096\n",
       "DSL            2421\n",
       "Name: InternetService, dtype: int64"
      ]
     },
     "metadata": {},
     "output_type": "display_data"
    },
    {
     "data": {
      "image/png": "[encoded data removed]",
      "text/plain": [
       "<Figure size 640x480 with 1 Axes>"
      ]
     },
     "metadata": {},
     "output_type": "display_data"
    }
   ],
   "source": [
    "# Get value counts of InternetService field\n",
    "print('INTERNETSERVICE value counts')\n",
    "internet_service_counts = internet['InternetService'].value_counts()\n",
    "display(internet_service_counts)\n",
    "\n",
    "# Plot counts on a bar chart\n",
    "internet_service_counts.plot(kind='bar', color=['royalblue', 'seagreen'])\n",
    "\n",
    "# Set title, axis labels, and tick information\n",
    "plt.title('Internet service value counts', fontweight='bold')\n",
    "plt.xlabel('Service type', fontweight='bold')\n",
    "plt.ylabel('Count', fontweight='bold')\n",
    "\n",
    "xlabels = ['Fiber optic', 'DSL']\n",
    "xpositions = [0, 1]\n",
    "plt.xticks(xpositions, xlabels, fontsize=9, rotation=45)\n",
    "\n",
    "for i in range(2):\n",
    "    plt.text(i, internet_service_counts[i], internet_service_counts[i], ha='center', va='bottom', weight='bold')\n",
    "\n",
    "# Add gridlines to chart\n",
    "plt.grid(axis='y', linestyle='--', alpha=0.7)\n",
    "plt.gca().set_axisbelow(True)\n",
    "\n",
    "# Display results\n",
    "plt.show()"
   ]
  },
  {
   "cell_type": "code",
   "execution_count": 13,
   "metadata": {},
   "outputs": [
    {
     "name": "stdout",
     "output_type": "stream",
     "text": [
      "        servicetype  totalcustomers  percentage\n",
      "0               DSL            2421          44\n",
      "1        FiberOptic            3096          56\n",
      "2    OnlineSecurity            2019          37\n",
      "3  DeviceProtection            2422          44\n",
      "4       TechSupport            2044          37\n",
      "5       StreamingTV            2707          49\n",
      "6   StreamingMovies            2732          50\n",
      "\n",
      "\n",
      "Internet service total: 5517\n"
     ]
    }
   ],
   "source": [
    "# Gather totals of each service that clients have\n",
    "# Get DSL and FiberOptic totals for InternetService\n",
    "DSL = 0\n",
    "FO = 0\n",
    "\n",
    "for i in internet['InternetService']:\n",
    "    if i == 'DSL':\n",
    "        DSL = DSL + 1\n",
    "    else:\n",
    "        FO = FO + 1\n",
    "\n",
    "internet_list = [DSL, FO]\n",
    "\n",
    "# Get totals for other services\n",
    "columns = ['OnlineSecurity', 'DeviceProtection', 'TechSupport', 'StreamingTV', 'StreamingMovies']\n",
    "other_services_list = []\n",
    "\n",
    "for column in columns:\n",
    "    total = internet[internet[column] == 'Yes'].count()[column]\n",
    "    other_services_list.append(total)\n",
    "\n",
    "# Combine both lists\n",
    "total_list = internet_list + other_services_list\n",
    "\n",
    "# Convert into a pandas DataFrame\n",
    "service_names = ['DSL', 'FiberOptic', 'OnlineSecurity', 'DeviceProtection', 'TechSupport', 'StreamingTV', 'StreamingMovies']\n",
    "services_df = pd.DataFrame({'servicetype': service_names, 'totalcustomers': total_list})\n",
    "\n",
    "# Add percentage column\n",
    "services_df['percentage'] = (round(services_df['totalcustomers'] / len(internet), 2) * 100).astype(int)\n",
    "\n",
    "# Display DataFrame\n",
    "print(services_df)\n",
    "print()\n",
    "print()\n",
    "print('Internet service total:', DSL + FO)"
   ]
  },
  {
   "cell_type": "code",
   "execution_count": 14,
   "metadata": {},
   "outputs": [
    {
     "data": {
      "image/png": "[encoded data removed]",
      "text/plain": [
       "<Figure size 640x480 with 1 Axes>"
      ]
     },
     "metadata": {},
     "output_type": "display_data"
    }
   ],
   "source": [
    "# Plot totals on a bar chart\n",
    "services_df.plot(x='servicetype', y='totalcustomers', kind='bar', color=['royalblue', 'sandybrown', 'seagreen', 'khaki', \n",
    "                                                                         'violet', 'indianred', 'darkgray'], legend=False)\n",
    "\n",
    "# Set title, axis labels and limits, and tick information\n",
    "plt.title('Internet services popularity', fontweight='bold')\n",
    "plt.xlabel('Service type', fontweight='bold')\n",
    "plt.ylabel('Total customers', fontweight='bold')\n",
    "plt.ylim(0, 7500)\n",
    "\n",
    "xpositions = [0, 1, 2, 3, 4, 5, 6]\n",
    "plt.xticks(xpositions, service_names, fontsize=8, rotation=45)\n",
    "\n",
    "for i in range(7):\n",
    "    plt.text(i, services_df['totalcustomers'][i], services_df['totalcustomers'][i], ha='center', va='bottom', weight='bold')\n",
    "    plt.text(i, services_df['totalcustomers'][i] + 300, str(services_df['percentage'][i]) + '%', ha='center', va='bottom')\n",
    "\n",
    "# Add horizontal line for total customers\n",
    "total_customers = len(contract)\n",
    "plt.axhline(y=total_customers, color='red', linestyle='--')\n",
    "\n",
    "# Add gridlines to chart\n",
    "plt.grid(axis='y', linestyle='--', alpha=0.7)\n",
    "plt.gca().set_axisbelow(True)\n",
    "\n",
    "# Display results\n",
    "plt.show()"
   ]
  },
  {
   "cell_type": "markdown",
   "metadata": {},
   "source": [
    "In this chart, the different services that Interconnect offers, and customers pay for, are compared to examine their popularity. What services do most customers prefer? Most people today need the internet for daily activities, so it makes sense that almost <b>80%</b> of clients have either <mark>DSL</mark> or <mark>Fiber Optic</mark> internet, with <mark>Fiber Optic</mark> being the most popular because of its speed and reliability. TV services are also very popular today, as it seen and proven by the <mark>Streaming TV</mark> and <mark>Streaming Movies</mark> categories representing the second tier of most popular Interconnect services. <mark>Online Security</mark>, <mark>Device Protection</mark>, and <mark>Tech Support</mark> are the least used and least popular services by customers as these services can be viewed as \"only when needed\" and add-on type services. "
   ]
  },
  {
   "cell_type": "markdown",
   "metadata": {},
   "source": [
    "<b>Missing values</b>"
   ]
  },
  {
   "cell_type": "code",
   "execution_count": 15,
   "metadata": {},
   "outputs": [
    {
     "data": {
      "text/plain": [
       "customerID          0\n",
       "InternetService     0\n",
       "OnlineSecurity      0\n",
       "OnlineBackup        0\n",
       "DeviceProtection    0\n",
       "TechSupport         0\n",
       "StreamingTV         0\n",
       "StreamingMovies     0\n",
       "dtype: int64"
      ]
     },
     "metadata": {},
     "output_type": "display_data"
    }
   ],
   "source": [
    "# Identify missing values\n",
    "display(internet.isna().sum())"
   ]
  },
  {
   "cell_type": "markdown",
   "metadata": {},
   "source": [
    "<b>Duplicate values</b>"
   ]
  },
  {
   "cell_type": "code",
   "execution_count": 16,
   "metadata": {},
   "outputs": [
    {
     "name": "stdout",
     "output_type": "stream",
     "text": [
      "# of duplicate rows: 0\n",
      "# of duplicate customerIDs: 0\n"
     ]
    }
   ],
   "source": [
    "# Identify duplicate rows\n",
    "print('# of duplicate rows:', internet.duplicated().sum())\n",
    "\n",
    "# Identify duplicate customerIDs\n",
    "print('# of duplicate customerIDs:', internet['customerID'].duplicated().sum())"
   ]
  },
  {
   "cell_type": "markdown",
   "metadata": {},
   "source": [
    "<b>Observations about the internet dataset</b>\n",
    "\n",
    "In the internet dataset, there are 5517 records. This is ~1500 records / clients less than the entire dataset. This means after all the datasets are merged together, there will be missing values for the ~1500 records for the fields from the internet dataset. Missing values resulting from the merge will need to be filled in with a different value. There are no missing values or duplicate values in the dataset.\n",
    "\n",
    "Tasks for data preprocessing:\n",
    "\n",
    "- Merge dataset with other datasets into one DataFrame via the <b><mark>customerID</mark></b> field\n",
    "- Fill in missing values with *Unknown* value after merge\n",
    "- Reformat column names to all lowercase lettering\n",
    "\n",
    "Tasks for feature engineering:\n",
    "\n",
    "- Apply one-hot encoding for the <b><mark>InternetService</mark></b>, <b><mark>OnlineSecurity</mark></b>, <b><mark>OnlineBackup</mark></b>, <b><mark>DeviceProtection</mark></b>, <b><mark>TechSupport</mark></b>, <b><mark>StreamingTV</mark></b>, and <b><mark>StreamingMovies</mark></b> fields"
   ]
  },
  {
   "cell_type": "markdown",
   "metadata": {},
   "source": [
    "### Personal dataset"
   ]
  },
  {
   "cell_type": "markdown",
   "metadata": {},
   "source": [
    "<b>General summary</b>"
   ]
  },
  {
   "cell_type": "code",
   "execution_count": 17,
   "metadata": {},
   "outputs": [
    {
     "name": "stdout",
     "output_type": "stream",
     "text": [
      "<class 'pandas.core.frame.DataFrame'>\n",
      "RangeIndex: 7043 entries, 0 to 7042\n",
      "Data columns (total 5 columns):\n",
      " #   Column         Non-Null Count  Dtype \n",
      "---  ------         --------------  ----- \n",
      " 0   customerID     7043 non-null   object\n",
      " 1   gender         7043 non-null   object\n",
      " 2   SeniorCitizen  7043 non-null   int64 \n",
      " 3   Partner        7043 non-null   object\n",
      " 4   Dependents     7043 non-null   object\n",
      "dtypes: int64(1), object(4)\n",
      "memory usage: 275.2+ KB\n"
     ]
    },
    {
     "data": {
      "text/plain": [
       "None"
      ]
     },
     "metadata": {},
     "output_type": "display_data"
    },
    {
     "data": {
      "text/html": [
       "<div>\n",
       "<style scoped>\n",
       "    .dataframe tbody tr th:only-of-type {\n",
       "        vertical-align: middle;\n",
       "    }\n",
       "\n",
       "    .dataframe tbody tr th {\n",
       "        vertical-align: top;\n",
       "    }\n",
       "\n",
       "    .dataframe thead th {\n",
       "        text-align: right;\n",
       "    }\n",
       "</style>\n",
       "<table border=\"1\" class=\"dataframe\">\n",
       "  <thead>\n",
       "    <tr style=\"text-align: right;\">\n",
       "      <th></th>\n",
       "      <th>customerID</th>\n",
       "      <th>gender</th>\n",
       "      <th>SeniorCitizen</th>\n",
       "      <th>Partner</th>\n",
       "      <th>Dependents</th>\n",
       "    </tr>\n",
       "  </thead>\n",
       "  <tbody>\n",
       "    <tr>\n",
       "      <th>0</th>\n",
       "      <td>7590-VHVEG</td>\n",
       "      <td>Female</td>\n",
       "      <td>0</td>\n",
       "      <td>Yes</td>\n",
       "      <td>No</td>\n",
       "    </tr>\n",
       "    <tr>\n",
       "      <th>1</th>\n",
       "      <td>5575-GNVDE</td>\n",
       "      <td>Male</td>\n",
       "      <td>0</td>\n",
       "      <td>No</td>\n",
       "      <td>No</td>\n",
       "    </tr>\n",
       "    <tr>\n",
       "      <th>2</th>\n",
       "      <td>3668-QPYBK</td>\n",
       "      <td>Male</td>\n",
       "      <td>0</td>\n",
       "      <td>No</td>\n",
       "      <td>No</td>\n",
       "    </tr>\n",
       "    <tr>\n",
       "      <th>3</th>\n",
       "      <td>7795-CFOCW</td>\n",
       "      <td>Male</td>\n",
       "      <td>0</td>\n",
       "      <td>No</td>\n",
       "      <td>No</td>\n",
       "    </tr>\n",
       "    <tr>\n",
       "      <th>4</th>\n",
       "      <td>9237-HQITU</td>\n",
       "      <td>Female</td>\n",
       "      <td>0</td>\n",
       "      <td>No</td>\n",
       "      <td>No</td>\n",
       "    </tr>\n",
       "  </tbody>\n",
       "</table>\n",
       "</div>"
      ],
      "text/plain": [
       "   customerID  gender  SeniorCitizen Partner Dependents\n",
       "0  7590-VHVEG  Female              0     Yes         No\n",
       "1  5575-GNVDE    Male              0      No         No\n",
       "2  3668-QPYBK    Male              0      No         No\n",
       "3  7795-CFOCW    Male              0      No         No\n",
       "4  9237-HQITU  Female              0      No         No"
      ]
     },
     "metadata": {},
     "output_type": "display_data"
    }
   ],
   "source": [
    "# General summary of DataFrame\n",
    "display(personal.info())\n",
    "display(personal.head())"
   ]
  },
  {
   "cell_type": "markdown",
   "metadata": {},
   "source": [
    "<b>Dataset contents and analysis</b>"
   ]
  },
  {
   "cell_type": "code",
   "execution_count": 18,
   "metadata": {},
   "outputs": [
    {
     "name": "stdout",
     "output_type": "stream",
     "text": [
      "GENDER value counts\n"
     ]
    },
    {
     "data": {
      "text/plain": [
       "Male      3555\n",
       "Female    3488\n",
       "Name: gender, dtype: int64"
      ]
     },
     "metadata": {},
     "output_type": "display_data"
    },
    {
     "data": {
      "image/png": "[encoded data removed]",
      "text/plain": [
       "<Figure size 640x480 with 1 Axes>"
      ]
     },
     "metadata": {},
     "output_type": "display_data"
    }
   ],
   "source": [
    "# Get value counts of Gender field\n",
    "print('GENDER value counts')\n",
    "gender_counts = personal['gender'].value_counts()\n",
    "display(gender_counts)\n",
    "\n",
    "# Plot counts on a bar chart\n",
    "gender_counts.plot(kind='bar', color=['royalblue', 'violet'])\n",
    "\n",
    "# Set title, axis labels, and tick information\n",
    "plt.title('Gender value counts', fontweight='bold')\n",
    "plt.xlabel('Gender', fontweight='bold')\n",
    "plt.ylabel('Count', fontweight='bold')\n",
    "\n",
    "xlabels = ['Male', 'Female']\n",
    "xpositions = [0, 1]\n",
    "plt.xticks(xpositions, xlabels, fontsize=9, rotation=45)\n",
    "\n",
    "for i in range(2):\n",
    "    plt.text(i, gender_counts[i], gender_counts[i], ha='center', va='bottom', weight='bold')\n",
    "\n",
    "# Add gridlines to chart\n",
    "plt.grid(axis='y', linestyle='--', alpha=0.7)\n",
    "plt.gca().set_axisbelow(True)\n",
    "\n",
    "# Display results\n",
    "plt.show()"
   ]
  },
  {
   "cell_type": "code",
   "execution_count": 19,
   "metadata": {},
   "outputs": [
    {
     "name": "stdout",
     "output_type": "stream",
     "text": [
      "[0 1]\n"
     ]
    }
   ],
   "source": [
    "# Get unique values for SeniorCitizen field\n",
    "print(personal['SeniorCitizen'].unique())"
   ]
  },
  {
   "cell_type": "markdown",
   "metadata": {},
   "source": [
    "<b>Missing values</b>"
   ]
  },
  {
   "cell_type": "code",
   "execution_count": 20,
   "metadata": {},
   "outputs": [
    {
     "data": {
      "text/plain": [
       "customerID       0\n",
       "gender           0\n",
       "SeniorCitizen    0\n",
       "Partner          0\n",
       "Dependents       0\n",
       "dtype: int64"
      ]
     },
     "metadata": {},
     "output_type": "display_data"
    }
   ],
   "source": [
    "# Identify missing values\n",
    "display(personal.isna().sum())"
   ]
  },
  {
   "cell_type": "markdown",
   "metadata": {},
   "source": [
    "<b>Duplicate values</b>"
   ]
  },
  {
   "cell_type": "code",
   "execution_count": 21,
   "metadata": {},
   "outputs": [
    {
     "name": "stdout",
     "output_type": "stream",
     "text": [
      "# of duplicate rows: 0\n",
      "# of duplicate customerIDs: 0\n"
     ]
    }
   ],
   "source": [
    "# Identify duplicate rows\n",
    "print('# of duplicate rows:', personal.duplicated().sum())\n",
    "\n",
    "# Identify duplicate customerIDs\n",
    "print('# of duplicate customerIDs:', personal['customerID'].duplicated().sum())"
   ]
  },
  {
   "cell_type": "markdown",
   "metadata": {},
   "source": [
    "<b>Observations about the personal dataset</b>\n",
    "\n",
    "In the personal dataset, there are 7043 records which represents the whole dataset. There are no missing values or duplicate values in the dataset.\n",
    "\n",
    "Tasks for data preprocessing:\n",
    "\n",
    "- Merge dataset with other datasets into one DataFrame via the <b><mark>customerID</mark></b> field\n",
    "- Reformat column names to all lowercase lettering\n",
    "\n",
    "Tasks for feature engineering:\n",
    "\n",
    "- Apply one-hot encoding for the <b><mark>Gender</mark></b>, <b><mark>Partner</mark></b>, and <b><mark>Dependents</mark></b> fields\n",
    "    - The <b><mark>SeniorCitizen</mark></b> field is already in a numerical format, so it does not require encoding"
   ]
  },
  {
   "cell_type": "markdown",
   "metadata": {},
   "source": [
    "### Phone dataset"
   ]
  },
  {
   "cell_type": "markdown",
   "metadata": {},
   "source": [
    "<b>General summary</b>"
   ]
  },
  {
   "cell_type": "code",
   "execution_count": 22,
   "metadata": {},
   "outputs": [
    {
     "name": "stdout",
     "output_type": "stream",
     "text": [
      "<class 'pandas.core.frame.DataFrame'>\n",
      "RangeIndex: 6361 entries, 0 to 6360\n",
      "Data columns (total 2 columns):\n",
      " #   Column         Non-Null Count  Dtype \n",
      "---  ------         --------------  ----- \n",
      " 0   customerID     6361 non-null   object\n",
      " 1   MultipleLines  6361 non-null   object\n",
      "dtypes: object(2)\n",
      "memory usage: 99.5+ KB\n"
     ]
    },
    {
     "data": {
      "text/plain": [
       "None"
      ]
     },
     "metadata": {},
     "output_type": "display_data"
    },
    {
     "data": {
      "text/html": [
       "<div>\n",
       "<style scoped>\n",
       "    .dataframe tbody tr th:only-of-type {\n",
       "        vertical-align: middle;\n",
       "    }\n",
       "\n",
       "    .dataframe tbody tr th {\n",
       "        vertical-align: top;\n",
       "    }\n",
       "\n",
       "    .dataframe thead th {\n",
       "        text-align: right;\n",
       "    }\n",
       "</style>\n",
       "<table border=\"1\" class=\"dataframe\">\n",
       "  <thead>\n",
       "    <tr style=\"text-align: right;\">\n",
       "      <th></th>\n",
       "      <th>customerID</th>\n",
       "      <th>MultipleLines</th>\n",
       "    </tr>\n",
       "  </thead>\n",
       "  <tbody>\n",
       "    <tr>\n",
       "      <th>0</th>\n",
       "      <td>5575-GNVDE</td>\n",
       "      <td>No</td>\n",
       "    </tr>\n",
       "    <tr>\n",
       "      <th>1</th>\n",
       "      <td>3668-QPYBK</td>\n",
       "      <td>No</td>\n",
       "    </tr>\n",
       "    <tr>\n",
       "      <th>2</th>\n",
       "      <td>9237-HQITU</td>\n",
       "      <td>No</td>\n",
       "    </tr>\n",
       "    <tr>\n",
       "      <th>3</th>\n",
       "      <td>9305-CDSKC</td>\n",
       "      <td>Yes</td>\n",
       "    </tr>\n",
       "    <tr>\n",
       "      <th>4</th>\n",
       "      <td>1452-KIOVK</td>\n",
       "      <td>Yes</td>\n",
       "    </tr>\n",
       "  </tbody>\n",
       "</table>\n",
       "</div>"
      ],
      "text/plain": [
       "   customerID MultipleLines\n",
       "0  5575-GNVDE            No\n",
       "1  3668-QPYBK            No\n",
       "2  9237-HQITU            No\n",
       "3  9305-CDSKC           Yes\n",
       "4  1452-KIOVK           Yes"
      ]
     },
     "metadata": {},
     "output_type": "display_data"
    }
   ],
   "source": [
    "# General summary of DataFrame\n",
    "display(phone.info())\n",
    "display(phone.head())"
   ]
  },
  {
   "cell_type": "markdown",
   "metadata": {},
   "source": [
    "<b>Missing values</b>"
   ]
  },
  {
   "cell_type": "code",
   "execution_count": 23,
   "metadata": {},
   "outputs": [
    {
     "data": {
      "text/plain": [
       "customerID       0\n",
       "MultipleLines    0\n",
       "dtype: int64"
      ]
     },
     "metadata": {},
     "output_type": "display_data"
    }
   ],
   "source": [
    "# Identify missing values\n",
    "display(phone.isna().sum())"
   ]
  },
  {
   "cell_type": "markdown",
   "metadata": {},
   "source": [
    "<b>Duplicate values</b>"
   ]
  },
  {
   "cell_type": "code",
   "execution_count": 24,
   "metadata": {},
   "outputs": [
    {
     "name": "stdout",
     "output_type": "stream",
     "text": [
      "# of duplicate rows: 0\n",
      "# of duplicate customerIDs: 0\n"
     ]
    }
   ],
   "source": [
    "# Identify duplicate rows\n",
    "print('# of duplicate rows:', phone.duplicated().sum())\n",
    "\n",
    "# Identify duplicate customerIDs\n",
    "print('# of duplicate customerIDs:', phone['customerID'].duplicated().sum())"
   ]
  },
  {
   "cell_type": "markdown",
   "metadata": {},
   "source": [
    "<b>Observations about the phone dataset</b>\n",
    "\n",
    "In the internet dataset, there are 6361 records. This is ~700 records / clients less than the entire dataset. As for the internet dataste, this means after all the datasets are merged together, there will be missing values for the ~700 records for the fields from the phone dataset. Missing values resulting from the merge will need to be filled in with a different value. There are no missing values or duplicate values in the dataset.\n",
    "\n",
    "Tasks for data preprocessing:\n",
    "\n",
    "- Merge dataset with other datasets into one DataFrame via the <b><mark>customerID</mark></b> field\n",
    "- Fill in missing values with *Unknown* value after merge\n",
    "- Reformat column names to all lowercase lettering\n",
    "\n",
    "Tasks for feature engineering:\n",
    "\n",
    "- Apply one-hot encoding for the <b><mark>MultipleLines</mark></b> field"
   ]
  },
  {
   "cell_type": "markdown",
   "metadata": {},
   "source": [
    "# Project work plan\n",
    "\n",
    "Can machine learning assist Interconnect in forecasting future client churn and predicting which customers are expected to leave its services? The goal of the project is to develop a model that can accurately classify if a client will leave the services of Interconnect or not. After analyzing the data, here are the detailed steps to achieve this.\n",
    "\n",
    "<b>Introduction</b>\n",
    "1. Load libraries and modules needed for analysis and modeling\n",
    "</br></br>\n",
    "2. Download the four datasets into pandas DataFrames\n",
    "</br></br>\n",
    "3. Explore each dataset to determine data preprocessing tasks, feature engineering tasks, and model building details\n",
    "</br>\n",
    "\n",
    "<b>Project work plan</b></br>\n",
    "\n",
    "1. Perform data preprocessing tasks</br>\n",
    "    - Merge the four datasets into one main DataFrame\n",
    "        - Fill in missing values resulting from the merge\n",
    "    - Update columns names to all lowercase lettering\n",
    "    - Replace values for one space string records in <b><mark>TotalCharges</mark></b> field\n",
    "    - Convert the data types of certain columns\n",
    "</br></br>\n",
    "2. Perform EDA to explore data in depth and identify patterns and relationships</br>\n",
    "    - Client churn progression\n",
    "    - Client tenure distribution\n",
    "    - Client characteristics and churn\n",
    "        - Gender\n",
    "        - Senior citizen\n",
    "    - Internet services comparison\n",
    "    - Contract length comparison\n",
    "    - Monthly and total charges comparison\n",
    "</br></br>\n",
    "3. Perform feature engineering tasks</br>\n",
    "    - Create a new Yes / No column from the <b><mark>EndDate</mark></b> field. This field represents the target variable\n",
    "    - Apply one-hot encoding to categorical features\n",
    "    - Apply feature scaling / standardization to numerical features\n",
    "    - Perform upsampling to target variable to mitigate the class imbalance in the dataset\n",
    "</br></br>\n",
    "4. Conduct model preparation</br>\n",
    "    - Define features and target\n",
    "    - Split data into training, validation, and test datasets\n",
    "    - Create function for building and evaluating the models\n",
    "    - Create a Logistic Regression dummy model for comparison and basic evaluation\n",
    "</br></br>\n",
    "5. Train, build, and fine-tune 3 classification models</br>\n",
    "    - Model types:\n",
    "        - Random forest\n",
    "        - K-nearest neighbor\n",
    "        - Gradient boosting\n",
    "    - Model building tasks:\n",
    "        - Fine-tine model parameters\n",
    "        - Apply bootstrapping / bagging technique\n",
    "        - Retrieve AUC-ROC and accuracy scores to evaluate model\n",
    "        - Compare the final metrics to the base model</br></br>\n",
    "6. Final model evaluation</br>\n",
    "\n",
    "<b>Conclusions</b>"
   ]
  },
  {
   "cell_type": "code",
   "execution_count": null,
   "metadata": {},
   "outputs": [],
   "source": []
  }
 ],
 "metadata": {
  "ExecuteTimeLog": [
   {
    "duration": 160,
    "start_time": "2025-05-08T17:26:19.147Z"
   },
   {
    "duration": 329,
    "start_time": "2025-05-08T17:26:22.877Z"
   },
   {
    "duration": 394,
    "start_time": "2025-05-08T17:26:23.957Z"
   },
   {
    "duration": 59,
    "start_time": "2025-05-08T17:26:38.779Z"
   },
   {
    "duration": 24,
    "start_time": "2025-05-08T17:27:13.143Z"
   },
   {
    "duration": 54,
    "start_time": "2025-05-08T17:27:44.872Z"
   },
   {
    "duration": 20,
    "start_time": "2025-05-08T17:27:47.654Z"
   },
   {
    "duration": 19,
    "start_time": "2025-05-08T17:27:49.864Z"
   },
   {
    "duration": 5,
    "start_time": "2025-05-08T18:04:20.402Z"
   },
   {
    "duration": 10,
    "start_time": "2025-05-08T18:14:06.962Z"
   },
   {
    "duration": 17,
    "start_time": "2025-05-08T18:15:04.468Z"
   },
   {
    "duration": 8,
    "start_time": "2025-05-08T18:16:40.032Z"
   },
   {
    "duration": 18,
    "start_time": "2025-05-08T18:22:09.913Z"
   },
   {
    "duration": 411,
    "start_time": "2025-05-08T18:24:17.144Z"
   },
   {
    "duration": 5,
    "start_time": "2025-05-08T18:24:25.478Z"
   },
   {
    "duration": 15,
    "start_time": "2025-05-08T18:25:21.070Z"
   },
   {
    "duration": 7,
    "start_time": "2025-05-08T18:25:54.876Z"
   },
   {
    "duration": 13,
    "start_time": "2025-05-08T18:26:34.874Z"
   },
   {
    "duration": 157,
    "start_time": "2025-05-09T16:32:43.409Z"
   },
   {
    "duration": 291,
    "start_time": "2025-05-09T16:32:48.488Z"
   },
   {
    "duration": 74,
    "start_time": "2025-05-09T16:32:48.781Z"
   },
   {
    "duration": 20,
    "start_time": "2025-05-09T16:32:48.856Z"
   },
   {
    "duration": 9,
    "start_time": "2025-05-09T16:32:48.877Z"
   },
   {
    "duration": 6,
    "start_time": "2025-05-09T16:32:48.889Z"
   },
   {
    "duration": 4,
    "start_time": "2025-05-09T16:32:48.897Z"
   },
   {
    "duration": 32,
    "start_time": "2025-05-09T16:32:48.903Z"
   },
   {
    "duration": 5,
    "start_time": "2025-05-09T16:32:48.937Z"
   },
   {
    "duration": 13,
    "start_time": "2025-05-09T16:32:48.944Z"
   },
   {
    "duration": 5,
    "start_time": "2025-05-09T16:32:48.959Z"
   },
   {
    "duration": 12,
    "start_time": "2025-05-09T16:32:48.965Z"
   },
   {
    "duration": 2,
    "start_time": "2025-05-09T16:32:48.978Z"
   },
   {
    "duration": 2036,
    "start_time": "2025-05-09T16:34:50.623Z"
   },
   {
    "duration": 817,
    "start_time": "2025-05-09T16:35:02.487Z"
   },
   {
    "duration": 153,
    "start_time": "2025-05-09T16:35:21.657Z"
   },
   {
    "duration": 111,
    "start_time": "2025-05-09T16:35:50.148Z"
   },
   {
    "duration": 3,
    "start_time": "2025-05-09T16:36:13.734Z"
   },
   {
    "duration": 120,
    "start_time": "2025-05-09T16:36:27.765Z"
   },
   {
    "duration": 118,
    "start_time": "2025-05-09T16:37:35.293Z"
   },
   {
    "duration": 1145,
    "start_time": "2025-05-09T16:37:45.735Z"
   },
   {
    "duration": 212,
    "start_time": "2025-05-09T16:39:54.636Z"
   },
   {
    "duration": 218,
    "start_time": "2025-05-09T16:40:30.828Z"
   },
   {
    "duration": 119,
    "start_time": "2025-05-09T16:40:35.395Z"
   },
   {
    "duration": 104,
    "start_time": "2025-05-09T16:40:43.803Z"
   },
   {
    "duration": 215,
    "start_time": "2025-05-09T16:41:26.365Z"
   },
   {
    "duration": 113,
    "start_time": "2025-05-09T16:43:12.499Z"
   },
   {
    "duration": 207,
    "start_time": "2025-05-09T16:45:09.712Z"
   },
   {
    "duration": 442,
    "start_time": "2025-05-09T16:45:26.246Z"
   },
   {
    "duration": 72,
    "start_time": "2025-05-09T16:45:26.690Z"
   },
   {
    "duration": 21,
    "start_time": "2025-05-09T16:45:26.763Z"
   },
   {
    "duration": 125,
    "start_time": "2025-05-09T16:45:26.785Z"
   },
   {
    "duration": 7,
    "start_time": "2025-05-09T16:45:26.912Z"
   },
   {
    "duration": 4,
    "start_time": "2025-05-09T16:45:26.932Z"
   },
   {
    "duration": 15,
    "start_time": "2025-05-09T16:45:26.938Z"
   },
   {
    "duration": 5,
    "start_time": "2025-05-09T16:45:26.955Z"
   },
   {
    "duration": 13,
    "start_time": "2025-05-09T16:45:26.962Z"
   },
   {
    "duration": 5,
    "start_time": "2025-05-09T16:45:26.976Z"
   },
   {
    "duration": 51,
    "start_time": "2025-05-09T16:45:26.982Z"
   },
   {
    "duration": 2,
    "start_time": "2025-05-09T16:45:27.034Z"
   },
   {
    "duration": 109,
    "start_time": "2025-05-09T16:46:11.158Z"
   },
   {
    "duration": 889,
    "start_time": "2025-05-09T16:46:26.489Z"
   },
   {
    "duration": 111,
    "start_time": "2025-05-09T16:46:43.579Z"
   },
   {
    "duration": 341,
    "start_time": "2025-05-09T16:47:37.895Z"
   },
   {
    "duration": 113,
    "start_time": "2025-05-09T16:47:48.303Z"
   },
   {
    "duration": 108,
    "start_time": "2025-05-09T16:48:01.768Z"
   },
   {
    "duration": 116,
    "start_time": "2025-05-09T16:48:14.002Z"
   },
   {
    "duration": 111,
    "start_time": "2025-05-09T16:48:29.834Z"
   },
   {
    "duration": 116,
    "start_time": "2025-05-09T16:48:54.301Z"
   },
   {
    "duration": 118,
    "start_time": "2025-05-09T16:49:12.102Z"
   },
   {
    "duration": 129,
    "start_time": "2025-05-09T16:50:00.930Z"
   },
   {
    "duration": 213,
    "start_time": "2025-05-09T16:50:15.332Z"
   },
   {
    "duration": 232,
    "start_time": "2025-05-09T16:50:26.140Z"
   },
   {
    "duration": 3,
    "start_time": "2025-05-09T16:54:35.020Z"
   },
   {
    "duration": 116,
    "start_time": "2025-05-09T16:58:55.552Z"
   },
   {
    "duration": 116,
    "start_time": "2025-05-09T16:59:05.353Z"
   },
   {
    "duration": 119,
    "start_time": "2025-05-09T17:00:02.188Z"
   },
   {
    "duration": 125,
    "start_time": "2025-05-09T17:00:09.233Z"
   },
   {
    "duration": 116,
    "start_time": "2025-05-09T17:00:12.365Z"
   },
   {
    "duration": 119,
    "start_time": "2025-05-09T17:04:50.860Z"
   },
   {
    "duration": 116,
    "start_time": "2025-05-09T17:04:56.988Z"
   },
   {
    "duration": 114,
    "start_time": "2025-05-09T17:05:14.397Z"
   },
   {
    "duration": 106,
    "start_time": "2025-05-09T17:07:21.847Z"
   },
   {
    "duration": 109,
    "start_time": "2025-05-09T17:08:37.347Z"
   },
   {
    "duration": 109,
    "start_time": "2025-05-09T17:08:42.436Z"
   },
   {
    "duration": 111,
    "start_time": "2025-05-09T17:09:00.942Z"
   },
   {
    "duration": 7,
    "start_time": "2025-05-09T18:02:21.173Z"
   },
   {
    "duration": 8,
    "start_time": "2025-05-09T18:08:48.573Z"
   },
   {
    "duration": 7,
    "start_time": "2025-05-09T18:09:11.686Z"
   },
   {
    "duration": 8,
    "start_time": "2025-05-09T18:09:16.613Z"
   },
   {
    "duration": 9,
    "start_time": "2025-05-09T18:09:30.149Z"
   },
   {
    "duration": 8,
    "start_time": "2025-05-09T18:09:32.717Z"
   },
   {
    "duration": 14,
    "start_time": "2025-05-09T18:13:34.713Z"
   },
   {
    "duration": 39,
    "start_time": "2025-05-09T18:15:19.205Z"
   },
   {
    "duration": 23,
    "start_time": "2025-05-09T18:15:27.422Z"
   },
   {
    "duration": 15,
    "start_time": "2025-05-09T18:15:38.910Z"
   },
   {
    "duration": 429,
    "start_time": "2025-05-09T18:17:29.952Z"
   },
   {
    "duration": 50,
    "start_time": "2025-05-09T18:18:08.953Z"
   },
   {
    "duration": 15,
    "start_time": "2025-05-09T18:21:27.985Z"
   },
   {
    "duration": 114,
    "start_time": "2025-05-09T18:22:21.093Z"
   },
   {
    "duration": 17,
    "start_time": "2025-05-09T18:23:01.242Z"
   },
   {
    "duration": 15,
    "start_time": "2025-05-09T18:23:07.327Z"
   },
   {
    "duration": 54,
    "start_time": "2025-05-09T18:23:20.969Z"
   },
   {
    "duration": 57,
    "start_time": "2025-05-09T18:24:51.136Z"
   },
   {
    "duration": 33,
    "start_time": "2025-05-09T18:29:25.797Z"
   },
   {
    "duration": 12,
    "start_time": "2025-05-09T18:30:58.025Z"
   },
   {
    "duration": 48,
    "start_time": "2025-05-09T18:31:31.229Z"
   },
   {
    "duration": 11,
    "start_time": "2025-05-09T18:33:21.837Z"
   },
   {
    "duration": 402,
    "start_time": "2025-05-09T18:33:36.719Z"
   },
   {
    "duration": 72,
    "start_time": "2025-05-09T18:33:37.123Z"
   },
   {
    "duration": 20,
    "start_time": "2025-05-09T18:33:37.197Z"
   },
   {
    "duration": 140,
    "start_time": "2025-05-09T18:33:37.219Z"
   },
   {
    "duration": 126,
    "start_time": "2025-05-09T18:33:37.361Z"
   },
   {
    "duration": 11,
    "start_time": "2025-05-09T18:33:37.489Z"
   },
   {
    "duration": 5,
    "start_time": "2025-05-09T18:33:37.503Z"
   },
   {
    "duration": 36,
    "start_time": "2025-05-09T18:33:37.509Z"
   },
   {
    "duration": 4,
    "start_time": "2025-05-09T18:33:37.547Z"
   },
   {
    "duration": 14,
    "start_time": "2025-05-09T18:33:37.554Z"
   },
   {
    "duration": 5,
    "start_time": "2025-05-09T18:33:37.570Z"
   },
   {
    "duration": 12,
    "start_time": "2025-05-09T18:33:37.576Z"
   },
   {
    "duration": 2,
    "start_time": "2025-05-09T18:33:37.590Z"
   },
   {
    "duration": 11,
    "start_time": "2025-05-09T18:35:24.274Z"
   },
   {
    "duration": 17,
    "start_time": "2025-05-09T18:37:09.635Z"
   },
   {
    "duration": 17,
    "start_time": "2025-05-09T18:37:21.084Z"
   },
   {
    "duration": 236,
    "start_time": "2025-05-09T18:37:55.543Z"
   },
   {
    "duration": 359,
    "start_time": "2025-05-09T18:38:46.903Z"
   },
   {
    "duration": 73,
    "start_time": "2025-05-09T18:39:51.098Z"
   },
   {
    "duration": 61,
    "start_time": "2025-05-09T18:41:47.641Z"
   },
   {
    "duration": 72,
    "start_time": "2025-05-09T18:44:05.807Z"
   },
   {
    "duration": 61,
    "start_time": "2025-05-09T18:48:05.734Z"
   },
   {
    "duration": 432,
    "start_time": "2025-05-09T18:50:11.627Z"
   },
   {
    "duration": 72,
    "start_time": "2025-05-09T18:50:12.061Z"
   },
   {
    "duration": 20,
    "start_time": "2025-05-09T18:50:12.135Z"
   },
   {
    "duration": 141,
    "start_time": "2025-05-09T18:50:12.157Z"
   },
   {
    "duration": 124,
    "start_time": "2025-05-09T18:50:12.302Z"
   },
   {
    "duration": 211,
    "start_time": "2025-05-09T18:50:12.430Z"
   },
   {
    "duration": 0,
    "start_time": "2025-05-09T18:50:12.643Z"
   },
   {
    "duration": 0,
    "start_time": "2025-05-09T18:50:12.644Z"
   },
   {
    "duration": 0,
    "start_time": "2025-05-09T18:50:12.645Z"
   },
   {
    "duration": 0,
    "start_time": "2025-05-09T18:50:12.647Z"
   },
   {
    "duration": 0,
    "start_time": "2025-05-09T18:50:12.648Z"
   },
   {
    "duration": 0,
    "start_time": "2025-05-09T18:50:12.649Z"
   },
   {
    "duration": 0,
    "start_time": "2025-05-09T18:50:12.651Z"
   },
   {
    "duration": 23,
    "start_time": "2025-05-09T18:50:30.613Z"
   },
   {
    "duration": 21,
    "start_time": "2025-05-09T18:51:13.496Z"
   },
   {
    "duration": 10,
    "start_time": "2025-05-09T18:51:21.046Z"
   },
   {
    "duration": 12,
    "start_time": "2025-05-09T18:51:49.077Z"
   },
   {
    "duration": 7,
    "start_time": "2025-05-09T18:52:07.260Z"
   },
   {
    "duration": 13,
    "start_time": "2025-05-09T18:52:24.109Z"
   },
   {
    "duration": 12,
    "start_time": "2025-05-09T18:52:39.358Z"
   },
   {
    "duration": 12,
    "start_time": "2025-05-09T18:52:47.750Z"
   },
   {
    "duration": 15,
    "start_time": "2025-05-09T18:53:02.568Z"
   },
   {
    "duration": 17,
    "start_time": "2025-05-09T18:53:21.802Z"
   },
   {
    "duration": 119,
    "start_time": "2025-05-09T18:54:15.071Z"
   },
   {
    "duration": 22,
    "start_time": "2025-05-09T18:54:38.439Z"
   },
   {
    "duration": 6,
    "start_time": "2025-05-09T18:54:45.248Z"
   },
   {
    "duration": 398,
    "start_time": "2025-05-09T18:54:55.535Z"
   },
   {
    "duration": 462,
    "start_time": "2025-05-09T18:55:16.358Z"
   },
   {
    "duration": 74,
    "start_time": "2025-05-09T18:55:16.823Z"
   },
   {
    "duration": 19,
    "start_time": "2025-05-09T18:55:16.899Z"
   },
   {
    "duration": 143,
    "start_time": "2025-05-09T18:55:16.920Z"
   },
   {
    "duration": 129,
    "start_time": "2025-05-09T18:55:17.067Z"
   },
   {
    "duration": 137,
    "start_time": "2025-05-09T18:55:17.198Z"
   },
   {
    "duration": 571,
    "start_time": "2025-05-09T18:55:17.337Z"
   },
   {
    "duration": 0,
    "start_time": "2025-05-09T18:55:17.910Z"
   },
   {
    "duration": 0,
    "start_time": "2025-05-09T18:55:17.911Z"
   },
   {
    "duration": 0,
    "start_time": "2025-05-09T18:55:17.912Z"
   },
   {
    "duration": 0,
    "start_time": "2025-05-09T18:55:17.913Z"
   },
   {
    "duration": 0,
    "start_time": "2025-05-09T18:55:17.915Z"
   },
   {
    "duration": 0,
    "start_time": "2025-05-09T18:55:17.916Z"
   },
   {
    "duration": 0,
    "start_time": "2025-05-09T18:55:17.931Z"
   },
   {
    "duration": 135,
    "start_time": "2025-05-09T18:55:27.032Z"
   },
   {
    "duration": 116,
    "start_time": "2025-05-09T18:56:26.472Z"
   },
   {
    "duration": 142,
    "start_time": "2025-05-09T18:57:43.213Z"
   },
   {
    "duration": 161,
    "start_time": "2025-05-09T18:57:49.885Z"
   },
   {
    "duration": 147,
    "start_time": "2025-05-09T18:59:47.867Z"
   },
   {
    "duration": 120,
    "start_time": "2025-05-09T18:59:57.451Z"
   },
   {
    "duration": 218,
    "start_time": "2025-05-09T19:00:51.552Z"
   },
   {
    "duration": 128,
    "start_time": "2025-05-09T19:02:07.669Z"
   },
   {
    "duration": 134,
    "start_time": "2025-05-09T19:02:15.434Z"
   },
   {
    "duration": 131,
    "start_time": "2025-05-09T19:02:23.967Z"
   },
   {
    "duration": 128,
    "start_time": "2025-05-09T19:03:55.385Z"
   },
   {
    "duration": 138,
    "start_time": "2025-05-09T19:04:00.305Z"
   },
   {
    "duration": 132,
    "start_time": "2025-05-09T19:04:04.616Z"
   },
   {
    "duration": 9,
    "start_time": "2025-05-09T19:06:57.070Z"
   },
   {
    "duration": 9,
    "start_time": "2025-05-09T19:08:58.361Z"
   },
   {
    "duration": 7,
    "start_time": "2025-05-09T19:09:04.085Z"
   },
   {
    "duration": 6,
    "start_time": "2025-05-09T19:09:17.862Z"
   },
   {
    "duration": 6,
    "start_time": "2025-05-09T19:09:59.154Z"
   },
   {
    "duration": 4,
    "start_time": "2025-05-09T19:10:29.135Z"
   },
   {
    "duration": 216,
    "start_time": "2025-05-09T19:11:12.193Z"
   },
   {
    "duration": 9,
    "start_time": "2025-05-09T19:11:29.023Z"
   },
   {
    "duration": 6,
    "start_time": "2025-05-09T19:12:21.489Z"
   },
   {
    "duration": 10,
    "start_time": "2025-05-09T19:12:39.768Z"
   },
   {
    "duration": 46,
    "start_time": "2025-05-09T19:12:44.910Z"
   },
   {
    "duration": 12,
    "start_time": "2025-05-09T19:12:58.245Z"
   },
   {
    "duration": 9,
    "start_time": "2025-05-09T19:13:41.611Z"
   },
   {
    "duration": 9,
    "start_time": "2025-05-09T19:13:49.091Z"
   },
   {
    "duration": 253,
    "start_time": "2025-05-09T19:14:39.627Z"
   },
   {
    "duration": 150,
    "start_time": "2025-05-09T19:14:47.702Z"
   },
   {
    "duration": 145,
    "start_time": "2025-05-09T19:14:55.387Z"
   },
   {
    "duration": 139,
    "start_time": "2025-05-09T19:15:05.369Z"
   },
   {
    "duration": 145,
    "start_time": "2025-05-09T19:15:39.475Z"
   },
   {
    "duration": 4,
    "start_time": "2025-05-09T19:33:26.904Z"
   },
   {
    "duration": 8,
    "start_time": "2025-05-09T19:38:58.959Z"
   },
   {
    "duration": 2151,
    "start_time": "2025-05-09T21:03:51.644Z"
   },
   {
    "duration": 61,
    "start_time": "2025-05-09T21:03:53.797Z"
   },
   {
    "duration": 20,
    "start_time": "2025-05-09T21:03:53.860Z"
   },
   {
    "duration": 4,
    "start_time": "2025-05-09T21:03:53.882Z"
   },
   {
    "duration": 130,
    "start_time": "2025-05-09T21:03:53.890Z"
   },
   {
    "duration": 122,
    "start_time": "2025-05-09T21:03:54.022Z"
   },
   {
    "duration": 159,
    "start_time": "2025-05-09T21:03:54.146Z"
   },
   {
    "duration": 16,
    "start_time": "2025-05-09T21:03:54.307Z"
   },
   {
    "duration": 9,
    "start_time": "2025-05-09T21:03:54.325Z"
   },
   {
    "duration": 17,
    "start_time": "2025-05-09T21:03:54.335Z"
   },
   {
    "duration": 5,
    "start_time": "2025-05-09T21:03:54.353Z"
   },
   {
    "duration": 13,
    "start_time": "2025-05-09T21:03:54.360Z"
   },
   {
    "duration": 5,
    "start_time": "2025-05-09T21:03:54.375Z"
   },
   {
    "duration": 14,
    "start_time": "2025-05-09T21:03:54.421Z"
   },
   {
    "duration": 3,
    "start_time": "2025-05-09T21:03:54.436Z"
   },
   {
    "duration": 424,
    "start_time": "2025-05-09T21:07:30.842Z"
   },
   {
    "duration": 104,
    "start_time": "2025-05-09T21:07:38.673Z"
   },
   {
    "duration": 7,
    "start_time": "2025-05-09T21:09:01.625Z"
   },
   {
    "duration": 9,
    "start_time": "2025-05-09T21:09:15.923Z"
   },
   {
    "duration": 104,
    "start_time": "2025-05-09T21:26:22.676Z"
   },
   {
    "duration": 104,
    "start_time": "2025-05-09T21:27:59.337Z"
   },
   {
    "duration": 4,
    "start_time": "2025-05-09T21:29:22.449Z"
   },
   {
    "duration": 6,
    "start_time": "2025-05-09T21:51:27.935Z"
   },
   {
    "duration": 6,
    "start_time": "2025-05-09T21:51:42.761Z"
   },
   {
    "duration": 7,
    "start_time": "2025-05-09T21:52:04.210Z"
   },
   {
    "duration": 5,
    "start_time": "2025-05-09T21:55:33.289Z"
   },
   {
    "duration": 7,
    "start_time": "2025-05-09T21:55:48.394Z"
   },
   {
    "duration": 3,
    "start_time": "2025-05-09T22:04:36.170Z"
   },
   {
    "duration": 440,
    "start_time": "2025-05-09T22:14:18.546Z"
   },
   {
    "duration": 7,
    "start_time": "2025-05-09T22:14:31.530Z"
   },
   {
    "duration": 10,
    "start_time": "2025-05-09T22:14:39.844Z"
   },
   {
    "duration": 46,
    "start_time": "2025-05-09T22:19:51.576Z"
   },
   {
    "duration": 14,
    "start_time": "2025-05-09T22:20:20.813Z"
   },
   {
    "duration": 63,
    "start_time": "2025-05-09T22:21:10.034Z"
   },
   {
    "duration": 51,
    "start_time": "2025-05-09T22:21:21.085Z"
   },
   {
    "duration": 11,
    "start_time": "2025-05-09T22:21:45.750Z"
   },
   {
    "duration": 25,
    "start_time": "2025-05-09T22:25:00.186Z"
   },
   {
    "duration": 25,
    "start_time": "2025-05-09T22:25:04.406Z"
   },
   {
    "duration": 14,
    "start_time": "2025-05-09T22:28:17.678Z"
   },
   {
    "duration": 22,
    "start_time": "2025-05-09T22:31:49.560Z"
   },
   {
    "duration": 6,
    "start_time": "2025-05-09T22:33:44.576Z"
   },
   {
    "duration": 15,
    "start_time": "2025-05-09T22:34:16.790Z"
   },
   {
    "duration": 15,
    "start_time": "2025-05-09T22:34:48.179Z"
   },
   {
    "duration": 16,
    "start_time": "2025-05-09T22:35:09.482Z"
   },
   {
    "duration": 502,
    "start_time": "2025-05-09T22:35:24.445Z"
   },
   {
    "duration": 72,
    "start_time": "2025-05-09T22:35:24.949Z"
   },
   {
    "duration": 30,
    "start_time": "2025-05-09T22:35:25.023Z"
   },
   {
    "duration": 13,
    "start_time": "2025-05-09T22:35:25.055Z"
   },
   {
    "duration": 163,
    "start_time": "2025-05-09T22:35:25.071Z"
   },
   {
    "duration": 162,
    "start_time": "2025-05-09T22:35:25.236Z"
   },
   {
    "duration": 191,
    "start_time": "2025-05-09T22:35:25.400Z"
   },
   {
    "duration": 7,
    "start_time": "2025-05-09T22:35:25.593Z"
   },
   {
    "duration": 37,
    "start_time": "2025-05-09T22:35:25.602Z"
   },
   {
    "duration": 28,
    "start_time": "2025-05-09T22:35:25.643Z"
   },
   {
    "duration": 139,
    "start_time": "2025-05-09T22:35:25.673Z"
   },
   {
    "duration": 6,
    "start_time": "2025-05-09T22:35:25.815Z"
   },
   {
    "duration": 0,
    "start_time": "2025-05-09T22:35:25.823Z"
   },
   {
    "duration": 0,
    "start_time": "2025-05-09T22:35:25.828Z"
   },
   {
    "duration": 0,
    "start_time": "2025-05-09T22:35:25.829Z"
   },
   {
    "duration": 0,
    "start_time": "2025-05-09T22:35:25.830Z"
   },
   {
    "duration": 0,
    "start_time": "2025-05-09T22:35:25.836Z"
   },
   {
    "duration": 0,
    "start_time": "2025-05-09T22:35:25.839Z"
   },
   {
    "duration": 0,
    "start_time": "2025-05-09T22:35:25.840Z"
   },
   {
    "duration": 0,
    "start_time": "2025-05-09T22:35:25.842Z"
   },
   {
    "duration": 0,
    "start_time": "2025-05-09T22:35:25.844Z"
   },
   {
    "duration": 0,
    "start_time": "2025-05-09T22:35:25.845Z"
   },
   {
    "duration": 0,
    "start_time": "2025-05-09T22:35:25.846Z"
   },
   {
    "duration": 0,
    "start_time": "2025-05-09T22:35:25.847Z"
   },
   {
    "duration": 302,
    "start_time": "2025-05-09T22:35:33.491Z"
   },
   {
    "duration": 17,
    "start_time": "2025-05-09T22:35:43.459Z"
   },
   {
    "duration": 23,
    "start_time": "2025-05-09T22:38:04.341Z"
   },
   {
    "duration": 24,
    "start_time": "2025-05-09T22:38:13.736Z"
   },
   {
    "duration": 19,
    "start_time": "2025-05-09T22:48:27.280Z"
   },
   {
    "duration": 462,
    "start_time": "2025-05-09T22:49:41.852Z"
   },
   {
    "duration": 35,
    "start_time": "2025-05-09T22:50:14.097Z"
   },
   {
    "duration": 29,
    "start_time": "2025-05-09T22:50:17.893Z"
   },
   {
    "duration": 19,
    "start_time": "2025-05-09T22:50:25.451Z"
   },
   {
    "duration": 68,
    "start_time": "2025-05-09T22:50:38.742Z"
   },
   {
    "duration": 19,
    "start_time": "2025-05-09T22:50:45.594Z"
   },
   {
    "duration": 146,
    "start_time": "2025-05-09T22:52:21.969Z"
   },
   {
    "duration": 160,
    "start_time": "2025-05-09T22:52:53.551Z"
   },
   {
    "duration": 278,
    "start_time": "2025-05-09T22:53:02.297Z"
   },
   {
    "duration": 548,
    "start_time": "2025-05-09T22:53:33.054Z"
   },
   {
    "duration": 242,
    "start_time": "2025-05-09T22:53:38.199Z"
   },
   {
    "duration": 232,
    "start_time": "2025-05-09T22:53:40.759Z"
   },
   {
    "duration": 193,
    "start_time": "2025-05-09T22:54:21.366Z"
   },
   {
    "duration": 675,
    "start_time": "2025-05-09T22:54:29.652Z"
   },
   {
    "duration": 190,
    "start_time": "2025-05-09T22:54:54.625Z"
   },
   {
    "duration": 176,
    "start_time": "2025-05-09T22:55:09.164Z"
   },
   {
    "duration": 180,
    "start_time": "2025-05-09T22:55:55.599Z"
   },
   {
    "duration": 72,
    "start_time": "2025-05-09T22:57:43.267Z"
   },
   {
    "duration": 189,
    "start_time": "2025-05-09T22:59:47.426Z"
   },
   {
    "duration": 187,
    "start_time": "2025-05-09T23:00:08.994Z"
   },
   {
    "duration": 194,
    "start_time": "2025-05-09T23:00:13.493Z"
   },
   {
    "duration": 229,
    "start_time": "2025-05-09T23:01:07.360Z"
   },
   {
    "duration": 149,
    "start_time": "2025-05-09T23:01:12.098Z"
   },
   {
    "duration": 194,
    "start_time": "2025-05-09T23:01:34.962Z"
   },
   {
    "duration": 149,
    "start_time": "2025-05-09T23:03:36.251Z"
   },
   {
    "duration": 150,
    "start_time": "2025-05-09T23:05:01.759Z"
   },
   {
    "duration": 170,
    "start_time": "2025-05-09T23:05:06.577Z"
   },
   {
    "duration": 165,
    "start_time": "2025-05-09T23:06:37.457Z"
   },
   {
    "duration": 163,
    "start_time": "2025-05-09T23:06:52.287Z"
   },
   {
    "duration": 232,
    "start_time": "2025-05-09T23:08:00.374Z"
   },
   {
    "duration": 165,
    "start_time": "2025-05-09T23:08:05.433Z"
   },
   {
    "duration": 209,
    "start_time": "2025-05-09T23:08:11.608Z"
   },
   {
    "duration": 188,
    "start_time": "2025-05-09T23:08:17.049Z"
   },
   {
    "duration": 27,
    "start_time": "2025-05-09T23:09:09.747Z"
   },
   {
    "duration": 35,
    "start_time": "2025-05-09T23:09:21.175Z"
   },
   {
    "duration": 41,
    "start_time": "2025-05-09T23:09:30.775Z"
   },
   {
    "duration": 18,
    "start_time": "2025-05-09T23:09:40.298Z"
   },
   {
    "duration": 23,
    "start_time": "2025-05-09T23:09:52.724Z"
   },
   {
    "duration": 18,
    "start_time": "2025-05-09T23:10:02.229Z"
   },
   {
    "duration": 19,
    "start_time": "2025-05-09T23:10:20.171Z"
   },
   {
    "duration": 18,
    "start_time": "2025-05-09T23:10:35.474Z"
   },
   {
    "duration": 20,
    "start_time": "2025-05-09T23:10:40.521Z"
   },
   {
    "duration": 182,
    "start_time": "2025-05-09T23:10:52.344Z"
   },
   {
    "duration": 191,
    "start_time": "2025-05-09T23:11:14.989Z"
   },
   {
    "duration": 198,
    "start_time": "2025-05-09T23:12:18.408Z"
   },
   {
    "duration": 209,
    "start_time": "2025-05-09T23:13:07.724Z"
   },
   {
    "duration": 182,
    "start_time": "2025-05-09T23:13:39.303Z"
   },
   {
    "duration": 318,
    "start_time": "2025-05-09T23:13:41.957Z"
   },
   {
    "duration": 163,
    "start_time": "2025-05-09T23:15:30.329Z"
   },
   {
    "duration": 186,
    "start_time": "2025-05-09T23:16:17.624Z"
   },
   {
    "duration": 158,
    "start_time": "2025-05-09T23:17:11.900Z"
   },
   {
    "duration": 233,
    "start_time": "2025-05-09T23:19:46.361Z"
   },
   {
    "duration": 4,
    "start_time": "2025-05-09T23:20:00.859Z"
   },
   {
    "duration": 263,
    "start_time": "2025-05-09T23:20:13.132Z"
   },
   {
    "duration": 22,
    "start_time": "2025-05-09T23:21:20.825Z"
   },
   {
    "duration": 2123,
    "start_time": "2025-05-12T15:28:43.082Z"
   },
   {
    "duration": 61,
    "start_time": "2025-05-12T15:28:45.207Z"
   },
   {
    "duration": 20,
    "start_time": "2025-05-12T15:28:45.270Z"
   },
   {
    "duration": 4,
    "start_time": "2025-05-12T15:28:45.293Z"
   },
   {
    "duration": 131,
    "start_time": "2025-05-12T15:28:45.298Z"
   },
   {
    "duration": 120,
    "start_time": "2025-05-12T15:28:45.431Z"
   },
   {
    "duration": 150,
    "start_time": "2025-05-12T15:28:45.554Z"
   },
   {
    "duration": 14,
    "start_time": "2025-05-12T15:28:45.706Z"
   },
   {
    "duration": 8,
    "start_time": "2025-05-12T15:28:45.722Z"
   },
   {
    "duration": 20,
    "start_time": "2025-05-12T15:28:45.733Z"
   },
   {
    "duration": 124,
    "start_time": "2025-05-12T15:28:45.755Z"
   },
   {
    "duration": 20,
    "start_time": "2025-05-12T15:28:45.881Z"
   },
   {
    "duration": 306,
    "start_time": "2025-05-12T15:28:45.903Z"
   },
   {
    "duration": 7,
    "start_time": "2025-05-12T15:28:46.219Z"
   },
   {
    "duration": 7,
    "start_time": "2025-05-12T15:28:46.227Z"
   },
   {
    "duration": 14,
    "start_time": "2025-05-12T15:28:46.236Z"
   },
   {
    "duration": 134,
    "start_time": "2025-05-12T15:28:46.252Z"
   },
   {
    "duration": 3,
    "start_time": "2025-05-12T15:28:46.388Z"
   },
   {
    "duration": 6,
    "start_time": "2025-05-12T15:28:46.393Z"
   },
   {
    "duration": 18,
    "start_time": "2025-05-12T15:28:46.401Z"
   },
   {
    "duration": 13,
    "start_time": "2025-05-12T15:28:46.421Z"
   },
   {
    "duration": 5,
    "start_time": "2025-05-12T15:28:46.436Z"
   },
   {
    "duration": 5,
    "start_time": "2025-05-12T15:28:46.443Z"
   },
   {
    "duration": 3,
    "start_time": "2025-05-12T15:28:46.450Z"
   },
   {
    "duration": 20,
    "start_time": "2025-05-12T18:17:25.040Z"
   },
   {
    "duration": 36,
    "start_time": "2025-05-12T18:18:00.753Z"
   },
   {
    "duration": 40,
    "start_time": "2025-05-12T18:18:39.739Z"
   },
   {
    "duration": 85,
    "start_time": "2025-05-12T18:20:30.292Z"
   },
   {
    "duration": 46,
    "start_time": "2025-05-12T18:21:25.088Z"
   },
   {
    "duration": 59,
    "start_time": "2025-05-12T18:22:03.690Z"
   },
   {
    "duration": 32,
    "start_time": "2025-05-12T18:23:57.130Z"
   },
   {
    "duration": 41,
    "start_time": "2025-05-12T18:24:45.439Z"
   },
   {
    "duration": 39,
    "start_time": "2025-05-12T18:24:50.695Z"
   },
   {
    "duration": 40,
    "start_time": "2025-05-12T18:25:09.816Z"
   },
   {
    "duration": 447,
    "start_time": "2025-05-12T18:25:17.937Z"
   },
   {
    "duration": 77,
    "start_time": "2025-05-12T18:25:18.386Z"
   },
   {
    "duration": 22,
    "start_time": "2025-05-12T18:25:18.465Z"
   },
   {
    "duration": 6,
    "start_time": "2025-05-12T18:25:18.490Z"
   },
   {
    "duration": 146,
    "start_time": "2025-05-12T18:25:18.498Z"
   },
   {
    "duration": 123,
    "start_time": "2025-05-12T18:25:18.645Z"
   },
   {
    "duration": 159,
    "start_time": "2025-05-12T18:25:18.769Z"
   },
   {
    "duration": 7,
    "start_time": "2025-05-12T18:25:18.929Z"
   },
   {
    "duration": 8,
    "start_time": "2025-05-12T18:25:18.938Z"
   },
   {
    "duration": 15,
    "start_time": "2025-05-12T18:25:18.948Z"
   },
   {
    "duration": 132,
    "start_time": "2025-05-12T18:25:18.965Z"
   },
   {
    "duration": 24,
    "start_time": "2025-05-12T18:25:19.099Z"
   },
   {
    "duration": 276,
    "start_time": "2025-05-12T18:25:19.125Z"
   },
   {
    "duration": 16,
    "start_time": "2025-05-12T18:25:19.404Z"
   },
   {
    "duration": 6,
    "start_time": "2025-05-12T18:25:19.422Z"
   },
   {
    "duration": 14,
    "start_time": "2025-05-12T18:25:19.430Z"
   },
   {
    "duration": 130,
    "start_time": "2025-05-12T18:25:19.445Z"
   },
   {
    "duration": 3,
    "start_time": "2025-05-12T18:25:19.578Z"
   },
   {
    "duration": 6,
    "start_time": "2025-05-12T18:25:19.583Z"
   },
   {
    "duration": 8,
    "start_time": "2025-05-12T18:25:19.591Z"
   },
   {
    "duration": 13,
    "start_time": "2025-05-12T18:25:19.619Z"
   },
   {
    "duration": 5,
    "start_time": "2025-05-12T18:25:19.634Z"
   },
   {
    "duration": 4,
    "start_time": "2025-05-12T18:25:19.642Z"
   },
   {
    "duration": 40,
    "start_time": "2025-05-12T18:25:19.648Z"
   },
   {
    "duration": 3,
    "start_time": "2025-05-12T18:25:19.720Z"
   },
   {
    "duration": 4,
    "start_time": "2025-05-12T18:26:52.344Z"
   },
   {
    "duration": 13,
    "start_time": "2025-05-12T18:32:51.505Z"
   },
   {
    "duration": 576,
    "start_time": "2025-05-12T18:33:57.050Z"
   },
   {
    "duration": 8,
    "start_time": "2025-05-12T18:34:24.441Z"
   },
   {
    "duration": 76,
    "start_time": "2025-05-12T18:34:57.545Z"
   },
   {
    "duration": 10,
    "start_time": "2025-05-12T18:35:45.408Z"
   },
   {
    "duration": 10,
    "start_time": "2025-05-12T18:36:09.357Z"
   },
   {
    "duration": 9,
    "start_time": "2025-05-12T18:36:20.611Z"
   },
   {
    "duration": 12,
    "start_time": "2025-05-12T18:40:35.363Z"
   },
   {
    "duration": 13,
    "start_time": "2025-05-12T18:43:55.244Z"
   },
   {
    "duration": 408,
    "start_time": "2025-05-12T18:44:00.295Z"
   },
   {
    "duration": 70,
    "start_time": "2025-05-12T18:44:00.705Z"
   },
   {
    "duration": 19,
    "start_time": "2025-05-12T18:44:00.776Z"
   },
   {
    "duration": 6,
    "start_time": "2025-05-12T18:44:00.797Z"
   },
   {
    "duration": 155,
    "start_time": "2025-05-12T18:44:00.804Z"
   },
   {
    "duration": 128,
    "start_time": "2025-05-12T18:44:00.961Z"
   },
   {
    "duration": 161,
    "start_time": "2025-05-12T18:44:01.091Z"
   },
   {
    "duration": 8,
    "start_time": "2025-05-12T18:44:01.254Z"
   },
   {
    "duration": 10,
    "start_time": "2025-05-12T18:44:01.263Z"
   },
   {
    "duration": 16,
    "start_time": "2025-05-12T18:44:01.276Z"
   },
   {
    "duration": 131,
    "start_time": "2025-05-12T18:44:01.293Z"
   },
   {
    "duration": 19,
    "start_time": "2025-05-12T18:44:01.426Z"
   },
   {
    "duration": 275,
    "start_time": "2025-05-12T18:44:01.448Z"
   },
   {
    "duration": 6,
    "start_time": "2025-05-12T18:44:01.724Z"
   },
   {
    "duration": 8,
    "start_time": "2025-05-12T18:44:01.732Z"
   },
   {
    "duration": 16,
    "start_time": "2025-05-12T18:44:01.741Z"
   },
   {
    "duration": 130,
    "start_time": "2025-05-12T18:44:01.759Z"
   },
   {
    "duration": 2,
    "start_time": "2025-05-12T18:44:01.891Z"
   },
   {
    "duration": 6,
    "start_time": "2025-05-12T18:44:01.895Z"
   },
   {
    "duration": 21,
    "start_time": "2025-05-12T18:44:01.903Z"
   },
   {
    "duration": 11,
    "start_time": "2025-05-12T18:44:01.926Z"
   },
   {
    "duration": 4,
    "start_time": "2025-05-12T18:44:01.939Z"
   },
   {
    "duration": 8,
    "start_time": "2025-05-12T18:44:01.945Z"
   },
   {
    "duration": 66,
    "start_time": "2025-05-12T18:44:01.955Z"
   },
   {
    "duration": 6,
    "start_time": "2025-05-12T18:44:02.022Z"
   },
   {
    "duration": 13,
    "start_time": "2025-05-12T18:44:02.029Z"
   },
   {
    "duration": 9,
    "start_time": "2025-05-12T18:44:02.044Z"
   },
   {
    "duration": 2,
    "start_time": "2025-05-12T18:44:02.056Z"
   },
   {
    "duration": 12,
    "start_time": "2025-05-12T18:45:47.083Z"
   },
   {
    "duration": 20,
    "start_time": "2025-05-12T18:47:20.136Z"
   },
   {
    "duration": 15,
    "start_time": "2025-05-12T18:47:34.689Z"
   },
   {
    "duration": 506,
    "start_time": "2025-05-12T18:47:42.530Z"
   },
   {
    "duration": 67,
    "start_time": "2025-05-12T18:47:43.040Z"
   },
   {
    "duration": 33,
    "start_time": "2025-05-12T18:47:43.109Z"
   },
   {
    "duration": 6,
    "start_time": "2025-05-12T18:47:43.144Z"
   },
   {
    "duration": 162,
    "start_time": "2025-05-12T18:47:43.153Z"
   },
   {
    "duration": 126,
    "start_time": "2025-05-12T18:47:43.317Z"
   },
   {
    "duration": 157,
    "start_time": "2025-05-12T18:47:43.445Z"
   },
   {
    "duration": 17,
    "start_time": "2025-05-12T18:47:43.604Z"
   },
   {
    "duration": 9,
    "start_time": "2025-05-12T18:47:43.623Z"
   },
   {
    "duration": 17,
    "start_time": "2025-05-12T18:47:43.635Z"
   },
   {
    "duration": 129,
    "start_time": "2025-05-12T18:47:43.654Z"
   },
   {
    "duration": 21,
    "start_time": "2025-05-12T18:47:43.785Z"
   },
   {
    "duration": 304,
    "start_time": "2025-05-12T18:47:43.808Z"
   },
   {
    "duration": 7,
    "start_time": "2025-05-12T18:47:44.121Z"
   },
   {
    "duration": 7,
    "start_time": "2025-05-12T18:47:44.131Z"
   },
   {
    "duration": 18,
    "start_time": "2025-05-12T18:47:44.139Z"
   },
   {
    "duration": 174,
    "start_time": "2025-05-12T18:47:44.160Z"
   },
   {
    "duration": 3,
    "start_time": "2025-05-12T18:47:44.336Z"
   },
   {
    "duration": 7,
    "start_time": "2025-05-12T18:47:44.341Z"
   },
   {
    "duration": 6,
    "start_time": "2025-05-12T18:47:44.350Z"
   },
   {
    "duration": 16,
    "start_time": "2025-05-12T18:47:44.358Z"
   },
   {
    "duration": 6,
    "start_time": "2025-05-12T18:47:44.375Z"
   },
   {
    "duration": 41,
    "start_time": "2025-05-12T18:47:44.383Z"
   },
   {
    "duration": 40,
    "start_time": "2025-05-12T18:47:44.425Z"
   },
   {
    "duration": 4,
    "start_time": "2025-05-12T18:47:44.466Z"
   },
   {
    "duration": 13,
    "start_time": "2025-05-12T18:47:44.472Z"
   },
   {
    "duration": 42,
    "start_time": "2025-05-12T18:47:44.486Z"
   },
   {
    "duration": 2,
    "start_time": "2025-05-12T18:47:44.530Z"
   },
   {
    "duration": 19,
    "start_time": "2025-05-12T18:48:05.838Z"
   },
   {
    "duration": 18,
    "start_time": "2025-05-12T18:48:12.880Z"
   },
   {
    "duration": 22,
    "start_time": "2025-05-12T18:48:34.181Z"
   },
   {
    "duration": 21,
    "start_time": "2025-05-12T18:50:42.472Z"
   },
   {
    "duration": 17,
    "start_time": "2025-05-12T18:52:54.985Z"
   },
   {
    "duration": 23,
    "start_time": "2025-05-12T18:53:44.749Z"
   },
   {
    "duration": 454,
    "start_time": "2025-05-12T18:53:49.331Z"
   },
   {
    "duration": 71,
    "start_time": "2025-05-12T18:53:49.787Z"
   },
   {
    "duration": 25,
    "start_time": "2025-05-12T18:53:49.860Z"
   },
   {
    "duration": 5,
    "start_time": "2025-05-12T18:53:49.887Z"
   },
   {
    "duration": 159,
    "start_time": "2025-05-12T18:53:49.895Z"
   },
   {
    "duration": 135,
    "start_time": "2025-05-12T18:53:50.057Z"
   },
   {
    "duration": 186,
    "start_time": "2025-05-12T18:53:50.194Z"
   },
   {
    "duration": 8,
    "start_time": "2025-05-12T18:53:50.382Z"
   },
   {
    "duration": 10,
    "start_time": "2025-05-12T18:53:50.392Z"
   },
   {
    "duration": 31,
    "start_time": "2025-05-12T18:53:50.403Z"
   },
   {
    "duration": 139,
    "start_time": "2025-05-12T18:53:50.436Z"
   },
   {
    "duration": 20,
    "start_time": "2025-05-12T18:53:50.577Z"
   },
   {
    "duration": 332,
    "start_time": "2025-05-12T18:53:50.600Z"
   },
   {
    "duration": 8,
    "start_time": "2025-05-12T18:53:50.936Z"
   },
   {
    "duration": 8,
    "start_time": "2025-05-12T18:53:50.946Z"
   },
   {
    "duration": 17,
    "start_time": "2025-05-12T18:53:50.956Z"
   },
   {
    "duration": 151,
    "start_time": "2025-05-12T18:53:50.975Z"
   },
   {
    "duration": 7,
    "start_time": "2025-05-12T18:53:51.128Z"
   },
   {
    "duration": 7,
    "start_time": "2025-05-12T18:53:51.137Z"
   },
   {
    "duration": 8,
    "start_time": "2025-05-12T18:53:51.146Z"
   },
   {
    "duration": 16,
    "start_time": "2025-05-12T18:53:51.155Z"
   },
   {
    "duration": 6,
    "start_time": "2025-05-12T18:53:51.172Z"
   },
   {
    "duration": 42,
    "start_time": "2025-05-12T18:53:51.181Z"
   },
   {
    "duration": 46,
    "start_time": "2025-05-12T18:53:51.225Z"
   },
   {
    "duration": 4,
    "start_time": "2025-05-12T18:53:51.273Z"
   },
   {
    "duration": 18,
    "start_time": "2025-05-12T18:53:51.279Z"
   },
   {
    "duration": 19,
    "start_time": "2025-05-12T18:53:51.320Z"
   },
   {
    "duration": 2,
    "start_time": "2025-05-12T18:53:51.342Z"
   },
   {
    "duration": 187,
    "start_time": "2025-05-12T18:54:59.278Z"
   },
   {
    "duration": 295,
    "start_time": "2025-05-12T18:55:55.208Z"
   },
   {
    "duration": 65,
    "start_time": "2025-05-12T18:56:08.009Z"
   },
   {
    "duration": 2,
    "start_time": "2025-05-12T18:56:23.756Z"
   },
   {
    "duration": 38,
    "start_time": "2025-05-12T18:57:20.705Z"
   },
   {
    "duration": 40,
    "start_time": "2025-05-12T18:57:38.380Z"
   },
   {
    "duration": 14,
    "start_time": "2025-05-12T19:03:14.722Z"
   },
   {
    "duration": 31,
    "start_time": "2025-05-12T19:04:18.472Z"
   },
   {
    "duration": 17,
    "start_time": "2025-05-12T19:04:33.610Z"
   },
   {
    "duration": 20,
    "start_time": "2025-05-12T19:05:00.103Z"
   },
   {
    "duration": 2224,
    "start_time": "2025-05-12T19:06:16.344Z"
   },
   {
    "duration": 317,
    "start_time": "2025-05-12T19:06:39.572Z"
   },
   {
    "duration": 18,
    "start_time": "2025-05-12T19:08:13.280Z"
   },
   {
    "duration": 49,
    "start_time": "2025-05-12T19:08:31.057Z"
   },
   {
    "duration": 59,
    "start_time": "2025-05-12T19:09:51.173Z"
   },
   {
    "duration": 18,
    "start_time": "2025-05-12T19:12:46.198Z"
   },
   {
    "duration": 41,
    "start_time": "2025-05-12T19:13:29.008Z"
   },
   {
    "duration": 436,
    "start_time": "2025-05-12T19:13:41.623Z"
   },
   {
    "duration": 71,
    "start_time": "2025-05-12T19:13:42.061Z"
   },
   {
    "duration": 20,
    "start_time": "2025-05-12T19:13:42.133Z"
   },
   {
    "duration": 5,
    "start_time": "2025-05-12T19:13:42.154Z"
   },
   {
    "duration": 150,
    "start_time": "2025-05-12T19:13:42.162Z"
   },
   {
    "duration": 120,
    "start_time": "2025-05-12T19:13:42.314Z"
   },
   {
    "duration": 156,
    "start_time": "2025-05-12T19:13:42.436Z"
   },
   {
    "duration": 7,
    "start_time": "2025-05-12T19:13:42.593Z"
   },
   {
    "duration": 25,
    "start_time": "2025-05-12T19:13:42.601Z"
   },
   {
    "duration": 17,
    "start_time": "2025-05-12T19:13:42.628Z"
   },
   {
    "duration": 128,
    "start_time": "2025-05-12T19:13:42.647Z"
   },
   {
    "duration": 19,
    "start_time": "2025-05-12T19:13:42.776Z"
   },
   {
    "duration": 279,
    "start_time": "2025-05-12T19:13:42.796Z"
   },
   {
    "duration": 7,
    "start_time": "2025-05-12T19:13:43.079Z"
   },
   {
    "duration": 7,
    "start_time": "2025-05-12T19:13:43.087Z"
   },
   {
    "duration": 35,
    "start_time": "2025-05-12T19:13:43.095Z"
   },
   {
    "duration": 117,
    "start_time": "2025-05-12T19:13:43.131Z"
   },
   {
    "duration": 3,
    "start_time": "2025-05-12T19:13:43.250Z"
   },
   {
    "duration": 5,
    "start_time": "2025-05-12T19:13:43.255Z"
   },
   {
    "duration": 6,
    "start_time": "2025-05-12T19:13:43.262Z"
   },
   {
    "duration": 12,
    "start_time": "2025-05-12T19:13:43.269Z"
   },
   {
    "duration": 5,
    "start_time": "2025-05-12T19:13:43.282Z"
   },
   {
    "duration": 5,
    "start_time": "2025-05-12T19:13:43.320Z"
   },
   {
    "duration": 40,
    "start_time": "2025-05-12T19:13:43.327Z"
   },
   {
    "duration": 5,
    "start_time": "2025-05-12T19:13:43.368Z"
   },
   {
    "duration": 13,
    "start_time": "2025-05-12T19:13:43.374Z"
   },
   {
    "duration": 293,
    "start_time": "2025-05-12T19:13:43.388Z"
   },
   {
    "duration": 0,
    "start_time": "2025-05-12T19:13:43.683Z"
   },
   {
    "duration": 0,
    "start_time": "2025-05-12T19:13:43.684Z"
   },
   {
    "duration": 16,
    "start_time": "2025-05-12T19:14:21.132Z"
   },
   {
    "duration": 31,
    "start_time": "2025-05-12T19:14:36.761Z"
   },
   {
    "duration": 6,
    "start_time": "2025-05-12T19:16:09.577Z"
   },
   {
    "duration": 13,
    "start_time": "2025-05-12T19:16:16.472Z"
   },
   {
    "duration": 8,
    "start_time": "2025-05-12T19:16:29.026Z"
   },
   {
    "duration": 7,
    "start_time": "2025-05-12T19:16:36.202Z"
   },
   {
    "duration": 7,
    "start_time": "2025-05-12T19:17:50.479Z"
   },
   {
    "duration": 8,
    "start_time": "2025-05-12T19:18:19.001Z"
   },
   {
    "duration": 10,
    "start_time": "2025-05-12T19:18:21.306Z"
   },
   {
    "duration": 8,
    "start_time": "2025-05-12T19:18:27.193Z"
   },
   {
    "duration": 11,
    "start_time": "2025-05-12T19:18:29.299Z"
   },
   {
    "duration": 6,
    "start_time": "2025-05-12T19:18:36.455Z"
   },
   {
    "duration": 10,
    "start_time": "2025-05-12T19:18:39.231Z"
   },
   {
    "duration": 9,
    "start_time": "2025-05-12T19:18:44.661Z"
   },
   {
    "duration": 8,
    "start_time": "2025-05-12T19:18:46.710Z"
   },
   {
    "duration": 8,
    "start_time": "2025-05-12T19:18:54.921Z"
   },
   {
    "duration": 9,
    "start_time": "2025-05-12T19:18:57.325Z"
   },
   {
    "duration": 7,
    "start_time": "2025-05-12T19:19:04.213Z"
   },
   {
    "duration": 10,
    "start_time": "2025-05-12T19:19:06.246Z"
   },
   {
    "duration": 9,
    "start_time": "2025-05-12T19:19:13.336Z"
   },
   {
    "duration": 8,
    "start_time": "2025-05-12T19:19:15.589Z"
   },
   {
    "duration": 11,
    "start_time": "2025-05-12T19:19:21.199Z"
   },
   {
    "duration": 10,
    "start_time": "2025-05-12T19:19:23.271Z"
   },
   {
    "duration": 9,
    "start_time": "2025-05-12T19:19:29.695Z"
   },
   {
    "duration": 9,
    "start_time": "2025-05-12T19:19:31.665Z"
   },
   {
    "duration": 10,
    "start_time": "2025-05-12T19:19:36.893Z"
   },
   {
    "duration": 8,
    "start_time": "2025-05-12T19:19:39.168Z"
   },
   {
    "duration": 8,
    "start_time": "2025-05-12T19:19:47.761Z"
   },
   {
    "duration": 9,
    "start_time": "2025-05-12T19:19:49.865Z"
   },
   {
    "duration": 360,
    "start_time": "2025-05-12T19:19:54.704Z"
   },
   {
    "duration": 8,
    "start_time": "2025-05-12T19:19:56.457Z"
   },
   {
    "duration": 11,
    "start_time": "2025-05-12T19:19:58.482Z"
   },
   {
    "duration": 11,
    "start_time": "2025-05-12T19:20:03.771Z"
   },
   {
    "duration": 8,
    "start_time": "2025-05-12T19:20:07.112Z"
   },
   {
    "duration": 7,
    "start_time": "2025-05-12T19:20:11.336Z"
   },
   {
    "duration": 10,
    "start_time": "2025-05-12T19:20:13.563Z"
   },
   {
    "duration": 8,
    "start_time": "2025-05-12T19:20:18.227Z"
   },
   {
    "duration": 7,
    "start_time": "2025-05-12T19:20:19.803Z"
   },
   {
    "duration": 9,
    "start_time": "2025-05-12T19:20:23.715Z"
   },
   {
    "duration": 7,
    "start_time": "2025-05-12T19:20:25.714Z"
   },
   {
    "duration": 6,
    "start_time": "2025-05-12T19:20:38.909Z"
   },
   {
    "duration": 24,
    "start_time": "2025-05-12T19:20:53.629Z"
   },
   {
    "duration": 11,
    "start_time": "2025-05-12T19:20:59.781Z"
   },
   {
    "duration": 10,
    "start_time": "2025-05-12T19:21:48.415Z"
   },
   {
    "duration": 6,
    "start_time": "2025-05-12T19:22:14.326Z"
   },
   {
    "duration": 11,
    "start_time": "2025-05-12T19:22:16.804Z"
   },
   {
    "duration": 3,
    "start_time": "2025-05-12T19:23:45.123Z"
   },
   {
    "duration": 10,
    "start_time": "2025-05-12T19:25:25.290Z"
   },
   {
    "duration": 10,
    "start_time": "2025-05-12T19:28:30.080Z"
   },
   {
    "duration": 104,
    "start_time": "2025-05-12T19:29:09.283Z"
   },
   {
    "duration": 13,
    "start_time": "2025-05-12T19:29:39.278Z"
   },
   {
    "duration": 15,
    "start_time": "2025-05-12T19:29:41.380Z"
   },
   {
    "duration": 15,
    "start_time": "2025-05-12T19:29:46.732Z"
   },
   {
    "duration": 450,
    "start_time": "2025-05-12T19:30:20.821Z"
   },
   {
    "duration": 62,
    "start_time": "2025-05-12T19:30:21.273Z"
   },
   {
    "duration": 20,
    "start_time": "2025-05-12T19:30:21.337Z"
   },
   {
    "duration": 4,
    "start_time": "2025-05-12T19:30:21.360Z"
   },
   {
    "duration": 153,
    "start_time": "2025-05-12T19:30:21.366Z"
   },
   {
    "duration": 125,
    "start_time": "2025-05-12T19:30:21.524Z"
   },
   {
    "duration": 156,
    "start_time": "2025-05-12T19:30:21.651Z"
   },
   {
    "duration": 214,
    "start_time": "2025-05-12T19:30:21.809Z"
   },
   {
    "duration": 0,
    "start_time": "2025-05-12T19:30:22.025Z"
   },
   {
    "duration": 0,
    "start_time": "2025-05-12T19:30:22.027Z"
   },
   {
    "duration": 0,
    "start_time": "2025-05-12T19:30:22.028Z"
   },
   {
    "duration": 0,
    "start_time": "2025-05-12T19:30:22.029Z"
   },
   {
    "duration": 0,
    "start_time": "2025-05-12T19:30:22.030Z"
   },
   {
    "duration": 0,
    "start_time": "2025-05-12T19:30:22.031Z"
   },
   {
    "duration": 0,
    "start_time": "2025-05-12T19:30:22.032Z"
   },
   {
    "duration": 0,
    "start_time": "2025-05-12T19:30:22.033Z"
   },
   {
    "duration": 0,
    "start_time": "2025-05-12T19:30:22.035Z"
   },
   {
    "duration": 0,
    "start_time": "2025-05-12T19:30:22.036Z"
   },
   {
    "duration": 0,
    "start_time": "2025-05-12T19:30:22.038Z"
   },
   {
    "duration": 0,
    "start_time": "2025-05-12T19:30:22.039Z"
   },
   {
    "duration": 0,
    "start_time": "2025-05-12T19:30:22.040Z"
   },
   {
    "duration": 0,
    "start_time": "2025-05-12T19:30:22.041Z"
   },
   {
    "duration": 0,
    "start_time": "2025-05-12T19:30:22.042Z"
   },
   {
    "duration": 0,
    "start_time": "2025-05-12T19:30:22.043Z"
   },
   {
    "duration": 0,
    "start_time": "2025-05-12T19:30:22.044Z"
   },
   {
    "duration": 0,
    "start_time": "2025-05-12T19:30:22.045Z"
   },
   {
    "duration": 0,
    "start_time": "2025-05-12T19:30:22.046Z"
   },
   {
    "duration": 0,
    "start_time": "2025-05-12T19:30:22.047Z"
   },
   {
    "duration": 0,
    "start_time": "2025-05-12T19:30:22.048Z"
   },
   {
    "duration": 0,
    "start_time": "2025-05-12T19:30:22.049Z"
   },
   {
    "duration": 0,
    "start_time": "2025-05-12T19:30:22.051Z"
   },
   {
    "duration": 402,
    "start_time": "2025-05-12T19:30:49.478Z"
   },
   {
    "duration": 73,
    "start_time": "2025-05-12T19:30:49.883Z"
   },
   {
    "duration": 21,
    "start_time": "2025-05-12T19:30:49.958Z"
   },
   {
    "duration": 5,
    "start_time": "2025-05-12T19:30:49.981Z"
   },
   {
    "duration": 155,
    "start_time": "2025-05-12T19:30:49.988Z"
   },
   {
    "duration": 127,
    "start_time": "2025-05-12T19:30:50.145Z"
   },
   {
    "duration": 156,
    "start_time": "2025-05-12T19:30:50.273Z"
   },
   {
    "duration": 11,
    "start_time": "2025-05-12T19:30:50.431Z"
   },
   {
    "duration": 9,
    "start_time": "2025-05-12T19:30:50.443Z"
   },
   {
    "duration": 12,
    "start_time": "2025-05-12T19:30:50.454Z"
   },
   {
    "duration": 15,
    "start_time": "2025-05-12T19:30:50.468Z"
   },
   {
    "duration": 131,
    "start_time": "2025-05-12T19:30:50.485Z"
   },
   {
    "duration": 18,
    "start_time": "2025-05-12T19:30:50.620Z"
   },
   {
    "duration": 269,
    "start_time": "2025-05-12T19:30:50.641Z"
   },
   {
    "duration": 11,
    "start_time": "2025-05-12T19:30:50.919Z"
   },
   {
    "duration": 7,
    "start_time": "2025-05-12T19:30:50.932Z"
   },
   {
    "duration": 14,
    "start_time": "2025-05-12T19:30:50.940Z"
   },
   {
    "duration": 127,
    "start_time": "2025-05-12T19:30:50.956Z"
   },
   {
    "duration": 3,
    "start_time": "2025-05-12T19:30:51.085Z"
   },
   {
    "duration": 6,
    "start_time": "2025-05-12T19:30:51.089Z"
   },
   {
    "duration": 24,
    "start_time": "2025-05-12T19:30:51.097Z"
   },
   {
    "duration": 14,
    "start_time": "2025-05-12T19:30:51.122Z"
   },
   {
    "duration": 6,
    "start_time": "2025-05-12T19:30:51.137Z"
   },
   {
    "duration": 5,
    "start_time": "2025-05-12T19:30:51.144Z"
   },
   {
    "duration": 39,
    "start_time": "2025-05-12T19:30:51.151Z"
   },
   {
    "duration": 5,
    "start_time": "2025-05-12T19:30:51.219Z"
   },
   {
    "duration": 4,
    "start_time": "2025-05-12T19:30:51.227Z"
   },
   {
    "duration": 5,
    "start_time": "2025-05-12T19:30:51.234Z"
   },
   {
    "duration": 16,
    "start_time": "2025-05-12T19:30:51.241Z"
   },
   {
    "duration": 2,
    "start_time": "2025-05-12T19:30:51.259Z"
   },
   {
    "duration": 3,
    "start_time": "2025-05-12T19:30:51.263Z"
   },
   {
    "duration": 505,
    "start_time": "2025-05-12T19:32:11.307Z"
   },
   {
    "duration": 397,
    "start_time": "2025-05-12T19:32:25.113Z"
   },
   {
    "duration": 82,
    "start_time": "2025-05-12T19:32:25.512Z"
   },
   {
    "duration": 19,
    "start_time": "2025-05-12T19:32:25.596Z"
   },
   {
    "duration": 6,
    "start_time": "2025-05-12T19:32:25.618Z"
   },
   {
    "duration": 141,
    "start_time": "2025-05-12T19:32:25.625Z"
   },
   {
    "duration": 125,
    "start_time": "2025-05-12T19:32:25.768Z"
   },
   {
    "duration": 156,
    "start_time": "2025-05-12T19:32:25.895Z"
   },
   {
    "duration": 11,
    "start_time": "2025-05-12T19:32:26.052Z"
   },
   {
    "duration": 7,
    "start_time": "2025-05-12T19:32:26.064Z"
   },
   {
    "duration": 8,
    "start_time": "2025-05-12T19:32:26.074Z"
   },
   {
    "duration": 40,
    "start_time": "2025-05-12T19:32:26.083Z"
   },
   {
    "duration": 116,
    "start_time": "2025-05-12T19:32:26.125Z"
   },
   {
    "duration": 18,
    "start_time": "2025-05-12T19:32:26.242Z"
   },
   {
    "duration": 247,
    "start_time": "2025-05-12T19:32:26.262Z"
   },
   {
    "duration": 12,
    "start_time": "2025-05-12T19:32:26.511Z"
   },
   {
    "duration": 6,
    "start_time": "2025-05-12T19:32:26.525Z"
   },
   {
    "duration": 15,
    "start_time": "2025-05-12T19:32:26.533Z"
   },
   {
    "duration": 131,
    "start_time": "2025-05-12T19:32:26.551Z"
   },
   {
    "duration": 3,
    "start_time": "2025-05-12T19:32:26.684Z"
   },
   {
    "duration": 6,
    "start_time": "2025-05-12T19:32:26.689Z"
   },
   {
    "duration": 23,
    "start_time": "2025-05-12T19:32:26.696Z"
   },
   {
    "duration": 12,
    "start_time": "2025-05-12T19:32:26.721Z"
   },
   {
    "duration": 5,
    "start_time": "2025-05-12T19:32:26.735Z"
   },
   {
    "duration": 5,
    "start_time": "2025-05-12T19:32:26.741Z"
   },
   {
    "duration": 39,
    "start_time": "2025-05-12T19:32:26.748Z"
   },
   {
    "duration": 4,
    "start_time": "2025-05-12T19:32:26.819Z"
   },
   {
    "duration": 2,
    "start_time": "2025-05-12T19:32:26.825Z"
   },
   {
    "duration": 409,
    "start_time": "2025-05-12T19:32:26.832Z"
   },
   {
    "duration": 0,
    "start_time": "2025-05-12T19:32:27.243Z"
   },
   {
    "duration": 0,
    "start_time": "2025-05-12T19:32:27.246Z"
   },
   {
    "duration": 0,
    "start_time": "2025-05-12T19:32:27.248Z"
   },
   {
    "duration": 20,
    "start_time": "2025-05-12T19:33:21.227Z"
   },
   {
    "duration": 480,
    "start_time": "2025-05-12T19:33:46.739Z"
   },
   {
    "duration": 70,
    "start_time": "2025-05-12T19:33:47.222Z"
   },
   {
    "duration": 29,
    "start_time": "2025-05-12T19:33:47.294Z"
   },
   {
    "duration": 4,
    "start_time": "2025-05-12T19:33:47.326Z"
   },
   {
    "duration": 142,
    "start_time": "2025-05-12T19:33:47.332Z"
   },
   {
    "duration": 125,
    "start_time": "2025-05-12T19:33:47.475Z"
   },
   {
    "duration": 158,
    "start_time": "2025-05-12T19:33:47.601Z"
   },
   {
    "duration": 10,
    "start_time": "2025-05-12T19:33:47.761Z"
   },
   {
    "duration": 7,
    "start_time": "2025-05-12T19:33:47.772Z"
   },
   {
    "duration": 8,
    "start_time": "2025-05-12T19:33:47.782Z"
   },
   {
    "duration": 41,
    "start_time": "2025-05-12T19:33:47.791Z"
   },
   {
    "duration": 116,
    "start_time": "2025-05-12T19:33:47.834Z"
   },
   {
    "duration": 18,
    "start_time": "2025-05-12T19:33:47.951Z"
   },
   {
    "duration": 254,
    "start_time": "2025-05-12T19:33:47.970Z"
   },
   {
    "duration": 6,
    "start_time": "2025-05-12T19:33:48.226Z"
   },
   {
    "duration": 7,
    "start_time": "2025-05-12T19:33:48.233Z"
   },
   {
    "duration": 17,
    "start_time": "2025-05-12T19:33:48.241Z"
   },
   {
    "duration": 134,
    "start_time": "2025-05-12T19:33:48.260Z"
   },
   {
    "duration": 3,
    "start_time": "2025-05-12T19:33:48.396Z"
   },
   {
    "duration": 19,
    "start_time": "2025-05-12T19:33:48.401Z"
   },
   {
    "duration": 6,
    "start_time": "2025-05-12T19:33:48.421Z"
   },
   {
    "duration": 12,
    "start_time": "2025-05-12T19:33:48.429Z"
   },
   {
    "duration": 8,
    "start_time": "2025-05-12T19:33:48.443Z"
   },
   {
    "duration": 6,
    "start_time": "2025-05-12T19:33:48.453Z"
   },
   {
    "duration": 70,
    "start_time": "2025-05-12T19:33:48.461Z"
   },
   {
    "duration": 4,
    "start_time": "2025-05-12T19:33:48.533Z"
   },
   {
    "duration": 2,
    "start_time": "2025-05-12T19:33:48.539Z"
   },
   {
    "duration": 2,
    "start_time": "2025-05-12T19:33:48.545Z"
   },
   {
    "duration": 4,
    "start_time": "2025-05-12T19:33:48.549Z"
   },
   {
    "duration": 10,
    "start_time": "2025-05-12T19:33:48.554Z"
   },
   {
    "duration": 3,
    "start_time": "2025-05-12T19:33:48.565Z"
   },
   {
    "duration": 3,
    "start_time": "2025-05-12T19:33:48.569Z"
   },
   {
    "duration": 7,
    "start_time": "2025-05-12T19:34:14.559Z"
   },
   {
    "duration": 10,
    "start_time": "2025-05-12T19:34:17.868Z"
   },
   {
    "duration": 15,
    "start_time": "2025-05-12T19:34:22.073Z"
   },
   {
    "duration": 6,
    "start_time": "2025-05-12T19:35:37.926Z"
   },
   {
    "duration": 15,
    "start_time": "2025-05-12T19:35:45.290Z"
   },
   {
    "duration": 19,
    "start_time": "2025-05-12T19:35:50.311Z"
   },
   {
    "duration": 419,
    "start_time": "2025-05-12T19:36:22.169Z"
   },
   {
    "duration": 67,
    "start_time": "2025-05-12T19:36:22.590Z"
   },
   {
    "duration": 19,
    "start_time": "2025-05-12T19:36:22.659Z"
   },
   {
    "duration": 5,
    "start_time": "2025-05-12T19:36:22.681Z"
   },
   {
    "duration": 145,
    "start_time": "2025-05-12T19:36:22.688Z"
   },
   {
    "duration": 127,
    "start_time": "2025-05-12T19:36:22.835Z"
   },
   {
    "duration": 171,
    "start_time": "2025-05-12T19:36:22.964Z"
   },
   {
    "duration": 10,
    "start_time": "2025-05-12T19:36:23.137Z"
   },
   {
    "duration": 9,
    "start_time": "2025-05-12T19:36:23.148Z"
   },
   {
    "duration": 11,
    "start_time": "2025-05-12T19:36:23.161Z"
   },
   {
    "duration": 47,
    "start_time": "2025-05-12T19:36:23.174Z"
   },
   {
    "duration": 114,
    "start_time": "2025-05-12T19:36:23.224Z"
   },
   {
    "duration": 18,
    "start_time": "2025-05-12T19:36:23.340Z"
   },
   {
    "duration": 250,
    "start_time": "2025-05-12T19:36:23.359Z"
   },
   {
    "duration": 12,
    "start_time": "2025-05-12T19:36:23.610Z"
   },
   {
    "duration": 6,
    "start_time": "2025-05-12T19:36:23.624Z"
   },
   {
    "duration": 14,
    "start_time": "2025-05-12T19:36:23.632Z"
   },
   {
    "duration": 135,
    "start_time": "2025-05-12T19:36:23.648Z"
   },
   {
    "duration": 3,
    "start_time": "2025-05-12T19:36:23.785Z"
   },
   {
    "duration": 7,
    "start_time": "2025-05-12T19:36:23.790Z"
   },
   {
    "duration": 23,
    "start_time": "2025-05-12T19:36:23.799Z"
   },
   {
    "duration": 12,
    "start_time": "2025-05-12T19:36:23.824Z"
   },
   {
    "duration": 5,
    "start_time": "2025-05-12T19:36:23.838Z"
   },
   {
    "duration": 6,
    "start_time": "2025-05-12T19:36:23.845Z"
   },
   {
    "duration": 67,
    "start_time": "2025-05-12T19:36:23.853Z"
   },
   {
    "duration": 4,
    "start_time": "2025-05-12T19:36:23.922Z"
   },
   {
    "duration": 3,
    "start_time": "2025-05-12T19:36:23.928Z"
   },
   {
    "duration": 28,
    "start_time": "2025-05-12T19:36:23.934Z"
   },
   {
    "duration": 3,
    "start_time": "2025-05-12T19:36:23.963Z"
   },
   {
    "duration": 9,
    "start_time": "2025-05-12T19:36:23.968Z"
   },
   {
    "duration": 2,
    "start_time": "2025-05-12T19:36:23.979Z"
   },
   {
    "duration": 2,
    "start_time": "2025-05-12T19:36:24.020Z"
   },
   {
    "duration": 412,
    "start_time": "2025-05-12T19:37:50.183Z"
   },
   {
    "duration": 72,
    "start_time": "2025-05-12T19:37:50.597Z"
   },
   {
    "duration": 19,
    "start_time": "2025-05-12T19:37:50.670Z"
   },
   {
    "duration": 4,
    "start_time": "2025-05-12T19:37:50.691Z"
   },
   {
    "duration": 151,
    "start_time": "2025-05-12T19:37:50.697Z"
   },
   {
    "duration": 132,
    "start_time": "2025-05-12T19:37:50.850Z"
   },
   {
    "duration": 161,
    "start_time": "2025-05-12T19:37:50.984Z"
   },
   {
    "duration": 11,
    "start_time": "2025-05-12T19:37:51.147Z"
   },
   {
    "duration": 7,
    "start_time": "2025-05-12T19:37:51.159Z"
   },
   {
    "duration": 7,
    "start_time": "2025-05-12T19:37:51.169Z"
   },
   {
    "duration": 46,
    "start_time": "2025-05-12T19:37:51.178Z"
   },
   {
    "duration": 120,
    "start_time": "2025-05-12T19:37:51.227Z"
   },
   {
    "duration": 19,
    "start_time": "2025-05-12T19:37:51.349Z"
   },
   {
    "duration": 252,
    "start_time": "2025-05-12T19:37:51.370Z"
   },
   {
    "duration": 6,
    "start_time": "2025-05-12T19:37:51.624Z"
   },
   {
    "duration": 7,
    "start_time": "2025-05-12T19:37:51.632Z"
   },
   {
    "duration": 15,
    "start_time": "2025-05-12T19:37:51.641Z"
   },
   {
    "duration": 137,
    "start_time": "2025-05-12T19:37:51.657Z"
   },
   {
    "duration": 5,
    "start_time": "2025-05-12T19:37:51.796Z"
   },
   {
    "duration": 18,
    "start_time": "2025-05-12T19:37:51.802Z"
   },
   {
    "duration": 7,
    "start_time": "2025-05-12T19:37:51.822Z"
   },
   {
    "duration": 13,
    "start_time": "2025-05-12T19:37:51.830Z"
   },
   {
    "duration": 7,
    "start_time": "2025-05-12T19:37:51.845Z"
   },
   {
    "duration": 6,
    "start_time": "2025-05-12T19:37:51.853Z"
   },
   {
    "duration": 78,
    "start_time": "2025-05-12T19:37:51.860Z"
   },
   {
    "duration": 4,
    "start_time": "2025-05-12T19:37:51.940Z"
   },
   {
    "duration": 14,
    "start_time": "2025-05-12T19:37:51.945Z"
   },
   {
    "duration": 4,
    "start_time": "2025-05-12T19:37:51.963Z"
   },
   {
    "duration": 0,
    "start_time": "2025-05-12T19:37:51.969Z"
   },
   {
    "duration": 0,
    "start_time": "2025-05-12T19:37:51.970Z"
   },
   {
    "duration": 0,
    "start_time": "2025-05-12T19:37:51.971Z"
   },
   {
    "duration": 0,
    "start_time": "2025-05-12T19:37:51.973Z"
   },
   {
    "duration": 399,
    "start_time": "2025-05-12T19:37:57.236Z"
   },
   {
    "duration": 77,
    "start_time": "2025-05-12T19:38:01.452Z"
   },
   {
    "duration": 442,
    "start_time": "2025-05-12T19:38:12.624Z"
   },
   {
    "duration": 77,
    "start_time": "2025-05-12T19:38:13.068Z"
   },
   {
    "duration": 22,
    "start_time": "2025-05-12T19:38:13.147Z"
   },
   {
    "duration": 5,
    "start_time": "2025-05-12T19:38:13.171Z"
   },
   {
    "duration": 146,
    "start_time": "2025-05-12T19:38:13.179Z"
   },
   {
    "duration": 127,
    "start_time": "2025-05-12T19:38:13.327Z"
   },
   {
    "duration": 151,
    "start_time": "2025-05-12T19:38:13.456Z"
   },
   {
    "duration": 19,
    "start_time": "2025-05-12T19:38:13.609Z"
   },
   {
    "duration": 7,
    "start_time": "2025-05-12T19:38:13.630Z"
   },
   {
    "duration": 8,
    "start_time": "2025-05-12T19:38:13.638Z"
   },
   {
    "duration": 17,
    "start_time": "2025-05-12T19:38:13.648Z"
   },
   {
    "duration": 139,
    "start_time": "2025-05-12T19:38:13.666Z"
   },
   {
    "duration": 22,
    "start_time": "2025-05-12T19:38:13.807Z"
   },
   {
    "duration": 270,
    "start_time": "2025-05-12T19:38:13.833Z"
   },
   {
    "duration": 15,
    "start_time": "2025-05-12T19:38:14.105Z"
   },
   {
    "duration": 7,
    "start_time": "2025-05-12T19:38:14.122Z"
   },
   {
    "duration": 15,
    "start_time": "2025-05-12T19:38:14.131Z"
   },
   {
    "duration": 139,
    "start_time": "2025-05-12T19:38:14.148Z"
   },
   {
    "duration": 4,
    "start_time": "2025-05-12T19:38:14.288Z"
   },
   {
    "duration": 5,
    "start_time": "2025-05-12T19:38:14.294Z"
   },
   {
    "duration": 19,
    "start_time": "2025-05-12T19:38:14.301Z"
   },
   {
    "duration": 13,
    "start_time": "2025-05-12T19:38:14.321Z"
   },
   {
    "duration": 5,
    "start_time": "2025-05-12T19:38:14.336Z"
   },
   {
    "duration": 5,
    "start_time": "2025-05-12T19:38:14.342Z"
   },
   {
    "duration": 39,
    "start_time": "2025-05-12T19:38:14.349Z"
   },
   {
    "duration": 4,
    "start_time": "2025-05-12T19:38:14.420Z"
   },
   {
    "duration": 13,
    "start_time": "2025-05-12T19:38:14.426Z"
   },
   {
    "duration": 28,
    "start_time": "2025-05-12T19:38:14.441Z"
   },
   {
    "duration": 2,
    "start_time": "2025-05-12T19:38:14.471Z"
   },
   {
    "duration": 9,
    "start_time": "2025-05-12T19:38:14.475Z"
   },
   {
    "duration": 2,
    "start_time": "2025-05-12T19:38:14.486Z"
   },
   {
    "duration": 3,
    "start_time": "2025-05-12T19:38:14.519Z"
   },
   {
    "duration": 447,
    "start_time": "2025-05-12T19:38:52.747Z"
   },
   {
    "duration": 79,
    "start_time": "2025-05-12T19:38:53.198Z"
   },
   {
    "duration": 32,
    "start_time": "2025-05-12T19:38:53.279Z"
   },
   {
    "duration": 10,
    "start_time": "2025-05-12T19:38:53.313Z"
   },
   {
    "duration": 198,
    "start_time": "2025-05-12T19:38:53.327Z"
   },
   {
    "duration": 134,
    "start_time": "2025-05-12T19:38:53.527Z"
   },
   {
    "duration": 156,
    "start_time": "2025-05-12T19:38:53.663Z"
   },
   {
    "duration": 10,
    "start_time": "2025-05-12T19:38:53.821Z"
   },
   {
    "duration": 6,
    "start_time": "2025-05-12T19:38:53.832Z"
   },
   {
    "duration": 14,
    "start_time": "2025-05-12T19:38:53.840Z"
   },
   {
    "duration": 20,
    "start_time": "2025-05-12T19:38:53.856Z"
   },
   {
    "duration": 142,
    "start_time": "2025-05-12T19:38:53.878Z"
   },
   {
    "duration": 21,
    "start_time": "2025-05-12T19:38:54.022Z"
   },
   {
    "duration": 263,
    "start_time": "2025-05-12T19:38:54.048Z"
   },
   {
    "duration": 12,
    "start_time": "2025-05-12T19:38:54.313Z"
   },
   {
    "duration": 9,
    "start_time": "2025-05-12T19:38:54.326Z"
   },
   {
    "duration": 26,
    "start_time": "2025-05-12T19:38:54.337Z"
   },
   {
    "duration": 145,
    "start_time": "2025-05-12T19:38:54.365Z"
   },
   {
    "duration": 7,
    "start_time": "2025-05-12T19:38:54.512Z"
   },
   {
    "duration": 6,
    "start_time": "2025-05-12T19:38:54.521Z"
   },
   {
    "duration": 8,
    "start_time": "2025-05-12T19:38:54.529Z"
   },
   {
    "duration": 15,
    "start_time": "2025-05-12T19:38:54.538Z"
   },
   {
    "duration": 5,
    "start_time": "2025-05-12T19:38:54.555Z"
   },
   {
    "duration": 6,
    "start_time": "2025-05-12T19:38:54.563Z"
   },
   {
    "duration": 77,
    "start_time": "2025-05-12T19:38:54.571Z"
   },
   {
    "duration": 4,
    "start_time": "2025-05-12T19:38:54.650Z"
   },
   {
    "duration": 13,
    "start_time": "2025-05-12T19:38:54.656Z"
   },
   {
    "duration": 20,
    "start_time": "2025-05-12T19:38:54.670Z"
   },
   {
    "duration": 2,
    "start_time": "2025-05-12T19:38:54.692Z"
   },
   {
    "duration": 2,
    "start_time": "2025-05-12T19:38:54.719Z"
   },
   {
    "duration": 414,
    "start_time": "2025-05-12T19:39:26.408Z"
   },
   {
    "duration": 65,
    "start_time": "2025-05-12T19:39:26.824Z"
   },
   {
    "duration": 29,
    "start_time": "2025-05-12T19:39:26.891Z"
   },
   {
    "duration": 4,
    "start_time": "2025-05-12T19:39:26.922Z"
   },
   {
    "duration": 142,
    "start_time": "2025-05-12T19:39:26.929Z"
   },
   {
    "duration": 123,
    "start_time": "2025-05-12T19:39:27.072Z"
   },
   {
    "duration": 155,
    "start_time": "2025-05-12T19:39:27.197Z"
   },
   {
    "duration": 10,
    "start_time": "2025-05-12T19:39:27.354Z"
   },
   {
    "duration": 6,
    "start_time": "2025-05-12T19:39:27.365Z"
   },
   {
    "duration": 9,
    "start_time": "2025-05-12T19:39:27.373Z"
   },
   {
    "duration": 43,
    "start_time": "2025-05-12T19:39:27.384Z"
   },
   {
    "duration": 110,
    "start_time": "2025-05-12T19:39:27.429Z"
   },
   {
    "duration": 18,
    "start_time": "2025-05-12T19:39:27.541Z"
   },
   {
    "duration": 239,
    "start_time": "2025-05-12T19:39:27.563Z"
   },
   {
    "duration": 6,
    "start_time": "2025-05-12T19:39:27.804Z"
   },
   {
    "duration": 6,
    "start_time": "2025-05-12T19:39:27.820Z"
   },
   {
    "duration": 14,
    "start_time": "2025-05-12T19:39:27.828Z"
   },
   {
    "duration": 127,
    "start_time": "2025-05-12T19:39:27.844Z"
   },
   {
    "duration": 3,
    "start_time": "2025-05-12T19:39:27.973Z"
   },
   {
    "duration": 7,
    "start_time": "2025-05-12T19:39:27.977Z"
   },
   {
    "duration": 7,
    "start_time": "2025-05-12T19:39:27.985Z"
   },
   {
    "duration": 32,
    "start_time": "2025-05-12T19:39:27.994Z"
   },
   {
    "duration": 5,
    "start_time": "2025-05-12T19:39:28.029Z"
   },
   {
    "duration": 5,
    "start_time": "2025-05-12T19:39:28.036Z"
   },
   {
    "duration": 40,
    "start_time": "2025-05-12T19:39:28.042Z"
   },
   {
    "duration": 5,
    "start_time": "2025-05-12T19:39:28.083Z"
   },
   {
    "duration": 43,
    "start_time": "2025-05-12T19:39:28.089Z"
   },
   {
    "duration": 42,
    "start_time": "2025-05-12T19:39:28.134Z"
   },
   {
    "duration": 3,
    "start_time": "2025-05-12T19:39:28.177Z"
   },
   {
    "duration": 2,
    "start_time": "2025-05-12T19:39:28.182Z"
   },
   {
    "duration": 442,
    "start_time": "2025-05-12T19:44:44.339Z"
   },
   {
    "duration": 74,
    "start_time": "2025-05-12T19:44:44.783Z"
   },
   {
    "duration": 19,
    "start_time": "2025-05-12T19:44:44.859Z"
   },
   {
    "duration": 4,
    "start_time": "2025-05-12T19:44:44.880Z"
   },
   {
    "duration": 140,
    "start_time": "2025-05-12T19:44:44.887Z"
   },
   {
    "duration": 124,
    "start_time": "2025-05-12T19:44:45.029Z"
   },
   {
    "duration": 156,
    "start_time": "2025-05-12T19:44:45.155Z"
   },
   {
    "duration": 15,
    "start_time": "2025-05-12T19:44:45.313Z"
   },
   {
    "duration": 6,
    "start_time": "2025-05-12T19:44:45.330Z"
   },
   {
    "duration": 8,
    "start_time": "2025-05-12T19:44:45.338Z"
   },
   {
    "duration": 17,
    "start_time": "2025-05-12T19:44:45.348Z"
   },
   {
    "duration": 141,
    "start_time": "2025-05-12T19:44:45.366Z"
   },
   {
    "duration": 18,
    "start_time": "2025-05-12T19:44:45.509Z"
   },
   {
    "duration": 260,
    "start_time": "2025-05-12T19:44:45.530Z"
   },
   {
    "duration": 7,
    "start_time": "2025-05-12T19:44:45.792Z"
   },
   {
    "duration": 20,
    "start_time": "2025-05-12T19:44:45.800Z"
   },
   {
    "duration": 13,
    "start_time": "2025-05-12T19:44:45.822Z"
   },
   {
    "duration": 127,
    "start_time": "2025-05-12T19:44:45.837Z"
   },
   {
    "duration": 3,
    "start_time": "2025-05-12T19:44:45.967Z"
   },
   {
    "duration": 6,
    "start_time": "2025-05-12T19:44:45.971Z"
   },
   {
    "duration": 6,
    "start_time": "2025-05-12T19:44:45.980Z"
   },
   {
    "duration": 33,
    "start_time": "2025-05-12T19:44:45.987Z"
   },
   {
    "duration": 5,
    "start_time": "2025-05-12T19:44:46.022Z"
   },
   {
    "duration": 5,
    "start_time": "2025-05-12T19:44:46.029Z"
   },
   {
    "duration": 40,
    "start_time": "2025-05-12T19:44:46.037Z"
   },
   {
    "duration": 4,
    "start_time": "2025-05-12T19:44:46.079Z"
   },
   {
    "duration": 43,
    "start_time": "2025-05-12T19:44:46.085Z"
   },
   {
    "duration": 107,
    "start_time": "2025-05-12T19:44:46.131Z"
   },
   {
    "duration": 0,
    "start_time": "2025-05-12T19:44:46.239Z"
   },
   {
    "duration": 0,
    "start_time": "2025-05-12T19:44:46.241Z"
   },
   {
    "duration": 16,
    "start_time": "2025-05-12T19:51:52.665Z"
   },
   {
    "duration": 442,
    "start_time": "2025-05-12T19:52:07.628Z"
   },
   {
    "duration": 75,
    "start_time": "2025-05-12T19:52:08.072Z"
   },
   {
    "duration": 20,
    "start_time": "2025-05-12T19:52:08.149Z"
   },
   {
    "duration": 4,
    "start_time": "2025-05-12T19:52:08.170Z"
   },
   {
    "duration": 145,
    "start_time": "2025-05-12T19:52:08.177Z"
   },
   {
    "duration": 132,
    "start_time": "2025-05-12T19:52:08.324Z"
   },
   {
    "duration": 169,
    "start_time": "2025-05-12T19:52:08.458Z"
   },
   {
    "duration": 9,
    "start_time": "2025-05-12T19:52:08.629Z"
   },
   {
    "duration": 6,
    "start_time": "2025-05-12T19:52:08.640Z"
   },
   {
    "duration": 8,
    "start_time": "2025-05-12T19:52:08.647Z"
   },
   {
    "duration": 15,
    "start_time": "2025-05-12T19:52:08.657Z"
   },
   {
    "duration": 138,
    "start_time": "2025-05-12T19:52:08.673Z"
   },
   {
    "duration": 22,
    "start_time": "2025-05-12T19:52:08.813Z"
   },
   {
    "duration": 266,
    "start_time": "2025-05-12T19:52:08.838Z"
   },
   {
    "duration": 14,
    "start_time": "2025-05-12T19:52:09.106Z"
   },
   {
    "duration": 7,
    "start_time": "2025-05-12T19:52:09.122Z"
   },
   {
    "duration": 16,
    "start_time": "2025-05-12T19:52:09.131Z"
   },
   {
    "duration": 130,
    "start_time": "2025-05-12T19:52:09.149Z"
   },
   {
    "duration": 4,
    "start_time": "2025-05-12T19:52:09.280Z"
   },
   {
    "duration": 6,
    "start_time": "2025-05-12T19:52:09.285Z"
   },
   {
    "duration": 7,
    "start_time": "2025-05-12T19:52:09.292Z"
   },
   {
    "duration": 30,
    "start_time": "2025-05-12T19:52:09.300Z"
   },
   {
    "duration": 6,
    "start_time": "2025-05-12T19:52:09.332Z"
   },
   {
    "duration": 6,
    "start_time": "2025-05-12T19:52:09.340Z"
   },
   {
    "duration": 73,
    "start_time": "2025-05-12T19:52:09.347Z"
   },
   {
    "duration": 5,
    "start_time": "2025-05-12T19:52:09.423Z"
   },
   {
    "duration": 14,
    "start_time": "2025-05-12T19:52:09.429Z"
   },
   {
    "duration": 16,
    "start_time": "2025-05-12T19:52:09.445Z"
   },
   {
    "duration": 3,
    "start_time": "2025-05-12T19:52:09.462Z"
   },
   {
    "duration": 3,
    "start_time": "2025-05-12T19:52:09.466Z"
   },
   {
    "duration": 28,
    "start_time": "2025-05-12T19:52:41.269Z"
   },
   {
    "duration": 441,
    "start_time": "2025-05-12T19:55:13.146Z"
   },
   {
    "duration": 66,
    "start_time": "2025-05-12T19:55:13.589Z"
   },
   {
    "duration": 20,
    "start_time": "2025-05-12T19:55:13.657Z"
   },
   {
    "duration": 4,
    "start_time": "2025-05-12T19:55:13.679Z"
   },
   {
    "duration": 144,
    "start_time": "2025-05-12T19:55:13.685Z"
   },
   {
    "duration": 125,
    "start_time": "2025-05-12T19:55:13.831Z"
   },
   {
    "duration": 165,
    "start_time": "2025-05-12T19:55:13.957Z"
   },
   {
    "duration": 10,
    "start_time": "2025-05-12T19:55:14.124Z"
   },
   {
    "duration": 7,
    "start_time": "2025-05-12T19:55:14.135Z"
   },
   {
    "duration": 8,
    "start_time": "2025-05-12T19:55:14.145Z"
   },
   {
    "duration": 18,
    "start_time": "2025-05-12T19:55:14.154Z"
   },
   {
    "duration": 140,
    "start_time": "2025-05-12T19:55:14.174Z"
   },
   {
    "duration": 19,
    "start_time": "2025-05-12T19:55:14.316Z"
   },
   {
    "duration": 271,
    "start_time": "2025-05-12T19:55:14.336Z"
   },
   {
    "duration": 15,
    "start_time": "2025-05-12T19:55:14.610Z"
   },
   {
    "duration": 8,
    "start_time": "2025-05-12T19:55:14.626Z"
   },
   {
    "duration": 16,
    "start_time": "2025-05-12T19:55:14.635Z"
   },
   {
    "duration": 137,
    "start_time": "2025-05-12T19:55:14.652Z"
   },
   {
    "duration": 3,
    "start_time": "2025-05-12T19:55:14.791Z"
   },
   {
    "duration": 7,
    "start_time": "2025-05-12T19:55:14.796Z"
   },
   {
    "duration": 20,
    "start_time": "2025-05-12T19:55:14.805Z"
   },
   {
    "duration": 13,
    "start_time": "2025-05-12T19:55:14.827Z"
   },
   {
    "duration": 5,
    "start_time": "2025-05-12T19:55:14.841Z"
   },
   {
    "duration": 6,
    "start_time": "2025-05-12T19:55:14.847Z"
   },
   {
    "duration": 68,
    "start_time": "2025-05-12T19:55:14.854Z"
   },
   {
    "duration": 3,
    "start_time": "2025-05-12T19:55:14.924Z"
   },
   {
    "duration": 14,
    "start_time": "2025-05-12T19:55:14.929Z"
   },
   {
    "duration": 27,
    "start_time": "2025-05-12T19:55:14.946Z"
   },
   {
    "duration": 2,
    "start_time": "2025-05-12T19:55:14.974Z"
   },
   {
    "duration": 3,
    "start_time": "2025-05-12T19:55:14.978Z"
   },
   {
    "duration": 496,
    "start_time": "2025-05-12T19:55:32.452Z"
   },
   {
    "duration": 18,
    "start_time": "2025-05-12T19:55:51.173Z"
   },
   {
    "duration": 33,
    "start_time": "2025-05-12T19:59:19.381Z"
   },
   {
    "duration": 429,
    "start_time": "2025-05-12T19:59:25.157Z"
   },
   {
    "duration": 75,
    "start_time": "2025-05-12T19:59:25.588Z"
   },
   {
    "duration": 19,
    "start_time": "2025-05-12T19:59:25.665Z"
   },
   {
    "duration": 4,
    "start_time": "2025-05-12T19:59:25.687Z"
   },
   {
    "duration": 141,
    "start_time": "2025-05-12T19:59:25.693Z"
   },
   {
    "duration": 129,
    "start_time": "2025-05-12T19:59:25.836Z"
   },
   {
    "duration": 154,
    "start_time": "2025-05-12T19:59:25.967Z"
   },
   {
    "duration": 10,
    "start_time": "2025-05-12T19:59:26.123Z"
   },
   {
    "duration": 7,
    "start_time": "2025-05-12T19:59:26.135Z"
   },
   {
    "duration": 8,
    "start_time": "2025-05-12T19:59:26.147Z"
   },
   {
    "duration": 15,
    "start_time": "2025-05-12T19:59:26.157Z"
   },
   {
    "duration": 138,
    "start_time": "2025-05-12T19:59:26.174Z"
   },
   {
    "duration": 24,
    "start_time": "2025-05-12T19:59:26.314Z"
   },
   {
    "duration": 260,
    "start_time": "2025-05-12T19:59:26.340Z"
   },
   {
    "duration": 6,
    "start_time": "2025-05-12T19:59:26.602Z"
   },
   {
    "duration": 14,
    "start_time": "2025-05-12T19:59:26.610Z"
   },
   {
    "duration": 15,
    "start_time": "2025-05-12T19:59:26.626Z"
   },
   {
    "duration": 137,
    "start_time": "2025-05-12T19:59:26.642Z"
   },
   {
    "duration": 3,
    "start_time": "2025-05-12T19:59:26.782Z"
   },
   {
    "duration": 7,
    "start_time": "2025-05-12T19:59:26.787Z"
   },
   {
    "duration": 24,
    "start_time": "2025-05-12T19:59:26.796Z"
   },
   {
    "duration": 13,
    "start_time": "2025-05-12T19:59:26.821Z"
   },
   {
    "duration": 6,
    "start_time": "2025-05-12T19:59:26.835Z"
   },
   {
    "duration": 7,
    "start_time": "2025-05-12T19:59:26.842Z"
   },
   {
    "duration": 68,
    "start_time": "2025-05-12T19:59:26.851Z"
   },
   {
    "duration": 4,
    "start_time": "2025-05-12T19:59:26.921Z"
   },
   {
    "duration": 13,
    "start_time": "2025-05-12T19:59:26.927Z"
   },
   {
    "duration": 28,
    "start_time": "2025-05-12T19:59:26.944Z"
   },
   {
    "duration": 2,
    "start_time": "2025-05-12T19:59:26.973Z"
   },
   {
    "duration": 307,
    "start_time": "2025-05-12T19:59:26.977Z"
   },
   {
    "duration": 0,
    "start_time": "2025-05-12T19:59:27.285Z"
   },
   {
    "duration": 415,
    "start_time": "2025-05-12T20:05:37.571Z"
   },
   {
    "duration": 69,
    "start_time": "2025-05-12T20:05:37.988Z"
   },
   {
    "duration": 21,
    "start_time": "2025-05-12T20:05:38.058Z"
   },
   {
    "duration": 4,
    "start_time": "2025-05-12T20:05:38.081Z"
   },
   {
    "duration": 155,
    "start_time": "2025-05-12T20:05:38.087Z"
   },
   {
    "duration": 126,
    "start_time": "2025-05-12T20:05:38.244Z"
   },
   {
    "duration": 175,
    "start_time": "2025-05-12T20:05:38.371Z"
   },
   {
    "duration": 11,
    "start_time": "2025-05-12T20:05:38.548Z"
   },
   {
    "duration": 8,
    "start_time": "2025-05-12T20:05:38.561Z"
   },
   {
    "duration": 10,
    "start_time": "2025-05-12T20:05:38.572Z"
   },
   {
    "duration": 41,
    "start_time": "2025-05-12T20:05:38.583Z"
   },
   {
    "duration": 113,
    "start_time": "2025-05-12T20:05:38.625Z"
   },
   {
    "duration": 19,
    "start_time": "2025-05-12T20:05:38.740Z"
   },
   {
    "duration": 246,
    "start_time": "2025-05-12T20:05:38.761Z"
   },
   {
    "duration": 15,
    "start_time": "2025-05-12T20:05:39.009Z"
   },
   {
    "duration": 6,
    "start_time": "2025-05-12T20:05:39.025Z"
   },
   {
    "duration": 15,
    "start_time": "2025-05-12T20:05:39.033Z"
   },
   {
    "duration": 129,
    "start_time": "2025-05-12T20:05:39.049Z"
   },
   {
    "duration": 3,
    "start_time": "2025-05-12T20:05:39.180Z"
   },
   {
    "duration": 6,
    "start_time": "2025-05-12T20:05:39.184Z"
   },
   {
    "duration": 6,
    "start_time": "2025-05-12T20:05:39.192Z"
   },
   {
    "duration": 32,
    "start_time": "2025-05-12T20:05:39.199Z"
   },
   {
    "duration": 6,
    "start_time": "2025-05-12T20:05:39.233Z"
   },
   {
    "duration": 8,
    "start_time": "2025-05-12T20:05:39.241Z"
   },
   {
    "duration": 42,
    "start_time": "2025-05-12T20:05:39.251Z"
   },
   {
    "duration": 5,
    "start_time": "2025-05-12T20:05:39.319Z"
   },
   {
    "duration": 37,
    "start_time": "2025-05-12T20:05:39.325Z"
   },
   {
    "duration": 199,
    "start_time": "2025-05-12T20:05:39.365Z"
   },
   {
    "duration": 0,
    "start_time": "2025-05-12T20:05:39.566Z"
   },
   {
    "duration": 0,
    "start_time": "2025-05-12T20:05:39.567Z"
   },
   {
    "duration": 0,
    "start_time": "2025-05-12T20:05:39.569Z"
   },
   {
    "duration": 0,
    "start_time": "2025-05-12T20:05:39.570Z"
   },
   {
    "duration": 0,
    "start_time": "2025-05-12T20:05:39.572Z"
   },
   {
    "duration": 435,
    "start_time": "2025-05-12T20:06:22.347Z"
   },
   {
    "duration": 68,
    "start_time": "2025-05-12T20:06:22.784Z"
   },
   {
    "duration": 19,
    "start_time": "2025-05-12T20:06:22.854Z"
   },
   {
    "duration": 4,
    "start_time": "2025-05-12T20:06:22.875Z"
   },
   {
    "duration": 148,
    "start_time": "2025-05-12T20:06:22.882Z"
   },
   {
    "duration": 127,
    "start_time": "2025-05-12T20:06:23.032Z"
   },
   {
    "duration": 159,
    "start_time": "2025-05-12T20:06:23.161Z"
   },
   {
    "duration": 10,
    "start_time": "2025-05-12T20:06:23.321Z"
   },
   {
    "duration": 6,
    "start_time": "2025-05-12T20:06:23.333Z"
   },
   {
    "duration": 8,
    "start_time": "2025-05-12T20:06:23.341Z"
   },
   {
    "duration": 15,
    "start_time": "2025-05-12T20:06:23.350Z"
   },
   {
    "duration": 139,
    "start_time": "2025-05-12T20:06:23.367Z"
   },
   {
    "duration": 23,
    "start_time": "2025-05-12T20:06:23.507Z"
   },
   {
    "duration": 267,
    "start_time": "2025-05-12T20:06:23.533Z"
   },
   {
    "duration": 19,
    "start_time": "2025-05-12T20:06:23.802Z"
   },
   {
    "duration": 7,
    "start_time": "2025-05-12T20:06:23.823Z"
   },
   {
    "duration": 14,
    "start_time": "2025-05-12T20:06:23.832Z"
   },
   {
    "duration": 131,
    "start_time": "2025-05-12T20:06:23.848Z"
   },
   {
    "duration": 3,
    "start_time": "2025-05-12T20:06:23.981Z"
   },
   {
    "duration": 6,
    "start_time": "2025-05-12T20:06:23.986Z"
   },
   {
    "duration": 25,
    "start_time": "2025-05-12T20:06:23.994Z"
   },
   {
    "duration": 12,
    "start_time": "2025-05-12T20:06:24.021Z"
   },
   {
    "duration": 5,
    "start_time": "2025-05-12T20:06:24.035Z"
   },
   {
    "duration": 6,
    "start_time": "2025-05-12T20:06:24.042Z"
   },
   {
    "duration": 40,
    "start_time": "2025-05-12T20:06:24.049Z"
   },
   {
    "duration": 31,
    "start_time": "2025-05-12T20:06:24.090Z"
   },
   {
    "duration": 5,
    "start_time": "2025-05-12T20:06:24.123Z"
   },
   {
    "duration": 0,
    "start_time": "2025-05-12T20:06:24.130Z"
   },
   {
    "duration": 0,
    "start_time": "2025-05-12T20:06:24.131Z"
   },
   {
    "duration": 0,
    "start_time": "2025-05-12T20:06:24.132Z"
   },
   {
    "duration": 0,
    "start_time": "2025-05-12T20:06:24.134Z"
   },
   {
    "duration": 0,
    "start_time": "2025-05-12T20:06:24.136Z"
   },
   {
    "duration": 0,
    "start_time": "2025-05-12T20:06:24.137Z"
   },
   {
    "duration": 116,
    "start_time": "2025-05-12T20:06:29.602Z"
   },
   {
    "duration": 39,
    "start_time": "2025-05-12T20:07:16.966Z"
   },
   {
    "duration": 12,
    "start_time": "2025-05-12T20:10:43.892Z"
   },
   {
    "duration": 8,
    "start_time": "2025-05-12T20:10:50.217Z"
   },
   {
    "duration": 5,
    "start_time": "2025-05-12T20:18:37.880Z"
   },
   {
    "duration": 10,
    "start_time": "2025-05-12T20:18:48.889Z"
   },
   {
    "duration": 8,
    "start_time": "2025-05-12T20:18:58.579Z"
   },
   {
    "duration": 4,
    "start_time": "2025-05-12T20:19:02.483Z"
   },
   {
    "duration": 7,
    "start_time": "2025-05-12T20:19:07.500Z"
   },
   {
    "duration": 504,
    "start_time": "2025-05-12T20:19:18.233Z"
   },
   {
    "duration": 5,
    "start_time": "2025-05-12T20:19:26.903Z"
   },
   {
    "duration": 6,
    "start_time": "2025-05-12T20:20:38.236Z"
   },
   {
    "duration": 7,
    "start_time": "2025-05-12T20:20:51.371Z"
   },
   {
    "duration": 20,
    "start_time": "2025-05-12T20:22:12.065Z"
   },
   {
    "duration": 2150,
    "start_time": "2025-05-12T22:30:06.911Z"
   },
   {
    "duration": 62,
    "start_time": "2025-05-12T22:30:09.063Z"
   },
   {
    "duration": 22,
    "start_time": "2025-05-12T22:30:09.127Z"
   },
   {
    "duration": 5,
    "start_time": "2025-05-12T22:30:09.152Z"
   },
   {
    "duration": 129,
    "start_time": "2025-05-12T22:30:09.158Z"
   },
   {
    "duration": 129,
    "start_time": "2025-05-12T22:30:09.289Z"
   },
   {
    "duration": 155,
    "start_time": "2025-05-12T22:30:09.420Z"
   },
   {
    "duration": 21,
    "start_time": "2025-05-12T22:30:09.577Z"
   },
   {
    "duration": 6,
    "start_time": "2025-05-12T22:30:09.600Z"
   },
   {
    "duration": 8,
    "start_time": "2025-05-12T22:30:09.609Z"
   },
   {
    "duration": 16,
    "start_time": "2025-05-12T22:30:09.618Z"
   },
   {
    "duration": 175,
    "start_time": "2025-05-12T22:30:09.635Z"
   },
   {
    "duration": 19,
    "start_time": "2025-05-12T22:30:09.812Z"
   },
   {
    "duration": 265,
    "start_time": "2025-05-12T22:30:09.833Z"
   },
   {
    "duration": 6,
    "start_time": "2025-05-12T22:30:10.100Z"
   },
   {
    "duration": 6,
    "start_time": "2025-05-12T22:30:10.108Z"
   },
   {
    "duration": 14,
    "start_time": "2025-05-12T22:30:10.116Z"
   },
   {
    "duration": 138,
    "start_time": "2025-05-12T22:30:10.132Z"
   },
   {
    "duration": 4,
    "start_time": "2025-05-12T22:30:10.272Z"
   },
   {
    "duration": 6,
    "start_time": "2025-05-12T22:30:10.287Z"
   },
   {
    "duration": 7,
    "start_time": "2025-05-12T22:30:10.295Z"
   },
   {
    "duration": 12,
    "start_time": "2025-05-12T22:30:10.303Z"
   },
   {
    "duration": 6,
    "start_time": "2025-05-12T22:30:10.316Z"
   },
   {
    "duration": 6,
    "start_time": "2025-05-12T22:30:10.324Z"
   },
   {
    "duration": 79,
    "start_time": "2025-05-12T22:30:10.332Z"
   },
   {
    "duration": 4,
    "start_time": "2025-05-12T22:30:10.412Z"
   },
   {
    "duration": 11,
    "start_time": "2025-05-12T22:30:10.418Z"
   },
   {
    "duration": 59,
    "start_time": "2025-05-12T22:30:10.433Z"
   },
   {
    "duration": 2,
    "start_time": "2025-05-12T22:30:10.494Z"
   },
   {
    "duration": 2,
    "start_time": "2025-05-12T22:30:10.497Z"
   },
   {
    "duration": 25,
    "start_time": "2025-05-12T22:30:10.501Z"
   },
   {
    "duration": 14,
    "start_time": "2025-05-12T22:35:01.526Z"
   },
   {
    "duration": 494,
    "start_time": "2025-05-12T22:37:38.898Z"
   },
   {
    "duration": 436,
    "start_time": "2025-05-12T22:37:43.614Z"
   },
   {
    "duration": 66,
    "start_time": "2025-05-12T22:37:44.052Z"
   },
   {
    "duration": 20,
    "start_time": "2025-05-12T22:37:44.119Z"
   },
   {
    "duration": 4,
    "start_time": "2025-05-12T22:37:44.141Z"
   },
   {
    "duration": 145,
    "start_time": "2025-05-12T22:37:44.148Z"
   },
   {
    "duration": 119,
    "start_time": "2025-05-12T22:37:44.295Z"
   },
   {
    "duration": 157,
    "start_time": "2025-05-12T22:37:44.416Z"
   },
   {
    "duration": 19,
    "start_time": "2025-05-12T22:37:44.575Z"
   },
   {
    "duration": 6,
    "start_time": "2025-05-12T22:37:44.595Z"
   },
   {
    "duration": 9,
    "start_time": "2025-05-12T22:37:44.603Z"
   },
   {
    "duration": 17,
    "start_time": "2025-05-12T22:37:44.614Z"
   },
   {
    "duration": 130,
    "start_time": "2025-05-12T22:37:44.632Z"
   },
   {
    "duration": 30,
    "start_time": "2025-05-12T22:37:44.764Z"
   },
   {
    "duration": 269,
    "start_time": "2025-05-12T22:37:44.798Z"
   },
   {
    "duration": 18,
    "start_time": "2025-05-12T22:37:45.068Z"
   },
   {
    "duration": 7,
    "start_time": "2025-05-12T22:37:45.088Z"
   },
   {
    "duration": 14,
    "start_time": "2025-05-12T22:37:45.097Z"
   },
   {
    "duration": 125,
    "start_time": "2025-05-12T22:37:45.113Z"
   },
   {
    "duration": 3,
    "start_time": "2025-05-12T22:37:45.239Z"
   },
   {
    "duration": 6,
    "start_time": "2025-05-12T22:37:45.244Z"
   },
   {
    "duration": 6,
    "start_time": "2025-05-12T22:37:45.251Z"
   },
   {
    "duration": 36,
    "start_time": "2025-05-12T22:37:45.259Z"
   },
   {
    "duration": 6,
    "start_time": "2025-05-12T22:37:45.296Z"
   },
   {
    "duration": 5,
    "start_time": "2025-05-12T22:37:45.304Z"
   },
   {
    "duration": 42,
    "start_time": "2025-05-12T22:37:45.310Z"
   },
   {
    "duration": 5,
    "start_time": "2025-05-12T22:37:45.354Z"
   },
   {
    "duration": 38,
    "start_time": "2025-05-12T22:37:45.361Z"
   },
   {
    "duration": 47,
    "start_time": "2025-05-12T22:37:45.401Z"
   },
   {
    "duration": 2,
    "start_time": "2025-05-12T22:37:45.450Z"
   },
   {
    "duration": 2,
    "start_time": "2025-05-12T22:37:45.454Z"
   },
   {
    "duration": 42,
    "start_time": "2025-05-12T22:37:45.458Z"
   },
   {
    "duration": 12,
    "start_time": "2025-05-12T22:38:38.908Z"
   },
   {
    "duration": 412,
    "start_time": "2025-05-12T22:39:50.452Z"
   },
   {
    "duration": 66,
    "start_time": "2025-05-12T22:39:50.866Z"
   },
   {
    "duration": 20,
    "start_time": "2025-05-12T22:39:50.933Z"
   },
   {
    "duration": 5,
    "start_time": "2025-05-12T22:39:50.955Z"
   },
   {
    "duration": 150,
    "start_time": "2025-05-12T22:39:50.962Z"
   },
   {
    "duration": 127,
    "start_time": "2025-05-12T22:39:51.113Z"
   },
   {
    "duration": 153,
    "start_time": "2025-05-12T22:39:51.243Z"
   },
   {
    "duration": 10,
    "start_time": "2025-05-12T22:39:51.398Z"
   },
   {
    "duration": 6,
    "start_time": "2025-05-12T22:39:51.409Z"
   },
   {
    "duration": 8,
    "start_time": "2025-05-12T22:39:51.418Z"
   },
   {
    "duration": 15,
    "start_time": "2025-05-12T22:39:51.428Z"
   },
   {
    "duration": 142,
    "start_time": "2025-05-12T22:39:51.444Z"
   },
   {
    "duration": 18,
    "start_time": "2025-05-12T22:39:51.589Z"
   },
   {
    "duration": 252,
    "start_time": "2025-05-12T22:39:51.609Z"
   },
   {
    "duration": 6,
    "start_time": "2025-05-12T22:39:51.863Z"
   },
   {
    "duration": 8,
    "start_time": "2025-05-12T22:39:51.887Z"
   },
   {
    "duration": 14,
    "start_time": "2025-05-12T22:39:51.897Z"
   },
   {
    "duration": 124,
    "start_time": "2025-05-12T22:39:51.912Z"
   },
   {
    "duration": 3,
    "start_time": "2025-05-12T22:39:52.038Z"
   },
   {
    "duration": 6,
    "start_time": "2025-05-12T22:39:52.043Z"
   },
   {
    "duration": 20,
    "start_time": "2025-05-12T22:39:52.051Z"
   },
   {
    "duration": 25,
    "start_time": "2025-05-12T22:39:52.073Z"
   },
   {
    "duration": 6,
    "start_time": "2025-05-12T22:39:52.100Z"
   },
   {
    "duration": 5,
    "start_time": "2025-05-12T22:39:52.108Z"
   },
   {
    "duration": 40,
    "start_time": "2025-05-12T22:39:52.116Z"
   },
   {
    "duration": 4,
    "start_time": "2025-05-12T22:39:52.186Z"
   },
   {
    "duration": 19,
    "start_time": "2025-05-12T22:39:52.192Z"
   },
   {
    "duration": 32,
    "start_time": "2025-05-12T22:39:52.215Z"
   },
   {
    "duration": 11,
    "start_time": "2025-05-12T22:39:52.249Z"
   },
   {
    "duration": 26,
    "start_time": "2025-05-12T22:39:52.262Z"
   },
   {
    "duration": 2,
    "start_time": "2025-05-12T22:39:52.290Z"
   },
   {
    "duration": 20,
    "start_time": "2025-05-12T22:39:52.294Z"
   },
   {
    "duration": 438,
    "start_time": "2025-05-12T22:41:32.917Z"
   },
   {
    "duration": 65,
    "start_time": "2025-05-12T22:41:33.357Z"
   },
   {
    "duration": 18,
    "start_time": "2025-05-12T22:41:33.424Z"
   },
   {
    "duration": 4,
    "start_time": "2025-05-12T22:41:33.444Z"
   },
   {
    "duration": 145,
    "start_time": "2025-05-12T22:41:33.450Z"
   },
   {
    "duration": 119,
    "start_time": "2025-05-12T22:41:33.597Z"
   },
   {
    "duration": 163,
    "start_time": "2025-05-12T22:41:33.718Z"
   },
   {
    "duration": 11,
    "start_time": "2025-05-12T22:41:33.882Z"
   },
   {
    "duration": 6,
    "start_time": "2025-05-12T22:41:33.894Z"
   },
   {
    "duration": 9,
    "start_time": "2025-05-12T22:41:33.903Z"
   },
   {
    "duration": 16,
    "start_time": "2025-05-12T22:41:33.913Z"
   },
   {
    "duration": 142,
    "start_time": "2025-05-12T22:41:33.930Z"
   },
   {
    "duration": 21,
    "start_time": "2025-05-12T22:41:34.074Z"
   },
   {
    "duration": 270,
    "start_time": "2025-05-12T22:41:34.097Z"
   },
   {
    "duration": 5,
    "start_time": "2025-05-12T22:41:34.369Z"
   },
   {
    "duration": 9,
    "start_time": "2025-05-12T22:41:34.387Z"
   },
   {
    "duration": 15,
    "start_time": "2025-05-12T22:41:34.397Z"
   },
   {
    "duration": 123,
    "start_time": "2025-05-12T22:41:34.414Z"
   },
   {
    "duration": 3,
    "start_time": "2025-05-12T22:41:34.539Z"
   },
   {
    "duration": 6,
    "start_time": "2025-05-12T22:41:34.544Z"
   },
   {
    "duration": 6,
    "start_time": "2025-05-12T22:41:34.551Z"
   },
   {
    "duration": 33,
    "start_time": "2025-05-12T22:41:34.559Z"
   },
   {
    "duration": 5,
    "start_time": "2025-05-12T22:41:34.594Z"
   },
   {
    "duration": 5,
    "start_time": "2025-05-12T22:41:34.600Z"
   },
   {
    "duration": 38,
    "start_time": "2025-05-12T22:41:34.607Z"
   },
   {
    "duration": 4,
    "start_time": "2025-05-12T22:41:34.647Z"
   },
   {
    "duration": 23,
    "start_time": "2025-05-12T22:41:34.686Z"
   },
   {
    "duration": 2,
    "start_time": "2025-05-12T22:41:34.713Z"
   },
   {
    "duration": 19,
    "start_time": "2025-05-12T22:41:34.716Z"
   },
   {
    "duration": 4,
    "start_time": "2025-05-12T22:42:58.526Z"
   },
   {
    "duration": 357,
    "start_time": "2025-05-12T22:43:10.715Z"
   },
   {
    "duration": 403,
    "start_time": "2025-05-12T22:43:16.168Z"
   },
   {
    "duration": 66,
    "start_time": "2025-05-12T22:43:16.573Z"
   },
   {
    "duration": 20,
    "start_time": "2025-05-12T22:43:16.641Z"
   },
   {
    "duration": 6,
    "start_time": "2025-05-12T22:43:16.662Z"
   },
   {
    "duration": 146,
    "start_time": "2025-05-12T22:43:16.670Z"
   },
   {
    "duration": 125,
    "start_time": "2025-05-12T22:43:16.818Z"
   },
   {
    "duration": 159,
    "start_time": "2025-05-12T22:43:16.945Z"
   },
   {
    "duration": 10,
    "start_time": "2025-05-12T22:43:17.106Z"
   },
   {
    "duration": 6,
    "start_time": "2025-05-12T22:43:17.118Z"
   },
   {
    "duration": 9,
    "start_time": "2025-05-12T22:43:17.125Z"
   },
   {
    "duration": 17,
    "start_time": "2025-05-12T22:43:17.136Z"
   },
   {
    "duration": 113,
    "start_time": "2025-05-12T22:43:17.187Z"
   },
   {
    "duration": 19,
    "start_time": "2025-05-12T22:43:17.302Z"
   },
   {
    "duration": 251,
    "start_time": "2025-05-12T22:43:17.325Z"
   },
   {
    "duration": 12,
    "start_time": "2025-05-12T22:43:17.578Z"
   },
   {
    "duration": 7,
    "start_time": "2025-05-12T22:43:17.592Z"
   },
   {
    "duration": 14,
    "start_time": "2025-05-12T22:43:17.601Z"
   },
   {
    "duration": 129,
    "start_time": "2025-05-12T22:43:17.617Z"
   },
   {
    "duration": 4,
    "start_time": "2025-05-12T22:43:17.748Z"
   },
   {
    "duration": 6,
    "start_time": "2025-05-12T22:43:17.754Z"
   },
   {
    "duration": 25,
    "start_time": "2025-05-12T22:43:17.762Z"
   },
   {
    "duration": 14,
    "start_time": "2025-05-12T22:43:17.788Z"
   },
   {
    "duration": 5,
    "start_time": "2025-05-12T22:43:17.803Z"
   },
   {
    "duration": 6,
    "start_time": "2025-05-12T22:43:17.809Z"
   },
   {
    "duration": 72,
    "start_time": "2025-05-12T22:43:17.816Z"
   },
   {
    "duration": 4,
    "start_time": "2025-05-12T22:43:17.890Z"
   },
   {
    "duration": 23,
    "start_time": "2025-05-12T22:43:17.896Z"
   },
   {
    "duration": 2,
    "start_time": "2025-05-12T22:43:17.921Z"
   },
   {
    "duration": 19,
    "start_time": "2025-05-12T22:43:17.925Z"
   },
   {
    "duration": 432,
    "start_time": "2025-05-12T23:00:14.614Z"
   },
   {
    "duration": 65,
    "start_time": "2025-05-12T23:00:15.048Z"
   },
   {
    "duration": 19,
    "start_time": "2025-05-12T23:00:15.115Z"
   },
   {
    "duration": 4,
    "start_time": "2025-05-12T23:00:15.135Z"
   },
   {
    "duration": 149,
    "start_time": "2025-05-12T23:00:15.142Z"
   },
   {
    "duration": 126,
    "start_time": "2025-05-12T23:00:15.292Z"
   },
   {
    "duration": 158,
    "start_time": "2025-05-12T23:00:15.419Z"
   },
   {
    "duration": 16,
    "start_time": "2025-05-12T23:00:15.579Z"
   },
   {
    "duration": 6,
    "start_time": "2025-05-12T23:00:15.597Z"
   },
   {
    "duration": 8,
    "start_time": "2025-05-12T23:00:15.604Z"
   },
   {
    "duration": 16,
    "start_time": "2025-05-12T23:00:15.614Z"
   },
   {
    "duration": 142,
    "start_time": "2025-05-12T23:00:15.631Z"
   },
   {
    "duration": 27,
    "start_time": "2025-05-12T23:00:15.775Z"
   },
   {
    "duration": 260,
    "start_time": "2025-05-12T23:00:15.806Z"
   },
   {
    "duration": 18,
    "start_time": "2025-05-12T23:00:16.069Z"
   },
   {
    "duration": 6,
    "start_time": "2025-05-12T23:00:16.089Z"
   },
   {
    "duration": 14,
    "start_time": "2025-05-12T23:00:16.097Z"
   },
   {
    "duration": 125,
    "start_time": "2025-05-12T23:00:16.113Z"
   },
   {
    "duration": 3,
    "start_time": "2025-05-12T23:00:16.240Z"
   },
   {
    "duration": 6,
    "start_time": "2025-05-12T23:00:16.245Z"
   },
   {
    "duration": 7,
    "start_time": "2025-05-12T23:00:16.252Z"
   },
   {
    "duration": 34,
    "start_time": "2025-05-12T23:00:16.260Z"
   },
   {
    "duration": 6,
    "start_time": "2025-05-12T23:00:16.296Z"
   },
   {
    "duration": 7,
    "start_time": "2025-05-12T23:00:16.303Z"
   },
   {
    "duration": 40,
    "start_time": "2025-05-12T23:00:16.312Z"
   },
   {
    "duration": 4,
    "start_time": "2025-05-12T23:00:16.353Z"
   },
   {
    "duration": 27,
    "start_time": "2025-05-12T23:00:16.386Z"
   },
   {
    "duration": 2,
    "start_time": "2025-05-12T23:00:16.415Z"
   },
   {
    "duration": 19,
    "start_time": "2025-05-12T23:00:16.418Z"
   },
   {
    "duration": 409,
    "start_time": "2025-05-12T23:01:31.777Z"
   },
   {
    "duration": 63,
    "start_time": "2025-05-12T23:01:32.188Z"
   },
   {
    "duration": 19,
    "start_time": "2025-05-12T23:01:32.252Z"
   },
   {
    "duration": 15,
    "start_time": "2025-05-12T23:01:32.273Z"
   },
   {
    "duration": 144,
    "start_time": "2025-05-12T23:01:32.292Z"
   },
   {
    "duration": 127,
    "start_time": "2025-05-12T23:01:32.438Z"
   },
   {
    "duration": 157,
    "start_time": "2025-05-12T23:01:32.567Z"
   },
   {
    "duration": 10,
    "start_time": "2025-05-12T23:01:32.726Z"
   },
   {
    "duration": 6,
    "start_time": "2025-05-12T23:01:32.738Z"
   },
   {
    "duration": 8,
    "start_time": "2025-05-12T23:01:32.745Z"
   },
   {
    "duration": 44,
    "start_time": "2025-05-12T23:01:32.754Z"
   },
   {
    "duration": 115,
    "start_time": "2025-05-12T23:01:32.800Z"
   },
   {
    "duration": 19,
    "start_time": "2025-05-12T23:01:32.917Z"
   },
   {
    "duration": 250,
    "start_time": "2025-05-12T23:01:32.940Z"
   },
   {
    "duration": 6,
    "start_time": "2025-05-12T23:01:33.192Z"
   },
   {
    "duration": 7,
    "start_time": "2025-05-12T23:01:33.200Z"
   },
   {
    "duration": 14,
    "start_time": "2025-05-12T23:01:33.209Z"
   },
   {
    "duration": 139,
    "start_time": "2025-05-12T23:01:33.224Z"
   },
   {
    "duration": 3,
    "start_time": "2025-05-12T23:01:33.365Z"
   },
   {
    "duration": 17,
    "start_time": "2025-05-12T23:01:33.370Z"
   },
   {
    "duration": 7,
    "start_time": "2025-05-12T23:01:33.389Z"
   },
   {
    "duration": 12,
    "start_time": "2025-05-12T23:01:33.398Z"
   },
   {
    "duration": 4,
    "start_time": "2025-05-12T23:01:33.412Z"
   },
   {
    "duration": 5,
    "start_time": "2025-05-12T23:01:33.418Z"
   },
   {
    "duration": 70,
    "start_time": "2025-05-12T23:01:33.425Z"
   },
   {
    "duration": 3,
    "start_time": "2025-05-12T23:01:33.497Z"
   },
   {
    "duration": 27,
    "start_time": "2025-05-12T23:01:33.502Z"
   },
   {
    "duration": 2,
    "start_time": "2025-05-12T23:01:33.531Z"
   },
   {
    "duration": 19,
    "start_time": "2025-05-12T23:01:33.535Z"
   },
   {
    "duration": 403,
    "start_time": "2025-05-12T23:01:55.243Z"
   },
   {
    "duration": 68,
    "start_time": "2025-05-12T23:01:55.648Z"
   },
   {
    "duration": 19,
    "start_time": "2025-05-12T23:01:55.718Z"
   },
   {
    "duration": 4,
    "start_time": "2025-05-12T23:01:55.739Z"
   },
   {
    "duration": 152,
    "start_time": "2025-05-12T23:01:55.744Z"
   },
   {
    "duration": 126,
    "start_time": "2025-05-12T23:01:55.897Z"
   },
   {
    "duration": 161,
    "start_time": "2025-05-12T23:01:56.025Z"
   },
   {
    "duration": 12,
    "start_time": "2025-05-12T23:01:56.188Z"
   },
   {
    "duration": 6,
    "start_time": "2025-05-12T23:01:56.201Z"
   },
   {
    "duration": 8,
    "start_time": "2025-05-12T23:01:56.211Z"
   },
   {
    "duration": 16,
    "start_time": "2025-05-12T23:01:56.221Z"
   },
   {
    "duration": 138,
    "start_time": "2025-05-12T23:01:56.239Z"
   },
   {
    "duration": 18,
    "start_time": "2025-05-12T23:01:56.387Z"
   },
   {
    "duration": 258,
    "start_time": "2025-05-12T23:01:56.407Z"
   },
   {
    "duration": 7,
    "start_time": "2025-05-12T23:01:56.666Z"
   },
   {
    "duration": 7,
    "start_time": "2025-05-12T23:01:56.686Z"
   },
   {
    "duration": 13,
    "start_time": "2025-05-12T23:01:56.695Z"
   },
   {
    "duration": 131,
    "start_time": "2025-05-12T23:01:56.710Z"
   },
   {
    "duration": 4,
    "start_time": "2025-05-12T23:01:56.842Z"
   },
   {
    "duration": 6,
    "start_time": "2025-05-12T23:01:56.847Z"
   },
   {
    "duration": 7,
    "start_time": "2025-05-12T23:01:56.855Z"
   },
   {
    "duration": 34,
    "start_time": "2025-05-12T23:01:56.863Z"
   },
   {
    "duration": 5,
    "start_time": "2025-05-12T23:01:56.899Z"
   },
   {
    "duration": 5,
    "start_time": "2025-05-12T23:01:56.906Z"
   },
   {
    "duration": 39,
    "start_time": "2025-05-12T23:01:56.913Z"
   },
   {
    "duration": 4,
    "start_time": "2025-05-12T23:01:56.953Z"
   },
   {
    "duration": 27,
    "start_time": "2025-05-12T23:01:56.987Z"
   },
   {
    "duration": 2,
    "start_time": "2025-05-12T23:01:57.018Z"
   },
   {
    "duration": 19,
    "start_time": "2025-05-12T23:01:57.021Z"
   },
   {
    "duration": 421,
    "start_time": "2025-05-12T23:02:10.444Z"
   },
   {
    "duration": 72,
    "start_time": "2025-05-12T23:02:10.867Z"
   },
   {
    "duration": 19,
    "start_time": "2025-05-12T23:02:10.941Z"
   },
   {
    "duration": 3,
    "start_time": "2025-05-12T23:02:10.962Z"
   },
   {
    "duration": 154,
    "start_time": "2025-05-12T23:02:10.968Z"
   },
   {
    "duration": 130,
    "start_time": "2025-05-12T23:02:11.123Z"
   },
   {
    "duration": 155,
    "start_time": "2025-05-12T23:02:11.254Z"
   },
   {
    "duration": 11,
    "start_time": "2025-05-12T23:02:11.411Z"
   },
   {
    "duration": 7,
    "start_time": "2025-05-12T23:02:11.423Z"
   },
   {
    "duration": 9,
    "start_time": "2025-05-12T23:02:11.431Z"
   },
   {
    "duration": 49,
    "start_time": "2025-05-12T23:02:11.442Z"
   },
   {
    "duration": 117,
    "start_time": "2025-05-12T23:02:11.493Z"
   },
   {
    "duration": 19,
    "start_time": "2025-05-12T23:02:11.612Z"
   },
   {
    "duration": 255,
    "start_time": "2025-05-12T23:02:11.634Z"
   },
   {
    "duration": 7,
    "start_time": "2025-05-12T23:02:11.891Z"
   },
   {
    "duration": 6,
    "start_time": "2025-05-12T23:02:11.899Z"
   },
   {
    "duration": 14,
    "start_time": "2025-05-12T23:02:11.907Z"
   },
   {
    "duration": 139,
    "start_time": "2025-05-12T23:02:11.923Z"
   },
   {
    "duration": 3,
    "start_time": "2025-05-12T23:02:12.066Z"
   },
   {
    "duration": 20,
    "start_time": "2025-05-12T23:02:12.071Z"
   },
   {
    "duration": 8,
    "start_time": "2025-05-12T23:02:12.093Z"
   },
   {
    "duration": 13,
    "start_time": "2025-05-12T23:02:12.104Z"
   },
   {
    "duration": 7,
    "start_time": "2025-05-12T23:02:12.118Z"
   },
   {
    "duration": 6,
    "start_time": "2025-05-12T23:02:12.127Z"
   },
   {
    "duration": 66,
    "start_time": "2025-05-12T23:02:12.135Z"
   },
   {
    "duration": 4,
    "start_time": "2025-05-12T23:02:12.202Z"
   },
   {
    "duration": 26,
    "start_time": "2025-05-12T23:02:12.207Z"
   },
   {
    "duration": 2,
    "start_time": "2025-05-12T23:02:12.235Z"
   },
   {
    "duration": 18,
    "start_time": "2025-05-12T23:02:12.238Z"
   },
   {
    "duration": 471,
    "start_time": "2025-05-12T23:03:01.702Z"
   },
   {
    "duration": 70,
    "start_time": "2025-05-12T23:03:02.175Z"
   },
   {
    "duration": 19,
    "start_time": "2025-05-12T23:03:02.246Z"
   },
   {
    "duration": 5,
    "start_time": "2025-05-12T23:03:02.266Z"
   },
   {
    "duration": 139,
    "start_time": "2025-05-12T23:03:02.286Z"
   },
   {
    "duration": 122,
    "start_time": "2025-05-12T23:03:02.427Z"
   },
   {
    "duration": 152,
    "start_time": "2025-05-12T23:03:02.551Z"
   },
   {
    "duration": 9,
    "start_time": "2025-05-12T23:03:02.705Z"
   },
   {
    "duration": 6,
    "start_time": "2025-05-12T23:03:02.716Z"
   },
   {
    "duration": 8,
    "start_time": "2025-05-12T23:03:02.725Z"
   },
   {
    "duration": 19,
    "start_time": "2025-05-12T23:03:02.734Z"
   },
   {
    "duration": 141,
    "start_time": "2025-05-12T23:03:02.754Z"
   },
   {
    "duration": 19,
    "start_time": "2025-05-12T23:03:02.897Z"
   },
   {
    "duration": 257,
    "start_time": "2025-05-12T23:03:02.921Z"
   },
   {
    "duration": 10,
    "start_time": "2025-05-12T23:03:03.180Z"
   },
   {
    "duration": 7,
    "start_time": "2025-05-12T23:03:03.192Z"
   },
   {
    "duration": 13,
    "start_time": "2025-05-12T23:03:03.201Z"
   },
   {
    "duration": 132,
    "start_time": "2025-05-12T23:03:03.216Z"
   },
   {
    "duration": 3,
    "start_time": "2025-05-12T23:03:03.350Z"
   },
   {
    "duration": 6,
    "start_time": "2025-05-12T23:03:03.354Z"
   },
   {
    "duration": 6,
    "start_time": "2025-05-12T23:03:03.362Z"
   },
   {
    "duration": 14,
    "start_time": "2025-05-12T23:03:03.387Z"
   },
   {
    "duration": 5,
    "start_time": "2025-05-12T23:03:03.404Z"
   },
   {
    "duration": 6,
    "start_time": "2025-05-12T23:03:03.411Z"
   },
   {
    "duration": 41,
    "start_time": "2025-05-12T23:03:03.418Z"
   },
   {
    "duration": 27,
    "start_time": "2025-05-12T23:03:03.461Z"
   },
   {
    "duration": 27,
    "start_time": "2025-05-12T23:03:03.490Z"
   },
   {
    "duration": 2,
    "start_time": "2025-05-12T23:03:03.519Z"
   },
   {
    "duration": 18,
    "start_time": "2025-05-12T23:03:03.523Z"
   },
   {
    "duration": 2213,
    "start_time": "2025-05-13T15:21:32.233Z"
   },
   {
    "duration": 65,
    "start_time": "2025-05-13T15:21:34.448Z"
   },
   {
    "duration": 24,
    "start_time": "2025-05-13T15:21:34.515Z"
   },
   {
    "duration": 4,
    "start_time": "2025-05-13T15:21:34.542Z"
   },
   {
    "duration": 146,
    "start_time": "2025-05-13T15:21:34.548Z"
   },
   {
    "duration": 152,
    "start_time": "2025-05-13T15:21:34.696Z"
   },
   {
    "duration": 192,
    "start_time": "2025-05-13T15:21:34.849Z"
   },
   {
    "duration": 13,
    "start_time": "2025-05-13T15:21:35.042Z"
   },
   {
    "duration": 6,
    "start_time": "2025-05-13T15:21:35.059Z"
   },
   {
    "duration": 9,
    "start_time": "2025-05-13T15:21:35.069Z"
   },
   {
    "duration": 45,
    "start_time": "2025-05-13T15:21:35.080Z"
   },
   {
    "duration": 128,
    "start_time": "2025-05-13T15:21:35.127Z"
   },
   {
    "duration": 71,
    "start_time": "2025-05-13T15:21:35.260Z"
   },
   {
    "duration": 277,
    "start_time": "2025-05-13T15:21:35.332Z"
   },
   {
    "duration": 13,
    "start_time": "2025-05-13T15:21:35.612Z"
   },
   {
    "duration": 8,
    "start_time": "2025-05-13T15:21:35.627Z"
   },
   {
    "duration": 17,
    "start_time": "2025-05-13T15:21:35.636Z"
   },
   {
    "duration": 154,
    "start_time": "2025-05-13T15:21:35.654Z"
   },
   {
    "duration": 4,
    "start_time": "2025-05-13T15:21:35.810Z"
   },
   {
    "duration": 14,
    "start_time": "2025-05-13T15:21:35.815Z"
   },
   {
    "duration": 9,
    "start_time": "2025-05-13T15:21:35.831Z"
   },
   {
    "duration": 13,
    "start_time": "2025-05-13T15:21:35.844Z"
   },
   {
    "duration": 6,
    "start_time": "2025-05-13T15:21:35.859Z"
   },
   {
    "duration": 7,
    "start_time": "2025-05-13T15:21:35.867Z"
   },
   {
    "duration": 74,
    "start_time": "2025-05-13T15:21:35.875Z"
   },
   {
    "duration": 5,
    "start_time": "2025-05-13T15:21:35.951Z"
   },
   {
    "duration": 29,
    "start_time": "2025-05-13T15:21:35.957Z"
   },
   {
    "duration": 2,
    "start_time": "2025-05-13T15:21:35.990Z"
   },
   {
    "duration": 45,
    "start_time": "2025-05-13T15:21:35.994Z"
   },
   {
    "duration": 746,
    "start_time": "2025-05-13T15:27:38.155Z"
   },
   {
    "duration": 220,
    "start_time": "2025-05-13T15:27:55.076Z"
   },
   {
    "duration": 6,
    "start_time": "2025-05-13T15:30:09.150Z"
   },
   {
    "duration": 227,
    "start_time": "2025-05-13T15:30:21.169Z"
   },
   {
    "duration": 154,
    "start_time": "2025-05-13T15:35:15.319Z"
   },
   {
    "duration": 188,
    "start_time": "2025-05-13T15:35:25.086Z"
   },
   {
    "duration": 107,
    "start_time": "2025-05-13T15:35:46.694Z"
   },
   {
    "duration": 100,
    "start_time": "2025-05-13T15:36:00.580Z"
   },
   {
    "duration": 96,
    "start_time": "2025-05-13T15:36:20.007Z"
   },
   {
    "duration": 109,
    "start_time": "2025-05-13T15:37:01.873Z"
   },
   {
    "duration": 165,
    "start_time": "2025-05-13T15:37:06.561Z"
   },
   {
    "duration": 945,
    "start_time": "2025-05-13T15:38:40.921Z"
   },
   {
    "duration": 841,
    "start_time": "2025-05-13T15:38:57.921Z"
   },
   {
    "duration": 790,
    "start_time": "2025-05-13T15:39:01.937Z"
   },
   {
    "duration": 844,
    "start_time": "2025-05-13T15:39:49.802Z"
   },
   {
    "duration": 126,
    "start_time": "2025-05-13T15:40:18.559Z"
   },
   {
    "duration": 1188,
    "start_time": "2025-05-13T15:40:24.426Z"
   },
   {
    "duration": 962,
    "start_time": "2025-05-13T15:46:04.518Z"
   },
   {
    "duration": 1027,
    "start_time": "2025-05-13T15:46:16.878Z"
   },
   {
    "duration": 815,
    "start_time": "2025-05-13T15:48:26.070Z"
   },
   {
    "duration": 839,
    "start_time": "2025-05-13T15:48:37.355Z"
   },
   {
    "duration": 16,
    "start_time": "2025-05-13T15:49:17.065Z"
   },
   {
    "duration": 19,
    "start_time": "2025-05-13T15:49:20.568Z"
   },
   {
    "duration": 29,
    "start_time": "2025-05-13T15:49:41.937Z"
   },
   {
    "duration": 812,
    "start_time": "2025-05-13T15:50:53.564Z"
   },
   {
    "duration": 40,
    "start_time": "2025-05-13T15:55:19.394Z"
   },
   {
    "duration": 815,
    "start_time": "2025-05-13T15:55:50.686Z"
   },
   {
    "duration": 960,
    "start_time": "2025-05-13T15:56:18.807Z"
   },
   {
    "duration": 3,
    "start_time": "2025-05-13T16:14:09.229Z"
   },
   {
    "duration": 904,
    "start_time": "2025-05-13T16:20:16.631Z"
   },
   {
    "duration": 1185,
    "start_time": "2025-05-13T16:22:04.338Z"
   },
   {
    "duration": 231,
    "start_time": "2025-05-13T16:23:01.240Z"
   },
   {
    "duration": 229,
    "start_time": "2025-05-13T16:23:07.153Z"
   },
   {
    "duration": 238,
    "start_time": "2025-05-13T16:23:11.115Z"
   },
   {
    "duration": 242,
    "start_time": "2025-05-13T16:23:21.901Z"
   },
   {
    "duration": 340,
    "start_time": "2025-05-13T16:23:41.140Z"
   },
   {
    "duration": 303,
    "start_time": "2025-05-13T16:24:29.072Z"
   },
   {
    "duration": 312,
    "start_time": "2025-05-13T16:24:53.344Z"
   },
   {
    "duration": 8,
    "start_time": "2025-05-13T16:27:05.782Z"
   },
   {
    "duration": 306,
    "start_time": "2025-05-13T16:27:11.243Z"
   },
   {
    "duration": 394,
    "start_time": "2025-05-13T16:27:16.709Z"
   },
   {
    "duration": 305,
    "start_time": "2025-05-13T16:28:07.347Z"
   },
   {
    "duration": 20,
    "start_time": "2025-05-13T16:35:00.894Z"
   },
   {
    "duration": 22,
    "start_time": "2025-05-13T16:36:37.541Z"
   },
   {
    "duration": 22,
    "start_time": "2025-05-13T16:36:45.147Z"
   },
   {
    "duration": 16,
    "start_time": "2025-05-13T16:36:55.237Z"
   },
   {
    "duration": 20,
    "start_time": "2025-05-13T16:38:45.212Z"
   },
   {
    "duration": 20,
    "start_time": "2025-05-13T16:39:39.708Z"
   },
   {
    "duration": 18,
    "start_time": "2025-05-13T16:41:21.688Z"
   },
   {
    "duration": 392,
    "start_time": "2025-05-13T16:41:45.403Z"
   },
   {
    "duration": 70,
    "start_time": "2025-05-13T16:41:45.798Z"
   },
   {
    "duration": 19,
    "start_time": "2025-05-13T16:41:45.869Z"
   },
   {
    "duration": 4,
    "start_time": "2025-05-13T16:41:45.889Z"
   },
   {
    "duration": 141,
    "start_time": "2025-05-13T16:41:45.897Z"
   },
   {
    "duration": 123,
    "start_time": "2025-05-13T16:41:46.040Z"
   },
   {
    "duration": 148,
    "start_time": "2025-05-13T16:41:46.165Z"
   },
   {
    "duration": 15,
    "start_time": "2025-05-13T16:41:46.315Z"
   },
   {
    "duration": 6,
    "start_time": "2025-05-13T16:41:46.331Z"
   },
   {
    "duration": 9,
    "start_time": "2025-05-13T16:41:46.339Z"
   },
   {
    "duration": 15,
    "start_time": "2025-05-13T16:41:46.350Z"
   },
   {
    "duration": 139,
    "start_time": "2025-05-13T16:41:46.367Z"
   },
   {
    "duration": 25,
    "start_time": "2025-05-13T16:41:46.507Z"
   },
   {
    "duration": 266,
    "start_time": "2025-05-13T16:41:46.535Z"
   },
   {
    "duration": 6,
    "start_time": "2025-05-13T16:41:46.803Z"
   },
   {
    "duration": 18,
    "start_time": "2025-05-13T16:41:46.811Z"
   },
   {
    "duration": 14,
    "start_time": "2025-05-13T16:41:46.830Z"
   },
   {
    "duration": 128,
    "start_time": "2025-05-13T16:41:46.845Z"
   },
   {
    "duration": 5,
    "start_time": "2025-05-13T16:41:46.975Z"
   },
   {
    "duration": 7,
    "start_time": "2025-05-13T16:41:46.981Z"
   },
   {
    "duration": 6,
    "start_time": "2025-05-13T16:41:46.989Z"
   },
   {
    "duration": 33,
    "start_time": "2025-05-13T16:41:46.997Z"
   },
   {
    "duration": 5,
    "start_time": "2025-05-13T16:41:47.032Z"
   },
   {
    "duration": 5,
    "start_time": "2025-05-13T16:41:47.038Z"
   },
   {
    "duration": 39,
    "start_time": "2025-05-13T16:41:47.045Z"
   },
   {
    "duration": 3,
    "start_time": "2025-05-13T16:41:47.086Z"
   },
   {
    "duration": 29,
    "start_time": "2025-05-13T16:41:47.123Z"
   },
   {
    "duration": 329,
    "start_time": "2025-05-13T16:41:47.153Z"
   },
   {
    "duration": 17,
    "start_time": "2025-05-13T16:41:47.483Z"
   },
   {
    "duration": 406,
    "start_time": "2025-05-13T16:42:04.680Z"
   },
   {
    "duration": 63,
    "start_time": "2025-05-13T16:42:05.089Z"
   },
   {
    "duration": 19,
    "start_time": "2025-05-13T16:42:05.154Z"
   },
   {
    "duration": 4,
    "start_time": "2025-05-13T16:42:05.175Z"
   },
   {
    "duration": 151,
    "start_time": "2025-05-13T16:42:05.182Z"
   },
   {
    "duration": 129,
    "start_time": "2025-05-13T16:42:05.335Z"
   },
   {
    "duration": 154,
    "start_time": "2025-05-13T16:42:05.465Z"
   },
   {
    "duration": 10,
    "start_time": "2025-05-13T16:42:05.624Z"
   },
   {
    "duration": 6,
    "start_time": "2025-05-13T16:42:05.636Z"
   },
   {
    "duration": 8,
    "start_time": "2025-05-13T16:42:05.644Z"
   },
   {
    "duration": 15,
    "start_time": "2025-05-13T16:42:05.654Z"
   },
   {
    "duration": 138,
    "start_time": "2025-05-13T16:42:05.670Z"
   },
   {
    "duration": 24,
    "start_time": "2025-05-13T16:42:05.810Z"
   },
   {
    "duration": 264,
    "start_time": "2025-05-13T16:42:05.837Z"
   },
   {
    "duration": 7,
    "start_time": "2025-05-13T16:42:06.102Z"
   },
   {
    "duration": 20,
    "start_time": "2025-05-13T16:42:06.110Z"
   },
   {
    "duration": 15,
    "start_time": "2025-05-13T16:42:06.131Z"
   },
   {
    "duration": 131,
    "start_time": "2025-05-13T16:42:06.148Z"
   },
   {
    "duration": 3,
    "start_time": "2025-05-13T16:42:06.282Z"
   },
   {
    "duration": 6,
    "start_time": "2025-05-13T16:42:06.286Z"
   },
   {
    "duration": 7,
    "start_time": "2025-05-13T16:42:06.295Z"
   },
   {
    "duration": 13,
    "start_time": "2025-05-13T16:42:06.323Z"
   },
   {
    "duration": 5,
    "start_time": "2025-05-13T16:42:06.337Z"
   },
   {
    "duration": 5,
    "start_time": "2025-05-13T16:42:06.344Z"
   },
   {
    "duration": 38,
    "start_time": "2025-05-13T16:42:06.350Z"
   },
   {
    "duration": 6,
    "start_time": "2025-05-13T16:42:06.390Z"
   },
   {
    "duration": 27,
    "start_time": "2025-05-13T16:42:06.425Z"
   },
   {
    "duration": 326,
    "start_time": "2025-05-13T16:42:06.454Z"
   },
   {
    "duration": 17,
    "start_time": "2025-05-13T16:42:06.783Z"
   },
   {
    "duration": 491,
    "start_time": "2025-05-13T16:45:02.618Z"
   },
   {
    "duration": 314,
    "start_time": "2025-05-13T16:45:35.977Z"
   },
   {
    "duration": 20,
    "start_time": "2025-05-13T16:45:59.597Z"
   },
   {
    "duration": 20,
    "start_time": "2025-05-13T16:46:17.207Z"
   },
   {
    "duration": 382,
    "start_time": "2025-05-13T16:54:51.028Z"
   },
   {
    "duration": 434,
    "start_time": "2025-05-13T17:01:20.433Z"
   },
   {
    "duration": 67,
    "start_time": "2025-05-13T17:01:20.869Z"
   },
   {
    "duration": 20,
    "start_time": "2025-05-13T17:01:20.938Z"
   },
   {
    "duration": 4,
    "start_time": "2025-05-13T17:01:20.961Z"
   },
   {
    "duration": 145,
    "start_time": "2025-05-13T17:01:20.966Z"
   },
   {
    "duration": 132,
    "start_time": "2025-05-13T17:01:21.113Z"
   },
   {
    "duration": 158,
    "start_time": "2025-05-13T17:01:21.247Z"
   },
   {
    "duration": 23,
    "start_time": "2025-05-13T17:01:21.407Z"
   },
   {
    "duration": 6,
    "start_time": "2025-05-13T17:01:21.432Z"
   },
   {
    "duration": 8,
    "start_time": "2025-05-13T17:01:21.441Z"
   },
   {
    "duration": 16,
    "start_time": "2025-05-13T17:01:21.450Z"
   },
   {
    "duration": 130,
    "start_time": "2025-05-13T17:01:21.467Z"
   },
   {
    "duration": 26,
    "start_time": "2025-05-13T17:01:21.598Z"
   },
   {
    "duration": 280,
    "start_time": "2025-05-13T17:01:21.626Z"
   },
   {
    "duration": 17,
    "start_time": "2025-05-13T17:01:21.908Z"
   },
   {
    "duration": 7,
    "start_time": "2025-05-13T17:01:21.927Z"
   },
   {
    "duration": 14,
    "start_time": "2025-05-13T17:01:21.936Z"
   },
   {
    "duration": 130,
    "start_time": "2025-05-13T17:01:21.952Z"
   },
   {
    "duration": 3,
    "start_time": "2025-05-13T17:01:22.084Z"
   },
   {
    "duration": 6,
    "start_time": "2025-05-13T17:01:22.089Z"
   },
   {
    "duration": 7,
    "start_time": "2025-05-13T17:01:22.096Z"
   },
   {
    "duration": 13,
    "start_time": "2025-05-13T17:01:22.125Z"
   },
   {
    "duration": 5,
    "start_time": "2025-05-13T17:01:22.139Z"
   },
   {
    "duration": 5,
    "start_time": "2025-05-13T17:01:22.145Z"
   },
   {
    "duration": 38,
    "start_time": "2025-05-13T17:01:22.152Z"
   },
   {
    "duration": 32,
    "start_time": "2025-05-13T17:01:22.192Z"
   },
   {
    "duration": 28,
    "start_time": "2025-05-13T17:01:22.225Z"
   },
   {
    "duration": 30,
    "start_time": "2025-05-13T17:01:22.256Z"
   },
   {
    "duration": 327,
    "start_time": "2025-05-13T17:01:22.287Z"
   },
   {
    "duration": 179,
    "start_time": "2025-05-13T17:07:03.659Z"
   },
   {
    "duration": 139,
    "start_time": "2025-05-13T17:07:07.185Z"
   },
   {
    "duration": 296,
    "start_time": "2025-05-13T17:08:35.893Z"
   },
   {
    "duration": 29,
    "start_time": "2025-05-13T17:09:17.597Z"
   },
   {
    "duration": 47,
    "start_time": "2025-05-13T17:09:31.464Z"
   },
   {
    "duration": 47,
    "start_time": "2025-05-13T17:11:52.389Z"
   },
   {
    "duration": 785,
    "start_time": "2025-05-13T17:12:41.364Z"
   },
   {
    "duration": 824,
    "start_time": "2025-05-13T17:13:23.390Z"
   },
   {
    "duration": 1184,
    "start_time": "2025-05-13T17:15:32.105Z"
   },
   {
    "duration": 813,
    "start_time": "2025-05-13T17:15:50.636Z"
   },
   {
    "duration": 803,
    "start_time": "2025-05-13T17:17:02.643Z"
   },
   {
    "duration": 819,
    "start_time": "2025-05-13T17:17:40.666Z"
   },
   {
    "duration": 7,
    "start_time": "2025-05-13T17:18:10.387Z"
   },
   {
    "duration": 948,
    "start_time": "2025-05-13T17:18:15.733Z"
   },
   {
    "duration": 167,
    "start_time": "2025-05-13T17:18:34.812Z"
   },
   {
    "duration": 292,
    "start_time": "2025-05-13T17:37:47.662Z"
   },
   {
    "duration": 313,
    "start_time": "2025-05-13T17:38:01.528Z"
   },
   {
    "duration": 300,
    "start_time": "2025-05-13T17:43:09.785Z"
   },
   {
    "duration": 182,
    "start_time": "2025-05-13T18:01:34.416Z"
   },
   {
    "duration": 6,
    "start_time": "2025-05-13T18:02:10.223Z"
   },
   {
    "duration": 37,
    "start_time": "2025-05-13T18:02:47.708Z"
   },
   {
    "duration": 309,
    "start_time": "2025-05-13T18:02:54.167Z"
   },
   {
    "duration": 24,
    "start_time": "2025-05-13T18:12:06.218Z"
   },
   {
    "duration": 134,
    "start_time": "2025-05-13T18:13:55.699Z"
   },
   {
    "duration": 49,
    "start_time": "2025-05-13T18:14:42.583Z"
   },
   {
    "duration": 8,
    "start_time": "2025-05-13T18:14:57.024Z"
   },
   {
    "duration": 56,
    "start_time": "2025-05-13T18:15:39.617Z"
   },
   {
    "duration": 62,
    "start_time": "2025-05-13T18:16:01.139Z"
   },
   {
    "duration": 22,
    "start_time": "2025-05-13T18:20:48.296Z"
   },
   {
    "duration": 452,
    "start_time": "2025-05-13T18:21:06.337Z"
   },
   {
    "duration": 73,
    "start_time": "2025-05-13T18:21:06.791Z"
   },
   {
    "duration": 20,
    "start_time": "2025-05-13T18:21:06.865Z"
   },
   {
    "duration": 5,
    "start_time": "2025-05-13T18:21:06.887Z"
   },
   {
    "duration": 145,
    "start_time": "2025-05-13T18:21:06.893Z"
   },
   {
    "duration": 128,
    "start_time": "2025-05-13T18:21:07.040Z"
   },
   {
    "duration": 160,
    "start_time": "2025-05-13T18:21:07.171Z"
   },
   {
    "duration": 10,
    "start_time": "2025-05-13T18:21:07.333Z"
   },
   {
    "duration": 6,
    "start_time": "2025-05-13T18:21:07.345Z"
   },
   {
    "duration": 8,
    "start_time": "2025-05-13T18:21:07.355Z"
   },
   {
    "duration": 16,
    "start_time": "2025-05-13T18:21:07.364Z"
   },
   {
    "duration": 142,
    "start_time": "2025-05-13T18:21:07.382Z"
   },
   {
    "duration": 20,
    "start_time": "2025-05-13T18:21:07.528Z"
   },
   {
    "duration": 262,
    "start_time": "2025-05-13T18:21:07.550Z"
   },
   {
    "duration": 13,
    "start_time": "2025-05-13T18:21:07.814Z"
   },
   {
    "duration": 7,
    "start_time": "2025-05-13T18:21:07.828Z"
   },
   {
    "duration": 13,
    "start_time": "2025-05-13T18:21:07.837Z"
   },
   {
    "duration": 128,
    "start_time": "2025-05-13T18:21:07.852Z"
   },
   {
    "duration": 3,
    "start_time": "2025-05-13T18:21:07.982Z"
   },
   {
    "duration": 6,
    "start_time": "2025-05-13T18:21:07.986Z"
   },
   {
    "duration": 6,
    "start_time": "2025-05-13T18:21:07.994Z"
   },
   {
    "duration": 33,
    "start_time": "2025-05-13T18:21:08.002Z"
   },
   {
    "duration": 5,
    "start_time": "2025-05-13T18:21:08.037Z"
   },
   {
    "duration": 5,
    "start_time": "2025-05-13T18:21:08.043Z"
   },
   {
    "duration": 39,
    "start_time": "2025-05-13T18:21:08.050Z"
   },
   {
    "duration": 34,
    "start_time": "2025-05-13T18:21:08.091Z"
   },
   {
    "duration": 28,
    "start_time": "2025-05-13T18:21:08.127Z"
   },
   {
    "duration": 30,
    "start_time": "2025-05-13T18:21:08.158Z"
   },
   {
    "duration": 311,
    "start_time": "2025-05-13T18:21:08.190Z"
   },
   {
    "duration": 250,
    "start_time": "2025-05-13T18:21:08.503Z"
   },
   {
    "duration": 24,
    "start_time": "2025-05-13T18:21:08.754Z"
   },
   {
    "duration": 24,
    "start_time": "2025-05-13T18:21:14.719Z"
   },
   {
    "duration": 344,
    "start_time": "2025-05-13T18:21:43.648Z"
   },
   {
    "duration": 454,
    "start_time": "2025-05-13T18:21:50.155Z"
   },
   {
    "duration": 70,
    "start_time": "2025-05-13T18:21:50.611Z"
   },
   {
    "duration": 19,
    "start_time": "2025-05-13T18:21:50.683Z"
   },
   {
    "duration": 4,
    "start_time": "2025-05-13T18:21:50.704Z"
   },
   {
    "duration": 135,
    "start_time": "2025-05-13T18:21:50.725Z"
   },
   {
    "duration": 120,
    "start_time": "2025-05-13T18:21:50.862Z"
   },
   {
    "duration": 153,
    "start_time": "2025-05-13T18:21:50.984Z"
   },
   {
    "duration": 11,
    "start_time": "2025-05-13T18:21:51.139Z"
   },
   {
    "duration": 6,
    "start_time": "2025-05-13T18:21:51.151Z"
   },
   {
    "duration": 8,
    "start_time": "2025-05-13T18:21:51.161Z"
   },
   {
    "duration": 20,
    "start_time": "2025-05-13T18:21:51.171Z"
   },
   {
    "duration": 143,
    "start_time": "2025-05-13T18:21:51.195Z"
   },
   {
    "duration": 18,
    "start_time": "2025-05-13T18:21:51.340Z"
   },
   {
    "duration": 255,
    "start_time": "2025-05-13T18:21:51.360Z"
   },
   {
    "duration": 7,
    "start_time": "2025-05-13T18:21:51.624Z"
   },
   {
    "duration": 7,
    "start_time": "2025-05-13T18:21:51.632Z"
   },
   {
    "duration": 14,
    "start_time": "2025-05-13T18:21:51.640Z"
   },
   {
    "duration": 128,
    "start_time": "2025-05-13T18:21:51.656Z"
   },
   {
    "duration": 3,
    "start_time": "2025-05-13T18:21:51.787Z"
   },
   {
    "duration": 6,
    "start_time": "2025-05-13T18:21:51.792Z"
   },
   {
    "duration": 25,
    "start_time": "2025-05-13T18:21:51.799Z"
   },
   {
    "duration": 12,
    "start_time": "2025-05-13T18:21:51.826Z"
   },
   {
    "duration": 5,
    "start_time": "2025-05-13T18:21:51.839Z"
   },
   {
    "duration": 5,
    "start_time": "2025-05-13T18:21:51.846Z"
   },
   {
    "duration": 47,
    "start_time": "2025-05-13T18:21:51.853Z"
   },
   {
    "duration": 4,
    "start_time": "2025-05-13T18:21:51.924Z"
   },
   {
    "duration": 26,
    "start_time": "2025-05-13T18:21:51.930Z"
   },
   {
    "duration": 28,
    "start_time": "2025-05-13T18:21:51.960Z"
   },
   {
    "duration": 330,
    "start_time": "2025-05-13T18:21:51.990Z"
   },
   {
    "duration": 248,
    "start_time": "2025-05-13T18:21:52.321Z"
   },
   {
    "duration": 338,
    "start_time": "2025-05-13T18:21:52.571Z"
   },
   {
    "duration": 69,
    "start_time": "2025-05-13T18:22:10.976Z"
   },
   {
    "duration": 68,
    "start_time": "2025-05-13T18:22:32.670Z"
   },
   {
    "duration": 481,
    "start_time": "2025-05-13T18:22:40.033Z"
   },
   {
    "duration": 75,
    "start_time": "2025-05-13T18:22:40.516Z"
   },
   {
    "duration": 32,
    "start_time": "2025-05-13T18:22:40.593Z"
   },
   {
    "duration": 7,
    "start_time": "2025-05-13T18:22:40.628Z"
   },
   {
    "duration": 155,
    "start_time": "2025-05-13T18:22:40.639Z"
   },
   {
    "duration": 130,
    "start_time": "2025-05-13T18:22:40.796Z"
   },
   {
    "duration": 160,
    "start_time": "2025-05-13T18:22:40.928Z"
   },
   {
    "duration": 11,
    "start_time": "2025-05-13T18:22:41.090Z"
   },
   {
    "duration": 24,
    "start_time": "2025-05-13T18:22:41.102Z"
   },
   {
    "duration": 9,
    "start_time": "2025-05-13T18:22:41.129Z"
   },
   {
    "duration": 16,
    "start_time": "2025-05-13T18:22:41.140Z"
   },
   {
    "duration": 139,
    "start_time": "2025-05-13T18:22:41.159Z"
   },
   {
    "duration": 31,
    "start_time": "2025-05-13T18:22:41.300Z"
   },
   {
    "duration": 279,
    "start_time": "2025-05-13T18:22:41.335Z"
   },
   {
    "duration": 7,
    "start_time": "2025-05-13T18:22:41.624Z"
   },
   {
    "duration": 8,
    "start_time": "2025-05-13T18:22:41.633Z"
   },
   {
    "duration": 15,
    "start_time": "2025-05-13T18:22:41.642Z"
   },
   {
    "duration": 140,
    "start_time": "2025-05-13T18:22:41.659Z"
   },
   {
    "duration": 3,
    "start_time": "2025-05-13T18:22:41.801Z"
   },
   {
    "duration": 20,
    "start_time": "2025-05-13T18:22:41.806Z"
   },
   {
    "duration": 8,
    "start_time": "2025-05-13T18:22:41.829Z"
   },
   {
    "duration": 16,
    "start_time": "2025-05-13T18:22:41.839Z"
   },
   {
    "duration": 4,
    "start_time": "2025-05-13T18:22:41.858Z"
   },
   {
    "duration": 5,
    "start_time": "2025-05-13T18:22:41.864Z"
   },
   {
    "duration": 69,
    "start_time": "2025-05-13T18:22:41.871Z"
   },
   {
    "duration": 4,
    "start_time": "2025-05-13T18:22:41.942Z"
   },
   {
    "duration": 28,
    "start_time": "2025-05-13T18:22:41.948Z"
   },
   {
    "duration": 56,
    "start_time": "2025-05-13T18:22:41.977Z"
   },
   {
    "duration": 330,
    "start_time": "2025-05-13T18:22:42.035Z"
   },
   {
    "duration": 273,
    "start_time": "2025-05-13T18:22:42.368Z"
   },
   {
    "duration": 361,
    "start_time": "2025-05-13T18:22:42.643Z"
   },
   {
    "duration": 23,
    "start_time": "2025-05-13T18:23:02.404Z"
   },
   {
    "duration": 26,
    "start_time": "2025-05-13T18:23:18.147Z"
   },
   {
    "duration": 37,
    "start_time": "2025-05-13T18:23:29.602Z"
   },
   {
    "duration": 23,
    "start_time": "2025-05-13T18:23:54.258Z"
   },
   {
    "duration": 22,
    "start_time": "2025-05-13T18:26:03.058Z"
   },
   {
    "duration": 317,
    "start_time": "2025-05-13T18:30:07.014Z"
   },
   {
    "duration": 399,
    "start_time": "2025-05-13T18:30:13.986Z"
   },
   {
    "duration": 71,
    "start_time": "2025-05-13T18:30:14.388Z"
   },
   {
    "duration": 19,
    "start_time": "2025-05-13T18:30:14.461Z"
   },
   {
    "duration": 4,
    "start_time": "2025-05-13T18:30:14.483Z"
   },
   {
    "duration": 150,
    "start_time": "2025-05-13T18:30:14.490Z"
   },
   {
    "duration": 126,
    "start_time": "2025-05-13T18:30:14.642Z"
   },
   {
    "duration": 156,
    "start_time": "2025-05-13T18:30:14.770Z"
   },
   {
    "duration": 9,
    "start_time": "2025-05-13T18:30:14.929Z"
   },
   {
    "duration": 5,
    "start_time": "2025-05-13T18:30:14.940Z"
   },
   {
    "duration": 8,
    "start_time": "2025-05-13T18:30:14.950Z"
   },
   {
    "duration": 17,
    "start_time": "2025-05-13T18:30:14.960Z"
   },
   {
    "duration": 136,
    "start_time": "2025-05-13T18:30:14.979Z"
   },
   {
    "duration": 18,
    "start_time": "2025-05-13T18:30:15.124Z"
   },
   {
    "duration": 262,
    "start_time": "2025-05-13T18:30:15.144Z"
   },
   {
    "duration": 16,
    "start_time": "2025-05-13T18:30:15.409Z"
   },
   {
    "duration": 6,
    "start_time": "2025-05-13T18:30:15.427Z"
   },
   {
    "duration": 14,
    "start_time": "2025-05-13T18:30:15.435Z"
   },
   {
    "duration": 128,
    "start_time": "2025-05-13T18:30:15.451Z"
   },
   {
    "duration": 3,
    "start_time": "2025-05-13T18:30:15.581Z"
   },
   {
    "duration": 5,
    "start_time": "2025-05-13T18:30:15.586Z"
   },
   {
    "duration": 7,
    "start_time": "2025-05-13T18:30:15.593Z"
   },
   {
    "duration": 34,
    "start_time": "2025-05-13T18:30:15.601Z"
   },
   {
    "duration": 5,
    "start_time": "2025-05-13T18:30:15.636Z"
   },
   {
    "duration": 7,
    "start_time": "2025-05-13T18:30:15.643Z"
   },
   {
    "duration": 39,
    "start_time": "2025-05-13T18:30:15.652Z"
   },
   {
    "duration": 33,
    "start_time": "2025-05-13T18:30:15.693Z"
   },
   {
    "duration": 28,
    "start_time": "2025-05-13T18:30:15.728Z"
   },
   {
    "duration": 28,
    "start_time": "2025-05-13T18:30:15.760Z"
   },
   {
    "duration": 323,
    "start_time": "2025-05-13T18:30:15.790Z"
   },
   {
    "duration": 242,
    "start_time": "2025-05-13T18:30:16.114Z"
   },
   {
    "duration": 495,
    "start_time": "2025-05-13T18:30:16.358Z"
   },
   {
    "duration": 23,
    "start_time": "2025-05-13T18:30:24.838Z"
   },
   {
    "duration": 28,
    "start_time": "2025-05-13T18:31:23.858Z"
   },
   {
    "duration": 20,
    "start_time": "2025-05-13T18:33:24.898Z"
   },
   {
    "duration": 383,
    "start_time": "2025-05-13T18:33:27.017Z"
   },
   {
    "duration": 17,
    "start_time": "2025-05-13T18:40:02.520Z"
   },
   {
    "duration": 26,
    "start_time": "2025-05-13T18:43:14.837Z"
   },
   {
    "duration": 27,
    "start_time": "2025-05-13T18:44:16.745Z"
   },
   {
    "duration": 38,
    "start_time": "2025-05-13T18:44:24.739Z"
   },
   {
    "duration": 21,
    "start_time": "2025-05-13T18:44:35.151Z"
   },
   {
    "duration": 20,
    "start_time": "2025-05-13T18:45:42.798Z"
   },
   {
    "duration": 20,
    "start_time": "2025-05-13T18:46:37.717Z"
   },
   {
    "duration": 791,
    "start_time": "2025-05-13T18:46:43.393Z"
   },
   {
    "duration": 38,
    "start_time": "2025-05-13T18:46:44.186Z"
   },
   {
    "duration": 21,
    "start_time": "2025-05-13T18:46:44.225Z"
   },
   {
    "duration": 5,
    "start_time": "2025-05-13T18:46:44.248Z"
   },
   {
    "duration": 150,
    "start_time": "2025-05-13T18:46:44.255Z"
   },
   {
    "duration": 124,
    "start_time": "2025-05-13T18:46:44.407Z"
   },
   {
    "duration": 195,
    "start_time": "2025-05-13T18:46:44.532Z"
   },
   {
    "duration": 9,
    "start_time": "2025-05-13T18:46:44.729Z"
   },
   {
    "duration": 6,
    "start_time": "2025-05-13T18:46:44.740Z"
   },
   {
    "duration": 7,
    "start_time": "2025-05-13T18:46:44.749Z"
   },
   {
    "duration": 16,
    "start_time": "2025-05-13T18:46:44.758Z"
   },
   {
    "duration": 140,
    "start_time": "2025-05-13T18:46:44.776Z"
   },
   {
    "duration": 19,
    "start_time": "2025-05-13T18:46:44.924Z"
   },
   {
    "duration": 283,
    "start_time": "2025-05-13T18:46:44.945Z"
   },
   {
    "duration": 7,
    "start_time": "2025-05-13T18:46:45.229Z"
   },
   {
    "duration": 7,
    "start_time": "2025-05-13T18:46:45.238Z"
   },
   {
    "duration": 14,
    "start_time": "2025-05-13T18:46:45.246Z"
   },
   {
    "duration": 139,
    "start_time": "2025-05-13T18:46:45.262Z"
   },
   {
    "duration": 3,
    "start_time": "2025-05-13T18:46:45.403Z"
   },
   {
    "duration": 18,
    "start_time": "2025-05-13T18:46:45.407Z"
   },
   {
    "duration": 6,
    "start_time": "2025-05-13T18:46:45.426Z"
   },
   {
    "duration": 12,
    "start_time": "2025-05-13T18:46:45.434Z"
   },
   {
    "duration": 5,
    "start_time": "2025-05-13T18:46:45.447Z"
   },
   {
    "duration": 5,
    "start_time": "2025-05-13T18:46:45.454Z"
   },
   {
    "duration": 68,
    "start_time": "2025-05-13T18:46:45.460Z"
   },
   {
    "duration": 3,
    "start_time": "2025-05-13T18:46:45.530Z"
   },
   {
    "duration": 26,
    "start_time": "2025-05-13T18:46:45.535Z"
   },
   {
    "duration": 28,
    "start_time": "2025-05-13T18:46:45.565Z"
   },
   {
    "duration": 340,
    "start_time": "2025-05-13T18:46:45.595Z"
   },
   {
    "duration": 212,
    "start_time": "2025-05-13T18:46:45.937Z"
   },
   {
    "duration": 19,
    "start_time": "2025-05-13T18:46:46.150Z"
   },
   {
    "duration": 3,
    "start_time": "2025-05-13T18:46:46.171Z"
   },
   {
    "duration": 24,
    "start_time": "2025-05-13T18:47:59.822Z"
   },
   {
    "duration": 19,
    "start_time": "2025-05-13T18:48:14.702Z"
   },
   {
    "duration": 142,
    "start_time": "2025-05-13T18:48:39.363Z"
   },
   {
    "duration": 77,
    "start_time": "2025-05-13T18:49:28.551Z"
   },
   {
    "duration": 20,
    "start_time": "2025-05-13T18:49:33.264Z"
   },
   {
    "duration": 134,
    "start_time": "2025-05-13T18:49:37.520Z"
   },
   {
    "duration": 146,
    "start_time": "2025-05-13T18:51:58.588Z"
   },
   {
    "duration": 152,
    "start_time": "2025-05-13T18:52:10.725Z"
   },
   {
    "duration": 135,
    "start_time": "2025-05-13T18:54:51.284Z"
   },
   {
    "duration": 20,
    "start_time": "2025-05-13T18:55:32.378Z"
   },
   {
    "duration": 2,
    "start_time": "2025-05-13T18:55:50.395Z"
   },
   {
    "duration": 796,
    "start_time": "2025-05-13T18:55:56.113Z"
   },
   {
    "duration": 44,
    "start_time": "2025-05-13T18:55:56.911Z"
   },
   {
    "duration": 24,
    "start_time": "2025-05-13T18:55:56.959Z"
   },
   {
    "duration": 6,
    "start_time": "2025-05-13T18:55:56.985Z"
   },
   {
    "duration": 158,
    "start_time": "2025-05-13T18:55:56.994Z"
   },
   {
    "duration": 144,
    "start_time": "2025-05-13T18:55:57.153Z"
   },
   {
    "duration": 207,
    "start_time": "2025-05-13T18:55:57.300Z"
   },
   {
    "duration": 20,
    "start_time": "2025-05-13T18:55:57.509Z"
   },
   {
    "duration": 8,
    "start_time": "2025-05-13T18:55:57.532Z"
   },
   {
    "duration": 12,
    "start_time": "2025-05-13T18:55:57.543Z"
   },
   {
    "duration": 15,
    "start_time": "2025-05-13T18:55:57.558Z"
   },
   {
    "duration": 126,
    "start_time": "2025-05-13T18:55:57.575Z"
   },
   {
    "duration": 23,
    "start_time": "2025-05-13T18:55:57.703Z"
   },
   {
    "duration": 276,
    "start_time": "2025-05-13T18:55:57.727Z"
   },
   {
    "duration": 6,
    "start_time": "2025-05-13T18:55:58.005Z"
   },
   {
    "duration": 8,
    "start_time": "2025-05-13T18:55:58.024Z"
   },
   {
    "duration": 15,
    "start_time": "2025-05-13T18:55:58.033Z"
   },
   {
    "duration": 126,
    "start_time": "2025-05-13T18:55:58.050Z"
   },
   {
    "duration": 3,
    "start_time": "2025-05-13T18:55:58.178Z"
   },
   {
    "duration": 13,
    "start_time": "2025-05-13T18:55:58.183Z"
   },
   {
    "duration": 6,
    "start_time": "2025-05-13T18:55:58.198Z"
   },
   {
    "duration": 30,
    "start_time": "2025-05-13T18:55:58.205Z"
   },
   {
    "duration": 5,
    "start_time": "2025-05-13T18:55:58.237Z"
   },
   {
    "duration": 5,
    "start_time": "2025-05-13T18:55:58.244Z"
   },
   {
    "duration": 38,
    "start_time": "2025-05-13T18:55:58.250Z"
   },
   {
    "duration": 3,
    "start_time": "2025-05-13T18:55:58.290Z"
   },
   {
    "duration": 54,
    "start_time": "2025-05-13T18:55:58.295Z"
   },
   {
    "duration": 29,
    "start_time": "2025-05-13T18:55:58.352Z"
   },
   {
    "duration": 316,
    "start_time": "2025-05-13T18:55:58.382Z"
   },
   {
    "duration": 192,
    "start_time": "2025-05-13T18:55:58.700Z"
   },
   {
    "duration": 26,
    "start_time": "2025-05-13T18:55:58.894Z"
   },
   {
    "duration": 157,
    "start_time": "2025-05-13T18:55:58.922Z"
   },
   {
    "duration": 3,
    "start_time": "2025-05-13T18:55:59.081Z"
   },
   {
    "duration": 139,
    "start_time": "2025-05-13T18:56:14.878Z"
   },
   {
    "duration": 251,
    "start_time": "2025-05-13T18:56:19.383Z"
   },
   {
    "duration": 795,
    "start_time": "2025-05-13T18:58:20.421Z"
   },
   {
    "duration": 36,
    "start_time": "2025-05-13T18:58:21.218Z"
   },
   {
    "duration": 20,
    "start_time": "2025-05-13T18:58:21.255Z"
   },
   {
    "duration": 4,
    "start_time": "2025-05-13T18:58:21.277Z"
   },
   {
    "duration": 160,
    "start_time": "2025-05-13T18:58:21.284Z"
   },
   {
    "duration": 124,
    "start_time": "2025-05-13T18:58:21.446Z"
   },
   {
    "duration": 193,
    "start_time": "2025-05-13T18:58:21.572Z"
   },
   {
    "duration": 10,
    "start_time": "2025-05-13T18:58:21.767Z"
   },
   {
    "duration": 8,
    "start_time": "2025-05-13T18:58:21.778Z"
   },
   {
    "duration": 10,
    "start_time": "2025-05-13T18:58:21.788Z"
   },
   {
    "duration": 38,
    "start_time": "2025-05-13T18:58:21.800Z"
   },
   {
    "duration": 144,
    "start_time": "2025-05-13T18:58:21.840Z"
   },
   {
    "duration": 18,
    "start_time": "2025-05-13T18:58:21.986Z"
   },
   {
    "duration": 278,
    "start_time": "2025-05-13T18:58:22.007Z"
   },
   {
    "duration": 6,
    "start_time": "2025-05-13T18:58:22.287Z"
   },
   {
    "duration": 7,
    "start_time": "2025-05-13T18:58:22.294Z"
   },
   {
    "duration": 31,
    "start_time": "2025-05-13T18:58:22.303Z"
   },
   {
    "duration": 125,
    "start_time": "2025-05-13T18:58:22.335Z"
   },
   {
    "duration": 3,
    "start_time": "2025-05-13T18:58:22.462Z"
   },
   {
    "duration": 7,
    "start_time": "2025-05-13T18:58:22.466Z"
   },
   {
    "duration": 7,
    "start_time": "2025-05-13T18:58:22.474Z"
   },
   {
    "duration": 11,
    "start_time": "2025-05-13T18:58:22.483Z"
   },
   {
    "duration": 31,
    "start_time": "2025-05-13T18:58:22.496Z"
   },
   {
    "duration": 6,
    "start_time": "2025-05-13T18:58:22.531Z"
   },
   {
    "duration": 40,
    "start_time": "2025-05-13T18:58:22.538Z"
   },
   {
    "duration": 3,
    "start_time": "2025-05-13T18:58:22.581Z"
   },
   {
    "duration": 51,
    "start_time": "2025-05-13T18:58:22.586Z"
   },
   {
    "duration": 29,
    "start_time": "2025-05-13T18:58:22.639Z"
   },
   {
    "duration": 314,
    "start_time": "2025-05-13T18:58:22.669Z"
   },
   {
    "duration": 203,
    "start_time": "2025-05-13T18:58:22.985Z"
   },
   {
    "duration": 19,
    "start_time": "2025-05-13T18:58:23.190Z"
   },
   {
    "duration": 155,
    "start_time": "2025-05-13T18:58:23.211Z"
   },
   {
    "duration": 2,
    "start_time": "2025-05-13T18:58:23.368Z"
   },
   {
    "duration": 840,
    "start_time": "2025-05-13T18:59:17.543Z"
   },
   {
    "duration": 33,
    "start_time": "2025-05-13T18:59:18.386Z"
   },
   {
    "duration": 21,
    "start_time": "2025-05-13T18:59:18.420Z"
   },
   {
    "duration": 5,
    "start_time": "2025-05-13T18:59:18.442Z"
   },
   {
    "duration": 149,
    "start_time": "2025-05-13T18:59:18.449Z"
   },
   {
    "duration": 124,
    "start_time": "2025-05-13T18:59:18.600Z"
   },
   {
    "duration": 200,
    "start_time": "2025-05-13T18:59:18.726Z"
   },
   {
    "duration": 9,
    "start_time": "2025-05-13T18:59:18.928Z"
   },
   {
    "duration": 6,
    "start_time": "2025-05-13T18:59:18.939Z"
   },
   {
    "duration": 8,
    "start_time": "2025-05-13T18:59:18.947Z"
   },
   {
    "duration": 15,
    "start_time": "2025-05-13T18:59:18.957Z"
   },
   {
    "duration": 135,
    "start_time": "2025-05-13T18:59:18.973Z"
   },
   {
    "duration": 27,
    "start_time": "2025-05-13T18:59:19.110Z"
   },
   {
    "duration": 271,
    "start_time": "2025-05-13T18:59:19.140Z"
   },
   {
    "duration": 16,
    "start_time": "2025-05-13T18:59:19.413Z"
   },
   {
    "duration": 7,
    "start_time": "2025-05-13T18:59:19.431Z"
   },
   {
    "duration": 14,
    "start_time": "2025-05-13T18:59:19.441Z"
   },
   {
    "duration": 136,
    "start_time": "2025-05-13T18:59:19.457Z"
   },
   {
    "duration": 3,
    "start_time": "2025-05-13T18:59:19.595Z"
   },
   {
    "duration": 8,
    "start_time": "2025-05-13T18:59:19.600Z"
   },
   {
    "duration": 21,
    "start_time": "2025-05-13T18:59:19.609Z"
   },
   {
    "duration": 14,
    "start_time": "2025-05-13T18:59:19.632Z"
   },
   {
    "duration": 5,
    "start_time": "2025-05-13T18:59:19.648Z"
   },
   {
    "duration": 6,
    "start_time": "2025-05-13T18:59:19.654Z"
   },
   {
    "duration": 71,
    "start_time": "2025-05-13T18:59:19.662Z"
   },
   {
    "duration": 5,
    "start_time": "2025-05-13T18:59:19.735Z"
   },
   {
    "duration": 27,
    "start_time": "2025-05-13T18:59:19.743Z"
   },
   {
    "duration": 33,
    "start_time": "2025-05-13T18:59:19.772Z"
   },
   {
    "duration": 326,
    "start_time": "2025-05-13T18:59:19.806Z"
   },
   {
    "duration": 203,
    "start_time": "2025-05-13T18:59:20.134Z"
   },
   {
    "duration": 20,
    "start_time": "2025-05-13T18:59:20.338Z"
   },
   {
    "duration": 139,
    "start_time": "2025-05-13T18:59:20.359Z"
   },
   {
    "duration": 4,
    "start_time": "2025-05-13T18:59:20.499Z"
   },
   {
    "duration": 15,
    "start_time": "2025-05-13T19:03:01.149Z"
   },
   {
    "duration": 153,
    "start_time": "2025-05-13T19:21:45.569Z"
   },
   {
    "duration": 225,
    "start_time": "2025-05-13T19:22:23.814Z"
   },
   {
    "duration": 152,
    "start_time": "2025-05-13T19:22:27.254Z"
   },
   {
    "duration": 164,
    "start_time": "2025-05-13T19:22:31.135Z"
   },
   {
    "duration": 142,
    "start_time": "2025-05-13T19:22:41.749Z"
   },
   {
    "duration": 160,
    "start_time": "2025-05-13T19:22:48.008Z"
   },
   {
    "duration": 3,
    "start_time": "2025-05-13T19:23:21.248Z"
   },
   {
    "duration": 284,
    "start_time": "2025-05-13T19:25:10.292Z"
   },
   {
    "duration": 215,
    "start_time": "2025-05-13T19:25:33.412Z"
   },
   {
    "duration": 222,
    "start_time": "2025-05-13T19:25:36.512Z"
   },
   {
    "duration": 271,
    "start_time": "2025-05-13T19:25:38.066Z"
   },
   {
    "duration": 156,
    "start_time": "2025-05-13T19:29:10.782Z"
   },
   {
    "duration": 154,
    "start_time": "2025-05-13T19:29:20.592Z"
   },
   {
    "duration": 308,
    "start_time": "2025-05-13T19:29:42.032Z"
   },
   {
    "duration": 245,
    "start_time": "2025-05-13T19:32:58.197Z"
   },
   {
    "duration": 289,
    "start_time": "2025-05-13T19:33:53.122Z"
   },
   {
    "duration": 158,
    "start_time": "2025-05-13T19:34:03.938Z"
   },
   {
    "duration": 253,
    "start_time": "2025-05-13T19:34:37.285Z"
   },
   {
    "duration": 373,
    "start_time": "2025-05-13T19:34:46.868Z"
   },
   {
    "duration": 260,
    "start_time": "2025-05-13T19:35:08.384Z"
   },
   {
    "duration": 297,
    "start_time": "2025-05-13T19:37:03.501Z"
   },
   {
    "duration": 159,
    "start_time": "2025-05-13T19:37:10.580Z"
   },
   {
    "duration": 264,
    "start_time": "2025-05-13T19:37:18.605Z"
   },
   {
    "duration": 995,
    "start_time": "2025-05-13T19:37:39.864Z"
   },
   {
    "duration": 297,
    "start_time": "2025-05-13T19:37:43.619Z"
   },
   {
    "duration": 285,
    "start_time": "2025-05-13T19:38:04.553Z"
   },
   {
    "duration": 283,
    "start_time": "2025-05-13T19:38:50.359Z"
   },
   {
    "duration": 298,
    "start_time": "2025-05-13T19:40:01.547Z"
   },
   {
    "duration": 269,
    "start_time": "2025-05-13T19:40:19.971Z"
   },
   {
    "duration": 791,
    "start_time": "2025-05-13T19:40:33.420Z"
   },
   {
    "duration": 35,
    "start_time": "2025-05-13T19:40:34.213Z"
   },
   {
    "duration": 20,
    "start_time": "2025-05-13T19:40:34.250Z"
   },
   {
    "duration": 4,
    "start_time": "2025-05-13T19:40:34.272Z"
   },
   {
    "duration": 156,
    "start_time": "2025-05-13T19:40:34.278Z"
   },
   {
    "duration": 119,
    "start_time": "2025-05-13T19:40:34.436Z"
   },
   {
    "duration": 191,
    "start_time": "2025-05-13T19:40:34.557Z"
   },
   {
    "duration": 10,
    "start_time": "2025-05-13T19:40:34.750Z"
   },
   {
    "duration": 7,
    "start_time": "2025-05-13T19:40:34.761Z"
   },
   {
    "duration": 8,
    "start_time": "2025-05-13T19:40:34.771Z"
   },
   {
    "duration": 43,
    "start_time": "2025-05-13T19:40:34.781Z"
   },
   {
    "duration": 117,
    "start_time": "2025-05-13T19:40:34.826Z"
   },
   {
    "duration": 19,
    "start_time": "2025-05-13T19:40:34.944Z"
   },
   {
    "duration": 247,
    "start_time": "2025-05-13T19:40:34.965Z"
   },
   {
    "duration": 13,
    "start_time": "2025-05-13T19:40:35.214Z"
   },
   {
    "duration": 7,
    "start_time": "2025-05-13T19:40:35.229Z"
   },
   {
    "duration": 15,
    "start_time": "2025-05-13T19:40:35.238Z"
   },
   {
    "duration": 136,
    "start_time": "2025-05-13T19:40:35.254Z"
   },
   {
    "duration": 2,
    "start_time": "2025-05-13T19:40:35.392Z"
   },
   {
    "duration": 7,
    "start_time": "2025-05-13T19:40:35.396Z"
   },
   {
    "duration": 16,
    "start_time": "2025-05-13T19:40:35.404Z"
   },
   {
    "duration": 15,
    "start_time": "2025-05-13T19:40:35.425Z"
   },
   {
    "duration": 6,
    "start_time": "2025-05-13T19:40:35.442Z"
   },
   {
    "duration": 5,
    "start_time": "2025-05-13T19:40:35.450Z"
   },
   {
    "duration": 71,
    "start_time": "2025-05-13T19:40:35.457Z"
   },
   {
    "duration": 3,
    "start_time": "2025-05-13T19:40:35.530Z"
   },
   {
    "duration": 28,
    "start_time": "2025-05-13T19:40:35.535Z"
   },
   {
    "duration": 28,
    "start_time": "2025-05-13T19:40:35.567Z"
   },
   {
    "duration": 335,
    "start_time": "2025-05-13T19:40:35.597Z"
   },
   {
    "duration": 204,
    "start_time": "2025-05-13T19:40:35.933Z"
   },
   {
    "duration": 19,
    "start_time": "2025-05-13T19:40:36.139Z"
   },
   {
    "duration": 164,
    "start_time": "2025-05-13T19:40:36.160Z"
   },
   {
    "duration": 308,
    "start_time": "2025-05-13T19:40:36.326Z"
   },
   {
    "duration": 13,
    "start_time": "2025-05-13T19:40:36.636Z"
   },
   {
    "duration": 348,
    "start_time": "2025-05-13T19:40:53.010Z"
   },
   {
    "duration": 280,
    "start_time": "2025-05-13T19:40:59.804Z"
   },
   {
    "duration": 279,
    "start_time": "2025-05-13T19:41:06.904Z"
   },
   {
    "duration": 265,
    "start_time": "2025-05-13T19:41:11.882Z"
   },
   {
    "duration": 262,
    "start_time": "2025-05-13T19:41:17.580Z"
   },
   {
    "duration": 280,
    "start_time": "2025-05-13T19:43:55.935Z"
   },
   {
    "duration": 252,
    "start_time": "2025-05-13T19:44:05.458Z"
   },
   {
    "duration": 296,
    "start_time": "2025-05-13T19:46:08.138Z"
   },
   {
    "duration": 334,
    "start_time": "2025-05-13T19:46:24.838Z"
   },
   {
    "duration": 241,
    "start_time": "2025-05-13T19:47:38.907Z"
   },
   {
    "duration": 325,
    "start_time": "2025-05-13T19:47:52.953Z"
   },
   {
    "duration": 346,
    "start_time": "2025-05-13T19:49:19.446Z"
   },
   {
    "duration": 302,
    "start_time": "2025-05-13T19:49:22.332Z"
   },
   {
    "duration": 301,
    "start_time": "2025-05-13T19:51:29.877Z"
   },
   {
    "duration": 239,
    "start_time": "2025-05-13T19:51:35.775Z"
   },
   {
    "duration": 326,
    "start_time": "2025-05-13T19:51:57.833Z"
   },
   {
    "duration": 292,
    "start_time": "2025-05-13T19:52:16.850Z"
   },
   {
    "duration": 261,
    "start_time": "2025-05-13T19:52:25.786Z"
   },
   {
    "duration": 291,
    "start_time": "2025-05-13T19:53:35.449Z"
   },
   {
    "duration": 819,
    "start_time": "2025-05-13T19:54:29.056Z"
   },
   {
    "duration": 31,
    "start_time": "2025-05-13T19:54:29.877Z"
   },
   {
    "duration": 26,
    "start_time": "2025-05-13T19:54:29.909Z"
   },
   {
    "duration": 5,
    "start_time": "2025-05-13T19:54:29.936Z"
   },
   {
    "duration": 149,
    "start_time": "2025-05-13T19:54:29.944Z"
   },
   {
    "duration": 129,
    "start_time": "2025-05-13T19:54:30.095Z"
   },
   {
    "duration": 212,
    "start_time": "2025-05-13T19:54:30.226Z"
   },
   {
    "duration": 10,
    "start_time": "2025-05-13T19:54:30.440Z"
   },
   {
    "duration": 6,
    "start_time": "2025-05-13T19:54:30.451Z"
   },
   {
    "duration": 8,
    "start_time": "2025-05-13T19:54:30.459Z"
   },
   {
    "duration": 15,
    "start_time": "2025-05-13T19:54:30.469Z"
   },
   {
    "duration": 140,
    "start_time": "2025-05-13T19:54:30.486Z"
   },
   {
    "duration": 18,
    "start_time": "2025-05-13T19:54:30.628Z"
   },
   {
    "duration": 259,
    "start_time": "2025-05-13T19:54:30.650Z"
   },
   {
    "duration": 17,
    "start_time": "2025-05-13T19:54:30.911Z"
   },
   {
    "duration": 7,
    "start_time": "2025-05-13T19:54:30.930Z"
   },
   {
    "duration": 14,
    "start_time": "2025-05-13T19:54:30.938Z"
   },
   {
    "duration": 128,
    "start_time": "2025-05-13T19:54:30.954Z"
   },
   {
    "duration": 3,
    "start_time": "2025-05-13T19:54:31.084Z"
   },
   {
    "duration": 5,
    "start_time": "2025-05-13T19:54:31.089Z"
   },
   {
    "duration": 6,
    "start_time": "2025-05-13T19:54:31.096Z"
   },
   {
    "duration": 30,
    "start_time": "2025-05-13T19:54:31.104Z"
   },
   {
    "duration": 4,
    "start_time": "2025-05-13T19:54:31.135Z"
   },
   {
    "duration": 6,
    "start_time": "2025-05-13T19:54:31.141Z"
   },
   {
    "duration": 44,
    "start_time": "2025-05-13T19:54:31.149Z"
   },
   {
    "duration": 30,
    "start_time": "2025-05-13T19:54:31.195Z"
   },
   {
    "duration": 27,
    "start_time": "2025-05-13T19:54:31.227Z"
   },
   {
    "duration": 27,
    "start_time": "2025-05-13T19:54:31.256Z"
   },
   {
    "duration": 328,
    "start_time": "2025-05-13T19:54:31.285Z"
   },
   {
    "duration": 193,
    "start_time": "2025-05-13T19:54:31.615Z"
   },
   {
    "duration": 19,
    "start_time": "2025-05-13T19:54:31.810Z"
   },
   {
    "duration": 167,
    "start_time": "2025-05-13T19:54:31.831Z"
   },
   {
    "duration": 277,
    "start_time": "2025-05-13T19:54:32.000Z"
   },
   {
    "duration": 14,
    "start_time": "2025-05-13T19:54:32.278Z"
   },
   {
    "duration": 320,
    "start_time": "2025-05-13T19:55:21.429Z"
   },
   {
    "duration": 275,
    "start_time": "2025-05-13T19:56:42.309Z"
   },
   {
    "duration": 306,
    "start_time": "2025-05-13T19:57:31.042Z"
   },
   {
    "duration": 275,
    "start_time": "2025-05-13T19:58:01.673Z"
   },
   {
    "duration": 259,
    "start_time": "2025-05-13T19:59:13.806Z"
   },
   {
    "duration": 259,
    "start_time": "2025-05-13T20:02:17.081Z"
   },
   {
    "duration": 292,
    "start_time": "2025-05-13T20:05:37.352Z"
   },
   {
    "duration": 277,
    "start_time": "2025-05-13T20:05:41.648Z"
   },
   {
    "duration": 1449,
    "start_time": "2025-05-13T20:05:55.037Z"
   },
   {
    "duration": 318,
    "start_time": "2025-05-13T20:05:57.527Z"
   },
   {
    "duration": 276,
    "start_time": "2025-05-13T20:06:15.466Z"
   },
   {
    "duration": 251,
    "start_time": "2025-05-13T20:06:34.396Z"
   },
   {
    "duration": 6,
    "start_time": "2025-05-13T20:12:47.836Z"
   },
   {
    "duration": 5,
    "start_time": "2025-05-13T20:13:16.936Z"
   },
   {
    "duration": 5,
    "start_time": "2025-05-13T20:13:41.090Z"
   },
   {
    "duration": 6,
    "start_time": "2025-05-13T20:13:48.848Z"
   },
   {
    "duration": 5,
    "start_time": "2025-05-13T20:14:04.767Z"
   },
   {
    "duration": 5,
    "start_time": "2025-05-13T20:14:40.263Z"
   },
   {
    "duration": 5,
    "start_time": "2025-05-13T20:27:41.546Z"
   },
   {
    "duration": 5,
    "start_time": "2025-05-13T20:28:02.937Z"
   },
   {
    "duration": 155,
    "start_time": "2025-05-13T20:29:28.497Z"
   },
   {
    "duration": 164,
    "start_time": "2025-05-13T20:29:33.104Z"
   },
   {
    "duration": 448,
    "start_time": "2025-05-13T20:37:50.934Z"
   },
   {
    "duration": 301,
    "start_time": "2025-05-13T20:38:03.562Z"
   },
   {
    "duration": 5,
    "start_time": "2025-05-13T20:42:54.430Z"
   },
   {
    "duration": 279,
    "start_time": "2025-05-13T21:02:11.269Z"
   },
   {
    "duration": 2664,
    "start_time": "2025-05-13T22:33:07.370Z"
   },
   {
    "duration": 64,
    "start_time": "2025-05-13T22:33:10.037Z"
   },
   {
    "duration": 20,
    "start_time": "2025-05-13T22:33:10.103Z"
   },
   {
    "duration": 5,
    "start_time": "2025-05-13T22:33:10.126Z"
   },
   {
    "duration": 192,
    "start_time": "2025-05-13T22:33:10.133Z"
   },
   {
    "duration": 134,
    "start_time": "2025-05-13T22:33:10.326Z"
   },
   {
    "duration": 194,
    "start_time": "2025-05-13T22:33:10.462Z"
   },
   {
    "duration": 12,
    "start_time": "2025-05-13T22:33:10.660Z"
   },
   {
    "duration": 8,
    "start_time": "2025-05-13T22:33:10.674Z"
   },
   {
    "duration": 26,
    "start_time": "2025-05-13T22:33:10.686Z"
   },
   {
    "duration": 15,
    "start_time": "2025-05-13T22:33:10.714Z"
   },
   {
    "duration": 125,
    "start_time": "2025-05-13T22:33:10.731Z"
   },
   {
    "duration": 18,
    "start_time": "2025-05-13T22:33:10.858Z"
   },
   {
    "duration": 305,
    "start_time": "2025-05-13T22:33:10.877Z"
   },
   {
    "duration": 7,
    "start_time": "2025-05-13T22:33:11.184Z"
   },
   {
    "duration": 17,
    "start_time": "2025-05-13T22:33:11.195Z"
   },
   {
    "duration": 16,
    "start_time": "2025-05-13T22:33:11.214Z"
   },
   {
    "duration": 128,
    "start_time": "2025-05-13T22:33:11.232Z"
   },
   {
    "duration": 3,
    "start_time": "2025-05-13T22:33:11.363Z"
   },
   {
    "duration": 7,
    "start_time": "2025-05-13T22:33:11.369Z"
   },
   {
    "duration": 9,
    "start_time": "2025-05-13T22:33:11.378Z"
   },
   {
    "duration": 30,
    "start_time": "2025-05-13T22:33:11.390Z"
   },
   {
    "duration": 5,
    "start_time": "2025-05-13T22:33:11.422Z"
   },
   {
    "duration": 7,
    "start_time": "2025-05-13T22:33:11.429Z"
   },
   {
    "duration": 41,
    "start_time": "2025-05-13T22:33:11.438Z"
   },
   {
    "duration": 33,
    "start_time": "2025-05-13T22:33:11.481Z"
   },
   {
    "duration": 29,
    "start_time": "2025-05-13T22:33:11.516Z"
   },
   {
    "duration": 30,
    "start_time": "2025-05-13T22:33:11.549Z"
   },
   {
    "duration": 442,
    "start_time": "2025-05-13T22:33:11.581Z"
   },
   {
    "duration": 215,
    "start_time": "2025-05-13T22:33:12.025Z"
   },
   {
    "duration": 29,
    "start_time": "2025-05-13T22:33:12.242Z"
   },
   {
    "duration": 179,
    "start_time": "2025-05-13T22:33:12.273Z"
   },
   {
    "duration": 296,
    "start_time": "2025-05-13T22:33:12.454Z"
   },
   {
    "duration": 4,
    "start_time": "2025-05-13T22:33:12.753Z"
   },
   {
    "duration": 273,
    "start_time": "2025-05-13T22:33:27.898Z"
   },
   {
    "duration": 285,
    "start_time": "2025-05-13T22:37:09.051Z"
   },
   {
    "duration": 284,
    "start_time": "2025-05-13T22:37:22.900Z"
   },
   {
    "duration": 315,
    "start_time": "2025-05-13T22:37:33.628Z"
   },
   {
    "duration": 24,
    "start_time": "2025-05-13T22:38:45.426Z"
   },
   {
    "duration": 318,
    "start_time": "2025-05-13T22:39:07.677Z"
   },
   {
    "duration": 497,
    "start_time": "2025-05-13T22:40:46.095Z"
   },
   {
    "duration": 220,
    "start_time": "2025-05-13T22:40:50.435Z"
   },
   {
    "duration": 215,
    "start_time": "2025-05-13T22:42:11.577Z"
   },
   {
    "duration": 222,
    "start_time": "2025-05-13T22:42:17.795Z"
   },
   {
    "duration": 222,
    "start_time": "2025-05-13T22:42:37.779Z"
   },
   {
    "duration": 501,
    "start_time": "2025-05-13T22:42:49.403Z"
   },
   {
    "duration": 184,
    "start_time": "2025-05-13T22:43:26.134Z"
   },
   {
    "duration": 220,
    "start_time": "2025-05-13T22:43:30.334Z"
   },
   {
    "duration": 209,
    "start_time": "2025-05-13T22:43:55.519Z"
   },
   {
    "duration": 305,
    "start_time": "2025-05-13T22:45:36.671Z"
   },
   {
    "duration": 222,
    "start_time": "2025-05-13T22:48:44.595Z"
   },
   {
    "duration": 218,
    "start_time": "2025-05-13T22:49:07.061Z"
   },
   {
    "duration": 225,
    "start_time": "2025-05-13T22:49:11.994Z"
   },
   {
    "duration": 212,
    "start_time": "2025-05-13T22:52:52.030Z"
   },
   {
    "duration": 216,
    "start_time": "2025-05-13T22:53:21.466Z"
   },
   {
    "duration": 212,
    "start_time": "2025-05-13T22:56:54.611Z"
   },
   {
    "duration": 211,
    "start_time": "2025-05-13T22:57:55.665Z"
   },
   {
    "duration": 208,
    "start_time": "2025-05-13T22:58:00.740Z"
   },
   {
    "duration": 211,
    "start_time": "2025-05-13T22:58:05.175Z"
   },
   {
    "duration": 203,
    "start_time": "2025-05-13T22:58:10.021Z"
   },
   {
    "duration": 331,
    "start_time": "2025-05-13T22:58:23.661Z"
   },
   {
    "duration": 209,
    "start_time": "2025-05-13T22:59:53.179Z"
   },
   {
    "duration": 203,
    "start_time": "2025-05-13T22:59:56.851Z"
   },
   {
    "duration": 218,
    "start_time": "2025-05-13T23:00:49.249Z"
   },
   {
    "duration": 224,
    "start_time": "2025-05-13T23:01:01.885Z"
   },
   {
    "duration": 210,
    "start_time": "2025-05-13T23:01:17.094Z"
   },
   {
    "duration": 191,
    "start_time": "2025-05-13T23:01:36.697Z"
   },
   {
    "duration": 212,
    "start_time": "2025-05-13T23:01:44.702Z"
   },
   {
    "duration": 209,
    "start_time": "2025-05-13T23:02:57.870Z"
   },
   {
    "duration": 9,
    "start_time": "2025-05-13T23:04:12.575Z"
   },
   {
    "duration": 214,
    "start_time": "2025-05-13T23:04:17.417Z"
   },
   {
    "duration": 215,
    "start_time": "2025-05-13T23:04:37.843Z"
   },
   {
    "duration": 325,
    "start_time": "2025-05-13T23:04:48.666Z"
   },
   {
    "duration": 1526,
    "start_time": "2025-05-13T23:05:41.054Z"
   },
   {
    "duration": 232,
    "start_time": "2025-05-13T23:05:56.037Z"
   },
   {
    "duration": 240,
    "start_time": "2025-05-13T23:06:38.531Z"
   },
   {
    "duration": 380,
    "start_time": "2025-05-13T23:06:47.187Z"
   },
   {
    "duration": 233,
    "start_time": "2025-05-13T23:06:52.604Z"
   },
   {
    "duration": 950,
    "start_time": "2025-05-13T23:08:08.792Z"
   },
   {
    "duration": 11,
    "start_time": "2025-05-13T23:08:34.029Z"
   },
   {
    "duration": 444,
    "start_time": "2025-05-13T23:08:57.726Z"
   },
   {
    "duration": 14,
    "start_time": "2025-05-13T23:10:29.273Z"
   },
   {
    "duration": 19,
    "start_time": "2025-05-13T23:10:36.100Z"
   },
   {
    "duration": 230,
    "start_time": "2025-05-13T23:11:47.406Z"
   },
   {
    "duration": 2470,
    "start_time": "2025-05-14T01:08:04.508Z"
   },
   {
    "duration": 50,
    "start_time": "2025-05-14T01:08:06.980Z"
   },
   {
    "duration": 20,
    "start_time": "2025-05-14T01:08:07.031Z"
   },
   {
    "duration": 5,
    "start_time": "2025-05-14T01:08:07.053Z"
   },
   {
    "duration": 147,
    "start_time": "2025-05-14T01:08:07.059Z"
   },
   {
    "duration": 124,
    "start_time": "2025-05-14T01:08:07.208Z"
   },
   {
    "duration": 163,
    "start_time": "2025-05-14T01:08:07.334Z"
   },
   {
    "duration": 9,
    "start_time": "2025-05-14T01:08:07.499Z"
   },
   {
    "duration": 18,
    "start_time": "2025-05-14T01:08:07.510Z"
   },
   {
    "duration": 8,
    "start_time": "2025-05-14T01:08:07.530Z"
   },
   {
    "duration": 16,
    "start_time": "2025-05-14T01:08:07.539Z"
   },
   {
    "duration": 127,
    "start_time": "2025-05-14T01:08:07.556Z"
   },
   {
    "duration": 19,
    "start_time": "2025-05-14T01:08:07.684Z"
   },
   {
    "duration": 312,
    "start_time": "2025-05-14T01:08:07.704Z"
   },
   {
    "duration": 6,
    "start_time": "2025-05-14T01:08:08.023Z"
   },
   {
    "duration": 7,
    "start_time": "2025-05-14T01:08:08.031Z"
   },
   {
    "duration": 14,
    "start_time": "2025-05-14T01:08:08.040Z"
   },
   {
    "duration": 147,
    "start_time": "2025-05-14T01:08:08.056Z"
   },
   {
    "duration": 3,
    "start_time": "2025-05-14T01:08:08.205Z"
   },
   {
    "duration": 15,
    "start_time": "2025-05-14T01:08:08.210Z"
   },
   {
    "duration": 6,
    "start_time": "2025-05-14T01:08:08.227Z"
   },
   {
    "duration": 12,
    "start_time": "2025-05-14T01:08:08.234Z"
   },
   {
    "duration": 5,
    "start_time": "2025-05-14T01:08:08.248Z"
   },
   {
    "duration": 5,
    "start_time": "2025-05-14T01:08:08.255Z"
   },
   {
    "duration": 121,
    "start_time": "2025-05-14T01:08:08.261Z"
   },
   {
    "duration": 3,
    "start_time": "2025-05-14T01:08:08.383Z"
   },
   {
    "duration": 44,
    "start_time": "2025-05-14T01:08:08.388Z"
   },
   {
    "duration": 28,
    "start_time": "2025-05-14T01:08:08.436Z"
   },
   {
    "duration": 307,
    "start_time": "2025-05-14T01:08:08.465Z"
   },
   {
    "duration": 200,
    "start_time": "2025-05-14T01:08:08.774Z"
   },
   {
    "duration": 19,
    "start_time": "2025-05-14T01:08:08.976Z"
   },
   {
    "duration": 159,
    "start_time": "2025-05-14T01:08:08.996Z"
   },
   {
    "duration": 290,
    "start_time": "2025-05-14T01:08:09.157Z"
   },
   {
    "duration": 5,
    "start_time": "2025-05-14T01:08:09.450Z"
   },
   {
    "duration": 5,
    "start_time": "2025-05-14T01:08:09.457Z"
   },
   {
    "duration": 0,
    "start_time": "2025-05-14T01:08:09.463Z"
   },
   {
    "duration": 0,
    "start_time": "2025-05-14T01:08:09.465Z"
   },
   {
    "duration": 0,
    "start_time": "2025-05-14T01:08:09.466Z"
   },
   {
    "duration": 0,
    "start_time": "2025-05-14T01:08:09.468Z"
   },
   {
    "duration": 0,
    "start_time": "2025-05-14T01:08:09.469Z"
   },
   {
    "duration": 0,
    "start_time": "2025-05-14T01:08:09.471Z"
   },
   {
    "duration": 0,
    "start_time": "2025-05-14T01:08:09.472Z"
   },
   {
    "duration": 305,
    "start_time": "2025-05-14T01:08:31.800Z"
   },
   {
    "duration": 20,
    "start_time": "2025-05-14T01:08:47.237Z"
   },
   {
    "duration": 73,
    "start_time": "2025-05-14T01:08:48.675Z"
   },
   {
    "duration": 326,
    "start_time": "2025-05-14T01:08:53.586Z"
   },
   {
    "duration": 11,
    "start_time": "2025-05-14T01:08:55.491Z"
   },
   {
    "duration": 479,
    "start_time": "2025-05-14T01:08:57.155Z"
   },
   {
    "duration": 508,
    "start_time": "2025-05-14T01:09:20.285Z"
   },
   {
    "duration": 10,
    "start_time": "2025-05-14T01:15:46.410Z"
   },
   {
    "duration": 18,
    "start_time": "2025-05-14T01:22:36.791Z"
   },
   {
    "duration": 624,
    "start_time": "2025-05-14T01:28:56.188Z"
   },
   {
    "duration": 53,
    "start_time": "2025-05-14T01:29:03.422Z"
   },
   {
    "duration": 9,
    "start_time": "2025-05-14T01:29:23.052Z"
   },
   {
    "duration": 27,
    "start_time": "2025-05-14T01:30:29.609Z"
   },
   {
    "duration": 10,
    "start_time": "2025-05-14T01:31:05.358Z"
   },
   {
    "duration": 27,
    "start_time": "2025-05-14T01:31:10.337Z"
   },
   {
    "duration": 27,
    "start_time": "2025-05-14T01:31:29.682Z"
   },
   {
    "duration": 33,
    "start_time": "2025-05-14T01:31:58.056Z"
   },
   {
    "duration": 33,
    "start_time": "2025-05-14T01:32:07.947Z"
   },
   {
    "duration": 5,
    "start_time": "2025-05-14T01:32:26.082Z"
   },
   {
    "duration": 3,
    "start_time": "2025-05-14T01:32:40.596Z"
   },
   {
    "duration": 5,
    "start_time": "2025-05-14T01:32:48.604Z"
   },
   {
    "duration": 36,
    "start_time": "2025-05-14T01:32:51.908Z"
   },
   {
    "duration": 31,
    "start_time": "2025-05-14T01:33:22.527Z"
   },
   {
    "duration": 2571,
    "start_time": "2025-05-14T14:45:04.349Z"
   },
   {
    "duration": 63,
    "start_time": "2025-05-14T14:45:06.922Z"
   },
   {
    "duration": 20,
    "start_time": "2025-05-14T14:45:06.986Z"
   },
   {
    "duration": 5,
    "start_time": "2025-05-14T14:45:07.008Z"
   },
   {
    "duration": 131,
    "start_time": "2025-05-14T14:45:07.014Z"
   },
   {
    "duration": 123,
    "start_time": "2025-05-14T14:45:07.148Z"
   },
   {
    "duration": 155,
    "start_time": "2025-05-14T14:45:07.273Z"
   },
   {
    "duration": 11,
    "start_time": "2025-05-14T14:45:07.429Z"
   },
   {
    "duration": 7,
    "start_time": "2025-05-14T14:45:07.441Z"
   },
   {
    "duration": 8,
    "start_time": "2025-05-14T14:45:07.451Z"
   },
   {
    "duration": 15,
    "start_time": "2025-05-14T14:45:07.461Z"
   },
   {
    "duration": 194,
    "start_time": "2025-05-14T14:45:07.478Z"
   },
   {
    "duration": 18,
    "start_time": "2025-05-14T14:45:07.674Z"
   },
   {
    "duration": 291,
    "start_time": "2025-05-14T14:45:07.694Z"
   },
   {
    "duration": 6,
    "start_time": "2025-05-14T14:45:07.988Z"
   },
   {
    "duration": 6,
    "start_time": "2025-05-14T14:45:07.996Z"
   },
   {
    "duration": 28,
    "start_time": "2025-05-14T14:45:08.004Z"
   },
   {
    "duration": 118,
    "start_time": "2025-05-14T14:45:08.033Z"
   },
   {
    "duration": 4,
    "start_time": "2025-05-14T14:45:08.152Z"
   },
   {
    "duration": 6,
    "start_time": "2025-05-14T14:45:08.157Z"
   },
   {
    "duration": 6,
    "start_time": "2025-05-14T14:45:08.165Z"
   },
   {
    "duration": 12,
    "start_time": "2025-05-14T14:45:08.173Z"
   },
   {
    "duration": 35,
    "start_time": "2025-05-14T14:45:08.187Z"
   },
   {
    "duration": 6,
    "start_time": "2025-05-14T14:45:08.224Z"
   },
   {
    "duration": 39,
    "start_time": "2025-05-14T14:45:08.233Z"
   },
   {
    "duration": 3,
    "start_time": "2025-05-14T14:45:08.274Z"
   },
   {
    "duration": 53,
    "start_time": "2025-05-14T14:45:08.279Z"
   },
   {
    "duration": 30,
    "start_time": "2025-05-14T14:45:08.336Z"
   },
   {
    "duration": 331,
    "start_time": "2025-05-14T14:45:08.367Z"
   },
   {
    "duration": 205,
    "start_time": "2025-05-14T14:45:08.699Z"
   },
   {
    "duration": 19,
    "start_time": "2025-05-14T14:45:08.906Z"
   },
   {
    "duration": 160,
    "start_time": "2025-05-14T14:45:08.926Z"
   },
   {
    "duration": 262,
    "start_time": "2025-05-14T14:45:09.088Z"
   },
   {
    "duration": 6,
    "start_time": "2025-05-14T14:45:09.352Z"
   },
   {
    "duration": 25,
    "start_time": "2025-05-14T14:45:09.360Z"
   },
   {
    "duration": 51,
    "start_time": "2025-05-14T14:45:09.387Z"
   },
   {
    "duration": 371,
    "start_time": "2025-05-14T14:45:09.440Z"
   },
   {
    "duration": 7,
    "start_time": "2025-05-14T14:45:09.813Z"
   },
   {
    "duration": 2,
    "start_time": "2025-05-14T14:45:09.822Z"
   },
   {
    "duration": 2,
    "start_time": "2025-05-14T14:45:09.827Z"
   },
   {
    "duration": 3,
    "start_time": "2025-05-14T14:45:09.831Z"
   },
   {
    "duration": 29,
    "start_time": "2025-05-14T14:48:06.329Z"
   },
   {
    "duration": 29,
    "start_time": "2025-05-14T14:48:20.638Z"
   },
   {
    "duration": 259,
    "start_time": "2025-05-14T14:49:45.741Z"
   },
   {
    "duration": 28,
    "start_time": "2025-05-14T14:50:16.534Z"
   },
   {
    "duration": 6,
    "start_time": "2025-05-14T14:50:23.785Z"
   },
   {
    "duration": 23,
    "start_time": "2025-05-14T14:53:10.525Z"
   },
   {
    "duration": 426,
    "start_time": "2025-05-14T14:53:29.477Z"
   },
   {
    "duration": 13,
    "start_time": "2025-05-14T14:53:39.296Z"
   },
   {
    "duration": 17,
    "start_time": "2025-05-14T14:55:52.029Z"
   },
   {
    "duration": 22,
    "start_time": "2025-05-14T14:59:50.800Z"
   },
   {
    "duration": 20,
    "start_time": "2025-05-14T15:00:46.055Z"
   },
   {
    "duration": 26,
    "start_time": "2025-05-14T15:01:15.290Z"
   },
   {
    "duration": 8,
    "start_time": "2025-05-14T15:06:19.720Z"
   },
   {
    "duration": 406,
    "start_time": "2025-05-14T15:06:30.071Z"
   },
   {
    "duration": 48,
    "start_time": "2025-05-14T15:07:34.509Z"
   },
   {
    "duration": 26,
    "start_time": "2025-05-14T15:09:50.725Z"
   },
   {
    "duration": 30,
    "start_time": "2025-05-14T15:09:59.042Z"
   },
   {
    "duration": 23,
    "start_time": "2025-05-14T15:10:04.955Z"
   },
   {
    "duration": 21,
    "start_time": "2025-05-14T15:12:46.395Z"
   },
   {
    "duration": 20,
    "start_time": "2025-05-14T15:13:14.341Z"
   },
   {
    "duration": 21,
    "start_time": "2025-05-14T15:13:37.469Z"
   },
   {
    "duration": 17,
    "start_time": "2025-05-14T15:16:46.874Z"
   },
   {
    "duration": 18,
    "start_time": "2025-05-14T15:16:53.870Z"
   },
   {
    "duration": 17,
    "start_time": "2025-05-14T15:17:39.950Z"
   },
   {
    "duration": 20,
    "start_time": "2025-05-14T15:17:50.663Z"
   },
   {
    "duration": 842,
    "start_time": "2025-05-14T15:18:01.357Z"
   },
   {
    "duration": 37,
    "start_time": "2025-05-14T15:18:02.202Z"
   },
   {
    "duration": 20,
    "start_time": "2025-05-14T15:18:02.241Z"
   },
   {
    "duration": 5,
    "start_time": "2025-05-14T15:18:02.263Z"
   },
   {
    "duration": 144,
    "start_time": "2025-05-14T15:18:02.271Z"
   },
   {
    "duration": 119,
    "start_time": "2025-05-14T15:18:02.420Z"
   },
   {
    "duration": 203,
    "start_time": "2025-05-14T15:18:02.541Z"
   },
   {
    "duration": 10,
    "start_time": "2025-05-14T15:18:02.746Z"
   },
   {
    "duration": 6,
    "start_time": "2025-05-14T15:18:02.757Z"
   },
   {
    "duration": 9,
    "start_time": "2025-05-14T15:18:02.765Z"
   },
   {
    "duration": 46,
    "start_time": "2025-05-14T15:18:02.775Z"
   },
   {
    "duration": 116,
    "start_time": "2025-05-14T15:18:02.823Z"
   },
   {
    "duration": 17,
    "start_time": "2025-05-14T15:18:02.942Z"
   },
   {
    "duration": 246,
    "start_time": "2025-05-14T15:18:02.963Z"
   },
   {
    "duration": 12,
    "start_time": "2025-05-14T15:18:03.211Z"
   },
   {
    "duration": 6,
    "start_time": "2025-05-14T15:18:03.225Z"
   },
   {
    "duration": 17,
    "start_time": "2025-05-14T15:18:03.233Z"
   },
   {
    "duration": 136,
    "start_time": "2025-05-14T15:18:03.251Z"
   },
   {
    "duration": 4,
    "start_time": "2025-05-14T15:18:03.389Z"
   },
   {
    "duration": 6,
    "start_time": "2025-05-14T15:18:03.395Z"
   },
   {
    "duration": 24,
    "start_time": "2025-05-14T15:18:03.402Z"
   },
   {
    "duration": 13,
    "start_time": "2025-05-14T15:18:03.428Z"
   },
   {
    "duration": 6,
    "start_time": "2025-05-14T15:18:03.443Z"
   },
   {
    "duration": 5,
    "start_time": "2025-05-14T15:18:03.451Z"
   },
   {
    "duration": 71,
    "start_time": "2025-05-14T15:18:03.458Z"
   },
   {
    "duration": 3,
    "start_time": "2025-05-14T15:18:03.531Z"
   },
   {
    "duration": 28,
    "start_time": "2025-05-14T15:18:03.536Z"
   },
   {
    "duration": 53,
    "start_time": "2025-05-14T15:18:03.566Z"
   },
   {
    "duration": 327,
    "start_time": "2025-05-14T15:18:03.621Z"
   },
   {
    "duration": 186,
    "start_time": "2025-05-14T15:18:03.950Z"
   },
   {
    "duration": 18,
    "start_time": "2025-05-14T15:18:04.138Z"
   },
   {
    "duration": 166,
    "start_time": "2025-05-14T15:18:04.158Z"
   },
   {
    "duration": 305,
    "start_time": "2025-05-14T15:18:04.326Z"
   },
   {
    "duration": 5,
    "start_time": "2025-05-14T15:18:04.633Z"
   },
   {
    "duration": 23,
    "start_time": "2025-05-14T15:18:04.640Z"
   },
   {
    "duration": 98,
    "start_time": "2025-05-14T15:18:04.665Z"
   },
   {
    "duration": 305,
    "start_time": "2025-05-14T15:18:04.765Z"
   },
   {
    "duration": 2,
    "start_time": "2025-05-14T15:18:05.072Z"
   },
   {
    "duration": 3,
    "start_time": "2025-05-14T15:18:05.076Z"
   },
   {
    "duration": 3,
    "start_time": "2025-05-14T15:18:05.080Z"
   },
   {
    "duration": 2,
    "start_time": "2025-05-14T15:18:05.087Z"
   },
   {
    "duration": 19,
    "start_time": "2025-05-14T15:18:37.730Z"
   },
   {
    "duration": 811,
    "start_time": "2025-05-14T15:18:43.189Z"
   },
   {
    "duration": 36,
    "start_time": "2025-05-14T15:18:44.002Z"
   },
   {
    "duration": 20,
    "start_time": "2025-05-14T15:18:44.039Z"
   },
   {
    "duration": 4,
    "start_time": "2025-05-14T15:18:44.062Z"
   },
   {
    "duration": 153,
    "start_time": "2025-05-14T15:18:44.068Z"
   },
   {
    "duration": 122,
    "start_time": "2025-05-14T15:18:44.223Z"
   },
   {
    "duration": 229,
    "start_time": "2025-05-14T15:18:44.347Z"
   },
   {
    "duration": 10,
    "start_time": "2025-05-14T15:18:44.578Z"
   },
   {
    "duration": 6,
    "start_time": "2025-05-14T15:18:44.590Z"
   },
   {
    "duration": 9,
    "start_time": "2025-05-14T15:18:44.620Z"
   },
   {
    "duration": 16,
    "start_time": "2025-05-14T15:18:44.631Z"
   },
   {
    "duration": 126,
    "start_time": "2025-05-14T15:18:44.649Z"
   },
   {
    "duration": 19,
    "start_time": "2025-05-14T15:18:44.777Z"
   },
   {
    "duration": 268,
    "start_time": "2025-05-14T15:18:44.798Z"
   },
   {
    "duration": 6,
    "start_time": "2025-05-14T15:18:45.069Z"
   },
   {
    "duration": 6,
    "start_time": "2025-05-14T15:18:45.077Z"
   },
   {
    "duration": 35,
    "start_time": "2025-05-14T15:18:45.085Z"
   },
   {
    "duration": 111,
    "start_time": "2025-05-14T15:18:45.123Z"
   },
   {
    "duration": 3,
    "start_time": "2025-05-14T15:18:45.236Z"
   },
   {
    "duration": 7,
    "start_time": "2025-05-14T15:18:45.240Z"
   },
   {
    "duration": 8,
    "start_time": "2025-05-14T15:18:45.248Z"
   },
   {
    "duration": 12,
    "start_time": "2025-05-14T15:18:45.258Z"
   },
   {
    "duration": 4,
    "start_time": "2025-05-14T15:18:45.272Z"
   },
   {
    "duration": 41,
    "start_time": "2025-05-14T15:18:45.278Z"
   },
   {
    "duration": 39,
    "start_time": "2025-05-14T15:18:45.322Z"
   },
   {
    "duration": 3,
    "start_time": "2025-05-14T15:18:45.363Z"
   },
   {
    "duration": 27,
    "start_time": "2025-05-14T15:18:45.368Z"
   },
   {
    "duration": 33,
    "start_time": "2025-05-14T15:18:45.422Z"
   },
   {
    "duration": 308,
    "start_time": "2025-05-14T15:18:45.457Z"
   },
   {
    "duration": 193,
    "start_time": "2025-05-14T15:18:45.767Z"
   },
   {
    "duration": 19,
    "start_time": "2025-05-14T15:18:45.962Z"
   },
   {
    "duration": 160,
    "start_time": "2025-05-14T15:18:45.983Z"
   },
   {
    "duration": 293,
    "start_time": "2025-05-14T15:18:46.144Z"
   },
   {
    "duration": 4,
    "start_time": "2025-05-14T15:18:46.440Z"
   },
   {
    "duration": 22,
    "start_time": "2025-05-14T15:18:46.447Z"
   },
   {
    "duration": 97,
    "start_time": "2025-05-14T15:18:46.470Z"
   },
   {
    "duration": 308,
    "start_time": "2025-05-14T15:18:46.569Z"
   },
   {
    "duration": 2,
    "start_time": "2025-05-14T15:18:46.879Z"
   },
   {
    "duration": 3,
    "start_time": "2025-05-14T15:18:46.883Z"
   },
   {
    "duration": 3,
    "start_time": "2025-05-14T15:18:46.887Z"
   },
   {
    "duration": 3,
    "start_time": "2025-05-14T15:18:46.892Z"
   },
   {
    "duration": 25,
    "start_time": "2025-05-14T15:19:07.096Z"
   },
   {
    "duration": 810,
    "start_time": "2025-05-14T15:19:13.510Z"
   },
   {
    "duration": 33,
    "start_time": "2025-05-14T15:19:14.323Z"
   },
   {
    "duration": 20,
    "start_time": "2025-05-14T15:19:14.357Z"
   },
   {
    "duration": 5,
    "start_time": "2025-05-14T15:19:14.379Z"
   },
   {
    "duration": 145,
    "start_time": "2025-05-14T15:19:14.385Z"
   },
   {
    "duration": 124,
    "start_time": "2025-05-14T15:19:14.532Z"
   },
   {
    "duration": 209,
    "start_time": "2025-05-14T15:19:14.658Z"
   },
   {
    "duration": 9,
    "start_time": "2025-05-14T15:19:14.869Z"
   },
   {
    "duration": 7,
    "start_time": "2025-05-14T15:19:14.880Z"
   },
   {
    "duration": 8,
    "start_time": "2025-05-14T15:19:14.890Z"
   },
   {
    "duration": 16,
    "start_time": "2025-05-14T15:19:14.921Z"
   },
   {
    "duration": 121,
    "start_time": "2025-05-14T15:19:14.939Z"
   },
   {
    "duration": 23,
    "start_time": "2025-05-14T15:19:15.062Z"
   },
   {
    "duration": 282,
    "start_time": "2025-05-14T15:19:15.086Z"
   },
   {
    "duration": 6,
    "start_time": "2025-05-14T15:19:15.370Z"
   },
   {
    "duration": 7,
    "start_time": "2025-05-14T15:19:15.378Z"
   },
   {
    "duration": 37,
    "start_time": "2025-05-14T15:19:15.386Z"
   },
   {
    "duration": 120,
    "start_time": "2025-05-14T15:19:15.425Z"
   },
   {
    "duration": 4,
    "start_time": "2025-05-14T15:19:15.547Z"
   },
   {
    "duration": 6,
    "start_time": "2025-05-14T15:19:15.552Z"
   },
   {
    "duration": 6,
    "start_time": "2025-05-14T15:19:15.559Z"
   },
   {
    "duration": 12,
    "start_time": "2025-05-14T15:19:15.567Z"
   },
   {
    "duration": 5,
    "start_time": "2025-05-14T15:19:15.581Z"
   },
   {
    "duration": 38,
    "start_time": "2025-05-14T15:19:15.587Z"
   },
   {
    "duration": 42,
    "start_time": "2025-05-14T15:19:15.627Z"
   },
   {
    "duration": 3,
    "start_time": "2025-05-14T15:19:15.671Z"
   },
   {
    "duration": 53,
    "start_time": "2025-05-14T15:19:15.676Z"
   },
   {
    "duration": 33,
    "start_time": "2025-05-14T15:19:15.733Z"
   },
   {
    "duration": 324,
    "start_time": "2025-05-14T15:19:15.768Z"
   },
   {
    "duration": 221,
    "start_time": "2025-05-14T15:19:16.096Z"
   },
   {
    "duration": 19,
    "start_time": "2025-05-14T15:19:16.319Z"
   },
   {
    "duration": 174,
    "start_time": "2025-05-14T15:19:16.340Z"
   },
   {
    "duration": 302,
    "start_time": "2025-05-14T15:19:16.516Z"
   },
   {
    "duration": 5,
    "start_time": "2025-05-14T15:19:16.820Z"
   },
   {
    "duration": 24,
    "start_time": "2025-05-14T15:19:16.827Z"
   },
   {
    "duration": 91,
    "start_time": "2025-05-14T15:19:16.853Z"
   },
   {
    "duration": 310,
    "start_time": "2025-05-14T15:19:16.945Z"
   },
   {
    "duration": 2,
    "start_time": "2025-05-14T15:19:17.257Z"
   },
   {
    "duration": 3,
    "start_time": "2025-05-14T15:19:17.261Z"
   },
   {
    "duration": 3,
    "start_time": "2025-05-14T15:19:17.266Z"
   },
   {
    "duration": 2,
    "start_time": "2025-05-14T15:19:17.271Z"
   },
   {
    "duration": 23,
    "start_time": "2025-05-14T15:20:10.033Z"
   },
   {
    "duration": 22,
    "start_time": "2025-05-14T15:20:30.371Z"
   },
   {
    "duration": 24,
    "start_time": "2025-05-14T15:22:52.153Z"
   },
   {
    "duration": 23,
    "start_time": "2025-05-14T15:23:28.615Z"
   },
   {
    "duration": 23,
    "start_time": "2025-05-14T15:23:59.212Z"
   },
   {
    "duration": 24,
    "start_time": "2025-05-14T15:24:17.155Z"
   },
   {
    "duration": 23,
    "start_time": "2025-05-14T15:24:43.037Z"
   },
   {
    "duration": 23,
    "start_time": "2025-05-14T15:24:59.509Z"
   },
   {
    "duration": 25,
    "start_time": "2025-05-14T15:25:24.338Z"
   },
   {
    "duration": 26,
    "start_time": "2025-05-14T15:28:18.908Z"
   },
   {
    "duration": 7,
    "start_time": "2025-05-14T15:32:47.118Z"
   },
   {
    "duration": 234,
    "start_time": "2025-05-14T15:33:03.385Z"
   },
   {
    "duration": 25,
    "start_time": "2025-05-14T15:33:40.358Z"
   },
   {
    "duration": 25,
    "start_time": "2025-05-14T15:37:47.397Z"
   },
   {
    "duration": 15,
    "start_time": "2025-05-14T15:42:09.890Z"
   },
   {
    "duration": 27,
    "start_time": "2025-05-14T15:45:19.205Z"
   },
   {
    "duration": 3,
    "start_time": "2025-05-14T15:49:45.961Z"
   },
   {
    "duration": 412,
    "start_time": "2025-05-14T15:50:40.321Z"
   },
   {
    "duration": 7,
    "start_time": "2025-05-14T15:50:58.902Z"
   },
   {
    "duration": 8,
    "start_time": "2025-05-14T15:51:03.471Z"
   },
   {
    "duration": 7,
    "start_time": "2025-05-14T15:56:12.569Z"
   },
   {
    "duration": 136,
    "start_time": "2025-05-14T15:56:21.448Z"
   },
   {
    "duration": 8,
    "start_time": "2025-05-14T15:56:26.528Z"
   },
   {
    "duration": 9,
    "start_time": "2025-05-14T16:00:27.605Z"
   },
   {
    "duration": 8,
    "start_time": "2025-05-14T16:00:48.347Z"
   },
   {
    "duration": 12,
    "start_time": "2025-05-14T16:01:47.235Z"
   },
   {
    "duration": 4,
    "start_time": "2025-05-14T16:02:58.322Z"
   },
   {
    "duration": 17,
    "start_time": "2025-05-14T16:07:10.974Z"
   },
   {
    "duration": 14,
    "start_time": "2025-05-14T16:09:05.937Z"
   },
   {
    "duration": 20,
    "start_time": "2025-05-14T16:09:39.588Z"
   },
   {
    "duration": 31,
    "start_time": "2025-05-14T16:10:08.999Z"
   },
   {
    "duration": 42,
    "start_time": "2025-05-14T16:15:08.286Z"
   },
   {
    "duration": 134,
    "start_time": "2025-05-14T16:29:21.975Z"
   },
   {
    "duration": 107,
    "start_time": "2025-05-14T16:31:12.191Z"
   },
   {
    "duration": 187,
    "start_time": "2025-05-14T16:31:33.801Z"
   },
   {
    "duration": 639,
    "start_time": "2025-05-14T16:33:22.125Z"
   },
   {
    "duration": 142,
    "start_time": "2025-05-14T16:33:38.489Z"
   },
   {
    "duration": 146,
    "start_time": "2025-05-14T16:33:46.034Z"
   },
   {
    "duration": 140,
    "start_time": "2025-05-14T16:33:55.170Z"
   },
   {
    "duration": 140,
    "start_time": "2025-05-14T16:34:22.908Z"
   },
   {
    "duration": 165,
    "start_time": "2025-05-14T16:34:37.069Z"
   },
   {
    "duration": 159,
    "start_time": "2025-05-14T16:34:42.734Z"
   },
   {
    "duration": 160,
    "start_time": "2025-05-14T16:34:48.773Z"
   },
   {
    "duration": 161,
    "start_time": "2025-05-14T16:35:20.576Z"
   },
   {
    "duration": 162,
    "start_time": "2025-05-14T16:35:36.969Z"
   },
   {
    "duration": 5,
    "start_time": "2025-05-14T16:35:42.595Z"
   },
   {
    "duration": 165,
    "start_time": "2025-05-14T16:35:44.656Z"
   },
   {
    "duration": 163,
    "start_time": "2025-05-14T16:36:06.891Z"
   },
   {
    "duration": 198,
    "start_time": "2025-05-14T16:36:58.067Z"
   },
   {
    "duration": 197,
    "start_time": "2025-05-14T16:38:47.951Z"
   },
   {
    "duration": 198,
    "start_time": "2025-05-14T16:38:56.518Z"
   },
   {
    "duration": 196,
    "start_time": "2025-05-14T16:39:09.830Z"
   },
   {
    "duration": 196,
    "start_time": "2025-05-14T16:39:13.948Z"
   },
   {
    "duration": 222,
    "start_time": "2025-05-14T16:39:37.730Z"
   },
   {
    "duration": 227,
    "start_time": "2025-05-14T16:39:56.960Z"
   },
   {
    "duration": 378,
    "start_time": "2025-05-14T16:40:01.125Z"
   },
   {
    "duration": 233,
    "start_time": "2025-05-14T16:40:23.041Z"
   },
   {
    "duration": 186,
    "start_time": "2025-05-14T16:40:44.300Z"
   },
   {
    "duration": 39,
    "start_time": "2025-05-14T16:41:15.714Z"
   },
   {
    "duration": 39,
    "start_time": "2025-05-14T16:43:32.149Z"
   },
   {
    "duration": 47,
    "start_time": "2025-05-14T16:44:10.784Z"
   },
   {
    "duration": 228,
    "start_time": "2025-05-14T16:44:49.773Z"
   },
   {
    "duration": 154,
    "start_time": "2025-05-14T16:46:45.969Z"
   },
   {
    "duration": 222,
    "start_time": "2025-05-14T17:06:38.101Z"
   },
   {
    "duration": 27,
    "start_time": "2025-05-14T17:29:44.780Z"
   },
   {
    "duration": 14,
    "start_time": "2025-05-14T17:32:25.592Z"
   },
   {
    "duration": 16,
    "start_time": "2025-05-14T17:32:31.255Z"
   },
   {
    "duration": 21,
    "start_time": "2025-05-14T17:32:36.858Z"
   },
   {
    "duration": 25,
    "start_time": "2025-05-14T17:32:44.930Z"
   },
   {
    "duration": 26,
    "start_time": "2025-05-14T17:32:55.657Z"
   },
   {
    "duration": 16,
    "start_time": "2025-05-14T17:33:20.621Z"
   },
   {
    "duration": 44,
    "start_time": "2025-05-14T17:33:46.593Z"
   },
   {
    "duration": 2397,
    "start_time": "2025-05-14T17:33:53.438Z"
   },
   {
    "duration": 445,
    "start_time": "2025-05-14T17:34:31.561Z"
   },
   {
    "duration": 578,
    "start_time": "2025-05-14T17:35:28.212Z"
   },
   {
    "duration": 4,
    "start_time": "2025-05-14T17:42:48.051Z"
   },
   {
    "duration": 83,
    "start_time": "2025-05-14T17:42:55.883Z"
   },
   {
    "duration": 84,
    "start_time": "2025-05-14T17:43:39.056Z"
   },
   {
    "duration": 86,
    "start_time": "2025-05-14T17:47:12.246Z"
   },
   {
    "duration": 87,
    "start_time": "2025-05-14T17:47:34.462Z"
   },
   {
    "duration": 26,
    "start_time": "2025-05-14T17:50:10.050Z"
   },
   {
    "duration": 26,
    "start_time": "2025-05-14T17:50:33.528Z"
   },
   {
    "duration": 807,
    "start_time": "2025-05-14T17:51:32.298Z"
   },
   {
    "duration": 43,
    "start_time": "2025-05-14T17:51:33.107Z"
   },
   {
    "duration": 20,
    "start_time": "2025-05-14T17:51:33.152Z"
   },
   {
    "duration": 4,
    "start_time": "2025-05-14T17:51:33.173Z"
   },
   {
    "duration": 146,
    "start_time": "2025-05-14T17:51:33.180Z"
   },
   {
    "duration": 122,
    "start_time": "2025-05-14T17:51:33.328Z"
   },
   {
    "duration": 212,
    "start_time": "2025-05-14T17:51:33.452Z"
   },
   {
    "duration": 11,
    "start_time": "2025-05-14T17:51:33.666Z"
   },
   {
    "duration": 7,
    "start_time": "2025-05-14T17:51:33.678Z"
   },
   {
    "duration": 9,
    "start_time": "2025-05-14T17:51:33.686Z"
   },
   {
    "duration": 38,
    "start_time": "2025-05-14T17:51:33.697Z"
   },
   {
    "duration": 126,
    "start_time": "2025-05-14T17:51:33.736Z"
   },
   {
    "duration": 18,
    "start_time": "2025-05-14T17:51:33.864Z"
   },
   {
    "duration": 247,
    "start_time": "2025-05-14T17:51:33.886Z"
   },
   {
    "duration": 7,
    "start_time": "2025-05-14T17:51:34.135Z"
   },
   {
    "duration": 7,
    "start_time": "2025-05-14T17:51:34.144Z"
   },
   {
    "duration": 15,
    "start_time": "2025-05-14T17:51:34.153Z"
   },
   {
    "duration": 139,
    "start_time": "2025-05-14T17:51:34.169Z"
   },
   {
    "duration": 3,
    "start_time": "2025-05-14T17:51:34.310Z"
   },
   {
    "duration": 7,
    "start_time": "2025-05-14T17:51:34.319Z"
   },
   {
    "duration": 6,
    "start_time": "2025-05-14T17:51:34.327Z"
   },
   {
    "duration": 13,
    "start_time": "2025-05-14T17:51:34.335Z"
   },
   {
    "duration": 5,
    "start_time": "2025-05-14T17:51:34.350Z"
   },
   {
    "duration": 5,
    "start_time": "2025-05-14T17:51:34.358Z"
   },
   {
    "duration": 78,
    "start_time": "2025-05-14T17:51:34.365Z"
   },
   {
    "duration": 5,
    "start_time": "2025-05-14T17:51:34.444Z"
   },
   {
    "duration": 27,
    "start_time": "2025-05-14T17:51:34.451Z"
   },
   {
    "duration": 50,
    "start_time": "2025-05-14T17:51:34.480Z"
   },
   {
    "duration": 307,
    "start_time": "2025-05-14T17:51:34.532Z"
   },
   {
    "duration": 195,
    "start_time": "2025-05-14T17:51:34.841Z"
   },
   {
    "duration": 20,
    "start_time": "2025-05-14T17:51:35.038Z"
   },
   {
    "duration": 165,
    "start_time": "2025-05-14T17:51:35.060Z"
   },
   {
    "duration": 313,
    "start_time": "2025-05-14T17:51:35.227Z"
   },
   {
    "duration": 5,
    "start_time": "2025-05-14T17:51:35.542Z"
   },
   {
    "duration": 26,
    "start_time": "2025-05-14T17:51:35.548Z"
   },
   {
    "duration": 711,
    "start_time": "2025-05-14T17:51:35.576Z"
   },
   {
    "duration": 0,
    "start_time": "2025-05-14T17:51:36.289Z"
   },
   {
    "duration": 0,
    "start_time": "2025-05-14T17:51:36.290Z"
   },
   {
    "duration": 0,
    "start_time": "2025-05-14T17:51:36.292Z"
   },
   {
    "duration": 0,
    "start_time": "2025-05-14T17:51:36.294Z"
   },
   {
    "duration": 0,
    "start_time": "2025-05-14T17:51:36.295Z"
   },
   {
    "duration": 1,
    "start_time": "2025-05-14T17:51:36.296Z"
   },
   {
    "duration": 0,
    "start_time": "2025-05-14T17:51:36.298Z"
   },
   {
    "duration": 852,
    "start_time": "2025-05-14T17:52:06.729Z"
   },
   {
    "duration": 31,
    "start_time": "2025-05-14T17:52:07.584Z"
   },
   {
    "duration": 20,
    "start_time": "2025-05-14T17:52:07.617Z"
   },
   {
    "duration": 4,
    "start_time": "2025-05-14T17:52:07.640Z"
   },
   {
    "duration": 150,
    "start_time": "2025-05-14T17:52:07.646Z"
   },
   {
    "duration": 128,
    "start_time": "2025-05-14T17:52:07.798Z"
   },
   {
    "duration": 204,
    "start_time": "2025-05-14T17:52:07.928Z"
   },
   {
    "duration": 10,
    "start_time": "2025-05-14T17:52:08.133Z"
   },
   {
    "duration": 6,
    "start_time": "2025-05-14T17:52:08.145Z"
   },
   {
    "duration": 8,
    "start_time": "2025-05-14T17:52:08.155Z"
   },
   {
    "duration": 16,
    "start_time": "2025-05-14T17:52:08.164Z"
   },
   {
    "duration": 144,
    "start_time": "2025-05-14T17:52:08.181Z"
   },
   {
    "duration": 19,
    "start_time": "2025-05-14T17:52:08.326Z"
   },
   {
    "duration": 259,
    "start_time": "2025-05-14T17:52:08.346Z"
   },
   {
    "duration": 14,
    "start_time": "2025-05-14T17:52:08.607Z"
   },
   {
    "duration": 7,
    "start_time": "2025-05-14T17:52:08.622Z"
   },
   {
    "duration": 14,
    "start_time": "2025-05-14T17:52:08.631Z"
   },
   {
    "duration": 128,
    "start_time": "2025-05-14T17:52:08.647Z"
   },
   {
    "duration": 3,
    "start_time": "2025-05-14T17:52:08.776Z"
   },
   {
    "duration": 5,
    "start_time": "2025-05-14T17:52:08.782Z"
   },
   {
    "duration": 7,
    "start_time": "2025-05-14T17:52:08.788Z"
   },
   {
    "duration": 34,
    "start_time": "2025-05-14T17:52:08.796Z"
   },
   {
    "duration": 4,
    "start_time": "2025-05-14T17:52:08.832Z"
   },
   {
    "duration": 6,
    "start_time": "2025-05-14T17:52:08.838Z"
   },
   {
    "duration": 40,
    "start_time": "2025-05-14T17:52:08.845Z"
   },
   {
    "duration": 34,
    "start_time": "2025-05-14T17:52:08.887Z"
   },
   {
    "duration": 28,
    "start_time": "2025-05-14T17:52:08.923Z"
   },
   {
    "duration": 29,
    "start_time": "2025-05-14T17:52:08.956Z"
   },
   {
    "duration": 325,
    "start_time": "2025-05-14T17:52:08.987Z"
   },
   {
    "duration": 188,
    "start_time": "2025-05-14T17:52:09.320Z"
   },
   {
    "duration": 19,
    "start_time": "2025-05-14T17:52:09.510Z"
   },
   {
    "duration": 171,
    "start_time": "2025-05-14T17:52:09.530Z"
   },
   {
    "duration": 278,
    "start_time": "2025-05-14T17:52:09.702Z"
   },
   {
    "duration": 6,
    "start_time": "2025-05-14T17:52:09.982Z"
   },
   {
    "duration": 35,
    "start_time": "2025-05-14T17:52:09.989Z"
   },
   {
    "duration": 95,
    "start_time": "2025-05-14T17:52:10.025Z"
   },
   {
    "duration": 308,
    "start_time": "2025-05-14T17:52:10.122Z"
   },
   {
    "duration": 39,
    "start_time": "2025-05-14T17:52:10.431Z"
   },
   {
    "duration": 243,
    "start_time": "2025-05-14T17:52:10.472Z"
   },
   {
    "duration": 3,
    "start_time": "2025-05-14T17:52:10.719Z"
   },
   {
    "duration": 3,
    "start_time": "2025-05-14T17:52:10.723Z"
   },
   {
    "duration": 3,
    "start_time": "2025-05-14T17:52:10.728Z"
   },
   {
    "duration": 4,
    "start_time": "2025-05-14T17:52:10.732Z"
   },
   {
    "duration": 803,
    "start_time": "2025-05-14T17:58:52.505Z"
   },
   {
    "duration": 33,
    "start_time": "2025-05-14T17:58:53.310Z"
   },
   {
    "duration": 19,
    "start_time": "2025-05-14T17:58:53.345Z"
   },
   {
    "duration": 5,
    "start_time": "2025-05-14T17:58:53.366Z"
   },
   {
    "duration": 148,
    "start_time": "2025-05-14T17:58:53.373Z"
   },
   {
    "duration": 128,
    "start_time": "2025-05-14T17:58:53.523Z"
   },
   {
    "duration": 200,
    "start_time": "2025-05-14T17:58:53.653Z"
   },
   {
    "duration": 11,
    "start_time": "2025-05-14T17:58:53.855Z"
   },
   {
    "duration": 6,
    "start_time": "2025-05-14T17:58:53.867Z"
   },
   {
    "duration": 9,
    "start_time": "2025-05-14T17:58:53.875Z"
   },
   {
    "duration": 41,
    "start_time": "2025-05-14T17:58:53.886Z"
   },
   {
    "duration": 115,
    "start_time": "2025-05-14T17:58:53.929Z"
   },
   {
    "duration": 19,
    "start_time": "2025-05-14T17:58:54.046Z"
   },
   {
    "duration": 251,
    "start_time": "2025-05-14T17:58:54.069Z"
   },
   {
    "duration": 7,
    "start_time": "2025-05-14T17:58:54.321Z"
   },
   {
    "duration": 7,
    "start_time": "2025-05-14T17:58:54.329Z"
   },
   {
    "duration": 13,
    "start_time": "2025-05-14T17:58:54.338Z"
   },
   {
    "duration": 127,
    "start_time": "2025-05-14T17:58:54.353Z"
   },
   {
    "duration": 4,
    "start_time": "2025-05-14T17:58:54.482Z"
   },
   {
    "duration": 6,
    "start_time": "2025-05-14T17:58:54.487Z"
   },
   {
    "duration": 26,
    "start_time": "2025-05-14T17:58:54.495Z"
   },
   {
    "duration": 12,
    "start_time": "2025-05-14T17:58:54.523Z"
   },
   {
    "duration": 5,
    "start_time": "2025-05-14T17:58:54.537Z"
   },
   {
    "duration": 6,
    "start_time": "2025-05-14T17:58:54.543Z"
   },
   {
    "duration": 39,
    "start_time": "2025-05-14T17:58:54.551Z"
   },
   {
    "duration": 29,
    "start_time": "2025-05-14T17:58:54.592Z"
   },
   {
    "duration": 28,
    "start_time": "2025-05-14T17:58:54.623Z"
   },
   {
    "duration": 29,
    "start_time": "2025-05-14T17:58:54.652Z"
   },
   {
    "duration": 324,
    "start_time": "2025-05-14T17:58:54.682Z"
   },
   {
    "duration": 192,
    "start_time": "2025-05-14T17:58:55.008Z"
   },
   {
    "duration": 287,
    "start_time": "2025-05-14T17:58:55.203Z"
   },
   {
    "duration": 0,
    "start_time": "2025-05-14T17:58:55.492Z"
   },
   {
    "duration": 0,
    "start_time": "2025-05-14T17:58:55.493Z"
   },
   {
    "duration": 0,
    "start_time": "2025-05-14T17:58:55.494Z"
   },
   {
    "duration": 0,
    "start_time": "2025-05-14T17:58:55.495Z"
   },
   {
    "duration": 0,
    "start_time": "2025-05-14T17:58:55.496Z"
   },
   {
    "duration": 0,
    "start_time": "2025-05-14T17:58:55.497Z"
   },
   {
    "duration": 0,
    "start_time": "2025-05-14T17:58:55.499Z"
   },
   {
    "duration": 0,
    "start_time": "2025-05-14T17:58:55.500Z"
   },
   {
    "duration": 0,
    "start_time": "2025-05-14T17:58:55.501Z"
   },
   {
    "duration": 0,
    "start_time": "2025-05-14T17:58:55.502Z"
   },
   {
    "duration": 0,
    "start_time": "2025-05-14T17:58:55.519Z"
   },
   {
    "duration": 0,
    "start_time": "2025-05-14T17:58:55.520Z"
   },
   {
    "duration": 0,
    "start_time": "2025-05-14T17:58:55.521Z"
   },
   {
    "duration": 818,
    "start_time": "2025-05-14T17:59:21.569Z"
   },
   {
    "duration": 35,
    "start_time": "2025-05-14T17:59:22.389Z"
   },
   {
    "duration": 19,
    "start_time": "2025-05-14T17:59:22.426Z"
   },
   {
    "duration": 4,
    "start_time": "2025-05-14T17:59:22.448Z"
   },
   {
    "duration": 153,
    "start_time": "2025-05-14T17:59:22.454Z"
   },
   {
    "duration": 125,
    "start_time": "2025-05-14T17:59:22.610Z"
   },
   {
    "duration": 196,
    "start_time": "2025-05-14T17:59:22.737Z"
   },
   {
    "duration": 10,
    "start_time": "2025-05-14T17:59:22.935Z"
   },
   {
    "duration": 5,
    "start_time": "2025-05-14T17:59:22.947Z"
   },
   {
    "duration": 8,
    "start_time": "2025-05-14T17:59:22.955Z"
   },
   {
    "duration": 15,
    "start_time": "2025-05-14T17:59:22.965Z"
   },
   {
    "duration": 141,
    "start_time": "2025-05-14T17:59:22.981Z"
   },
   {
    "duration": 19,
    "start_time": "2025-05-14T17:59:23.123Z"
   },
   {
    "duration": 259,
    "start_time": "2025-05-14T17:59:23.144Z"
   },
   {
    "duration": 15,
    "start_time": "2025-05-14T17:59:23.405Z"
   },
   {
    "duration": 8,
    "start_time": "2025-05-14T17:59:23.422Z"
   },
   {
    "duration": 14,
    "start_time": "2025-05-14T17:59:23.432Z"
   },
   {
    "duration": 129,
    "start_time": "2025-05-14T17:59:23.450Z"
   },
   {
    "duration": 3,
    "start_time": "2025-05-14T17:59:23.581Z"
   },
   {
    "duration": 6,
    "start_time": "2025-05-14T17:59:23.585Z"
   },
   {
    "duration": 26,
    "start_time": "2025-05-14T17:59:23.593Z"
   },
   {
    "duration": 11,
    "start_time": "2025-05-14T17:59:23.621Z"
   },
   {
    "duration": 4,
    "start_time": "2025-05-14T17:59:23.634Z"
   },
   {
    "duration": 6,
    "start_time": "2025-05-14T17:59:23.640Z"
   },
   {
    "duration": 42,
    "start_time": "2025-05-14T17:59:23.647Z"
   },
   {
    "duration": 32,
    "start_time": "2025-05-14T17:59:23.690Z"
   },
   {
    "duration": 28,
    "start_time": "2025-05-14T17:59:23.724Z"
   },
   {
    "duration": 31,
    "start_time": "2025-05-14T17:59:23.756Z"
   },
   {
    "duration": 334,
    "start_time": "2025-05-14T17:59:23.788Z"
   },
   {
    "duration": 208,
    "start_time": "2025-05-14T17:59:24.124Z"
   },
   {
    "duration": 281,
    "start_time": "2025-05-14T17:59:24.334Z"
   },
   {
    "duration": 0,
    "start_time": "2025-05-14T17:59:24.617Z"
   },
   {
    "duration": 0,
    "start_time": "2025-05-14T17:59:24.619Z"
   },
   {
    "duration": 0,
    "start_time": "2025-05-14T17:59:24.621Z"
   },
   {
    "duration": 0,
    "start_time": "2025-05-14T17:59:24.622Z"
   },
   {
    "duration": 1,
    "start_time": "2025-05-14T17:59:24.623Z"
   },
   {
    "duration": 0,
    "start_time": "2025-05-14T17:59:24.625Z"
   },
   {
    "duration": 0,
    "start_time": "2025-05-14T17:59:24.627Z"
   },
   {
    "duration": 0,
    "start_time": "2025-05-14T17:59:24.629Z"
   },
   {
    "duration": 0,
    "start_time": "2025-05-14T17:59:24.630Z"
   },
   {
    "duration": 0,
    "start_time": "2025-05-14T17:59:24.631Z"
   },
   {
    "duration": 0,
    "start_time": "2025-05-14T17:59:24.633Z"
   },
   {
    "duration": 0,
    "start_time": "2025-05-14T17:59:24.635Z"
   },
   {
    "duration": 0,
    "start_time": "2025-05-14T17:59:24.636Z"
   },
   {
    "duration": 7,
    "start_time": "2025-05-14T18:00:45.436Z"
   },
   {
    "duration": 5,
    "start_time": "2025-05-14T18:01:55.423Z"
   },
   {
    "duration": 4,
    "start_time": "2025-05-14T18:01:58.853Z"
   },
   {
    "duration": 19,
    "start_time": "2025-05-14T18:02:03.303Z"
   },
   {
    "duration": 27,
    "start_time": "2025-05-14T18:02:21.085Z"
   },
   {
    "duration": 827,
    "start_time": "2025-05-14T18:02:36.277Z"
   },
   {
    "duration": 33,
    "start_time": "2025-05-14T18:02:37.106Z"
   },
   {
    "duration": 19,
    "start_time": "2025-05-14T18:02:37.140Z"
   },
   {
    "duration": 4,
    "start_time": "2025-05-14T18:02:37.162Z"
   },
   {
    "duration": 145,
    "start_time": "2025-05-14T18:02:37.167Z"
   },
   {
    "duration": 125,
    "start_time": "2025-05-14T18:02:37.314Z"
   },
   {
    "duration": 210,
    "start_time": "2025-05-14T18:02:37.440Z"
   },
   {
    "duration": 9,
    "start_time": "2025-05-14T18:02:37.652Z"
   },
   {
    "duration": 6,
    "start_time": "2025-05-14T18:02:37.663Z"
   },
   {
    "duration": 8,
    "start_time": "2025-05-14T18:02:37.672Z"
   },
   {
    "duration": 40,
    "start_time": "2025-05-14T18:02:37.682Z"
   },
   {
    "duration": 115,
    "start_time": "2025-05-14T18:02:37.724Z"
   },
   {
    "duration": 22,
    "start_time": "2025-05-14T18:02:37.841Z"
   },
   {
    "duration": 308,
    "start_time": "2025-05-14T18:02:37.865Z"
   },
   {
    "duration": 6,
    "start_time": "2025-05-14T18:02:38.175Z"
   },
   {
    "duration": 8,
    "start_time": "2025-05-14T18:02:38.220Z"
   },
   {
    "duration": 15,
    "start_time": "2025-05-14T18:02:38.229Z"
   },
   {
    "duration": 126,
    "start_time": "2025-05-14T18:02:38.246Z"
   },
   {
    "duration": 3,
    "start_time": "2025-05-14T18:02:38.374Z"
   },
   {
    "duration": 7,
    "start_time": "2025-05-14T18:02:38.379Z"
   },
   {
    "duration": 7,
    "start_time": "2025-05-14T18:02:38.387Z"
   },
   {
    "duration": 33,
    "start_time": "2025-05-14T18:02:38.395Z"
   },
   {
    "duration": 5,
    "start_time": "2025-05-14T18:02:38.429Z"
   },
   {
    "duration": 12,
    "start_time": "2025-05-14T18:02:38.436Z"
   },
   {
    "duration": 70,
    "start_time": "2025-05-14T18:02:38.450Z"
   },
   {
    "duration": 4,
    "start_time": "2025-05-14T18:02:38.522Z"
   },
   {
    "duration": 28,
    "start_time": "2025-05-14T18:02:38.528Z"
   },
   {
    "duration": 30,
    "start_time": "2025-05-14T18:02:38.561Z"
   },
   {
    "duration": 342,
    "start_time": "2025-05-14T18:02:38.593Z"
   },
   {
    "duration": 195,
    "start_time": "2025-05-14T18:02:38.937Z"
   },
   {
    "duration": 28,
    "start_time": "2025-05-14T18:02:39.134Z"
   },
   {
    "duration": 279,
    "start_time": "2025-05-14T18:02:39.164Z"
   },
   {
    "duration": 0,
    "start_time": "2025-05-14T18:02:39.445Z"
   },
   {
    "duration": 0,
    "start_time": "2025-05-14T18:02:39.448Z"
   },
   {
    "duration": 0,
    "start_time": "2025-05-14T18:02:39.449Z"
   },
   {
    "duration": 0,
    "start_time": "2025-05-14T18:02:39.451Z"
   },
   {
    "duration": 0,
    "start_time": "2025-05-14T18:02:39.452Z"
   },
   {
    "duration": 0,
    "start_time": "2025-05-14T18:02:39.454Z"
   },
   {
    "duration": 0,
    "start_time": "2025-05-14T18:02:39.455Z"
   },
   {
    "duration": 0,
    "start_time": "2025-05-14T18:02:39.457Z"
   },
   {
    "duration": 0,
    "start_time": "2025-05-14T18:02:39.458Z"
   },
   {
    "duration": 0,
    "start_time": "2025-05-14T18:02:39.459Z"
   },
   {
    "duration": 0,
    "start_time": "2025-05-14T18:02:39.461Z"
   },
   {
    "duration": 0,
    "start_time": "2025-05-14T18:02:39.461Z"
   },
   {
    "duration": 40,
    "start_time": "2025-05-14T18:03:27.370Z"
   },
   {
    "duration": 23,
    "start_time": "2025-05-14T18:03:36.964Z"
   },
   {
    "duration": 3,
    "start_time": "2025-05-14T18:04:20.429Z"
   },
   {
    "duration": 45,
    "start_time": "2025-05-14T18:05:38.463Z"
   },
   {
    "duration": 42,
    "start_time": "2025-05-14T18:06:17.206Z"
   },
   {
    "duration": 27,
    "start_time": "2025-05-14T18:07:08.441Z"
   },
   {
    "duration": 162,
    "start_time": "2025-05-14T18:07:18.578Z"
   },
   {
    "duration": 269,
    "start_time": "2025-05-14T18:07:24.207Z"
   },
   {
    "duration": 6,
    "start_time": "2025-05-14T18:07:26.385Z"
   },
   {
    "duration": 876,
    "start_time": "2025-05-14T18:09:08.234Z"
   },
   {
    "duration": 37,
    "start_time": "2025-05-14T18:09:09.112Z"
   },
   {
    "duration": 20,
    "start_time": "2025-05-14T18:09:09.151Z"
   },
   {
    "duration": 4,
    "start_time": "2025-05-14T18:09:09.174Z"
   },
   {
    "duration": 158,
    "start_time": "2025-05-14T18:09:09.180Z"
   },
   {
    "duration": 136,
    "start_time": "2025-05-14T18:09:09.340Z"
   },
   {
    "duration": 223,
    "start_time": "2025-05-14T18:09:09.478Z"
   },
   {
    "duration": 22,
    "start_time": "2025-05-14T18:09:09.703Z"
   },
   {
    "duration": 7,
    "start_time": "2025-05-14T18:09:09.727Z"
   },
   {
    "duration": 9,
    "start_time": "2025-05-14T18:09:09.737Z"
   },
   {
    "duration": 17,
    "start_time": "2025-05-14T18:09:09.748Z"
   },
   {
    "duration": 141,
    "start_time": "2025-05-14T18:09:09.767Z"
   },
   {
    "duration": 24,
    "start_time": "2025-05-14T18:09:09.910Z"
   },
   {
    "duration": 268,
    "start_time": "2025-05-14T18:09:09.936Z"
   },
   {
    "duration": 19,
    "start_time": "2025-05-14T18:09:10.206Z"
   },
   {
    "duration": 6,
    "start_time": "2025-05-14T18:09:10.227Z"
   },
   {
    "duration": 14,
    "start_time": "2025-05-14T18:09:10.235Z"
   },
   {
    "duration": 130,
    "start_time": "2025-05-14T18:09:10.251Z"
   },
   {
    "duration": 3,
    "start_time": "2025-05-14T18:09:10.383Z"
   },
   {
    "duration": 5,
    "start_time": "2025-05-14T18:09:10.388Z"
   },
   {
    "duration": 7,
    "start_time": "2025-05-14T18:09:10.395Z"
   },
   {
    "duration": 12,
    "start_time": "2025-05-14T18:09:10.420Z"
   },
   {
    "duration": 5,
    "start_time": "2025-05-14T18:09:10.433Z"
   },
   {
    "duration": 5,
    "start_time": "2025-05-14T18:09:10.439Z"
   },
   {
    "duration": 40,
    "start_time": "2025-05-14T18:09:10.448Z"
   },
   {
    "duration": 32,
    "start_time": "2025-05-14T18:09:10.490Z"
   },
   {
    "duration": 25,
    "start_time": "2025-05-14T18:09:10.524Z"
   },
   {
    "duration": 29,
    "start_time": "2025-05-14T18:09:10.554Z"
   },
   {
    "duration": 352,
    "start_time": "2025-05-14T18:09:10.585Z"
   },
   {
    "duration": 201,
    "start_time": "2025-05-14T18:09:10.939Z"
   },
   {
    "duration": 23,
    "start_time": "2025-05-14T18:09:11.143Z"
   },
   {
    "duration": 290,
    "start_time": "2025-05-14T18:09:11.168Z"
   },
   {
    "duration": 0,
    "start_time": "2025-05-14T18:09:11.460Z"
   },
   {
    "duration": 0,
    "start_time": "2025-05-14T18:09:11.461Z"
   },
   {
    "duration": 0,
    "start_time": "2025-05-14T18:09:11.463Z"
   },
   {
    "duration": 0,
    "start_time": "2025-05-14T18:09:11.464Z"
   },
   {
    "duration": 0,
    "start_time": "2025-05-14T18:09:11.465Z"
   },
   {
    "duration": 0,
    "start_time": "2025-05-14T18:09:11.467Z"
   },
   {
    "duration": 0,
    "start_time": "2025-05-14T18:09:11.469Z"
   },
   {
    "duration": 0,
    "start_time": "2025-05-14T18:09:11.470Z"
   },
   {
    "duration": 0,
    "start_time": "2025-05-14T18:09:11.472Z"
   },
   {
    "duration": 0,
    "start_time": "2025-05-14T18:09:11.473Z"
   },
   {
    "duration": 0,
    "start_time": "2025-05-14T18:09:11.475Z"
   },
   {
    "duration": 0,
    "start_time": "2025-05-14T18:09:11.476Z"
   },
   {
    "duration": 823,
    "start_time": "2025-05-14T18:09:32.480Z"
   },
   {
    "duration": 36,
    "start_time": "2025-05-14T18:09:33.305Z"
   },
   {
    "duration": 20,
    "start_time": "2025-05-14T18:09:33.342Z"
   },
   {
    "duration": 4,
    "start_time": "2025-05-14T18:09:33.364Z"
   },
   {
    "duration": 148,
    "start_time": "2025-05-14T18:09:33.370Z"
   },
   {
    "duration": 122,
    "start_time": "2025-05-14T18:09:33.520Z"
   },
   {
    "duration": 194,
    "start_time": "2025-05-14T18:09:33.643Z"
   },
   {
    "duration": 10,
    "start_time": "2025-05-14T18:09:33.839Z"
   },
   {
    "duration": 6,
    "start_time": "2025-05-14T18:09:33.851Z"
   },
   {
    "duration": 8,
    "start_time": "2025-05-14T18:09:33.861Z"
   },
   {
    "duration": 16,
    "start_time": "2025-05-14T18:09:33.870Z"
   },
   {
    "duration": 139,
    "start_time": "2025-05-14T18:09:33.887Z"
   },
   {
    "duration": 18,
    "start_time": "2025-05-14T18:09:34.028Z"
   },
   {
    "duration": 257,
    "start_time": "2025-05-14T18:09:34.048Z"
   },
   {
    "duration": 13,
    "start_time": "2025-05-14T18:09:34.307Z"
   },
   {
    "duration": 7,
    "start_time": "2025-05-14T18:09:34.322Z"
   },
   {
    "duration": 16,
    "start_time": "2025-05-14T18:09:34.331Z"
   },
   {
    "duration": 139,
    "start_time": "2025-05-14T18:09:34.348Z"
   },
   {
    "duration": 4,
    "start_time": "2025-05-14T18:09:34.489Z"
   },
   {
    "duration": 8,
    "start_time": "2025-05-14T18:09:34.495Z"
   },
   {
    "duration": 21,
    "start_time": "2025-05-14T18:09:34.505Z"
   },
   {
    "duration": 14,
    "start_time": "2025-05-14T18:09:34.528Z"
   },
   {
    "duration": 5,
    "start_time": "2025-05-14T18:09:34.543Z"
   },
   {
    "duration": 6,
    "start_time": "2025-05-14T18:09:34.551Z"
   },
   {
    "duration": 76,
    "start_time": "2025-05-14T18:09:34.559Z"
   },
   {
    "duration": 4,
    "start_time": "2025-05-14T18:09:34.636Z"
   },
   {
    "duration": 29,
    "start_time": "2025-05-14T18:09:34.643Z"
   },
   {
    "duration": 57,
    "start_time": "2025-05-14T18:09:34.677Z"
   },
   {
    "duration": 307,
    "start_time": "2025-05-14T18:09:34.735Z"
   },
   {
    "duration": 196,
    "start_time": "2025-05-14T18:09:35.044Z"
   },
   {
    "duration": 25,
    "start_time": "2025-05-14T18:09:35.242Z"
   },
   {
    "duration": 299,
    "start_time": "2025-05-14T18:09:35.268Z"
   },
   {
    "duration": 0,
    "start_time": "2025-05-14T18:09:35.569Z"
   },
   {
    "duration": 0,
    "start_time": "2025-05-14T18:09:35.570Z"
   },
   {
    "duration": 0,
    "start_time": "2025-05-14T18:09:35.571Z"
   },
   {
    "duration": 0,
    "start_time": "2025-05-14T18:09:35.572Z"
   },
   {
    "duration": 0,
    "start_time": "2025-05-14T18:09:35.573Z"
   },
   {
    "duration": 0,
    "start_time": "2025-05-14T18:09:35.574Z"
   },
   {
    "duration": 0,
    "start_time": "2025-05-14T18:09:35.574Z"
   },
   {
    "duration": 1,
    "start_time": "2025-05-14T18:09:35.575Z"
   },
   {
    "duration": 0,
    "start_time": "2025-05-14T18:09:35.576Z"
   },
   {
    "duration": 0,
    "start_time": "2025-05-14T18:09:35.579Z"
   },
   {
    "duration": 0,
    "start_time": "2025-05-14T18:09:35.580Z"
   },
   {
    "duration": 0,
    "start_time": "2025-05-14T18:09:35.582Z"
   },
   {
    "duration": 166,
    "start_time": "2025-05-14T18:09:58.072Z"
   },
   {
    "duration": 250,
    "start_time": "2025-05-14T18:09:59.693Z"
   },
   {
    "duration": 6,
    "start_time": "2025-05-14T18:10:02.139Z"
   },
   {
    "duration": 7,
    "start_time": "2025-05-14T18:12:06.780Z"
   },
   {
    "duration": 448,
    "start_time": "2025-05-14T18:13:10.554Z"
   },
   {
    "duration": 24,
    "start_time": "2025-05-14T18:13:29.241Z"
   },
   {
    "duration": 52,
    "start_time": "2025-05-14T18:15:03.733Z"
   },
   {
    "duration": 11,
    "start_time": "2025-05-14T18:15:14.729Z"
   },
   {
    "duration": 45,
    "start_time": "2025-05-14T18:15:32.387Z"
   },
   {
    "duration": 12,
    "start_time": "2025-05-14T18:16:02.854Z"
   },
   {
    "duration": 116,
    "start_time": "2025-05-14T18:16:33.429Z"
   },
   {
    "duration": 116,
    "start_time": "2025-05-14T18:17:30.316Z"
   },
   {
    "duration": 112,
    "start_time": "2025-05-14T18:17:37.859Z"
   },
   {
    "duration": 129,
    "start_time": "2025-05-14T18:17:51.906Z"
   },
   {
    "duration": 131,
    "start_time": "2025-05-14T18:17:58.405Z"
   },
   {
    "duration": 676,
    "start_time": "2025-05-14T18:18:17.730Z"
   },
   {
    "duration": 12,
    "start_time": "2025-05-14T18:22:08.208Z"
   },
   {
    "duration": 15,
    "start_time": "2025-05-14T18:22:21.037Z"
   },
   {
    "duration": 16,
    "start_time": "2025-05-14T18:22:59.213Z"
   },
   {
    "duration": 13,
    "start_time": "2025-05-14T18:23:10.603Z"
   },
   {
    "duration": 14,
    "start_time": "2025-05-14T18:23:32.605Z"
   },
   {
    "duration": 404,
    "start_time": "2025-05-14T18:28:41.317Z"
   },
   {
    "duration": 143,
    "start_time": "2025-05-14T18:28:53.205Z"
   },
   {
    "duration": 575,
    "start_time": "2025-05-14T18:31:58.076Z"
   },
   {
    "duration": 6,
    "start_time": "2025-05-14T18:32:22.996Z"
   },
   {
    "duration": 4,
    "start_time": "2025-05-14T18:32:38.246Z"
   },
   {
    "duration": 245,
    "start_time": "2025-05-14T18:32:58.421Z"
   },
   {
    "duration": 310,
    "start_time": "2025-05-14T18:33:41.018Z"
   },
   {
    "duration": 306,
    "start_time": "2025-05-14T18:34:07.556Z"
   },
   {
    "duration": 148,
    "start_time": "2025-05-14T18:34:15.669Z"
   },
   {
    "duration": 149,
    "start_time": "2025-05-14T18:34:20.926Z"
   },
   {
    "duration": 145,
    "start_time": "2025-05-14T18:34:29.491Z"
   },
   {
    "duration": 152,
    "start_time": "2025-05-14T18:34:54.135Z"
   },
   {
    "duration": 145,
    "start_time": "2025-05-14T18:34:59.355Z"
   },
   {
    "duration": 32,
    "start_time": "2025-05-14T18:36:03.435Z"
   },
   {
    "duration": 313,
    "start_time": "2025-05-14T18:36:10.859Z"
   },
   {
    "duration": 226,
    "start_time": "2025-05-14T18:36:23.902Z"
   },
   {
    "duration": 41,
    "start_time": "2025-05-14T18:36:57.640Z"
   },
   {
    "duration": 218,
    "start_time": "2025-05-14T18:37:03.647Z"
   },
   {
    "duration": 146,
    "start_time": "2025-05-14T18:38:11.293Z"
   },
   {
    "duration": 140,
    "start_time": "2025-05-14T18:39:34.530Z"
   },
   {
    "duration": 146,
    "start_time": "2025-05-14T18:40:09.618Z"
   },
   {
    "duration": 141,
    "start_time": "2025-05-14T18:40:38.311Z"
   },
   {
    "duration": 306,
    "start_time": "2025-05-14T18:41:19.762Z"
   },
   {
    "duration": 155,
    "start_time": "2025-05-14T18:41:39.852Z"
   },
   {
    "duration": 21,
    "start_time": "2025-05-14T18:43:10.954Z"
   },
   {
    "duration": 20,
    "start_time": "2025-05-14T18:43:24.371Z"
   },
   {
    "duration": 21,
    "start_time": "2025-05-14T18:45:53.017Z"
   },
   {
    "duration": 26,
    "start_time": "2025-05-14T18:47:10.420Z"
   },
   {
    "duration": 178,
    "start_time": "2025-05-14T18:48:41.931Z"
   },
   {
    "duration": 232,
    "start_time": "2025-05-14T18:49:20.850Z"
   },
   {
    "duration": 39,
    "start_time": "2025-05-14T18:52:53.785Z"
   },
   {
    "duration": 211,
    "start_time": "2025-05-14T18:54:10.124Z"
   },
   {
    "duration": 41,
    "start_time": "2025-05-14T18:55:01.714Z"
   },
   {
    "duration": 38,
    "start_time": "2025-05-14T18:56:02.381Z"
   },
   {
    "duration": 211,
    "start_time": "2025-05-14T18:56:05.508Z"
   },
   {
    "duration": 2573,
    "start_time": "2025-05-14T21:36:08.585Z"
   },
   {
    "duration": 64,
    "start_time": "2025-05-14T21:36:11.161Z"
   },
   {
    "duration": 21,
    "start_time": "2025-05-14T21:36:11.226Z"
   },
   {
    "duration": 4,
    "start_time": "2025-05-14T21:36:11.249Z"
   },
   {
    "duration": 147,
    "start_time": "2025-05-14T21:36:11.256Z"
   },
   {
    "duration": 117,
    "start_time": "2025-05-14T21:36:11.411Z"
   },
   {
    "duration": 158,
    "start_time": "2025-05-14T21:36:11.529Z"
   },
   {
    "duration": 24,
    "start_time": "2025-05-14T21:36:11.689Z"
   },
   {
    "duration": 6,
    "start_time": "2025-05-14T21:36:11.715Z"
   },
   {
    "duration": 8,
    "start_time": "2025-05-14T21:36:11.723Z"
   },
   {
    "duration": 17,
    "start_time": "2025-05-14T21:36:11.733Z"
   },
   {
    "duration": 133,
    "start_time": "2025-05-14T21:36:11.751Z"
   },
   {
    "duration": 29,
    "start_time": "2025-05-14T21:36:11.886Z"
   },
   {
    "duration": 281,
    "start_time": "2025-05-14T21:36:11.918Z"
   },
   {
    "duration": 15,
    "start_time": "2025-05-14T21:36:12.201Z"
   },
   {
    "duration": 6,
    "start_time": "2025-05-14T21:36:12.218Z"
   },
   {
    "duration": 14,
    "start_time": "2025-05-14T21:36:12.225Z"
   },
   {
    "duration": 135,
    "start_time": "2025-05-14T21:36:12.241Z"
   },
   {
    "duration": 4,
    "start_time": "2025-05-14T21:36:12.378Z"
   },
   {
    "duration": 6,
    "start_time": "2025-05-14T21:36:12.383Z"
   },
   {
    "duration": 25,
    "start_time": "2025-05-14T21:36:12.391Z"
   },
   {
    "duration": 12,
    "start_time": "2025-05-14T21:36:12.417Z"
   },
   {
    "duration": 5,
    "start_time": "2025-05-14T21:36:12.431Z"
   },
   {
    "duration": 6,
    "start_time": "2025-05-14T21:36:12.437Z"
   },
   {
    "duration": 130,
    "start_time": "2025-05-14T21:36:12.444Z"
   },
   {
    "duration": 4,
    "start_time": "2025-05-14T21:36:12.575Z"
   },
   {
    "duration": 44,
    "start_time": "2025-05-14T21:36:12.581Z"
   },
   {
    "duration": 30,
    "start_time": "2025-05-14T21:36:12.628Z"
   },
   {
    "duration": 318,
    "start_time": "2025-05-14T21:36:12.662Z"
   },
   {
    "duration": 190,
    "start_time": "2025-05-14T21:36:12.982Z"
   },
   {
    "duration": 22,
    "start_time": "2025-05-14T21:36:13.174Z"
   },
   {
    "duration": 168,
    "start_time": "2025-05-14T21:36:13.198Z"
   },
   {
    "duration": 268,
    "start_time": "2025-05-14T21:36:13.368Z"
   },
   {
    "duration": 5,
    "start_time": "2025-05-14T21:36:13.638Z"
   },
   {
    "duration": 233,
    "start_time": "2025-05-14T21:36:13.645Z"
   },
   {
    "duration": 34,
    "start_time": "2025-05-14T21:36:13.880Z"
   },
   {
    "duration": 236,
    "start_time": "2025-05-14T21:36:13.916Z"
   },
   {
    "duration": 112,
    "start_time": "2025-05-14T21:36:14.154Z"
   },
   {
    "duration": 243,
    "start_time": "2025-05-14T21:36:14.268Z"
   },
   {
    "duration": 148,
    "start_time": "2025-05-14T21:36:14.513Z"
   },
   {
    "duration": 24,
    "start_time": "2025-05-14T21:36:14.665Z"
   },
   {
    "duration": 237,
    "start_time": "2025-05-14T21:36:14.692Z"
   },
   {
    "duration": 40,
    "start_time": "2025-05-14T21:36:14.932Z"
   },
   {
    "duration": 240,
    "start_time": "2025-05-14T21:36:14.974Z"
   },
   {
    "duration": 2,
    "start_time": "2025-05-14T21:36:15.216Z"
   },
   {
    "duration": 3,
    "start_time": "2025-05-14T21:36:15.220Z"
   },
   {
    "duration": 3,
    "start_time": "2025-05-14T21:36:15.224Z"
   },
   {
    "duration": 3,
    "start_time": "2025-05-14T21:36:15.229Z"
   },
   {
    "duration": 14,
    "start_time": "2025-05-14T21:47:13.593Z"
   },
   {
    "duration": 874,
    "start_time": "2025-05-14T21:51:25.127Z"
   },
   {
    "duration": 186,
    "start_time": "2025-05-14T21:51:53.499Z"
   },
   {
    "duration": 116,
    "start_time": "2025-05-14T21:52:52.379Z"
   },
   {
    "duration": 119,
    "start_time": "2025-05-14T21:53:02.099Z"
   },
   {
    "duration": 119,
    "start_time": "2025-05-14T21:53:10.363Z"
   },
   {
    "duration": 137,
    "start_time": "2025-05-14T21:54:01.521Z"
   },
   {
    "duration": 166,
    "start_time": "2025-05-14T21:54:16.985Z"
   },
   {
    "duration": 187,
    "start_time": "2025-05-14T21:54:38.444Z"
   },
   {
    "duration": 172,
    "start_time": "2025-05-14T21:55:03.323Z"
   },
   {
    "duration": 177,
    "start_time": "2025-05-14T21:56:12.999Z"
   },
   {
    "duration": 173,
    "start_time": "2025-05-14T21:56:37.731Z"
   },
   {
    "duration": 170,
    "start_time": "2025-05-14T21:56:47.075Z"
   },
   {
    "duration": 170,
    "start_time": "2025-05-14T21:57:16.413Z"
   },
   {
    "duration": 173,
    "start_time": "2025-05-14T21:57:35.743Z"
   },
   {
    "duration": 177,
    "start_time": "2025-05-14T21:58:50.229Z"
   },
   {
    "duration": 176,
    "start_time": "2025-05-14T21:59:13.293Z"
   },
   {
    "duration": 316,
    "start_time": "2025-05-14T21:59:48.576Z"
   },
   {
    "duration": 134,
    "start_time": "2025-05-14T22:00:23.284Z"
   },
   {
    "duration": 166,
    "start_time": "2025-05-14T22:00:25.784Z"
   },
   {
    "duration": 170,
    "start_time": "2025-05-14T22:01:24.665Z"
   },
   {
    "duration": 177,
    "start_time": "2025-05-14T22:01:42.848Z"
   },
   {
    "duration": 214,
    "start_time": "2025-05-14T22:01:50.621Z"
   },
   {
    "duration": 167,
    "start_time": "2025-05-14T22:02:46.425Z"
   },
   {
    "duration": 168,
    "start_time": "2025-05-14T22:03:03.537Z"
   },
   {
    "duration": 172,
    "start_time": "2025-05-14T22:03:53.642Z"
   },
   {
    "duration": 163,
    "start_time": "2025-05-14T22:06:36.567Z"
   },
   {
    "duration": 163,
    "start_time": "2025-05-14T22:07:03.466Z"
   },
   {
    "duration": 8,
    "start_time": "2025-05-14T22:13:34.253Z"
   },
   {
    "duration": 6,
    "start_time": "2025-05-14T22:14:18.846Z"
   },
   {
    "duration": 8,
    "start_time": "2025-05-14T22:23:03.805Z"
   },
   {
    "duration": 5,
    "start_time": "2025-05-14T22:23:19.751Z"
   },
   {
    "duration": 26,
    "start_time": "2025-05-14T22:23:29.460Z"
   },
   {
    "duration": 21,
    "start_time": "2025-05-14T22:24:38.332Z"
   },
   {
    "duration": 7,
    "start_time": "2025-05-14T22:24:54.621Z"
   },
   {
    "duration": 4,
    "start_time": "2025-05-14T22:26:03.056Z"
   },
   {
    "duration": 4,
    "start_time": "2025-05-14T22:26:40.197Z"
   },
   {
    "duration": 12,
    "start_time": "2025-05-14T22:26:51.202Z"
   },
   {
    "duration": 14,
    "start_time": "2025-05-14T22:27:47.362Z"
   },
   {
    "duration": 5,
    "start_time": "2025-05-14T22:29:17.271Z"
   },
   {
    "duration": 4,
    "start_time": "2025-05-14T22:30:48.233Z"
   },
   {
    "duration": 4,
    "start_time": "2025-05-14T22:31:15.251Z"
   },
   {
    "duration": 14,
    "start_time": "2025-05-14T22:35:07.272Z"
   },
   {
    "duration": 13,
    "start_time": "2025-05-14T22:35:20.740Z"
   },
   {
    "duration": 4,
    "start_time": "2025-05-14T22:35:50.573Z"
   },
   {
    "duration": 5,
    "start_time": "2025-05-14T22:36:20.860Z"
   },
   {
    "duration": 386,
    "start_time": "2025-05-14T22:36:51.249Z"
   },
   {
    "duration": 4,
    "start_time": "2025-05-14T22:41:43.198Z"
   },
   {
    "duration": 11,
    "start_time": "2025-05-14T22:43:56.465Z"
   },
   {
    "duration": 5,
    "start_time": "2025-05-14T22:46:20.259Z"
   },
   {
    "duration": 18,
    "start_time": "2025-05-14T22:47:26.418Z"
   },
   {
    "duration": 11,
    "start_time": "2025-05-14T22:47:28.879Z"
   },
   {
    "duration": 12,
    "start_time": "2025-05-14T22:47:29.528Z"
   },
   {
    "duration": 9,
    "start_time": "2025-05-14T22:51:16.098Z"
   },
   {
    "duration": 8,
    "start_time": "2025-05-14T22:51:28.697Z"
   },
   {
    "duration": 8,
    "start_time": "2025-05-14T22:51:40.038Z"
   },
   {
    "duration": 8,
    "start_time": "2025-05-14T22:53:16.769Z"
   },
   {
    "duration": 8,
    "start_time": "2025-05-14T22:55:25.043Z"
   },
   {
    "duration": 14,
    "start_time": "2025-05-14T22:55:37.143Z"
   },
   {
    "duration": 10,
    "start_time": "2025-05-14T22:55:48.380Z"
   },
   {
    "duration": 9,
    "start_time": "2025-05-14T22:55:52.316Z"
   },
   {
    "duration": 10,
    "start_time": "2025-05-14T22:56:09.829Z"
   },
   {
    "duration": 2,
    "start_time": "2025-05-14T22:58:19.263Z"
   },
   {
    "duration": 3,
    "start_time": "2025-05-14T22:58:20.148Z"
   },
   {
    "duration": 2,
    "start_time": "2025-05-14T22:58:21.498Z"
   },
   {
    "duration": 2,
    "start_time": "2025-05-14T22:58:22.063Z"
   },
   {
    "duration": 2,
    "start_time": "2025-05-14T22:58:28.318Z"
   },
   {
    "duration": 2,
    "start_time": "2025-05-14T22:58:33.087Z"
   },
   {
    "duration": 808,
    "start_time": "2025-05-14T22:58:45.897Z"
   },
   {
    "duration": 39,
    "start_time": "2025-05-14T22:58:46.707Z"
   },
   {
    "duration": 19,
    "start_time": "2025-05-14T22:58:46.747Z"
   },
   {
    "duration": 4,
    "start_time": "2025-05-14T22:58:46.768Z"
   },
   {
    "duration": 144,
    "start_time": "2025-05-14T22:58:46.773Z"
   },
   {
    "duration": 129,
    "start_time": "2025-05-14T22:58:46.919Z"
   },
   {
    "duration": 198,
    "start_time": "2025-05-14T22:58:47.051Z"
   },
   {
    "duration": 11,
    "start_time": "2025-05-14T22:58:47.251Z"
   },
   {
    "duration": 6,
    "start_time": "2025-05-14T22:58:47.264Z"
   },
   {
    "duration": 8,
    "start_time": "2025-05-14T22:58:47.273Z"
   },
   {
    "duration": 41,
    "start_time": "2025-05-14T22:58:47.283Z"
   },
   {
    "duration": 117,
    "start_time": "2025-05-14T22:58:47.326Z"
   },
   {
    "duration": 17,
    "start_time": "2025-05-14T22:58:47.445Z"
   },
   {
    "duration": 247,
    "start_time": "2025-05-14T22:58:47.464Z"
   },
   {
    "duration": 6,
    "start_time": "2025-05-14T22:58:47.713Z"
   },
   {
    "duration": 6,
    "start_time": "2025-05-14T22:58:47.721Z"
   },
   {
    "duration": 14,
    "start_time": "2025-05-14T22:58:47.729Z"
   },
   {
    "duration": 132,
    "start_time": "2025-05-14T22:58:47.745Z"
   },
   {
    "duration": 3,
    "start_time": "2025-05-14T22:58:47.879Z"
   },
   {
    "duration": 6,
    "start_time": "2025-05-14T22:58:47.884Z"
   },
   {
    "duration": 20,
    "start_time": "2025-05-14T22:58:47.892Z"
   },
   {
    "duration": 13,
    "start_time": "2025-05-14T22:58:47.913Z"
   },
   {
    "duration": 5,
    "start_time": "2025-05-14T22:58:47.928Z"
   },
   {
    "duration": 5,
    "start_time": "2025-05-14T22:58:47.934Z"
   },
   {
    "duration": 71,
    "start_time": "2025-05-14T22:58:47.941Z"
   },
   {
    "duration": 3,
    "start_time": "2025-05-14T22:58:48.014Z"
   },
   {
    "duration": 32,
    "start_time": "2025-05-14T22:58:48.019Z"
   },
   {
    "duration": 29,
    "start_time": "2025-05-14T22:58:48.056Z"
   },
   {
    "duration": 334,
    "start_time": "2025-05-14T22:58:48.086Z"
   },
   {
    "duration": 218,
    "start_time": "2025-05-14T22:58:48.422Z"
   },
   {
    "duration": 23,
    "start_time": "2025-05-14T22:58:48.642Z"
   },
   {
    "duration": 168,
    "start_time": "2025-05-14T22:58:48.667Z"
   },
   {
    "duration": 301,
    "start_time": "2025-05-14T22:58:48.837Z"
   },
   {
    "duration": 5,
    "start_time": "2025-05-14T22:58:49.140Z"
   },
   {
    "duration": 311,
    "start_time": "2025-05-14T22:58:49.147Z"
   },
   {
    "duration": 26,
    "start_time": "2025-05-14T22:58:49.460Z"
   },
   {
    "duration": 252,
    "start_time": "2025-05-14T22:58:49.488Z"
   },
   {
    "duration": 39,
    "start_time": "2025-05-14T22:58:49.742Z"
   },
   {
    "duration": 249,
    "start_time": "2025-05-14T22:58:49.783Z"
   },
   {
    "duration": 158,
    "start_time": "2025-05-14T22:58:50.034Z"
   },
   {
    "duration": 34,
    "start_time": "2025-05-14T22:58:50.194Z"
   },
   {
    "duration": 232,
    "start_time": "2025-05-14T22:58:50.230Z"
   },
   {
    "duration": 49,
    "start_time": "2025-05-14T22:58:50.464Z"
   },
   {
    "duration": 225,
    "start_time": "2025-05-14T22:58:50.514Z"
   },
   {
    "duration": 241,
    "start_time": "2025-05-14T22:58:50.741Z"
   },
   {
    "duration": 6,
    "start_time": "2025-05-14T22:58:50.985Z"
   },
   {
    "duration": 21,
    "start_time": "2025-05-14T22:58:50.992Z"
   },
   {
    "duration": 3,
    "start_time": "2025-05-14T22:58:51.015Z"
   },
   {
    "duration": 9,
    "start_time": "2025-05-14T22:58:51.020Z"
   },
   {
    "duration": 10,
    "start_time": "2025-05-14T22:58:51.030Z"
   },
   {
    "duration": 3,
    "start_time": "2025-05-14T22:58:51.042Z"
   },
   {
    "duration": 3,
    "start_time": "2025-05-14T22:58:51.046Z"
   },
   {
    "duration": 4,
    "start_time": "2025-05-14T22:58:51.051Z"
   },
   {
    "duration": 4,
    "start_time": "2025-05-14T22:58:51.056Z"
   },
   {
    "duration": 4,
    "start_time": "2025-05-14T22:58:51.061Z"
   },
   {
    "duration": 2,
    "start_time": "2025-05-14T22:58:51.067Z"
   },
   {
    "duration": 41,
    "start_time": "2025-05-14T22:58:51.071Z"
   },
   {
    "duration": 3,
    "start_time": "2025-05-14T22:58:51.114Z"
   },
   {
    "duration": 10,
    "start_time": "2025-05-14T22:59:15.139Z"
   },
   {
    "duration": 8,
    "start_time": "2025-05-14T23:00:00.845Z"
   },
   {
    "duration": 9,
    "start_time": "2025-05-14T23:01:02.556Z"
   },
   {
    "duration": 9,
    "start_time": "2025-05-14T23:01:39.324Z"
   },
   {
    "duration": 11,
    "start_time": "2025-05-14T23:01:55.359Z"
   },
   {
    "duration": 848,
    "start_time": "2025-05-14T23:10:51.249Z"
   },
   {
    "duration": 37,
    "start_time": "2025-05-14T23:10:52.099Z"
   },
   {
    "duration": 20,
    "start_time": "2025-05-14T23:10:52.137Z"
   },
   {
    "duration": 4,
    "start_time": "2025-05-14T23:10:52.160Z"
   },
   {
    "duration": 142,
    "start_time": "2025-05-14T23:10:52.166Z"
   },
   {
    "duration": 118,
    "start_time": "2025-05-14T23:10:52.312Z"
   },
   {
    "duration": 202,
    "start_time": "2025-05-14T23:10:52.432Z"
   },
   {
    "duration": 9,
    "start_time": "2025-05-14T23:10:52.636Z"
   },
   {
    "duration": 6,
    "start_time": "2025-05-14T23:10:52.647Z"
   },
   {
    "duration": 9,
    "start_time": "2025-05-14T23:10:52.656Z"
   },
   {
    "duration": 46,
    "start_time": "2025-05-14T23:10:52.667Z"
   },
   {
    "duration": 114,
    "start_time": "2025-05-14T23:10:52.714Z"
   },
   {
    "duration": 18,
    "start_time": "2025-05-14T23:10:52.830Z"
   },
   {
    "duration": 256,
    "start_time": "2025-05-14T23:10:52.850Z"
   },
   {
    "duration": 6,
    "start_time": "2025-05-14T23:10:53.111Z"
   },
   {
    "duration": 7,
    "start_time": "2025-05-14T23:10:53.119Z"
   },
   {
    "duration": 14,
    "start_time": "2025-05-14T23:10:53.127Z"
   },
   {
    "duration": 144,
    "start_time": "2025-05-14T23:10:53.143Z"
   },
   {
    "duration": 4,
    "start_time": "2025-05-14T23:10:53.289Z"
   },
   {
    "duration": 19,
    "start_time": "2025-05-14T23:10:53.294Z"
   },
   {
    "duration": 7,
    "start_time": "2025-05-14T23:10:53.314Z"
   },
   {
    "duration": 12,
    "start_time": "2025-05-14T23:10:53.322Z"
   },
   {
    "duration": 6,
    "start_time": "2025-05-14T23:10:53.336Z"
   },
   {
    "duration": 6,
    "start_time": "2025-05-14T23:10:53.344Z"
   },
   {
    "duration": 73,
    "start_time": "2025-05-14T23:10:53.352Z"
   },
   {
    "duration": 4,
    "start_time": "2025-05-14T23:10:53.426Z"
   },
   {
    "duration": 27,
    "start_time": "2025-05-14T23:10:53.431Z"
   },
   {
    "duration": 50,
    "start_time": "2025-05-14T23:10:53.464Z"
   },
   {
    "duration": 311,
    "start_time": "2025-05-14T23:10:53.516Z"
   },
   {
    "duration": 203,
    "start_time": "2025-05-14T23:10:53.829Z"
   },
   {
    "duration": 22,
    "start_time": "2025-05-14T23:10:54.034Z"
   },
   {
    "duration": 163,
    "start_time": "2025-05-14T23:10:54.057Z"
   },
   {
    "duration": 304,
    "start_time": "2025-05-14T23:10:54.222Z"
   },
   {
    "duration": 5,
    "start_time": "2025-05-14T23:10:54.529Z"
   },
   {
    "duration": 298,
    "start_time": "2025-05-14T23:10:54.536Z"
   },
   {
    "duration": 25,
    "start_time": "2025-05-14T23:10:54.836Z"
   },
   {
    "duration": 248,
    "start_time": "2025-05-14T23:10:54.863Z"
   },
   {
    "duration": 41,
    "start_time": "2025-05-14T23:10:55.114Z"
   },
   {
    "duration": 238,
    "start_time": "2025-05-14T23:10:55.157Z"
   },
   {
    "duration": 147,
    "start_time": "2025-05-14T23:10:55.398Z"
   },
   {
    "duration": 24,
    "start_time": "2025-05-14T23:10:55.547Z"
   },
   {
    "duration": 255,
    "start_time": "2025-05-14T23:10:55.572Z"
   },
   {
    "duration": 43,
    "start_time": "2025-05-14T23:10:55.829Z"
   },
   {
    "duration": 249,
    "start_time": "2025-05-14T23:10:55.874Z"
   },
   {
    "duration": 266,
    "start_time": "2025-05-14T23:10:56.125Z"
   },
   {
    "duration": 6,
    "start_time": "2025-05-14T23:10:56.393Z"
   },
   {
    "duration": 3,
    "start_time": "2025-05-14T23:10:56.411Z"
   },
   {
    "duration": 5,
    "start_time": "2025-05-14T23:10:56.415Z"
   },
   {
    "duration": 10,
    "start_time": "2025-05-14T23:10:56.422Z"
   },
   {
    "duration": 10,
    "start_time": "2025-05-14T23:10:56.433Z"
   },
   {
    "duration": 2,
    "start_time": "2025-05-14T23:10:56.445Z"
   },
   {
    "duration": 5,
    "start_time": "2025-05-14T23:10:56.448Z"
   },
   {
    "duration": 2,
    "start_time": "2025-05-14T23:10:56.455Z"
   },
   {
    "duration": 3,
    "start_time": "2025-05-14T23:10:56.459Z"
   },
   {
    "duration": 3,
    "start_time": "2025-05-14T23:10:56.463Z"
   },
   {
    "duration": 3,
    "start_time": "2025-05-14T23:10:56.468Z"
   },
   {
    "duration": 40,
    "start_time": "2025-05-14T23:10:56.473Z"
   },
   {
    "duration": 3,
    "start_time": "2025-05-14T23:10:56.515Z"
   },
   {
    "duration": 596,
    "start_time": "2025-05-14T23:27:36.029Z"
   },
   {
    "duration": 22,
    "start_time": "2025-05-14T23:27:46.599Z"
   },
   {
    "duration": 161,
    "start_time": "2025-05-14T23:28:15.850Z"
   },
   {
    "duration": 165,
    "start_time": "2025-05-14T23:29:11.014Z"
   },
   {
    "duration": 6,
    "start_time": "2025-05-14T23:29:26.463Z"
   },
   {
    "duration": 159,
    "start_time": "2025-05-14T23:29:32.326Z"
   },
   {
    "duration": 160,
    "start_time": "2025-05-14T23:31:42.624Z"
   },
   {
    "duration": 149,
    "start_time": "2025-05-14T23:31:54.393Z"
   },
   {
    "duration": 153,
    "start_time": "2025-05-14T23:32:24.432Z"
   },
   {
    "duration": 3654,
    "start_time": "2025-05-15T00:45:32.509Z"
   },
   {
    "duration": 66,
    "start_time": "2025-05-15T00:45:36.165Z"
   },
   {
    "duration": 25,
    "start_time": "2025-05-15T00:45:36.234Z"
   },
   {
    "duration": 5,
    "start_time": "2025-05-15T00:45:36.263Z"
   },
   {
    "duration": 185,
    "start_time": "2025-05-15T00:45:36.270Z"
   },
   {
    "duration": 117,
    "start_time": "2025-05-15T00:45:36.456Z"
   },
   {
    "duration": 160,
    "start_time": "2025-05-15T00:45:36.574Z"
   },
   {
    "duration": 12,
    "start_time": "2025-05-15T00:45:36.736Z"
   },
   {
    "duration": 6,
    "start_time": "2025-05-15T00:45:36.751Z"
   },
   {
    "duration": 10,
    "start_time": "2025-05-15T00:45:36.761Z"
   },
   {
    "duration": 17,
    "start_time": "2025-05-15T00:45:36.786Z"
   },
   {
    "duration": 171,
    "start_time": "2025-05-15T00:45:36.805Z"
   },
   {
    "duration": 23,
    "start_time": "2025-05-15T00:45:36.978Z"
   },
   {
    "duration": 270,
    "start_time": "2025-05-15T00:45:37.003Z"
   },
   {
    "duration": 13,
    "start_time": "2025-05-15T00:45:37.275Z"
   },
   {
    "duration": 9,
    "start_time": "2025-05-15T00:45:37.290Z"
   },
   {
    "duration": 18,
    "start_time": "2025-05-15T00:45:37.300Z"
   },
   {
    "duration": 171,
    "start_time": "2025-05-15T00:45:37.319Z"
   },
   {
    "duration": 5,
    "start_time": "2025-05-15T00:45:37.493Z"
   },
   {
    "duration": 7,
    "start_time": "2025-05-15T00:45:37.500Z"
   },
   {
    "duration": 9,
    "start_time": "2025-05-15T00:45:37.509Z"
   },
   {
    "duration": 15,
    "start_time": "2025-05-15T00:45:37.520Z"
   },
   {
    "duration": 5,
    "start_time": "2025-05-15T00:45:37.537Z"
   },
   {
    "duration": 43,
    "start_time": "2025-05-15T00:45:37.544Z"
   },
   {
    "duration": 60,
    "start_time": "2025-05-15T00:45:37.592Z"
   },
   {
    "duration": 6,
    "start_time": "2025-05-15T00:45:37.657Z"
   },
   {
    "duration": 50,
    "start_time": "2025-05-15T00:45:37.666Z"
   },
   {
    "duration": 60,
    "start_time": "2025-05-15T00:45:37.723Z"
   },
   {
    "duration": 379,
    "start_time": "2025-05-15T00:45:37.788Z"
   },
   {
    "duration": 177,
    "start_time": "2025-05-15T00:45:38.168Z"
   },
   {
    "duration": 23,
    "start_time": "2025-05-15T00:45:38.346Z"
   },
   {
    "duration": 192,
    "start_time": "2025-05-15T00:45:38.370Z"
   },
   {
    "duration": 305,
    "start_time": "2025-05-15T00:45:38.563Z"
   },
   {
    "duration": 6,
    "start_time": "2025-05-15T00:45:38.870Z"
   },
   {
    "duration": 354,
    "start_time": "2025-05-15T00:45:38.878Z"
   },
   {
    "duration": 27,
    "start_time": "2025-05-15T00:45:39.236Z"
   },
   {
    "duration": 279,
    "start_time": "2025-05-15T00:45:39.265Z"
   },
   {
    "duration": 53,
    "start_time": "2025-05-15T00:45:39.546Z"
   },
   {
    "duration": 229,
    "start_time": "2025-05-15T00:45:39.601Z"
   },
   {
    "duration": 155,
    "start_time": "2025-05-15T00:45:39.832Z"
   },
   {
    "duration": 26,
    "start_time": "2025-05-15T00:45:39.989Z"
   },
   {
    "duration": 243,
    "start_time": "2025-05-15T00:45:40.017Z"
   },
   {
    "duration": 47,
    "start_time": "2025-05-15T00:45:40.262Z"
   },
   {
    "duration": 302,
    "start_time": "2025-05-15T00:45:40.311Z"
   },
   {
    "duration": 189,
    "start_time": "2025-05-15T00:45:40.615Z"
   },
   {
    "duration": 6,
    "start_time": "2025-05-15T00:45:40.807Z"
   },
   {
    "duration": 2,
    "start_time": "2025-05-15T00:45:40.815Z"
   },
   {
    "duration": 4,
    "start_time": "2025-05-15T00:45:40.819Z"
   },
   {
    "duration": 11,
    "start_time": "2025-05-15T00:45:40.825Z"
   },
   {
    "duration": 12,
    "start_time": "2025-05-15T00:45:40.837Z"
   },
   {
    "duration": 2,
    "start_time": "2025-05-15T00:45:40.851Z"
   },
   {
    "duration": 34,
    "start_time": "2025-05-15T00:45:40.854Z"
   },
   {
    "duration": 2,
    "start_time": "2025-05-15T00:45:40.890Z"
   },
   {
    "duration": 5,
    "start_time": "2025-05-15T00:45:40.894Z"
   },
   {
    "duration": 288,
    "start_time": "2025-05-15T00:45:40.901Z"
   },
   {
    "duration": 353,
    "start_time": "2025-05-15T00:45:41.195Z"
   },
   {
    "duration": 0,
    "start_time": "2025-05-15T00:45:41.550Z"
   },
   {
    "duration": 0,
    "start_time": "2025-05-15T00:45:41.551Z"
   },
   {
    "duration": 0,
    "start_time": "2025-05-15T00:45:41.551Z"
   },
   {
    "duration": 0,
    "start_time": "2025-05-15T00:45:41.552Z"
   },
   {
    "duration": 25,
    "start_time": "2025-05-15T01:01:33.177Z"
   },
   {
    "duration": 424,
    "start_time": "2025-05-15T01:10:13.890Z"
   },
   {
    "duration": 8,
    "start_time": "2025-05-15T01:10:25.695Z"
   },
   {
    "duration": 9,
    "start_time": "2025-05-15T01:10:41.744Z"
   },
   {
    "duration": 10,
    "start_time": "2025-05-15T01:10:48.646Z"
   },
   {
    "duration": 5,
    "start_time": "2025-05-15T01:12:01.382Z"
   },
   {
    "duration": 222,
    "start_time": "2025-05-15T01:14:52.315Z"
   },
   {
    "duration": 383,
    "start_time": "2025-05-15T01:15:39.128Z"
   },
   {
    "duration": 968,
    "start_time": "2025-05-15T01:16:20.945Z"
   },
   {
    "duration": 628,
    "start_time": "2025-05-15T01:16:46.386Z"
   },
   {
    "duration": 422,
    "start_time": "2025-05-15T01:16:58.244Z"
   },
   {
    "duration": 363,
    "start_time": "2025-05-15T01:17:08.590Z"
   },
   {
    "duration": 500,
    "start_time": "2025-05-15T01:17:33.322Z"
   },
   {
    "duration": 379,
    "start_time": "2025-05-15T01:17:40.835Z"
   },
   {
    "duration": 255,
    "start_time": "2025-05-15T01:18:04.545Z"
   },
   {
    "duration": 260,
    "start_time": "2025-05-15T01:18:44.070Z"
   },
   {
    "duration": 257,
    "start_time": "2025-05-15T01:18:57.084Z"
   },
   {
    "duration": 379,
    "start_time": "2025-05-15T01:19:42.152Z"
   },
   {
    "duration": 283,
    "start_time": "2025-05-15T01:19:55.281Z"
   },
   {
    "duration": 262,
    "start_time": "2025-05-15T01:20:04.082Z"
   },
   {
    "duration": 277,
    "start_time": "2025-05-15T01:20:24.118Z"
   },
   {
    "duration": 6,
    "start_time": "2025-05-15T01:23:09.944Z"
   },
   {
    "duration": 269,
    "start_time": "2025-05-15T01:23:15.184Z"
   },
   {
    "duration": 383,
    "start_time": "2025-05-15T01:23:32.570Z"
   },
   {
    "duration": 271,
    "start_time": "2025-05-15T01:24:32.244Z"
   },
   {
    "duration": 275,
    "start_time": "2025-05-15T01:24:48.348Z"
   },
   {
    "duration": 283,
    "start_time": "2025-05-15T01:26:00.637Z"
   },
   {
    "duration": 298,
    "start_time": "2025-05-15T01:26:11.429Z"
   },
   {
    "duration": 2,
    "start_time": "2025-05-15T01:26:55.103Z"
   },
   {
    "duration": 189,
    "start_time": "2025-05-15T01:27:16.421Z"
   },
   {
    "duration": 280,
    "start_time": "2025-05-15T01:27:24.578Z"
   },
   {
    "duration": 216,
    "start_time": "2025-05-15T01:27:32.333Z"
   },
   {
    "duration": 142,
    "start_time": "2025-05-15T01:27:44.819Z"
   },
   {
    "duration": 489,
    "start_time": "2025-05-15T01:31:05.930Z"
   },
   {
    "duration": 317,
    "start_time": "2025-05-15T01:43:42.288Z"
   },
   {
    "duration": 532,
    "start_time": "2025-05-15T01:45:21.981Z"
   },
   {
    "duration": 532,
    "start_time": "2025-05-15T01:45:40.064Z"
   },
   {
    "duration": 472,
    "start_time": "2025-05-15T01:46:14.885Z"
   },
   {
    "duration": 451,
    "start_time": "2025-05-15T01:46:26.001Z"
   },
   {
    "duration": 485,
    "start_time": "2025-05-15T01:47:02.126Z"
   },
   {
    "duration": 470,
    "start_time": "2025-05-15T01:47:34.379Z"
   },
   {
    "duration": 439,
    "start_time": "2025-05-15T01:47:43.384Z"
   },
   {
    "duration": 450,
    "start_time": "2025-05-15T01:47:56.691Z"
   },
   {
    "duration": 472,
    "start_time": "2025-05-15T01:48:20.209Z"
   },
   {
    "duration": 484,
    "start_time": "2025-05-15T01:50:23.049Z"
   },
   {
    "duration": 474,
    "start_time": "2025-05-15T01:51:01.271Z"
   },
   {
    "duration": 604,
    "start_time": "2025-05-15T01:51:27.153Z"
   },
   {
    "duration": 490,
    "start_time": "2025-05-15T01:52:01.828Z"
   },
   {
    "duration": 508,
    "start_time": "2025-05-15T01:52:22.342Z"
   },
   {
    "duration": 458,
    "start_time": "2025-05-15T01:53:02.079Z"
   },
   {
    "duration": 481,
    "start_time": "2025-05-15T01:53:07.643Z"
   },
   {
    "duration": 488,
    "start_time": "2025-05-15T01:53:11.434Z"
   },
   {
    "duration": 475,
    "start_time": "2025-05-15T01:53:16.911Z"
   },
   {
    "duration": 498,
    "start_time": "2025-05-15T01:53:25.106Z"
   },
   {
    "duration": 517,
    "start_time": "2025-05-15T01:53:38.118Z"
   },
   {
    "duration": 493,
    "start_time": "2025-05-15T01:53:59.552Z"
   },
   {
    "duration": 591,
    "start_time": "2025-05-15T01:54:37.446Z"
   },
   {
    "duration": 512,
    "start_time": "2025-05-15T01:54:41.684Z"
   },
   {
    "duration": 693,
    "start_time": "2025-05-15T01:54:45.167Z"
   },
   {
    "duration": 451,
    "start_time": "2025-05-15T01:55:04.376Z"
   },
   {
    "duration": 488,
    "start_time": "2025-05-15T01:55:22.008Z"
   },
   {
    "duration": 501,
    "start_time": "2025-05-15T01:55:41.682Z"
   },
   {
    "duration": 471,
    "start_time": "2025-05-15T01:55:57.004Z"
   },
   {
    "duration": 504,
    "start_time": "2025-05-15T01:59:00.729Z"
   },
   {
    "duration": 477,
    "start_time": "2025-05-15T01:59:50.280Z"
   },
   {
    "duration": 501,
    "start_time": "2025-05-15T02:00:01.319Z"
   },
   {
    "duration": 519,
    "start_time": "2025-05-15T02:00:10.581Z"
   },
   {
    "duration": 400,
    "start_time": "2025-05-15T02:03:38.593Z"
   },
   {
    "duration": 397,
    "start_time": "2025-05-15T02:04:16.959Z"
   },
   {
    "duration": 381,
    "start_time": "2025-05-15T02:04:24.411Z"
   },
   {
    "duration": 9,
    "start_time": "2025-05-15T02:04:39.142Z"
   },
   {
    "duration": 1006,
    "start_time": "2025-05-15T02:04:42.257Z"
   },
   {
    "duration": 6,
    "start_time": "2025-05-15T02:04:44.506Z"
   },
   {
    "duration": 418,
    "start_time": "2025-05-15T02:04:49.906Z"
   },
   {
    "duration": 9,
    "start_time": "2025-05-15T02:04:58.801Z"
   },
   {
    "duration": 416,
    "start_time": "2025-05-15T02:05:00.962Z"
   },
   {
    "duration": 404,
    "start_time": "2025-05-15T02:05:17.485Z"
   },
   {
    "duration": 418,
    "start_time": "2025-05-15T02:05:21.465Z"
   },
   {
    "duration": 402,
    "start_time": "2025-05-15T02:05:31.008Z"
   },
   {
    "duration": 390,
    "start_time": "2025-05-15T02:05:34.558Z"
   },
   {
    "duration": 479,
    "start_time": "2025-05-15T02:05:38.979Z"
   },
   {
    "duration": 405,
    "start_time": "2025-05-15T02:05:47.560Z"
   },
   {
    "duration": 391,
    "start_time": "2025-05-15T02:05:51.692Z"
   },
   {
    "duration": 411,
    "start_time": "2025-05-15T02:05:54.803Z"
   },
   {
    "duration": 405,
    "start_time": "2025-05-15T02:05:59.837Z"
   },
   {
    "duration": 390,
    "start_time": "2025-05-15T02:07:04.506Z"
   },
   {
    "duration": 418,
    "start_time": "2025-05-15T02:07:19.527Z"
   },
   {
    "duration": 549,
    "start_time": "2025-05-15T02:07:24.667Z"
   },
   {
    "duration": 428,
    "start_time": "2025-05-15T02:07:31.328Z"
   },
   {
    "duration": 409,
    "start_time": "2025-05-15T02:07:38.870Z"
   },
   {
    "duration": 397,
    "start_time": "2025-05-15T02:07:43.354Z"
   },
   {
    "duration": 380,
    "start_time": "2025-05-15T02:08:13.148Z"
   },
   {
    "duration": 405,
    "start_time": "2025-05-15T02:08:58.965Z"
   },
   {
    "duration": 396,
    "start_time": "2025-05-15T02:09:11.977Z"
   },
   {
    "duration": 737,
    "start_time": "2025-05-15T02:09:20.913Z"
   },
   {
    "duration": 379,
    "start_time": "2025-05-15T02:09:24.034Z"
   },
   {
    "duration": 386,
    "start_time": "2025-05-15T02:09:30.053Z"
   },
   {
    "duration": 416,
    "start_time": "2025-05-15T02:10:01.752Z"
   },
   {
    "duration": 307,
    "start_time": "2025-05-15T02:11:01.488Z"
   },
   {
    "duration": 421,
    "start_time": "2025-05-15T02:11:53.713Z"
   },
   {
    "duration": 486,
    "start_time": "2025-05-15T02:13:45.009Z"
   },
   {
    "duration": 9,
    "start_time": "2025-05-15T02:13:46.960Z"
   },
   {
    "duration": 490,
    "start_time": "2025-05-15T02:13:48.234Z"
   },
   {
    "duration": 47,
    "start_time": "2025-05-15T02:15:31.552Z"
   },
   {
    "duration": 11,
    "start_time": "2025-05-15T02:15:48.875Z"
   },
   {
    "duration": 12,
    "start_time": "2025-05-15T02:22:10.512Z"
   },
   {
    "duration": 12,
    "start_time": "2025-05-15T02:22:25.056Z"
   },
   {
    "duration": 16,
    "start_time": "2025-05-15T02:23:07.578Z"
   },
   {
    "duration": 16,
    "start_time": "2025-05-15T02:23:41.752Z"
   },
   {
    "duration": 17,
    "start_time": "2025-05-15T02:25:40.653Z"
   },
   {
    "duration": 18,
    "start_time": "2025-05-15T02:25:48.152Z"
   },
   {
    "duration": 333,
    "start_time": "2025-05-15T02:26:21.324Z"
   },
   {
    "duration": 41,
    "start_time": "2025-05-15T02:26:26.497Z"
   },
   {
    "duration": 15,
    "start_time": "2025-05-15T02:27:48.846Z"
   },
   {
    "duration": 15,
    "start_time": "2025-05-15T02:28:02.240Z"
   },
   {
    "duration": 14,
    "start_time": "2025-05-15T02:28:52.933Z"
   },
   {
    "duration": 13,
    "start_time": "2025-05-15T02:29:01.404Z"
   },
   {
    "duration": 48462,
    "start_time": "2025-05-15T02:29:48.237Z"
   },
   {
    "duration": 40083,
    "start_time": "2025-05-15T02:32:52.209Z"
   },
   {
    "duration": 40491,
    "start_time": "2025-05-15T02:34:47.279Z"
   },
   {
    "duration": 6,
    "start_time": "2025-05-15T02:38:10.373Z"
   },
   {
    "duration": 40240,
    "start_time": "2025-05-15T02:38:13.713Z"
   },
   {
    "duration": 40422,
    "start_time": "2025-05-15T02:39:45.936Z"
   },
   {
    "duration": 41469,
    "start_time": "2025-05-15T02:42:52.217Z"
   },
   {
    "duration": 5,
    "start_time": "2025-05-15T02:44:14.015Z"
   },
   {
    "duration": 16023,
    "start_time": "2025-05-15T02:44:16.438Z"
   },
   {
    "duration": 25695,
    "start_time": "2025-05-15T02:44:57.965Z"
   },
   {
    "duration": 24100,
    "start_time": "2025-05-15T02:47:18.694Z"
   },
   {
    "duration": 34395,
    "start_time": "2025-05-15T02:47:47.904Z"
   },
   {
    "duration": 32427,
    "start_time": "2025-05-15T02:48:49.691Z"
   },
   {
    "duration": 32716,
    "start_time": "2025-05-15T02:49:36.355Z"
   },
   {
    "duration": 15347,
    "start_time": "2025-05-15T02:50:28.506Z"
   },
   {
    "duration": 20720,
    "start_time": "2025-05-15T02:51:07.194Z"
   },
   {
    "duration": 20689,
    "start_time": "2025-05-15T02:52:13.529Z"
   },
   {
    "duration": 20627,
    "start_time": "2025-05-15T02:53:15.808Z"
   },
   {
    "duration": 20884,
    "start_time": "2025-05-15T02:55:07.917Z"
   },
   {
    "duration": 20711,
    "start_time": "2025-05-15T02:55:46.017Z"
   },
   {
    "duration": 20517,
    "start_time": "2025-05-15T02:56:31.933Z"
   },
   {
    "duration": 20742,
    "start_time": "2025-05-15T02:56:57.006Z"
   },
   {
    "duration": 634,
    "start_time": "2025-05-15T02:57:54.043Z"
   },
   {
    "duration": 190,
    "start_time": "2025-05-15T02:58:13.502Z"
   },
   {
    "duration": 32392,
    "start_time": "2025-05-15T02:58:27.749Z"
   },
   {
    "duration": 32028,
    "start_time": "2025-05-15T02:59:28.519Z"
   },
   {
    "duration": 20412,
    "start_time": "2025-05-15T03:00:03.306Z"
   },
   {
    "duration": 2521,
    "start_time": "2025-05-15T15:33:51.459Z"
   },
   {
    "duration": 61,
    "start_time": "2025-05-15T15:33:53.982Z"
   },
   {
    "duration": 20,
    "start_time": "2025-05-15T15:33:54.045Z"
   },
   {
    "duration": 5,
    "start_time": "2025-05-15T15:33:54.067Z"
   },
   {
    "duration": 147,
    "start_time": "2025-05-15T15:33:54.074Z"
   },
   {
    "duration": 125,
    "start_time": "2025-05-15T15:33:54.223Z"
   },
   {
    "duration": 154,
    "start_time": "2025-05-15T15:33:54.350Z"
   },
   {
    "duration": 19,
    "start_time": "2025-05-15T15:33:54.506Z"
   },
   {
    "duration": 6,
    "start_time": "2025-05-15T15:33:54.526Z"
   },
   {
    "duration": 9,
    "start_time": "2025-05-15T15:33:54.533Z"
   },
   {
    "duration": 17,
    "start_time": "2025-05-15T15:33:54.543Z"
   },
   {
    "duration": 130,
    "start_time": "2025-05-15T15:33:54.561Z"
   },
   {
    "duration": 27,
    "start_time": "2025-05-15T15:33:54.693Z"
   },
   {
    "duration": 285,
    "start_time": "2025-05-15T15:33:54.723Z"
   },
   {
    "duration": 14,
    "start_time": "2025-05-15T15:33:55.009Z"
   },
   {
    "duration": 7,
    "start_time": "2025-05-15T15:33:55.025Z"
   },
   {
    "duration": 14,
    "start_time": "2025-05-15T15:33:55.034Z"
   },
   {
    "duration": 190,
    "start_time": "2025-05-15T15:33:55.050Z"
   },
   {
    "duration": 3,
    "start_time": "2025-05-15T15:33:55.242Z"
   },
   {
    "duration": 6,
    "start_time": "2025-05-15T15:33:55.247Z"
   },
   {
    "duration": 7,
    "start_time": "2025-05-15T15:33:55.255Z"
   },
   {
    "duration": 13,
    "start_time": "2025-05-15T15:33:55.263Z"
   },
   {
    "duration": 6,
    "start_time": "2025-05-15T15:33:55.277Z"
   },
   {
    "duration": 38,
    "start_time": "2025-05-15T15:33:55.285Z"
   },
   {
    "duration": 40,
    "start_time": "2025-05-15T15:33:55.324Z"
   },
   {
    "duration": 3,
    "start_time": "2025-05-15T15:33:55.365Z"
   },
   {
    "duration": 50,
    "start_time": "2025-05-15T15:33:55.370Z"
   },
   {
    "duration": 31,
    "start_time": "2025-05-15T15:33:55.422Z"
   },
   {
    "duration": 308,
    "start_time": "2025-05-15T15:33:55.454Z"
   },
   {
    "duration": 196,
    "start_time": "2025-05-15T15:33:55.764Z"
   },
   {
    "duration": 23,
    "start_time": "2025-05-15T15:33:55.962Z"
   },
   {
    "duration": 166,
    "start_time": "2025-05-15T15:33:55.987Z"
   },
   {
    "duration": 288,
    "start_time": "2025-05-15T15:33:56.155Z"
   },
   {
    "duration": 5,
    "start_time": "2025-05-15T15:33:56.445Z"
   },
   {
    "duration": 231,
    "start_time": "2025-05-15T15:33:56.452Z"
   },
   {
    "duration": 36,
    "start_time": "2025-05-15T15:33:56.685Z"
   },
   {
    "duration": 297,
    "start_time": "2025-05-15T15:33:56.722Z"
   },
   {
    "duration": 41,
    "start_time": "2025-05-15T15:33:57.021Z"
   },
   {
    "duration": 234,
    "start_time": "2025-05-15T15:33:57.064Z"
   },
   {
    "duration": 154,
    "start_time": "2025-05-15T15:33:57.300Z"
   },
   {
    "duration": 27,
    "start_time": "2025-05-15T15:33:57.460Z"
   },
   {
    "duration": 240,
    "start_time": "2025-05-15T15:33:57.489Z"
   },
   {
    "duration": 40,
    "start_time": "2025-05-15T15:33:57.730Z"
   },
   {
    "duration": 230,
    "start_time": "2025-05-15T15:33:57.771Z"
   },
   {
    "duration": 176,
    "start_time": "2025-05-15T15:33:58.003Z"
   },
   {
    "duration": 6,
    "start_time": "2025-05-15T15:33:58.181Z"
   },
   {
    "duration": 2,
    "start_time": "2025-05-15T15:33:58.189Z"
   },
   {
    "duration": 4,
    "start_time": "2025-05-15T15:33:58.193Z"
   },
   {
    "duration": 25,
    "start_time": "2025-05-15T15:33:58.199Z"
   },
   {
    "duration": 11,
    "start_time": "2025-05-15T15:33:58.225Z"
   },
   {
    "duration": 2,
    "start_time": "2025-05-15T15:33:58.238Z"
   },
   {
    "duration": 4,
    "start_time": "2025-05-15T15:33:58.242Z"
   },
   {
    "duration": 3,
    "start_time": "2025-05-15T15:33:58.247Z"
   },
   {
    "duration": 3,
    "start_time": "2025-05-15T15:33:58.252Z"
   },
   {
    "duration": 31263,
    "start_time": "2025-05-15T15:33:58.256Z"
   },
   {
    "duration": 19656,
    "start_time": "2025-05-15T15:34:29.521Z"
   },
   {
    "duration": 170,
    "start_time": "2025-05-15T15:34:49.179Z"
   },
   {
    "duration": 31117,
    "start_time": "2025-05-15T15:34:49.351Z"
   },
   {
    "duration": 19881,
    "start_time": "2025-05-15T15:35:20.470Z"
   },
   {
    "duration": 268,
    "start_time": "2025-05-15T15:35:40.353Z"
   },
   {
    "duration": 272,
    "start_time": "2025-05-15T15:35:40.623Z"
   },
   {
    "duration": 422,
    "start_time": "2025-05-15T15:35:40.898Z"
   },
   {
    "duration": 699,
    "start_time": "2025-05-15T16:11:32.481Z"
   },
   {
    "duration": 18,
    "start_time": "2025-05-15T16:11:41.773Z"
   },
   {
    "duration": 10,
    "start_time": "2025-05-15T16:11:55.246Z"
   },
   {
    "duration": 12,
    "start_time": "2025-05-15T16:14:19.357Z"
   },
   {
    "duration": 20,
    "start_time": "2025-05-15T16:16:03.668Z"
   },
   {
    "duration": 20,
    "start_time": "2025-05-15T16:18:27.401Z"
   },
   {
    "duration": 155,
    "start_time": "2025-05-15T16:18:28.600Z"
   },
   {
    "duration": 54,
    "start_time": "2025-05-15T16:20:29.656Z"
   },
   {
    "duration": 57,
    "start_time": "2025-05-15T16:20:53.869Z"
   },
   {
    "duration": 20,
    "start_time": "2025-05-15T16:21:03.865Z"
   },
   {
    "duration": 21,
    "start_time": "2025-05-15T16:21:14.629Z"
   },
   {
    "duration": 142,
    "start_time": "2025-05-15T16:21:33.646Z"
   },
   {
    "duration": 53,
    "start_time": "2025-05-15T17:55:30.372Z"
   },
   {
    "duration": 39,
    "start_time": "2025-05-15T17:55:41.542Z"
   },
   {
    "duration": 39,
    "start_time": "2025-05-15T17:56:04.910Z"
   },
   {
    "duration": 43,
    "start_time": "2025-05-15T17:57:04.072Z"
   },
   {
    "duration": 3,
    "start_time": "2025-05-15T19:28:13.029Z"
   },
   {
    "duration": 19,
    "start_time": "2025-05-15T19:28:24.823Z"
   },
   {
    "duration": 13,
    "start_time": "2025-05-15T19:28:51.653Z"
   },
   {
    "duration": 857,
    "start_time": "2025-05-15T19:29:07.523Z"
   },
   {
    "duration": 45,
    "start_time": "2025-05-15T19:29:08.382Z"
   },
   {
    "duration": 27,
    "start_time": "2025-05-15T19:29:08.431Z"
   },
   {
    "duration": 6,
    "start_time": "2025-05-15T19:29:08.461Z"
   },
   {
    "duration": 168,
    "start_time": "2025-05-15T19:29:08.469Z"
   },
   {
    "duration": 143,
    "start_time": "2025-05-15T19:29:08.639Z"
   },
   {
    "duration": 226,
    "start_time": "2025-05-15T19:29:08.784Z"
   },
   {
    "duration": 15,
    "start_time": "2025-05-15T19:29:09.011Z"
   },
   {
    "duration": 6,
    "start_time": "2025-05-15T19:29:09.028Z"
   },
   {
    "duration": 7,
    "start_time": "2025-05-15T19:29:09.038Z"
   },
   {
    "duration": 16,
    "start_time": "2025-05-15T19:29:09.047Z"
   },
   {
    "duration": 156,
    "start_time": "2025-05-15T19:29:09.065Z"
   },
   {
    "duration": 19,
    "start_time": "2025-05-15T19:29:09.223Z"
   },
   {
    "duration": 264,
    "start_time": "2025-05-15T19:29:09.243Z"
   },
   {
    "duration": 14,
    "start_time": "2025-05-15T19:29:09.509Z"
   },
   {
    "duration": 7,
    "start_time": "2025-05-15T19:29:09.526Z"
   },
   {
    "duration": 15,
    "start_time": "2025-05-15T19:29:09.535Z"
   },
   {
    "duration": 130,
    "start_time": "2025-05-15T19:29:09.553Z"
   },
   {
    "duration": 3,
    "start_time": "2025-05-15T19:29:09.685Z"
   },
   {
    "duration": 7,
    "start_time": "2025-05-15T19:29:09.690Z"
   },
   {
    "duration": 20,
    "start_time": "2025-05-15T19:29:09.699Z"
   },
   {
    "duration": 13,
    "start_time": "2025-05-15T19:29:09.721Z"
   },
   {
    "duration": 5,
    "start_time": "2025-05-15T19:29:09.735Z"
   },
   {
    "duration": 5,
    "start_time": "2025-05-15T19:29:09.741Z"
   },
   {
    "duration": 39,
    "start_time": "2025-05-15T19:29:09.748Z"
   },
   {
    "duration": 32,
    "start_time": "2025-05-15T19:29:09.789Z"
   },
   {
    "duration": 27,
    "start_time": "2025-05-15T19:29:09.822Z"
   },
   {
    "duration": 29,
    "start_time": "2025-05-15T19:29:09.854Z"
   },
   {
    "duration": 327,
    "start_time": "2025-05-15T19:29:09.884Z"
   },
   {
    "duration": 195,
    "start_time": "2025-05-15T19:29:10.213Z"
   },
   {
    "duration": 21,
    "start_time": "2025-05-15T19:29:10.410Z"
   },
   {
    "duration": 163,
    "start_time": "2025-05-15T19:29:10.432Z"
   },
   {
    "duration": 277,
    "start_time": "2025-05-15T19:29:10.597Z"
   },
   {
    "duration": 5,
    "start_time": "2025-05-15T19:29:10.876Z"
   },
   {
    "duration": 307,
    "start_time": "2025-05-15T19:29:10.883Z"
   },
   {
    "duration": 32,
    "start_time": "2025-05-15T19:29:11.193Z"
   },
   {
    "duration": 235,
    "start_time": "2025-05-15T19:29:11.227Z"
   },
   {
    "duration": 41,
    "start_time": "2025-05-15T19:29:11.464Z"
   },
   {
    "duration": 239,
    "start_time": "2025-05-15T19:29:11.507Z"
   },
   {
    "duration": 154,
    "start_time": "2025-05-15T19:29:11.748Z"
   },
   {
    "duration": 34,
    "start_time": "2025-05-15T19:29:11.904Z"
   },
   {
    "duration": 229,
    "start_time": "2025-05-15T19:29:11.940Z"
   },
   {
    "duration": 48,
    "start_time": "2025-05-15T19:29:12.171Z"
   },
   {
    "duration": 218,
    "start_time": "2025-05-15T19:29:12.221Z"
   },
   {
    "duration": 19,
    "start_time": "2025-05-15T19:29:12.441Z"
   },
   {
    "duration": 238,
    "start_time": "2025-05-15T19:29:12.461Z"
   },
   {
    "duration": 31897,
    "start_time": "2025-05-15T19:29:12.700Z"
   },
   {
    "duration": 19898,
    "start_time": "2025-05-15T19:29:44.599Z"
   },
   {
    "duration": 29,
    "start_time": "2025-05-15T19:30:04.499Z"
   },
   {
    "duration": 153,
    "start_time": "2025-05-15T19:30:04.529Z"
   },
   {
    "duration": 31344,
    "start_time": "2025-05-15T19:30:04.684Z"
   },
   {
    "duration": 19913,
    "start_time": "2025-05-15T19:30:36.030Z"
   },
   {
    "duration": 267,
    "start_time": "2025-05-15T19:30:55.945Z"
   },
   {
    "duration": 330,
    "start_time": "2025-05-15T19:30:56.220Z"
   },
   {
    "duration": 415,
    "start_time": "2025-05-15T19:30:56.552Z"
   },
   {
    "duration": 3,
    "start_time": "2025-05-15T19:30:56.969Z"
   },
   {
    "duration": 15,
    "start_time": "2025-05-15T19:30:56.974Z"
   },
   {
    "duration": 3,
    "start_time": "2025-05-15T19:31:18.393Z"
   },
   {
    "duration": 3,
    "start_time": "2025-05-15T19:32:45.762Z"
   },
   {
    "duration": 15,
    "start_time": "2025-05-15T19:32:48.575Z"
   },
   {
    "duration": 10,
    "start_time": "2025-05-15T19:33:26.988Z"
   },
   {
    "duration": 14,
    "start_time": "2025-05-15T19:33:28.072Z"
   },
   {
    "duration": 370,
    "start_time": "2025-05-15T19:34:16.657Z"
   },
   {
    "duration": 19,
    "start_time": "2025-05-15T19:34:48.799Z"
   },
   {
    "duration": 168,
    "start_time": "2025-05-15T19:35:58.530Z"
   },
   {
    "duration": 82,
    "start_time": "2025-05-15T19:36:55.378Z"
   },
   {
    "duration": 82,
    "start_time": "2025-05-15T19:37:22.455Z"
   },
   {
    "duration": 22,
    "start_time": "2025-05-15T19:38:03.139Z"
   },
   {
    "duration": 22,
    "start_time": "2025-05-15T19:38:23.548Z"
   },
   {
    "duration": 20,
    "start_time": "2025-05-15T19:38:26.920Z"
   }
  ],
  "kernelspec": {
   "display_name": "Python [conda env:base] *",
   "language": "python",
   "name": "conda-base-py"
  },
  "language_info": {
   "codemirror_mode": {
    "name": "ipython",
    "version": 3
   },
   "file_extension": ".py",
   "mimetype": "text/x-python",
   "name": "python",
   "nbconvert_exporter": "python",
   "pygments_lexer": "ipython3",
   "version": "3.12.3"
  },
  "toc": {
   "base_numbering": 1,
   "nav_menu": {},
   "number_sections": true,
   "sideBar": true,
   "skip_h1_title": true,
   "title_cell": "Table of Contents",
   "title_sidebar": "Contents",
   "toc_cell": false,
   "toc_position": {},
   "toc_section_display": true,
   "toc_window_display": false
  }
 },
 "nbformat": 4,
 "nbformat_minor": 4
}
