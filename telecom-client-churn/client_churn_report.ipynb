{
 "cells": [
  {
   "cell_type": "markdown",
   "metadata": {},
   "source": [
    "<b><font size=5>Predicting client churn solution report</font></b>"
   ]
  },
  {
   "cell_type": "markdown",
   "metadata": {},
   "source": [
    "<b><font size=4>Problem statement</font></b>\n",
    "\n",
    "The telecom operator <b>Interconnect</b> wants to be able to forecast churn of its clients. If it's discovered that a user is planning to leave, Interconnect can offer promotional deals and special plan options to perhaps prevent the user from leaving their services. Based on current and past personal information of each client, whicn included information about their plans and contracts, can machine learning assist in accurately predicting which users are close to discontinuing service?\n",
    "\n",
    "An acceptable model must yield an AUC-ROC of at least <b>0.75</b> to be promoted to production."
   ]
  },
  {
   "cell_type": "markdown",
   "metadata": {},
   "source": [
    "<b><font size=4>Data preparation</font></b>"
   ]
  },
  {
   "cell_type": "markdown",
   "metadata": {},
   "source": [
    "<font size=3>Data sources</font>\n",
    "\n",
    "The data consisted of plan and contract information of each client from different csv files.\n",
    "\n",
    "- <b>contract.csv</b> - contract information\n",
    "- <b>personal.csv</b> - client's personal data\n",
    "- <b>internet.csv</b> - information about Internet services\n",
    "- <b>phone.csv</b> - information about telephone services"
   ]
  },
  {
   "cell_type": "markdown",
   "metadata": {},
   "source": [
    "<font size=3>Data preprocessing</font>\n",
    "\n",
    "1. Load data in csv files into DataFrames\n",
    "2. Merge all four datasets into one main DataFrame\n",
    "    - Fill in missing values resulted from the merge\n",
    "3. Update column names to all lowercase lettering\n",
    "4. Replace for one space string values in <mark>totalcharges</mark> field\n",
    "5. Convert data types of certain fields"
   ]
  },
  {
   "cell_type": "markdown",
   "metadata": {},
   "source": [
    "<font size=3>Feature engineering</font>\n",
    "\n",
    "1. Create new Yes / No column representing client churn called <mark>discontinued</mark>\n",
    "2. Create new columns and extract month and year data from <mark>begindate</mark>\n",
    "3. Apply one-hot encoding to categorical features\n",
    "4. Apply feature scaling / standardization to numerical features"
   ]
  },
  {
   "cell_type": "markdown",
   "metadata": {},
   "source": [
    "<b><font size=4>Exploratory data analysis</font></b>"
   ]
  },
  {
   "cell_type": "markdown",
   "metadata": {},
   "source": [
    "<font size=3>Client churn over time</font>\n",
    "\n",
    "1. Client churn progression\n",
    "2. Client tenure distribution\n",
    "\n",
    "Conclusions\n",
    "\n",
    "- All clients that have discontinued service have left within the past 4 months\n",
    "- The number of new clients has been steady over the years, but there has been an abrupt spike within the past 5 months\n",
    "- There is a net loss of around 200 customers the past 4 months\n",
    "- There are more recently-joined clients that are discontinuing service compared to longer-tenured clients"
   ]
  },
  {
   "cell_type": "markdown",
   "metadata": {},
   "source": [
    "<font size=3>Client and plan characteristics churn comparison</font>\n",
    "\n",
    "1. Gender of client\n",
    "2. Seniority client\n",
    "3. Internet services client possessed\n",
    "4. Contract length\n",
    "5. Charges paid per client\n",
    "\n",
    "Conclusions\n",
    "- There are no major differences between genders in terms of client churn\n",
    "- There are more senior citizens (in proportion) that are discontinuing service compared to non-senior citizens\n",
    "- More customers on fiber optic have discontinued service compared to customers on DSL. This may be due to the monthly charges of fiber optic\n",
    "- Month-to-month contracts account for the most discontinued clients, but this is expected\n",
    "- The total charges of all services might not play a big role in the decision of a client leaving"
   ]
  },
  {
   "cell_type": "markdown",
   "metadata": {},
   "source": [
    "<b><font size=4>Model preparation</font></b>\n",
    "\n",
    "1. Define features and target\n",
    "2. Split data into training, validation, and test datasets\n",
    "3. Perform upsampling to target variable to mitigate the class imbalance in the dataset\n",
    "4. Build functions to streamline model building process\n",
    "    - <b>build_model</b> - Gathers model predictions, retrieves AUC-ROC and accuarcy scores, and plots a ROC curve\n",
    "    - <b>build_confusion_matrix</b> - Creates a confusion matrix describing how the model made predictions\n",
    "    - <b>build_table</b> - Creates a summary table of the AUC-ROC scores\n",
    "5. Create a Logistic Regression base model for comparison and basic evaluation"
   ]
  },
  {
   "cell_type": "markdown",
   "metadata": {},
   "source": [
    "<b><font size=4>Model building and analysis</font></b>\n",
    "\n",
    "There were three models built and fine-tuned to help predict client churn: random forest, K-nearest neighbors, and gradient boosting (Light GBM). First, an unoptimized model was built to establish a performance baseline and then an optimized model was built which included modifications and optimizations. Lastly, scores and confusion matrices were compared to evaluate the model's overall performance."
   ]
  },
  {
   "cell_type": "markdown",
   "metadata": {},
   "source": [
    "<font size=3>Random forest</font>\n",
    "\n",
    "Hyperparameters tuned\n",
    "- n_estimators\n",
    "- max_depth\n",
    "- min_samples_leaf\n",
    "- min_samples_split\n",
    "\n",
    "AUC-ROC score comparison\n",
    "- Logistic regression: <b>0.8648</b>\n",
    "- Unoptimized model: <b>0.8534</b>\n",
    "- Optimized model: <b>0.8498</b>\n",
    "\n",
    "Accuracy score comparison\n",
    "- Logistic regression: <b>0.7835</b>\n",
    "- Unoptimized model: <b>0.8027</b>\n",
    "- Optimized model: <b>0.7921</b>"
   ]
  },
  {
   "cell_type": "markdown",
   "metadata": {},
   "source": [
    "  "
   ]
  },
  {
   "cell_type": "markdown",
   "metadata": {},
   "source": [
    "<font size=3>K-nearest neighbors</font>\n",
    "\n",
    "Hyperparameters tuned\n",
    "- n_neighbors\n",
    "- leaf_size\n",
    "- p\n",
    "- weight\n",
    "\n",
    "AUC-ROC score comparison\n",
    "- Logistic regression: <b>0.8648</b>\n",
    "- Unoptimized model: <b>0.7946</b>\n",
    "- Optimized model: <b>0.8169</b>\n",
    "\n",
    "Accuracy score comparison\n",
    "- Logistic regression: <b>0.7835</b>\n",
    "- Unoptimized model: <b>0.7431</b>\n",
    "- Optimized model: <b>0.7459</b>"
   ]
  },
  {
   "cell_type": "markdown",
   "metadata": {},
   "source": [
    "  "
   ]
  },
  {
   "cell_type": "markdown",
   "metadata": {},
   "source": [
    "<font size=3>Gradient boosting (Light GBM)</font>\n",
    "\n",
    "Hyperparameters tuned\n",
    "- num_leaves\n",
    "- max_depth\n",
    "- n_estimators\n",
    "- learning_rate\n",
    "\n",
    "AUC-ROC score comparison\n",
    "- Logistic regression: <b>0.8648</b>\n",
    "- Unoptimized model: <b>0.8471</b>\n",
    "- Optimized model: <b>0.8641</b>\n",
    "\n",
    "Accuracy score comparison\n",
    "- Logistic regression: <b>0.7835</b>\n",
    "- Unoptimized model: <b>0.7885</b>\n",
    "- Optimized model: <b>0.7970</b>"
   ]
  },
  {
   "cell_type": "markdown",
   "metadata": {},
   "source": [
    "<b><font size=4>Final model evaluation</font></b>\n",
    "\n",
    "Interconnect requested for a better way to predict and forecast what clients may be discontiuing service. Knowing this information upfront allows them to target certain groups to then offer promotional deals and special plan options to perhaps prevent these groups of clients from leaving. Having a means to identify these groups allows Interconnect to be more proactive in keeping a client's business, rather than being reactive after it happens. \n",
    "\n",
    "After building and fine-tuning models for all three model types, the gradient boosting model performed the best and was tested on the test dataset. After running the model, the model predictions yielded an AUC-ROC score that beats the threshold of <b>0.75</b>. Below are the final metrics. Moreover, the performance of the gradient boosting model proves that it can adequately predict what clients could potentially discontinue service, allowing Interconnect to perform actions quickly to try and keep their business.\n",
    "\n",
    "- AUC-ROC threshold: <b>0.75</b>\n",
    "- AUC-ROC score: <b>0.8407</b>\n",
    "- Accuracy score: <b>0.7509</b>"
   ]
  },
  {
   "cell_type": "markdown",
   "metadata": {},
   "source": [
    "<b><font size=4>Difficulties and issues</font></b>\n",
    "\n",
    "1. Hyperparameter tuning took an ample amount of time to conduct. It was very important to be strategic and thoughtful about what parameters to tune and how to build the paramter grid and gridsearch object to save time on the optimization process\n",
    "2. Building models and creating the same ROC plots and confusion matrices became tedious. So, functions were made to streamline this process\n",
    "3. It was decided not to perform bootstrapping as it was seen as not necessary for this problem"
   ]
  },
  {
   "cell_type": "markdown",
   "metadata": {},
   "source": [
    "<div class=\"alert alert-block alert-success\">\n",
    "<b>Reviewer's comment</b> Overall looks like a nice report! Well done and best of luck in your job search!\n",
    "<a class=\"tocSkip\"></a>"
   ]
  },
  {
   "cell_type": "code",
   "execution_count": null,
   "metadata": {},
   "outputs": [],
   "source": []
  }
 ],
 "metadata": {
  "kernelspec": {
   "display_name": "Python 3 (ipykernel)",
   "language": "python",
   "name": "python3"
  },
  "language_info": {
   "codemirror_mode": {
    "name": "ipython",
    "version": 3
   },
   "file_extension": ".py",
   "mimetype": "text/x-python",
   "name": "python",
   "nbconvert_exporter": "python",
   "pygments_lexer": "ipython3",
   "version": "3.9.22"
  }
 },
 "nbformat": 4,
 "nbformat_minor": 4
}
