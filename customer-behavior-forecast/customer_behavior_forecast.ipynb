{
 "cells": [
  {
   "cell_type": "markdown",
   "metadata": {},
   "source": [
    " # Predicting future customer behaviors at Beta Bank"
   ]
  },
  {
   "cell_type": "markdown",
   "metadata": {},
   "source": [
    "Beta Bank is noticing that some of their customers are leaving the bank. Instead of using a lot of effort and energy to replace these customers, it is more cost efficient to attempt to keep these customers from leaving. Beta Bank has requested analysis and modeling to help predict which customers may leave, so they can get ahead of trying to retain these customers as well identify  patterns into the behaviors of which customers are more likely leave. Using behavior and contract data provided by the bank, several models were created and analyzed performance and prediction ability. The threshold for an accurate model is a F1 score of <b>59%</b>."
   ]
  },
  {
   "cell_type": "markdown",
   "metadata": {},
   "source": [
    "## Initialization"
   ]
  },
  {
   "cell_type": "code",
   "execution_count": 1,
   "metadata": {},
   "outputs": [],
   "source": [
    "# Load all libraries and modules\n",
    "import pandas as pd\n",
    "import numpy as np\n",
    "import math\n",
    "from sklearn.model_selection import train_test_split\n",
    "from sklearn.preprocessing import OrdinalEncoder\n",
    "from sklearn.preprocessing import StandardScaler\n",
    "from sklearn.ensemble import RandomForestClassifier\n",
    "from sklearn.linear_model import LogisticRegression\n",
    "from sklearn.metrics import accuracy_score\n",
    "from sklearn.metrics import precision_score\n",
    "from sklearn.metrics import recall_score\n",
    "from sklearn.metrics import f1_score\n",
    "from sklearn.metrics import confusion_matrix\n",
    "import matplotlib.pyplot as plt\n",
    "import seaborn as sns\n",
    "from sklearn.metrics import precision_recall_curve\n",
    "from sklearn.utils import shuffle\n",
    "from sklearn.model_selection import GridSearchCV\n",
    "from sklearn.metrics import roc_curve\n",
    "from sklearn.metrics import roc_auc_score\n",
    "from sklearn.metrics import make_scorer\n",
    "from collections import defaultdict\n",
    "from functools import partial"
   ]
  },
  {
   "cell_type": "markdown",
   "metadata": {},
   "source": [
    "## Load data"
   ]
  },
  {
   "cell_type": "code",
   "execution_count": 2,
   "metadata": {},
   "outputs": [],
   "source": [
    "# Load data into a pandas DataFrame\n",
    "data = pd.read_csv('/datasets/Churn.csv')"
   ]
  },
  {
   "cell_type": "markdown",
   "metadata": {},
   "source": [
    "## Data overview\n",
    "\n",
    "The bulleted list below provides detailed explanations on the data provided from the csv file and also denotes which columns are potential features for the predictive model and what column is the target, ie what the model will be attempting to predict. The data provides insight into customer's banking habits, personal information, and how the services provided by Beta Bank are used.\n",
    "\n",
    "Potential Features\n",
    "\n",
    "- <b>RowNumber</b> — data string index\n",
    "- <b>CustomerId</b> — unique customer identifier\n",
    "- <b>Surname</b> — surname\n",
    "- <b>CreditScore</b> — credit score\n",
    "- <b>Geography</b> — country of residence\n",
    "- <b>Gender</b> — gender\n",
    "- <b>Age</b> — age\n",
    "- <b>Tenure</b> — period of maturation for a customer’s fixed deposit (years)\n",
    "- <b>Balance</b> — account balance\n",
    "- <b>NumOfProducts</b> — number of banking products used by the customer\n",
    "- <b>HasCrCard</b> — customer has a credit card\n",
    "- <b>IsActiveMember</b> — customer’s activeness\n",
    "- <b>EstimatedSalary</b> — estimated salary\n",
    "\n",
    "Target\n",
    "\n",
    "- <b>Exited</b> — сustomer has left\n",
    "\n",
    "Below, a more thorough dive into the data provides a deeper overview. A general summary of the DataFrame and some extended analysis on certain features / columns adds more insight into what data the model will be working with."
   ]
  },
  {
   "cell_type": "markdown",
   "metadata": {},
   "source": [
    "### General summary\n",
    "\n",
    "There are 14 columns within the dataset with a total of 10000 records, so we have information on 10000 customers at Beta Bank. 3 fields are of an object data type, 8 are integer, and 3 are float. Some general observations about the columns:\n",
    "\n",
    "- <mark><b>RowNumber</b></mark> is nonessential data. It doesn't provide any information about the customer\n",
    "- <mark><b>CustomerId</b></mark> and <mark><b>Surname</b></mark> do provide information about the customer, but this data might not be irrelevant for predictive modeling purposes\n",
    "- <mark><b>Tenure</b></mark> has missing values in some of the records. We'll explore this later. It also is an integer data type which may not be necessary\n",
    "- <mark><b>Exited</b></mark> as displayed above is the <b>Target</b>. This is what the model will try to predict\n",
    "- The remaining fields provide good information about the customer's banking habits or personal information"
   ]
  },
  {
   "cell_type": "code",
   "execution_count": 3,
   "metadata": {},
   "outputs": [
    {
     "name": "stdout",
     "output_type": "stream",
     "text": [
      "<class 'pandas.core.frame.DataFrame'>\n",
      "RangeIndex: 10000 entries, 0 to 9999\n",
      "Data columns (total 14 columns):\n",
      " #   Column           Non-Null Count  Dtype  \n",
      "---  ------           --------------  -----  \n",
      " 0   RowNumber        10000 non-null  int64  \n",
      " 1   CustomerId       10000 non-null  int64  \n",
      " 2   Surname          10000 non-null  object \n",
      " 3   CreditScore      10000 non-null  int64  \n",
      " 4   Geography        10000 non-null  object \n",
      " 5   Gender           10000 non-null  object \n",
      " 6   Age              10000 non-null  int64  \n",
      " 7   Tenure           9091 non-null   float64\n",
      " 8   Balance          10000 non-null  float64\n",
      " 9   NumOfProducts    10000 non-null  int64  \n",
      " 10  HasCrCard        10000 non-null  int64  \n",
      " 11  IsActiveMember   10000 non-null  int64  \n",
      " 12  EstimatedSalary  10000 non-null  float64\n",
      " 13  Exited           10000 non-null  int64  \n",
      "dtypes: float64(3), int64(8), object(3)\n",
      "memory usage: 1.1+ MB\n"
     ]
    },
    {
     "data": {
      "text/html": [
       "<div>\n",
       "<style scoped>\n",
       "    .dataframe tbody tr th:only-of-type {\n",
       "        vertical-align: middle;\n",
       "    }\n",
       "\n",
       "    .dataframe tbody tr th {\n",
       "        vertical-align: top;\n",
       "    }\n",
       "\n",
       "    .dataframe thead th {\n",
       "        text-align: right;\n",
       "    }\n",
       "</style>\n",
       "<table border=\"1\" class=\"dataframe\">\n",
       "  <thead>\n",
       "    <tr style=\"text-align: right;\">\n",
       "      <th></th>\n",
       "      <th>RowNumber</th>\n",
       "      <th>CustomerId</th>\n",
       "      <th>Surname</th>\n",
       "      <th>CreditScore</th>\n",
       "      <th>Geography</th>\n",
       "      <th>Gender</th>\n",
       "      <th>Age</th>\n",
       "      <th>Tenure</th>\n",
       "      <th>Balance</th>\n",
       "      <th>NumOfProducts</th>\n",
       "      <th>HasCrCard</th>\n",
       "      <th>IsActiveMember</th>\n",
       "      <th>EstimatedSalary</th>\n",
       "      <th>Exited</th>\n",
       "    </tr>\n",
       "  </thead>\n",
       "  <tbody>\n",
       "    <tr>\n",
       "      <th>0</th>\n",
       "      <td>1</td>\n",
       "      <td>15634602</td>\n",
       "      <td>Hargrave</td>\n",
       "      <td>619</td>\n",
       "      <td>France</td>\n",
       "      <td>Female</td>\n",
       "      <td>42</td>\n",
       "      <td>2.0</td>\n",
       "      <td>0.00</td>\n",
       "      <td>1</td>\n",
       "      <td>1</td>\n",
       "      <td>1</td>\n",
       "      <td>101348.88</td>\n",
       "      <td>1</td>\n",
       "    </tr>\n",
       "    <tr>\n",
       "      <th>1</th>\n",
       "      <td>2</td>\n",
       "      <td>15647311</td>\n",
       "      <td>Hill</td>\n",
       "      <td>608</td>\n",
       "      <td>Spain</td>\n",
       "      <td>Female</td>\n",
       "      <td>41</td>\n",
       "      <td>1.0</td>\n",
       "      <td>83807.86</td>\n",
       "      <td>1</td>\n",
       "      <td>0</td>\n",
       "      <td>1</td>\n",
       "      <td>112542.58</td>\n",
       "      <td>0</td>\n",
       "    </tr>\n",
       "    <tr>\n",
       "      <th>2</th>\n",
       "      <td>3</td>\n",
       "      <td>15619304</td>\n",
       "      <td>Onio</td>\n",
       "      <td>502</td>\n",
       "      <td>France</td>\n",
       "      <td>Female</td>\n",
       "      <td>42</td>\n",
       "      <td>8.0</td>\n",
       "      <td>159660.80</td>\n",
       "      <td>3</td>\n",
       "      <td>1</td>\n",
       "      <td>0</td>\n",
       "      <td>113931.57</td>\n",
       "      <td>1</td>\n",
       "    </tr>\n",
       "    <tr>\n",
       "      <th>3</th>\n",
       "      <td>4</td>\n",
       "      <td>15701354</td>\n",
       "      <td>Boni</td>\n",
       "      <td>699</td>\n",
       "      <td>France</td>\n",
       "      <td>Female</td>\n",
       "      <td>39</td>\n",
       "      <td>1.0</td>\n",
       "      <td>0.00</td>\n",
       "      <td>2</td>\n",
       "      <td>0</td>\n",
       "      <td>0</td>\n",
       "      <td>93826.63</td>\n",
       "      <td>0</td>\n",
       "    </tr>\n",
       "    <tr>\n",
       "      <th>4</th>\n",
       "      <td>5</td>\n",
       "      <td>15737888</td>\n",
       "      <td>Mitchell</td>\n",
       "      <td>850</td>\n",
       "      <td>Spain</td>\n",
       "      <td>Female</td>\n",
       "      <td>43</td>\n",
       "      <td>2.0</td>\n",
       "      <td>125510.82</td>\n",
       "      <td>1</td>\n",
       "      <td>1</td>\n",
       "      <td>1</td>\n",
       "      <td>79084.10</td>\n",
       "      <td>0</td>\n",
       "    </tr>\n",
       "  </tbody>\n",
       "</table>\n",
       "</div>"
      ],
      "text/plain": [
       "   RowNumber  CustomerId   Surname  CreditScore Geography  Gender  Age  \\\n",
       "0          1    15634602  Hargrave          619    France  Female   42   \n",
       "1          2    15647311      Hill          608     Spain  Female   41   \n",
       "2          3    15619304      Onio          502    France  Female   42   \n",
       "3          4    15701354      Boni          699    France  Female   39   \n",
       "4          5    15737888  Mitchell          850     Spain  Female   43   \n",
       "\n",
       "   Tenure    Balance  NumOfProducts  HasCrCard  IsActiveMember  \\\n",
       "0     2.0       0.00              1          1               1   \n",
       "1     1.0   83807.86              1          0               1   \n",
       "2     8.0  159660.80              3          1               0   \n",
       "3     1.0       0.00              2          0               0   \n",
       "4     2.0  125510.82              1          1               1   \n",
       "\n",
       "   EstimatedSalary  Exited  \n",
       "0        101348.88       1  \n",
       "1        112542.58       0  \n",
       "2        113931.57       1  \n",
       "3         93826.63       0  \n",
       "4         79084.10       0  "
      ]
     },
     "metadata": {},
     "output_type": "display_data"
    }
   ],
   "source": [
    "# General summary of the DataFrame\n",
    "data.info()\n",
    "display(data.head())"
   ]
  },
  {
   "cell_type": "markdown",
   "metadata": {},
   "source": [
    "### Extended analysis\n",
    "\n",
    "Additional analysis was performed on certain fields to get a better understanding on some of the data specifics. First, value ranges were gathered for the following fields:\n",
    "\n",
    "- <mark><b>Tenure</b></mark> - 0 - 10 years\n",
    "  - Tenure represents how long, or the *term*, that money must stay in an account before you can take it out to avoid interest penalities or fees. Customers with a higher term may not want to leave the bank or remove their account because of these interest penalities \n",
    "- <mark><b>NumofProducts</b></mark> - 1 - 4 products\n",
    "  - The highest number of products a customer uses is 4. This does not conclude that Beta Bank only provides a total of 4 products, but I assume the total products offered is not far away from 4, if it is not 4\n",
    "- <mark><b>Balance</b></mark> - 0 - 250898.09 dollars\n",
    "- <mark><b>EstimatedSalary</b></mark> - 0 - 199998.48 dollars\n",
    "\n",
    "Preliminary deduction on certain traits and characteristics were also performed to see if there was any connection between these traits and members that exited. The predictive model will do this type of analysis for us later in the report, but this does provide an initial look into what data for certain fields might affect the probability of a customer leaving.\n",
    "\n",
    "- <mark><b>Age</b></mark> - The ages representing the least amount of exit members are to some extent sporadic. There are old ages and young ages within the top 15 that have exited Beta Bank. There doesn't seem to be a correlation. However, ages representing the largest amount of exit members interestingly are all in the 40s and a few in the 50s\n",
    "- <mark><b>Balance</b></mark> - The account balances representing the least amount of exit members are sporadic. There is no clear correlation. For balances representing the largest amount of exit members, there is perhaps a small relation between balance amount and if the customer exited, but stating there is a correlation is a stretch. An important observation however, is that customers with a balance of <b>0</b> dwarf all other balance values, perhaps indicating that customers that don't use their account eventually leave the bank\n",
    "- <mark><b>EstimatedSalary</b></mark> The salaries of exit members are sporadic. There is no clear correlation in the data providing a pattern or insight to what salaries of members may be linked to leaving the bank\n",
    "- <mark><b>Tenure</b></mark> - The tenures of the account did not show any correlation for the least amount of exit members nor largest amount. Interestingly however, the tenure of 0 had the least amount of exit members. A tenure of 0 means that a customer is not obiligated to leave their money in the account for a period of time. There is flexibility. It was originally thought that a tenure of 0 would represent the largest amount of exit members because there are no constaints to exiting. This is not the case. The other years all contain roughly the same amount of exit members, so there is no clear cause-and-effect with this data\n",
    "\n",
    "Moreover, attempting to find clear correlations, relations, and weights in the data is sometimes difficult. Good thing we can create a machine learning model to assist us!"
   ]
  },
  {
   "cell_type": "code",
   "execution_count": 4,
   "metadata": {},
   "outputs": [
    {
     "name": "stdout",
     "output_type": "stream",
     "text": [
      "TENURE value range\n",
      "\n",
      "0.0 - 10.0 years\n",
      "\n",
      "\n",
      "NUMOFPRODUCTS value range\n",
      "\n",
      "1 - 4 products\n",
      "\n",
      "\n",
      "BALANCE value range\n",
      "\n",
      "0.0 - 250898.09 dollars\n",
      "\n",
      "\n",
      "ESTIMATEDSALARY value range\n",
      "\n",
      "11.58 - 199992.48 dollars\n"
     ]
    }
   ],
   "source": [
    "# Retrieve range of values for certain features\n",
    "# Tenure\n",
    "print('TENURE value range')\n",
    "print()\n",
    "print(data['Tenure'].min(), '-', data['Tenure'].max(), 'years')\n",
    "print()\n",
    "print()\n",
    "\n",
    "# NumofProducts\n",
    "print('NUMOFPRODUCTS value range')\n",
    "print()\n",
    "print(data['NumOfProducts'].min(), '-', data['NumOfProducts'].max(), 'products')\n",
    "print()\n",
    "print()\n",
    "\n",
    "# Balance\n",
    "print('BALANCE value range')\n",
    "print()\n",
    "print(data['Balance'].min(), '-', data['Balance'].max(), 'dollars')\n",
    "print()\n",
    "print()\n",
    "\n",
    "#EstiamtedSalary\n",
    "print('ESTIMATEDSALARY value range')\n",
    "print()\n",
    "print(data['EstimatedSalary'].min(), '-', data['EstimatedSalary'].max(), 'dollars')"
   ]
  },
  {
   "cell_type": "code",
   "execution_count": 5,
   "metadata": {},
   "outputs": [
    {
     "name": "stdout",
     "output_type": "stream",
     "text": [
      "AGE vs EXIT MEMBERS\n",
      "\n",
      "AGE WITH THE LEAST EXIT MEMBERS\n"
     ]
    },
    {
     "data": {
      "text/plain": [
       "Age\n",
       "84    1\n",
       "19    1\n",
       "73    1\n",
       "72    1\n",
       "74    1\n",
       "69    2\n",
       "18    2\n",
       "20    2\n",
       "21    3\n",
       "70    4\n",
       "67    5\n",
       "25    6\n",
       "23    6\n",
       "68    6\n",
       "66    7\n",
       "Name: Age, dtype: int64"
      ]
     },
     "metadata": {},
     "output_type": "display_data"
    },
    {
     "name": "stdout",
     "output_type": "stream",
     "text": [
      "\n",
      "AGE WITH THE MOST EXIT MEMBERS\n"
     ]
    },
    {
     "data": {
      "text/plain": [
       "Age\n",
       "38    63\n",
       "52    64\n",
       "51    66\n",
       "41    69\n",
       "50    71\n",
       "39    72\n",
       "44    73\n",
       "49    75\n",
       "47    77\n",
       "42    77\n",
       "48    80\n",
       "45    87\n",
       "43    88\n",
       "40    89\n",
       "46    91\n",
       "Name: Age, dtype: int64"
      ]
     },
     "metadata": {},
     "output_type": "display_data"
    },
    {
     "data": {
      "image/png": "[encoded data removed]",
      "text/plain": [
       "<Figure size 1000x600 with 1 Axes>"
      ]
     },
     "metadata": {},
     "output_type": "display_data"
    }
   ],
   "source": [
    "# Age of exit members review\n",
    "# Filter for exit members\n",
    "exit_members = data[data['Exited'] == 1]\n",
    "\n",
    "# Group and sort by Age\n",
    "print('AGE vs EXIT MEMBERS')\n",
    "exit_age_group = exit_members.groupby('Age')['Age'].count()\n",
    "print()\n",
    "print('AGE WITH THE LEAST EXIT MEMBERS')\n",
    "display(exit_age_group.sort_values().head(15))\n",
    "print()\n",
    "print('AGE WITH THE MOST EXIT MEMBERS')\n",
    "display(exit_age_group.sort_values().tail(15))\n",
    "\n",
    "# Create bar chart for age distribution\n",
    "exit_age_group.plot(kind='bar', title='Age distribution', figsize=(10,6))\n",
    "plt.ylabel('Count', fontsize=12)\n",
    "plt.xlabel('Age', fontsize=12)\n",
    "plt.xticks(rotation=45, fontsize=8)\n",
    "plt.show()"
   ]
  },
  {
   "cell_type": "code",
   "execution_count": 6,
   "metadata": {},
   "outputs": [
    {
     "name": "stdout",
     "output_type": "stream",
     "text": [
      "BALANCE vs EXIT MEMBERS\n",
      "\n",
      "BALANCE WITH THE LEAST EXIT MEMBERS\n"
     ]
    },
    {
     "name": "stderr",
     "output_type": "stream",
     "text": [
      "/tmp/ipykernel_50/2646699494.py:3: SettingWithCopyWarning: \n",
      "A value is trying to be set on a copy of a slice from a DataFrame.\n",
      "Try using .loc[row_indexer,col_indexer] = value instead\n",
      "\n",
      "See the caveats in the documentation: https://pandas.pydata.org/pandas-docs/stable/user_guide/indexing.html#returning-a-view-versus-a-copy\n",
      "  exit_members['BalanceRounded'] = round(exit_members['Balance'], -4).astype(int)\n"
     ]
    },
    {
     "data": {
      "text/plain": [
       "BalanceRounded\n",
       "250000     1\n",
       "10000      1\n",
       "240000     1\n",
       "220000     2\n",
       "20000      2\n",
       "30000      4\n",
       "210000     9\n",
       "200000     9\n",
       "40000     10\n",
       "50000     14\n",
       "190000    19\n",
       "60000     27\n",
       "180000    27\n",
       "70000     42\n",
       "170000    48\n",
       "Name: BalanceRounded, dtype: int64"
      ]
     },
     "metadata": {},
     "output_type": "display_data"
    },
    {
     "name": "stdout",
     "output_type": "stream",
     "text": [
      "\n",
      "BALANCE WITH THE MOST EXIT MEMBERS\n"
     ]
    },
    {
     "data": {
      "text/plain": [
       "BalanceRounded\n",
       "190000     19\n",
       "60000      27\n",
       "180000     27\n",
       "70000      42\n",
       "170000     48\n",
       "160000     57\n",
       "80000      58\n",
       "90000      93\n",
       "150000    110\n",
       "100000    158\n",
       "140000    159\n",
       "130000    211\n",
       "110000    230\n",
       "120000    244\n",
       "0         501\n",
       "Name: BalanceRounded, dtype: int64"
      ]
     },
     "metadata": {},
     "output_type": "display_data"
    },
    {
     "data": {
      "image/png": "[encoded data removed]",
      "text/plain": [
       "<Figure size 1000x600 with 1 Axes>"
      ]
     },
     "metadata": {},
     "output_type": "display_data"
    }
   ],
   "source": [
    "# Account balance of exit members review\n",
    "# Create column rounding to the nearest 10000\n",
    "exit_members['BalanceRounded'] = round(exit_members['Balance'], -4).astype(int)\n",
    "\n",
    "# Group and sort by BalanceRounded\n",
    "print('BALANCE vs EXIT MEMBERS')\n",
    "exit_balance_group = exit_members.groupby('BalanceRounded')['BalanceRounded'].count()\n",
    "print()\n",
    "print('BALANCE WITH THE LEAST EXIT MEMBERS')\n",
    "display(exit_balance_group.sort_values().head(15))\n",
    "print()\n",
    "print('BALANCE WITH THE MOST EXIT MEMBERS')\n",
    "display(exit_balance_group.sort_values().tail(15))\n",
    "\n",
    "# Create bar chart for balance distribution\n",
    "exit_balance_group.plot(kind='bar', title='Salary distribution', figsize=(10,6))\n",
    "plt.ylabel('Count', fontsize=12)\n",
    "plt.xlabel('Salary', fontsize=12)\n",
    "plt.xticks(rotation=45, fontsize=8)\n",
    "plt.show()"
   ]
  },
  {
   "cell_type": "code",
   "execution_count": 7,
   "metadata": {},
   "outputs": [
    {
     "name": "stdout",
     "output_type": "stream",
     "text": [
      "BALANCE vs EXIT MEMBERS\n",
      "\n",
      "BALANCE WITH THE LEAST EXIT MEMBERS\n"
     ]
    },
    {
     "name": "stderr",
     "output_type": "stream",
     "text": [
      "/tmp/ipykernel_50/2598604125.py:3: SettingWithCopyWarning: \n",
      "A value is trying to be set on a copy of a slice from a DataFrame.\n",
      "Try using .loc[row_indexer,col_indexer] = value instead\n",
      "\n",
      "See the caveats in the documentation: https://pandas.pydata.org/pandas-docs/stable/user_guide/indexing.html#returning-a-view-versus-a-copy\n",
      "  exit_members['EstimatedSalaryRounded'] = round(exit_members['EstimatedSalary'], -4).astype(int)\n"
     ]
    },
    {
     "data": {
      "text/plain": [
       "EstimatedSalaryRounded\n",
       "0          42\n",
       "200000     42\n",
       "80000      87\n",
       "40000      87\n",
       "100000     89\n",
       "20000      92\n",
       "150000     94\n",
       "50000      98\n",
       "110000    100\n",
       "120000    104\n",
       "130000    104\n",
       "160000    104\n",
       "60000     106\n",
       "140000    106\n",
       "170000    107\n",
       "Name: EstimatedSalaryRounded, dtype: int64"
      ]
     },
     "metadata": {},
     "output_type": "display_data"
    },
    {
     "name": "stdout",
     "output_type": "stream",
     "text": [
      "\n",
      "BALANCE WITH THE MOST EXIT MEMBERS\n"
     ]
    },
    {
     "data": {
      "text/plain": [
       "EstimatedSalaryRounded\n",
       "150000     94\n",
       "50000      98\n",
       "110000    100\n",
       "120000    104\n",
       "130000    104\n",
       "160000    104\n",
       "60000     106\n",
       "140000    106\n",
       "170000    107\n",
       "10000     108\n",
       "70000     109\n",
       "190000    109\n",
       "30000     113\n",
       "90000     114\n",
       "180000    122\n",
       "Name: EstimatedSalaryRounded, dtype: int64"
      ]
     },
     "metadata": {},
     "output_type": "display_data"
    },
    {
     "data": {
      "image/png": "[encoded data removed]",
      "text/plain": [
       "<Figure size 800x400 with 1 Axes>"
      ]
     },
     "metadata": {},
     "output_type": "display_data"
    }
   ],
   "source": [
    "# Esimtated salary of exit members review\n",
    "# Create column rounding to the nearest 10000\n",
    "exit_members['EstimatedSalaryRounded'] = round(exit_members['EstimatedSalary'], -4).astype(int)\n",
    "\n",
    "# Group and sort by BalanceRounded\n",
    "print('BALANCE vs EXIT MEMBERS')\n",
    "exit_salary_group = exit_members.groupby('EstimatedSalaryRounded')['EstimatedSalaryRounded'].count()\n",
    "print()\n",
    "print('BALANCE WITH THE LEAST EXIT MEMBERS')\n",
    "display(exit_salary_group.sort_values().head(15))\n",
    "print()\n",
    "print('BALANCE WITH THE MOST EXIT MEMBERS')\n",
    "display(exit_salary_group.sort_values().tail(15))\n",
    "\n",
    "# Create bar chart for salary distribution\n",
    "exit_salary_group.plot(kind='bar', title='Salary distribution', figsize=(8,4))\n",
    "plt.ylabel('Count', fontsize=12)\n",
    "plt.xlabel('Salary', fontsize=12)\n",
    "plt.xticks(rotation=45, fontsize=8)\n",
    "plt.show()"
   ]
  },
  {
   "cell_type": "code",
   "execution_count": 8,
   "metadata": {},
   "outputs": [
    {
     "name": "stdout",
     "output_type": "stream",
     "text": [
      "TENURE vs EXIT MEMBERS\n"
     ]
    },
    {
     "data": {
      "text/plain": [
       "Tenure\n",
       "0.0      90\n",
       "10.0     92\n",
       "7.0     160\n",
       "8.0     174\n",
       "6.0     177\n",
       "4.0     184\n",
       "2.0     185\n",
       "5.0     187\n",
       "9.0     194\n",
       "3.0     198\n",
       "1.0     213\n",
       "Name: Tenure, dtype: int64"
      ]
     },
     "metadata": {},
     "output_type": "display_data"
    },
    {
     "data": {
      "image/png": "[encoded data removed]",
      "text/plain": [
       "<Figure size 800x400 with 1 Axes>"
      ]
     },
     "metadata": {},
     "output_type": "display_data"
    }
   ],
   "source": [
    "# Tenure of exit members review\n",
    "# Group and sort by Tenure\n",
    "print('TENURE vs EXIT MEMBERS')\n",
    "exit_tenure_group = exit_members.groupby('Tenure')['Tenure'].count()\n",
    "display(exit_tenure_group.sort_values())\n",
    "\n",
    "# Create bar chart for tenure distribution\n",
    "exit_tenure_group.plot(kind='bar', title='Tenure distribution', figsize=(8,4))\n",
    "plt.ylabel('Count', fontsize=12)\n",
    "plt.xlabel('Tenure', fontsize=12)\n",
    "plt.xticks(rotation=45, fontsize=8)\n",
    "plt.show()\n"
   ]
  },
  {
   "cell_type": "markdown",
   "metadata": {},
   "source": [
    "## Data preparation\n",
    "\n",
    "All the data types for the fields are correct. There could be an argument to convert the data type of the <mark><b>Tenure</b></mark> field from float to integer since there is no leading decimal information for any of the records. However, being float will not affect any future analysis or modeling, so it will be left as float.\n",
    "\n",
    "There are no duplicate rows in the dataset nor duplicate <mark><b>CustomerId</b></mark> values. It needed to be confirmed that there were no duplicate customers in the dataset, so the same customer wasn't analyzed more than once. No duplicates, no clean-up needed here.\n",
    "\n",
    "There are 909 missing values for the <mark><b>Tenure</b></mark> field. When looking at a small sample of records with missing <mark><b>Tenure</b></mark> values, there was no clear pattern identifying why there are missing values or what the cause may have been. However, removing the rows would be a substantial amount of the dataset, roughly 10%. Definitely do not want to do that as important information could be lost. So, the <font color='red'><b>median</b></font> of the <mark><b>Tenure</b></mark> field was gathered and the missing values were replaced with the mean (which was rounded to the nearest integer).\n",
    "\n",
    "Lastly, it was determined that a few columns in the dataset were not going to be useful in predicting which customers will leave the bank or not because the columns didn't provide much useful information. These columns are <mark><b>RowNumber</b></mark>, <mark><b>CustomerId</b></mark>, and <mark><b>Surname</b></mark>. Therefore, the columns have been removed from the dataset so they wouldn't be a part of the features in the model."
   ]
  },
  {
   "cell_type": "markdown",
   "metadata": {},
   "source": [
    "### Duplicate values"
   ]
  },
  {
   "cell_type": "code",
   "execution_count": 9,
   "metadata": {},
   "outputs": [
    {
     "name": "stdout",
     "output_type": "stream",
     "text": [
      "Duplicate rows: 0\n",
      "\n",
      "Duplicate CustomerIds: Empty DataFrame\n",
      "Columns: [RowNumber, CustomerId, Surname, CreditScore, Geography, Gender, Age, Tenure, Balance, NumOfProducts, HasCrCard, IsActiveMember, EstimatedSalary, Exited]\n",
      "Index: []\n"
     ]
    }
   ],
   "source": [
    "# Check for duplicate rows and duplicate CustomerIds\n",
    "print('Duplicate rows:', data.duplicated().sum())\n",
    "print()\n",
    "print('Duplicate CustomerIds:', data[data.duplicated(subset=['CustomerId'])])"
   ]
  },
  {
   "cell_type": "markdown",
   "metadata": {},
   "source": [
    "### Missing values"
   ]
  },
  {
   "cell_type": "code",
   "execution_count": 10,
   "metadata": {},
   "outputs": [
    {
     "data": {
      "text/plain": [
       "array([ 2.,  1.,  8.,  7.,  4.,  6.,  3., 10.,  5.,  9.,  0., nan])"
      ]
     },
     "metadata": {},
     "output_type": "display_data"
    },
    {
     "name": "stdout",
     "output_type": "stream",
     "text": [
      "\n",
      "Total number of missing values for Tenure field: 909\n"
     ]
    },
    {
     "data": {
      "text/html": [
       "<div>\n",
       "<style scoped>\n",
       "    .dataframe tbody tr th:only-of-type {\n",
       "        vertical-align: middle;\n",
       "    }\n",
       "\n",
       "    .dataframe tbody tr th {\n",
       "        vertical-align: top;\n",
       "    }\n",
       "\n",
       "    .dataframe thead th {\n",
       "        text-align: right;\n",
       "    }\n",
       "</style>\n",
       "<table border=\"1\" class=\"dataframe\">\n",
       "  <thead>\n",
       "    <tr style=\"text-align: right;\">\n",
       "      <th></th>\n",
       "      <th>RowNumber</th>\n",
       "      <th>CustomerId</th>\n",
       "      <th>Surname</th>\n",
       "      <th>CreditScore</th>\n",
       "      <th>Geography</th>\n",
       "      <th>Gender</th>\n",
       "      <th>Age</th>\n",
       "      <th>Tenure</th>\n",
       "      <th>Balance</th>\n",
       "      <th>NumOfProducts</th>\n",
       "      <th>HasCrCard</th>\n",
       "      <th>IsActiveMember</th>\n",
       "      <th>EstimatedSalary</th>\n",
       "      <th>Exited</th>\n",
       "    </tr>\n",
       "  </thead>\n",
       "  <tbody>\n",
       "    <tr>\n",
       "      <th>6954</th>\n",
       "      <td>6955</td>\n",
       "      <td>15799042</td>\n",
       "      <td>Zaytseva</td>\n",
       "      <td>611</td>\n",
       "      <td>France</td>\n",
       "      <td>Male</td>\n",
       "      <td>38</td>\n",
       "      <td>NaN</td>\n",
       "      <td>0.00</td>\n",
       "      <td>1</td>\n",
       "      <td>1</td>\n",
       "      <td>1</td>\n",
       "      <td>63202.00</td>\n",
       "      <td>0</td>\n",
       "    </tr>\n",
       "    <tr>\n",
       "      <th>7274</th>\n",
       "      <td>7275</td>\n",
       "      <td>15680901</td>\n",
       "      <td>Potter</td>\n",
       "      <td>652</td>\n",
       "      <td>France</td>\n",
       "      <td>Female</td>\n",
       "      <td>34</td>\n",
       "      <td>NaN</td>\n",
       "      <td>97435.85</td>\n",
       "      <td>2</td>\n",
       "      <td>1</td>\n",
       "      <td>1</td>\n",
       "      <td>104331.76</td>\n",
       "      <td>0</td>\n",
       "    </tr>\n",
       "    <tr>\n",
       "      <th>6655</th>\n",
       "      <td>6656</td>\n",
       "      <td>15703763</td>\n",
       "      <td>Sanderson</td>\n",
       "      <td>554</td>\n",
       "      <td>France</td>\n",
       "      <td>Male</td>\n",
       "      <td>44</td>\n",
       "      <td>NaN</td>\n",
       "      <td>85304.27</td>\n",
       "      <td>1</td>\n",
       "      <td>1</td>\n",
       "      <td>1</td>\n",
       "      <td>58076.52</td>\n",
       "      <td>0</td>\n",
       "    </tr>\n",
       "    <tr>\n",
       "      <th>2577</th>\n",
       "      <td>2578</td>\n",
       "      <td>15724145</td>\n",
       "      <td>William</td>\n",
       "      <td>616</td>\n",
       "      <td>Germany</td>\n",
       "      <td>Male</td>\n",
       "      <td>29</td>\n",
       "      <td>NaN</td>\n",
       "      <td>149318.55</td>\n",
       "      <td>1</td>\n",
       "      <td>1</td>\n",
       "      <td>0</td>\n",
       "      <td>140746.13</td>\n",
       "      <td>0</td>\n",
       "    </tr>\n",
       "    <tr>\n",
       "      <th>7708</th>\n",
       "      <td>7709</td>\n",
       "      <td>15675650</td>\n",
       "      <td>Duncan</td>\n",
       "      <td>486</td>\n",
       "      <td>France</td>\n",
       "      <td>Female</td>\n",
       "      <td>39</td>\n",
       "      <td>NaN</td>\n",
       "      <td>97819.36</td>\n",
       "      <td>1</td>\n",
       "      <td>0</td>\n",
       "      <td>1</td>\n",
       "      <td>120531.31</td>\n",
       "      <td>0</td>\n",
       "    </tr>\n",
       "    <tr>\n",
       "      <th>6608</th>\n",
       "      <td>6609</td>\n",
       "      <td>15576000</td>\n",
       "      <td>Chibueze</td>\n",
       "      <td>765</td>\n",
       "      <td>France</td>\n",
       "      <td>Male</td>\n",
       "      <td>40</td>\n",
       "      <td>NaN</td>\n",
       "      <td>138033.55</td>\n",
       "      <td>1</td>\n",
       "      <td>1</td>\n",
       "      <td>1</td>\n",
       "      <td>67972.45</td>\n",
       "      <td>0</td>\n",
       "    </tr>\n",
       "    <tr>\n",
       "      <th>9178</th>\n",
       "      <td>9179</td>\n",
       "      <td>15645637</td>\n",
       "      <td>Huggins</td>\n",
       "      <td>798</td>\n",
       "      <td>Germany</td>\n",
       "      <td>Female</td>\n",
       "      <td>39</td>\n",
       "      <td>NaN</td>\n",
       "      <td>119787.76</td>\n",
       "      <td>1</td>\n",
       "      <td>1</td>\n",
       "      <td>1</td>\n",
       "      <td>164248.33</td>\n",
       "      <td>0</td>\n",
       "    </tr>\n",
       "    <tr>\n",
       "      <th>846</th>\n",
       "      <td>847</td>\n",
       "      <td>15608968</td>\n",
       "      <td>Averyanov</td>\n",
       "      <td>714</td>\n",
       "      <td>Germany</td>\n",
       "      <td>Male</td>\n",
       "      <td>21</td>\n",
       "      <td>NaN</td>\n",
       "      <td>86402.52</td>\n",
       "      <td>2</td>\n",
       "      <td>0</td>\n",
       "      <td>0</td>\n",
       "      <td>27330.59</td>\n",
       "      <td>0</td>\n",
       "    </tr>\n",
       "    <tr>\n",
       "      <th>3011</th>\n",
       "      <td>3012</td>\n",
       "      <td>15773447</td>\n",
       "      <td>Fomin</td>\n",
       "      <td>526</td>\n",
       "      <td>Spain</td>\n",
       "      <td>Male</td>\n",
       "      <td>30</td>\n",
       "      <td>NaN</td>\n",
       "      <td>0.00</td>\n",
       "      <td>1</td>\n",
       "      <td>1</td>\n",
       "      <td>0</td>\n",
       "      <td>36251.00</td>\n",
       "      <td>0</td>\n",
       "    </tr>\n",
       "    <tr>\n",
       "      <th>5880</th>\n",
       "      <td>5881</td>\n",
       "      <td>15718231</td>\n",
       "      <td>Gregory</td>\n",
       "      <td>537</td>\n",
       "      <td>France</td>\n",
       "      <td>Male</td>\n",
       "      <td>28</td>\n",
       "      <td>NaN</td>\n",
       "      <td>88963.31</td>\n",
       "      <td>2</td>\n",
       "      <td>1</td>\n",
       "      <td>1</td>\n",
       "      <td>189839.93</td>\n",
       "      <td>0</td>\n",
       "    </tr>\n",
       "    <tr>\n",
       "      <th>7026</th>\n",
       "      <td>7027</td>\n",
       "      <td>15588123</td>\n",
       "      <td>Horton</td>\n",
       "      <td>677</td>\n",
       "      <td>France</td>\n",
       "      <td>Female</td>\n",
       "      <td>27</td>\n",
       "      <td>NaN</td>\n",
       "      <td>0.00</td>\n",
       "      <td>2</td>\n",
       "      <td>0</td>\n",
       "      <td>1</td>\n",
       "      <td>114685.92</td>\n",
       "      <td>0</td>\n",
       "    </tr>\n",
       "    <tr>\n",
       "      <th>6665</th>\n",
       "      <td>6666</td>\n",
       "      <td>15599024</td>\n",
       "      <td>Hope</td>\n",
       "      <td>506</td>\n",
       "      <td>Spain</td>\n",
       "      <td>Male</td>\n",
       "      <td>32</td>\n",
       "      <td>NaN</td>\n",
       "      <td>0.00</td>\n",
       "      <td>2</td>\n",
       "      <td>0</td>\n",
       "      <td>1</td>\n",
       "      <td>182692.80</td>\n",
       "      <td>0</td>\n",
       "    </tr>\n",
       "    <tr>\n",
       "      <th>1204</th>\n",
       "      <td>1205</td>\n",
       "      <td>15650098</td>\n",
       "      <td>Baranova</td>\n",
       "      <td>630</td>\n",
       "      <td>France</td>\n",
       "      <td>Female</td>\n",
       "      <td>40</td>\n",
       "      <td>NaN</td>\n",
       "      <td>0.00</td>\n",
       "      <td>2</td>\n",
       "      <td>1</td>\n",
       "      <td>1</td>\n",
       "      <td>34453.17</td>\n",
       "      <td>0</td>\n",
       "    </tr>\n",
       "    <tr>\n",
       "      <th>2131</th>\n",
       "      <td>2132</td>\n",
       "      <td>15792660</td>\n",
       "      <td>Gibbons</td>\n",
       "      <td>614</td>\n",
       "      <td>France</td>\n",
       "      <td>Male</td>\n",
       "      <td>38</td>\n",
       "      <td>NaN</td>\n",
       "      <td>116248.88</td>\n",
       "      <td>1</td>\n",
       "      <td>1</td>\n",
       "      <td>0</td>\n",
       "      <td>105140.92</td>\n",
       "      <td>0</td>\n",
       "    </tr>\n",
       "    <tr>\n",
       "      <th>6690</th>\n",
       "      <td>6691</td>\n",
       "      <td>15579223</td>\n",
       "      <td>Niu</td>\n",
       "      <td>573</td>\n",
       "      <td>Germany</td>\n",
       "      <td>Male</td>\n",
       "      <td>30</td>\n",
       "      <td>NaN</td>\n",
       "      <td>127406.50</td>\n",
       "      <td>1</td>\n",
       "      <td>1</td>\n",
       "      <td>0</td>\n",
       "      <td>192950.60</td>\n",
       "      <td>0</td>\n",
       "    </tr>\n",
       "  </tbody>\n",
       "</table>\n",
       "</div>"
      ],
      "text/plain": [
       "      RowNumber  CustomerId    Surname  CreditScore Geography  Gender  Age  \\\n",
       "6954       6955    15799042   Zaytseva          611    France    Male   38   \n",
       "7274       7275    15680901     Potter          652    France  Female   34   \n",
       "6655       6656    15703763  Sanderson          554    France    Male   44   \n",
       "2577       2578    15724145    William          616   Germany    Male   29   \n",
       "7708       7709    15675650     Duncan          486    France  Female   39   \n",
       "6608       6609    15576000   Chibueze          765    France    Male   40   \n",
       "9178       9179    15645637    Huggins          798   Germany  Female   39   \n",
       "846         847    15608968  Averyanov          714   Germany    Male   21   \n",
       "3011       3012    15773447      Fomin          526     Spain    Male   30   \n",
       "5880       5881    15718231    Gregory          537    France    Male   28   \n",
       "7026       7027    15588123     Horton          677    France  Female   27   \n",
       "6665       6666    15599024       Hope          506     Spain    Male   32   \n",
       "1204       1205    15650098   Baranova          630    France  Female   40   \n",
       "2131       2132    15792660    Gibbons          614    France    Male   38   \n",
       "6690       6691    15579223        Niu          573   Germany    Male   30   \n",
       "\n",
       "      Tenure    Balance  NumOfProducts  HasCrCard  IsActiveMember  \\\n",
       "6954     NaN       0.00              1          1               1   \n",
       "7274     NaN   97435.85              2          1               1   \n",
       "6655     NaN   85304.27              1          1               1   \n",
       "2577     NaN  149318.55              1          1               0   \n",
       "7708     NaN   97819.36              1          0               1   \n",
       "6608     NaN  138033.55              1          1               1   \n",
       "9178     NaN  119787.76              1          1               1   \n",
       "846      NaN   86402.52              2          0               0   \n",
       "3011     NaN       0.00              1          1               0   \n",
       "5880     NaN   88963.31              2          1               1   \n",
       "7026     NaN       0.00              2          0               1   \n",
       "6665     NaN       0.00              2          0               1   \n",
       "1204     NaN       0.00              2          1               1   \n",
       "2131     NaN  116248.88              1          1               0   \n",
       "6690     NaN  127406.50              1          1               0   \n",
       "\n",
       "      EstimatedSalary  Exited  \n",
       "6954         63202.00       0  \n",
       "7274        104331.76       0  \n",
       "6655         58076.52       0  \n",
       "2577        140746.13       0  \n",
       "7708        120531.31       0  \n",
       "6608         67972.45       0  \n",
       "9178        164248.33       0  \n",
       "846          27330.59       0  \n",
       "3011         36251.00       0  \n",
       "5880        189839.93       0  \n",
       "7026        114685.92       0  \n",
       "6665        182692.80       0  \n",
       "1204         34453.17       0  \n",
       "2131        105140.92       0  \n",
       "6690        192950.60       0  "
      ]
     },
     "metadata": {},
     "output_type": "display_data"
    }
   ],
   "source": [
    "# Retrieve unique values for Tenure\n",
    "display(data['Tenure'].unique())\n",
    "print()\n",
    "\n",
    "# Retrieve missing value counts and display a table output of the records\n",
    "print('Total number of missing values for Tenure field:', data['Tenure'].isna().sum())\n",
    "display(data[data['Tenure'].isna()].sample(15))\n"
   ]
  },
  {
   "cell_type": "code",
   "execution_count": 11,
   "metadata": {},
   "outputs": [
    {
     "name": "stdout",
     "output_type": "stream",
     "text": [
      "\n",
      "Total number of missing values for Tenure field: 0\n"
     ]
    }
   ],
   "source": [
    "# Find the mean of Tenure field\n",
    "tenure_median = data['Tenure'].median().round()\n",
    "\n",
    "# Fill NA values\n",
    "data['Tenure'] = data['Tenure'].fillna(tenure_median)\n",
    "\n",
    "# Verify no NA values exist\n",
    "print()\n",
    "print('Total number of missing values for Tenure field:', data['Tenure'].isna().sum())"
   ]
  },
  {
   "cell_type": "markdown",
   "metadata": {},
   "source": [
    "### Column engineering"
   ]
  },
  {
   "cell_type": "code",
   "execution_count": 12,
   "metadata": {},
   "outputs": [
    {
     "data": {
      "text/html": [
       "<div>\n",
       "<style scoped>\n",
       "    .dataframe tbody tr th:only-of-type {\n",
       "        vertical-align: middle;\n",
       "    }\n",
       "\n",
       "    .dataframe tbody tr th {\n",
       "        vertical-align: top;\n",
       "    }\n",
       "\n",
       "    .dataframe thead th {\n",
       "        text-align: right;\n",
       "    }\n",
       "</style>\n",
       "<table border=\"1\" class=\"dataframe\">\n",
       "  <thead>\n",
       "    <tr style=\"text-align: right;\">\n",
       "      <th></th>\n",
       "      <th>CreditScore</th>\n",
       "      <th>Geography</th>\n",
       "      <th>Gender</th>\n",
       "      <th>Age</th>\n",
       "      <th>Tenure</th>\n",
       "      <th>Balance</th>\n",
       "      <th>NumOfProducts</th>\n",
       "      <th>HasCrCard</th>\n",
       "      <th>IsActiveMember</th>\n",
       "      <th>EstimatedSalary</th>\n",
       "      <th>Exited</th>\n",
       "    </tr>\n",
       "  </thead>\n",
       "  <tbody>\n",
       "    <tr>\n",
       "      <th>0</th>\n",
       "      <td>619</td>\n",
       "      <td>France</td>\n",
       "      <td>Female</td>\n",
       "      <td>42</td>\n",
       "      <td>2.0</td>\n",
       "      <td>0.00</td>\n",
       "      <td>1</td>\n",
       "      <td>1</td>\n",
       "      <td>1</td>\n",
       "      <td>101348.88</td>\n",
       "      <td>1</td>\n",
       "    </tr>\n",
       "    <tr>\n",
       "      <th>1</th>\n",
       "      <td>608</td>\n",
       "      <td>Spain</td>\n",
       "      <td>Female</td>\n",
       "      <td>41</td>\n",
       "      <td>1.0</td>\n",
       "      <td>83807.86</td>\n",
       "      <td>1</td>\n",
       "      <td>0</td>\n",
       "      <td>1</td>\n",
       "      <td>112542.58</td>\n",
       "      <td>0</td>\n",
       "    </tr>\n",
       "    <tr>\n",
       "      <th>2</th>\n",
       "      <td>502</td>\n",
       "      <td>France</td>\n",
       "      <td>Female</td>\n",
       "      <td>42</td>\n",
       "      <td>8.0</td>\n",
       "      <td>159660.80</td>\n",
       "      <td>3</td>\n",
       "      <td>1</td>\n",
       "      <td>0</td>\n",
       "      <td>113931.57</td>\n",
       "      <td>1</td>\n",
       "    </tr>\n",
       "    <tr>\n",
       "      <th>3</th>\n",
       "      <td>699</td>\n",
       "      <td>France</td>\n",
       "      <td>Female</td>\n",
       "      <td>39</td>\n",
       "      <td>1.0</td>\n",
       "      <td>0.00</td>\n",
       "      <td>2</td>\n",
       "      <td>0</td>\n",
       "      <td>0</td>\n",
       "      <td>93826.63</td>\n",
       "      <td>0</td>\n",
       "    </tr>\n",
       "    <tr>\n",
       "      <th>4</th>\n",
       "      <td>850</td>\n",
       "      <td>Spain</td>\n",
       "      <td>Female</td>\n",
       "      <td>43</td>\n",
       "      <td>2.0</td>\n",
       "      <td>125510.82</td>\n",
       "      <td>1</td>\n",
       "      <td>1</td>\n",
       "      <td>1</td>\n",
       "      <td>79084.10</td>\n",
       "      <td>0</td>\n",
       "    </tr>\n",
       "  </tbody>\n",
       "</table>\n",
       "</div>"
      ],
      "text/plain": [
       "   CreditScore Geography  Gender  Age  Tenure    Balance  NumOfProducts  \\\n",
       "0          619    France  Female   42     2.0       0.00              1   \n",
       "1          608     Spain  Female   41     1.0   83807.86              1   \n",
       "2          502    France  Female   42     8.0  159660.80              3   \n",
       "3          699    France  Female   39     1.0       0.00              2   \n",
       "4          850     Spain  Female   43     2.0  125510.82              1   \n",
       "\n",
       "   HasCrCard  IsActiveMember  EstimatedSalary  Exited  \n",
       "0          1               1        101348.88       1  \n",
       "1          0               1        112542.58       0  \n",
       "2          1               0        113931.57       1  \n",
       "3          0               0         93826.63       0  \n",
       "4          1               1         79084.10       0  "
      ]
     },
     "metadata": {},
     "output_type": "display_data"
    }
   ],
   "source": [
    "# Drop RowNumber, CustomerId, and Surname columns\n",
    "data = data.drop(['RowNumber', 'CustomerId', 'Surname'], axis=1)\n",
    "display(data.head())"
   ]
  },
  {
   "cell_type": "markdown",
   "metadata": {},
   "source": [
    "## Model preparation and data preprocessing\n",
    "\n",
    "Two different learning algorithms will be used to determine the best model for determining which members are to exit Beta Bank and which members will not exit. The learning algorithms are a <b><u>random forest</u></b> classification and a <b><u>logistic regression</u></b>.\n",
    "\n",
    "Before the models are created, analyzed, and fine-tuned, the data first needs to be transformed from its raw data form into a clean, more structured format so the models can better understand the data and yield better results. Raw data in a machine learning model can be sometimes inconsistent and even result in prediction inaccuarcies. In addition to these preprocessing steps, there are certain model setup steps that needed to be performed before the models could even be trained.\n",
    "\n",
    "Data preprocessing steps included categorical encoding and feature scaling / standardization. Model setup steps included defining the features and target from the dataset and spliting the data into 3 different datasets: <b>training</b>, <b>validation</b>, and <b>test</b>."
   ]
  },
  {
   "cell_type": "markdown",
   "metadata": {},
   "source": [
    "### Categorical encoding\n",
    "\n",
    "The categorical features in the dataset need to be transformed into numerical features so the machine learning algorithms can easily understand and process the data. This applies to both the <b>random forest</b> and <b>logistic regression</b> algorithms.\n",
    "\n",
    "During much research, it was found that there were many opinions on how to properly encode a random forest learning algorithm. Some opinions stated that one-hot encoding is preferred (unless there are many categories / features), others recommended label encoding, and even others stated that encoding is not needed at all. Therefore, it was decided that <b><font color='red'>two</font></b> different models will be trained for the random forest algorithm; one representing features that undergo data encoding and one representing features that undergo label encoding. This will determine if there are any major differences in how the model learns between the two different encoding techniques. For logistic regression, one-hot encoding will be utilized. \n",
    "\n",
    "So to summarize, there are 3 different models that will be initially trained and analyzed during the first run analysis: random forest via one-hot encoding, random forest via label encoding, logistic regression via label encoding."
   ]
  },
  {
   "cell_type": "code",
   "execution_count": 13,
   "metadata": {},
   "outputs": [
    {
     "data": {
      "text/html": [
       "<div>\n",
       "<style scoped>\n",
       "    .dataframe tbody tr th:only-of-type {\n",
       "        vertical-align: middle;\n",
       "    }\n",
       "\n",
       "    .dataframe tbody tr th {\n",
       "        vertical-align: top;\n",
       "    }\n",
       "\n",
       "    .dataframe thead th {\n",
       "        text-align: right;\n",
       "    }\n",
       "</style>\n",
       "<table border=\"1\" class=\"dataframe\">\n",
       "  <thead>\n",
       "    <tr style=\"text-align: right;\">\n",
       "      <th></th>\n",
       "      <th>CreditScore</th>\n",
       "      <th>Age</th>\n",
       "      <th>Tenure</th>\n",
       "      <th>Balance</th>\n",
       "      <th>NumOfProducts</th>\n",
       "      <th>HasCrCard</th>\n",
       "      <th>IsActiveMember</th>\n",
       "      <th>EstimatedSalary</th>\n",
       "      <th>Exited</th>\n",
       "      <th>Geography_Germany</th>\n",
       "      <th>Geography_Spain</th>\n",
       "      <th>Gender_Male</th>\n",
       "    </tr>\n",
       "  </thead>\n",
       "  <tbody>\n",
       "    <tr>\n",
       "      <th>0</th>\n",
       "      <td>619</td>\n",
       "      <td>42</td>\n",
       "      <td>2.0</td>\n",
       "      <td>0.00</td>\n",
       "      <td>1</td>\n",
       "      <td>1</td>\n",
       "      <td>1</td>\n",
       "      <td>101348.88</td>\n",
       "      <td>1</td>\n",
       "      <td>0</td>\n",
       "      <td>0</td>\n",
       "      <td>0</td>\n",
       "    </tr>\n",
       "    <tr>\n",
       "      <th>1</th>\n",
       "      <td>608</td>\n",
       "      <td>41</td>\n",
       "      <td>1.0</td>\n",
       "      <td>83807.86</td>\n",
       "      <td>1</td>\n",
       "      <td>0</td>\n",
       "      <td>1</td>\n",
       "      <td>112542.58</td>\n",
       "      <td>0</td>\n",
       "      <td>0</td>\n",
       "      <td>1</td>\n",
       "      <td>0</td>\n",
       "    </tr>\n",
       "    <tr>\n",
       "      <th>2</th>\n",
       "      <td>502</td>\n",
       "      <td>42</td>\n",
       "      <td>8.0</td>\n",
       "      <td>159660.80</td>\n",
       "      <td>3</td>\n",
       "      <td>1</td>\n",
       "      <td>0</td>\n",
       "      <td>113931.57</td>\n",
       "      <td>1</td>\n",
       "      <td>0</td>\n",
       "      <td>0</td>\n",
       "      <td>0</td>\n",
       "    </tr>\n",
       "    <tr>\n",
       "      <th>3</th>\n",
       "      <td>699</td>\n",
       "      <td>39</td>\n",
       "      <td>1.0</td>\n",
       "      <td>0.00</td>\n",
       "      <td>2</td>\n",
       "      <td>0</td>\n",
       "      <td>0</td>\n",
       "      <td>93826.63</td>\n",
       "      <td>0</td>\n",
       "      <td>0</td>\n",
       "      <td>0</td>\n",
       "      <td>0</td>\n",
       "    </tr>\n",
       "    <tr>\n",
       "      <th>4</th>\n",
       "      <td>850</td>\n",
       "      <td>43</td>\n",
       "      <td>2.0</td>\n",
       "      <td>125510.82</td>\n",
       "      <td>1</td>\n",
       "      <td>1</td>\n",
       "      <td>1</td>\n",
       "      <td>79084.10</td>\n",
       "      <td>0</td>\n",
       "      <td>0</td>\n",
       "      <td>1</td>\n",
       "      <td>0</td>\n",
       "    </tr>\n",
       "    <tr>\n",
       "      <th>...</th>\n",
       "      <td>...</td>\n",
       "      <td>...</td>\n",
       "      <td>...</td>\n",
       "      <td>...</td>\n",
       "      <td>...</td>\n",
       "      <td>...</td>\n",
       "      <td>...</td>\n",
       "      <td>...</td>\n",
       "      <td>...</td>\n",
       "      <td>...</td>\n",
       "      <td>...</td>\n",
       "      <td>...</td>\n",
       "    </tr>\n",
       "    <tr>\n",
       "      <th>9995</th>\n",
       "      <td>771</td>\n",
       "      <td>39</td>\n",
       "      <td>5.0</td>\n",
       "      <td>0.00</td>\n",
       "      <td>2</td>\n",
       "      <td>1</td>\n",
       "      <td>0</td>\n",
       "      <td>96270.64</td>\n",
       "      <td>0</td>\n",
       "      <td>0</td>\n",
       "      <td>0</td>\n",
       "      <td>1</td>\n",
       "    </tr>\n",
       "    <tr>\n",
       "      <th>9996</th>\n",
       "      <td>516</td>\n",
       "      <td>35</td>\n",
       "      <td>10.0</td>\n",
       "      <td>57369.61</td>\n",
       "      <td>1</td>\n",
       "      <td>1</td>\n",
       "      <td>1</td>\n",
       "      <td>101699.77</td>\n",
       "      <td>0</td>\n",
       "      <td>0</td>\n",
       "      <td>0</td>\n",
       "      <td>1</td>\n",
       "    </tr>\n",
       "    <tr>\n",
       "      <th>9997</th>\n",
       "      <td>709</td>\n",
       "      <td>36</td>\n",
       "      <td>7.0</td>\n",
       "      <td>0.00</td>\n",
       "      <td>1</td>\n",
       "      <td>0</td>\n",
       "      <td>1</td>\n",
       "      <td>42085.58</td>\n",
       "      <td>1</td>\n",
       "      <td>0</td>\n",
       "      <td>0</td>\n",
       "      <td>0</td>\n",
       "    </tr>\n",
       "    <tr>\n",
       "      <th>9998</th>\n",
       "      <td>772</td>\n",
       "      <td>42</td>\n",
       "      <td>3.0</td>\n",
       "      <td>75075.31</td>\n",
       "      <td>2</td>\n",
       "      <td>1</td>\n",
       "      <td>0</td>\n",
       "      <td>92888.52</td>\n",
       "      <td>1</td>\n",
       "      <td>1</td>\n",
       "      <td>0</td>\n",
       "      <td>1</td>\n",
       "    </tr>\n",
       "    <tr>\n",
       "      <th>9999</th>\n",
       "      <td>792</td>\n",
       "      <td>28</td>\n",
       "      <td>5.0</td>\n",
       "      <td>130142.79</td>\n",
       "      <td>1</td>\n",
       "      <td>1</td>\n",
       "      <td>0</td>\n",
       "      <td>38190.78</td>\n",
       "      <td>0</td>\n",
       "      <td>0</td>\n",
       "      <td>0</td>\n",
       "      <td>0</td>\n",
       "    </tr>\n",
       "  </tbody>\n",
       "</table>\n",
       "<p>10000 rows × 12 columns</p>\n",
       "</div>"
      ],
      "text/plain": [
       "      CreditScore  Age  Tenure    Balance  NumOfProducts  HasCrCard  \\\n",
       "0             619   42     2.0       0.00              1          1   \n",
       "1             608   41     1.0   83807.86              1          0   \n",
       "2             502   42     8.0  159660.80              3          1   \n",
       "3             699   39     1.0       0.00              2          0   \n",
       "4             850   43     2.0  125510.82              1          1   \n",
       "...           ...  ...     ...        ...            ...        ...   \n",
       "9995          771   39     5.0       0.00              2          1   \n",
       "9996          516   35    10.0   57369.61              1          1   \n",
       "9997          709   36     7.0       0.00              1          0   \n",
       "9998          772   42     3.0   75075.31              2          1   \n",
       "9999          792   28     5.0  130142.79              1          1   \n",
       "\n",
       "      IsActiveMember  EstimatedSalary  Exited  Geography_Germany  \\\n",
       "0                  1        101348.88       1                  0   \n",
       "1                  1        112542.58       0                  0   \n",
       "2                  0        113931.57       1                  0   \n",
       "3                  0         93826.63       0                  0   \n",
       "4                  1         79084.10       0                  0   \n",
       "...              ...              ...     ...                ...   \n",
       "9995               0         96270.64       0                  0   \n",
       "9996               1        101699.77       0                  0   \n",
       "9997               1         42085.58       1                  0   \n",
       "9998               0         92888.52       1                  1   \n",
       "9999               0         38190.78       0                  0   \n",
       "\n",
       "      Geography_Spain  Gender_Male  \n",
       "0                   0            0  \n",
       "1                   1            0  \n",
       "2                   0            0  \n",
       "3                   0            0  \n",
       "4                   1            0  \n",
       "...               ...          ...  \n",
       "9995                0            1  \n",
       "9996                0            1  \n",
       "9997                0            0  \n",
       "9998                0            1  \n",
       "9999                0            0  \n",
       "\n",
       "[10000 rows x 12 columns]"
      ]
     },
     "metadata": {},
     "output_type": "display_data"
    },
    {
     "data": {
      "text/html": [
       "<div>\n",
       "<style scoped>\n",
       "    .dataframe tbody tr th:only-of-type {\n",
       "        vertical-align: middle;\n",
       "    }\n",
       "\n",
       "    .dataframe tbody tr th {\n",
       "        vertical-align: top;\n",
       "    }\n",
       "\n",
       "    .dataframe thead th {\n",
       "        text-align: right;\n",
       "    }\n",
       "</style>\n",
       "<table border=\"1\" class=\"dataframe\">\n",
       "  <thead>\n",
       "    <tr style=\"text-align: right;\">\n",
       "      <th></th>\n",
       "      <th>CreditScore</th>\n",
       "      <th>Geography</th>\n",
       "      <th>Gender</th>\n",
       "      <th>Age</th>\n",
       "      <th>Tenure</th>\n",
       "      <th>Balance</th>\n",
       "      <th>NumOfProducts</th>\n",
       "      <th>HasCrCard</th>\n",
       "      <th>IsActiveMember</th>\n",
       "      <th>EstimatedSalary</th>\n",
       "      <th>Exited</th>\n",
       "    </tr>\n",
       "  </thead>\n",
       "  <tbody>\n",
       "    <tr>\n",
       "      <th>0</th>\n",
       "      <td>228.0</td>\n",
       "      <td>0.0</td>\n",
       "      <td>0.0</td>\n",
       "      <td>24.0</td>\n",
       "      <td>2.0</td>\n",
       "      <td>0.0</td>\n",
       "      <td>0.0</td>\n",
       "      <td>1.0</td>\n",
       "      <td>1.0</td>\n",
       "      <td>5068.0</td>\n",
       "      <td>1.0</td>\n",
       "    </tr>\n",
       "    <tr>\n",
       "      <th>1</th>\n",
       "      <td>217.0</td>\n",
       "      <td>2.0</td>\n",
       "      <td>0.0</td>\n",
       "      <td>23.0</td>\n",
       "      <td>1.0</td>\n",
       "      <td>743.0</td>\n",
       "      <td>0.0</td>\n",
       "      <td>0.0</td>\n",
       "      <td>1.0</td>\n",
       "      <td>5639.0</td>\n",
       "      <td>0.0</td>\n",
       "    </tr>\n",
       "    <tr>\n",
       "      <th>2</th>\n",
       "      <td>111.0</td>\n",
       "      <td>0.0</td>\n",
       "      <td>0.0</td>\n",
       "      <td>24.0</td>\n",
       "      <td>8.0</td>\n",
       "      <td>5793.0</td>\n",
       "      <td>2.0</td>\n",
       "      <td>1.0</td>\n",
       "      <td>0.0</td>\n",
       "      <td>5707.0</td>\n",
       "      <td>1.0</td>\n",
       "    </tr>\n",
       "    <tr>\n",
       "      <th>3</th>\n",
       "      <td>308.0</td>\n",
       "      <td>0.0</td>\n",
       "      <td>0.0</td>\n",
       "      <td>21.0</td>\n",
       "      <td>1.0</td>\n",
       "      <td>0.0</td>\n",
       "      <td>1.0</td>\n",
       "      <td>0.0</td>\n",
       "      <td>0.0</td>\n",
       "      <td>4704.0</td>\n",
       "      <td>0.0</td>\n",
       "    </tr>\n",
       "    <tr>\n",
       "      <th>4</th>\n",
       "      <td>459.0</td>\n",
       "      <td>2.0</td>\n",
       "      <td>0.0</td>\n",
       "      <td>25.0</td>\n",
       "      <td>2.0</td>\n",
       "      <td>3696.0</td>\n",
       "      <td>0.0</td>\n",
       "      <td>1.0</td>\n",
       "      <td>1.0</td>\n",
       "      <td>3925.0</td>\n",
       "      <td>0.0</td>\n",
       "    </tr>\n",
       "  </tbody>\n",
       "</table>\n",
       "</div>"
      ],
      "text/plain": [
       "   CreditScore  Geography  Gender   Age  Tenure  Balance  NumOfProducts  \\\n",
       "0        228.0        0.0     0.0  24.0     2.0      0.0            0.0   \n",
       "1        217.0        2.0     0.0  23.0     1.0    743.0            0.0   \n",
       "2        111.0        0.0     0.0  24.0     8.0   5793.0            2.0   \n",
       "3        308.0        0.0     0.0  21.0     1.0      0.0            1.0   \n",
       "4        459.0        2.0     0.0  25.0     2.0   3696.0            0.0   \n",
       "\n",
       "   HasCrCard  IsActiveMember  EstimatedSalary  Exited  \n",
       "0        1.0             1.0           5068.0     1.0  \n",
       "1        0.0             1.0           5639.0     0.0  \n",
       "2        1.0             0.0           5707.0     1.0  \n",
       "3        0.0             0.0           4704.0     0.0  \n",
       "4        1.0             1.0           3925.0     0.0  "
      ]
     },
     "metadata": {},
     "output_type": "display_data"
    }
   ],
   "source": [
    "# Transform categorical features to numerical features (for random forest and logistic regression)\n",
    "data_ohe = pd.get_dummies(data, drop_first=True)\n",
    "display(data_ohe)\n",
    "\n",
    "# Transform categorical features to numerical features (for random forest)\n",
    "encoder = OrdinalEncoder()\n",
    "data_labels = pd.DataFrame(encoder.fit_transform(data), columns=data.columns)\n",
    "display(data_labels.head())"
   ]
  },
  {
   "cell_type": "markdown",
   "metadata": {},
   "source": [
    "### Training, validation, and test datasets\n",
    "\n",
    "Now that the data is properly encoded, validation and test datasets can be created for analyzing and evaluating the quality of the models. The dataset was the first split into a training and test dataset with a test size of 80 / 20. Then the new training dataset was split into a validation dataset with a test size of 75 / 25. This resulted in a ratio of 3:1:1, or 60%, 20%, 20% (ie training, validation, test). These sizes and splits ensure that we have enough data to evaluate the models with, but still provides most of the data to training the model itself.\n",
    "\n",
    "<b>NOTE</b>: As stated above, given that two different encoding techniques are being used during initial training and analysis, there are two sets of datasets. One set representing features that underwent one-hot encoding: <b><font color='red'>data_ohe</font></b>. The other represents features that underwent label encoding: <b><font color='red'>data_labels</font></b>."
   ]
  },
  {
   "cell_type": "code",
   "execution_count": 14,
   "metadata": {},
   "outputs": [],
   "source": [
    "# Split data into training, validation, and test datasets for DATA_OHE\n",
    "# TEST\n",
    "data_ohe_train, data_ohe_test = train_test_split(data_ohe, test_size=0.2, random_state=123)\n",
    "\n",
    "# VALIDATION\n",
    "data_ohe_train, data_ohe_valid = train_test_split(data_ohe_train, test_size=0.25, random_state=123)"
   ]
  },
  {
   "cell_type": "code",
   "execution_count": 15,
   "metadata": {},
   "outputs": [],
   "source": [
    "# Split data into training, validation, and test datasets for DATA_LABELS\n",
    "# TEST\n",
    "data_labels_train, data_labels_test = train_test_split(data_labels, test_size=0.2, random_state=123)\n",
    "\n",
    "# VALIDATION\n",
    "data_labels_train, data_labels_valid = train_test_split(data_labels_train, test_size=0.25, random_state=123)\n"
   ]
  },
  {
   "cell_type": "markdown",
   "metadata": {},
   "source": [
    "### Features and target\n",
    "\n",
    "The finalized list of features were already decided, but they have been listed below for reference. <b><mark>RowNumber</mark></b>, <b><mark>CustomerId</mark></b>, and <b><mark>Surname</mark></b> were removed from the list of features. <b><mark>Exited</mark></b> is the target the model will try to predict.\n",
    "\n",
    "Potential Features\n",
    "\n",
    "- <b>CreditScore</b> — credit score\n",
    "- <b>Geography</b> — country of residence\n",
    "- <b>Gender</b> — gender\n",
    "- <b>Age</b> — age\n",
    "- <b>Tenure</b> — period of maturation for a customer’s fixed deposit (years)\n",
    "- <b>Balance</b> — account balance\n",
    "- <b>NumOfProducts</b> — number of banking products used by the customer\n",
    "- <b>HasCrCard</b> — customer has a credit card\n",
    "- <b>IsActiveMember</b> — customer’s activeness\n",
    "- <b>EstimatedSalary</b> — estimated salary\n",
    "\n",
    "Target\n",
    "\n",
    "- <b>Exited</b> — сustomer has left\n",
    "\n",
    "<b>NOTE</b>: Similarly, because there are two different encoding techniques being used, there are two sets of features and targets for each training, validation, and test dataset."
   ]
  },
  {
   "cell_type": "code",
   "execution_count": 16,
   "metadata": {},
   "outputs": [],
   "source": [
    "# Define features and target variables for DATA_OHE\n",
    "# TRAINING\n",
    "features_ohe_train = data_ohe_train.drop('Exited', axis=1)\n",
    "target_ohe_train = data_ohe_train['Exited']\n",
    "\n",
    "# TEST\n",
    "features_ohe_test = data_ohe_test.drop('Exited', axis=1)\n",
    "target_ohe_test = data_ohe_test['Exited']\n",
    "\n",
    "# VALIDATION\n",
    "features_ohe_valid = data_ohe_valid.drop('Exited', axis=1)\n",
    "target_ohe_valid = data_ohe_valid['Exited']"
   ]
  },
  {
   "cell_type": "code",
   "execution_count": 17,
   "metadata": {},
   "outputs": [],
   "source": [
    "# Define features and target variables for DATA_LABELS\n",
    "# TRAINING\n",
    "features_labels_train = data_labels_train.drop('Exited', axis=1)\n",
    "target_labels_train = data_labels_train['Exited']\n",
    "\n",
    "# TEST\n",
    "features_labels_test = data_labels_test.drop('Exited', axis=1)\n",
    "target_labels_test = data_labels_test['Exited']\n",
    "\n",
    "# VALIDATION\n",
    "features_labels_valid = data_labels_valid.drop('Exited', axis=1)\n",
    "target_labels_valid = data_labels_valid['Exited']"
   ]
  },
  {
   "cell_type": "markdown",
   "metadata": {},
   "source": [
    "### Feature scaling\n",
    "\n",
    "Some of the features contain values that are much higher than other features. For example, <b><mark>EstimatedSalary</mark></b> has a range of <b>0 - 199998.48</b> and <b><mark>NumOfProducts</mark></b> has a range of <b>1 - 4</b>. What this could lead to is the learning algorithm giving much more weight and influence to the <b><mark>EstimatedSalary</mark></b> feature since has it has much higher values, even though this is not the case in reality. Therefore, feature scaling has been performed to account for these variances of values. The following features underwent feature scaling.\n",
    "\n",
    "- <b>CreditScore</b> \n",
    "- <b>Age</b>\n",
    "- <b>Tenure</b>\n",
    "- <b>Balance</b>\n",
    "- <b>NumOfProducts</b>\n",
    "- <b>EstimatedSalary</b>\n",
    "\n",
    "There were certain features that were left out of the standardization. These features are listed below. \n",
    "\n",
    "- <b>Geography</b> — Encoded feature, already standardized\n",
    "- <b>Gender</b> — Encoded feature, already standardized\n",
    "- <b>HasCrCard</b> — Boolean field, already standardized and properly scaled at 0 or 1\n",
    "- <b>IsActiveMember</b> — Boolean field, already standardized and properly scaled at 0 or 1\n",
    "- <b>Exited</b> — Target feature\n",
    "\n",
    "<b>NOTE</b>: Similarly, because there are two different encoding techniques being used, there are two sets of features that were scaled, <b>data_ohe</b> and <b>data_labels</b>."
   ]
  },
  {
   "cell_type": "code",
   "execution_count": 18,
   "metadata": {},
   "outputs": [
    {
     "name": "stdout",
     "output_type": "stream",
     "text": [
      "\n",
      "DATA_OHE features NOT standardized\n"
     ]
    },
    {
     "data": {
      "text/html": [
       "<div>\n",
       "<style scoped>\n",
       "    .dataframe tbody tr th:only-of-type {\n",
       "        vertical-align: middle;\n",
       "    }\n",
       "\n",
       "    .dataframe tbody tr th {\n",
       "        vertical-align: top;\n",
       "    }\n",
       "\n",
       "    .dataframe thead th {\n",
       "        text-align: right;\n",
       "    }\n",
       "</style>\n",
       "<table border=\"1\" class=\"dataframe\">\n",
       "  <thead>\n",
       "    <tr style=\"text-align: right;\">\n",
       "      <th></th>\n",
       "      <th>CreditScore</th>\n",
       "      <th>Age</th>\n",
       "      <th>Tenure</th>\n",
       "      <th>Balance</th>\n",
       "      <th>NumOfProducts</th>\n",
       "      <th>HasCrCard</th>\n",
       "      <th>IsActiveMember</th>\n",
       "      <th>EstimatedSalary</th>\n",
       "      <th>Exited</th>\n",
       "      <th>Geography_Germany</th>\n",
       "      <th>Geography_Spain</th>\n",
       "      <th>Gender_Male</th>\n",
       "    </tr>\n",
       "  </thead>\n",
       "  <tbody>\n",
       "    <tr>\n",
       "      <th>0</th>\n",
       "      <td>619</td>\n",
       "      <td>42</td>\n",
       "      <td>2.0</td>\n",
       "      <td>0.00</td>\n",
       "      <td>1</td>\n",
       "      <td>1</td>\n",
       "      <td>1</td>\n",
       "      <td>101348.88</td>\n",
       "      <td>1</td>\n",
       "      <td>0</td>\n",
       "      <td>0</td>\n",
       "      <td>0</td>\n",
       "    </tr>\n",
       "    <tr>\n",
       "      <th>1</th>\n",
       "      <td>608</td>\n",
       "      <td>41</td>\n",
       "      <td>1.0</td>\n",
       "      <td>83807.86</td>\n",
       "      <td>1</td>\n",
       "      <td>0</td>\n",
       "      <td>1</td>\n",
       "      <td>112542.58</td>\n",
       "      <td>0</td>\n",
       "      <td>0</td>\n",
       "      <td>1</td>\n",
       "      <td>0</td>\n",
       "    </tr>\n",
       "    <tr>\n",
       "      <th>2</th>\n",
       "      <td>502</td>\n",
       "      <td>42</td>\n",
       "      <td>8.0</td>\n",
       "      <td>159660.80</td>\n",
       "      <td>3</td>\n",
       "      <td>1</td>\n",
       "      <td>0</td>\n",
       "      <td>113931.57</td>\n",
       "      <td>1</td>\n",
       "      <td>0</td>\n",
       "      <td>0</td>\n",
       "      <td>0</td>\n",
       "    </tr>\n",
       "    <tr>\n",
       "      <th>3</th>\n",
       "      <td>699</td>\n",
       "      <td>39</td>\n",
       "      <td>1.0</td>\n",
       "      <td>0.00</td>\n",
       "      <td>2</td>\n",
       "      <td>0</td>\n",
       "      <td>0</td>\n",
       "      <td>93826.63</td>\n",
       "      <td>0</td>\n",
       "      <td>0</td>\n",
       "      <td>0</td>\n",
       "      <td>0</td>\n",
       "    </tr>\n",
       "    <tr>\n",
       "      <th>4</th>\n",
       "      <td>850</td>\n",
       "      <td>43</td>\n",
       "      <td>2.0</td>\n",
       "      <td>125510.82</td>\n",
       "      <td>1</td>\n",
       "      <td>1</td>\n",
       "      <td>1</td>\n",
       "      <td>79084.10</td>\n",
       "      <td>0</td>\n",
       "      <td>0</td>\n",
       "      <td>1</td>\n",
       "      <td>0</td>\n",
       "    </tr>\n",
       "  </tbody>\n",
       "</table>\n",
       "</div>"
      ],
      "text/plain": [
       "   CreditScore  Age  Tenure    Balance  NumOfProducts  HasCrCard  \\\n",
       "0          619   42     2.0       0.00              1          1   \n",
       "1          608   41     1.0   83807.86              1          0   \n",
       "2          502   42     8.0  159660.80              3          1   \n",
       "3          699   39     1.0       0.00              2          0   \n",
       "4          850   43     2.0  125510.82              1          1   \n",
       "\n",
       "   IsActiveMember  EstimatedSalary  Exited  Geography_Germany  \\\n",
       "0               1        101348.88       1                  0   \n",
       "1               1        112542.58       0                  0   \n",
       "2               0        113931.57       1                  0   \n",
       "3               0         93826.63       0                  0   \n",
       "4               1         79084.10       0                  0   \n",
       "\n",
       "   Geography_Spain  Gender_Male  \n",
       "0                0            0  \n",
       "1                1            0  \n",
       "2                0            0  \n",
       "3                0            0  \n",
       "4                1            0  "
      ]
     },
     "metadata": {},
     "output_type": "display_data"
    },
    {
     "name": "stdout",
     "output_type": "stream",
     "text": [
      "\n",
      "\n",
      "DATA_OHE features standardized\n",
      "\n"
     ]
    },
    {
     "data": {
      "text/html": [
       "<div>\n",
       "<style scoped>\n",
       "    .dataframe tbody tr th:only-of-type {\n",
       "        vertical-align: middle;\n",
       "    }\n",
       "\n",
       "    .dataframe tbody tr th {\n",
       "        vertical-align: top;\n",
       "    }\n",
       "\n",
       "    .dataframe thead th {\n",
       "        text-align: right;\n",
       "    }\n",
       "</style>\n",
       "<table border=\"1\" class=\"dataframe\">\n",
       "  <thead>\n",
       "    <tr style=\"text-align: right;\">\n",
       "      <th></th>\n",
       "      <th>CreditScore</th>\n",
       "      <th>Age</th>\n",
       "      <th>Tenure</th>\n",
       "      <th>Balance</th>\n",
       "      <th>NumOfProducts</th>\n",
       "      <th>HasCrCard</th>\n",
       "      <th>IsActiveMember</th>\n",
       "      <th>EstimatedSalary</th>\n",
       "      <th>Geography_Germany</th>\n",
       "      <th>Geography_Spain</th>\n",
       "      <th>Gender_Male</th>\n",
       "    </tr>\n",
       "  </thead>\n",
       "  <tbody>\n",
       "    <tr>\n",
       "      <th>8189</th>\n",
       "      <td>0.734252</td>\n",
       "      <td>-1.691517</td>\n",
       "      <td>1.068017</td>\n",
       "      <td>-1.244743</td>\n",
       "      <td>0.829346</td>\n",
       "      <td>1</td>\n",
       "      <td>0</td>\n",
       "      <td>-0.562778</td>\n",
       "      <td>0</td>\n",
       "      <td>0</td>\n",
       "      <td>1</td>\n",
       "    </tr>\n",
       "    <tr>\n",
       "      <th>8845</th>\n",
       "      <td>0.880997</td>\n",
       "      <td>0.041003</td>\n",
       "      <td>-1.444120</td>\n",
       "      <td>0.849698</td>\n",
       "      <td>-0.907504</td>\n",
       "      <td>1</td>\n",
       "      <td>1</td>\n",
       "      <td>1.604165</td>\n",
       "      <td>1</td>\n",
       "      <td>0</td>\n",
       "      <td>0</td>\n",
       "    </tr>\n",
       "    <tr>\n",
       "      <th>1165</th>\n",
       "      <td>0.702806</td>\n",
       "      <td>1.003514</td>\n",
       "      <td>-0.008613</td>\n",
       "      <td>1.220180</td>\n",
       "      <td>0.829346</td>\n",
       "      <td>0</td>\n",
       "      <td>0</td>\n",
       "      <td>1.648227</td>\n",
       "      <td>1</td>\n",
       "      <td>0</td>\n",
       "      <td>0</td>\n",
       "    </tr>\n",
       "    <tr>\n",
       "      <th>1742</th>\n",
       "      <td>-0.638867</td>\n",
       "      <td>1.484770</td>\n",
       "      <td>-1.444120</td>\n",
       "      <td>-0.012820</td>\n",
       "      <td>-0.907504</td>\n",
       "      <td>0</td>\n",
       "      <td>0</td>\n",
       "      <td>0.642033</td>\n",
       "      <td>1</td>\n",
       "      <td>0</td>\n",
       "      <td>0</td>\n",
       "    </tr>\n",
       "    <tr>\n",
       "      <th>1139</th>\n",
       "      <td>0.860033</td>\n",
       "      <td>1.773523</td>\n",
       "      <td>-1.444120</td>\n",
       "      <td>0.501984</td>\n",
       "      <td>-0.907504</td>\n",
       "      <td>0</td>\n",
       "      <td>1</td>\n",
       "      <td>-1.739636</td>\n",
       "      <td>0</td>\n",
       "      <td>1</td>\n",
       "      <td>0</td>\n",
       "    </tr>\n",
       "  </tbody>\n",
       "</table>\n",
       "</div>"
      ],
      "text/plain": [
       "      CreditScore       Age    Tenure   Balance  NumOfProducts  HasCrCard  \\\n",
       "8189     0.734252 -1.691517  1.068017 -1.244743       0.829346          1   \n",
       "8845     0.880997  0.041003 -1.444120  0.849698      -0.907504          1   \n",
       "1165     0.702806  1.003514 -0.008613  1.220180       0.829346          0   \n",
       "1742    -0.638867  1.484770 -1.444120 -0.012820      -0.907504          0   \n",
       "1139     0.860033  1.773523 -1.444120  0.501984      -0.907504          0   \n",
       "\n",
       "      IsActiveMember  EstimatedSalary  Geography_Germany  Geography_Spain  \\\n",
       "8189               0        -0.562778                  0                0   \n",
       "8845               1         1.604165                  1                0   \n",
       "1165               0         1.648227                  1                0   \n",
       "1742               0         0.642033                  1                0   \n",
       "1139               1        -1.739636                  0                1   \n",
       "\n",
       "      Gender_Male  \n",
       "8189            1  \n",
       "8845            0  \n",
       "1165            0  \n",
       "1742            0  \n",
       "1139            0  "
      ]
     },
     "metadata": {},
     "output_type": "display_data"
    }
   ],
   "source": [
    "# Standardize data for DATA_OHE\n",
    "# Define list of variables to be standardized and scaled\n",
    "standardize_list = ['CreditScore', 'Age', 'Tenure', 'Balance', 'NumOfProducts', 'EstimatedSalary']\n",
    "\n",
    "# Create instance of scaler class and standardize features for all datasets\n",
    "scaler_ohe = StandardScaler()\n",
    "scaler_ohe.fit(features_ohe_train[standardize_list])\n",
    "scaler_ohe.fit(features_ohe_test[standardize_list])\n",
    "scaler_ohe.fit(features_ohe_valid[standardize_list])\n",
    "\n",
    "features_ohe_train[standardize_list] = scaler_ohe.transform(features_ohe_train[standardize_list])\n",
    "features_ohe_test[standardize_list] = scaler_ohe.transform(features_ohe_test[standardize_list])\n",
    "features_ohe_valid[standardize_list] = scaler_ohe.transform(features_ohe_valid[standardize_list])\n",
    "\n",
    "print()\n",
    "print('DATA_OHE features NOT standardized')\n",
    "display(data_ohe.head())\n",
    "print()\n",
    "print()\n",
    "print('DATA_OHE features standardized')\n",
    "print()\n",
    "display(features_ohe_train.head())"
   ]
  },
  {
   "cell_type": "code",
   "execution_count": 19,
   "metadata": {},
   "outputs": [
    {
     "name": "stdout",
     "output_type": "stream",
     "text": [
      "\n",
      "DATA_LABELS features NOT standardized\n"
     ]
    },
    {
     "data": {
      "text/html": [
       "<div>\n",
       "<style scoped>\n",
       "    .dataframe tbody tr th:only-of-type {\n",
       "        vertical-align: middle;\n",
       "    }\n",
       "\n",
       "    .dataframe tbody tr th {\n",
       "        vertical-align: top;\n",
       "    }\n",
       "\n",
       "    .dataframe thead th {\n",
       "        text-align: right;\n",
       "    }\n",
       "</style>\n",
       "<table border=\"1\" class=\"dataframe\">\n",
       "  <thead>\n",
       "    <tr style=\"text-align: right;\">\n",
       "      <th></th>\n",
       "      <th>CreditScore</th>\n",
       "      <th>Geography</th>\n",
       "      <th>Gender</th>\n",
       "      <th>Age</th>\n",
       "      <th>Tenure</th>\n",
       "      <th>Balance</th>\n",
       "      <th>NumOfProducts</th>\n",
       "      <th>HasCrCard</th>\n",
       "      <th>IsActiveMember</th>\n",
       "      <th>EstimatedSalary</th>\n",
       "      <th>Exited</th>\n",
       "    </tr>\n",
       "  </thead>\n",
       "  <tbody>\n",
       "    <tr>\n",
       "      <th>0</th>\n",
       "      <td>228.0</td>\n",
       "      <td>0.0</td>\n",
       "      <td>0.0</td>\n",
       "      <td>24.0</td>\n",
       "      <td>2.0</td>\n",
       "      <td>0.0</td>\n",
       "      <td>0.0</td>\n",
       "      <td>1.0</td>\n",
       "      <td>1.0</td>\n",
       "      <td>5068.0</td>\n",
       "      <td>1.0</td>\n",
       "    </tr>\n",
       "    <tr>\n",
       "      <th>1</th>\n",
       "      <td>217.0</td>\n",
       "      <td>2.0</td>\n",
       "      <td>0.0</td>\n",
       "      <td>23.0</td>\n",
       "      <td>1.0</td>\n",
       "      <td>743.0</td>\n",
       "      <td>0.0</td>\n",
       "      <td>0.0</td>\n",
       "      <td>1.0</td>\n",
       "      <td>5639.0</td>\n",
       "      <td>0.0</td>\n",
       "    </tr>\n",
       "    <tr>\n",
       "      <th>2</th>\n",
       "      <td>111.0</td>\n",
       "      <td>0.0</td>\n",
       "      <td>0.0</td>\n",
       "      <td>24.0</td>\n",
       "      <td>8.0</td>\n",
       "      <td>5793.0</td>\n",
       "      <td>2.0</td>\n",
       "      <td>1.0</td>\n",
       "      <td>0.0</td>\n",
       "      <td>5707.0</td>\n",
       "      <td>1.0</td>\n",
       "    </tr>\n",
       "    <tr>\n",
       "      <th>3</th>\n",
       "      <td>308.0</td>\n",
       "      <td>0.0</td>\n",
       "      <td>0.0</td>\n",
       "      <td>21.0</td>\n",
       "      <td>1.0</td>\n",
       "      <td>0.0</td>\n",
       "      <td>1.0</td>\n",
       "      <td>0.0</td>\n",
       "      <td>0.0</td>\n",
       "      <td>4704.0</td>\n",
       "      <td>0.0</td>\n",
       "    </tr>\n",
       "    <tr>\n",
       "      <th>4</th>\n",
       "      <td>459.0</td>\n",
       "      <td>2.0</td>\n",
       "      <td>0.0</td>\n",
       "      <td>25.0</td>\n",
       "      <td>2.0</td>\n",
       "      <td>3696.0</td>\n",
       "      <td>0.0</td>\n",
       "      <td>1.0</td>\n",
       "      <td>1.0</td>\n",
       "      <td>3925.0</td>\n",
       "      <td>0.0</td>\n",
       "    </tr>\n",
       "  </tbody>\n",
       "</table>\n",
       "</div>"
      ],
      "text/plain": [
       "   CreditScore  Geography  Gender   Age  Tenure  Balance  NumOfProducts  \\\n",
       "0        228.0        0.0     0.0  24.0     2.0      0.0            0.0   \n",
       "1        217.0        2.0     0.0  23.0     1.0    743.0            0.0   \n",
       "2        111.0        0.0     0.0  24.0     8.0   5793.0            2.0   \n",
       "3        308.0        0.0     0.0  21.0     1.0      0.0            1.0   \n",
       "4        459.0        2.0     0.0  25.0     2.0   3696.0            0.0   \n",
       "\n",
       "   HasCrCard  IsActiveMember  EstimatedSalary  Exited  \n",
       "0        1.0             1.0           5068.0     1.0  \n",
       "1        0.0             1.0           5639.0     0.0  \n",
       "2        1.0             0.0           5707.0     1.0  \n",
       "3        0.0             0.0           4704.0     0.0  \n",
       "4        1.0             1.0           3925.0     0.0  "
      ]
     },
     "metadata": {},
     "output_type": "display_data"
    },
    {
     "name": "stdout",
     "output_type": "stream",
     "text": [
      "\n",
      "\n",
      "DATA_LABELS features standardized\n"
     ]
    },
    {
     "data": {
      "text/html": [
       "<div>\n",
       "<style scoped>\n",
       "    .dataframe tbody tr th:only-of-type {\n",
       "        vertical-align: middle;\n",
       "    }\n",
       "\n",
       "    .dataframe tbody tr th {\n",
       "        vertical-align: top;\n",
       "    }\n",
       "\n",
       "    .dataframe thead th {\n",
       "        text-align: right;\n",
       "    }\n",
       "</style>\n",
       "<table border=\"1\" class=\"dataframe\">\n",
       "  <thead>\n",
       "    <tr style=\"text-align: right;\">\n",
       "      <th></th>\n",
       "      <th>CreditScore</th>\n",
       "      <th>Geography</th>\n",
       "      <th>Gender</th>\n",
       "      <th>Age</th>\n",
       "      <th>Tenure</th>\n",
       "      <th>Balance</th>\n",
       "      <th>NumOfProducts</th>\n",
       "      <th>HasCrCard</th>\n",
       "      <th>IsActiveMember</th>\n",
       "      <th>EstimatedSalary</th>\n",
       "    </tr>\n",
       "  </thead>\n",
       "  <tbody>\n",
       "    <tr>\n",
       "      <th>8189</th>\n",
       "      <td>0.735034</td>\n",
       "      <td>0.0</td>\n",
       "      <td>1.0</td>\n",
       "      <td>-1.691517</td>\n",
       "      <td>1.068017</td>\n",
       "      <td>-0.978674</td>\n",
       "      <td>0.829346</td>\n",
       "      <td>1.0</td>\n",
       "      <td>0.0</td>\n",
       "      <td>-0.567565</td>\n",
       "    </tr>\n",
       "    <tr>\n",
       "      <th>8845</th>\n",
       "      <td>0.882086</td>\n",
       "      <td>1.0</td>\n",
       "      <td>0.0</td>\n",
       "      <td>0.041003</td>\n",
       "      <td>-1.444120</td>\n",
       "      <td>0.968110</td>\n",
       "      <td>-0.907504</td>\n",
       "      <td>1.0</td>\n",
       "      <td>1.0</td>\n",
       "      <td>1.596523</td>\n",
       "    </tr>\n",
       "    <tr>\n",
       "      <th>1165</th>\n",
       "      <td>0.703523</td>\n",
       "      <td>1.0</td>\n",
       "      <td>0.0</td>\n",
       "      <td>1.003514</td>\n",
       "      <td>-0.008613</td>\n",
       "      <td>1.625826</td>\n",
       "      <td>0.829346</td>\n",
       "      <td>0.0</td>\n",
       "      <td>0.0</td>\n",
       "      <td>1.637609</td>\n",
       "    </tr>\n",
       "    <tr>\n",
       "      <th>1742</th>\n",
       "      <td>-0.640952</td>\n",
       "      <td>1.0</td>\n",
       "      <td>0.0</td>\n",
       "      <td>1.484770</td>\n",
       "      <td>-1.444120</td>\n",
       "      <td>-0.752035</td>\n",
       "      <td>-0.907504</td>\n",
       "      <td>0.0</td>\n",
       "      <td>0.0</td>\n",
       "      <td>0.650166</td>\n",
       "    </tr>\n",
       "    <tr>\n",
       "      <th>1139</th>\n",
       "      <td>0.861079</td>\n",
       "      <td>2.0</td>\n",
       "      <td>0.0</td>\n",
       "      <td>1.773523</td>\n",
       "      <td>-1.444120</td>\n",
       "      <td>0.104568</td>\n",
       "      <td>-0.907504</td>\n",
       "      <td>0.0</td>\n",
       "      <td>1.0</td>\n",
       "      <td>-1.729710</td>\n",
       "    </tr>\n",
       "  </tbody>\n",
       "</table>\n",
       "</div>"
      ],
      "text/plain": [
       "      CreditScore  Geography  Gender       Age    Tenure   Balance  \\\n",
       "8189     0.735034        0.0     1.0 -1.691517  1.068017 -0.978674   \n",
       "8845     0.882086        1.0     0.0  0.041003 -1.444120  0.968110   \n",
       "1165     0.703523        1.0     0.0  1.003514 -0.008613  1.625826   \n",
       "1742    -0.640952        1.0     0.0  1.484770 -1.444120 -0.752035   \n",
       "1139     0.861079        2.0     0.0  1.773523 -1.444120  0.104568   \n",
       "\n",
       "      NumOfProducts  HasCrCard  IsActiveMember  EstimatedSalary  \n",
       "8189       0.829346        1.0             0.0        -0.567565  \n",
       "8845      -0.907504        1.0             1.0         1.596523  \n",
       "1165       0.829346        0.0             0.0         1.637609  \n",
       "1742      -0.907504        0.0             0.0         0.650166  \n",
       "1139      -0.907504        0.0             1.0        -1.729710  "
      ]
     },
     "metadata": {},
     "output_type": "display_data"
    }
   ],
   "source": [
    "# Standardize data for DATA_LABELS\n",
    "# Create instance of scaler class and standardize features for all datasets\n",
    "scaler_labels = StandardScaler()\n",
    "scaler_labels.fit(features_labels_train[standardize_list])\n",
    "scaler_labels.fit(features_labels_test[standardize_list])\n",
    "scaler_labels.fit(features_labels_valid[standardize_list])\n",
    "\n",
    "features_labels_train[standardize_list] = scaler_labels.transform(features_labels_train[standardize_list])\n",
    "features_labels_test[standardize_list] = scaler_labels.transform(features_labels_test[standardize_list])\n",
    "features_labels_valid[standardize_list] = scaler_labels.transform(features_labels_valid[standardize_list])\n",
    "\n",
    "print()\n",
    "print('DATA_LABELS features NOT standardized')\n",
    "display(data_labels.head())\n",
    "print()\n",
    "print()\n",
    "print('DATA_LABELS features standardized')\n",
    "display(features_labels_train.head())"
   ]
  },
  {
   "cell_type": "markdown",
   "metadata": {},
   "source": [
    "## Model analysis\n",
    "\n",
    "First, let's look how all three models perform without any improvements or modifications. The F1 score and accuarcy score will provide an initial look of how it the model is performing. Then deeper analysis through sanity checks, a constant model comparison, and findings from a confusion matrix will provide the 'how's' and why's' to the model's performance."
   ]
  },
  {
   "cell_type": "markdown",
   "metadata": {},
   "source": [
    "### Random forest classification - One-hot encoding\n",
    "\n",
    "After running the random forest classification model via <b><font color='red'>one-hot encoding</font></b>, the model performed adequately for a first run. The accuarcy score is respectable, but the F1 score can still be improved upon, being lower than our <b>0.59</b> threshold. This infers that there is some precision or recall issues with the performance.\n",
    "\n",
    "- F1 score: <b>0.569</b>\n",
    "- Accuracy score: <b>0.859</b>"
   ]
  },
  {
   "cell_type": "code",
   "execution_count": 20,
   "metadata": {},
   "outputs": [
    {
     "name": "stdout",
     "output_type": "stream",
     "text": [
      "\n",
      "F1 score: 0.5688073394495412\n",
      "Accuracy score: 0.859\n"
     ]
    }
   ],
   "source": [
    "# Create and run random forest model with ONE-HOT encoding dataset\n",
    "model_rf1 = RandomForestClassifier(random_state=12345)\n",
    "model_rf1.fit(features_ohe_train, target_ohe_train)\n",
    "model_rf1_predictions = model_rf1.predict(features_ohe_valid)\n",
    "\n",
    "# Get F1 score of model\n",
    "print()\n",
    "print('F1 score:', f1_score(target_ohe_valid, model_rf1_predictions))\n",
    "print('Accuracy score:', accuracy_score(target_ohe_valid, model_rf1_predictions))"
   ]
  },
  {
   "cell_type": "markdown",
   "metadata": {},
   "source": [
    "#### Sanity checks"
   ]
  },
  {
   "cell_type": "markdown",
   "metadata": {},
   "source": [
    "##### Value count comparison\n",
    "\n",
    "A basic sanity check is performed to quickly identify any obvious errors or inconsistencies in the model's behavior, essentially acting as a quality control measure. The sanity check performed here is a simple comparison of the target counts, ie actual <b><mark>Exited</mark></b> counts, from the original dataset to the predicted counts generated from the model.\n",
    "\n",
    "The original dataset had a class 0 and class 1 distribution of <b>0.7963</b> and <b>0.2037</b> respectively.\n",
    "<br>The predictions had a class 0 and class 1 distribution of <b>0.883</b> and <b>0.117</b> respectively.\n",
    "\n",
    "The model shows a slight lean to predicting more class 0s, but the proportion is not vastly different, differing by roughly 10%."
   ]
  },
  {
   "cell_type": "code",
   "execution_count": 21,
   "metadata": {},
   "outputs": [
    {
     "data": {
      "text/plain": [
       "0    7963\n",
       "1    2037\n",
       "Name: Exited, dtype: int64"
      ]
     },
     "metadata": {},
     "output_type": "display_data"
    },
    {
     "data": {
      "text/plain": [
       "0    0.7963\n",
       "1    0.2037\n",
       "Name: Exited, dtype: float64"
      ]
     },
     "metadata": {},
     "output_type": "display_data"
    },
    {
     "data": {
      "text/plain": [
       "<AxesSubplot:title={'center':'TARGET - Counts of members who exited vs. not exited'}>"
      ]
     },
     "execution_count": 21,
     "metadata": {},
     "output_type": "execute_result"
    },
    {
     "data": {
      "image/png": "[encoded data removed]",
      "text/plain": [
       "<Figure size 640x480 with 1 Axes>"
      ]
     },
     "metadata": {},
     "output_type": "display_data"
    }
   ],
   "source": [
    "# Retrieve and plot unique counts of the target\n",
    "# Counts\n",
    "freq_cnts = data_ohe['Exited'].value_counts()\n",
    "display(freq_cnts)\n",
    "\n",
    "# Proportions\n",
    "freq_prop = data_ohe['Exited'].value_counts(normalize=True)\n",
    "display(freq_prop)\n",
    "\n",
    "freq_prop.plot(kind='bar', title='TARGET - Counts of members who exited vs. not exited', ylim=(0.0, 1.0))"
   ]
  },
  {
   "cell_type": "markdown",
   "metadata": {},
   "source": [
    "##### Constant model comparison\n",
    "\n",
    "Comparing the model to a constant model is also a type of sanity check that gives us a baseline to ensure the model is behaving as expected. Here the constant model represents a Series of all zeroes. The check is to see if the accuarcy score of the constant model aligns with the accuarcy of our machine learning model.\n",
    "\n",
    "The accuarcy score of the random forest model with one-hot encoding is <b>0.859</b>.\n",
    "<br>The accuarcy score of the constant model is <b>0.79</b>.\n",
    "\n",
    "The accuarcy scores are fairly similar. We are good to proceed with further analysis for this model."
   ]
  },
  {
   "cell_type": "code",
   "execution_count": 23,
   "metadata": {},
   "outputs": [
    {
     "name": "stdout",
     "output_type": "stream",
     "text": [
      "\n",
      "Accuracy score of random forest model first run: 0.859\n",
      "Accuracy score of constant model: 0.79\n"
     ]
    }
   ],
   "source": [
    "# Create a constant model and compare to the random forest model\n",
    "pred_constant = pd.Series(0, index=target_ohe_valid.index)\n",
    "print()\n",
    "print('Accuracy score of random forest model first run:', accuracy_score(target_ohe_valid, model_rf1_predictions))\n",
    "print('Accuracy score of constant model:', accuracy_score(target_ohe_valid, pred_constant))"
   ]
  },
  {
   "cell_type": "markdown",
   "metadata": {},
   "source": [
    "#### Confusion matrix\n",
    "\n",
    "The confusion matrix provides us with more detail into where the model was making incorrect predictions, ie what it is good at doing and what it is not.\n",
    "\n",
    "- True positives - <b>97%</b> of members that did not exit, were labeled as non-exit members\n",
    "- True negatives - <b>44%</b> of members that did exit, were labeled as exit members\n",
    "- False positives - <b>56%</b> of members that did exit, were labeled as non-exit members\n",
    "- False negatives - <b>3%</b> of members that did not exit, were labeled as exit members\n",
    "\n",
    "In short, if the customer did exit, the model does a very good job in predicting which customers did not exit. But for exit members, there is some inaccuracy."
   ]
  },
  {
   "cell_type": "code",
   "execution_count": 24,
   "metadata": {},
   "outputs": [
    {
     "name": "stdout",
     "output_type": "stream",
     "text": [
      "\n",
      "Answer counts\n"
     ]
    },
    {
     "data": {
      "text/plain": [
       "array([[1532,   48],\n",
       "       [ 234,  186]])"
      ]
     },
     "metadata": {},
     "output_type": "display_data"
    },
    {
     "name": "stdout",
     "output_type": "stream",
     "text": [
      "\n",
      "Answer proportions\n"
     ]
    },
    {
     "data": {
      "text/plain": [
       "array([[0.96962025, 0.03037975],\n",
       "       [0.55714286, 0.44285714]])"
      ]
     },
     "metadata": {},
     "output_type": "display_data"
    },
    {
     "data": {
      "image/png": "[encoded data removed]",
      "text/plain": [
       "<Figure size 1600x700 with 2 Axes>"
      ]
     },
     "metadata": {},
     "output_type": "display_data"
    }
   ],
   "source": [
    "# Create and reshape confusion matrix data\n",
    "model_rf1_matrix = confusion_matrix(target_ohe_valid, model_rf1_predictions)\n",
    "print()\n",
    "print('Answer counts')\n",
    "display(model_rf1_matrix)\n",
    "model_rf1_matrix = model_rf1_matrix.astype('float') / model_rf1_matrix.sum(axis=1)[:, np.newaxis]\n",
    "print()\n",
    "print('Answer proportions')\n",
    "display(model_rf1_matrix)\n",
    "\n",
    "# Build the plot\n",
    "plt.figure(figsize=(16,7))\n",
    "sns.set(font_scale=1.4)\n",
    "sns.heatmap(model_rf1_matrix, annot=True, annot_kws={'size':12},\n",
    "            cmap=plt.cm.Greens, linewidths=0.2)\n",
    "\n",
    "# Add labels to the plot\n",
    "class_names = ['Member did exit', 'Member did not exit']\n",
    "tick_marks = np.arange(len(class_names))\n",
    "tick_marks2 = tick_marks + 0.5\n",
    "plt.xticks(tick_marks2, class_names, rotation=0)\n",
    "plt.yticks(tick_marks2, class_names, rotation=0)\n",
    "plt.xlabel('Predicted label', fontweight='bold')\n",
    "plt.ylabel('True label', fontweight='bold')\n",
    "plt.title('Confusion matrix for random forest model', fontsize=20, fontweight='bold')\n",
    "plt.show()"
   ]
  },
  {
   "cell_type": "markdown",
   "metadata": {},
   "source": [
    "#### Metrics review and recap\n",
    "\n",
    "The metrics here, along with the confusion matrix above, tells the story of the how the model is predicting. Accuracy is fairly high. Where the model is accuartely predicting however is for members that have not exited, represented by the precision metric at <b>0.795</b>. For exit members, there is some inaccuarcy in predicting these members correctly, represented by the recall metric at <b>0.443</b>. This leads to a suboptimal F1 score of <b>0.569</b>. Tinkering needs to be done to improve the model and F1 score."
   ]
  },
  {
   "cell_type": "code",
   "execution_count": 25,
   "metadata": {},
   "outputs": [
    {
     "name": "stdout",
     "output_type": "stream",
     "text": [
      "\n",
      "Random forest model (One-hot encoding) metrics\n",
      "\n",
      "Accuracy score: 0.859\n",
      "Precision: 0.7948717948717948\n",
      "Recall: 0.44285714285714284\n",
      "F1 score: 0.5688073394495412\n"
     ]
    }
   ],
   "source": [
    "# Retrieve accuracy score, precision, recall, and f1 score\n",
    "print()\n",
    "print('Random forest model (One-hot encoding) metrics')\n",
    "print()\n",
    "\n",
    "# Accuracy score\n",
    "print('Accuracy score:', accuracy_score(target_ohe_valid, model_rf1_predictions))\n",
    "\n",
    "# Precision\n",
    "print('Precision:', precision_score(target_ohe_valid, model_rf1_predictions))\n",
    "\n",
    "# Recall\n",
    "print('Recall:', recall_score(target_ohe_valid, model_rf1_predictions))\n",
    "\n",
    "# F1 score\n",
    "print('F1 score:', f1_score(target_ohe_valid, model_rf1_predictions))"
   ]
  },
  {
   "cell_type": "markdown",
   "metadata": {},
   "source": [
    "### Random forest classification - Label encoding\n",
    "\n",
    "There are two objectives for training a random forest classification model with label encoding. One is to obviously test and see how this type of model performs with the given data. But two, are there any differences in performance between both encoding techniques? Are they similar enough to where we can move forward with one of the models for future improvements, or are they different to the point where encoding did have a substantial difference and both models need to be kept separate.\n",
    "\n",
    "After running the random forest classification model via <b><font color='red'>label encoding</font></b>, the model performed adequately for a first run. As with the one-hot coding model, the accuarcy score is respectable, but the F1 score can still be improved upon, being lower than our <b>0.59</b> threshold. This infers that there is some precision or recall issues with the performance.\n",
    "\n",
    "- F1 score: <b>0.564</b>\n",
    "- Accuracy score: <b>0.858</b>\n",
    "    \n",
    "For comparison, here were the one-hot encoding scores.\n",
    "\n",
    "- F1 score: <b>0.569</b>\n",
    "- Accuracy score: <b>0.859</b>"
   ]
  },
  {
   "cell_type": "code",
   "execution_count": 26,
   "metadata": {},
   "outputs": [
    {
     "name": "stdout",
     "output_type": "stream",
     "text": [
      "\n",
      "F1 score: 0.5635528330781011\n",
      "Accuracy score: 0.8575\n"
     ]
    }
   ],
   "source": [
    "# Create and run random forest model with LABEL encoding dataset\n",
    "model_rf2 = RandomForestClassifier(random_state=12345)\n",
    "model_rf2.fit(features_labels_train, target_labels_train)\n",
    "model_rf2_predictions = model_rf2.predict(features_labels_valid)\n",
    "\n",
    "# Get F1 score of model\n",
    "print()\n",
    "print('F1 score:', f1_score(target_labels_valid, model_rf2_predictions))\n",
    "print('Accuracy score:', accuracy_score(target_labels_valid, model_rf2_predictions))"
   ]
  },
  {
   "cell_type": "markdown",
   "metadata": {},
   "source": [
    "#### Sanity checks"
   ]
  },
  {
   "cell_type": "markdown",
   "metadata": {},
   "source": [
    "##### Value count comparison\n",
    "\n",
    "The same comparison is done here as a quick sanity check, comparing the target counts, ie acutal <b><mark>Exited</mark></b> counts, from the original dataset to the predicted counts generated from the model.\n",
    "\n",
    "The original dataset had a class 0 and class 1 distribution of <b>0.7963</b> and <b>0.2037</b> respectively.\n",
    "<br>The predictions had a class 0 and class 1 distribution of <b>0.884</b> and <b>0.117</b> respectively.\n",
    "\n",
    "As with the random forest model with one-hot encoding, the label encoding model shows a slight lean to predicting more class 0s, but the proportion is not vastly different, differing by roughly 10%.\n",
    "\n",
    "For comparison, here were the one-hot encoding proportions. They are nearly identical.\n",
    "<br>The predictions had a class 0 and class 1 distribution of <b>0.883</b> and <b>0.117</b> respectively."
   ]
  },
  {
   "cell_type": "code",
   "execution_count": 27,
   "metadata": {},
   "outputs": [
    {
     "data": {
      "text/plain": [
       "0    7963\n",
       "1    2037\n",
       "Name: Exited, dtype: int64"
      ]
     },
     "metadata": {},
     "output_type": "display_data"
    },
    {
     "data": {
      "text/plain": [
       "0    0.7963\n",
       "1    0.2037\n",
       "Name: Exited, dtype: float64"
      ]
     },
     "metadata": {},
     "output_type": "display_data"
    },
    {
     "data": {
      "text/plain": [
       "(array([0, 1]), [Text(0, 0, '0'), Text(1, 0, '1')])"
      ]
     },
     "execution_count": 27,
     "metadata": {},
     "output_type": "execute_result"
    },
    {
     "data": {
      "image/png": "[encoded data removed]",
      "text/plain": [
       "<Figure size 800x400 with 1 Axes>"
      ]
     },
     "metadata": {},
     "output_type": "display_data"
    }
   ],
   "source": [
    "# Retrieve and plot unique counts of the target\n",
    "# Counts\n",
    "data_labels['Exited'] = data_labels['Exited'].astype('int')\n",
    "freq_cnts2 = data_labels['Exited'].value_counts()\n",
    "display(freq_cnts2)\n",
    "\n",
    "# Proportions\n",
    "freq_prop2 = data_labels['Exited'].value_counts(normalize=True)\n",
    "display(freq_prop2)\n",
    "\n",
    "freq_prop2.plot(kind='bar', figsize=(8,4), ylim=(0.0, 1.0))\n",
    "plt.title(label='TARGET - Counts of members who exited vs. not exited', fontsize=14)\n",
    "plt.yticks(fontsize=10)\n",
    "plt.xticks(fontsize=10)\n"
   ]
  },
  {
   "cell_type": "code",
   "execution_count": 28,
   "metadata": {},
   "outputs": [
    {
     "data": {
      "text/plain": [
       "0    1767\n",
       "1     233\n",
       "dtype: int64"
      ]
     },
     "metadata": {},
     "output_type": "display_data"
    },
    {
     "data": {
      "text/plain": [
       "0    0.8835\n",
       "1    0.1165\n",
       "dtype: float64"
      ]
     },
     "metadata": {},
     "output_type": "display_data"
    },
    {
     "data": {
      "text/plain": [
       "(array([0, 1]), [Text(0, 0, '0'), Text(1, 0, '1')])"
      ]
     },
     "execution_count": 28,
     "metadata": {},
     "output_type": "execute_result"
    },
    {
     "data": {
      "image/png": "[encoded data removed]",
      "text/plain": [
       "<Figure size 800x400 with 1 Axes>"
      ]
     },
     "metadata": {},
     "output_type": "display_data"
    }
   ],
   "source": [
    "# Retrieve and plot unique counts of the predictions\n",
    "# Counts\n",
    "model_rf2_predictions_series = pd.Series(model_rf2_predictions.astype('int'))\n",
    "freq_props_cnts2 = model_rf2_predictions_series.value_counts()\n",
    "display(freq_props_cnts2)\n",
    "\n",
    "# Proportions\n",
    "freq_props_pred2 = model_rf2_predictions_series.value_counts(normalize=True)\n",
    "display(freq_props_pred2)\n",
    "\n",
    "freq_props_pred2.plot(kind='bar', figsize=(8,4), ylim=(0.0, 1.0))\n",
    "plt.title(label='PREDICTIONS - Counts of members who exited vs. not exited', fontsize=14)\n",
    "plt.yticks(fontsize=10)\n",
    "plt.xticks(fontsize=10)"
   ]
  },
  {
   "cell_type": "markdown",
   "metadata": {},
   "source": [
    "##### Constant model comparison\n",
    "\n",
    "The comparison to a constant model is also performed as an additional sanity check. Same as the previous model, the constant model represents a Series of all zeroes. The check is to see if the accuarcy score of the constant model aligns with the accuarcy of our machine learning model.\n",
    "\n",
    "The accuarcy score of the random forest model with one-hot encoding is <b>0.858</b>.\n",
    "<br>The accuarcy score of the constant model is <b>0.79</b>.\n",
    "\n",
    "The accuarcy scores are fairly similar. Also, the accuarcy scores are nearly identical compare to the random forest model with one-hot encoding. Below are the previous model's scores for comparison.\n",
    "\n",
    "The accuarcy score of the random forest model with one-hot encoding is <b>0.859</b>."
   ]
  },
  {
   "cell_type": "code",
   "execution_count": 29,
   "metadata": {},
   "outputs": [
    {
     "name": "stdout",
     "output_type": "stream",
     "text": [
      "\n",
      "Accuracy score of random forest model first run: 0.8575\n",
      "Accuracy score of constant model: 0.79\n"
     ]
    }
   ],
   "source": [
    "# Create a constant model and compare to the random forest model\n",
    "pred_constant = pd.Series(0, index=target_ohe_valid.index)\n",
    "print()\n",
    "print('Accuracy score of random forest model first run:', accuracy_score(target_ohe_valid, model_rf2_predictions))\n",
    "print('Accuracy score of constant model:', accuracy_score(target_ohe_valid, pred_constant))"
   ]
  },
  {
   "cell_type": "markdown",
   "metadata": {},
   "source": [
    "#### Confusion matrix\n",
    "\n",
    "The confusion matrix provides us with more detail into where the model was making incorrect predictions, ie what it is good at doing and what it is not.\n",
    "\n",
    "- True positives - <b>97%</b> of members that did not exit, were labeled as non-exit members\n",
    "- True negatives - <b>44%</b> of members that did exit, were labeled as exit members\n",
    "- False positives - <b>56%</b> of members that did exit, were labeled as non-exit members\n",
    "- False negatives - <b>3.1%</b> of members that did not exit, were labeled as exit members\n",
    "\n",
    "In short, if the customer did exit, the model does a very good job in predicting that the customer did not exit. But for exit members, there is some inaccuracy. This is nearly identical to the one-hot encoding model. Below are the previous model's results for comparison.\n",
    "\n",
    "- True positives - <b>97%</b> of members that did not exit, were labeled as non-exit members\n",
    "- True negatives - <b>44%</b> of members that did exit, were labeled as exit members\n",
    "- False positives - <b>56%</b> of members that did exit, were labeled as non-exit members\n",
    "- False negatives - <b>3%</b> of members that did not exit, were labeled as exit members"
   ]
  },
  {
   "cell_type": "code",
   "execution_count": 30,
   "metadata": {},
   "outputs": [
    {
     "name": "stdout",
     "output_type": "stream",
     "text": [
      "\n",
      "Answer counts\n"
     ]
    },
    {
     "data": {
      "text/plain": [
       "array([[1531,   49],\n",
       "       [ 236,  184]])"
      ]
     },
     "metadata": {},
     "output_type": "display_data"
    },
    {
     "name": "stdout",
     "output_type": "stream",
     "text": [
      "\n",
      "Answer proportions\n"
     ]
    },
    {
     "data": {
      "text/plain": [
       "array([[0.96898734, 0.03101266],\n",
       "       [0.56190476, 0.43809524]])"
      ]
     },
     "metadata": {},
     "output_type": "display_data"
    },
    {
     "data": {
      "text/plain": [
       "Text(0.5, 1.0, 'Confusion matrix for random forest model')"
      ]
     },
     "execution_count": 30,
     "metadata": {},
     "output_type": "execute_result"
    },
    {
     "data": {
      "image/png": "[encoded data removed]",
      "text/plain": [
       "<Figure size 1600x700 with 2 Axes>"
      ]
     },
     "metadata": {},
     "output_type": "display_data"
    }
   ],
   "source": [
    "# Create and reshape confusion matrix data\n",
    "model_rf2_matrix = confusion_matrix(target_ohe_valid, model_rf2_predictions)\n",
    "print()\n",
    "print('Answer counts')\n",
    "display(model_rf2_matrix)\n",
    "model_rf2_matrix = model_rf2_matrix.astype('float') / model_rf2_matrix.sum(axis=1)[:, np.newaxis]\n",
    "print()\n",
    "print('Answer proportions')\n",
    "display(model_rf2_matrix)\n",
    "\n",
    "# Build the plot\n",
    "plt.figure(figsize=(16,7))\n",
    "sns.set(font_scale=1.4)\n",
    "sns.heatmap(model_rf2_matrix, annot=True, annot_kws={'size':12},\n",
    "            cmap=plt.cm.Greens, linewidths=0.2)\n",
    "\n",
    "# Add labels to the plot\n",
    "class_names = ['Member did exit', 'Member did not exit']\n",
    "tick_marks = np.arange(len(class_names))\n",
    "tick_marks2 = tick_marks + 0.5\n",
    "plt.xticks(tick_marks2, class_names, rotation=0)\n",
    "plt.yticks(tick_marks2, class_names, rotation=0)\n",
    "plt.xlabel('Predicted label', fontweight='bold')\n",
    "plt.ylabel('True label', fontweight='bold')\n",
    "plt.title('Confusion matrix for random forest model', fontsize=20, fontweight='bold')"
   ]
  },
  {
   "cell_type": "markdown",
   "metadata": {},
   "source": [
    "#### Metrics review and recap\n",
    "\n",
    "The metrics here, along with the confusion matrix above, tells the story of the how the model is predicting. Accuracy is fairly high. Where the model is accuartely predicting however is for members that have not exited, represented by the precision metric at <b>0.79</b>. For exit members, there is some inaccuarcy in predicting these members correctly, represented by the recall metric at <b>0.438</b>. This leads to a suboptimal F1 score of <b>0.569</b>."
   ]
  },
  {
   "cell_type": "code",
   "execution_count": 31,
   "metadata": {},
   "outputs": [
    {
     "name": "stdout",
     "output_type": "stream",
     "text": [
      "\n",
      "Random forest model (Label encoding) metrics\n",
      "\n",
      "Accuracy score: 0.8575\n",
      "Precision: 0.7896995708154506\n",
      "Recall: 0.4380952380952381\n",
      "F1 score: 0.5635528330781011\n"
     ]
    }
   ],
   "source": [
    "# Retrieve accuracy score, precision, recall, and f1 score\n",
    "print()\n",
    "print('Random forest model (Label encoding) metrics')\n",
    "print()\n",
    "\n",
    "# Accuracy score\n",
    "print('Accuracy score:', accuracy_score(target_ohe_valid, model_rf2_predictions))\n",
    "\n",
    "# Precision\n",
    "print('Precision:', precision_score(target_ohe_valid, model_rf2_predictions))\n",
    "\n",
    "# Recall\n",
    "print('Recall:', recall_score(target_ohe_valid, model_rf2_predictions))\n",
    "\n",
    "# F1 score\n",
    "print('F1 score:', f1_score(target_ohe_valid, model_rf2_predictions))"
   ]
  },
  {
   "cell_type": "markdown",
   "metadata": {},
   "source": [
    "#### Random forest encoding technique conclusion\n",
    "\n",
    "After running and analyzing both models, one using one-hot encoding and the other using label encoding, there is not a substantial difference between the two encoding techniques in terms of the model's performance. Both had nearly identical predictions, albeit a couple of records. Therefore, both models do not need to be tested separately. Moving forward to model improvements and testing, the first random forest model using <b><font color='red'>one-hot encoding</font></b> will be used."
   ]
  },
  {
   "cell_type": "markdown",
   "metadata": {},
   "source": [
    "### Logistic regression\n",
    "\n",
    "After running the logistic regression, a bit surprisingly, the model performed poorly for a first run. As with the random forest model, the accuarcy score is respectable, but the F1 score is 25% worse than the random forest model and is also obviously lower than our <b>0.59</b> threshold. This infers that there is some precision or recall issues with the performance. Let's take a deeper dive.\n",
    "\n",
    "- F1 score: <b>0.278</b>\n",
    "- Accuracy score: <b>0.803</b>"
   ]
  },
  {
   "cell_type": "code",
   "execution_count": 32,
   "metadata": {},
   "outputs": [
    {
     "name": "stdout",
     "output_type": "stream",
     "text": [
      "\n",
      "F1 score: 0.27787934186471663\n",
      "Accuracy score: 0.8025\n"
     ]
    }
   ],
   "source": [
    "# Create and run logistic regression model\n",
    "model_lr = LogisticRegression(random_state=12345)\n",
    "model_lr.fit(features_ohe_train, target_ohe_train)\n",
    "model_lr_predictions = model_lr.predict(features_ohe_valid)\n",
    "\n",
    "# Get F1 score of model\n",
    "print()\n",
    "print('F1 score:', f1_score(target_ohe_valid, model_lr_predictions))\n",
    "print('Accuracy score:', accuracy_score(target_ohe_valid, model_lr_predictions))"
   ]
  },
  {
   "cell_type": "markdown",
   "metadata": {},
   "source": [
    "#### Sanity checks"
   ]
  },
  {
   "cell_type": "markdown",
   "metadata": {},
   "source": [
    "##### Value count comparison\n",
    "\n",
    "The same comparison is done here as a quick sanity check, comparing the target counts, ie acutal <b><mark>Exited</mark></b> counts, from the original dataset to the predicted counts generated from the model.\n",
    "\n",
    "The original dataset had a class 0 and class 1 distribution of <b>0.7963</b> and <b>0.2037</b> respectively.\n",
    "<br>The predictions had a class 0 and class 1 distribution of <b>0.937</b> and <b>0.064</b> respectively.\n",
    "\n",
    "The model shows a slight lean to predicting more class 0s, but the proportion is not vastly different, but it does differ by over 10%. This is not of surprise given the F1 score presented earlier. It seems the model is predicting more 0s than there actually are."
   ]
  },
  {
   "cell_type": "code",
   "execution_count": 33,
   "metadata": {},
   "outputs": [
    {
     "data": {
      "text/plain": [
       "0    7963\n",
       "1    2037\n",
       "Name: Exited, dtype: int64"
      ]
     },
     "metadata": {},
     "output_type": "display_data"
    },
    {
     "data": {
      "text/plain": [
       "0    0.7963\n",
       "1    0.2037\n",
       "Name: Exited, dtype: float64"
      ]
     },
     "metadata": {},
     "output_type": "display_data"
    },
    {
     "data": {
      "text/plain": [
       "(array([0, 1]), [Text(0, 0, '0'), Text(1, 0, '1')])"
      ]
     },
     "execution_count": 33,
     "metadata": {},
     "output_type": "execute_result"
    },
    {
     "data": {
      "image/png": "[encoded data removed]",
      "text/plain": [
       "<Figure size 800x400 with 1 Axes>"
      ]
     },
     "metadata": {},
     "output_type": "display_data"
    }
   ],
   "source": [
    "# Retrieve and plot unique counts of the target\n",
    "# Counts\n",
    "data_ohe['Exited'] = data_ohe['Exited'].astype('int')\n",
    "freq_cnts3 = data_ohe['Exited'].value_counts()\n",
    "display(freq_cnts3)\n",
    "\n",
    "# Proportions\n",
    "freq_prop3 = data_ohe['Exited'].value_counts(normalize=True)\n",
    "display(freq_prop3)\n",
    "\n",
    "freq_prop3.plot(kind='bar', figsize=(8,4), ylim=(0.0, 1.0))\n",
    "plt.title(label='TARGET - Counts of members who exited vs. not exited', fontsize=14)\n",
    "plt.yticks(fontsize=10)\n",
    "plt.xticks(fontsize=10)"
   ]
  },
  {
   "cell_type": "code",
   "execution_count": 34,
   "metadata": {},
   "outputs": [
    {
     "data": {
      "text/plain": [
       "0    1873\n",
       "1     127\n",
       "dtype: int64"
      ]
     },
     "metadata": {},
     "output_type": "display_data"
    },
    {
     "data": {
      "text/plain": [
       "0    0.9365\n",
       "1    0.0635\n",
       "dtype: float64"
      ]
     },
     "metadata": {},
     "output_type": "display_data"
    },
    {
     "data": {
      "text/plain": [
       "(array([0, 1]), [Text(0, 0, '0'), Text(1, 0, '1')])"
      ]
     },
     "execution_count": 34,
     "metadata": {},
     "output_type": "execute_result"
    },
    {
     "data": {
      "image/png": "[encoded data removed]",
      "text/plain": [
       "<Figure size 800x400 with 1 Axes>"
      ]
     },
     "metadata": {},
     "output_type": "display_data"
    }
   ],
   "source": [
    "# Retrieve and plot unique counts of the predictions\n",
    "# Counts\n",
    "model_lr_predictions_series = pd.Series(model_lr_predictions.astype('int'))\n",
    "freq_props_cnts3 = model_lr_predictions_series.value_counts()\n",
    "display(freq_props_cnts3)\n",
    "\n",
    "# Proportions\n",
    "freq_props_pred3 = model_lr_predictions_series.value_counts(normalize=True)\n",
    "display(freq_props_pred3)\n",
    "\n",
    "freq_props_pred3.plot(kind='bar', figsize=(8,4), ylim=(0.0, 1.0))\n",
    "plt.title(label='PREDICTIONS - Counts of members who exited vs. not exited', fontsize=14)\n",
    "plt.yticks(fontsize=10)\n",
    "plt.xticks(fontsize=10)"
   ]
  },
  {
   "cell_type": "markdown",
   "metadata": {},
   "source": [
    "##### Constant model comparison\n",
    "\n",
    "The comparison to a constant model is also performed as an additional sanity check. The constant model represents a Series of all zeroes. The check is to see if the accuarcy score of the constant model aligns with the accuarcy of our machine learning model.\n",
    "\n",
    "The accuarcy score of the logistic regression is <b>0.803</b>.\n",
    "<br>The accuarcy score of the constant model is <b>0.79</b>.\n",
    "\n",
    "The accuarcy scores are nearly identical. We are good to proceed with further analysis for this model."
   ]
  },
  {
   "cell_type": "code",
   "execution_count": 35,
   "metadata": {},
   "outputs": [
    {
     "name": "stdout",
     "output_type": "stream",
     "text": [
      "\n",
      "Accuracy score of random forest model first run: 0.8025\n",
      "Accuracy score of constant model: 0.79\n"
     ]
    }
   ],
   "source": [
    "# Create a constant model and compare to the random forest model\n",
    "pred_constant = pd.Series(0, index=target_ohe_valid.index)\n",
    "print()\n",
    "print('Accuracy score of random forest model first run:', accuracy_score(target_ohe_valid, model_lr_predictions))\n",
    "print('Accuracy score of constant model:', accuracy_score(target_ohe_valid, pred_constant))"
   ]
  },
  {
   "cell_type": "markdown",
   "metadata": {},
   "source": [
    "#### Confusion matrix\n",
    "\n",
    "The confusion matrix provides us with more detail into where the model was making incorrect predictions, ie what it is good at doing and what it is not.\n",
    "\n",
    "- True positives - <b>97%</b> of members that did not exit, were labeled as non-exit members\n",
    "- True negatives - <b>18%</b> of members that did exit, were labeled as exit members\n",
    "- False positives - <b>82%</b> of members that did exit, were labeled as non-exit members\n",
    "- False negatives - <b>3.2%</b> of members that did not exit, were labeled as exit members\n",
    "\n",
    "As with the random forest model, the logistic regression model does a very good job in predicting which customers did not exit. But for exit members, there is some inaccuracy. And here is where the differenes reside between both models. For the logistic regression, there are many more false positives, which is resulting in a worse F1 score. Only <b>18%</b> of class 1s are being predicted correctly."
   ]
  },
  {
   "cell_type": "code",
   "execution_count": 36,
   "metadata": {},
   "outputs": [
    {
     "name": "stdout",
     "output_type": "stream",
     "text": [
      "\n",
      "Answer counts\n"
     ]
    },
    {
     "data": {
      "text/plain": [
       "array([[1529,   51],\n",
       "       [ 344,   76]])"
      ]
     },
     "metadata": {},
     "output_type": "display_data"
    },
    {
     "name": "stdout",
     "output_type": "stream",
     "text": [
      "\n",
      "Answer proportions\n"
     ]
    },
    {
     "data": {
      "text/plain": [
       "array([[0.96772152, 0.03227848],\n",
       "       [0.81904762, 0.18095238]])"
      ]
     },
     "metadata": {},
     "output_type": "display_data"
    },
    {
     "data": {
      "text/plain": [
       "Text(0.5, 1.0, 'Confusion matrix for random forest model')"
      ]
     },
     "execution_count": 36,
     "metadata": {},
     "output_type": "execute_result"
    },
    {
     "data": {
      "image/png": "[encoded data removed]",
      "text/plain": [
       "<Figure size 1600x700 with 2 Axes>"
      ]
     },
     "metadata": {},
     "output_type": "display_data"
    }
   ],
   "source": [
    "# Create and reshape confusion matrix data\n",
    "model_lr_matrix = confusion_matrix(target_ohe_valid, model_lr_predictions)\n",
    "print()\n",
    "print('Answer counts')\n",
    "display(model_lr_matrix)\n",
    "model_lr_matrix = model_lr_matrix.astype('float') / model_lr_matrix.sum(axis=1)[:, np.newaxis]\n",
    "print()\n",
    "print('Answer proportions')\n",
    "display(model_lr_matrix)\n",
    "\n",
    "# Build the plot\n",
    "plt.figure(figsize=(16,7))\n",
    "sns.set(font_scale=1.4)\n",
    "sns.heatmap(model_lr_matrix, annot=True, annot_kws={'size':12},\n",
    "            cmap=plt.cm.Greens, linewidths=0.2)\n",
    "\n",
    "# Add labels to the plot\n",
    "class_names = ['Member did not exit', 'Member did exit']\n",
    "tick_marks = np.arange(len(class_names))\n",
    "tick_marks2 = tick_marks + 0.5\n",
    "plt.xticks(tick_marks2, class_names, rotation=0)\n",
    "plt.yticks(tick_marks2, class_names, rotation=0)\n",
    "plt.xlabel('Predicted label', fontweight='bold')\n",
    "plt.ylabel('True label', fontweight='bold')\n",
    "plt.title('Confusion matrix for random forest model', fontsize=20, fontweight='bold')"
   ]
  },
  {
   "cell_type": "markdown",
   "metadata": {},
   "source": [
    "#### Metrics review and recap\n",
    "\n",
    "The metrics here, along with the confusion matrix above, tells the story of the how the model is predicting. Accuracy is fairly high. Where the model is accuartely predicting however is for members that have not exited, represented by the precision metric at <b>0.59</b>. For exit members, there is some inaccuarcy in predicting these members correctly, represented by the recall metric at <b>0.18</b>. This leads to a suboptimal F1 score of <b>0.278</b>."
   ]
  },
  {
   "cell_type": "code",
   "execution_count": 37,
   "metadata": {},
   "outputs": [
    {
     "name": "stdout",
     "output_type": "stream",
     "text": [
      "\n",
      "Logisitc regression metrics\n",
      "\n",
      "Accuracy score: 0.8025\n",
      "Precision: 0.5984251968503937\n",
      "Recall: 0.18095238095238095\n",
      "F1 score: 0.27787934186471663\n"
     ]
    }
   ],
   "source": [
    "# Retrieve accuracy score, precision, recall, and f1 score\n",
    "print()\n",
    "print('Logisitc regression metrics')\n",
    "print()\n",
    "\n",
    "# Accuracy score\n",
    "print('Accuracy score:', accuracy_score(target_ohe_valid, model_lr_predictions))\n",
    "\n",
    "# Precision\n",
    "print('Precision:', precision_score(target_ohe_valid, model_lr_predictions))\n",
    "\n",
    "# Recall\n",
    "print('Recall:', recall_score(target_ohe_valid, model_lr_predictions))\n",
    "\n",
    "# F1 score\n",
    "print('F1 score:', f1_score(target_ohe_valid, model_lr_predictions))"
   ]
  },
  {
   "cell_type": "markdown",
   "metadata": {},
   "source": [
    "### Conclusion\n",
    "\n",
    "After the initial runs, both models do not meet the F1 score threshold of <b>0.59</b>. Even after certain preprocessing techniques, they still are missing the mark. There might class imbalance fixing or model improvements that need to be done to yield better results and a higher F1 score."
   ]
  },
  {
   "cell_type": "markdown",
   "metadata": {},
   "source": [
    "## Class imbalance analysis and improvements\n",
    "\n",
    "When the distribution of data across classes in a dataset is highly uneven, meaning that one class has significantly more samples compared to other classes, this can negatively impact the performance of a model. This is called a class imbalance. Could the low F1 scores, all being below the <b>0.59</b> threshold, be caused by a class imbalance in the data?\n",
    "\n",
    "First, a class imbalance within the dataset was verified by attaining counts of the target, or <b><mark>Exited</mark></b> field. <b>Upsamling</b> and <b>threshold adjusmtent</b> techniques were then applied to the dataset to mitigate the effects of the imbalance."
   ]
  },
  {
   "cell_type": "markdown",
   "metadata": {},
   "source": [
    "### Is there a class imbalance?\n",
    "\n",
    "There is clear class imbalance in the dataset. Counts within the training dataset are about a 80 / 20 split. This difference in the number of samples could be having a negative on the model.\n",
    "\n",
    "- Class 0 - 4797 | <b>79.9%</b>\n",
    "- Class 1 - 1203 | <b>20%</b>\n",
    "\n"
   ]
  },
  {
   "cell_type": "code",
   "execution_count": 38,
   "metadata": {},
   "outputs": [
    {
     "name": "stdout",
     "output_type": "stream",
     "text": [
      "\n",
      "SHAPE\n"
     ]
    },
    {
     "data": {
      "text/plain": [
       "(6000, 11)"
      ]
     },
     "metadata": {},
     "output_type": "display_data"
    },
    {
     "name": "stdout",
     "output_type": "stream",
     "text": [
      "\n",
      "COUNTS OF TARGET\n"
     ]
    },
    {
     "data": {
      "text/plain": [
       "(6000,)"
      ]
     },
     "metadata": {},
     "output_type": "display_data"
    },
    {
     "data": {
      "text/plain": [
       "0    4797\n",
       "1    1203\n",
       "Name: Exited, dtype: int64"
      ]
     },
     "metadata": {},
     "output_type": "display_data"
    },
    {
     "data": {
      "text/plain": [
       "Text(0.5, 1.0, 'Member distribution')"
      ]
     },
     "execution_count": 38,
     "metadata": {},
     "output_type": "execute_result"
    },
    {
     "data": {
      "image/png": "[encoded data removed]",
      "text/plain": [
       "<Figure size 640x480 with 1 Axes>"
      ]
     },
     "metadata": {},
     "output_type": "display_data"
    }
   ],
   "source": [
    "# Find shape of features and target for training dataset\n",
    "print()\n",
    "print('SHAPE')\n",
    "display(features_ohe_train.shape)\n",
    "print()\n",
    "print('COUNTS OF TARGET')\n",
    "display(target_ohe_train.shape)\n",
    "\n",
    "# Find counts of target\n",
    "target_train_cnts = target_ohe_train.value_counts()\n",
    "display(target_train_cnts)\n",
    "\n",
    "# Plot pie chart\n",
    "plot1 = target_train_cnts.plot.pie(autopct='%1.1f%%')\n",
    "plot1.set_ylabel('')\n",
    "plt.title('Member distribution')"
   ]
  },
  {
   "cell_type": "markdown",
   "metadata": {},
   "source": [
    "### Upsampling\n",
    "\n",
    "Upsamling was the first technique performed to mitigate the class imbalanace in the data. Or in other words, duplicating the number of class 1 samples in the data so they are more even with the number of class 0 samples. The upsampling process was a 4-step process.\n",
    "\n",
    "- Split the training sample into negative and positive observations\n",
    "- Duplicate the positive observations by a <b><font color='red'>factor of 4</font></b>\n",
    "- Create a new training sample based on the data obtained\n",
    "- Shuffle the data\n",
    "\n",
    "After the data was upsampled, the class 1s records now portray a representative portion of the dataset.\n",
    "\n",
    "Old counts\n",
    "\n",
    "- Class 0 - <b>4797</b>\n",
    "- Class 1 - <b>1203</b>\n",
    "\n",
    "New counts\n",
    "\n",
    "- Class 0 - <b>4797</b>\n",
    "- Class 1 - <b>4812</b>\n"
   ]
  },
  {
   "cell_type": "code",
   "execution_count": 39,
   "metadata": {},
   "outputs": [
    {
     "name": "stdout",
     "output_type": "stream",
     "text": [
      "\n",
      "OLD SHAPE AND COUNTS\n"
     ]
    },
    {
     "data": {
      "text/plain": [
       "(6000, 11)"
      ]
     },
     "metadata": {},
     "output_type": "display_data"
    },
    {
     "data": {
      "text/plain": [
       "(6000,)"
      ]
     },
     "metadata": {},
     "output_type": "display_data"
    },
    {
     "data": {
      "text/plain": [
       "0    4797\n",
       "1    1203\n",
       "Name: Exited, dtype: int64"
      ]
     },
     "metadata": {},
     "output_type": "display_data"
    },
    {
     "name": "stdout",
     "output_type": "stream",
     "text": [
      "\n",
      "NEW SHAPE AND COUNTS\n"
     ]
    },
    {
     "data": {
      "text/plain": [
       "(9609, 11)"
      ]
     },
     "metadata": {},
     "output_type": "display_data"
    },
    {
     "data": {
      "text/plain": [
       "(9609,)"
      ]
     },
     "metadata": {},
     "output_type": "display_data"
    },
    {
     "data": {
      "text/plain": [
       "1    4812\n",
       "0    4797\n",
       "Name: Exited, dtype: int64"
      ]
     },
     "metadata": {},
     "output_type": "display_data"
    }
   ],
   "source": [
    "# Split training dataset into class 0s and 1s\n",
    "features_ohe_train_zeroes = features_ohe_train[target_ohe_train == 0]\n",
    "features_ohe_train_ones = features_ohe_train[target_ohe_train == 1]\n",
    "target_ohe_train_zeroes = target_ohe_train[target_ohe_train == 0]\n",
    "target_ohe_train_ones = target_ohe_train[target_ohe_train == 1]\n",
    "\n",
    "# Duplicate the class 1 observations by a factor of 4\n",
    "features_train_upsampled = pd.concat([features_ohe_train_zeroes] + [features_ohe_train_ones] * 4)\n",
    "target_train_upsampled = pd.concat([target_ohe_train_zeroes] + [target_ohe_train_ones] * 4)\n",
    "\n",
    "# Shuffle the data\n",
    "features_train_upsampled, target_train_upsampled = shuffle(features_train_upsampled, target_train_upsampled, random_state=12345)\n",
    "\n",
    "# Display old shape and counts versus new shape and counts\n",
    "print()\n",
    "print('OLD SHAPE AND COUNTS')\n",
    "display(features_ohe_train.shape)\n",
    "display(target_ohe_train.shape)\n",
    "display(target_ohe_train.value_counts())\n",
    "print()\n",
    "print('NEW SHAPE AND COUNTS')\n",
    "display(features_train_upsampled.shape)\n",
    "display(target_train_upsampled.shape)\n",
    "display(target_train_upsampled.value_counts())"
   ]
  },
  {
   "cell_type": "markdown",
   "metadata": {},
   "source": [
    "### Threshold adjustment\n",
    "\n",
    "The second technique that was applied to mitigate the class imbalance in the data was <b>adjusting the thresholds</b>. A threshold is a specific value that acts as a cut-off point to determine the final classification of a prediction. Anything above the threshold is considered class 1 and anything below the threshold is class 0. Can we improve the performance of the models by updating the threshold value to a different value?"
   ]
  },
  {
   "cell_type": "markdown",
   "metadata": {},
   "source": [
    "#### Random forest\n",
    "\n",
    "A precision-recall curve, or PR curve, reveals at what thresholds the model yields the best precisions and recalls. It is a easy to comprehend visual that determines what threshold may be best for a particular model.\n",
    "\n",
    "For the random forest classification model, the PR curve shows that the best precisions and recalls together reside between 0.2 and 0.8. Thresholds outside of this range have too big of inaccuracies. A for loop iterating over this range concludes that a threshold <b><font color='red'>0.5</font></b> is the optimal threshold, having a F1 score of <b>0.594</b>.\n",
    "\n",
    "However, <b>0.5</b> is the default threshold for the algorithm to begin with. So, there is actually no change needed to the threshold for the model. The optimal threshold is already in place! "
   ]
  },
  {
   "cell_type": "code",
   "execution_count": 40,
   "metadata": {},
   "outputs": [
    {
     "data": {
      "image/png": "[encoded data removed]",
      "text/plain": [
       "<Figure size 640x480 with 1 Axes>"
      ]
     },
     "metadata": {},
     "output_type": "display_data"
    }
   ],
   "source": [
    "# Find class 1 probabilities and create PR curve\n",
    "probabilities_rf = model_rf1.predict_proba(features_ohe_valid)\n",
    "probabilities_rf_one = probabilities_rf[:, 1]\n",
    "precision, recall, threshold = precision_recall_curve(target_ohe_valid, probabilities_rf_one)\n",
    "\n",
    "# Plot PR curve\n",
    "plt.plot(threshold, precision[:-1], c ='r', label ='Precision') \n",
    "plt.plot(threshold, recall[:-1], c ='b', label ='Recall') \n",
    "plt.grid(axis='both', linestyle = '--', color='white') \n",
    "plt.legend(facecolor='white')\n",
    "plt.title('Precision - Recall Curve')\n",
    "plt.xlabel(\"Threshold\", fontsize=14)\n",
    "plt.ylabel(\"Score\", fontsize=14)\n",
    "plt.grid(axis='both', linestyle = '--', color='white')"
   ]
  },
  {
   "cell_type": "code",
   "execution_count": 41,
   "metadata": {},
   "outputs": [
    {
     "name": "stdout",
     "output_type": "stream",
     "text": [
      "Threshold = 0.20 | Precision = 0.451 | Recall = 0.707 | F1 score = 0.551\n",
      "Threshold = 0.30 | Precision = 0.576 | Recall = 0.605 | F1 score = 0.590\n",
      "Threshold = 0.40 | Precision = 0.698 | Recall = 0.517 | F1 score = 0.594\n",
      "Threshold = 0.50 | Precision = 0.795 | Recall = 0.443 | F1 score = 0.569\n",
      "Threshold = 0.60 | Precision = 0.858 | Recall = 0.374 | F1 score = 0.521\n",
      "Threshold = 0.70 | Precision = 0.929 | Recall = 0.281 | F1 score = 0.431\n",
      "Threshold = 0.80 | Precision = 0.933 | Recall = 0.167 | F1 score = 0.283\n"
     ]
    }
   ],
   "source": [
    "for threshold in np.arange(0.2, 0.8, 0.1):\n",
    "    predicted = probabilities_rf_one > threshold\n",
    "    precision = precision_score(target_ohe_valid, predicted)\n",
    "    recall = recall_score(target_ohe_valid, predicted)\n",
    "    F1_score = f1_score(target_ohe_valid, predicted)\n",
    "    print('Threshold = {:.2f} | Precision = {:.3f} | Recall = {:.3f} | F1 score = {:.3f}'.format(threshold, precision, recall, F1_score))"
   ]
  },
  {
   "cell_type": "markdown",
   "metadata": {},
   "source": [
    "#### Logistic regression\n",
    "\n",
    "For the logisitic regression classification model, the PR curve shows that the best precisions and recalls together reside between -2.0 and 1.0. Thresholds outside of this range have too big of inaccuracies. A for loop iterating over this range concludes that a threshold <b><font color='red'>-1.2</font></b> is the optimal threshold.\n",
    "\n",
    "The F1 score at a <b>-1.2</b> threshold is <b>0.507</b>. This threshold will be used in future testing for the logistic regression model."
   ]
  },
  {
   "cell_type": "code",
   "execution_count": 42,
   "metadata": {},
   "outputs": [
    {
     "data": {
      "image/png": "[encoded data removed]",
      "text/plain": [
       "<Figure size 640x480 with 1 Axes>"
      ]
     },
     "metadata": {},
     "output_type": "display_data"
    }
   ],
   "source": [
    "# Find class 1 probabilities and create PR curve\n",
    "probabilities_lr = model_lr.decision_function(features_ohe_valid) \n",
    "precision, recall, threshold = precision_recall_curve(target_ohe_valid, probabilities_lr)\n",
    "\n",
    "# Plot PR curve\n",
    "plt.plot(threshold, precision[:-1], c ='r', label ='Precision') \n",
    "plt.plot(threshold, recall[:-1], c ='b', label ='Recall') \n",
    "plt.grid(axis='both', linestyle = '--', color='white') \n",
    "plt.legend(facecolor='white')\n",
    "plt.title('Precision - Recall Curve')\n",
    "plt.xlabel(\"Threshold\", fontsize=14)\n",
    "plt.ylabel(\"Score\", fontsize=14)\n",
    "plt.grid(axis='both', linestyle = '--', color='white') "
   ]
  },
  {
   "cell_type": "code",
   "execution_count": 43,
   "metadata": {},
   "outputs": [
    {
     "name": "stdout",
     "output_type": "stream",
     "text": [
      "Threshold = -2.00 | Precision = 0.301 | Recall = 0.874 | F1 score = 0.448\n",
      "Threshold = -1.80 | Precision = 0.326 | Recall = 0.829 | F1 score = 0.467\n",
      "Threshold = -1.60 | Precision = 0.346 | Recall = 0.762 | F1 score = 0.476\n",
      "Threshold = -1.40 | Precision = 0.378 | Recall = 0.698 | F1 score = 0.490\n",
      "Threshold = -1.20 | Precision = 0.423 | Recall = 0.633 | F1 score = 0.507\n",
      "Threshold = -1.00 | Precision = 0.455 | Recall = 0.545 | F1 score = 0.496\n",
      "Threshold = -0.80 | Precision = 0.503 | Recall = 0.467 | F1 score = 0.484\n",
      "Threshold = -0.60 | Precision = 0.525 | Recall = 0.371 | F1 score = 0.435\n",
      "Threshold = -0.40 | Precision = 0.524 | Recall = 0.283 | F1 score = 0.368\n",
      "Threshold = -0.20 | Precision = 0.539 | Recall = 0.229 | F1 score = 0.321\n",
      "Threshold = -0.00 | Precision = 0.598 | Recall = 0.181 | F1 score = 0.278\n",
      "Threshold = 0.20 | Precision = 0.663 | Recall = 0.131 | F1 score = 0.219\n",
      "Threshold = 0.40 | Precision = 0.750 | Recall = 0.093 | F1 score = 0.165\n",
      "Threshold = 0.60 | Precision = 0.722 | Recall = 0.062 | F1 score = 0.114\n",
      "Threshold = 0.80 | Precision = 0.696 | Recall = 0.038 | F1 score = 0.072\n"
     ]
    }
   ],
   "source": [
    "for threshold in np.arange(-2.0, 1.0, 0.2):\n",
    "    predicted = probabilities_lr > threshold\n",
    "    precision = precision_score(target_ohe_valid, predicted)\n",
    "    recall = recall_score(target_ohe_valid, predicted)\n",
    "    F1_score = f1_score(target_ohe_valid, predicted)\n",
    "    print('Threshold = {:.2f} | Precision = {:.3f} | Recall = {:.3f} | F1 score = {:.3f}'.format(threshold, precision, recall, F1_score))"
   ]
  },
  {
   "cell_type": "markdown",
   "metadata": {},
   "source": [
    "## Model quality improvements"
   ]
  },
  {
   "cell_type": "markdown",
   "metadata": {},
   "source": [
    "### Tuning hyperparameters\n",
    "\n",
    "Now that the class imbalance in the data has been resolved, next task is to improve the quality of the model by updating certain hyperparameters. For the random forest model, <b>n_estimators</b>, <b>max_depth</b>, <b>min_samples_leaf</b>, and <b>min_samples_split</b> were all tested to see if updating their values would yield better results and accuracy. For the logistic regression model, <b>solver</b>, <b>penalty</b>, <b>C</b>, and <b>max_iter</b> were tested. After the parameters were tinkered with, the best possible combination of parameters were identified using a gridsearch object. These combinations are going to be used in the final evaluation of the both models."
   ]
  },
  {
   "cell_type": "markdown",
   "metadata": {},
   "source": [
    "#### Random forest"
   ]
  },
  {
   "cell_type": "markdown",
   "metadata": {},
   "source": [
    "##### n_estimators\n",
    "\n",
    "<b>n_estimators</b> represents the number of trees in the forest. It might be thought that using many trees to fit a model will help to get a more generalized result, but this is not always the case, so analysis was done to identify the best values.\n",
    "\n",
    "Many estimator values and ranges were investigated. The estimator range between 1 - 10 yielded the lowest accuracies and F1 scores. From here, the scores steadily increased the higher the estimator values became, peaking at a range between 70 - 80. For values after this range, accuracies and F1 scores no longer increased, and rather they started to decrease once the estimator values cleared 100.\n",
    "\n",
    "The best results came within the range <b><font color='red'>70</font></b> - <b><font color='red'>80</font></b>, where <b>0.601</b> was the highest F1 score achieved. These values will be used for the <b>n_estimator</b> parameter in future predictions and modeling."
   ]
  },
  {
   "cell_type": "code",
   "execution_count": 44,
   "metadata": {},
   "outputs": [
    {
     "name": "stdout",
     "output_type": "stream",
     "text": [
      "n_estimators: = 1 : 0.758 | 0.477\n",
      "n_estimators: = 2 : 0.821 | 0.444\n",
      "n_estimators: = 3 : 0.808 | 0.52\n",
      "n_estimators: = 4 : 0.826 | 0.49\n",
      "n_estimators: = 5 : 0.819 | 0.541\n",
      "n_estimators: = 6 : 0.828 | 0.519\n",
      "n_estimators: = 7 : 0.826 | 0.555\n",
      "n_estimators: = 8 : 0.838 | 0.541\n",
      "n_estimators: = 9 : 0.838 | 0.582\n",
      "n_estimators: = 10 : 0.837 | 0.552\n"
     ]
    }
   ],
   "source": [
    "# Compare n_estimator values (range 1-10)\n",
    "for estimator in range(1, 11):\n",
    "    model_rf1 = RandomForestClassifier(n_estimators=estimator, random_state=12345)\n",
    "    model_rf1.fit(features_train_upsampled, target_train_upsampled)\n",
    "    preds_valid = model_rf1.predict(features_ohe_valid)\n",
    "    print('n_estimators: =', estimator, ': ', end='')\n",
    "    print(accuracy_score(target_ohe_valid, preds_valid).round(3), '| ', end='')\n",
    "    print(f1_score(target_ohe_valid, preds_valid).round(3))"
   ]
  },
  {
   "cell_type": "code",
   "execution_count": 45,
   "metadata": {},
   "outputs": [
    {
     "name": "stdout",
     "output_type": "stream",
     "text": [
      "n_estimators: = 70 : 0.852 | 0.591\n",
      "n_estimators: = 71 : 0.85 | 0.59\n",
      "n_estimators: = 72 : 0.852 | 0.589\n",
      "n_estimators: = 73 : 0.852 | 0.595\n",
      "n_estimators: = 74 : 0.852 | 0.592\n",
      "n_estimators: = 75 : 0.852 | 0.598\n",
      "n_estimators: = 76 : 0.853 | 0.595\n",
      "n_estimators: = 77 : 0.854 | 0.601\n",
      "n_estimators: = 78 : 0.852 | 0.594\n",
      "n_estimators: = 79 : 0.854 | 0.601\n",
      "n_estimators: = 80 : 0.852 | 0.593\n"
     ]
    }
   ],
   "source": [
    "# Compare n_estimator values (range 70-80)\n",
    "for estimator in range(70, 81):\n",
    "    model_rf1 = RandomForestClassifier(n_estimators=estimator, random_state=12345)\n",
    "    model_rf1.fit(features_train_upsampled, target_train_upsampled)\n",
    "    preds_valid = model_rf1.predict(features_ohe_valid)\n",
    "    print('n_estimators: =', estimator, ': ', end='')\n",
    "    print(accuracy_score(target_ohe_valid, preds_valid).round(3), '| ', end='')\n",
    "    print(f1_score(target_ohe_valid, preds_valid).round(3))"
   ]
  },
  {
   "cell_type": "markdown",
   "metadata": {},
   "source": [
    "##### max_depth\n",
    "\n",
    "The range of values first invesigated for the <b>max_depth</b> parameter was 1 - 25. Accuracies and F1 scores jump after a <b>max_depth</b> of <b>8</b>, where F1 scores hit higher 50s. The rest of the max_depth values within this range hover around a F1 score of 0.60, where a depth of <b>10</b> is the first depth we see with a <b>60%</b> F1 score, and depth <b>16</b> is the depth with the highest F1 score at <b>0.606</b>. For values after this range, so from 26 and beyond, the exact same F1 score is achieved no matter how high the value is.\n",
    "\n",
    "It is clear that the optimal range for the <b>max_depth</b> parameter is between <b><font color='red'>10</font></b> - <b><font color='red'>20</font></b>. These values will be used in future predictions and modeling."
   ]
  },
  {
   "cell_type": "code",
   "execution_count": 48,
   "metadata": {},
   "outputs": [
    {
     "name": "stdout",
     "output_type": "stream",
     "text": [
      "max_depth = 1 : 0.738 | 0.505\n",
      "max_depth = 2 : 0.738 | 0.507\n",
      "max_depth = 3 : 0.764 | 0.541\n",
      "max_depth = 4 : 0.772 | 0.549\n",
      "max_depth = 5 : 0.78 | 0.561\n",
      "max_depth = 6 : 0.78 | 0.562\n",
      "max_depth = 7 : 0.796 | 0.584\n",
      "max_depth = 8 : 0.806 | 0.592\n",
      "max_depth = 9 : 0.816 | 0.595\n",
      "max_depth = 10 : 0.822 | 0.605\n",
      "max_depth = 11 : 0.826 | 0.598\n",
      "max_depth = 12 : 0.834 | 0.595\n",
      "max_depth = 13 : 0.838 | 0.597\n",
      "max_depth = 14 : 0.844 | 0.601\n",
      "max_depth = 15 : 0.844 | 0.6\n",
      "max_depth = 16 : 0.85 | 0.606\n",
      "max_depth = 17 : 0.85 | 0.6\n",
      "max_depth = 18 : 0.85 | 0.593\n",
      "max_depth = 19 : 0.854 | 0.602\n",
      "max_depth = 20 : 0.854 | 0.602\n",
      "max_depth = 21 : 0.848 | 0.584\n",
      "max_depth = 22 : 0.852 | 0.594\n",
      "max_depth = 23 : 0.854 | 0.6\n",
      "max_depth = 24 : 0.853 | 0.595\n",
      "max_depth = 25 : 0.854 | 0.6\n"
     ]
    }
   ],
   "source": [
    "# Compare max_depth values (range 1-25)\n",
    "for depth in range(1, 26):\n",
    "    model_rf1 = RandomForestClassifier(max_depth=depth, random_state=12345)\n",
    "    model_rf1.fit(features_train_upsampled, target_train_upsampled)\n",
    "    preds_valid = model_rf1.predict(features_ohe_valid)\n",
    "    print('max_depth =', depth, ': ', end='')\n",
    "    print(accuracy_score(target_ohe_valid, preds_valid).round(3), '| ', end='')\n",
    "    print(f1_score(target_ohe_valid, preds_valid).round(3))"
   ]
  },
  {
   "cell_type": "code",
   "execution_count": 49,
   "metadata": {},
   "outputs": [
    {
     "name": "stdout",
     "output_type": "stream",
     "text": [
      "max_depth = 26 : 0.854 | 0.596\n",
      "max_depth = 27 : 0.853 | 0.596\n",
      "max_depth = 28 : 0.853 | 0.596\n",
      "max_depth = 29 : 0.853 | 0.596\n",
      "max_depth = 30 : 0.853 | 0.596\n",
      "max_depth = 31 : 0.853 | 0.596\n",
      "max_depth = 32 : 0.853 | 0.596\n",
      "max_depth = 33 : 0.853 | 0.596\n",
      "max_depth = 34 : 0.853 | 0.596\n",
      "max_depth = 35 : 0.853 | 0.596\n"
     ]
    }
   ],
   "source": [
    "# Compare max_depth values (range 25-35)\n",
    "for depth in range(26, 36):\n",
    "    model_rf1 = RandomForestClassifier(max_depth=depth, random_state=12345)\n",
    "    model_rf1.fit(features_train_upsampled, target_train_upsampled)\n",
    "    preds_valid = model_rf1.predict(features_ohe_valid)\n",
    "    print('max_depth =', depth, ': ', end='')\n",
    "    print(accuracy_score(target_ohe_valid, preds_valid).round(3), '| ', end='')\n",
    "    print(f1_score(target_ohe_valid, preds_valid).round(3))"
   ]
  },
  {
   "cell_type": "markdown",
   "metadata": {},
   "source": [
    "##### min_samples_leaf\n",
    "\n",
    "A range of 1 - 25 was first selected for testing the <b>min_samples_leaf</b> parameter. Looking at the accuracies and F1 scores, they do not change much, hovering around <b>0.58</b> and <b>0.59</b>. The highest F1 score is actually at sample <b>1</b> with a F1 score of <b>0.596</b>. From this point, the scores continuously decrease the higher the <b>min_sample_leaf</b> value. For example, at range 90 - 100, the score dip to <b>0.56</b>.\n",
    "\n",
    "Updating the <b>min_samples_leaf</b> parameters is not yielding any improvement in terms of accuracy and F1 score. Therefore, updating this parameter will not be part of future modeling and will be left at its default value."
   ]
  },
  {
   "cell_type": "code",
   "execution_count": 50,
   "metadata": {},
   "outputs": [
    {
     "name": "stdout",
     "output_type": "stream",
     "text": [
      "min_samples_leaf: = 1 : 0.853 | 0.596\n",
      "min_samples_leaf: = 2 : 0.838 | 0.592\n",
      "min_samples_leaf: = 3 : 0.836 | 0.594\n",
      "min_samples_leaf: = 4 : 0.829 | 0.592\n",
      "min_samples_leaf: = 5 : 0.826 | 0.592\n",
      "min_samples_leaf: = 6 : 0.824 | 0.595\n",
      "min_samples_leaf: = 7 : 0.819 | 0.589\n",
      "min_samples_leaf: = 8 : 0.816 | 0.589\n",
      "min_samples_leaf: = 9 : 0.812 | 0.584\n",
      "min_samples_leaf: = 10 : 0.811 | 0.589\n",
      "min_samples_leaf: = 11 : 0.814 | 0.592\n",
      "min_samples_leaf: = 12 : 0.814 | 0.596\n",
      "min_samples_leaf: = 13 : 0.806 | 0.585\n",
      "min_samples_leaf: = 14 : 0.81 | 0.589\n",
      "min_samples_leaf: = 15 : 0.808 | 0.593\n",
      "min_samples_leaf: = 16 : 0.808 | 0.589\n",
      "min_samples_leaf: = 17 : 0.805 | 0.585\n",
      "min_samples_leaf: = 18 : 0.802 | 0.58\n",
      "min_samples_leaf: = 19 : 0.802 | 0.581\n",
      "min_samples_leaf: = 20 : 0.8 | 0.58\n",
      "min_samples_leaf: = 21 : 0.8 | 0.579\n",
      "min_samples_leaf: = 22 : 0.801 | 0.581\n",
      "min_samples_leaf: = 23 : 0.806 | 0.587\n",
      "min_samples_leaf: = 24 : 0.797 | 0.579\n",
      "min_samples_leaf: = 25 : 0.792 | 0.571\n"
     ]
    }
   ],
   "source": [
    "# Compare min_samples_leaf values (range 1-10)\n",
    "for leaf_samples in range(1, 26):\n",
    "    model_rf1 = RandomForestClassifier(min_samples_leaf=leaf_samples, random_state=12345)\n",
    "    model_rf1.fit(features_train_upsampled, target_train_upsampled)\n",
    "    preds_valid = model_rf1.predict(features_ohe_valid)\n",
    "    print('min_samples_leaf: =', leaf_samples, ': ', end='')\n",
    "    print(accuracy_score(target_ohe_valid, preds_valid).round(3), '| ', end='')\n",
    "    print(f1_score(target_ohe_valid, preds_valid).round(3))"
   ]
  },
  {
   "cell_type": "code",
   "execution_count": 51,
   "metadata": {},
   "outputs": [
    {
     "name": "stdout",
     "output_type": "stream",
     "text": [
      "min_samples_leaf: = 90 : 0.772 | 0.555\n",
      "min_samples_leaf: = 91 : 0.776 | 0.562\n",
      "min_samples_leaf: = 92 : 0.776 | 0.562\n",
      "min_samples_leaf: = 93 : 0.776 | 0.561\n",
      "min_samples_leaf: = 94 : 0.776 | 0.559\n",
      "min_samples_leaf: = 95 : 0.776 | 0.562\n",
      "min_samples_leaf: = 96 : 0.775 | 0.559\n",
      "min_samples_leaf: = 97 : 0.778 | 0.563\n",
      "min_samples_leaf: = 98 : 0.777 | 0.563\n",
      "min_samples_leaf: = 99 : 0.774 | 0.56\n",
      "min_samples_leaf: = 100 : 0.776 | 0.565\n"
     ]
    }
   ],
   "source": [
    "# Compare min_samples_leaf values (range 90-101)\n",
    "for leaf_samples in range(90, 101):\n",
    "    model_rf1 = RandomForestClassifier(min_samples_leaf=leaf_samples, random_state=12345)\n",
    "    model_rf1.fit(features_train_upsampled, target_train_upsampled)\n",
    "    preds_valid = model_rf1.predict(features_ohe_valid)\n",
    "    print('min_samples_leaf: =', leaf_samples, ': ', end='')\n",
    "    print(accuracy_score(target_ohe_valid, preds_valid).round(3), '| ', end='')\n",
    "    print(f1_score(target_ohe_valid, preds_valid).round(3))"
   ]
  },
  {
   "cell_type": "markdown",
   "metadata": {},
   "source": [
    "##### min_samples_split\n",
    "\n",
    "A range of 2 - 40 was investigated for the <b>min_samples_split</b> parameter. At sample value <b>10</b>, scores start to hit above 0.60. After value 10, all scores hover around the <b>0.60</b> mark, with sample value <b>20</b> yielding the highest F1 score at <b>0.607</b>.\n",
    "\n",
    "Most of the values yield similar accuracies and F1 scores, but there is a slight increase above <b>min_samples_split</b> value 10, where scores are above 0.60. The range of <b><font color='red'>10</font></b> - <b><font color='red'>40</font></b> will be used for future predictions and modeling."
   ]
  },
  {
   "cell_type": "code",
   "execution_count": 52,
   "metadata": {},
   "outputs": [
    {
     "name": "stdout",
     "output_type": "stream",
     "text": [
      "min_samples_split = 2 :0.853 | 0.596\n",
      "min_samples_split = 3 :0.846 | 0.58\n",
      "min_samples_split = 4 :0.851 | 0.598\n",
      "min_samples_split = 5 :0.848 | 0.596\n",
      "min_samples_split = 6 :0.848 | 0.599\n",
      "min_samples_split = 7 :0.848 | 0.599\n",
      "min_samples_split = 8 :0.84 | 0.588\n",
      "min_samples_split = 9 :0.841 | 0.594\n",
      "min_samples_split = 10 :0.84 | 0.594\n",
      "min_samples_split = 11 :0.84 | 0.602\n",
      "min_samples_split = 12 :0.84 | 0.603\n",
      "min_samples_split = 13 :0.84 | 0.61\n",
      "min_samples_split = 14 :0.837 | 0.603\n",
      "min_samples_split = 15 :0.834 | 0.604\n",
      "min_samples_split = 16 :0.836 | 0.606\n",
      "min_samples_split = 17 :0.833 | 0.6\n",
      "min_samples_split = 18 :0.833 | 0.6\n",
      "min_samples_split = 19 :0.835 | 0.61\n",
      "min_samples_split = 20 :0.832 | 0.607\n",
      "min_samples_split = 21 :0.83 | 0.6\n",
      "min_samples_split = 22 :0.83 | 0.606\n",
      "min_samples_split = 23 :0.827 | 0.6\n",
      "min_samples_split = 24 :0.824 | 0.595\n",
      "min_samples_split = 25 :0.824 | 0.596\n",
      "min_samples_split = 26 :0.826 | 0.601\n",
      "min_samples_split = 27 :0.824 | 0.597\n",
      "min_samples_split = 28 :0.823 | 0.598\n",
      "min_samples_split = 29 :0.825 | 0.602\n",
      "min_samples_split = 30 :0.825 | 0.604\n",
      "min_samples_split = 31 :0.826 | 0.604\n",
      "min_samples_split = 32 :0.824 | 0.603\n",
      "min_samples_split = 33 :0.821 | 0.6\n",
      "min_samples_split = 34 :0.824 | 0.606\n",
      "min_samples_split = 35 :0.823 | 0.603\n",
      "min_samples_split = 36 :0.823 | 0.6\n",
      "min_samples_split = 37 :0.824 | 0.604\n",
      "min_samples_split = 38 :0.822 | 0.604\n",
      "min_samples_split = 39 :0.82 | 0.601\n",
      "min_samples_split = 40 :0.816 | 0.596\n"
     ]
    }
   ],
   "source": [
    "# Compare min_samples_split values\n",
    "for split_samples in range(2, 41):\n",
    "    model_rf1 = RandomForestClassifier(min_samples_split=split_samples, random_state=12345)\n",
    "    model_rf1.fit(features_train_upsampled, target_train_upsampled)\n",
    "    preds_valid = model_rf1.predict(features_ohe_valid)\n",
    "    print('min_samples_split =', split_samples, ':', end='')\n",
    "    print(accuracy_score(target_ohe_valid, preds_valid).round(3), '| ', end='')\n",
    "    print(f1_score(target_ohe_valid, preds_valid).round(3))"
   ]
  },
  {
   "cell_type": "markdown",
   "metadata": {},
   "source": [
    "##### gridsearch\n",
    "\n",
    "To find the best combination of hyperparameters, a <b>gridsearch</b> object was created to test all possible combinations based on the ideal range of values that were previously identified. The parameter grid includes the following parameters and values that were used in the calculation.\n",
    "\n",
    "<b>NOTE</b>: not all values within the specified ranges were used in the parameter grid because of decreased performance and time. The gridsearch object takes some time to run through all the possible combinations, so only some values were chosen within the ranges specified during the previous analysis.\n",
    "\n",
    "- <b>n_esimtators</b>: 9, 60, 70, 79\n",
    "- <b>max_depth</b>: 10, 12, 15, 18, 20\n",
    "- <b>min_samples_split</b>: 2, 10, 15, 20, 25, 30"
   ]
  },
  {
   "cell_type": "code",
   "execution_count": 53,
   "metadata": {},
   "outputs": [
    {
     "name": "stdout",
     "output_type": "stream",
     "text": [
      "Best hyperparameters: {'max_depth': 20, 'min_samples_split': 2, 'n_estimators': 60}\n",
      "Best F1 score: 0.9571924684760461\n",
      "\n",
      "\n"
     ]
    },
    {
     "data": {
      "text/plain": [
       "defaultdict(functools.partial(<class 'numpy.ndarray'>, 0),\n",
       "            {'params': [{'max_depth': 10,\n",
       "               'min_samples_split': 2,\n",
       "               'n_estimators': 9},\n",
       "              {'max_depth': 10, 'min_samples_split': 2, 'n_estimators': 60},\n",
       "              {'max_depth': 10, 'min_samples_split': 2, 'n_estimators': 70},\n",
       "              {'max_depth': 10, 'min_samples_split': 2, 'n_estimators': 79},\n",
       "              {'max_depth': 10, 'min_samples_split': 10, 'n_estimators': 9},\n",
       "              {'max_depth': 10, 'min_samples_split': 10, 'n_estimators': 60},\n",
       "              {'max_depth': 10, 'min_samples_split': 10, 'n_estimators': 70},\n",
       "              {'max_depth': 10, 'min_samples_split': 10, 'n_estimators': 79},\n",
       "              {'max_depth': 10, 'min_samples_split': 15, 'n_estimators': 9},\n",
       "              {'max_depth': 10, 'min_samples_split': 15, 'n_estimators': 60},\n",
       "              {'max_depth': 10, 'min_samples_split': 15, 'n_estimators': 70},\n",
       "              {'max_depth': 10, 'min_samples_split': 15, 'n_estimators': 79},\n",
       "              {'max_depth': 10, 'min_samples_split': 20, 'n_estimators': 9},\n",
       "              {'max_depth': 10, 'min_samples_split': 20, 'n_estimators': 60},\n",
       "              {'max_depth': 10, 'min_samples_split': 20, 'n_estimators': 70},\n",
       "              {'max_depth': 10, 'min_samples_split': 20, 'n_estimators': 79},\n",
       "              {'max_depth': 10, 'min_samples_split': 25, 'n_estimators': 9},\n",
       "              {'max_depth': 10, 'min_samples_split': 25, 'n_estimators': 60},\n",
       "              {'max_depth': 10, 'min_samples_split': 25, 'n_estimators': 70},\n",
       "              {'max_depth': 10, 'min_samples_split': 25, 'n_estimators': 79},\n",
       "              {'max_depth': 10, 'min_samples_split': 30, 'n_estimators': 9},\n",
       "              {'max_depth': 10, 'min_samples_split': 30, 'n_estimators': 60},\n",
       "              {'max_depth': 10, 'min_samples_split': 30, 'n_estimators': 70},\n",
       "              {'max_depth': 10, 'min_samples_split': 30, 'n_estimators': 79},\n",
       "              {'max_depth': 12, 'min_samples_split': 2, 'n_estimators': 9},\n",
       "              {'max_depth': 12, 'min_samples_split': 2, 'n_estimators': 60},\n",
       "              {'max_depth': 12, 'min_samples_split': 2, 'n_estimators': 70},\n",
       "              {'max_depth': 12, 'min_samples_split': 2, 'n_estimators': 79},\n",
       "              {'max_depth': 12, 'min_samples_split': 10, 'n_estimators': 9},\n",
       "              {'max_depth': 12, 'min_samples_split': 10, 'n_estimators': 60},\n",
       "              {'max_depth': 12, 'min_samples_split': 10, 'n_estimators': 70},\n",
       "              {'max_depth': 12, 'min_samples_split': 10, 'n_estimators': 79},\n",
       "              {'max_depth': 12, 'min_samples_split': 15, 'n_estimators': 9},\n",
       "              {'max_depth': 12, 'min_samples_split': 15, 'n_estimators': 60},\n",
       "              {'max_depth': 12, 'min_samples_split': 15, 'n_estimators': 70},\n",
       "              {'max_depth': 12, 'min_samples_split': 15, 'n_estimators': 79},\n",
       "              {'max_depth': 12, 'min_samples_split': 20, 'n_estimators': 9},\n",
       "              {'max_depth': 12, 'min_samples_split': 20, 'n_estimators': 60},\n",
       "              {'max_depth': 12, 'min_samples_split': 20, 'n_estimators': 70},\n",
       "              {'max_depth': 12, 'min_samples_split': 20, 'n_estimators': 79},\n",
       "              {'max_depth': 12, 'min_samples_split': 25, 'n_estimators': 9},\n",
       "              {'max_depth': 12, 'min_samples_split': 25, 'n_estimators': 60},\n",
       "              {'max_depth': 12, 'min_samples_split': 25, 'n_estimators': 70},\n",
       "              {'max_depth': 12, 'min_samples_split': 25, 'n_estimators': 79},\n",
       "              {'max_depth': 12, 'min_samples_split': 30, 'n_estimators': 9},\n",
       "              {'max_depth': 12, 'min_samples_split': 30, 'n_estimators': 60},\n",
       "              {'max_depth': 12, 'min_samples_split': 30, 'n_estimators': 70},\n",
       "              {'max_depth': 12, 'min_samples_split': 30, 'n_estimators': 79},\n",
       "              {'max_depth': 15, 'min_samples_split': 2, 'n_estimators': 9},\n",
       "              {'max_depth': 15, 'min_samples_split': 2, 'n_estimators': 60},\n",
       "              {'max_depth': 15, 'min_samples_split': 2, 'n_estimators': 70},\n",
       "              {'max_depth': 15, 'min_samples_split': 2, 'n_estimators': 79},\n",
       "              {'max_depth': 15, 'min_samples_split': 10, 'n_estimators': 9},\n",
       "              {'max_depth': 15, 'min_samples_split': 10, 'n_estimators': 60},\n",
       "              {'max_depth': 15, 'min_samples_split': 10, 'n_estimators': 70},\n",
       "              {'max_depth': 15, 'min_samples_split': 10, 'n_estimators': 79},\n",
       "              {'max_depth': 15, 'min_samples_split': 15, 'n_estimators': 9},\n",
       "              {'max_depth': 15, 'min_samples_split': 15, 'n_estimators': 60},\n",
       "              {'max_depth': 15, 'min_samples_split': 15, 'n_estimators': 70},\n",
       "              {'max_depth': 15, 'min_samples_split': 15, 'n_estimators': 79},\n",
       "              {'max_depth': 15, 'min_samples_split': 20, 'n_estimators': 9},\n",
       "              {'max_depth': 15, 'min_samples_split': 20, 'n_estimators': 60},\n",
       "              {'max_depth': 15, 'min_samples_split': 20, 'n_estimators': 70},\n",
       "              {'max_depth': 15, 'min_samples_split': 20, 'n_estimators': 79},\n",
       "              {'max_depth': 15, 'min_samples_split': 25, 'n_estimators': 9},\n",
       "              {'max_depth': 15, 'min_samples_split': 25, 'n_estimators': 60},\n",
       "              {'max_depth': 15, 'min_samples_split': 25, 'n_estimators': 70},\n",
       "              {'max_depth': 15, 'min_samples_split': 25, 'n_estimators': 79},\n",
       "              {'max_depth': 15, 'min_samples_split': 30, 'n_estimators': 9},\n",
       "              {'max_depth': 15, 'min_samples_split': 30, 'n_estimators': 60},\n",
       "              {'max_depth': 15, 'min_samples_split': 30, 'n_estimators': 70},\n",
       "              {'max_depth': 15, 'min_samples_split': 30, 'n_estimators': 79},\n",
       "              {'max_depth': 18, 'min_samples_split': 2, 'n_estimators': 9},\n",
       "              {'max_depth': 18, 'min_samples_split': 2, 'n_estimators': 60},\n",
       "              {'max_depth': 18, 'min_samples_split': 2, 'n_estimators': 70},\n",
       "              {'max_depth': 18, 'min_samples_split': 2, 'n_estimators': 79},\n",
       "              {'max_depth': 18, 'min_samples_split': 10, 'n_estimators': 9},\n",
       "              {'max_depth': 18, 'min_samples_split': 10, 'n_estimators': 60},\n",
       "              {'max_depth': 18, 'min_samples_split': 10, 'n_estimators': 70},\n",
       "              {'max_depth': 18, 'min_samples_split': 10, 'n_estimators': 79},\n",
       "              {'max_depth': 18, 'min_samples_split': 15, 'n_estimators': 9},\n",
       "              {'max_depth': 18, 'min_samples_split': 15, 'n_estimators': 60},\n",
       "              {'max_depth': 18, 'min_samples_split': 15, 'n_estimators': 70},\n",
       "              {'max_depth': 18, 'min_samples_split': 15, 'n_estimators': 79},\n",
       "              {'max_depth': 18, 'min_samples_split': 20, 'n_estimators': 9},\n",
       "              {'max_depth': 18, 'min_samples_split': 20, 'n_estimators': 60},\n",
       "              {'max_depth': 18, 'min_samples_split': 20, 'n_estimators': 70},\n",
       "              {'max_depth': 18, 'min_samples_split': 20, 'n_estimators': 79},\n",
       "              {'max_depth': 18, 'min_samples_split': 25, 'n_estimators': 9},\n",
       "              {'max_depth': 18, 'min_samples_split': 25, 'n_estimators': 60},\n",
       "              {'max_depth': 18, 'min_samples_split': 25, 'n_estimators': 70},\n",
       "              {'max_depth': 18, 'min_samples_split': 25, 'n_estimators': 79},\n",
       "              {'max_depth': 18, 'min_samples_split': 30, 'n_estimators': 9},\n",
       "              {'max_depth': 18, 'min_samples_split': 30, 'n_estimators': 60},\n",
       "              {'max_depth': 18, 'min_samples_split': 30, 'n_estimators': 70},\n",
       "              {'max_depth': 18, 'min_samples_split': 30, 'n_estimators': 79},\n",
       "              {'max_depth': 20, 'min_samples_split': 2, 'n_estimators': 9},\n",
       "              {'max_depth': 20, 'min_samples_split': 2, 'n_estimators': 60},\n",
       "              {'max_depth': 20, 'min_samples_split': 2, 'n_estimators': 70},\n",
       "              {'max_depth': 20, 'min_samples_split': 2, 'n_estimators': 79},\n",
       "              {'max_depth': 20, 'min_samples_split': 10, 'n_estimators': 9},\n",
       "              {'max_depth': 20, 'min_samples_split': 10, 'n_estimators': 60},\n",
       "              {'max_depth': 20, 'min_samples_split': 10, 'n_estimators': 70},\n",
       "              {'max_depth': 20, 'min_samples_split': 10, 'n_estimators': 79},\n",
       "              {'max_depth': 20, 'min_samples_split': 15, 'n_estimators': 9},\n",
       "              {'max_depth': 20, 'min_samples_split': 15, 'n_estimators': 60},\n",
       "              {'max_depth': 20, 'min_samples_split': 15, 'n_estimators': 70},\n",
       "              {'max_depth': 20, 'min_samples_split': 15, 'n_estimators': 79},\n",
       "              {'max_depth': 20, 'min_samples_split': 20, 'n_estimators': 9},\n",
       "              {'max_depth': 20, 'min_samples_split': 20, 'n_estimators': 60},\n",
       "              {'max_depth': 20, 'min_samples_split': 20, 'n_estimators': 70},\n",
       "              {'max_depth': 20, 'min_samples_split': 20, 'n_estimators': 79},\n",
       "              {'max_depth': 20, 'min_samples_split': 25, 'n_estimators': 9},\n",
       "              {'max_depth': 20, 'min_samples_split': 25, 'n_estimators': 60},\n",
       "              {'max_depth': 20, 'min_samples_split': 25, 'n_estimators': 70},\n",
       "              {'max_depth': 20, 'min_samples_split': 25, 'n_estimators': 79},\n",
       "              {'max_depth': 20, 'min_samples_split': 30, 'n_estimators': 9},\n",
       "              {'max_depth': 20, 'min_samples_split': 30, 'n_estimators': 60},\n",
       "              {'max_depth': 20, 'min_samples_split': 30, 'n_estimators': 70},\n",
       "              {'max_depth': 20, 'min_samples_split': 30, 'n_estimators': 79}],\n",
       "             'split0_test_score': array([0.85358255, 0.86938565, 0.86880165, 0.86690834, 0.84703434,\n",
       "                    0.85297185, 0.85431842, 0.85506494, 0.84215992, 0.85121825,\n",
       "                    0.85015609, 0.84940073, 0.83928571, 0.84177546, 0.84270833,\n",
       "                    0.84523189, 0.82168926, 0.84446764, 0.84122853, 0.84281984,\n",
       "                    0.82949791, 0.83674541, 0.84237996, 0.84474647, 0.90060241,\n",
       "                    0.92462312, 0.92361809, 0.92555332, 0.87869521, 0.8902439 ,\n",
       "                    0.8953252 , 0.8956743 , 0.85831622, 0.87852383, 0.88172043,\n",
       "                    0.88057406, 0.85729006, 0.86525555, 0.86773031, 0.86422303,\n",
       "                    0.85150571, 0.85773196, 0.8600823 , 0.86244204, 0.84671533,\n",
       "                    0.85699374, 0.85773624, 0.85431842, 0.93919921, 0.95143707,\n",
       "                    0.95096582, 0.95049505, 0.90881612, 0.93060409, 0.92892893,\n",
       "                    0.931     , 0.89550732, 0.91523713, 0.90991903, 0.91220989,\n",
       "                    0.87103378, 0.89387755, 0.88764045, 0.88741044, 0.85787848,\n",
       "                    0.8705036 , 0.86960986, 0.87423313, 0.8469123 , 0.86219449,\n",
       "                    0.86145833, 0.86235662, 0.93851451, 0.95441031, 0.95773247,\n",
       "                    0.95678092, 0.9186747 , 0.94070752, 0.9388364 , 0.93790363,\n",
       "                    0.8947636 , 0.91733871, 0.91532258, 0.91431452, 0.88106177,\n",
       "                    0.8850281 , 0.88945492, 0.89251146, 0.85223725, 0.87914329,\n",
       "                    0.88073394, 0.8815455 , 0.8443299 , 0.85891473, 0.86260331,\n",
       "                    0.86128364, 0.94471866, 0.95725646, 0.95773247, 0.95535714,\n",
       "                    0.92284569, 0.9332004 , 0.9332004 , 0.93572496, 0.897111  ,\n",
       "                    0.91249368, 0.91341772, 0.91818182, 0.88135593, 0.89581205,\n",
       "                    0.89489796, 0.89908257, 0.85359545, 0.87595712, 0.88061224,\n",
       "                    0.88163265, 0.8503856 , 0.86333161, 0.86683805, 0.86670098]),\n",
       "             'split1_test_score': array([0.83088235, 0.85684539, 0.85283411, 0.85150571, 0.82931937,\n",
       "                    0.84012539, 0.83682008, 0.8384736 , 0.82521186, 0.83935113,\n",
       "                    0.84029228, 0.84117032, 0.82389937, 0.8335958 , 0.83149606,\n",
       "                    0.83246073, 0.82018927, 0.82526316, 0.82359136, 0.82532982,\n",
       "                    0.81419624, 0.82937137, 0.82762256, 0.829653  , 0.88575742,\n",
       "                    0.9004065 , 0.90279898, 0.90338897, 0.8608115 , 0.88455618,\n",
       "                    0.87764584, 0.87855297, 0.86477987, 0.86246122, 0.8655636 ,\n",
       "                    0.86391753, 0.83860924, 0.85817805, 0.85595855, 0.85551528,\n",
       "                    0.84659386, 0.84490862, 0.84309623, 0.84458399, 0.83682008,\n",
       "                    0.83914628, 0.83429169, 0.83611691, 0.94117647, 0.94883259,\n",
       "                    0.95024876, 0.94883259, 0.89179668, 0.90816844, 0.90650407,\n",
       "                    0.91084093, 0.87339826, 0.89263804, 0.88501027, 0.88820513,\n",
       "                    0.85493827, 0.87319588, 0.87390633, 0.87416538, 0.84735202,\n",
       "                    0.8595127 , 0.85743909, 0.86009293, 0.83894355, 0.84807492,\n",
       "                    0.84971399, 0.84955752, 0.94356436, 0.95214357, 0.95309381,\n",
       "                    0.95404595, 0.90735146, 0.91394061, 0.91511803, 0.91603821,\n",
       "                    0.8699643 , 0.89329268, 0.89262087, 0.89342172, 0.85919099,\n",
       "                    0.8815654 , 0.88214102, 0.87975334, 0.84483653, 0.86039297,\n",
       "                    0.86068111, 0.8611399 , 0.83542977, 0.85150571, 0.85462098,\n",
       "                    0.85431842, 0.93811395, 0.95356965, 0.95309381, 0.94977623,\n",
       "                    0.90763052, 0.9209068 , 0.91717172, 0.91717172, 0.88163265,\n",
       "                    0.89893347, 0.89307536, 0.89409369, 0.85993821, 0.87880351,\n",
       "                    0.87855297, 0.87938144, 0.8463136 , 0.8627451 , 0.85964912,\n",
       "                    0.86347244, 0.83229167, 0.85477178, 0.85358255, 0.85477178]),\n",
       "             'split2_test_score': array([0.84470094, 0.8554729 , 0.85395645, 0.8563858 , 0.84088514,\n",
       "                    0.84794087, 0.8441627 , 0.84489148, 0.82955145, 0.84456233,\n",
       "                    0.84132055, 0.83991462, 0.83467095, 0.83449384, 0.8306538 ,\n",
       "                    0.83146067, 0.82515991, 0.83022885, 0.82843399, 0.8307528 ,\n",
       "                    0.83040936, 0.82685136, 0.82799145, 0.82541377, 0.88866085,\n",
       "                    0.90946502, 0.91402252, 0.91179487, 0.87344398, 0.88302277,\n",
       "                    0.88128564, 0.88244433, 0.87120419, 0.87120419, 0.86970173,\n",
       "                    0.86956522, 0.84934383, 0.85879874, 0.85849553, 0.85669125,\n",
       "                    0.84481852, 0.85185185, 0.85412262, 0.84880637, 0.829685  ,\n",
       "                    0.85275424, 0.84851695, 0.84684685, 0.93173891, 0.95247624,\n",
       "                    0.95247624, 0.95438596, 0.90816327, 0.92425013, 0.9252669 ,\n",
       "                    0.92268566, 0.87855297, 0.90375708, 0.90478641, 0.90269151,\n",
       "                    0.87168831, 0.87941788, 0.87817522, 0.88037286, 0.86074619,\n",
       "                    0.86760858, 0.86837965, 0.86942842, 0.8455456 , 0.8553393 ,\n",
       "                    0.85624344, 0.85699264, 0.946     , 0.95639098, 0.95735073,\n",
       "                    0.95831241, 0.91121258, 0.93387178, 0.93286219, 0.93272635,\n",
       "                    0.89516958, 0.90732207, 0.90620195, 0.90834613, 0.86711829,\n",
       "                    0.89175258, 0.89256198, 0.89119171, 0.86503387, 0.8707483 ,\n",
       "                    0.87695516, 0.87695516, 0.85230281, 0.86579634, 0.86297071,\n",
       "                    0.86415883, 0.94563591, 0.95879397, 0.95927602, 0.95735073,\n",
       "                    0.90955285, 0.93589096, 0.93885801, 0.93998991, 0.89570552,\n",
       "                    0.91726251, 0.91542799, 0.91393443, 0.86694387, 0.89096573,\n",
       "                    0.89073019, 0.89176592, 0.85684431, 0.87388802, 0.87656904,\n",
       "                    0.87565308, 0.84765419, 0.86548488, 0.86282723, 0.86225026]),\n",
       "             'mean_valid_score': array([0.84941038, 0.86280162, 0.86193525, 0.86275551, 0.8409838 ,\n",
       "                    0.85243349, 0.85096768, 0.85132546, 0.83471398, 0.84865685,\n",
       "                    0.84756684, 0.84756803, 0.83024692, 0.84014882, 0.83848762,\n",
       "                    0.84069629, 0.82591524, 0.8358838 , 0.83535279, 0.83664388,\n",
       "                    0.82817088, 0.83069511, 0.83266365, 0.8333837 , 0.89696704,\n",
       "                    0.91478733, 0.91658115, 0.91693363, 0.87773005, 0.89342541,\n",
       "                    0.89204264, 0.89242972, 0.86459711, 0.87446576, 0.87528983,\n",
       "                    0.87475198, 0.85186699, 0.86509806, 0.86505318, 0.86417782,\n",
       "                    0.85068046, 0.85522873, 0.85628188, 0.85591508, 0.8378622 ,\n",
       "                    0.85051788, 0.84823465, 0.84813314, 0.93920355, 0.95229671,\n",
       "                    0.95277129, 0.95258404, 0.90706126, 0.92340073, 0.9226678 ,\n",
       "                    0.92393982, 0.8860794 , 0.90603282, 0.90342698, 0.90416363,\n",
       "                    0.86922522, 0.8833315 , 0.88318154, 0.88411918, 0.85863919,\n",
       "                    0.86957143, 0.86870119, 0.87136552, 0.8454231 , 0.85695885,\n",
       "                    0.85854123, 0.85895606, 0.94507256, 0.95547919, 0.95690842,\n",
       "                    0.95709564, 0.91432338, 0.93187673, 0.93157531, 0.93192011,\n",
       "                    0.88889937, 0.90777616, 0.90755096, 0.9078374 , 0.87253553,\n",
       "                    0.88918759, 0.88964057, 0.89059102, 0.85800072, 0.87188562,\n",
       "                    0.87452826, 0.87458524, 0.84532211, 0.86024567, 0.86101578,\n",
       "                    0.86159147, 0.94375443, 0.95719247, 0.95700322, 0.95509878,\n",
       "                    0.91479   , 0.93150588, 0.93155293, 0.93239051, 0.88957706,\n",
       "                    0.91043861, 0.90938498, 0.90983272, 0.87115291, 0.89132765,\n",
       "                    0.8908756 , 0.89281149, 0.85623419, 0.87328028, 0.87491399,\n",
       "                    0.87607759, 0.8457994 , 0.86047196, 0.86272233, 0.8632857 ])})"
      ]
     },
     "metadata": {},
     "output_type": "display_data"
    }
   ],
   "source": [
    "# Compare values of all hyperparameters\n",
    "# Create parameter grid\n",
    "param_grid_rf1 = {'n_estimators': [9, 60, 70, 79],\n",
    "              'max_depth': [10, 12, 15, 18, 20],\n",
    "              'min_samples_split': [2, 10, 15, 20, 25, 30]}\n",
    "\n",
    "# Create gridsearch object\n",
    "model_rf1_grid = RandomForestClassifier(random_state=12345)\n",
    "grid_search_rf1 = GridSearchCV(estimator=model_rf1_grid, param_grid=param_grid_rf1, cv=5, scoring='f1')\n",
    "\n",
    "# Fit model and identify best hyperparameter combinations\n",
    "grid_search_rf1.fit(features_train_upsampled, target_train_upsampled)\n",
    "grid_search_rf1.cv_results_\n",
    "dict_rf1 = defaultdict(partial(np.ndarray, 0))\n",
    "dict_rf1['params'] = grid_search_rf1.cv_results_['params']\n",
    "dict_rf1['split0_test_score'] = grid_search_rf1.cv_results_['split0_test_score']\n",
    "dict_rf1['split1_test_score'] = grid_search_rf1.cv_results_['split1_test_score']\n",
    "dict_rf1['split2_test_score'] = grid_search_rf1.cv_results_['split2_test_score']\n",
    "dict_rf1['mean_valid_score'] = grid_search_rf1.cv_results_['mean_test_score']\n",
    "print(\"Best hyperparameters:\", grid_search_rf1.best_params_)\n",
    "print(\"Best F1 score:\", grid_search_rf1.best_score_)\n",
    "print()\n",
    "print()\n",
    "display(dict_rf1)"
   ]
  },
  {
   "cell_type": "markdown",
   "metadata": {},
   "source": [
    "##### Optimized model run\n",
    "\n",
    "The fully optimized random forest model has an accuracy of <b>0.858</b> and a F1 score of <b>0.607</b>. Over the threshold of <b>0.59</b>! The following hyperparameter combination will be used to train the model during final evaluation.\n",
    "\n",
    "- <b>n_estimator</b>: 60\n",
    "- <b>max_depth</b>: 20\n",
    "- <b>min_samples_split</b>: 2"
   ]
  },
  {
   "cell_type": "code",
   "execution_count": 54,
   "metadata": {},
   "outputs": [
    {
     "name": "stdout",
     "output_type": "stream",
     "text": [
      "Accuracy score: 0.858\n",
      "F1 score 0.607\n"
     ]
    }
   ],
   "source": [
    "# Get predictions and scores with new hyperparameter values\n",
    "model_rf1 = RandomForestClassifier(n_estimators=60, max_depth=20, min_samples_split=2, random_state=12345)\n",
    "model_rf1.fit(features_train_upsampled, target_train_upsampled)\n",
    "preds_valid = model_rf1.predict(features_ohe_valid)\n",
    "print('Accuracy score:', accuracy_score(target_ohe_valid, preds_valid).round(3))\n",
    "print('F1 score', f1_score(target_ohe_valid, preds_valid).round(3))"
   ]
  },
  {
   "cell_type": "markdown",
   "metadata": {},
   "source": [
    "#### Logistic regression\n",
    "\n",
    "For the logistic regression model, there were not many values of the hyperparameters that needed to be investigated. So, a <b>gridsearch</b> object was created at the start to find the best combination for the following hyperparameters: <b>solver</b>, <b>penalty</b>, <b>C</b>, and <b>max_iter</b>."
   ]
  },
  {
   "cell_type": "markdown",
   "metadata": {},
   "source": [
    "##### gridsearch"
   ]
  },
  {
   "cell_type": "code",
   "execution_count": 55,
   "metadata": {
    "collapsed": true,
    "jupyter": {
     "outputs_hidden": true
    }
   },
   "outputs": [
    {
     "name": "stdout",
     "output_type": "stream",
     "text": [
      "Best hyperparameters: {'C': 0.01, 'max_iter': 500, 'penalty': 'l2', 'solver': 'lbfgs'}\n",
      "Best F1 score: 0.7001322080642386\n",
      "\n"
     ]
    },
    {
     "data": {
      "text/plain": [
       "defaultdict(functools.partial(<class 'numpy.ndarray'>, 0),\n",
       "            {'params': [{'C': 0.01,\n",
       "               'max_iter': 500,\n",
       "               'penalty': 'l2',\n",
       "               'solver': 'lbfgs'},\n",
       "              {'C': 0.01,\n",
       "               'max_iter': 1000,\n",
       "               'penalty': 'l2',\n",
       "               'solver': 'lbfgs'},\n",
       "              {'C': 0.01,\n",
       "               'max_iter': 5000,\n",
       "               'penalty': 'l2',\n",
       "               'solver': 'lbfgs'},\n",
       "              {'C': 0.01,\n",
       "               'max_iter': 10000,\n",
       "               'penalty': 'l2',\n",
       "               'solver': 'lbfgs'},\n",
       "              {'C': 0.1, 'max_iter': 500, 'penalty': 'l2', 'solver': 'lbfgs'},\n",
       "              {'C': 0.1, 'max_iter': 1000, 'penalty': 'l2', 'solver': 'lbfgs'},\n",
       "              {'C': 0.1, 'max_iter': 5000, 'penalty': 'l2', 'solver': 'lbfgs'},\n",
       "              {'C': 0.1,\n",
       "               'max_iter': 10000,\n",
       "               'penalty': 'l2',\n",
       "               'solver': 'lbfgs'},\n",
       "              {'C': 0.5, 'max_iter': 500, 'penalty': 'l2', 'solver': 'lbfgs'},\n",
       "              {'C': 0.5, 'max_iter': 1000, 'penalty': 'l2', 'solver': 'lbfgs'},\n",
       "              {'C': 0.5, 'max_iter': 5000, 'penalty': 'l2', 'solver': 'lbfgs'},\n",
       "              {'C': 0.5,\n",
       "               'max_iter': 10000,\n",
       "               'penalty': 'l2',\n",
       "               'solver': 'lbfgs'},\n",
       "              {'C': 1.0, 'max_iter': 500, 'penalty': 'l2', 'solver': 'lbfgs'},\n",
       "              {'C': 1.0, 'max_iter': 1000, 'penalty': 'l2', 'solver': 'lbfgs'},\n",
       "              {'C': 1.0, 'max_iter': 5000, 'penalty': 'l2', 'solver': 'lbfgs'},\n",
       "              {'C': 1.0,\n",
       "               'max_iter': 10000,\n",
       "               'penalty': 'l2',\n",
       "               'solver': 'lbfgs'}],\n",
       "             'split0_test_score': array([0.7079646 , 0.7079646 , 0.7079646 , 0.7079646 , 0.70496894,\n",
       "                    0.70496894, 0.70496894, 0.70496894, 0.70454545, 0.70454545,\n",
       "                    0.70454545, 0.70454545, 0.70381837, 0.70381837, 0.70381837,\n",
       "                    0.70381837]),\n",
       "             'split1_test_score': array([0.68786433, 0.68786433, 0.68786433, 0.68786433, 0.68647215,\n",
       "                    0.68647215, 0.68647215, 0.68647215, 0.68541114, 0.68541114,\n",
       "                    0.68541114, 0.68541114, 0.68541114, 0.68541114, 0.68541114,\n",
       "                    0.68541114]),\n",
       "             'split2_test_score': array([0.70220786, 0.70220786, 0.70220786, 0.70220786, 0.70386266,\n",
       "                    0.70386266, 0.70386266, 0.70386266, 0.7027897 , 0.7027897 ,\n",
       "                    0.7027897 , 0.7027897 , 0.7027897 , 0.7027897 , 0.7027897 ,\n",
       "                    0.7027897 ]),\n",
       "             'mean_valid_score': array([0.70013221, 0.70013221, 0.70013221, 0.70013221, 0.69847498,\n",
       "                    0.69847498, 0.69847498, 0.69847498, 0.69762114, 0.69762114,\n",
       "                    0.69762114, 0.69762114, 0.69754989, 0.69754989, 0.69754989,\n",
       "                    0.69754989])})"
      ]
     },
     "metadata": {},
     "output_type": "display_data"
    }
   ],
   "source": [
    "# Compare values of hyperparameters for lbfgs solver\n",
    "# Create parameter grid\n",
    "param_grid_lr_lbfgs = {'solver': ['lbfgs'],\n",
    "              'penalty': ['l2'],\n",
    "              'C': [0.01, 0.1, 0.5, 1.0],\n",
    "              'max_iter': [500, 1000, 5000, 10000]}\n",
    "\n",
    "# Create gridsearch object\n",
    "model_lr_grid = LogisticRegression(random_state=12345)\n",
    "grid_search_lr_lbfgs = GridSearchCV(estimator=model_lr_grid, param_grid=param_grid_lr_lbfgs, cv=5, scoring='f1')\n",
    "\n",
    "# Fit model and identify best hyperparameter combinations\n",
    "grid_search_lr_lbfgs.fit(features_train_upsampled, target_train_upsampled)\n",
    "grid_search_lr_lbfgs.cv_results_\n",
    "dict_lr_lbfgs = defaultdict(partial(np.ndarray, 0))\n",
    "dict_lr_lbfgs['params'] = grid_search_lr_lbfgs.cv_results_['params']\n",
    "dict_lr_lbfgs['split0_test_score'] = grid_search_lr_lbfgs.cv_results_['split0_test_score']\n",
    "dict_lr_lbfgs['split1_test_score'] = grid_search_lr_lbfgs.cv_results_['split1_test_score']\n",
    "dict_lr_lbfgs['split2_test_score'] = grid_search_lr_lbfgs.cv_results_['split2_test_score']\n",
    "dict_lr_lbfgs['mean_valid_score'] = grid_search_lr_lbfgs.cv_results_['mean_test_score']\n",
    "print(\"Best hyperparameters:\", grid_search_lr_lbfgs.best_params_)\n",
    "print(\"Best F1 score:\", grid_search_lr_lbfgs.best_score_)\n",
    "print()\n",
    "display(dict_lr_lbfgs)"
   ]
  },
  {
   "cell_type": "code",
   "execution_count": 56,
   "metadata": {},
   "outputs": [
    {
     "name": "stdout",
     "output_type": "stream",
     "text": [
      "Best hyperparameters: {'C': 0.1, 'max_iter': 500, 'penalty': 'l1', 'solver': 'liblinear'}\n",
      "Best F1 score: 0.6985983142869342\n",
      "\n"
     ]
    },
    {
     "data": {
      "text/plain": [
       "defaultdict(functools.partial(<class 'numpy.ndarray'>, 0),\n",
       "            {'params': [{'C': 0.01,\n",
       "               'max_iter': 500,\n",
       "               'penalty': 'l2',\n",
       "               'solver': 'lbfgs'},\n",
       "              {'C': 0.01,\n",
       "               'max_iter': 1000,\n",
       "               'penalty': 'l2',\n",
       "               'solver': 'lbfgs'},\n",
       "              {'C': 0.01,\n",
       "               'max_iter': 5000,\n",
       "               'penalty': 'l2',\n",
       "               'solver': 'lbfgs'},\n",
       "              {'C': 0.01,\n",
       "               'max_iter': 10000,\n",
       "               'penalty': 'l2',\n",
       "               'solver': 'lbfgs'},\n",
       "              {'C': 0.1, 'max_iter': 500, 'penalty': 'l2', 'solver': 'lbfgs'},\n",
       "              {'C': 0.1, 'max_iter': 1000, 'penalty': 'l2', 'solver': 'lbfgs'},\n",
       "              {'C': 0.1, 'max_iter': 5000, 'penalty': 'l2', 'solver': 'lbfgs'},\n",
       "              {'C': 0.1,\n",
       "               'max_iter': 10000,\n",
       "               'penalty': 'l2',\n",
       "               'solver': 'lbfgs'},\n",
       "              {'C': 0.5, 'max_iter': 500, 'penalty': 'l2', 'solver': 'lbfgs'},\n",
       "              {'C': 0.5, 'max_iter': 1000, 'penalty': 'l2', 'solver': 'lbfgs'},\n",
       "              {'C': 0.5, 'max_iter': 5000, 'penalty': 'l2', 'solver': 'lbfgs'},\n",
       "              {'C': 0.5,\n",
       "               'max_iter': 10000,\n",
       "               'penalty': 'l2',\n",
       "               'solver': 'lbfgs'},\n",
       "              {'C': 1.0, 'max_iter': 500, 'penalty': 'l2', 'solver': 'lbfgs'},\n",
       "              {'C': 1.0, 'max_iter': 1000, 'penalty': 'l2', 'solver': 'lbfgs'},\n",
       "              {'C': 1.0, 'max_iter': 5000, 'penalty': 'l2', 'solver': 'lbfgs'},\n",
       "              {'C': 1.0,\n",
       "               'max_iter': 10000,\n",
       "               'penalty': 'l2',\n",
       "               'solver': 'lbfgs'}],\n",
       "             'split0_test_score': array([0.70950611, 0.7078534 , 0.70950611, 0.7078534 , 0.70950611,\n",
       "                    0.7078534 , 0.70950611, 0.7078534 , 0.70502851, 0.7033195 ,\n",
       "                    0.70502851, 0.7033195 , 0.70502851, 0.7033195 , 0.70502851,\n",
       "                    0.7033195 , 0.70490956, 0.70490956, 0.70490956, 0.70490956,\n",
       "                    0.70490956, 0.70490956, 0.70490956, 0.70490956, 0.70521425,\n",
       "                    0.70381837, 0.70521425, 0.70381837, 0.70521425, 0.70381837,\n",
       "                    0.70521425, 0.70381837]),\n",
       "             'split1_test_score': array([0.68034557, 0.68647215, 0.68034557, 0.68647215, 0.68034557,\n",
       "                    0.68647215, 0.68034557, 0.68647215, 0.68437832, 0.68577495,\n",
       "                    0.68437832, 0.68577495, 0.68437832, 0.68577495, 0.68437832,\n",
       "                    0.68577495, 0.68577495, 0.68541114, 0.68577495, 0.68541114,\n",
       "                    0.68577495, 0.68541114, 0.68577495, 0.68541114, 0.68541114,\n",
       "                    0.68541114, 0.68541114, 0.68541114, 0.68541114, 0.68541114,\n",
       "                    0.68541114, 0.68541114]),\n",
       "             'split2_test_score': array([0.69465649, 0.69945946, 0.69465649, 0.69945946, 0.69465649,\n",
       "                    0.69945946, 0.69465649, 0.69945946, 0.70322581, 0.70386266,\n",
       "                    0.70322581, 0.70386266, 0.70322581, 0.70386266, 0.70322581,\n",
       "                    0.70386266, 0.70354458, 0.7027897 , 0.70354458, 0.7027897 ,\n",
       "                    0.70354458, 0.7027897 , 0.70354458, 0.7027897 , 0.7027897 ,\n",
       "                    0.70316694, 0.7027897 , 0.70316694, 0.7027897 , 0.70316694,\n",
       "                    0.7027897 , 0.70316694]),\n",
       "             'mean_valid_score': array([0.69632677, 0.69787535, 0.69632677, 0.69787535, 0.69632677,\n",
       "                    0.69787535, 0.69632677, 0.69787535, 0.69859831, 0.69800565,\n",
       "                    0.69859831, 0.69800565, 0.69859831, 0.69800565, 0.69859831,\n",
       "                    0.69800565, 0.69813743, 0.69776813, 0.69813743, 0.69776813,\n",
       "                    0.69813743, 0.69776813, 0.69813743, 0.69776813, 0.69782907,\n",
       "                    0.69762534, 0.69782907, 0.69762534, 0.69782907, 0.69762534,\n",
       "                    0.69782907, 0.69762534])})"
      ]
     },
     "metadata": {},
     "output_type": "display_data"
    }
   ],
   "source": [
    "# Compare values of hyperparameters for liblinear solver\n",
    "# Create parameter grid\n",
    "param_grid_lr_liblinear = {'solver': ['liblinear'],\n",
    "              'penalty': ['l1', 'l2'],\n",
    "              'C': [0.01, 0.1, 0.5, 1.0],\n",
    "              'max_iter': [500, 1000, 5000, 10000]}\n",
    "\n",
    "# Create gridsearch object\n",
    "model_lr_grid = LogisticRegression(random_state=12345)\n",
    "grid_search_lr_liblinear = GridSearchCV(estimator=model_lr_grid, param_grid=param_grid_lr_liblinear, cv=5, scoring='f1')\n",
    "\n",
    "# Fit model and identify best hyperparameter combinations\n",
    "grid_search_lr_liblinear.fit(features_train_upsampled, target_train_upsampled)\n",
    "grid_search_lr_liblinear.cv_results_\n",
    "dict_lr_liblinear = defaultdict(partial(np.ndarray, 0))\n",
    "dict_lr_liblinear['params'] = grid_search_lr_lbfgs.cv_results_['params']\n",
    "dict_lr_liblinear['split0_test_score'] = grid_search_lr_liblinear.cv_results_['split0_test_score']\n",
    "dict_lr_liblinear['split1_test_score'] = grid_search_lr_liblinear.cv_results_['split1_test_score']\n",
    "dict_lr_liblinear['split2_test_score'] = grid_search_lr_liblinear.cv_results_['split2_test_score']\n",
    "dict_lr_liblinear['mean_valid_score'] = grid_search_lr_liblinear.cv_results_['mean_test_score']\n",
    "print(\"Best hyperparameters:\", grid_search_lr_liblinear.best_params_)\n",
    "print(\"Best F1 score:\", grid_search_lr_liblinear.best_score_)\n",
    "print()\n",
    "display(dict_lr_liblinear)"
   ]
  },
  {
   "cell_type": "markdown",
   "metadata": {},
   "source": [
    "##### Optimized model run\n",
    "\n",
    "The fully optimized logistic regression model has an accuracy of <b>0.726</b> and a F1 score of <b>0.507</b>. Unforunately, not over the threshold of <b>0.59</b>. The following hyperparameter combination was used for the model run.\n",
    "\n",
    "- <b>solver</b>: liblinear\n",
    "- <b>penalty</b>: l1\n",
    "- <b>C</b>: 0.01\n",
    "- <b>max_iter</b>: 500\n",
    "\n",
    "Even with class imbalance fixing and tuning hyperparameter, the logistic regression model did not perform to standard, only reaching a F1 score of <b>0.507</b>. The logisic regression model will not be used during final evaluation. This also means that the best threshold value of <b>-1.2</b> will not be used as well, since it was specifically for the logistic regression model."
   ]
  },
  {
   "cell_type": "code",
   "execution_count": 57,
   "metadata": {},
   "outputs": [
    {
     "name": "stdout",
     "output_type": "stream",
     "text": [
      "Accuracy score: 0.726\n",
      "F1 score 0.507\n"
     ]
    }
   ],
   "source": [
    "# Get predictions and scores with new hyperparameter values\n",
    "model_lr = LogisticRegression(solver='liblinear', penalty='l1', C=0.01, max_iter=500, random_state=12345)\n",
    "model_lr.fit(features_train_upsampled, target_train_upsampled)\n",
    "preds_valid = model_lr.predict(features_ohe_valid)\n",
    "print('Accuracy score:', accuracy_score(target_ohe_valid, preds_valid).round(3))\n",
    "print('F1 score', f1_score(target_ohe_valid, preds_valid).round(3))"
   ]
  },
  {
   "cell_type": "markdown",
   "metadata": {},
   "source": [
    "## Model evaluation\n",
    "\n",
    "After running the finalized random forest model against the test dataset, an accuracy of <b>84.8%</b> and F1 score of <b>59%</b> was obtained. This meets the threshold of <b>59%</b>! \n",
    "\n",
    "The AUC_ROC metric was also determined, resulting in <b>84.8%</b>. Unlike F1 score that depends on a specific threshold, AUC-ROC considers the model's performance at different operating points offering a more global view. A perfect model will have a AUC-ROC metric of <b>1</b>, hugging the top-left hand corner of the plot. So, the random forest model's metric of <b>.848</b> is satistisfactory. In looking at the curve, the FPR (false positive rate) is a bit better than the TPR (true positive rate)."
   ]
  },
  {
   "cell_type": "code",
   "execution_count": 58,
   "metadata": {},
   "outputs": [
    {
     "name": "stdout",
     "output_type": "stream",
     "text": [
      "Accuracy score: 0.848\n",
      "F1 score 0.59\n"
     ]
    }
   ],
   "source": [
    "# Test quality of the model with test dataset\n",
    "model_rf1_final = RandomForestClassifier(n_estimators=60, max_depth=20, min_samples_split=2, random_state=12345)\n",
    "model_rf1_final.fit(features_train_upsampled, target_train_upsampled)\n",
    "preds_test = model_rf1_final.predict(features_ohe_test)\n",
    "\n",
    "threshold = -1.2\n",
    "predicted_test = (probabilities_lr > threshold).astype(int)\n",
    "\n",
    "print('Accuracy score:', accuracy_score(target_ohe_test, preds_test).round(3))\n",
    "print('F1 score', f1_score(target_ohe_test, preds_test).round(3))"
   ]
  },
  {
   "cell_type": "code",
   "execution_count": 59,
   "metadata": {},
   "outputs": [
    {
     "name": "stdout",
     "output_type": "stream",
     "text": [
      "\n",
      "AUC_ROC score: 0.8478283714384927\n"
     ]
    },
    {
     "data": {
      "image/png": "[encoded data removed]",
      "text/plain": [
       "<Figure size 640x480 with 1 Axes>"
      ]
     },
     "metadata": {},
     "output_type": "display_data"
    }
   ],
   "source": [
    "# Retrieve AUC-ROC metric\n",
    "probabilities_test = model_rf1_final.predict_proba(features_ohe_test)\n",
    "probabilities_one_test = probabilities_test[:, 1]\n",
    "auc_roc = roc_auc_score(target_ohe_test, probabilities_one_test)\n",
    "print()\n",
    "print('AUC_ROC score:', auc_roc)\n",
    "\n",
    "# Plot curve\n",
    "fpr, tpr, thresholds = roc_curve(target_ohe_test, probabilities_one_test)\n",
    "plt.figure()\n",
    "plt.plot(fpr, tpr)\n",
    "plt.plot([0, 1], [0, 1], linestyle='--')\n",
    "plt.xlim([0.0, 1.0])\n",
    "plt.ylim([0.0, 1.0])\n",
    "plt.xlabel('False Positive Rate', fontsize=13)\n",
    "plt.ylabel('True Positive Rate', fontsize=13)\n",
    "plt.title('ROC curve')\n",
    "plt.show()"
   ]
  },
  {
   "cell_type": "markdown",
   "metadata": {},
   "source": [
    "# Conclusion\n",
    "\n",
    "The fully optimized random forest model is the best model to predict if existing customers in Beta Bank are going to exit the bank or not. Given the <b>59%</b> F1 score of the model, this meets the threshold of <b>59%</b>, and Beta Bank should feel confident and comfortable that this model will help determine which members may leave the bank."
   ]
  }
 ],
 "metadata": {
  "ExecuteTimeLog": [
   {
    "duration": 161,
    "start_time": "2025-01-08T16:46:44.173Z"
   },
   {
    "duration": 741,
    "start_time": "2025-01-08T16:46:46.501Z"
   },
   {
    "duration": 29,
    "start_time": "2025-01-08T16:46:48.003Z"
   },
   {
    "duration": 27,
    "start_time": "2025-01-08T16:47:37.657Z"
   },
   {
    "duration": 3,
    "start_time": "2025-01-08T17:00:26.918Z"
   },
   {
    "duration": 3,
    "start_time": "2025-01-08T17:00:43.785Z"
   },
   {
    "duration": 6,
    "start_time": "2025-01-08T17:01:18.509Z"
   },
   {
    "duration": 7,
    "start_time": "2025-01-08T17:01:32.568Z"
   },
   {
    "duration": 10,
    "start_time": "2025-01-08T17:02:25.401Z"
   },
   {
    "duration": 13,
    "start_time": "2025-01-08T17:02:54.461Z"
   },
   {
    "duration": 8,
    "start_time": "2025-01-08T17:03:09.633Z"
   },
   {
    "duration": 9,
    "start_time": "2025-01-08T17:03:19.105Z"
   },
   {
    "duration": 10,
    "start_time": "2025-01-08T17:03:30.530Z"
   },
   {
    "duration": 9,
    "start_time": "2025-01-08T17:03:35.743Z"
   },
   {
    "duration": 11,
    "start_time": "2025-01-08T17:04:00.588Z"
   },
   {
    "duration": 6,
    "start_time": "2025-01-08T17:04:07.880Z"
   },
   {
    "duration": 4,
    "start_time": "2025-01-08T17:04:17.380Z"
   },
   {
    "duration": 5,
    "start_time": "2025-01-08T17:04:24.378Z"
   },
   {
    "duration": 7,
    "start_time": "2025-01-08T17:05:50.524Z"
   },
   {
    "duration": 8,
    "start_time": "2025-01-08T17:07:24.610Z"
   },
   {
    "duration": 6,
    "start_time": "2025-01-08T17:22:34.371Z"
   },
   {
    "duration": 8,
    "start_time": "2025-01-08T17:22:38.787Z"
   },
   {
    "duration": 8,
    "start_time": "2025-01-08T17:22:43.082Z"
   },
   {
    "duration": 10,
    "start_time": "2025-01-08T17:23:18.996Z"
   },
   {
    "duration": 9,
    "start_time": "2025-01-08T17:23:27.879Z"
   },
   {
    "duration": 8,
    "start_time": "2025-01-08T17:23:51.120Z"
   },
   {
    "duration": 76,
    "start_time": "2025-01-08T17:24:03.776Z"
   },
   {
    "duration": 19,
    "start_time": "2025-01-08T17:25:01.025Z"
   },
   {
    "duration": 19,
    "start_time": "2025-01-08T17:26:08.736Z"
   },
   {
    "duration": 11,
    "start_time": "2025-01-08T17:26:15.631Z"
   },
   {
    "duration": 17,
    "start_time": "2025-01-08T17:26:45.293Z"
   },
   {
    "duration": 429,
    "start_time": "2025-01-08T17:27:00.719Z"
   },
   {
    "duration": 13,
    "start_time": "2025-01-08T17:27:15.120Z"
   },
   {
    "duration": 12,
    "start_time": "2025-01-08T17:27:30.882Z"
   },
   {
    "duration": 11,
    "start_time": "2025-01-08T17:27:38.568Z"
   },
   {
    "duration": 18,
    "start_time": "2025-01-08T17:28:11.588Z"
   },
   {
    "duration": 398,
    "start_time": "2025-01-08T17:28:30.165Z"
   },
   {
    "duration": 27,
    "start_time": "2025-01-08T17:28:35.772Z"
   },
   {
    "duration": 3,
    "start_time": "2025-01-08T17:28:55.600Z"
   },
   {
    "duration": 18,
    "start_time": "2025-01-08T17:28:57.927Z"
   },
   {
    "duration": 15,
    "start_time": "2025-01-08T17:29:23.123Z"
   },
   {
    "duration": 21,
    "start_time": "2025-01-08T17:29:40.158Z"
   },
   {
    "duration": 13,
    "start_time": "2025-01-08T17:31:02.589Z"
   },
   {
    "duration": 10,
    "start_time": "2025-01-08T17:32:39.362Z"
   },
   {
    "duration": 10,
    "start_time": "2025-01-08T17:32:48.936Z"
   },
   {
    "duration": 10,
    "start_time": "2025-01-08T17:33:48.183Z"
   },
   {
    "duration": 13,
    "start_time": "2025-01-08T17:36:00.971Z"
   },
   {
    "duration": 4,
    "start_time": "2025-01-08T17:36:28.128Z"
   },
   {
    "duration": 10,
    "start_time": "2025-01-08T17:37:04.922Z"
   },
   {
    "duration": 4,
    "start_time": "2025-01-08T17:37:05.706Z"
   },
   {
    "duration": 41,
    "start_time": "2025-01-08T17:38:54.274Z"
   },
   {
    "duration": 10,
    "start_time": "2025-01-08T17:39:59.469Z"
   },
   {
    "duration": 16,
    "start_time": "2025-01-08T17:41:16.714Z"
   },
   {
    "duration": 18,
    "start_time": "2025-01-08T17:50:50.840Z"
   },
   {
    "duration": 10,
    "start_time": "2025-01-08T17:51:17.902Z"
   },
   {
    "duration": 10,
    "start_time": "2025-01-08T17:51:46.819Z"
   },
   {
    "duration": 6,
    "start_time": "2025-01-08T17:51:58.474Z"
   },
   {
    "duration": 12,
    "start_time": "2025-01-08T17:52:12.413Z"
   },
   {
    "duration": 19,
    "start_time": "2025-01-08T17:52:51.622Z"
   },
   {
    "duration": 14,
    "start_time": "2025-01-08T17:52:56.240Z"
   },
   {
    "duration": 14,
    "start_time": "2025-01-08T17:53:08.162Z"
   },
   {
    "duration": 44,
    "start_time": "2025-01-08T17:54:37.995Z"
   },
   {
    "duration": 26,
    "start_time": "2025-01-08T17:55:15.826Z"
   },
   {
    "duration": 3,
    "start_time": "2025-01-08T17:55:22.025Z"
   },
   {
    "duration": 7,
    "start_time": "2025-01-08T17:55:35.099Z"
   },
   {
    "duration": 21,
    "start_time": "2025-01-08T17:56:34.369Z"
   },
   {
    "duration": 12,
    "start_time": "2025-01-08T17:57:15.737Z"
   },
   {
    "duration": 9,
    "start_time": "2025-01-08T17:57:30.386Z"
   },
   {
    "duration": 9,
    "start_time": "2025-01-08T17:57:41.594Z"
   },
   {
    "duration": 9,
    "start_time": "2025-01-08T17:59:20.629Z"
   },
   {
    "duration": 10,
    "start_time": "2025-01-08T18:00:51.212Z"
   },
   {
    "duration": 14,
    "start_time": "2025-01-08T18:04:46.605Z"
   },
   {
    "duration": 3,
    "start_time": "2025-01-08T18:05:00.224Z"
   },
   {
    "duration": 2,
    "start_time": "2025-01-08T18:05:04.019Z"
   },
   {
    "duration": 6,
    "start_time": "2025-01-08T18:14:38.685Z"
   },
   {
    "duration": 44,
    "start_time": "2025-01-08T18:20:32.799Z"
   },
   {
    "duration": 17,
    "start_time": "2025-01-08T18:20:42.820Z"
   },
   {
    "duration": 19,
    "start_time": "2025-01-08T18:22:29.686Z"
   },
   {
    "duration": 18,
    "start_time": "2025-01-08T18:24:47.450Z"
   },
   {
    "duration": 19,
    "start_time": "2025-01-08T18:24:58.203Z"
   },
   {
    "duration": 3,
    "start_time": "2025-01-08T18:27:24.666Z"
   },
   {
    "duration": 14,
    "start_time": "2025-01-08T18:28:00.269Z"
   },
   {
    "duration": 40,
    "start_time": "2025-01-08T18:29:00.035Z"
   },
   {
    "duration": 19,
    "start_time": "2025-01-08T18:29:13.274Z"
   },
   {
    "duration": 23,
    "start_time": "2025-01-08T18:29:22.123Z"
   },
   {
    "duration": 21,
    "start_time": "2025-01-08T18:29:27.661Z"
   },
   {
    "duration": 716,
    "start_time": "2025-01-08T18:29:35.115Z"
   },
   {
    "duration": 16,
    "start_time": "2025-01-08T18:29:35.832Z"
   },
   {
    "duration": 20,
    "start_time": "2025-01-08T18:29:35.850Z"
   },
   {
    "duration": 6,
    "start_time": "2025-01-08T18:29:35.872Z"
   },
   {
    "duration": 10,
    "start_time": "2025-01-08T18:29:35.881Z"
   },
   {
    "duration": 51,
    "start_time": "2025-01-08T18:29:35.893Z"
   },
   {
    "duration": 11,
    "start_time": "2025-01-08T18:29:35.946Z"
   },
   {
    "duration": 4,
    "start_time": "2025-01-08T18:29:35.959Z"
   },
   {
    "duration": 20,
    "start_time": "2025-01-08T18:29:43.252Z"
   },
   {
    "duration": 761,
    "start_time": "2025-01-08T18:29:48.982Z"
   },
   {
    "duration": 23,
    "start_time": "2025-01-08T18:29:49.745Z"
   },
   {
    "duration": 26,
    "start_time": "2025-01-08T18:29:49.772Z"
   },
   {
    "duration": 12,
    "start_time": "2025-01-08T18:29:49.799Z"
   },
   {
    "duration": 21,
    "start_time": "2025-01-08T18:29:49.813Z"
   },
   {
    "duration": 20,
    "start_time": "2025-01-08T18:29:49.836Z"
   },
   {
    "duration": 11,
    "start_time": "2025-01-08T18:29:49.858Z"
   },
   {
    "duration": 4,
    "start_time": "2025-01-08T18:29:49.870Z"
   },
   {
    "duration": 22,
    "start_time": "2025-01-08T18:29:53.914Z"
   },
   {
    "duration": 10,
    "start_time": "2025-01-08T18:31:54.293Z"
   },
   {
    "duration": 5,
    "start_time": "2025-01-08T18:34:48.975Z"
   },
   {
    "duration": 7,
    "start_time": "2025-01-08T18:40:22.964Z"
   },
   {
    "duration": 7,
    "start_time": "2025-01-08T18:40:33.803Z"
   },
   {
    "duration": 7,
    "start_time": "2025-01-08T18:40:42.055Z"
   },
   {
    "duration": 7,
    "start_time": "2025-01-08T18:51:09.923Z"
   },
   {
    "duration": 5,
    "start_time": "2025-01-08T18:51:16.767Z"
   },
   {
    "duration": 3,
    "start_time": "2025-01-08T18:51:36.362Z"
   },
   {
    "duration": 22,
    "start_time": "2025-01-08T18:51:42.044Z"
   },
   {
    "duration": 18,
    "start_time": "2025-01-08T18:52:10.127Z"
   },
   {
    "duration": 158,
    "start_time": "2025-01-08T23:28:51.314Z"
   },
   {
    "duration": 740,
    "start_time": "2025-01-08T23:28:57.595Z"
   },
   {
    "duration": 22,
    "start_time": "2025-01-08T23:28:58.337Z"
   },
   {
    "duration": 20,
    "start_time": "2025-01-08T23:28:58.360Z"
   },
   {
    "duration": 6,
    "start_time": "2025-01-08T23:28:58.382Z"
   },
   {
    "duration": 10,
    "start_time": "2025-01-08T23:28:58.390Z"
   },
   {
    "duration": 10,
    "start_time": "2025-01-08T23:28:58.424Z"
   },
   {
    "duration": 6,
    "start_time": "2025-01-08T23:28:58.435Z"
   },
   {
    "duration": 10,
    "start_time": "2025-01-08T23:28:58.442Z"
   },
   {
    "duration": 15,
    "start_time": "2025-01-08T23:28:58.453Z"
   },
   {
    "duration": 16,
    "start_time": "2025-01-08T23:29:04.247Z"
   },
   {
    "duration": 15,
    "start_time": "2025-01-08T23:29:17.254Z"
   },
   {
    "duration": 15,
    "start_time": "2025-01-08T23:29:58.687Z"
   },
   {
    "duration": 16,
    "start_time": "2025-01-08T23:30:02.780Z"
   },
   {
    "duration": 15,
    "start_time": "2025-01-08T23:30:15.479Z"
   },
   {
    "duration": 15,
    "start_time": "2025-01-08T23:30:18.690Z"
   },
   {
    "duration": 169,
    "start_time": "2025-01-10T16:35:16.356Z"
   },
   {
    "duration": 740,
    "start_time": "2025-01-10T16:35:22.187Z"
   },
   {
    "duration": 25,
    "start_time": "2025-01-10T16:35:22.929Z"
   },
   {
    "duration": 20,
    "start_time": "2025-01-10T16:35:22.955Z"
   },
   {
    "duration": 6,
    "start_time": "2025-01-10T16:35:22.976Z"
   },
   {
    "duration": 9,
    "start_time": "2025-01-10T16:35:22.984Z"
   },
   {
    "duration": 31,
    "start_time": "2025-01-10T16:35:22.994Z"
   },
   {
    "duration": 6,
    "start_time": "2025-01-10T16:35:23.027Z"
   },
   {
    "duration": 10,
    "start_time": "2025-01-10T16:35:23.035Z"
   },
   {
    "duration": 15,
    "start_time": "2025-01-10T16:35:23.047Z"
   },
   {
    "duration": 3,
    "start_time": "2025-01-10T16:35:23.064Z"
   },
   {
    "duration": 4,
    "start_time": "2025-01-10T16:36:06.493Z"
   },
   {
    "duration": 5,
    "start_time": "2025-01-10T16:38:38.008Z"
   },
   {
    "duration": 4,
    "start_time": "2025-01-10T16:38:44.782Z"
   },
   {
    "duration": 5,
    "start_time": "2025-01-10T16:38:53.494Z"
   },
   {
    "duration": 5,
    "start_time": "2025-01-10T16:38:57.122Z"
   },
   {
    "duration": 5,
    "start_time": "2025-01-10T16:39:54.619Z"
   },
   {
    "duration": 478,
    "start_time": "2025-01-10T16:40:05.980Z"
   },
   {
    "duration": 835,
    "start_time": "2025-01-10T16:40:22.645Z"
   },
   {
    "duration": 22,
    "start_time": "2025-01-10T16:40:23.485Z"
   },
   {
    "duration": 35,
    "start_time": "2025-01-10T16:40:23.510Z"
   },
   {
    "duration": 8,
    "start_time": "2025-01-10T16:40:23.547Z"
   },
   {
    "duration": 15,
    "start_time": "2025-01-10T16:40:23.558Z"
   },
   {
    "duration": 21,
    "start_time": "2025-01-10T16:40:23.577Z"
   },
   {
    "duration": 8,
    "start_time": "2025-01-10T16:40:23.624Z"
   },
   {
    "duration": 13,
    "start_time": "2025-01-10T16:40:23.633Z"
   },
   {
    "duration": 22,
    "start_time": "2025-01-10T16:40:23.648Z"
   },
   {
    "duration": 6,
    "start_time": "2025-01-10T16:40:23.672Z"
   },
   {
    "duration": 872,
    "start_time": "2025-01-10T17:02:34.677Z"
   },
   {
    "duration": 3,
    "start_time": "2025-01-10T17:02:41.680Z"
   },
   {
    "duration": 2,
    "start_time": "2025-01-10T17:36:35.659Z"
   },
   {
    "duration": 14,
    "start_time": "2025-01-10T17:39:14.125Z"
   },
   {
    "duration": 23,
    "start_time": "2025-01-10T17:40:04.629Z"
   },
   {
    "duration": 21,
    "start_time": "2025-01-10T17:40:11.574Z"
   },
   {
    "duration": 49,
    "start_time": "2025-01-10T17:40:18.708Z"
   },
   {
    "duration": 42,
    "start_time": "2025-01-10T17:40:27.854Z"
   },
   {
    "duration": 56,
    "start_time": "2025-01-10T17:40:51.001Z"
   },
   {
    "duration": 113,
    "start_time": "2025-01-10T17:41:52.278Z"
   },
   {
    "duration": 3,
    "start_time": "2025-01-10T17:42:21.104Z"
   },
   {
    "duration": 717,
    "start_time": "2025-01-10T17:42:44.890Z"
   },
   {
    "duration": 35,
    "start_time": "2025-01-10T17:42:45.609Z"
   },
   {
    "duration": 21,
    "start_time": "2025-01-10T17:42:45.646Z"
   },
   {
    "duration": 5,
    "start_time": "2025-01-10T17:42:45.669Z"
   },
   {
    "duration": 11,
    "start_time": "2025-01-10T17:42:45.677Z"
   },
   {
    "duration": 11,
    "start_time": "2025-01-10T17:42:45.689Z"
   },
   {
    "duration": 41,
    "start_time": "2025-01-10T17:42:45.702Z"
   },
   {
    "duration": 10,
    "start_time": "2025-01-10T17:42:45.752Z"
   },
   {
    "duration": 15,
    "start_time": "2025-01-10T17:42:45.764Z"
   },
   {
    "duration": 4,
    "start_time": "2025-01-10T17:42:45.780Z"
   },
   {
    "duration": 110,
    "start_time": "2025-01-10T17:42:45.786Z"
   },
   {
    "duration": 4,
    "start_time": "2025-01-10T17:42:45.898Z"
   },
   {
    "duration": 865,
    "start_time": "2025-01-10T17:46:11.374Z"
   },
   {
    "duration": 757,
    "start_time": "2025-01-10T17:46:37.957Z"
   },
   {
    "duration": 15,
    "start_time": "2025-01-10T17:46:38.716Z"
   },
   {
    "duration": 19,
    "start_time": "2025-01-10T17:46:38.733Z"
   },
   {
    "duration": 6,
    "start_time": "2025-01-10T17:46:38.754Z"
   },
   {
    "duration": 9,
    "start_time": "2025-01-10T17:46:38.762Z"
   },
   {
    "duration": 9,
    "start_time": "2025-01-10T17:46:38.773Z"
   },
   {
    "duration": 42,
    "start_time": "2025-01-10T17:46:38.784Z"
   },
   {
    "duration": 9,
    "start_time": "2025-01-10T17:46:38.828Z"
   },
   {
    "duration": 15,
    "start_time": "2025-01-10T17:46:38.838Z"
   },
   {
    "duration": 5,
    "start_time": "2025-01-10T17:46:38.854Z"
   },
   {
    "duration": 910,
    "start_time": "2025-01-10T17:46:38.860Z"
   },
   {
    "duration": 0,
    "start_time": "2025-01-10T17:46:39.772Z"
   },
   {
    "duration": 0,
    "start_time": "2025-01-10T17:46:39.774Z"
   },
   {
    "duration": 12,
    "start_time": "2025-01-10T17:46:57.044Z"
   },
   {
    "duration": 753,
    "start_time": "2025-01-10T17:47:49.023Z"
   },
   {
    "duration": 15,
    "start_time": "2025-01-10T17:47:49.778Z"
   },
   {
    "duration": 20,
    "start_time": "2025-01-10T17:47:49.794Z"
   },
   {
    "duration": 6,
    "start_time": "2025-01-10T17:47:49.824Z"
   },
   {
    "duration": 9,
    "start_time": "2025-01-10T17:47:49.833Z"
   },
   {
    "duration": 11,
    "start_time": "2025-01-10T17:47:49.845Z"
   },
   {
    "duration": 5,
    "start_time": "2025-01-10T17:47:49.858Z"
   },
   {
    "duration": 10,
    "start_time": "2025-01-10T17:47:49.865Z"
   },
   {
    "duration": 56,
    "start_time": "2025-01-10T17:47:49.876Z"
   },
   {
    "duration": 5,
    "start_time": "2025-01-10T17:47:49.934Z"
   },
   {
    "duration": 11,
    "start_time": "2025-01-10T17:47:49.940Z"
   },
   {
    "duration": 72,
    "start_time": "2025-01-10T17:47:49.952Z"
   },
   {
    "duration": 4,
    "start_time": "2025-01-10T17:47:50.026Z"
   },
   {
    "duration": 4,
    "start_time": "2025-01-10T17:54:12.207Z"
   },
   {
    "duration": 238,
    "start_time": "2025-01-10T17:55:29.448Z"
   },
   {
    "duration": 7,
    "start_time": "2025-01-10T17:58:16.012Z"
   },
   {
    "duration": 7,
    "start_time": "2025-01-10T18:02:23.705Z"
   },
   {
    "duration": 16,
    "start_time": "2025-01-10T18:02:24.345Z"
   },
   {
    "duration": 9,
    "start_time": "2025-01-10T18:02:29.861Z"
   },
   {
    "duration": 10,
    "start_time": "2025-01-10T18:02:31.537Z"
   },
   {
    "duration": 21,
    "start_time": "2025-01-10T18:06:56.499Z"
   },
   {
    "duration": 6,
    "start_time": "2025-01-10T18:07:08.741Z"
   },
   {
    "duration": 6,
    "start_time": "2025-01-10T18:07:10.387Z"
   },
   {
    "duration": 6,
    "start_time": "2025-01-10T18:07:11.882Z"
   },
   {
    "duration": 6,
    "start_time": "2025-01-10T18:07:12.461Z"
   },
   {
    "duration": 5,
    "start_time": "2025-01-10T18:07:14.132Z"
   },
   {
    "duration": 2,
    "start_time": "2025-01-10T18:29:58.930Z"
   },
   {
    "duration": 12,
    "start_time": "2025-01-10T18:32:19.126Z"
   },
   {
    "duration": 19,
    "start_time": "2025-01-10T18:33:35.242Z"
   },
   {
    "duration": 789,
    "start_time": "2025-01-10T18:39:16.941Z"
   },
   {
    "duration": 16,
    "start_time": "2025-01-10T18:39:17.732Z"
   },
   {
    "duration": 20,
    "start_time": "2025-01-10T18:39:17.750Z"
   },
   {
    "duration": 6,
    "start_time": "2025-01-10T18:39:17.773Z"
   },
   {
    "duration": 10,
    "start_time": "2025-01-10T18:39:17.780Z"
   },
   {
    "duration": 41,
    "start_time": "2025-01-10T18:39:17.792Z"
   },
   {
    "duration": 6,
    "start_time": "2025-01-10T18:39:17.835Z"
   },
   {
    "duration": 9,
    "start_time": "2025-01-10T18:39:17.842Z"
   },
   {
    "duration": 16,
    "start_time": "2025-01-10T18:39:17.853Z"
   },
   {
    "duration": 4,
    "start_time": "2025-01-10T18:39:17.872Z"
   },
   {
    "duration": 48,
    "start_time": "2025-01-10T18:39:17.878Z"
   },
   {
    "duration": 42,
    "start_time": "2025-01-10T18:39:17.928Z"
   },
   {
    "duration": 6,
    "start_time": "2025-01-10T18:39:17.972Z"
   },
   {
    "duration": 5,
    "start_time": "2025-01-10T18:39:17.979Z"
   },
   {
    "duration": 5,
    "start_time": "2025-01-10T18:39:17.986Z"
   },
   {
    "duration": 36,
    "start_time": "2025-01-10T18:39:17.992Z"
   },
   {
    "duration": 248,
    "start_time": "2025-01-10T18:39:18.030Z"
   },
   {
    "duration": 414,
    "start_time": "2025-01-10T18:39:29.304Z"
   },
   {
    "duration": 60,
    "start_time": "2025-01-10T18:39:39.873Z"
   },
   {
    "duration": 28,
    "start_time": "2025-01-10T18:40:07.008Z"
   },
   {
    "duration": 57,
    "start_time": "2025-01-10T18:42:59.027Z"
   },
   {
    "duration": 43,
    "start_time": "2025-01-10T18:44:35.372Z"
   },
   {
    "duration": 44,
    "start_time": "2025-01-10T18:45:56.018Z"
   },
   {
    "duration": 34,
    "start_time": "2025-01-10T18:46:10.807Z"
   },
   {
    "duration": 43,
    "start_time": "2025-01-10T18:46:53.481Z"
   },
   {
    "duration": 707,
    "start_time": "2025-01-10T18:48:01.708Z"
   },
   {
    "duration": 16,
    "start_time": "2025-01-10T18:48:02.417Z"
   },
   {
    "duration": 20,
    "start_time": "2025-01-10T18:48:02.435Z"
   },
   {
    "duration": 6,
    "start_time": "2025-01-10T18:48:02.457Z"
   },
   {
    "duration": 9,
    "start_time": "2025-01-10T18:48:02.467Z"
   },
   {
    "duration": 10,
    "start_time": "2025-01-10T18:48:02.477Z"
   },
   {
    "duration": 39,
    "start_time": "2025-01-10T18:48:02.488Z"
   },
   {
    "duration": 9,
    "start_time": "2025-01-10T18:48:02.529Z"
   },
   {
    "duration": 15,
    "start_time": "2025-01-10T18:48:02.540Z"
   },
   {
    "duration": 5,
    "start_time": "2025-01-10T18:48:02.556Z"
   },
   {
    "duration": 10,
    "start_time": "2025-01-10T18:48:02.562Z"
   },
   {
    "duration": 76,
    "start_time": "2025-01-10T18:48:02.573Z"
   },
   {
    "duration": 7,
    "start_time": "2025-01-10T18:48:02.650Z"
   },
   {
    "duration": 8,
    "start_time": "2025-01-10T18:48:02.660Z"
   },
   {
    "duration": 7,
    "start_time": "2025-01-10T18:48:02.669Z"
   },
   {
    "duration": 7,
    "start_time": "2025-01-10T18:48:02.679Z"
   },
   {
    "duration": 81,
    "start_time": "2025-01-10T18:48:02.688Z"
   },
   {
    "duration": 150,
    "start_time": "2025-01-10T18:49:06.185Z"
   },
   {
    "duration": 844,
    "start_time": "2025-01-10T18:49:27.732Z"
   },
   {
    "duration": 17,
    "start_time": "2025-01-10T18:49:28.578Z"
   },
   {
    "duration": 30,
    "start_time": "2025-01-10T18:49:28.596Z"
   },
   {
    "duration": 6,
    "start_time": "2025-01-10T18:49:28.628Z"
   },
   {
    "duration": 10,
    "start_time": "2025-01-10T18:49:28.637Z"
   },
   {
    "duration": 14,
    "start_time": "2025-01-10T18:49:28.649Z"
   },
   {
    "duration": 7,
    "start_time": "2025-01-10T18:49:28.664Z"
   },
   {
    "duration": 10,
    "start_time": "2025-01-10T18:49:28.673Z"
   },
   {
    "duration": 17,
    "start_time": "2025-01-10T18:49:28.724Z"
   },
   {
    "duration": 4,
    "start_time": "2025-01-10T18:49:28.744Z"
   },
   {
    "duration": 11,
    "start_time": "2025-01-10T18:49:28.750Z"
   },
   {
    "duration": 66,
    "start_time": "2025-01-10T18:49:28.763Z"
   },
   {
    "duration": 7,
    "start_time": "2025-01-10T18:49:28.831Z"
   },
   {
    "duration": 6,
    "start_time": "2025-01-10T18:49:28.842Z"
   },
   {
    "duration": 6,
    "start_time": "2025-01-10T18:49:28.849Z"
   },
   {
    "duration": 6,
    "start_time": "2025-01-10T18:49:28.857Z"
   },
   {
    "duration": 90,
    "start_time": "2025-01-10T18:49:28.865Z"
   },
   {
    "duration": 814,
    "start_time": "2025-01-10T18:49:51.337Z"
   },
   {
    "duration": 16,
    "start_time": "2025-01-10T18:49:52.154Z"
   },
   {
    "duration": 27,
    "start_time": "2025-01-10T18:49:52.172Z"
   },
   {
    "duration": 8,
    "start_time": "2025-01-10T18:49:52.201Z"
   },
   {
    "duration": 23,
    "start_time": "2025-01-10T18:49:52.211Z"
   },
   {
    "duration": 17,
    "start_time": "2025-01-10T18:49:52.236Z"
   },
   {
    "duration": 7,
    "start_time": "2025-01-10T18:49:52.255Z"
   },
   {
    "duration": 12,
    "start_time": "2025-01-10T18:49:52.264Z"
   },
   {
    "duration": 52,
    "start_time": "2025-01-10T18:49:52.278Z"
   },
   {
    "duration": 5,
    "start_time": "2025-01-10T18:49:52.332Z"
   },
   {
    "duration": 13,
    "start_time": "2025-01-10T18:49:52.340Z"
   },
   {
    "duration": 77,
    "start_time": "2025-01-10T18:49:52.355Z"
   },
   {
    "duration": 7,
    "start_time": "2025-01-10T18:49:52.435Z"
   },
   {
    "duration": 6,
    "start_time": "2025-01-10T18:49:52.446Z"
   },
   {
    "duration": 5,
    "start_time": "2025-01-10T18:49:52.453Z"
   },
   {
    "duration": 5,
    "start_time": "2025-01-10T18:49:52.460Z"
   },
   {
    "duration": 77,
    "start_time": "2025-01-10T18:49:52.468Z"
   },
   {
    "duration": 36,
    "start_time": "2025-01-10T18:52:34.411Z"
   },
   {
    "duration": 39,
    "start_time": "2025-01-10T18:52:39.996Z"
   },
   {
    "duration": 41,
    "start_time": "2025-01-10T18:52:54.193Z"
   },
   {
    "duration": 42,
    "start_time": "2025-01-10T18:53:00.119Z"
   },
   {
    "duration": 53,
    "start_time": "2025-01-10T18:53:21.166Z"
   },
   {
    "duration": 47,
    "start_time": "2025-01-10T18:53:30.968Z"
   },
   {
    "duration": 34,
    "start_time": "2025-01-10T18:56:44.798Z"
   },
   {
    "duration": 34,
    "start_time": "2025-01-10T18:58:27.892Z"
   },
   {
    "duration": 32,
    "start_time": "2025-01-10T18:58:43.501Z"
   },
   {
    "duration": 796,
    "start_time": "2025-01-10T19:11:22.832Z"
   },
   {
    "duration": 16,
    "start_time": "2025-01-10T19:11:23.631Z"
   },
   {
    "duration": 21,
    "start_time": "2025-01-10T19:11:23.648Z"
   },
   {
    "duration": 6,
    "start_time": "2025-01-10T19:11:23.670Z"
   },
   {
    "duration": 10,
    "start_time": "2025-01-10T19:11:23.679Z"
   },
   {
    "duration": 39,
    "start_time": "2025-01-10T19:11:23.690Z"
   },
   {
    "duration": 6,
    "start_time": "2025-01-10T19:11:23.730Z"
   },
   {
    "duration": 10,
    "start_time": "2025-01-10T19:11:23.738Z"
   },
   {
    "duration": 14,
    "start_time": "2025-01-10T19:11:23.750Z"
   },
   {
    "duration": 5,
    "start_time": "2025-01-10T19:11:23.766Z"
   },
   {
    "duration": 10,
    "start_time": "2025-01-10T19:11:23.772Z"
   },
   {
    "duration": 86,
    "start_time": "2025-01-10T19:11:23.783Z"
   },
   {
    "duration": 6,
    "start_time": "2025-01-10T19:11:23.873Z"
   },
   {
    "duration": 5,
    "start_time": "2025-01-10T19:11:23.882Z"
   },
   {
    "duration": 5,
    "start_time": "2025-01-10T19:11:23.889Z"
   },
   {
    "duration": 29,
    "start_time": "2025-01-10T19:11:23.896Z"
   },
   {
    "duration": 35,
    "start_time": "2025-01-10T19:11:23.927Z"
   },
   {
    "duration": 32,
    "start_time": "2025-01-10T19:11:23.964Z"
   },
   {
    "duration": 212,
    "start_time": "2025-01-13T17:45:54.226Z"
   },
   {
    "duration": 773,
    "start_time": "2025-01-13T17:50:33.144Z"
   },
   {
    "duration": 26,
    "start_time": "2025-01-13T17:50:33.919Z"
   },
   {
    "duration": 22,
    "start_time": "2025-01-13T17:50:33.947Z"
   },
   {
    "duration": 6,
    "start_time": "2025-01-13T17:50:33.971Z"
   },
   {
    "duration": 22,
    "start_time": "2025-01-13T17:50:33.980Z"
   },
   {
    "duration": 14,
    "start_time": "2025-01-13T17:50:34.007Z"
   },
   {
    "duration": 7,
    "start_time": "2025-01-13T17:50:34.023Z"
   },
   {
    "duration": 10,
    "start_time": "2025-01-13T17:50:34.032Z"
   },
   {
    "duration": 15,
    "start_time": "2025-01-13T17:50:34.043Z"
   },
   {
    "duration": 4,
    "start_time": "2025-01-13T17:50:34.087Z"
   },
   {
    "duration": 10,
    "start_time": "2025-01-13T17:50:34.093Z"
   },
   {
    "duration": 40,
    "start_time": "2025-01-13T17:50:34.104Z"
   },
   {
    "duration": 6,
    "start_time": "2025-01-13T17:50:34.145Z"
   },
   {
    "duration": 35,
    "start_time": "2025-01-13T17:50:34.154Z"
   },
   {
    "duration": 6,
    "start_time": "2025-01-13T17:50:34.190Z"
   },
   {
    "duration": 5,
    "start_time": "2025-01-13T17:50:34.197Z"
   },
   {
    "duration": 36,
    "start_time": "2025-01-13T17:50:34.203Z"
   },
   {
    "duration": 58,
    "start_time": "2025-01-13T17:50:34.241Z"
   },
   {
    "duration": 4,
    "start_time": "2025-01-13T17:50:34.301Z"
   },
   {
    "duration": 2,
    "start_time": "2025-01-13T17:55:22.961Z"
   },
   {
    "duration": 547,
    "start_time": "2025-01-13T17:58:51.540Z"
   },
   {
    "duration": 809,
    "start_time": "2025-01-13T18:02:34.932Z"
   },
   {
    "duration": 622,
    "start_time": "2025-01-13T18:02:40.429Z"
   },
   {
    "duration": 4,
    "start_time": "2025-01-13T18:03:03.048Z"
   },
   {
    "duration": 587,
    "start_time": "2025-01-13T18:03:08.649Z"
   },
   {
    "duration": 711,
    "start_time": "2025-01-13T18:05:38.876Z"
   },
   {
    "duration": 772,
    "start_time": "2025-01-13T18:10:35.931Z"
   },
   {
    "duration": 16,
    "start_time": "2025-01-13T18:10:36.705Z"
   },
   {
    "duration": 21,
    "start_time": "2025-01-13T18:10:36.722Z"
   },
   {
    "duration": 6,
    "start_time": "2025-01-13T18:10:36.745Z"
   },
   {
    "duration": 33,
    "start_time": "2025-01-13T18:10:36.753Z"
   },
   {
    "duration": 11,
    "start_time": "2025-01-13T18:10:36.788Z"
   },
   {
    "duration": 8,
    "start_time": "2025-01-13T18:10:36.800Z"
   },
   {
    "duration": 13,
    "start_time": "2025-01-13T18:10:36.810Z"
   },
   {
    "duration": 16,
    "start_time": "2025-01-13T18:10:36.825Z"
   },
   {
    "duration": 44,
    "start_time": "2025-01-13T18:10:36.843Z"
   },
   {
    "duration": 10,
    "start_time": "2025-01-13T18:10:36.888Z"
   },
   {
    "duration": 40,
    "start_time": "2025-01-13T18:10:36.900Z"
   },
   {
    "duration": 7,
    "start_time": "2025-01-13T18:10:36.942Z"
   },
   {
    "duration": 5,
    "start_time": "2025-01-13T18:10:36.951Z"
   },
   {
    "duration": 31,
    "start_time": "2025-01-13T18:10:36.958Z"
   },
   {
    "duration": 7,
    "start_time": "2025-01-13T18:10:36.991Z"
   },
   {
    "duration": 37,
    "start_time": "2025-01-13T18:10:37.000Z"
   },
   {
    "duration": 54,
    "start_time": "2025-01-13T18:10:37.038Z"
   },
   {
    "duration": 590,
    "start_time": "2025-01-13T18:10:37.094Z"
   },
   {
    "duration": 916,
    "start_time": "2025-01-13T18:10:37.686Z"
   },
   {
    "duration": 606,
    "start_time": "2025-01-13T18:12:06.009Z"
   },
   {
    "duration": 614,
    "start_time": "2025-01-13T18:12:58.858Z"
   },
   {
    "duration": 590,
    "start_time": "2025-01-13T18:13:33.697Z"
   },
   {
    "duration": 6,
    "start_time": "2025-01-13T18:13:50.007Z"
   },
   {
    "duration": 5,
    "start_time": "2025-01-13T18:14:07.114Z"
   },
   {
    "duration": 595,
    "start_time": "2025-01-13T18:14:10.152Z"
   },
   {
    "duration": 584,
    "start_time": "2025-01-13T18:15:03.486Z"
   },
   {
    "duration": 5,
    "start_time": "2025-01-13T18:15:20.475Z"
   },
   {
    "duration": 581,
    "start_time": "2025-01-13T18:15:28.833Z"
   },
   {
    "duration": 589,
    "start_time": "2025-01-13T18:17:03.965Z"
   },
   {
    "duration": 600,
    "start_time": "2025-01-13T18:17:25.289Z"
   },
   {
    "duration": 59,
    "start_time": "2025-01-13T18:24:24.757Z"
   },
   {
    "duration": 128,
    "start_time": "2025-01-13T18:24:37.281Z"
   },
   {
    "duration": 488,
    "start_time": "2025-01-13T18:38:22.152Z"
   },
   {
    "duration": 2070,
    "start_time": "2025-01-13T18:38:29.044Z"
   },
   {
    "duration": 91,
    "start_time": "2025-01-13T18:39:18.421Z"
   },
   {
    "duration": 105,
    "start_time": "2025-01-13T18:40:21.383Z"
   },
   {
    "duration": 99,
    "start_time": "2025-01-13T18:40:48.837Z"
   },
   {
    "duration": 99,
    "start_time": "2025-01-13T18:40:56.305Z"
   },
   {
    "duration": 110,
    "start_time": "2025-01-13T18:41:00.300Z"
   },
   {
    "duration": 89,
    "start_time": "2025-01-13T18:41:33.706Z"
   },
   {
    "duration": 88,
    "start_time": "2025-01-13T18:41:39.298Z"
   },
   {
    "duration": 3,
    "start_time": "2025-01-13T18:46:01.283Z"
   },
   {
    "duration": 27,
    "start_time": "2025-01-13T18:46:04.921Z"
   },
   {
    "duration": 89,
    "start_time": "2025-01-13T18:46:20.620Z"
   },
   {
    "duration": 129,
    "start_time": "2025-01-13T18:46:54.681Z"
   },
   {
    "duration": 103,
    "start_time": "2025-01-13T18:47:03.206Z"
   },
   {
    "duration": 85,
    "start_time": "2025-01-13T18:59:23.916Z"
   },
   {
    "duration": 94,
    "start_time": "2025-01-13T19:02:32.324Z"
   },
   {
    "duration": 6,
    "start_time": "2025-01-13T19:03:48.527Z"
   },
   {
    "duration": 3,
    "start_time": "2025-01-13T19:04:49.390Z"
   },
   {
    "duration": 8,
    "start_time": "2025-01-13T19:05:08.752Z"
   },
   {
    "duration": 583,
    "start_time": "2025-01-13T19:05:37.679Z"
   },
   {
    "duration": 573,
    "start_time": "2025-01-13T19:05:45.239Z"
   },
   {
    "duration": 576,
    "start_time": "2025-01-13T19:06:19.790Z"
   },
   {
    "duration": 581,
    "start_time": "2025-01-13T19:06:37.891Z"
   },
   {
    "duration": 583,
    "start_time": "2025-01-13T19:06:43.160Z"
   },
   {
    "duration": 5,
    "start_time": "2025-01-13T19:08:35.735Z"
   },
   {
    "duration": 4,
    "start_time": "2025-01-13T19:08:42.181Z"
   },
   {
    "duration": 5,
    "start_time": "2025-01-13T19:08:49.605Z"
   },
   {
    "duration": 6,
    "start_time": "2025-01-13T19:09:00.606Z"
   },
   {
    "duration": 5,
    "start_time": "2025-01-13T19:09:03.847Z"
   },
   {
    "duration": 5,
    "start_time": "2025-01-13T19:10:35.198Z"
   },
   {
    "duration": 5,
    "start_time": "2025-01-13T19:11:19.966Z"
   },
   {
    "duration": 586,
    "start_time": "2025-01-13T19:11:27.945Z"
   },
   {
    "duration": 3,
    "start_time": "2025-01-13T19:13:57.486Z"
   },
   {
    "duration": 6,
    "start_time": "2025-01-13T19:15:07.336Z"
   },
   {
    "duration": 4,
    "start_time": "2025-01-13T19:15:58.115Z"
   },
   {
    "duration": 17,
    "start_time": "2025-01-13T19:17:01.193Z"
   },
   {
    "duration": 6,
    "start_time": "2025-01-13T19:17:11.737Z"
   },
   {
    "duration": 71,
    "start_time": "2025-01-13T19:17:58.361Z"
   },
   {
    "duration": 286,
    "start_time": "2025-01-13T19:19:22.853Z"
   },
   {
    "duration": 4,
    "start_time": "2025-01-13T19:24:53.674Z"
   },
   {
    "duration": 102,
    "start_time": "2025-01-13T19:26:27.540Z"
   },
   {
    "duration": 104,
    "start_time": "2025-01-13T19:26:53.171Z"
   },
   {
    "duration": 98,
    "start_time": "2025-01-13T19:27:07.176Z"
   },
   {
    "duration": 215,
    "start_time": "2025-01-13T19:27:11.077Z"
   },
   {
    "duration": 99,
    "start_time": "2025-01-13T19:27:30.202Z"
   },
   {
    "duration": 966,
    "start_time": "2025-01-13T19:27:36.273Z"
   },
   {
    "duration": 17,
    "start_time": "2025-01-13T19:27:37.240Z"
   },
   {
    "duration": 19,
    "start_time": "2025-01-13T19:27:37.261Z"
   },
   {
    "duration": 6,
    "start_time": "2025-01-13T19:27:37.287Z"
   },
   {
    "duration": 9,
    "start_time": "2025-01-13T19:27:37.295Z"
   },
   {
    "duration": 10,
    "start_time": "2025-01-13T19:27:37.306Z"
   },
   {
    "duration": 6,
    "start_time": "2025-01-13T19:27:37.317Z"
   },
   {
    "duration": 9,
    "start_time": "2025-01-13T19:27:37.324Z"
   },
   {
    "duration": 61,
    "start_time": "2025-01-13T19:27:37.335Z"
   },
   {
    "duration": 4,
    "start_time": "2025-01-13T19:27:37.398Z"
   },
   {
    "duration": 9,
    "start_time": "2025-01-13T19:27:37.404Z"
   },
   {
    "duration": 73,
    "start_time": "2025-01-13T19:27:37.414Z"
   },
   {
    "duration": 6,
    "start_time": "2025-01-13T19:27:37.489Z"
   },
   {
    "duration": 5,
    "start_time": "2025-01-13T19:27:37.498Z"
   },
   {
    "duration": 6,
    "start_time": "2025-01-13T19:27:37.504Z"
   },
   {
    "duration": 5,
    "start_time": "2025-01-13T19:27:37.511Z"
   },
   {
    "duration": 36,
    "start_time": "2025-01-13T19:27:37.517Z"
   },
   {
    "duration": 31,
    "start_time": "2025-01-13T19:27:37.587Z"
   },
   {
    "duration": 608,
    "start_time": "2025-01-13T19:27:37.620Z"
   },
   {
    "duration": 109,
    "start_time": "2025-01-13T19:27:38.230Z"
   },
   {
    "duration": 98,
    "start_time": "2025-01-13T19:27:38.341Z"
   },
   {
    "duration": 4,
    "start_time": "2025-01-13T19:27:38.441Z"
   },
   {
    "duration": 280,
    "start_time": "2025-01-13T19:27:38.447Z"
   },
   {
    "duration": 2,
    "start_time": "2025-01-13T19:27:38.729Z"
   },
   {
    "duration": 620,
    "start_time": "2025-01-13T19:27:38.733Z"
   },
   {
    "duration": 44,
    "start_time": "2025-01-13T19:27:39.355Z"
   },
   {
    "duration": 118,
    "start_time": "2025-01-13T19:29:56.595Z"
   },
   {
    "duration": 1017,
    "start_time": "2025-01-13T19:30:01.306Z"
   },
   {
    "duration": 16,
    "start_time": "2025-01-13T19:30:02.325Z"
   },
   {
    "duration": 19,
    "start_time": "2025-01-13T19:30:02.342Z"
   },
   {
    "duration": 5,
    "start_time": "2025-01-13T19:30:02.363Z"
   },
   {
    "duration": 11,
    "start_time": "2025-01-13T19:30:02.386Z"
   },
   {
    "duration": 10,
    "start_time": "2025-01-13T19:30:02.398Z"
   },
   {
    "duration": 6,
    "start_time": "2025-01-13T19:30:02.409Z"
   },
   {
    "duration": 10,
    "start_time": "2025-01-13T19:30:02.416Z"
   },
   {
    "duration": 15,
    "start_time": "2025-01-13T19:30:02.428Z"
   },
   {
    "duration": 45,
    "start_time": "2025-01-13T19:30:02.444Z"
   },
   {
    "duration": 11,
    "start_time": "2025-01-13T19:30:02.491Z"
   },
   {
    "duration": 44,
    "start_time": "2025-01-13T19:30:02.503Z"
   },
   {
    "duration": 7,
    "start_time": "2025-01-13T19:30:02.548Z"
   },
   {
    "duration": 30,
    "start_time": "2025-01-13T19:30:02.558Z"
   },
   {
    "duration": 5,
    "start_time": "2025-01-13T19:30:02.590Z"
   },
   {
    "duration": 4,
    "start_time": "2025-01-13T19:30:02.597Z"
   },
   {
    "duration": 35,
    "start_time": "2025-01-13T19:30:02.603Z"
   },
   {
    "duration": 60,
    "start_time": "2025-01-13T19:30:02.639Z"
   },
   {
    "duration": 603,
    "start_time": "2025-01-13T19:30:02.701Z"
   },
   {
    "duration": 111,
    "start_time": "2025-01-13T19:30:03.305Z"
   },
   {
    "duration": 98,
    "start_time": "2025-01-13T19:30:03.418Z"
   },
   {
    "duration": 4,
    "start_time": "2025-01-13T19:30:03.518Z"
   },
   {
    "duration": 298,
    "start_time": "2025-01-13T19:30:03.524Z"
   },
   {
    "duration": 3,
    "start_time": "2025-01-13T19:30:03.823Z"
   },
   {
    "duration": 626,
    "start_time": "2025-01-13T19:30:03.827Z"
   },
   {
    "duration": 45,
    "start_time": "2025-01-13T19:30:04.455Z"
   },
   {
    "duration": 2933,
    "start_time": "2025-01-13T21:24:17.859Z"
   },
   {
    "duration": 35,
    "start_time": "2025-01-13T21:24:20.794Z"
   },
   {
    "duration": 22,
    "start_time": "2025-01-13T21:24:20.831Z"
   },
   {
    "duration": 9,
    "start_time": "2025-01-13T21:24:20.855Z"
   },
   {
    "duration": 26,
    "start_time": "2025-01-13T21:24:20.867Z"
   },
   {
    "duration": 16,
    "start_time": "2025-01-13T21:24:20.895Z"
   },
   {
    "duration": 8,
    "start_time": "2025-01-13T21:24:20.913Z"
   },
   {
    "duration": 10,
    "start_time": "2025-01-13T21:24:20.923Z"
   },
   {
    "duration": 51,
    "start_time": "2025-01-13T21:24:20.935Z"
   },
   {
    "duration": 7,
    "start_time": "2025-01-13T21:24:20.990Z"
   },
   {
    "duration": 14,
    "start_time": "2025-01-13T21:24:20.999Z"
   },
   {
    "duration": 92,
    "start_time": "2025-01-13T21:24:21.016Z"
   },
   {
    "duration": 7,
    "start_time": "2025-01-13T21:24:21.110Z"
   },
   {
    "duration": 7,
    "start_time": "2025-01-13T21:24:21.121Z"
   },
   {
    "duration": 7,
    "start_time": "2025-01-13T21:24:21.130Z"
   },
   {
    "duration": 6,
    "start_time": "2025-01-13T21:24:21.140Z"
   },
   {
    "duration": 83,
    "start_time": "2025-01-13T21:24:21.148Z"
   },
   {
    "duration": 62,
    "start_time": "2025-01-13T21:24:21.233Z"
   },
   {
    "duration": 632,
    "start_time": "2025-01-13T21:24:21.297Z"
   },
   {
    "duration": 127,
    "start_time": "2025-01-13T21:24:21.933Z"
   },
   {
    "duration": 104,
    "start_time": "2025-01-13T21:24:22.067Z"
   },
   {
    "duration": 13,
    "start_time": "2025-01-13T21:24:22.174Z"
   },
   {
    "duration": 330,
    "start_time": "2025-01-13T21:24:22.189Z"
   },
   {
    "duration": 2,
    "start_time": "2025-01-13T21:24:22.522Z"
   },
   {
    "duration": 651,
    "start_time": "2025-01-13T21:24:22.527Z"
   },
   {
    "duration": 46,
    "start_time": "2025-01-13T21:24:23.179Z"
   },
   {
    "duration": 9,
    "start_time": "2025-01-13T21:29:13.458Z"
   },
   {
    "duration": 15,
    "start_time": "2025-01-13T21:29:45.199Z"
   },
   {
    "duration": 8,
    "start_time": "2025-01-13T21:30:09.247Z"
   },
   {
    "duration": 7,
    "start_time": "2025-01-13T21:31:36.451Z"
   },
   {
    "duration": 624,
    "start_time": "2025-01-13T21:31:40.325Z"
   },
   {
    "duration": 620,
    "start_time": "2025-01-13T21:31:44.689Z"
   },
   {
    "duration": 607,
    "start_time": "2025-01-13T21:31:55.948Z"
   },
   {
    "duration": 109,
    "start_time": "2025-01-13T21:32:53.374Z"
   },
   {
    "duration": 173,
    "start_time": "2025-01-13T21:33:19.997Z"
   },
   {
    "duration": 1048,
    "start_time": "2025-01-13T21:33:32.886Z"
   },
   {
    "duration": 18,
    "start_time": "2025-01-13T21:33:33.936Z"
   },
   {
    "duration": 24,
    "start_time": "2025-01-13T21:33:33.955Z"
   },
   {
    "duration": 26,
    "start_time": "2025-01-13T21:33:33.982Z"
   },
   {
    "duration": 14,
    "start_time": "2025-01-13T21:33:34.010Z"
   },
   {
    "duration": 12,
    "start_time": "2025-01-13T21:33:34.026Z"
   },
   {
    "duration": 7,
    "start_time": "2025-01-13T21:33:34.040Z"
   },
   {
    "duration": 10,
    "start_time": "2025-01-13T21:33:34.048Z"
   },
   {
    "duration": 33,
    "start_time": "2025-01-13T21:33:34.060Z"
   },
   {
    "duration": 11,
    "start_time": "2025-01-13T21:33:34.095Z"
   },
   {
    "duration": 10,
    "start_time": "2025-01-13T21:33:34.107Z"
   },
   {
    "duration": 41,
    "start_time": "2025-01-13T21:33:34.119Z"
   },
   {
    "duration": 5,
    "start_time": "2025-01-13T21:33:34.162Z"
   },
   {
    "duration": 18,
    "start_time": "2025-01-13T21:33:34.191Z"
   },
   {
    "duration": 5,
    "start_time": "2025-01-13T21:33:34.211Z"
   },
   {
    "duration": 5,
    "start_time": "2025-01-13T21:33:34.218Z"
   },
   {
    "duration": 36,
    "start_time": "2025-01-13T21:33:34.224Z"
   },
   {
    "duration": 48,
    "start_time": "2025-01-13T21:33:34.262Z"
   },
   {
    "duration": 591,
    "start_time": "2025-01-13T21:33:34.312Z"
   },
   {
    "duration": 121,
    "start_time": "2025-01-13T21:33:34.904Z"
   },
   {
    "duration": 99,
    "start_time": "2025-01-13T21:33:35.033Z"
   },
   {
    "duration": 5,
    "start_time": "2025-01-13T21:33:35.133Z"
   },
   {
    "duration": 281,
    "start_time": "2025-01-13T21:33:35.139Z"
   },
   {
    "duration": 8,
    "start_time": "2025-01-13T21:33:35.422Z"
   },
   {
    "duration": 623,
    "start_time": "2025-01-13T21:33:35.431Z"
   },
   {
    "duration": 122,
    "start_time": "2025-01-13T21:33:36.056Z"
   },
   {
    "duration": 111,
    "start_time": "2025-01-13T21:33:36.180Z"
   },
   {
    "duration": 1158,
    "start_time": "2025-01-13T21:33:59.416Z"
   },
   {
    "duration": 34,
    "start_time": "2025-01-13T21:34:00.576Z"
   },
   {
    "duration": 20,
    "start_time": "2025-01-13T21:34:00.612Z"
   },
   {
    "duration": 6,
    "start_time": "2025-01-13T21:34:00.634Z"
   },
   {
    "duration": 10,
    "start_time": "2025-01-13T21:34:00.641Z"
   },
   {
    "duration": 12,
    "start_time": "2025-01-13T21:34:00.652Z"
   },
   {
    "duration": 31,
    "start_time": "2025-01-13T21:34:00.665Z"
   },
   {
    "duration": 16,
    "start_time": "2025-01-13T21:34:00.698Z"
   },
   {
    "duration": 16,
    "start_time": "2025-01-13T21:34:00.716Z"
   },
   {
    "duration": 4,
    "start_time": "2025-01-13T21:34:00.736Z"
   },
   {
    "duration": 11,
    "start_time": "2025-01-13T21:34:00.742Z"
   },
   {
    "duration": 67,
    "start_time": "2025-01-13T21:34:00.755Z"
   },
   {
    "duration": 7,
    "start_time": "2025-01-13T21:34:00.825Z"
   },
   {
    "duration": 6,
    "start_time": "2025-01-13T21:34:00.835Z"
   },
   {
    "duration": 6,
    "start_time": "2025-01-13T21:34:00.842Z"
   },
   {
    "duration": 5,
    "start_time": "2025-01-13T21:34:00.849Z"
   },
   {
    "duration": 70,
    "start_time": "2025-01-13T21:34:00.855Z"
   },
   {
    "duration": 36,
    "start_time": "2025-01-13T21:34:00.927Z"
   },
   {
    "duration": 616,
    "start_time": "2025-01-13T21:34:00.965Z"
   },
   {
    "duration": 126,
    "start_time": "2025-01-13T21:34:01.583Z"
   },
   {
    "duration": 104,
    "start_time": "2025-01-13T21:34:01.710Z"
   },
   {
    "duration": 6,
    "start_time": "2025-01-13T21:34:01.815Z"
   },
   {
    "duration": 314,
    "start_time": "2025-01-13T21:34:01.822Z"
   },
   {
    "duration": 7,
    "start_time": "2025-01-13T21:34:02.138Z"
   },
   {
    "duration": 628,
    "start_time": "2025-01-13T21:34:02.146Z"
   },
   {
    "duration": 143,
    "start_time": "2025-01-13T21:34:02.776Z"
   },
   {
    "duration": 18,
    "start_time": "2025-01-13T21:34:02.921Z"
   },
   {
    "duration": 999,
    "start_time": "2025-01-13T21:36:05.611Z"
   },
   {
    "duration": 19,
    "start_time": "2025-01-13T21:36:06.612Z"
   },
   {
    "duration": 19,
    "start_time": "2025-01-13T21:36:06.633Z"
   },
   {
    "duration": 6,
    "start_time": "2025-01-13T21:36:06.653Z"
   },
   {
    "duration": 50,
    "start_time": "2025-01-13T21:36:06.661Z"
   },
   {
    "duration": 10,
    "start_time": "2025-01-13T21:36:06.713Z"
   },
   {
    "duration": 7,
    "start_time": "2025-01-13T21:36:06.725Z"
   },
   {
    "duration": 9,
    "start_time": "2025-01-13T21:36:06.733Z"
   },
   {
    "duration": 15,
    "start_time": "2025-01-13T21:36:06.744Z"
   },
   {
    "duration": 4,
    "start_time": "2025-01-13T21:36:06.761Z"
   },
   {
    "duration": 17,
    "start_time": "2025-01-13T21:36:06.798Z"
   },
   {
    "duration": 40,
    "start_time": "2025-01-13T21:36:06.816Z"
   },
   {
    "duration": 7,
    "start_time": "2025-01-13T21:36:06.858Z"
   },
   {
    "duration": 4,
    "start_time": "2025-01-13T21:36:06.868Z"
   },
   {
    "duration": 15,
    "start_time": "2025-01-13T21:36:06.874Z"
   },
   {
    "duration": 8,
    "start_time": "2025-01-13T21:36:06.906Z"
   },
   {
    "duration": 37,
    "start_time": "2025-01-13T21:36:06.917Z"
   },
   {
    "duration": 55,
    "start_time": "2025-01-13T21:36:06.955Z"
   },
   {
    "duration": 606,
    "start_time": "2025-01-13T21:36:07.012Z"
   },
   {
    "duration": 110,
    "start_time": "2025-01-13T21:36:07.620Z"
   },
   {
    "duration": 98,
    "start_time": "2025-01-13T21:36:07.732Z"
   },
   {
    "duration": 4,
    "start_time": "2025-01-13T21:36:07.832Z"
   },
   {
    "duration": 289,
    "start_time": "2025-01-13T21:36:07.838Z"
   },
   {
    "duration": 8,
    "start_time": "2025-01-13T21:36:08.137Z"
   },
   {
    "duration": 623,
    "start_time": "2025-01-13T21:36:08.147Z"
   },
   {
    "duration": 140,
    "start_time": "2025-01-13T21:36:08.772Z"
   },
   {
    "duration": 19,
    "start_time": "2025-01-13T21:36:08.914Z"
   },
   {
    "duration": 119,
    "start_time": "2025-01-13T21:36:38.479Z"
   },
   {
    "duration": 111,
    "start_time": "2025-01-13T21:36:53.415Z"
   },
   {
    "duration": 119,
    "start_time": "2025-01-13T21:37:00.311Z"
   },
   {
    "duration": 131,
    "start_time": "2025-01-13T21:37:04.404Z"
   },
   {
    "duration": 479,
    "start_time": "2025-01-13T21:37:59.999Z"
   },
   {
    "duration": 112,
    "start_time": "2025-01-13T21:38:21.717Z"
   },
   {
    "duration": 126,
    "start_time": "2025-01-13T21:39:33.095Z"
   },
   {
    "duration": 110,
    "start_time": "2025-01-13T21:39:50.263Z"
   },
   {
    "duration": 110,
    "start_time": "2025-01-13T21:40:48.555Z"
   },
   {
    "duration": 5,
    "start_time": "2025-01-13T21:41:25.048Z"
   },
   {
    "duration": 170,
    "start_time": "2025-01-13T21:41:29.717Z"
   },
   {
    "duration": 153,
    "start_time": "2025-01-13T21:41:36.928Z"
   },
   {
    "duration": 107,
    "start_time": "2025-01-13T21:42:57.642Z"
   },
   {
    "duration": 98,
    "start_time": "2025-01-13T21:43:05.063Z"
   },
   {
    "duration": 97,
    "start_time": "2025-01-13T21:43:09.964Z"
   },
   {
    "duration": 1099,
    "start_time": "2025-01-13T21:46:58.450Z"
   },
   {
    "duration": 19,
    "start_time": "2025-01-13T21:46:59.552Z"
   },
   {
    "duration": 29,
    "start_time": "2025-01-13T21:46:59.572Z"
   },
   {
    "duration": 8,
    "start_time": "2025-01-13T21:46:59.605Z"
   },
   {
    "duration": 11,
    "start_time": "2025-01-13T21:46:59.615Z"
   },
   {
    "duration": 14,
    "start_time": "2025-01-13T21:46:59.628Z"
   },
   {
    "duration": 5,
    "start_time": "2025-01-13T21:46:59.644Z"
   },
   {
    "duration": 40,
    "start_time": "2025-01-13T21:46:59.653Z"
   },
   {
    "duration": 20,
    "start_time": "2025-01-13T21:46:59.694Z"
   },
   {
    "duration": 4,
    "start_time": "2025-01-13T21:46:59.716Z"
   },
   {
    "duration": 12,
    "start_time": "2025-01-13T21:46:59.722Z"
   },
   {
    "duration": 91,
    "start_time": "2025-01-13T21:46:59.735Z"
   },
   {
    "duration": 8,
    "start_time": "2025-01-13T21:46:59.828Z"
   },
   {
    "duration": 6,
    "start_time": "2025-01-13T21:46:59.840Z"
   },
   {
    "duration": 6,
    "start_time": "2025-01-13T21:46:59.848Z"
   },
   {
    "duration": 6,
    "start_time": "2025-01-13T21:46:59.856Z"
   },
   {
    "duration": 66,
    "start_time": "2025-01-13T21:46:59.864Z"
   },
   {
    "duration": 57,
    "start_time": "2025-01-13T21:46:59.932Z"
   },
   {
    "duration": 629,
    "start_time": "2025-01-13T21:46:59.991Z"
   },
   {
    "duration": 129,
    "start_time": "2025-01-13T21:47:00.622Z"
   },
   {
    "duration": 104,
    "start_time": "2025-01-13T21:47:00.752Z"
   },
   {
    "duration": 5,
    "start_time": "2025-01-13T21:47:00.859Z"
   },
   {
    "duration": 355,
    "start_time": "2025-01-13T21:47:00.866Z"
   },
   {
    "duration": 8,
    "start_time": "2025-01-13T21:47:01.223Z"
   },
   {
    "duration": 690,
    "start_time": "2025-01-13T21:47:01.233Z"
   },
   {
    "duration": 116,
    "start_time": "2025-01-13T21:47:01.925Z"
   },
   {
    "duration": 51,
    "start_time": "2025-01-13T21:47:02.042Z"
   },
   {
    "duration": 104,
    "start_time": "2025-01-13T21:47:21.213Z"
   },
   {
    "duration": 99,
    "start_time": "2025-01-13T21:47:27.444Z"
   },
   {
    "duration": 101,
    "start_time": "2025-01-13T21:49:59.465Z"
   },
   {
    "duration": 117,
    "start_time": "2025-01-13T21:50:13.913Z"
   },
   {
    "duration": 141,
    "start_time": "2025-01-13T21:51:04.146Z"
   },
   {
    "duration": 96,
    "start_time": "2025-01-13T21:52:41.637Z"
   },
   {
    "duration": 103,
    "start_time": "2025-01-13T21:53:13.144Z"
   },
   {
    "duration": 1018,
    "start_time": "2025-01-13T21:54:32.241Z"
   },
   {
    "duration": 15,
    "start_time": "2025-01-13T21:54:33.261Z"
   },
   {
    "duration": 24,
    "start_time": "2025-01-13T21:54:33.278Z"
   },
   {
    "duration": 7,
    "start_time": "2025-01-13T21:54:33.304Z"
   },
   {
    "duration": 9,
    "start_time": "2025-01-13T21:54:33.315Z"
   },
   {
    "duration": 10,
    "start_time": "2025-01-13T21:54:33.326Z"
   },
   {
    "duration": 7,
    "start_time": "2025-01-13T21:54:33.338Z"
   },
   {
    "duration": 14,
    "start_time": "2025-01-13T21:54:33.387Z"
   },
   {
    "duration": 15,
    "start_time": "2025-01-13T21:54:33.403Z"
   },
   {
    "duration": 5,
    "start_time": "2025-01-13T21:54:33.420Z"
   },
   {
    "duration": 10,
    "start_time": "2025-01-13T21:54:33.426Z"
   },
   {
    "duration": 72,
    "start_time": "2025-01-13T21:54:33.437Z"
   },
   {
    "duration": 7,
    "start_time": "2025-01-13T21:54:33.511Z"
   },
   {
    "duration": 5,
    "start_time": "2025-01-13T21:54:33.522Z"
   },
   {
    "duration": 5,
    "start_time": "2025-01-13T21:54:33.529Z"
   },
   {
    "duration": 4,
    "start_time": "2025-01-13T21:54:33.537Z"
   },
   {
    "duration": 65,
    "start_time": "2025-01-13T21:54:33.543Z"
   },
   {
    "duration": 32,
    "start_time": "2025-01-13T21:54:33.610Z"
   },
   {
    "duration": 612,
    "start_time": "2025-01-13T21:54:33.644Z"
   },
   {
    "duration": 111,
    "start_time": "2025-01-13T21:54:34.258Z"
   },
   {
    "duration": 103,
    "start_time": "2025-01-13T21:54:34.370Z"
   },
   {
    "duration": 14,
    "start_time": "2025-01-13T21:54:34.475Z"
   },
   {
    "duration": 314,
    "start_time": "2025-01-13T21:54:34.491Z"
   },
   {
    "duration": 8,
    "start_time": "2025-01-13T21:54:34.808Z"
   },
   {
    "duration": 617,
    "start_time": "2025-01-13T21:54:34.817Z"
   },
   {
    "duration": 114,
    "start_time": "2025-01-13T21:54:35.436Z"
   },
   {
    "duration": 109,
    "start_time": "2025-01-13T21:54:35.552Z"
   },
   {
    "duration": 35,
    "start_time": "2025-01-13T21:54:35.663Z"
   },
   {
    "duration": 308,
    "start_time": "2025-01-13T21:56:01.356Z"
   },
   {
    "duration": 10,
    "start_time": "2025-01-13T21:57:13.305Z"
   },
   {
    "duration": 28,
    "start_time": "2025-01-13T21:59:41.861Z"
   },
   {
    "duration": 6,
    "start_time": "2025-01-13T22:07:30.894Z"
   },
   {
    "duration": 8,
    "start_time": "2025-01-13T22:07:36.296Z"
   },
   {
    "duration": 21,
    "start_time": "2025-01-13T22:07:46.430Z"
   },
   {
    "duration": 2,
    "start_time": "2025-01-13T22:08:26.380Z"
   },
   {
    "duration": 106,
    "start_time": "2025-01-13T22:08:42.586Z"
   },
   {
    "duration": 94,
    "start_time": "2025-01-13T22:08:44.658Z"
   },
   {
    "duration": 95,
    "start_time": "2025-01-13T22:09:18.005Z"
   },
   {
    "duration": 300,
    "start_time": "2025-01-13T22:10:09.939Z"
   },
   {
    "duration": 991,
    "start_time": "2025-01-13T22:10:41.648Z"
   },
   {
    "duration": 23,
    "start_time": "2025-01-13T22:10:42.642Z"
   },
   {
    "duration": 22,
    "start_time": "2025-01-13T22:10:42.666Z"
   },
   {
    "duration": 6,
    "start_time": "2025-01-13T22:10:42.689Z"
   },
   {
    "duration": 10,
    "start_time": "2025-01-13T22:10:42.697Z"
   },
   {
    "duration": 11,
    "start_time": "2025-01-13T22:10:42.709Z"
   },
   {
    "duration": 6,
    "start_time": "2025-01-13T22:10:42.721Z"
   },
   {
    "duration": 9,
    "start_time": "2025-01-13T22:10:42.730Z"
   },
   {
    "duration": 59,
    "start_time": "2025-01-13T22:10:42.740Z"
   },
   {
    "duration": 4,
    "start_time": "2025-01-13T22:10:42.801Z"
   },
   {
    "duration": 9,
    "start_time": "2025-01-13T22:10:42.807Z"
   },
   {
    "duration": 41,
    "start_time": "2025-01-13T22:10:42.818Z"
   },
   {
    "duration": 6,
    "start_time": "2025-01-13T22:10:42.887Z"
   },
   {
    "duration": 5,
    "start_time": "2025-01-13T22:10:42.897Z"
   },
   {
    "duration": 6,
    "start_time": "2025-01-13T22:10:42.903Z"
   },
   {
    "duration": 5,
    "start_time": "2025-01-13T22:10:42.911Z"
   },
   {
    "duration": 36,
    "start_time": "2025-01-13T22:10:42.918Z"
   },
   {
    "duration": 32,
    "start_time": "2025-01-13T22:10:42.987Z"
   },
   {
    "duration": 604,
    "start_time": "2025-01-13T22:10:43.021Z"
   },
   {
    "duration": 114,
    "start_time": "2025-01-13T22:10:43.627Z"
   },
   {
    "duration": 105,
    "start_time": "2025-01-13T22:10:43.743Z"
   },
   {
    "duration": 4,
    "start_time": "2025-01-13T22:10:43.850Z"
   },
   {
    "duration": 320,
    "start_time": "2025-01-13T22:10:43.856Z"
   },
   {
    "duration": 15,
    "start_time": "2025-01-13T22:10:44.177Z"
   },
   {
    "duration": 612,
    "start_time": "2025-01-13T22:10:44.193Z"
   },
   {
    "duration": 113,
    "start_time": "2025-01-13T22:10:44.807Z"
   },
   {
    "duration": 115,
    "start_time": "2025-01-13T22:10:44.922Z"
   },
   {
    "duration": 272,
    "start_time": "2025-01-13T22:10:45.039Z"
   },
   {
    "duration": 8,
    "start_time": "2025-01-13T22:10:45.313Z"
   },
   {
    "duration": 65,
    "start_time": "2025-01-13T22:10:45.323Z"
   },
   {
    "duration": 182,
    "start_time": "2025-01-13T22:10:45.390Z"
   },
   {
    "duration": 307,
    "start_time": "2025-01-13T22:10:45.574Z"
   },
   {
    "duration": 18,
    "start_time": "2025-01-13T22:11:57.490Z"
   },
   {
    "duration": 113,
    "start_time": "2025-01-13T22:13:44.681Z"
   },
   {
    "duration": 288,
    "start_time": "2025-01-13T22:14:14.510Z"
   },
   {
    "duration": 338,
    "start_time": "2025-01-13T22:14:36.178Z"
   },
   {
    "duration": 9,
    "start_time": "2025-01-13T22:15:42.383Z"
   },
   {
    "duration": 973,
    "start_time": "2025-01-13T22:21:35.475Z"
   },
   {
    "duration": 17,
    "start_time": "2025-01-13T22:21:36.449Z"
   },
   {
    "duration": 23,
    "start_time": "2025-01-13T22:21:36.468Z"
   },
   {
    "duration": 5,
    "start_time": "2025-01-13T22:21:36.494Z"
   },
   {
    "duration": 10,
    "start_time": "2025-01-13T22:21:36.501Z"
   },
   {
    "duration": 11,
    "start_time": "2025-01-13T22:21:36.513Z"
   },
   {
    "duration": 7,
    "start_time": "2025-01-13T22:21:36.525Z"
   },
   {
    "duration": 53,
    "start_time": "2025-01-13T22:21:36.533Z"
   },
   {
    "duration": 16,
    "start_time": "2025-01-13T22:21:36.588Z"
   },
   {
    "duration": 4,
    "start_time": "2025-01-13T22:21:36.608Z"
   },
   {
    "duration": 9,
    "start_time": "2025-01-13T22:21:36.614Z"
   },
   {
    "duration": 69,
    "start_time": "2025-01-13T22:21:36.625Z"
   },
   {
    "duration": 7,
    "start_time": "2025-01-13T22:21:36.696Z"
   },
   {
    "duration": 5,
    "start_time": "2025-01-13T22:21:36.705Z"
   },
   {
    "duration": 6,
    "start_time": "2025-01-13T22:21:36.712Z"
   },
   {
    "duration": 5,
    "start_time": "2025-01-13T22:21:36.719Z"
   },
   {
    "duration": 65,
    "start_time": "2025-01-13T22:21:36.727Z"
   },
   {
    "duration": 33,
    "start_time": "2025-01-13T22:21:36.794Z"
   },
   {
    "duration": 601,
    "start_time": "2025-01-13T22:21:36.829Z"
   },
   {
    "duration": 111,
    "start_time": "2025-01-13T22:21:37.432Z"
   },
   {
    "duration": 102,
    "start_time": "2025-01-13T22:21:37.545Z"
   },
   {
    "duration": 5,
    "start_time": "2025-01-13T22:21:37.648Z"
   },
   {
    "duration": 308,
    "start_time": "2025-01-13T22:21:37.655Z"
   },
   {
    "duration": 7,
    "start_time": "2025-01-13T22:21:37.965Z"
   },
   {
    "duration": 621,
    "start_time": "2025-01-13T22:21:37.974Z"
   },
   {
    "duration": 112,
    "start_time": "2025-01-13T22:21:38.597Z"
   },
   {
    "duration": 108,
    "start_time": "2025-01-13T22:21:38.710Z"
   },
   {
    "duration": 294,
    "start_time": "2025-01-13T22:21:38.821Z"
   },
   {
    "duration": 8,
    "start_time": "2025-01-13T22:21:39.117Z"
   },
   {
    "duration": 65,
    "start_time": "2025-01-13T22:21:39.127Z"
   },
   {
    "duration": 198,
    "start_time": "2025-01-13T22:21:39.194Z"
   },
   {
    "duration": 103,
    "start_time": "2025-01-13T22:21:39.393Z"
   },
   {
    "duration": 300,
    "start_time": "2025-01-13T22:21:39.497Z"
   },
   {
    "duration": 7,
    "start_time": "2025-01-13T22:21:39.800Z"
   },
   {
    "duration": 2750,
    "start_time": "2025-01-14T17:42:04.923Z"
   },
   {
    "duration": 24,
    "start_time": "2025-01-14T17:42:07.675Z"
   },
   {
    "duration": 19,
    "start_time": "2025-01-14T17:42:07.701Z"
   },
   {
    "duration": 6,
    "start_time": "2025-01-14T17:42:07.725Z"
   },
   {
    "duration": 11,
    "start_time": "2025-01-14T17:42:07.735Z"
   },
   {
    "duration": 11,
    "start_time": "2025-01-14T17:42:07.748Z"
   },
   {
    "duration": 6,
    "start_time": "2025-01-14T17:42:07.760Z"
   },
   {
    "duration": 10,
    "start_time": "2025-01-14T17:42:07.768Z"
   },
   {
    "duration": 61,
    "start_time": "2025-01-14T17:42:07.779Z"
   },
   {
    "duration": 4,
    "start_time": "2025-01-14T17:42:07.842Z"
   },
   {
    "duration": 9,
    "start_time": "2025-01-14T17:42:07.848Z"
   },
   {
    "duration": 66,
    "start_time": "2025-01-14T17:42:07.859Z"
   },
   {
    "duration": 9,
    "start_time": "2025-01-14T17:42:07.927Z"
   },
   {
    "duration": 6,
    "start_time": "2025-01-14T17:42:07.939Z"
   },
   {
    "duration": 5,
    "start_time": "2025-01-14T17:42:07.946Z"
   },
   {
    "duration": 6,
    "start_time": "2025-01-14T17:42:07.953Z"
   },
   {
    "duration": 35,
    "start_time": "2025-01-14T17:42:07.960Z"
   },
   {
    "duration": 36,
    "start_time": "2025-01-14T17:42:08.025Z"
   },
   {
    "duration": 598,
    "start_time": "2025-01-14T17:42:08.063Z"
   },
   {
    "duration": 108,
    "start_time": "2025-01-14T17:42:08.662Z"
   },
   {
    "duration": 99,
    "start_time": "2025-01-14T17:42:08.773Z"
   },
   {
    "duration": 4,
    "start_time": "2025-01-14T17:42:08.874Z"
   },
   {
    "duration": 309,
    "start_time": "2025-01-14T17:42:08.880Z"
   },
   {
    "duration": 8,
    "start_time": "2025-01-14T17:42:09.191Z"
   },
   {
    "duration": 620,
    "start_time": "2025-01-14T17:42:09.202Z"
   },
   {
    "duration": 114,
    "start_time": "2025-01-14T17:42:09.824Z"
   },
   {
    "duration": 166,
    "start_time": "2025-01-14T17:42:09.940Z"
   },
   {
    "duration": 318,
    "start_time": "2025-01-14T17:42:10.108Z"
   },
   {
    "duration": 10,
    "start_time": "2025-01-14T17:42:10.427Z"
   },
   {
    "duration": 19,
    "start_time": "2025-01-14T17:42:10.438Z"
   },
   {
    "duration": 174,
    "start_time": "2025-01-14T17:42:10.525Z"
   },
   {
    "duration": 107,
    "start_time": "2025-01-14T17:42:10.701Z"
   },
   {
    "duration": 315,
    "start_time": "2025-01-14T17:42:10.809Z"
   },
   {
    "duration": 8,
    "start_time": "2025-01-14T17:42:11.126Z"
   },
   {
    "duration": 309,
    "start_time": "2025-01-14T18:14:22.527Z"
   },
   {
    "duration": 295,
    "start_time": "2025-01-14T18:15:26.936Z"
   },
   {
    "duration": 111,
    "start_time": "2025-01-14T18:52:42.319Z"
   },
   {
    "duration": 4,
    "start_time": "2025-01-14T18:53:40.464Z"
   },
   {
    "duration": 5,
    "start_time": "2025-01-14T18:54:42.502Z"
   },
   {
    "duration": 5,
    "start_time": "2025-01-14T18:56:11.819Z"
   },
   {
    "duration": 1022,
    "start_time": "2025-01-14T18:57:40.043Z"
   },
   {
    "duration": 16,
    "start_time": "2025-01-14T18:57:41.066Z"
   },
   {
    "duration": 19,
    "start_time": "2025-01-14T18:57:41.084Z"
   },
   {
    "duration": 20,
    "start_time": "2025-01-14T18:57:41.104Z"
   },
   {
    "duration": 10,
    "start_time": "2025-01-14T18:57:41.126Z"
   },
   {
    "duration": 11,
    "start_time": "2025-01-14T18:57:41.138Z"
   },
   {
    "duration": 5,
    "start_time": "2025-01-14T18:57:41.151Z"
   },
   {
    "duration": 9,
    "start_time": "2025-01-14T18:57:41.158Z"
   },
   {
    "duration": 60,
    "start_time": "2025-01-14T18:57:41.168Z"
   },
   {
    "duration": 5,
    "start_time": "2025-01-14T18:57:41.230Z"
   },
   {
    "duration": 10,
    "start_time": "2025-01-14T18:57:41.237Z"
   },
   {
    "duration": 40,
    "start_time": "2025-01-14T18:57:41.248Z"
   },
   {
    "duration": 35,
    "start_time": "2025-01-14T18:57:41.290Z"
   },
   {
    "duration": 9,
    "start_time": "2025-01-14T18:57:41.328Z"
   },
   {
    "duration": 5,
    "start_time": "2025-01-14T18:57:41.339Z"
   },
   {
    "duration": 4,
    "start_time": "2025-01-14T18:57:41.346Z"
   },
   {
    "duration": 36,
    "start_time": "2025-01-14T18:57:41.352Z"
   },
   {
    "duration": 58,
    "start_time": "2025-01-14T18:57:41.389Z"
   },
   {
    "duration": 595,
    "start_time": "2025-01-14T18:57:41.449Z"
   },
   {
    "duration": 111,
    "start_time": "2025-01-14T18:57:42.046Z"
   },
   {
    "duration": 100,
    "start_time": "2025-01-14T18:57:42.158Z"
   },
   {
    "duration": 5,
    "start_time": "2025-01-14T18:57:42.259Z"
   },
   {
    "duration": 313,
    "start_time": "2025-01-14T18:57:42.266Z"
   },
   {
    "duration": 8,
    "start_time": "2025-01-14T18:57:42.581Z"
   },
   {
    "duration": 627,
    "start_time": "2025-01-14T18:57:42.590Z"
   },
   {
    "duration": 113,
    "start_time": "2025-01-14T18:57:43.223Z"
   },
   {
    "duration": 111,
    "start_time": "2025-01-14T18:57:43.340Z"
   },
   {
    "duration": 5,
    "start_time": "2025-01-14T18:57:43.452Z"
   },
   {
    "duration": 292,
    "start_time": "2025-01-14T18:57:43.459Z"
   },
   {
    "duration": 9,
    "start_time": "2025-01-14T18:57:43.752Z"
   },
   {
    "duration": 67,
    "start_time": "2025-01-14T18:57:43.762Z"
   },
   {
    "duration": 191,
    "start_time": "2025-01-14T18:57:43.834Z"
   },
   {
    "duration": 107,
    "start_time": "2025-01-14T18:57:44.027Z"
   },
   {
    "duration": 307,
    "start_time": "2025-01-14T18:57:44.136Z"
   },
   {
    "duration": 7,
    "start_time": "2025-01-14T18:57:44.445Z"
   },
   {
    "duration": 309,
    "start_time": "2025-01-14T18:59:50.132Z"
   },
   {
    "duration": 6,
    "start_time": "2025-01-14T19:26:21.328Z"
   },
   {
    "duration": 5,
    "start_time": "2025-01-14T19:28:02.199Z"
   },
   {
    "duration": 165,
    "start_time": "2025-01-14T19:29:03.260Z"
   },
   {
    "duration": 974,
    "start_time": "2025-01-14T19:29:11.901Z"
   },
   {
    "duration": 15,
    "start_time": "2025-01-14T19:29:12.877Z"
   },
   {
    "duration": 30,
    "start_time": "2025-01-14T19:29:12.894Z"
   },
   {
    "duration": 6,
    "start_time": "2025-01-14T19:29:12.926Z"
   },
   {
    "duration": 10,
    "start_time": "2025-01-14T19:29:12.935Z"
   },
   {
    "duration": 10,
    "start_time": "2025-01-14T19:29:12.946Z"
   },
   {
    "duration": 5,
    "start_time": "2025-01-14T19:29:12.957Z"
   },
   {
    "duration": 9,
    "start_time": "2025-01-14T19:29:12.964Z"
   },
   {
    "duration": 60,
    "start_time": "2025-01-14T19:29:12.974Z"
   },
   {
    "duration": 4,
    "start_time": "2025-01-14T19:29:13.036Z"
   },
   {
    "duration": 9,
    "start_time": "2025-01-14T19:29:13.042Z"
   },
   {
    "duration": 40,
    "start_time": "2025-01-14T19:29:13.053Z"
   },
   {
    "duration": 6,
    "start_time": "2025-01-14T19:29:13.094Z"
   },
   {
    "duration": 5,
    "start_time": "2025-01-14T19:29:13.128Z"
   },
   {
    "duration": 5,
    "start_time": "2025-01-14T19:29:13.134Z"
   },
   {
    "duration": 5,
    "start_time": "2025-01-14T19:29:13.141Z"
   },
   {
    "duration": 36,
    "start_time": "2025-01-14T19:29:13.147Z"
   },
   {
    "duration": 67,
    "start_time": "2025-01-14T19:29:13.184Z"
   },
   {
    "duration": 599,
    "start_time": "2025-01-14T19:29:13.253Z"
   },
   {
    "duration": 113,
    "start_time": "2025-01-14T19:29:13.854Z"
   },
   {
    "duration": 101,
    "start_time": "2025-01-14T19:29:13.969Z"
   },
   {
    "duration": 5,
    "start_time": "2025-01-14T19:29:14.072Z"
   },
   {
    "duration": 300,
    "start_time": "2025-01-14T19:29:14.078Z"
   },
   {
    "duration": 8,
    "start_time": "2025-01-14T19:29:14.380Z"
   },
   {
    "duration": 620,
    "start_time": "2025-01-14T19:29:14.389Z"
   },
   {
    "duration": 106,
    "start_time": "2025-01-14T19:29:15.011Z"
   },
   {
    "duration": 109,
    "start_time": "2025-01-14T19:29:15.125Z"
   },
   {
    "duration": 4,
    "start_time": "2025-01-14T19:29:15.236Z"
   },
   {
    "duration": 300,
    "start_time": "2025-01-14T19:29:15.242Z"
   },
   {
    "duration": 8,
    "start_time": "2025-01-14T19:29:15.544Z"
   },
   {
    "duration": 17,
    "start_time": "2025-01-14T19:29:15.553Z"
   },
   {
    "duration": 225,
    "start_time": "2025-01-14T19:29:15.572Z"
   },
   {
    "duration": 113,
    "start_time": "2025-01-14T19:29:15.799Z"
   },
   {
    "duration": 12,
    "start_time": "2025-01-14T19:29:15.914Z"
   },
   {
    "duration": 299,
    "start_time": "2025-01-14T19:29:15.928Z"
   },
   {
    "duration": 8,
    "start_time": "2025-01-14T19:29:16.229Z"
   },
   {
    "duration": 274,
    "start_time": "2025-01-14T19:33:07.475Z"
   },
   {
    "duration": 350,
    "start_time": "2025-01-14T19:45:46.792Z"
   },
   {
    "duration": 8,
    "start_time": "2025-01-14T20:20:39.744Z"
   },
   {
    "duration": 4,
    "start_time": "2025-01-14T20:20:43.325Z"
   },
   {
    "duration": 11,
    "start_time": "2025-01-14T20:40:17.804Z"
   },
   {
    "duration": 12,
    "start_time": "2025-01-14T20:40:42.166Z"
   },
   {
    "duration": 1019,
    "start_time": "2025-01-14T20:40:52.952Z"
   },
   {
    "duration": 21,
    "start_time": "2025-01-14T20:40:53.974Z"
   },
   {
    "duration": 28,
    "start_time": "2025-01-14T20:40:53.997Z"
   },
   {
    "duration": 6,
    "start_time": "2025-01-14T20:40:54.028Z"
   },
   {
    "duration": 11,
    "start_time": "2025-01-14T20:40:54.036Z"
   },
   {
    "duration": 10,
    "start_time": "2025-01-14T20:40:54.048Z"
   },
   {
    "duration": 6,
    "start_time": "2025-01-14T20:40:54.060Z"
   },
   {
    "duration": 10,
    "start_time": "2025-01-14T20:40:54.067Z"
   },
   {
    "duration": 58,
    "start_time": "2025-01-14T20:40:54.079Z"
   },
   {
    "duration": 4,
    "start_time": "2025-01-14T20:40:54.141Z"
   },
   {
    "duration": 10,
    "start_time": "2025-01-14T20:40:54.146Z"
   },
   {
    "duration": 66,
    "start_time": "2025-01-14T20:40:54.157Z"
   },
   {
    "duration": 7,
    "start_time": "2025-01-14T20:40:54.225Z"
   },
   {
    "duration": 5,
    "start_time": "2025-01-14T20:40:54.233Z"
   },
   {
    "duration": 4,
    "start_time": "2025-01-14T20:40:54.240Z"
   },
   {
    "duration": 6,
    "start_time": "2025-01-14T20:40:54.246Z"
   },
   {
    "duration": 35,
    "start_time": "2025-01-14T20:40:54.254Z"
   },
   {
    "duration": 64,
    "start_time": "2025-01-14T20:40:54.290Z"
   },
   {
    "duration": 589,
    "start_time": "2025-01-14T20:40:54.355Z"
   },
   {
    "duration": 108,
    "start_time": "2025-01-14T20:40:54.946Z"
   },
   {
    "duration": 110,
    "start_time": "2025-01-14T20:40:55.056Z"
   },
   {
    "duration": 4,
    "start_time": "2025-01-14T20:40:55.168Z"
   },
   {
    "duration": 278,
    "start_time": "2025-01-14T20:40:55.174Z"
   },
   {
    "duration": 9,
    "start_time": "2025-01-14T20:40:55.453Z"
   },
   {
    "duration": 610,
    "start_time": "2025-01-14T20:40:55.464Z"
   },
   {
    "duration": 122,
    "start_time": "2025-01-14T20:40:56.075Z"
   },
   {
    "duration": 111,
    "start_time": "2025-01-14T20:40:56.199Z"
   },
   {
    "duration": 10,
    "start_time": "2025-01-14T20:40:56.314Z"
   },
   {
    "duration": 307,
    "start_time": "2025-01-14T20:40:56.325Z"
   },
   {
    "duration": 8,
    "start_time": "2025-01-14T20:40:56.634Z"
   },
   {
    "duration": 17,
    "start_time": "2025-01-14T20:40:56.644Z"
   },
   {
    "duration": 229,
    "start_time": "2025-01-14T20:40:56.664Z"
   },
   {
    "duration": 111,
    "start_time": "2025-01-14T20:40:56.895Z"
   },
   {
    "duration": 16,
    "start_time": "2025-01-14T20:40:57.008Z"
   },
   {
    "duration": 314,
    "start_time": "2025-01-14T20:40:57.026Z"
   },
   {
    "duration": 8,
    "start_time": "2025-01-14T20:40:57.342Z"
   },
   {
    "duration": 11,
    "start_time": "2025-01-14T20:40:57.352Z"
   },
   {
    "duration": 10,
    "start_time": "2025-01-14T20:42:26.396Z"
   },
   {
    "duration": 154,
    "start_time": "2025-01-14T20:43:29.422Z"
   },
   {
    "duration": 15,
    "start_time": "2025-01-14T20:43:33.758Z"
   },
   {
    "duration": 26,
    "start_time": "2025-01-14T20:43:43.858Z"
   },
   {
    "duration": 7,
    "start_time": "2025-01-14T20:44:06.639Z"
   },
   {
    "duration": 17427,
    "start_time": "2025-01-14T20:45:40.670Z"
   },
   {
    "duration": 28459,
    "start_time": "2025-01-14T20:46:59.465Z"
   },
   {
    "duration": 28296,
    "start_time": "2025-01-14T20:48:33.376Z"
   },
   {
    "duration": 27887,
    "start_time": "2025-01-14T20:49:04.763Z"
   },
   {
    "duration": 77,
    "start_time": "2025-01-14T20:50:28.428Z"
   },
   {
    "duration": 28179,
    "start_time": "2025-01-14T20:51:01.378Z"
   },
   {
    "duration": 6,
    "start_time": "2025-01-14T20:51:47.933Z"
   },
   {
    "duration": 305,
    "start_time": "2025-01-14T20:51:51.260Z"
   },
   {
    "duration": 48,
    "start_time": "2025-01-14T20:52:15.105Z"
   },
   {
    "duration": 11,
    "start_time": "2025-01-14T20:54:40.528Z"
   },
   {
    "duration": 49,
    "start_time": "2025-01-14T20:55:21.051Z"
   },
   {
    "duration": 11,
    "start_time": "2025-01-14T20:55:31.109Z"
   },
   {
    "duration": 11,
    "start_time": "2025-01-14T20:55:36.141Z"
   },
   {
    "duration": 23,
    "start_time": "2025-01-14T20:55:56.757Z"
   },
   {
    "duration": 11,
    "start_time": "2025-01-14T20:56:15.602Z"
   },
   {
    "duration": 76,
    "start_time": "2025-01-14T20:58:00.094Z"
   },
   {
    "duration": 69,
    "start_time": "2025-01-14T20:58:18.879Z"
   },
   {
    "duration": 68,
    "start_time": "2025-01-14T21:00:10.890Z"
   },
   {
    "duration": 70,
    "start_time": "2025-01-14T21:00:44.992Z"
   },
   {
    "duration": 71,
    "start_time": "2025-01-14T21:01:00.976Z"
   },
   {
    "duration": 74,
    "start_time": "2025-01-14T21:02:04.758Z"
   },
   {
    "duration": 85,
    "start_time": "2025-01-14T21:02:32.096Z"
   },
   {
    "duration": 82,
    "start_time": "2025-01-14T21:02:40.123Z"
   },
   {
    "duration": 71,
    "start_time": "2025-01-14T21:02:55.952Z"
   },
   {
    "duration": 75,
    "start_time": "2025-01-14T21:03:02.518Z"
   },
   {
    "duration": 18,
    "start_time": "2025-01-14T21:03:31.590Z"
   },
   {
    "duration": 71,
    "start_time": "2025-01-14T21:03:46.476Z"
   },
   {
    "duration": 16,
    "start_time": "2025-01-14T21:04:08.633Z"
   },
   {
    "duration": 13,
    "start_time": "2025-01-14T21:04:11.825Z"
   },
   {
    "duration": 15,
    "start_time": "2025-01-14T21:07:10.903Z"
   },
   {
    "duration": 17,
    "start_time": "2025-01-14T21:07:37.660Z"
   },
   {
    "duration": 17,
    "start_time": "2025-01-14T21:08:07.042Z"
   },
   {
    "duration": 72,
    "start_time": "2025-01-14T21:08:15.211Z"
   },
   {
    "duration": 4,
    "start_time": "2025-01-14T21:14:45.233Z"
   },
   {
    "duration": 14,
    "start_time": "2025-01-14T21:14:51.482Z"
   },
   {
    "duration": 44,
    "start_time": "2025-01-14T21:14:56.908Z"
   },
   {
    "duration": 41,
    "start_time": "2025-01-14T21:15:08.246Z"
   },
   {
    "duration": 83,
    "start_time": "2025-01-14T21:23:06.132Z"
   },
   {
    "duration": 4,
    "start_time": "2025-01-14T21:23:48.601Z"
   },
   {
    "duration": 17,
    "start_time": "2025-01-14T21:25:39.296Z"
   },
   {
    "duration": 193,
    "start_time": "2025-01-14T21:25:56.632Z"
   },
   {
    "duration": 251,
    "start_time": "2025-01-14T21:27:52.553Z"
   },
   {
    "duration": 212,
    "start_time": "2025-01-14T21:31:17.391Z"
   },
   {
    "duration": 256,
    "start_time": "2025-01-14T21:31:29.650Z"
   },
   {
    "duration": 222,
    "start_time": "2025-01-14T21:32:19.988Z"
   },
   {
    "duration": 5,
    "start_time": "2025-01-14T21:32:26.877Z"
   },
   {
    "duration": 2321,
    "start_time": "2025-01-14T21:32:35.274Z"
   },
   {
    "duration": 222,
    "start_time": "2025-01-14T21:32:51.123Z"
   },
   {
    "duration": 255,
    "start_time": "2025-01-14T21:32:57.558Z"
   },
   {
    "duration": 247,
    "start_time": "2025-01-14T21:33:07.851Z"
   },
   {
    "duration": 960,
    "start_time": "2025-01-14T21:33:31.401Z"
   },
   {
    "duration": 15,
    "start_time": "2025-01-14T21:33:32.363Z"
   },
   {
    "duration": 19,
    "start_time": "2025-01-14T21:33:32.380Z"
   },
   {
    "duration": 6,
    "start_time": "2025-01-14T21:33:32.400Z"
   },
   {
    "duration": 11,
    "start_time": "2025-01-14T21:33:32.423Z"
   },
   {
    "duration": 10,
    "start_time": "2025-01-14T21:33:32.435Z"
   },
   {
    "duration": 7,
    "start_time": "2025-01-14T21:33:32.447Z"
   },
   {
    "duration": 9,
    "start_time": "2025-01-14T21:33:32.455Z"
   },
   {
    "duration": 14,
    "start_time": "2025-01-14T21:33:32.466Z"
   },
   {
    "duration": 6,
    "start_time": "2025-01-14T21:33:32.524Z"
   },
   {
    "duration": 10,
    "start_time": "2025-01-14T21:33:32.532Z"
   },
   {
    "duration": 40,
    "start_time": "2025-01-14T21:33:32.544Z"
   },
   {
    "duration": 38,
    "start_time": "2025-01-14T21:33:32.586Z"
   },
   {
    "duration": 6,
    "start_time": "2025-01-14T21:33:32.628Z"
   },
   {
    "duration": 6,
    "start_time": "2025-01-14T21:33:32.636Z"
   },
   {
    "duration": 5,
    "start_time": "2025-01-14T21:33:32.644Z"
   },
   {
    "duration": 39,
    "start_time": "2025-01-14T21:33:32.652Z"
   },
   {
    "duration": 58,
    "start_time": "2025-01-14T21:33:32.693Z"
   },
   {
    "duration": 588,
    "start_time": "2025-01-14T21:33:32.753Z"
   },
   {
    "duration": 112,
    "start_time": "2025-01-14T21:33:33.343Z"
   },
   {
    "duration": 99,
    "start_time": "2025-01-14T21:33:33.457Z"
   },
   {
    "duration": 4,
    "start_time": "2025-01-14T21:33:33.558Z"
   },
   {
    "duration": 321,
    "start_time": "2025-01-14T21:33:33.564Z"
   },
   {
    "duration": 9,
    "start_time": "2025-01-14T21:33:33.886Z"
   },
   {
    "duration": 616,
    "start_time": "2025-01-14T21:33:33.897Z"
   },
   {
    "duration": 114,
    "start_time": "2025-01-14T21:33:34.516Z"
   },
   {
    "duration": 108,
    "start_time": "2025-01-14T21:33:34.632Z"
   },
   {
    "duration": 4,
    "start_time": "2025-01-14T21:33:34.742Z"
   },
   {
    "duration": 305,
    "start_time": "2025-01-14T21:33:34.748Z"
   },
   {
    "duration": 9,
    "start_time": "2025-01-14T21:33:35.054Z"
   },
   {
    "duration": 61,
    "start_time": "2025-01-14T21:33:35.064Z"
   },
   {
    "duration": 175,
    "start_time": "2025-01-14T21:33:35.130Z"
   },
   {
    "duration": 117,
    "start_time": "2025-01-14T21:33:35.307Z"
   },
   {
    "duration": 5,
    "start_time": "2025-01-14T21:33:35.425Z"
   },
   {
    "duration": 306,
    "start_time": "2025-01-14T21:33:35.432Z"
   },
   {
    "duration": 7,
    "start_time": "2025-01-14T21:33:35.740Z"
   },
   {
    "duration": 94,
    "start_time": "2025-01-14T21:33:35.750Z"
   },
   {
    "duration": 17,
    "start_time": "2025-01-14T21:33:35.845Z"
   },
   {
    "duration": 329,
    "start_time": "2025-01-14T21:33:35.863Z"
   },
   {
    "duration": 306,
    "start_time": "2025-01-14T21:33:36.194Z"
   },
   {
    "duration": 219,
    "start_time": "2025-01-14T21:34:01.393Z"
   },
   {
    "duration": 608,
    "start_time": "2025-01-14T21:34:19.740Z"
   },
   {
    "duration": 226,
    "start_time": "2025-01-14T21:39:42.676Z"
   },
   {
    "duration": 251,
    "start_time": "2025-01-14T21:39:50.356Z"
   },
   {
    "duration": 212,
    "start_time": "2025-01-14T21:39:59.817Z"
   },
   {
    "duration": 234,
    "start_time": "2025-01-14T21:40:41.325Z"
   },
   {
    "duration": 4,
    "start_time": "2025-01-14T21:40:56.768Z"
   },
   {
    "duration": 861,
    "start_time": "2025-01-14T21:40:58.665Z"
   },
   {
    "duration": 265,
    "start_time": "2025-01-14T21:41:05.254Z"
   },
   {
    "duration": 242,
    "start_time": "2025-01-14T21:41:14.329Z"
   },
   {
    "duration": 231,
    "start_time": "2025-01-14T21:41:31.793Z"
   },
   {
    "duration": 385,
    "start_time": "2025-01-14T21:41:35.979Z"
   },
   {
    "duration": 239,
    "start_time": "2025-01-14T21:42:06.465Z"
   },
   {
    "duration": 246,
    "start_time": "2025-01-14T21:42:10.832Z"
   },
   {
    "duration": 285,
    "start_time": "2025-01-14T21:42:20.749Z"
   },
   {
    "duration": 261,
    "start_time": "2025-01-14T21:42:28.333Z"
   },
   {
    "duration": 242,
    "start_time": "2025-01-14T21:42:33.872Z"
   },
   {
    "duration": 223,
    "start_time": "2025-01-14T21:42:40.112Z"
   },
   {
    "duration": 3,
    "start_time": "2025-01-14T21:44:27.654Z"
   },
   {
    "duration": 225,
    "start_time": "2025-01-14T21:45:10.312Z"
   },
   {
    "duration": 3634,
    "start_time": "2025-01-14T23:29:49.938Z"
   },
   {
    "duration": 28,
    "start_time": "2025-01-14T23:29:53.575Z"
   },
   {
    "duration": 33,
    "start_time": "2025-01-14T23:29:53.605Z"
   },
   {
    "duration": 6,
    "start_time": "2025-01-14T23:29:53.639Z"
   },
   {
    "duration": 15,
    "start_time": "2025-01-14T23:29:53.650Z"
   },
   {
    "duration": 11,
    "start_time": "2025-01-14T23:29:53.666Z"
   },
   {
    "duration": 12,
    "start_time": "2025-01-14T23:29:53.679Z"
   },
   {
    "duration": 24,
    "start_time": "2025-01-14T23:29:53.693Z"
   },
   {
    "duration": 36,
    "start_time": "2025-01-14T23:29:53.719Z"
   },
   {
    "duration": 5,
    "start_time": "2025-01-14T23:29:53.757Z"
   },
   {
    "duration": 13,
    "start_time": "2025-01-14T23:29:53.764Z"
   },
   {
    "duration": 70,
    "start_time": "2025-01-14T23:29:53.779Z"
   },
   {
    "duration": 12,
    "start_time": "2025-01-14T23:29:53.853Z"
   },
   {
    "duration": 6,
    "start_time": "2025-01-14T23:29:53.870Z"
   },
   {
    "duration": 5,
    "start_time": "2025-01-14T23:29:53.877Z"
   },
   {
    "duration": 5,
    "start_time": "2025-01-14T23:29:53.883Z"
   },
   {
    "duration": 66,
    "start_time": "2025-01-14T23:29:53.890Z"
   },
   {
    "duration": 36,
    "start_time": "2025-01-14T23:29:53.961Z"
   },
   {
    "duration": 699,
    "start_time": "2025-01-14T23:29:53.999Z"
   },
   {
    "duration": 133,
    "start_time": "2025-01-14T23:29:54.700Z"
   },
   {
    "duration": 120,
    "start_time": "2025-01-14T23:29:54.835Z"
   },
   {
    "duration": 11,
    "start_time": "2025-01-14T23:29:54.957Z"
   },
   {
    "duration": 323,
    "start_time": "2025-01-14T23:29:54.971Z"
   },
   {
    "duration": 21,
    "start_time": "2025-01-14T23:29:55.296Z"
   },
   {
    "duration": 666,
    "start_time": "2025-01-14T23:29:55.325Z"
   },
   {
    "duration": 208,
    "start_time": "2025-01-14T23:29:55.993Z"
   },
   {
    "duration": 163,
    "start_time": "2025-01-14T23:29:56.204Z"
   },
   {
    "duration": 5,
    "start_time": "2025-01-14T23:29:56.368Z"
   },
   {
    "duration": 328,
    "start_time": "2025-01-14T23:29:56.375Z"
   },
   {
    "duration": 20,
    "start_time": "2025-01-14T23:29:56.709Z"
   },
   {
    "duration": 107,
    "start_time": "2025-01-14T23:29:56.733Z"
   },
   {
    "duration": 191,
    "start_time": "2025-01-14T23:29:56.843Z"
   },
   {
    "duration": 125,
    "start_time": "2025-01-14T23:29:57.035Z"
   },
   {
    "duration": 5,
    "start_time": "2025-01-14T23:29:57.165Z"
   },
   {
    "duration": 326,
    "start_time": "2025-01-14T23:29:57.172Z"
   },
   {
    "duration": 9,
    "start_time": "2025-01-14T23:29:57.500Z"
   },
   {
    "duration": 136,
    "start_time": "2025-01-14T23:29:57.513Z"
   },
   {
    "duration": 2,
    "start_time": "2025-01-14T23:29:57.651Z"
   },
   {
    "duration": 23,
    "start_time": "2025-01-14T23:29:57.655Z"
   },
   {
    "duration": 262,
    "start_time": "2025-01-14T23:29:57.679Z"
   },
   {
    "duration": 308,
    "start_time": "2025-01-14T23:29:57.949Z"
   },
   {
    "duration": 505,
    "start_time": "2025-01-14T23:29:58.261Z"
   },
   {
    "duration": 18,
    "start_time": "2025-01-14T23:30:46.856Z"
   },
   {
    "duration": 18,
    "start_time": "2025-01-14T23:32:16.152Z"
   },
   {
    "duration": 228,
    "start_time": "2025-01-14T23:32:22.438Z"
   },
   {
    "duration": 180,
    "start_time": "2025-01-14T23:32:34.275Z"
   },
   {
    "duration": 6,
    "start_time": "2025-01-14T23:39:35.587Z"
   },
   {
    "duration": 4,
    "start_time": "2025-01-14T23:39:48.865Z"
   },
   {
    "duration": 111,
    "start_time": "2025-01-14T23:39:53.229Z"
   },
   {
    "duration": 44,
    "start_time": "2025-01-14T23:40:27.015Z"
   },
   {
    "duration": 14,
    "start_time": "2025-01-14T23:40:57.491Z"
   },
   {
    "duration": 46,
    "start_time": "2025-01-14T23:41:06.455Z"
   },
   {
    "duration": 46,
    "start_time": "2025-01-14T23:41:15.764Z"
   },
   {
    "duration": 71,
    "start_time": "2025-01-14T23:41:54.351Z"
   },
   {
    "duration": 84,
    "start_time": "2025-01-14T23:42:07.774Z"
   },
   {
    "duration": 178,
    "start_time": "2025-01-14T23:42:33.595Z"
   },
   {
    "duration": 17,
    "start_time": "2025-01-14T23:43:23.875Z"
   },
   {
    "duration": 32,
    "start_time": "2025-01-14T23:43:27.767Z"
   },
   {
    "duration": 4,
    "start_time": "2025-01-14T23:58:55.723Z"
   },
   {
    "duration": 20,
    "start_time": "2025-01-14T23:59:26.354Z"
   },
   {
    "duration": 171,
    "start_time": "2025-01-15T00:28:18.926Z"
   },
   {
    "duration": 268,
    "start_time": "2025-01-15T00:28:36.125Z"
   },
   {
    "duration": 16,
    "start_time": "2025-01-15T00:30:10.374Z"
   },
   {
    "duration": 653,
    "start_time": "2025-01-15T00:31:52.027Z"
   },
   {
    "duration": 635,
    "start_time": "2025-01-15T00:31:58.513Z"
   },
   {
    "duration": 34,
    "start_time": "2025-01-15T00:34:06.540Z"
   },
   {
    "duration": 59,
    "start_time": "2025-01-15T00:34:13.649Z"
   },
   {
    "duration": 24105,
    "start_time": "2025-01-15T00:35:00.941Z"
   },
   {
    "duration": 5,
    "start_time": "2025-01-15T00:36:59.767Z"
   },
   {
    "duration": 37,
    "start_time": "2025-01-15T00:37:11.291Z"
   },
   {
    "duration": 39,
    "start_time": "2025-01-15T00:37:35.994Z"
   },
   {
    "duration": 5,
    "start_time": "2025-01-15T00:37:54.013Z"
   },
   {
    "duration": 38,
    "start_time": "2025-01-15T00:37:57.457Z"
   },
   {
    "duration": 39,
    "start_time": "2025-01-15T00:38:19.430Z"
   },
   {
    "duration": 40,
    "start_time": "2025-01-15T00:38:25.011Z"
   },
   {
    "duration": 40,
    "start_time": "2025-01-15T00:38:29.677Z"
   },
   {
    "duration": 4,
    "start_time": "2025-01-15T00:40:07.389Z"
   },
   {
    "duration": 79,
    "start_time": "2025-01-15T00:40:10.727Z"
   },
   {
    "duration": 28,
    "start_time": "2025-01-15T00:40:26.964Z"
   },
   {
    "duration": 39,
    "start_time": "2025-01-15T00:40:50.417Z"
   },
   {
    "duration": 40,
    "start_time": "2025-01-15T00:40:56.662Z"
   },
   {
    "duration": 46,
    "start_time": "2025-01-15T00:42:53.898Z"
   },
   {
    "duration": 39,
    "start_time": "2025-01-15T00:43:09.255Z"
   },
   {
    "duration": 4,
    "start_time": "2025-01-15T00:43:44.663Z"
   },
   {
    "duration": 40,
    "start_time": "2025-01-15T00:43:48.843Z"
   },
   {
    "duration": 1039,
    "start_time": "2025-01-15T00:43:59.533Z"
   },
   {
    "duration": 16,
    "start_time": "2025-01-15T00:44:00.574Z"
   },
   {
    "duration": 45,
    "start_time": "2025-01-15T00:44:00.592Z"
   },
   {
    "duration": 5,
    "start_time": "2025-01-15T00:44:00.639Z"
   },
   {
    "duration": 10,
    "start_time": "2025-01-15T00:44:00.647Z"
   },
   {
    "duration": 10,
    "start_time": "2025-01-15T00:44:00.658Z"
   },
   {
    "duration": 6,
    "start_time": "2025-01-15T00:44:00.669Z"
   },
   {
    "duration": 10,
    "start_time": "2025-01-15T00:44:00.677Z"
   },
   {
    "duration": 34,
    "start_time": "2025-01-15T00:44:00.709Z"
   },
   {
    "duration": 4,
    "start_time": "2025-01-15T00:44:00.745Z"
   },
   {
    "duration": 10,
    "start_time": "2025-01-15T00:44:00.751Z"
   },
   {
    "duration": 67,
    "start_time": "2025-01-15T00:44:00.762Z"
   },
   {
    "duration": 7,
    "start_time": "2025-01-15T00:44:00.833Z"
   },
   {
    "duration": 5,
    "start_time": "2025-01-15T00:44:00.843Z"
   },
   {
    "duration": 4,
    "start_time": "2025-01-15T00:44:00.850Z"
   },
   {
    "duration": 6,
    "start_time": "2025-01-15T00:44:00.856Z"
   },
   {
    "duration": 35,
    "start_time": "2025-01-15T00:44:00.863Z"
   },
   {
    "duration": 47,
    "start_time": "2025-01-15T00:44:00.899Z"
   },
   {
    "duration": 617,
    "start_time": "2025-01-15T00:44:00.947Z"
   },
   {
    "duration": 127,
    "start_time": "2025-01-15T00:44:01.566Z"
   },
   {
    "duration": 125,
    "start_time": "2025-01-15T00:44:01.695Z"
   },
   {
    "duration": 17,
    "start_time": "2025-01-15T00:44:01.821Z"
   },
   {
    "duration": 296,
    "start_time": "2025-01-15T00:44:01.839Z"
   },
   {
    "duration": 8,
    "start_time": "2025-01-15T00:44:02.136Z"
   },
   {
    "duration": 653,
    "start_time": "2025-01-15T00:44:02.146Z"
   },
   {
    "duration": 146,
    "start_time": "2025-01-15T00:44:02.801Z"
   },
   {
    "duration": 102,
    "start_time": "2025-01-15T00:44:02.949Z"
   },
   {
    "duration": 5,
    "start_time": "2025-01-15T00:44:03.052Z"
   },
   {
    "duration": 325,
    "start_time": "2025-01-15T00:44:03.059Z"
   },
   {
    "duration": 9,
    "start_time": "2025-01-15T00:44:03.386Z"
   },
   {
    "duration": 53,
    "start_time": "2025-01-15T00:44:03.396Z"
   },
   {
    "duration": 226,
    "start_time": "2025-01-15T00:44:03.451Z"
   },
   {
    "duration": 114,
    "start_time": "2025-01-15T00:44:03.679Z"
   },
   {
    "duration": 26,
    "start_time": "2025-01-15T00:44:03.794Z"
   },
   {
    "duration": 298,
    "start_time": "2025-01-15T00:44:03.832Z"
   },
   {
    "duration": 9,
    "start_time": "2025-01-15T00:44:04.133Z"
   },
   {
    "duration": 92,
    "start_time": "2025-01-15T00:44:04.144Z"
   },
   {
    "duration": 19,
    "start_time": "2025-01-15T00:44:04.238Z"
   },
   {
    "duration": 300,
    "start_time": "2025-01-15T00:44:04.258Z"
   },
   {
    "duration": 24,
    "start_time": "2025-01-15T00:44:04.560Z"
   },
   {
    "duration": 254,
    "start_time": "2025-01-15T00:44:04.588Z"
   },
   {
    "duration": 57,
    "start_time": "2025-01-15T00:44:04.845Z"
   },
   {
    "duration": 43,
    "start_time": "2025-01-15T00:44:04.905Z"
   },
   {
    "duration": 380,
    "start_time": "2025-01-15T00:44:04.950Z"
   },
   {
    "duration": 0,
    "start_time": "2025-01-15T00:44:05.331Z"
   },
   {
    "duration": 0,
    "start_time": "2025-01-15T00:44:05.332Z"
   },
   {
    "duration": 0,
    "start_time": "2025-01-15T00:44:05.333Z"
   },
   {
    "duration": 0,
    "start_time": "2025-01-15T00:44:05.334Z"
   },
   {
    "duration": 420,
    "start_time": "2025-01-15T00:44:18.252Z"
   },
   {
    "duration": 1247,
    "start_time": "2025-01-15T00:44:35.004Z"
   },
   {
    "duration": 3748,
    "start_time": "2025-01-15T00:44:43.630Z"
   },
   {
    "duration": 8718,
    "start_time": "2025-01-15T00:44:52.729Z"
   },
   {
    "duration": 5002,
    "start_time": "2025-01-15T00:45:11.663Z"
   },
   {
    "duration": 2497,
    "start_time": "2025-01-15T00:45:26.662Z"
   },
   {
    "duration": 3815,
    "start_time": "2025-01-15T00:45:37.359Z"
   },
   {
    "duration": 16729,
    "start_time": "2025-01-15T00:45:50.744Z"
   },
   {
    "duration": 435,
    "start_time": "2025-01-15T00:46:17.956Z"
   },
   {
    "duration": 6307,
    "start_time": "2025-01-15T00:46:30.854Z"
   },
   {
    "duration": 6940,
    "start_time": "2025-01-15T00:46:43.716Z"
   },
   {
    "duration": 7,
    "start_time": "2025-01-15T00:49:42.628Z"
   },
   {
    "duration": 22,
    "start_time": "2025-01-15T00:50:29.918Z"
   },
   {
    "duration": 3,
    "start_time": "2025-01-15T00:50:37.269Z"
   },
   {
    "duration": 25,
    "start_time": "2025-01-15T00:51:16.055Z"
   },
   {
    "duration": 37,
    "start_time": "2025-01-15T00:51:35.887Z"
   },
   {
    "duration": 3,
    "start_time": "2025-01-15T01:44:06.543Z"
   },
   {
    "duration": 13,
    "start_time": "2025-01-15T01:44:43.571Z"
   },
   {
    "duration": 16,
    "start_time": "2025-01-15T01:44:59.542Z"
   },
   {
    "duration": 2,
    "start_time": "2025-01-15T01:46:52.754Z"
   },
   {
    "duration": 4,
    "start_time": "2025-01-15T01:47:00.916Z"
   },
   {
    "duration": 14,
    "start_time": "2025-01-15T01:47:14.500Z"
   },
   {
    "duration": 13,
    "start_time": "2025-01-15T01:47:20.583Z"
   },
   {
    "duration": 4,
    "start_time": "2025-01-15T01:49:02.984Z"
   },
   {
    "duration": 16,
    "start_time": "2025-01-15T01:49:06.190Z"
   },
   {
    "duration": 6,
    "start_time": "2025-01-15T01:49:09.462Z"
   },
   {
    "duration": 2699,
    "start_time": "2025-01-15T16:42:31.433Z"
   },
   {
    "duration": 27,
    "start_time": "2025-01-15T16:42:34.135Z"
   },
   {
    "duration": 19,
    "start_time": "2025-01-15T16:42:34.164Z"
   },
   {
    "duration": 6,
    "start_time": "2025-01-15T16:42:34.184Z"
   },
   {
    "duration": 10,
    "start_time": "2025-01-15T16:42:34.192Z"
   },
   {
    "duration": 10,
    "start_time": "2025-01-15T16:42:34.204Z"
   },
   {
    "duration": 5,
    "start_time": "2025-01-15T16:42:34.216Z"
   },
   {
    "duration": 52,
    "start_time": "2025-01-15T16:42:34.223Z"
   },
   {
    "duration": 16,
    "start_time": "2025-01-15T16:42:34.276Z"
   },
   {
    "duration": 4,
    "start_time": "2025-01-15T16:42:34.293Z"
   },
   {
    "duration": 10,
    "start_time": "2025-01-15T16:42:34.299Z"
   },
   {
    "duration": 69,
    "start_time": "2025-01-15T16:42:34.310Z"
   },
   {
    "duration": 7,
    "start_time": "2025-01-15T16:42:34.380Z"
   },
   {
    "duration": 6,
    "start_time": "2025-01-15T16:42:34.390Z"
   },
   {
    "duration": 5,
    "start_time": "2025-01-15T16:42:34.397Z"
   },
   {
    "duration": 5,
    "start_time": "2025-01-15T16:42:34.404Z"
   },
   {
    "duration": 66,
    "start_time": "2025-01-15T16:42:34.411Z"
   },
   {
    "duration": 35,
    "start_time": "2025-01-15T16:42:34.479Z"
   },
   {
    "duration": 601,
    "start_time": "2025-01-15T16:42:34.515Z"
   },
   {
    "duration": 114,
    "start_time": "2025-01-15T16:42:35.118Z"
   },
   {
    "duration": 100,
    "start_time": "2025-01-15T16:42:35.234Z"
   },
   {
    "duration": 5,
    "start_time": "2025-01-15T16:42:35.336Z"
   },
   {
    "duration": 351,
    "start_time": "2025-01-15T16:42:35.344Z"
   },
   {
    "duration": 8,
    "start_time": "2025-01-15T16:42:35.697Z"
   },
   {
    "duration": 615,
    "start_time": "2025-01-15T16:42:35.706Z"
   },
   {
    "duration": 177,
    "start_time": "2025-01-15T16:42:36.323Z"
   },
   {
    "duration": 129,
    "start_time": "2025-01-15T16:42:36.502Z"
   },
   {
    "duration": 4,
    "start_time": "2025-01-15T16:42:36.633Z"
   },
   {
    "duration": 313,
    "start_time": "2025-01-15T16:42:36.639Z"
   },
   {
    "duration": 8,
    "start_time": "2025-01-15T16:42:36.954Z"
   },
   {
    "duration": 18,
    "start_time": "2025-01-15T16:42:36.971Z"
   },
   {
    "duration": 213,
    "start_time": "2025-01-15T16:42:36.994Z"
   },
   {
    "duration": 111,
    "start_time": "2025-01-15T16:42:37.209Z"
   },
   {
    "duration": 5,
    "start_time": "2025-01-15T16:42:37.321Z"
   },
   {
    "duration": 306,
    "start_time": "2025-01-15T16:42:37.328Z"
   },
   {
    "duration": 8,
    "start_time": "2025-01-15T16:42:37.637Z"
   },
   {
    "duration": 88,
    "start_time": "2025-01-15T16:42:37.648Z"
   },
   {
    "duration": 35,
    "start_time": "2025-01-15T16:42:37.740Z"
   },
   {
    "duration": 202,
    "start_time": "2025-01-15T16:42:37.777Z"
   },
   {
    "duration": 23,
    "start_time": "2025-01-15T16:42:37.981Z"
   },
   {
    "duration": 269,
    "start_time": "2025-01-15T16:42:38.009Z"
   },
   {
    "duration": 45,
    "start_time": "2025-01-15T16:42:38.280Z"
   },
   {
    "duration": 6,
    "start_time": "2025-01-15T16:42:38.327Z"
   },
   {
    "duration": 3,
    "start_time": "2025-01-15T16:42:38.335Z"
   },
   {
    "duration": 363,
    "start_time": "2025-01-15T16:42:38.340Z"
   },
   {
    "duration": 0,
    "start_time": "2025-01-15T16:42:38.705Z"
   },
   {
    "duration": 0,
    "start_time": "2025-01-15T16:42:38.707Z"
   },
   {
    "duration": 0,
    "start_time": "2025-01-15T16:42:38.708Z"
   },
   {
    "duration": 0,
    "start_time": "2025-01-15T16:42:38.710Z"
   },
   {
    "duration": 0,
    "start_time": "2025-01-15T16:42:38.711Z"
   },
   {
    "duration": 0,
    "start_time": "2025-01-15T16:42:38.712Z"
   },
   {
    "duration": 423,
    "start_time": "2025-01-15T17:15:21.190Z"
   },
   {
    "duration": 408,
    "start_time": "2025-01-15T17:15:41.007Z"
   },
   {
    "duration": 8547,
    "start_time": "2025-01-15T17:16:15.125Z"
   },
   {
    "duration": 497,
    "start_time": "2025-01-15T17:19:18.307Z"
   },
   {
    "duration": 5016,
    "start_time": "2025-01-15T17:19:32.701Z"
   },
   {
    "duration": 6705,
    "start_time": "2025-01-15T17:19:47.732Z"
   },
   {
    "duration": 5855,
    "start_time": "2025-01-15T17:20:02.755Z"
   },
   {
    "duration": 6739,
    "start_time": "2025-01-15T17:20:13.487Z"
   },
   {
    "duration": 17,
    "start_time": "2025-01-15T17:23:08.335Z"
   },
   {
    "duration": 85522,
    "start_time": "2025-01-15T17:23:13.194Z"
   },
   {
    "duration": 16441,
    "start_time": "2025-01-15T17:28:56.799Z"
   },
   {
    "duration": 8912,
    "start_time": "2025-01-15T17:29:27.526Z"
   },
   {
    "duration": 8090,
    "start_time": "2025-01-15T17:29:43.605Z"
   },
   {
    "duration": 7439,
    "start_time": "2025-01-15T17:31:58.358Z"
   },
   {
    "duration": 5965,
    "start_time": "2025-01-15T17:32:12.349Z"
   },
   {
    "duration": 8274,
    "start_time": "2025-01-15T17:32:30.961Z"
   },
   {
    "duration": 7538,
    "start_time": "2025-01-15T17:33:11.176Z"
   },
   {
    "duration": 6087,
    "start_time": "2025-01-15T17:33:23.905Z"
   },
   {
    "duration": 18717,
    "start_time": "2025-01-15T17:33:45.255Z"
   },
   {
    "duration": 5079,
    "start_time": "2025-01-15T17:34:14.737Z"
   },
   {
    "duration": 7812,
    "start_time": "2025-01-15T17:34:30.180Z"
   },
   {
    "duration": 14276,
    "start_time": "2025-01-15T17:34:44.302Z"
   },
   {
    "duration": 5600,
    "start_time": "2025-01-15T17:35:14.684Z"
   },
   {
    "duration": 18011,
    "start_time": "2025-01-15T17:35:40.433Z"
   },
   {
    "duration": 17459,
    "start_time": "2025-01-15T17:36:07.692Z"
   },
   {
    "duration": 7174,
    "start_time": "2025-01-15T17:37:55.154Z"
   },
   {
    "duration": 15136,
    "start_time": "2025-01-15T17:38:09.631Z"
   },
   {
    "duration": 14449,
    "start_time": "2025-01-15T17:38:32.342Z"
   },
   {
    "duration": 7079,
    "start_time": "2025-01-15T17:39:20.605Z"
   },
   {
    "duration": 29418,
    "start_time": "2025-01-15T17:39:38.372Z"
   },
   {
    "duration": 4,
    "start_time": "2025-01-15T17:46:43.304Z"
   },
   {
    "duration": 16,
    "start_time": "2025-01-15T17:49:29.274Z"
   },
   {
    "duration": 18,
    "start_time": "2025-01-15T17:49:34.598Z"
   },
   {
    "duration": 196805,
    "start_time": "2025-01-15T17:50:33.140Z"
   },
   {
    "duration": 141,
    "start_time": "2025-01-15T17:55:17.483Z"
   },
   {
    "duration": 4,
    "start_time": "2025-01-15T17:55:31.128Z"
   },
   {
    "duration": 79,
    "start_time": "2025-01-15T17:55:55.805Z"
   },
   {
    "duration": 43,
    "start_time": "2025-01-15T17:56:20.572Z"
   },
   {
    "duration": 195500,
    "start_time": "2025-01-15T17:57:05.226Z"
   },
   {
    "duration": 725,
    "start_time": "2025-01-15T18:04:06.072Z"
   },
   {
    "duration": 492,
    "start_time": "2025-01-15T18:07:23.340Z"
   },
   {
    "duration": 486,
    "start_time": "2025-01-15T18:14:43.826Z"
   },
   {
    "duration": 505,
    "start_time": "2025-01-15T18:15:16.459Z"
   },
   {
    "duration": 493,
    "start_time": "2025-01-15T18:15:54.751Z"
   },
   {
    "duration": 497,
    "start_time": "2025-01-15T18:18:31.476Z"
   },
   {
    "duration": 533,
    "start_time": "2025-01-15T18:19:26.896Z"
   },
   {
    "duration": 7577,
    "start_time": "2025-01-15T18:24:14.694Z"
   },
   {
    "duration": 11012,
    "start_time": "2025-01-15T18:24:51.664Z"
   },
   {
    "duration": 20,
    "start_time": "2025-01-15T18:26:10.245Z"
   },
   {
    "duration": 17,
    "start_time": "2025-01-15T18:26:24.366Z"
   },
   {
    "duration": 29,
    "start_time": "2025-01-15T18:28:03.358Z"
   },
   {
    "duration": 20,
    "start_time": "2025-01-15T18:28:12.361Z"
   },
   {
    "duration": 9,
    "start_time": "2025-01-15T18:35:31.078Z"
   },
   {
    "duration": 39,
    "start_time": "2025-01-15T18:39:07.918Z"
   },
   {
    "duration": 45,
    "start_time": "2025-01-15T18:39:49.831Z"
   },
   {
    "duration": 152,
    "start_time": "2025-01-15T18:39:58.240Z"
   },
   {
    "duration": 143,
    "start_time": "2025-01-15T18:40:32.066Z"
   },
   {
    "duration": 145,
    "start_time": "2025-01-15T18:40:39.203Z"
   },
   {
    "duration": 216,
    "start_time": "2025-01-15T18:41:13.431Z"
   },
   {
    "duration": 3,
    "start_time": "2025-01-15T19:44:03.526Z"
   },
   {
    "duration": 165,
    "start_time": "2025-01-15T19:45:12.575Z"
   },
   {
    "duration": 166,
    "start_time": "2025-01-15T19:45:19.949Z"
   },
   {
    "duration": 158,
    "start_time": "2025-01-16T00:31:20.425Z"
   },
   {
    "duration": 2734,
    "start_time": "2025-01-16T00:31:28.942Z"
   },
   {
    "duration": 28,
    "start_time": "2025-01-16T00:31:31.678Z"
   },
   {
    "duration": 20,
    "start_time": "2025-01-16T00:31:31.708Z"
   },
   {
    "duration": 6,
    "start_time": "2025-01-16T00:31:31.730Z"
   },
   {
    "duration": 12,
    "start_time": "2025-01-16T00:31:31.739Z"
   },
   {
    "duration": 34,
    "start_time": "2025-01-16T00:31:31.753Z"
   },
   {
    "duration": 7,
    "start_time": "2025-01-16T00:31:31.789Z"
   },
   {
    "duration": 10,
    "start_time": "2025-01-16T00:31:31.797Z"
   },
   {
    "duration": 14,
    "start_time": "2025-01-16T00:31:31.809Z"
   },
   {
    "duration": 4,
    "start_time": "2025-01-16T00:31:31.825Z"
   },
   {
    "duration": 10,
    "start_time": "2025-01-16T00:31:31.830Z"
   },
   {
    "duration": 75,
    "start_time": "2025-01-16T00:31:31.842Z"
   },
   {
    "duration": 6,
    "start_time": "2025-01-16T00:31:31.919Z"
   },
   {
    "duration": 5,
    "start_time": "2025-01-16T00:31:31.929Z"
   },
   {
    "duration": 5,
    "start_time": "2025-01-16T00:31:31.935Z"
   },
   {
    "duration": 7,
    "start_time": "2025-01-16T00:31:31.942Z"
   },
   {
    "duration": 61,
    "start_time": "2025-01-16T00:31:31.952Z"
   },
   {
    "duration": 32,
    "start_time": "2025-01-16T00:31:32.014Z"
   },
   {
    "duration": 599,
    "start_time": "2025-01-16T00:31:32.048Z"
   },
   {
    "duration": 108,
    "start_time": "2025-01-16T00:31:32.649Z"
   },
   {
    "duration": 103,
    "start_time": "2025-01-16T00:31:32.758Z"
   },
   {
    "duration": 5,
    "start_time": "2025-01-16T00:31:32.862Z"
   },
   {
    "duration": 361,
    "start_time": "2025-01-16T00:31:32.868Z"
   },
   {
    "duration": 7,
    "start_time": "2025-01-16T00:31:33.231Z"
   },
   {
    "duration": 637,
    "start_time": "2025-01-16T00:31:33.240Z"
   },
   {
    "duration": 118,
    "start_time": "2025-01-16T00:31:33.879Z"
   },
   {
    "duration": 109,
    "start_time": "2025-01-16T00:31:33.999Z"
   },
   {
    "duration": 5,
    "start_time": "2025-01-16T00:31:34.110Z"
   },
   {
    "duration": 292,
    "start_time": "2025-01-16T00:31:34.116Z"
   },
   {
    "duration": 9,
    "start_time": "2025-01-16T00:31:34.410Z"
   },
   {
    "duration": 66,
    "start_time": "2025-01-16T00:31:34.421Z"
   },
   {
    "duration": 234,
    "start_time": "2025-01-16T00:31:34.491Z"
   },
   {
    "duration": 107,
    "start_time": "2025-01-16T00:31:34.727Z"
   },
   {
    "duration": 4,
    "start_time": "2025-01-16T00:31:34.836Z"
   },
   {
    "duration": 291,
    "start_time": "2025-01-16T00:31:34.842Z"
   },
   {
    "duration": 8,
    "start_time": "2025-01-16T00:31:35.135Z"
   },
   {
    "duration": 91,
    "start_time": "2025-01-16T00:31:35.145Z"
   },
   {
    "duration": 18,
    "start_time": "2025-01-16T00:31:35.238Z"
   },
   {
    "duration": 229,
    "start_time": "2025-01-16T00:31:35.258Z"
   },
   {
    "duration": 22,
    "start_time": "2025-01-16T00:31:35.489Z"
   },
   {
    "duration": 274,
    "start_time": "2025-01-16T00:31:35.515Z"
   },
   {
    "duration": 42,
    "start_time": "2025-01-16T00:31:35.792Z"
   },
   {
    "duration": 5,
    "start_time": "2025-01-16T00:31:35.836Z"
   },
   {
    "duration": 531,
    "start_time": "2025-01-16T00:31:35.843Z"
   },
   {
    "duration": 6783,
    "start_time": "2025-01-16T00:31:36.375Z"
   },
   {
    "duration": 16507,
    "start_time": "2025-01-16T00:31:43.160Z"
   },
   {
    "duration": 8250,
    "start_time": "2025-01-16T00:31:59.669Z"
   },
   {
    "duration": 17494,
    "start_time": "2025-01-16T00:32:07.921Z"
   },
   {
    "duration": 5597,
    "start_time": "2025-01-16T00:32:25.417Z"
   },
   {
    "duration": 29702,
    "start_time": "2025-01-16T00:32:31.016Z"
   },
   {
    "duration": 195984,
    "start_time": "2025-01-16T00:33:00.719Z"
   },
   {
    "duration": 504,
    "start_time": "2025-01-16T00:36:16.704Z"
   },
   {
    "duration": 4379,
    "start_time": "2025-01-16T00:36:17.209Z"
   },
   {
    "duration": 10503,
    "start_time": "2025-01-16T00:36:21.590Z"
   },
   {
    "duration": 90,
    "start_time": "2025-01-16T00:36:32.099Z"
   },
   {
    "duration": 571,
    "start_time": "2025-01-16T00:36:32.194Z"
   },
   {
    "duration": 150,
    "start_time": "2025-01-16T00:36:32.767Z"
   },
   {
    "duration": 6,
    "start_time": "2025-01-16T00:38:46.748Z"
   },
   {
    "duration": 7,
    "start_time": "2025-01-16T00:38:56.534Z"
   },
   {
    "duration": 6,
    "start_time": "2025-01-16T00:39:05.143Z"
   },
   {
    "duration": 8,
    "start_time": "2025-01-16T00:39:10.215Z"
   },
   {
    "duration": 7,
    "start_time": "2025-01-16T00:39:20.476Z"
   },
   {
    "duration": 7,
    "start_time": "2025-01-16T00:39:25.607Z"
   },
   {
    "duration": 296,
    "start_time": "2025-01-16T00:40:30.185Z"
   },
   {
    "duration": 3,
    "start_time": "2025-01-16T00:40:43.133Z"
   },
   {
    "duration": 6,
    "start_time": "2025-01-16T00:41:15.862Z"
   },
   {
    "duration": 3,
    "start_time": "2025-01-16T00:42:23.449Z"
   },
   {
    "duration": 3,
    "start_time": "2025-01-16T00:43:23.850Z"
   },
   {
    "duration": 3,
    "start_time": "2025-01-16T00:43:27.450Z"
   },
   {
    "duration": 565,
    "start_time": "2025-01-16T00:45:20.948Z"
   },
   {
    "duration": 573,
    "start_time": "2025-01-16T00:46:27.998Z"
   },
   {
    "duration": 566,
    "start_time": "2025-01-16T00:46:37.142Z"
   },
   {
    "duration": 590,
    "start_time": "2025-01-16T00:47:12.006Z"
   },
   {
    "duration": 15,
    "start_time": "2025-01-16T00:57:18.005Z"
   },
   {
    "duration": 4,
    "start_time": "2025-01-16T00:57:26.020Z"
   },
   {
    "duration": 4,
    "start_time": "2025-01-16T00:58:41.707Z"
   },
   {
    "duration": 4,
    "start_time": "2025-01-16T00:58:44.676Z"
   },
   {
    "duration": 176,
    "start_time": "2025-01-16T01:02:49.167Z"
   },
   {
    "duration": 10,
    "start_time": "2025-01-16T01:04:40.989Z"
   },
   {
    "duration": 993,
    "start_time": "2025-01-16T01:05:56.249Z"
   },
   {
    "duration": 19,
    "start_time": "2025-01-16T01:05:57.244Z"
   },
   {
    "duration": 23,
    "start_time": "2025-01-16T01:05:57.265Z"
   },
   {
    "duration": 5,
    "start_time": "2025-01-16T01:05:57.291Z"
   },
   {
    "duration": 9,
    "start_time": "2025-01-16T01:05:57.298Z"
   },
   {
    "duration": 11,
    "start_time": "2025-01-16T01:05:57.309Z"
   },
   {
    "duration": 6,
    "start_time": "2025-01-16T01:05:57.322Z"
   },
   {
    "duration": 9,
    "start_time": "2025-01-16T01:05:57.330Z"
   },
   {
    "duration": 15,
    "start_time": "2025-01-16T01:05:57.386Z"
   },
   {
    "duration": 4,
    "start_time": "2025-01-16T01:05:57.404Z"
   },
   {
    "duration": 10,
    "start_time": "2025-01-16T01:05:57.410Z"
   },
   {
    "duration": 69,
    "start_time": "2025-01-16T01:05:57.422Z"
   },
   {
    "duration": 7,
    "start_time": "2025-01-16T01:05:57.493Z"
   },
   {
    "duration": 5,
    "start_time": "2025-01-16T01:05:57.501Z"
   },
   {
    "duration": 6,
    "start_time": "2025-01-16T01:05:57.507Z"
   },
   {
    "duration": 5,
    "start_time": "2025-01-16T01:05:57.514Z"
   },
   {
    "duration": 36,
    "start_time": "2025-01-16T01:05:57.520Z"
   },
   {
    "duration": 31,
    "start_time": "2025-01-16T01:05:57.586Z"
   },
   {
    "duration": 595,
    "start_time": "2025-01-16T01:05:57.619Z"
   },
   {
    "duration": 110,
    "start_time": "2025-01-16T01:05:58.216Z"
   },
   {
    "duration": 101,
    "start_time": "2025-01-16T01:05:58.328Z"
   },
   {
    "duration": 5,
    "start_time": "2025-01-16T01:05:58.431Z"
   },
   {
    "duration": 300,
    "start_time": "2025-01-16T01:05:58.437Z"
   },
   {
    "duration": 7,
    "start_time": "2025-01-16T01:05:58.739Z"
   },
   {
    "duration": 624,
    "start_time": "2025-01-16T01:05:58.747Z"
   },
   {
    "duration": 106,
    "start_time": "2025-01-16T01:05:59.373Z"
   },
   {
    "duration": 103,
    "start_time": "2025-01-16T01:05:59.487Z"
   },
   {
    "duration": 4,
    "start_time": "2025-01-16T01:05:59.595Z"
   },
   {
    "duration": 306,
    "start_time": "2025-01-16T01:05:59.601Z"
   },
   {
    "duration": 9,
    "start_time": "2025-01-16T01:05:59.909Z"
   },
   {
    "duration": 70,
    "start_time": "2025-01-16T01:05:59.919Z"
   },
   {
    "duration": 169,
    "start_time": "2025-01-16T01:05:59.991Z"
   },
   {
    "duration": 133,
    "start_time": "2025-01-16T01:06:00.162Z"
   },
   {
    "duration": 5,
    "start_time": "2025-01-16T01:06:00.297Z"
   },
   {
    "duration": 299,
    "start_time": "2025-01-16T01:06:00.303Z"
   },
   {
    "duration": 7,
    "start_time": "2025-01-16T01:06:00.604Z"
   },
   {
    "duration": 94,
    "start_time": "2025-01-16T01:06:00.613Z"
   },
   {
    "duration": 18,
    "start_time": "2025-01-16T01:06:00.709Z"
   },
   {
    "duration": 293,
    "start_time": "2025-01-16T01:06:00.730Z"
   },
   {
    "duration": 26,
    "start_time": "2025-01-16T01:06:01.026Z"
   },
   {
    "duration": 234,
    "start_time": "2025-01-16T01:06:01.054Z"
   },
   {
    "duration": 43,
    "start_time": "2025-01-16T01:06:01.290Z"
   },
   {
    "duration": 9,
    "start_time": "2025-01-16T01:06:01.335Z"
   },
   {
    "duration": 535,
    "start_time": "2025-01-16T01:06:01.346Z"
   },
   {
    "duration": 6777,
    "start_time": "2025-01-16T01:06:01.886Z"
   },
   {
    "duration": 16509,
    "start_time": "2025-01-16T01:06:08.665Z"
   },
   {
    "duration": 8136,
    "start_time": "2025-01-16T01:06:25.176Z"
   },
   {
    "duration": 17463,
    "start_time": "2025-01-16T01:06:33.314Z"
   },
   {
    "duration": 5597,
    "start_time": "2025-01-16T01:06:50.779Z"
   },
   {
    "duration": 29524,
    "start_time": "2025-01-16T01:06:56.378Z"
   },
   {
    "duration": 198724,
    "start_time": "2025-01-16T01:07:25.904Z"
   },
   {
    "duration": 510,
    "start_time": "2025-01-16T01:10:44.629Z"
   },
   {
    "duration": 4462,
    "start_time": "2025-01-16T01:10:45.141Z"
   },
   {
    "duration": 10794,
    "start_time": "2025-01-16T01:10:49.607Z"
   },
   {
    "duration": 90,
    "start_time": "2025-01-16T01:11:00.403Z"
   },
   {
    "duration": 584,
    "start_time": "2025-01-16T01:11:00.499Z"
   },
   {
    "duration": 150,
    "start_time": "2025-01-16T01:11:01.085Z"
   },
   {
    "duration": 156,
    "start_time": "2025-01-16T16:30:16.985Z"
   },
   {
    "duration": 2669,
    "start_time": "2025-01-16T16:30:22.187Z"
   },
   {
    "duration": 27,
    "start_time": "2025-01-16T16:30:24.859Z"
   },
   {
    "duration": 20,
    "start_time": "2025-01-16T16:30:24.888Z"
   },
   {
    "duration": 6,
    "start_time": "2025-01-16T16:30:24.910Z"
   },
   {
    "duration": 11,
    "start_time": "2025-01-16T16:30:24.919Z"
   },
   {
    "duration": 11,
    "start_time": "2025-01-16T16:30:24.932Z"
   },
   {
    "duration": 5,
    "start_time": "2025-01-16T16:30:24.944Z"
   },
   {
    "duration": 10,
    "start_time": "2025-01-16T16:30:24.951Z"
   },
   {
    "duration": 58,
    "start_time": "2025-01-16T16:30:24.962Z"
   },
   {
    "duration": 5,
    "start_time": "2025-01-16T16:30:25.022Z"
   },
   {
    "duration": 10,
    "start_time": "2025-01-16T16:30:25.029Z"
   },
   {
    "duration": 40,
    "start_time": "2025-01-16T16:30:25.040Z"
   },
   {
    "duration": 33,
    "start_time": "2025-01-16T16:30:25.081Z"
   },
   {
    "duration": 5,
    "start_time": "2025-01-16T16:30:25.120Z"
   },
   {
    "duration": 6,
    "start_time": "2025-01-16T16:30:25.126Z"
   },
   {
    "duration": 5,
    "start_time": "2025-01-16T16:30:25.134Z"
   },
   {
    "duration": 36,
    "start_time": "2025-01-16T16:30:25.141Z"
   },
   {
    "duration": 59,
    "start_time": "2025-01-16T16:30:25.179Z"
   },
   {
    "duration": 593,
    "start_time": "2025-01-16T16:30:25.239Z"
   },
   {
    "duration": 110,
    "start_time": "2025-01-16T16:30:25.834Z"
   },
   {
    "duration": 100,
    "start_time": "2025-01-16T16:30:25.945Z"
   },
   {
    "duration": 5,
    "start_time": "2025-01-16T16:30:26.046Z"
   },
   {
    "duration": 292,
    "start_time": "2025-01-16T16:30:26.052Z"
   },
   {
    "duration": 15,
    "start_time": "2025-01-16T16:30:26.346Z"
   },
   {
    "duration": 609,
    "start_time": "2025-01-16T16:30:26.363Z"
   },
   {
    "duration": 167,
    "start_time": "2025-01-16T16:30:26.974Z"
   },
   {
    "duration": 103,
    "start_time": "2025-01-16T16:30:27.143Z"
   },
   {
    "duration": 5,
    "start_time": "2025-01-16T16:30:27.248Z"
   },
   {
    "duration": 318,
    "start_time": "2025-01-16T16:30:27.255Z"
   },
   {
    "duration": 9,
    "start_time": "2025-01-16T16:30:27.575Z"
   },
   {
    "duration": 48,
    "start_time": "2025-01-16T16:30:27.586Z"
   },
   {
    "duration": 227,
    "start_time": "2025-01-16T16:30:27.636Z"
   },
   {
    "duration": 105,
    "start_time": "2025-01-16T16:30:27.865Z"
   },
   {
    "duration": 4,
    "start_time": "2025-01-16T16:30:27.972Z"
   },
   {
    "duration": 314,
    "start_time": "2025-01-16T16:30:27.978Z"
   },
   {
    "duration": 8,
    "start_time": "2025-01-16T16:30:28.294Z"
   },
   {
    "duration": 77,
    "start_time": "2025-01-16T16:30:28.304Z"
   },
   {
    "duration": 37,
    "start_time": "2025-01-16T16:30:28.383Z"
   },
   {
    "duration": 209,
    "start_time": "2025-01-16T16:30:28.423Z"
   },
   {
    "duration": 22,
    "start_time": "2025-01-16T16:30:28.634Z"
   },
   {
    "duration": 255,
    "start_time": "2025-01-16T16:30:28.660Z"
   },
   {
    "duration": 42,
    "start_time": "2025-01-16T16:30:28.917Z"
   },
   {
    "duration": 513,
    "start_time": "2025-01-16T16:30:28.960Z"
   },
   {
    "duration": 6733,
    "start_time": "2025-01-16T16:30:29.474Z"
   },
   {
    "duration": 16336,
    "start_time": "2025-01-16T16:30:36.209Z"
   },
   {
    "duration": 8111,
    "start_time": "2025-01-16T16:30:52.547Z"
   },
   {
    "duration": 17313,
    "start_time": "2025-01-16T16:31:00.660Z"
   },
   {
    "duration": 5595,
    "start_time": "2025-01-16T16:31:17.975Z"
   },
   {
    "duration": 29319,
    "start_time": "2025-01-16T16:31:23.572Z"
   },
   {
    "duration": 195003,
    "start_time": "2025-01-16T16:31:52.893Z"
   },
   {
    "duration": 499,
    "start_time": "2025-01-16T16:35:07.898Z"
   },
   {
    "duration": 4723,
    "start_time": "2025-01-16T16:35:08.399Z"
   },
   {
    "duration": 10391,
    "start_time": "2025-01-16T16:35:13.127Z"
   },
   {
    "duration": 93,
    "start_time": "2025-01-16T16:35:23.523Z"
   },
   {
    "duration": 569,
    "start_time": "2025-01-16T16:35:23.620Z"
   },
   {
    "duration": 149,
    "start_time": "2025-01-16T16:35:24.190Z"
   },
   {
    "duration": 195307,
    "start_time": "2025-01-16T16:43:39.870Z"
   },
   {
    "duration": 4,
    "start_time": "2025-01-16T16:54:46.288Z"
   },
   {
    "duration": 335,
    "start_time": "2025-01-16T16:55:17.978Z"
   },
   {
    "duration": 4,
    "start_time": "2025-01-16T16:56:11.379Z"
   },
   {
    "duration": 3,
    "start_time": "2025-01-16T17:09:46.558Z"
   },
   {
    "duration": 16,
    "start_time": "2025-01-16T17:10:28.482Z"
   },
   {
    "duration": 195022,
    "start_time": "2025-01-16T17:10:39.917Z"
   },
   {
    "duration": 195128,
    "start_time": "2025-01-16T17:22:02.364Z"
   },
   {
    "duration": 4,
    "start_time": "2025-01-16T17:26:58.737Z"
   },
   {
    "duration": 195655,
    "start_time": "2025-01-16T17:27:03.481Z"
   },
   {
    "duration": 4,
    "start_time": "2025-01-16T17:47:08.594Z"
   },
   {
    "duration": 197724,
    "start_time": "2025-01-16T17:47:27.075Z"
   },
   {
    "duration": 0,
    "start_time": "2025-01-16T17:50:44.800Z"
   },
   {
    "duration": 196123,
    "start_time": "2025-01-16T17:55:01.891Z"
   },
   {
    "duration": 196299,
    "start_time": "2025-01-16T17:58:26.257Z"
   },
   {
    "duration": 11,
    "start_time": "2025-01-16T18:02:38.835Z"
   },
   {
    "duration": 195457,
    "start_time": "2025-01-16T18:09:19.414Z"
   },
   {
    "duration": 14,
    "start_time": "2025-01-16T18:12:45.318Z"
   },
   {
    "duration": 4370,
    "start_time": "2025-01-16T18:14:41.160Z"
   },
   {
    "duration": 4505,
    "start_time": "2025-01-16T18:18:21.208Z"
   },
   {
    "duration": 4509,
    "start_time": "2025-01-16T18:18:57.203Z"
   },
   {
    "duration": 10720,
    "start_time": "2025-01-16T18:19:14.604Z"
   },
   {
    "duration": 4589,
    "start_time": "2025-01-16T18:19:25.327Z"
   },
   {
    "duration": 10594,
    "start_time": "2025-01-16T18:19:29.921Z"
   },
   {
    "duration": 5,
    "start_time": "2025-01-16T18:20:53.077Z"
   },
   {
    "duration": 1517,
    "start_time": "2025-01-16T18:22:32.170Z"
   },
   {
    "duration": 45,
    "start_time": "2025-01-16T18:22:48.549Z"
   },
   {
    "duration": 1613,
    "start_time": "2025-01-16T18:23:03.060Z"
   },
   {
    "duration": 1318,
    "start_time": "2025-01-16T18:26:01.423Z"
   },
   {
    "duration": 1323,
    "start_time": "2025-01-16T18:27:19.318Z"
   },
   {
    "duration": 1331,
    "start_time": "2025-01-16T18:27:32.952Z"
   },
   {
    "duration": 1398,
    "start_time": "2025-01-16T18:27:44.816Z"
   },
   {
    "duration": 1316,
    "start_time": "2025-01-16T18:28:01.305Z"
   },
   {
    "duration": 1408,
    "start_time": "2025-01-16T18:28:12.234Z"
   },
   {
    "duration": 6,
    "start_time": "2025-01-16T18:28:46.579Z"
   },
   {
    "duration": 1319,
    "start_time": "2025-01-16T18:28:55.524Z"
   },
   {
    "duration": 1337,
    "start_time": "2025-01-16T18:29:34.736Z"
   },
   {
    "duration": 1323,
    "start_time": "2025-01-16T18:29:50.982Z"
   },
   {
    "duration": 1346,
    "start_time": "2025-01-16T18:30:37.734Z"
   },
   {
    "duration": 13,
    "start_time": "2025-01-16T18:35:23.119Z"
   },
   {
    "duration": 219,
    "start_time": "2025-01-16T18:37:52.461Z"
   },
   {
    "duration": 212,
    "start_time": "2025-01-16T18:38:20.370Z"
   },
   {
    "duration": 226,
    "start_time": "2025-01-16T18:38:35.213Z"
   },
   {
    "duration": 203,
    "start_time": "2025-01-16T18:38:46.686Z"
   },
   {
    "duration": 195,
    "start_time": "2025-01-16T18:40:10.368Z"
   },
   {
    "duration": 345,
    "start_time": "2025-01-16T18:45:03.475Z"
   },
   {
    "duration": 246,
    "start_time": "2025-01-16T18:45:25.669Z"
   },
   {
    "duration": 233,
    "start_time": "2025-01-16T18:45:36.444Z"
   },
   {
    "duration": 156,
    "start_time": "2025-01-16T18:49:31.160Z"
   },
   {
    "duration": 145,
    "start_time": "2025-01-16T18:49:47.230Z"
   },
   {
    "duration": 132,
    "start_time": "2025-01-16T18:50:00.600Z"
   },
   {
    "duration": 988,
    "start_time": "2025-01-16T18:53:59.993Z"
   },
   {
    "duration": 16,
    "start_time": "2025-01-16T18:54:00.983Z"
   },
   {
    "duration": 23,
    "start_time": "2025-01-16T18:54:01.001Z"
   },
   {
    "duration": 5,
    "start_time": "2025-01-16T18:54:01.026Z"
   },
   {
    "duration": 614,
    "start_time": "2025-01-16T18:54:01.033Z"
   },
   {
    "duration": 218,
    "start_time": "2025-01-16T18:54:01.649Z"
   },
   {
    "duration": 190,
    "start_time": "2025-01-16T18:54:01.869Z"
   },
   {
    "duration": 135,
    "start_time": "2025-01-16T18:54:02.061Z"
   },
   {
    "duration": 18,
    "start_time": "2025-01-16T18:54:02.198Z"
   },
   {
    "duration": 15,
    "start_time": "2025-01-16T18:54:02.219Z"
   },
   {
    "duration": 5,
    "start_time": "2025-01-16T18:54:02.236Z"
   },
   {
    "duration": 10,
    "start_time": "2025-01-16T18:54:02.242Z"
   },
   {
    "duration": 63,
    "start_time": "2025-01-16T18:54:02.253Z"
   },
   {
    "duration": 7,
    "start_time": "2025-01-16T18:54:02.317Z"
   },
   {
    "duration": 5,
    "start_time": "2025-01-16T18:54:02.326Z"
   },
   {
    "duration": 6,
    "start_time": "2025-01-16T18:54:02.332Z"
   },
   {
    "duration": 6,
    "start_time": "2025-01-16T18:54:02.339Z"
   },
   {
    "duration": 35,
    "start_time": "2025-01-16T18:54:02.346Z"
   },
   {
    "duration": 32,
    "start_time": "2025-01-16T18:54:02.412Z"
   },
   {
    "duration": 596,
    "start_time": "2025-01-16T18:54:02.445Z"
   },
   {
    "duration": 98,
    "start_time": "2025-01-16T18:54:03.043Z"
   },
   {
    "duration": 97,
    "start_time": "2025-01-16T18:54:03.143Z"
   },
   {
    "duration": 6,
    "start_time": "2025-01-16T18:54:03.241Z"
   },
   {
    "duration": 315,
    "start_time": "2025-01-16T18:54:03.249Z"
   },
   {
    "duration": 8,
    "start_time": "2025-01-16T18:54:03.566Z"
   },
   {
    "duration": 630,
    "start_time": "2025-01-16T18:54:03.575Z"
   },
   {
    "duration": 108,
    "start_time": "2025-01-16T18:54:04.212Z"
   },
   {
    "duration": 166,
    "start_time": "2025-01-16T18:54:04.324Z"
   },
   {
    "duration": 4,
    "start_time": "2025-01-16T18:54:04.492Z"
   },
   {
    "duration": 328,
    "start_time": "2025-01-16T18:54:04.511Z"
   },
   {
    "duration": 9,
    "start_time": "2025-01-16T18:54:04.841Z"
   },
   {
    "duration": 66,
    "start_time": "2025-01-16T18:54:04.852Z"
   },
   {
    "duration": 202,
    "start_time": "2025-01-16T18:54:04.919Z"
   },
   {
    "duration": 106,
    "start_time": "2025-01-16T18:54:05.125Z"
   },
   {
    "duration": 5,
    "start_time": "2025-01-16T18:54:05.233Z"
   },
   {
    "duration": 294,
    "start_time": "2025-01-16T18:54:05.240Z"
   },
   {
    "duration": 7,
    "start_time": "2025-01-16T18:54:05.536Z"
   },
   {
    "duration": 92,
    "start_time": "2025-01-16T18:54:05.545Z"
   },
   {
    "duration": 18,
    "start_time": "2025-01-16T18:54:05.639Z"
   },
   {
    "duration": 209,
    "start_time": "2025-01-16T18:54:05.659Z"
   },
   {
    "duration": 24,
    "start_time": "2025-01-16T18:54:05.870Z"
   },
   {
    "duration": 226,
    "start_time": "2025-01-16T18:54:05.896Z"
   },
   {
    "duration": 47,
    "start_time": "2025-01-16T18:54:06.124Z"
   },
   {
    "duration": 512,
    "start_time": "2025-01-16T18:54:06.174Z"
   },
   {
    "duration": 6725,
    "start_time": "2025-01-16T18:54:06.688Z"
   },
   {
    "duration": 16550,
    "start_time": "2025-01-16T18:54:13.416Z"
   },
   {
    "duration": 8135,
    "start_time": "2025-01-16T18:54:29.968Z"
   },
   {
    "duration": 17518,
    "start_time": "2025-01-16T18:54:38.105Z"
   },
   {
    "duration": 5637,
    "start_time": "2025-01-16T18:54:55.626Z"
   },
   {
    "duration": 29371,
    "start_time": "2025-01-16T18:55:01.265Z"
   },
   {
    "duration": 194861,
    "start_time": "2025-01-16T18:55:30.637Z"
   },
   {
    "duration": 505,
    "start_time": "2025-01-16T18:58:45.500Z"
   },
   {
    "duration": 4317,
    "start_time": "2025-01-16T18:58:46.007Z"
   },
   {
    "duration": 10606,
    "start_time": "2025-01-16T18:58:50.326Z"
   },
   {
    "duration": 14,
    "start_time": "2025-01-16T18:59:01.011Z"
   },
   {
    "duration": 600,
    "start_time": "2025-01-16T18:59:01.027Z"
   },
   {
    "duration": 167,
    "start_time": "2025-01-16T18:59:01.629Z"
   },
   {
    "duration": 3,
    "start_time": "2025-01-16T19:56:20.951Z"
   },
   {
    "duration": 483,
    "start_time": "2025-01-16T19:56:42.140Z"
   },
   {
    "duration": 7,
    "start_time": "2025-01-16T19:56:45.857Z"
   },
   {
    "duration": 3,
    "start_time": "2025-01-16T19:56:54.937Z"
   },
   {
    "duration": 3,
    "start_time": "2025-01-16T19:57:10.377Z"
   },
   {
    "duration": 2890,
    "start_time": "2025-01-17T17:13:59.107Z"
   },
   {
    "duration": 32,
    "start_time": "2025-01-17T17:14:01.999Z"
   },
   {
    "duration": 20,
    "start_time": "2025-01-17T17:14:02.033Z"
   },
   {
    "duration": 6,
    "start_time": "2025-01-17T17:14:02.055Z"
   },
   {
    "duration": 654,
    "start_time": "2025-01-17T17:14:02.062Z"
   },
   {
    "duration": 221,
    "start_time": "2025-01-17T17:14:02.718Z"
   },
   {
    "duration": 276,
    "start_time": "2025-01-17T17:14:02.941Z"
   },
   {
    "duration": 147,
    "start_time": "2025-01-17T17:14:03.219Z"
   },
   {
    "duration": 10,
    "start_time": "2025-01-17T17:14:03.368Z"
   },
   {
    "duration": 32,
    "start_time": "2025-01-17T17:14:03.382Z"
   },
   {
    "duration": 6,
    "start_time": "2025-01-17T17:14:03.416Z"
   },
   {
    "duration": 12,
    "start_time": "2025-01-17T17:14:03.425Z"
   },
   {
    "duration": 67,
    "start_time": "2025-01-17T17:14:03.439Z"
   },
   {
    "duration": 8,
    "start_time": "2025-01-17T17:14:03.508Z"
   },
   {
    "duration": 5,
    "start_time": "2025-01-17T17:14:03.517Z"
   },
   {
    "duration": 5,
    "start_time": "2025-01-17T17:14:03.524Z"
   },
   {
    "duration": 5,
    "start_time": "2025-01-17T17:14:03.530Z"
   },
   {
    "duration": 69,
    "start_time": "2025-01-17T17:14:03.537Z"
   },
   {
    "duration": 34,
    "start_time": "2025-01-17T17:14:03.608Z"
   },
   {
    "duration": 599,
    "start_time": "2025-01-17T17:14:03.643Z"
   },
   {
    "duration": 104,
    "start_time": "2025-01-17T17:14:04.244Z"
   },
   {
    "duration": 107,
    "start_time": "2025-01-17T17:14:04.350Z"
   },
   {
    "duration": 5,
    "start_time": "2025-01-17T17:14:04.459Z"
   },
   {
    "duration": 341,
    "start_time": "2025-01-17T17:14:04.466Z"
   },
   {
    "duration": 8,
    "start_time": "2025-01-17T17:14:04.809Z"
   },
   {
    "duration": 624,
    "start_time": "2025-01-17T17:14:04.819Z"
   },
   {
    "duration": 114,
    "start_time": "2025-01-17T17:14:05.445Z"
   },
   {
    "duration": 111,
    "start_time": "2025-01-17T17:14:05.565Z"
   },
   {
    "duration": 5,
    "start_time": "2025-01-17T17:14:05.679Z"
   },
   {
    "duration": 327,
    "start_time": "2025-01-17T17:14:05.685Z"
   },
   {
    "duration": 10,
    "start_time": "2025-01-17T17:14:06.013Z"
   },
   {
    "duration": 20,
    "start_time": "2025-01-17T17:14:06.024Z"
   },
   {
    "duration": 234,
    "start_time": "2025-01-17T17:14:06.047Z"
   },
   {
    "duration": 112,
    "start_time": "2025-01-17T17:14:06.283Z"
   },
   {
    "duration": 9,
    "start_time": "2025-01-17T17:14:06.397Z"
   },
   {
    "duration": 321,
    "start_time": "2025-01-17T17:14:06.408Z"
   },
   {
    "duration": 9,
    "start_time": "2025-01-17T17:14:06.731Z"
   },
   {
    "duration": 97,
    "start_time": "2025-01-17T17:14:06.743Z"
   },
   {
    "duration": 21,
    "start_time": "2025-01-17T17:14:06.842Z"
   },
   {
    "duration": 216,
    "start_time": "2025-01-17T17:14:06.865Z"
   },
   {
    "duration": 24,
    "start_time": "2025-01-17T17:14:07.084Z"
   },
   {
    "duration": 348,
    "start_time": "2025-01-17T17:14:07.110Z"
   },
   {
    "duration": 51,
    "start_time": "2025-01-17T17:14:07.460Z"
   },
   {
    "duration": 525,
    "start_time": "2025-01-17T17:14:07.513Z"
   },
   {
    "duration": 6815,
    "start_time": "2025-01-17T17:14:08.040Z"
   },
   {
    "duration": 3,
    "start_time": "2025-01-17T17:14:14.858Z"
   },
   {
    "duration": 3,
    "start_time": "2025-01-17T17:14:14.863Z"
   },
   {
    "duration": 16574,
    "start_time": "2025-01-17T17:14:14.868Z"
   },
   {
    "duration": 8281,
    "start_time": "2025-01-17T17:14:31.445Z"
   },
   {
    "duration": 17955,
    "start_time": "2025-01-17T17:14:39.728Z"
   },
   {
    "duration": 5685,
    "start_time": "2025-01-17T17:14:57.686Z"
   },
   {
    "duration": 29903,
    "start_time": "2025-01-17T17:15:03.373Z"
   },
   {
    "duration": 198296,
    "start_time": "2025-01-17T17:15:33.278Z"
   },
   {
    "duration": 503,
    "start_time": "2025-01-17T17:18:51.576Z"
   },
   {
    "duration": 4947,
    "start_time": "2025-01-17T17:18:52.081Z"
   },
   {
    "duration": 11604,
    "start_time": "2025-01-17T17:18:57.106Z"
   },
   {
    "duration": 15,
    "start_time": "2025-01-17T17:19:08.712Z"
   },
   {
    "duration": 630,
    "start_time": "2025-01-17T17:19:08.731Z"
   },
   {
    "duration": 161,
    "start_time": "2025-01-17T17:19:09.363Z"
   }
  ],
  "kernelspec": {
   "display_name": "Python [conda env:base] *",
   "language": "python",
   "name": "conda-base-py"
  },
  "language_info": {
   "codemirror_mode": {
    "name": "ipython",
    "version": 3
   },
   "file_extension": ".py",
   "mimetype": "text/x-python",
   "name": "python",
   "nbconvert_exporter": "python",
   "pygments_lexer": "ipython3",
   "version": "3.12.3"
  },
  "toc": {
   "base_numbering": 1,
   "nav_menu": {},
   "number_sections": true,
   "sideBar": true,
   "skip_h1_title": true,
   "title_cell": "Table of Contents",
   "title_sidebar": "Contents",
   "toc_cell": false,
   "toc_position": {
    "height": "calc(100% - 180px)",
    "left": "10px",
    "top": "150px",
    "width": "215.6px"
   },
   "toc_section_display": true,
   "toc_window_display": true
  }
 },
 "nbformat": 4,
 "nbformat_minor": 4
}
